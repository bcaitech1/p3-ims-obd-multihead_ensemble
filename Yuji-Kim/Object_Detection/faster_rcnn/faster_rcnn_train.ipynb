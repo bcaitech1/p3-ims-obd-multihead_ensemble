{
 "cells": [
  {
   "cell_type": "code",
   "execution_count": 1,
   "metadata": {
    "pycharm": {
     "name": "#%%\n"
    }
   },
   "outputs": [],
   "source": [
    "from mmcv import Config\n",
    "from mmdet.datasets import build_dataset\n",
    "from mmdet.models import build_detector\n",
    "from mmdet.apis import train_detector\n",
    "from mmdet.datasets import (build_dataloader, build_dataset,\n",
    "                            replace_ImageToTensor)"
   ]
  },
  {
   "cell_type": "code",
   "execution_count": 8,
   "metadata": {
    "pycharm": {
     "name": "#%%\n"
    }
   },
   "outputs": [],
   "source": [
    "classes = (\"UNKNOWN\", \"General trash\", \"Paper\", \"Paper pack\", \"Metal\", \"Glass\", \n",
    "           \"Plastic\", \"Styrofoam\", \"Plastic bag\", \"Battery\", \"Clothing\")\n",
    "# config file 들고오기\n",
    "# cfg = Config.fromfile('./configs/faster_rcnn/faster_rcnn_r50_fpn_1x_coco.py')\n",
    "cfg = Config.fromfile('./configs/trash/faster_rcnn.py')\n",
    "\n",
    "PREFIX = '../../input/data/'\n",
    "\n",
    "\n",
    "# dataset 바꾸기\n",
    "cfg.data.train.classes = classes\n",
    "cfg.data.train.img_prefix = PREFIX\n",
    "cfg.data.train.ann_file = PREFIX + 'train.json'\n",
    "cfg.data.train.pipeline[2]['img_scale'] = (512, 512)\n",
    "\n",
    "cfg.data.val.classes = classes\n",
    "cfg.data.val.img_prefix = PREFIX\n",
    "cfg.data.val.ann_file = PREFIX + 'val.json'\n",
    "cfg.data.val.pipeline[1]['img_scale'] = (512, 512)\n",
    "\n",
    "cfg.data.test.classes = classes\n",
    "cfg.data.test.img_prefix = PREFIX\n",
    "cfg.data.test.ann_file = PREFIX + 'test.json'\n",
    "cfg.data.test.pipeline[1]['img_scale'] = (512, 512)\n",
    "\n",
    "cfg.data.samples_per_gpu = 16\n",
    "\n",
    "cfg.seed=2020\n",
    "cfg.gpu_ids = [0]\n",
    "cfg.work_dir = './work_dirs/faster_rcnn'\n",
    "# cfg.work_dir = './work_dirs/yolov3_d53_320_273e_trash'\n",
    "\n",
    "cfg.model.roi_head.bbox_head.num_classes = 11\n",
    "# cfg.model.bbox_head.num_classes = 11\n",
    "\n",
    "\n",
    "cfg.optimizer_config.grad_clip = dict(max_norm=35, norm_type=2)"
   ]
  },
  {
   "cell_type": "code",
   "execution_count": 9,
   "metadata": {},
   "outputs": [
    {
     "data": {
      "text/plain": [
       "[{'type': 'LoadImageFromFile'},\n",
       " {'type': 'LoadAnnotations', 'with_bbox': True},\n",
       " {'type': 'Resize', 'img_scale': (512, 512), 'keep_ratio': True},\n",
       " {'type': 'RandomFlip', 'flip_ratio': 0.5},\n",
       " {'type': 'Normalize',\n",
       "  'mean': [123.675, 116.28, 103.53],\n",
       "  'std': [58.395, 57.12, 57.375],\n",
       "  'to_rgb': True},\n",
       " {'type': 'Pad', 'size_divisor': 32},\n",
       " {'type': 'DefaultFormatBundle'},\n",
       " {'type': 'Collect', 'keys': ['img', 'gt_bboxes', 'gt_labels']}]"
      ]
     },
     "execution_count": 9,
     "metadata": {},
     "output_type": "execute_result"
    }
   ],
   "source": [
    "cfg.data.train.pipeline"
   ]
  },
  {
   "cell_type": "code",
   "execution_count": 10,
   "metadata": {},
   "outputs": [
    {
     "data": {
      "text/plain": [
       "[{'type': 'LoadImageFromFile'},\n",
       " {'type': 'MultiScaleFlipAug',\n",
       "  'img_scale': (512, 512),\n",
       "  'flip': False,\n",
       "  'transforms': [{'type': 'Resize', 'keep_ratio': True},\n",
       "   {'type': 'RandomFlip'},\n",
       "   {'type': 'Normalize',\n",
       "    'mean': [123.675, 116.28, 103.53],\n",
       "    'std': [58.395, 57.12, 57.375],\n",
       "    'to_rgb': True},\n",
       "   {'type': 'Pad', 'size_divisor': 32},\n",
       "   {'type': 'ImageToTensor', 'keys': ['img']},\n",
       "   {'type': 'Collect', 'keys': ['img']}]}]"
      ]
     },
     "execution_count": 10,
     "metadata": {},
     "output_type": "execute_result"
    }
   ],
   "source": [
    "cfg.data.val.pipeline"
   ]
  },
  {
   "cell_type": "code",
   "execution_count": 11,
   "metadata": {
    "pycharm": {
     "name": "#%%\n"
    }
   },
   "outputs": [
    {
     "name": "stderr",
     "output_type": "stream",
     "text": [
      "2021-05-15 19:05:30,088 - mmdet - INFO - load model from: torchvision://resnet50\n",
      "2021-05-15 19:05:30,092 - mmdet - INFO - Use load_from_torchvision loader\n",
      "2021-05-15 19:05:30,366 - mmdet - WARNING - The model and loaded state dict do not match exactly\n",
      "\n",
      "unexpected key in source state_dict: fc.weight, fc.bias\n",
      "\n"
     ]
    }
   ],
   "source": [
    "model = build_detector(cfg.model)"
   ]
  },
  {
   "cell_type": "code",
   "execution_count": 12,
   "metadata": {
    "pycharm": {
     "name": "#%%\n"
    }
   },
   "outputs": [
    {
     "name": "stdout",
     "output_type": "stream",
     "text": [
      "loading annotations into memory...\n",
      "Done (t=4.34s)\n",
      "creating index...\n",
      "index created!\n"
     ]
    }
   ],
   "source": [
    "datasets = [build_dataset(cfg.data.train)]"
   ]
  },
  {
   "cell_type": "code",
   "execution_count": 13,
   "metadata": {
    "pycharm": {
     "name": "#%%\n"
    }
   },
   "outputs": [
    {
     "name": "stdout",
     "output_type": "stream",
     "text": [
      "loading annotations into memory...\n"
     ]
    },
    {
     "name": "stderr",
     "output_type": "stream",
     "text": [
      "2021-05-15 19:05:36,135 - mmdet - INFO - Start running, host: root@45fd1f8b8b06, work_dir: /opt/ml/code/mmdetection_trash/work_dirs/faster_rcnn\n",
      "2021-05-15 19:05:36,138 - mmdet - INFO - workflow: [('train', 1)], max: 30 epochs\n"
     ]
    },
    {
     "name": "stdout",
     "output_type": "stream",
     "text": [
      "Done (t=1.05s)\n",
      "creating index...\n",
      "index created!\n"
     ]
    },
    {
     "name": "stderr",
     "output_type": "stream",
     "text": [
      "/opt/ml/code/mmdetection_trash/mmdet/core/evaluation/eval_hooks.py:112: UserWarning: runner.meta is None. Creating a empty one.\n",
      "  warnings.warn('runner.meta is None. Creating a empty one.')\n"
     ]
    },
    {
     "data": {
      "text/html": [
       "Finishing last run (ID:2koh9wsw) before initializing another..."
      ],
      "text/plain": [
       "<IPython.core.display.HTML object>"
      ]
     },
     "metadata": {},
     "output_type": "display_data"
    },
    {
     "data": {
      "text/html": [
       "<br/>Waiting for W&B process to finish, PID 23681<br/>Program ended successfully."
      ],
      "text/plain": [
       "<IPython.core.display.HTML object>"
      ]
     },
     "metadata": {},
     "output_type": "display_data"
    },
    {
     "data": {
      "application/vnd.jupyter.widget-view+json": {
       "model_id": "",
       "version_major": 2,
       "version_minor": 0
      },
      "text/plain": [
       "VBox(children=(Label(value=' 0.00MB of 0.00MB uploaded (0.00MB deduped)\\r'), FloatProgress(value=1.0, max=1.0)…"
      ]
     },
     "metadata": {},
     "output_type": "display_data"
    },
    {
     "data": {
      "text/html": [
       "Find user logs for this run at: <code>/opt/ml/code/mmdetection_trash/wandb/run-20210515_184522-2koh9wsw/logs/debug.log</code>"
      ],
      "text/plain": [
       "<IPython.core.display.HTML object>"
      ]
     },
     "metadata": {},
     "output_type": "display_data"
    },
    {
     "data": {
      "text/html": [
       "Find internal logs for this run at: <code>/opt/ml/code/mmdetection_trash/wandb/run-20210515_184522-2koh9wsw/logs/debug-internal.log</code>"
      ],
      "text/plain": [
       "<IPython.core.display.HTML object>"
      ]
     },
     "metadata": {},
     "output_type": "display_data"
    },
    {
     "data": {
      "text/html": [
       "<h3>Run summary:</h3><br/><style>\n",
       "    table.wandb td:nth-child(1) { padding: 0 10px; text-align: right }\n",
       "    </style><table class=\"wandb\">\n",
       "<tr><td>train/loss_rpn_cls</td><td>0.16218</td></tr><tr><td>train/loss_rpn_bbox</td><td>0.08247</td></tr><tr><td>train/loss_cls</td><td>0.43355</td></tr><tr><td>train/acc</td><td>88.8689</td></tr><tr><td>train/loss_bbox</td><td>0.40633</td></tr><tr><td>train/loss</td><td>1.08453</td></tr><tr><td>train/grad_norm</td><td>3.6076</td></tr><tr><td>learning_rate</td><td>0.0003</td></tr><tr><td>momentum</td><td>0.9</td></tr><tr><td>_runtime</td><td>320</td></tr><tr><td>_timestamp</td><td>1621104643</td></tr><tr><td>_step</td><td>150</td></tr></table>"
      ],
      "text/plain": [
       "<IPython.core.display.HTML object>"
      ]
     },
     "metadata": {},
     "output_type": "display_data"
    },
    {
     "data": {
      "text/html": [
       "<h3>Run history:</h3><br/><style>\n",
       "    table.wandb td:nth-child(1) { padding: 0 10px; text-align: right }\n",
       "    </style><table class=\"wandb\">\n",
       "<tr><td>train/loss_rpn_cls</td><td>█▁▁</td></tr><tr><td>train/loss_rpn_bbox</td><td>█▁▄</td></tr><tr><td>train/loss_cls</td><td>█▁▁</td></tr><tr><td>train/acc</td><td>▁██</td></tr><tr><td>train/loss_bbox</td><td>▁██</td></tr><tr><td>train/loss</td><td>█▁▁</td></tr><tr><td>train/grad_norm</td><td>█▁▁</td></tr><tr><td>learning_rate</td><td>▁▄█</td></tr><tr><td>momentum</td><td>▁▁▁</td></tr><tr><td>_runtime</td><td>▁▅█</td></tr><tr><td>_timestamp</td><td>▁▅█</td></tr><tr><td>_step</td><td>▁▅█</td></tr></table><br/>"
      ],
      "text/plain": [
       "<IPython.core.display.HTML object>"
      ]
     },
     "metadata": {},
     "output_type": "display_data"
    },
    {
     "data": {
      "text/html": [
       "Synced 5 W&B file(s), 0 media file(s), 0 artifact file(s) and 0 other file(s)"
      ],
      "text/plain": [
       "<IPython.core.display.HTML object>"
      ]
     },
     "metadata": {},
     "output_type": "display_data"
    },
    {
     "data": {
      "text/html": [
       "\n",
       "                    <br/>Synced <strong style=\"color:#cdcd00\">faster-rcnn</strong>: <a href=\"https://wandb.ai/ug_kim/P-stage3-detection/runs/2koh9wsw\" target=\"_blank\">https://wandb.ai/ug_kim/P-stage3-detection/runs/2koh9wsw</a><br/>\n",
       "                "
      ],
      "text/plain": [
       "<IPython.core.display.HTML object>"
      ]
     },
     "metadata": {},
     "output_type": "display_data"
    },
    {
     "data": {
      "text/html": [
       "...Successfully finished last run (ID:2koh9wsw). Initializing new run:<br/><br/>"
      ],
      "text/plain": [
       "<IPython.core.display.HTML object>"
      ]
     },
     "metadata": {},
     "output_type": "display_data"
    },
    {
     "data": {
      "text/html": [
       "\n",
       "                Tracking run with wandb version 0.10.30<br/>\n",
       "                Syncing run <strong style=\"color:#cdcd00\">faster-rcnn</strong> to <a href=\"https://wandb.ai\" target=\"_blank\">Weights & Biases</a> <a href=\"https://docs.wandb.com/integrations/jupyter.html\" target=\"_blank\">(Documentation)</a>.<br/>\n",
       "                Project page: <a href=\"https://wandb.ai/ug_kim/P-stage3-detection\" target=\"_blank\">https://wandb.ai/ug_kim/P-stage3-detection</a><br/>\n",
       "                Run page: <a href=\"https://wandb.ai/ug_kim/P-stage3-detection/runs/2mjjtwzj\" target=\"_blank\">https://wandb.ai/ug_kim/P-stage3-detection/runs/2mjjtwzj</a><br/>\n",
       "                Run data is saved locally in <code>/opt/ml/code/mmdetection_trash/wandb/run-20210515_190536-2mjjtwzj</code><br/><br/>\n",
       "            "
      ],
      "text/plain": [
       "<IPython.core.display.HTML object>"
      ]
     },
     "metadata": {},
     "output_type": "display_data"
    },
    {
     "name": "stderr",
     "output_type": "stream",
     "text": [
      "2021-05-15 19:07:13,424 - mmdet - INFO - Epoch [1][50/164]\tlr: 9.890e-05, eta: 2:25:16, time: 1.790, data_time: 0.076, memory: 7700, loss_rpn_cls: 0.3923, loss_rpn_bbox: 0.0883, loss_cls: 0.6558, acc: 87.6235, loss_bbox: 0.2521, loss: 1.3885, grad_norm: 8.8825\n",
      "2021-05-15 19:08:59,828 - mmdet - INFO - Epoch [1][100/164]\tlr: 1.988e-04, eta: 2:37:22, time: 2.128, data_time: 0.025, memory: 7700, loss_rpn_cls: 0.1791, loss_rpn_bbox: 0.0796, loss_cls: 0.4380, acc: 89.4465, loss_bbox: 0.3936, loss: 1.0902, grad_norm: 3.8933\n",
      "2021-05-15 19:10:46,915 - mmdet - INFO - Epoch [1][150/164]\tlr: 2.987e-04, eta: 2:40:35, time: 2.142, data_time: 0.025, memory: 7700, loss_rpn_cls: 0.1506, loss_rpn_bbox: 0.0810, loss_cls: 0.4519, acc: 88.3792, loss_bbox: 0.4271, loss: 1.1105, grad_norm: 3.6819\n",
      "2021-05-15 19:11:16,368 - mmdet - INFO - Saving checkpoint at 1 epochs\n"
     ]
    },
    {
     "name": "stdout",
     "output_type": "stream",
     "text": [
      "[>>>>>>>>>>>>>>>>>>>>>>>>>>>>>] 655/655, 10.4 task/s, elapsed: 63s, ETA:     0s"
     ]
    },
    {
     "name": "stderr",
     "output_type": "stream",
     "text": [
      "2021-05-15 19:12:22,482 - mmdet - INFO - Evaluating bbox...\n"
     ]
    },
    {
     "name": "stdout",
     "output_type": "stream",
     "text": [
      "Loading and preparing results...\n",
      "DONE (t=0.96s)\n",
      "creating index...\n",
      "index created!\n",
      "Running per image evaluation...\n",
      "Evaluate annotation type *bbox*\n",
      "DONE (t=6.81s).\n",
      "Accumulating evaluation results...\n",
      "DONE (t=1.14s).\n",
      "Average Precision  (AP) @[ IoU=0.50:0.95 | area=   all | maxDets=100 ] = 0.021\n",
      "Average Precision  (AP) @[ IoU=0.50      | area=   all | maxDets=1000 ] = 0.063\n",
      "Average Precision  (AP) @[ IoU=0.75      | area=   all | maxDets=1000 ] = 0.007\n",
      "Average Precision  (AP) @[ IoU=0.50:0.95 | area= small | maxDets=1000 ] = 0.001\n",
      "Average Precision  (AP) @[ IoU=0.50:0.95 | area=medium | maxDets=1000 ] = 0.030\n",
      "Average Precision  (AP) @[ IoU=0.50:0.95 | area= large | maxDets=1000 ] = 0.047\n",
      "Average Recall     (AR) @[ IoU=0.50:0.95 | area=   all | maxDets=100 ] = 0.067\n",
      "Average Recall     (AR) @[ IoU=0.50:0.95 | area=   all | maxDets=300 ] = 0.067\n",
      "Average Recall     (AR) @[ IoU=0.50:0.95 | area=   all | maxDets=1000 ] = 0.067\n",
      "Average Recall     (AR) @[ IoU=0.50:0.95 | area= small | maxDets=1000 ] = 0.010\n",
      "Average Recall     (AR) @[ IoU=0.50:0.95 | area=medium | maxDets=1000 ] = 0.049\n",
      "Average Recall     (AR) @[ IoU=0.50:0.95 | area= large | maxDets=1000 ] = 0.157\n"
     ]
    },
    {
     "name": "stderr",
     "output_type": "stream",
     "text": [
      "2021-05-15 19:12:32,406 - mmdet - INFO - Now best checkpoint is epoch_1.pth.Best bbox_mAP_50 is 0.0630\n",
      "2021-05-15 19:12:32,412 - mmdet - INFO - Epoch(val) [1][164]\tbbox_mAP: 0.0210, bbox_mAP_50: 0.0630, bbox_mAP_75: 0.0070, bbox_mAP_s: 0.0010, bbox_mAP_m: 0.0300, bbox_mAP_l: 0.0470, bbox_mAP_copypaste: 0.021 0.063 0.007 0.001 0.030 0.047\n",
      "2021-05-15 19:14:01,701 - mmdet - INFO - Epoch [2][50/164]\tlr: 4.266e-04, eta: 2:23:46, time: 1.785, data_time: 0.076, memory: 7701, loss_rpn_cls: 0.1203, loss_rpn_bbox: 0.0749, loss_cls: 0.4228, acc: 88.7380, loss_bbox: 0.3966, loss: 1.0147, grad_norm: 2.9211\n",
      "2021-05-15 19:15:45,790 - mmdet - INFO - Epoch [2][100/164]\tlr: 5.265e-04, eta: 2:25:53, time: 2.082, data_time: 0.025, memory: 7701, loss_rpn_cls: 0.1135, loss_rpn_bbox: 0.0729, loss_cls: 0.4367, acc: 88.4124, loss_bbox: 0.3986, loss: 1.0217, grad_norm: 2.6470\n",
      "2021-05-15 19:17:30,150 - mmdet - INFO - Epoch [2][150/164]\tlr: 6.264e-04, eta: 2:26:51, time: 2.087, data_time: 0.024, memory: 7701, loss_rpn_cls: 0.1104, loss_rpn_bbox: 0.0669, loss_cls: 0.4281, acc: 88.6294, loss_bbox: 0.3778, loss: 0.9833, grad_norm: 2.7600\n",
      "2021-05-15 19:17:59,552 - mmdet - INFO - Saving checkpoint at 2 epochs\n"
     ]
    },
    {
     "name": "stdout",
     "output_type": "stream",
     "text": [
      "[>>>>>>>>>>>>>>>>>>>>>>>>>>>>>] 655/655, 10.7 task/s, elapsed: 61s, ETA:     0s"
     ]
    },
    {
     "name": "stderr",
     "output_type": "stream",
     "text": [
      "2021-05-15 19:19:03,983 - mmdet - INFO - Evaluating bbox...\n"
     ]
    },
    {
     "name": "stdout",
     "output_type": "stream",
     "text": [
      "Loading and preparing results...\n",
      "DONE (t=1.03s)\n",
      "creating index...\n",
      "index created!\n",
      "Running per image evaluation...\n",
      "Evaluate annotation type *bbox*\n",
      "DONE (t=8.62s).\n",
      "Accumulating evaluation results...\n",
      "DONE (t=1.40s).\n",
      "Average Precision  (AP) @[ IoU=0.50:0.95 | area=   all | maxDets=100 ] = 0.046\n",
      "Average Precision  (AP) @[ IoU=0.50      | area=   all | maxDets=1000 ] = 0.105\n",
      "Average Precision  (AP) @[ IoU=0.75      | area=   all | maxDets=1000 ] = 0.034\n",
      "Average Precision  (AP) @[ IoU=0.50:0.95 | area= small | maxDets=1000 ] = 0.008\n",
      "Average Precision  (AP) @[ IoU=0.50:0.95 | area=medium | maxDets=1000 ] = 0.053\n",
      "Average Precision  (AP) @[ IoU=0.50:0.95 | area= large | maxDets=1000 ] = 0.085\n",
      "Average Recall     (AR) @[ IoU=0.50:0.95 | area=   all | maxDets=100 ] = 0.135\n",
      "Average Recall     (AR) @[ IoU=0.50:0.95 | area=   all | maxDets=300 ] = 0.135\n",
      "Average Recall     (AR) @[ IoU=0.50:0.95 | area=   all | maxDets=1000 ] = 0.135\n",
      "Average Recall     (AR) @[ IoU=0.50:0.95 | area= small | maxDets=1000 ] = 0.034\n",
      "Average Recall     (AR) @[ IoU=0.50:0.95 | area=medium | maxDets=1000 ] = 0.133\n",
      "Average Recall     (AR) @[ IoU=0.50:0.95 | area= large | maxDets=1000 ] = 0.254\n"
     ]
    },
    {
     "name": "stderr",
     "output_type": "stream",
     "text": [
      "2021-05-15 19:19:18,041 - mmdet - INFO - Now best checkpoint is epoch_2.pth.Best bbox_mAP_50 is 0.1050\n",
      "2021-05-15 19:19:18,049 - mmdet - INFO - Epoch(val) [2][164]\tbbox_mAP: 0.0460, bbox_mAP_50: 0.1050, bbox_mAP_75: 0.0340, bbox_mAP_s: 0.0080, bbox_mAP_m: 0.0530, bbox_mAP_l: 0.0850, bbox_mAP_copypaste: 0.046 0.105 0.034 0.008 0.053 0.085\n",
      "2021-05-15 19:20:54,399 - mmdet - INFO - Epoch [3][50/164]\tlr: 7.542e-04, eta: 2:19:35, time: 1.927, data_time: 0.073, memory: 7701, loss_rpn_cls: 0.0989, loss_rpn_bbox: 0.0694, loss_cls: 0.4130, acc: 88.8203, loss_bbox: 0.3654, loss: 0.9467, grad_norm: 2.3406\n",
      "2021-05-15 19:22:38,340 - mmdet - INFO - Epoch [3][100/164]\tlr: 8.541e-04, eta: 2:20:06, time: 2.079, data_time: 0.024, memory: 7701, loss_rpn_cls: 0.1089, loss_rpn_bbox: 0.0670, loss_cls: 0.4200, acc: 88.5081, loss_bbox: 0.3729, loss: 0.9688, grad_norm: 2.2493\n",
      "2021-05-15 19:24:23,796 - mmdet - INFO - Epoch [3][150/164]\tlr: 9.540e-04, eta: 2:20:23, time: 2.109, data_time: 0.024, memory: 7701, loss_rpn_cls: 0.0998, loss_rpn_bbox: 0.0646, loss_cls: 0.3926, acc: 89.4355, loss_bbox: 0.3431, loss: 0.9001, grad_norm: 2.0692\n",
      "2021-05-15 19:24:53,410 - mmdet - INFO - Saving checkpoint at 3 epochs\n"
     ]
    },
    {
     "name": "stdout",
     "output_type": "stream",
     "text": [
      "[>>>>>>>>>>>>>>>>>>>>>>>>>>>>>] 655/655, 11.9 task/s, elapsed: 55s, ETA:     0s"
     ]
    },
    {
     "name": "stderr",
     "output_type": "stream",
     "text": [
      "2021-05-15 19:25:50,552 - mmdet - INFO - Evaluating bbox...\n"
     ]
    },
    {
     "name": "stdout",
     "output_type": "stream",
     "text": [
      "Loading and preparing results...\n",
      "DONE (t=0.10s)\n",
      "creating index...\n",
      "index created!\n",
      "Running per image evaluation...\n",
      "Evaluate annotation type *bbox*\n",
      "DONE (t=5.83s).\n",
      "Accumulating evaluation results...\n",
      "DONE (t=0.82s).\n",
      "Average Precision  (AP) @[ IoU=0.50:0.95 | area=   all | maxDets=100 ] = 0.053\n",
      "Average Precision  (AP) @[ IoU=0.50      | area=   all | maxDets=1000 ] = 0.113\n",
      "Average Precision  (AP) @[ IoU=0.75      | area=   all | maxDets=1000 ] = 0.045\n",
      "Average Precision  (AP) @[ IoU=0.50:0.95 | area= small | maxDets=1000 ] = 0.013\n",
      "Average Precision  (AP) @[ IoU=0.50:0.95 | area=medium | maxDets=1000 ] = 0.065\n",
      "Average Precision  (AP) @[ IoU=0.50:0.95 | area= large | maxDets=1000 ] = 0.100\n",
      "Average Recall     (AR) @[ IoU=0.50:0.95 | area=   all | maxDets=100 ] = 0.130\n",
      "Average Recall     (AR) @[ IoU=0.50:0.95 | area=   all | maxDets=300 ] = 0.130\n",
      "Average Recall     (AR) @[ IoU=0.50:0.95 | area=   all | maxDets=1000 ] = 0.130\n",
      "Average Recall     (AR) @[ IoU=0.50:0.95 | area= small | maxDets=1000 ] = 0.025\n",
      "Average Recall     (AR) @[ IoU=0.50:0.95 | area=medium | maxDets=1000 ] = 0.107\n",
      "Average Recall     (AR) @[ IoU=0.50:0.95 | area= large | maxDets=1000 ] = 0.271\n"
     ]
    },
    {
     "name": "stderr",
     "output_type": "stream",
     "text": [
      "2021-05-15 19:26:00,376 - mmdet - INFO - Now best checkpoint is epoch_3.pth.Best bbox_mAP_50 is 0.1130\n",
      "2021-05-15 19:26:00,384 - mmdet - INFO - Epoch(val) [3][164]\tbbox_mAP: 0.0530, bbox_mAP_50: 0.1130, bbox_mAP_75: 0.0450, bbox_mAP_s: 0.0130, bbox_mAP_m: 0.0650, bbox_mAP_l: 0.1000, bbox_mAP_copypaste: 0.053 0.113 0.045 0.013 0.065 0.100\n",
      "2021-05-15 19:27:38,703 - mmdet - INFO - Epoch [4][50/164]\tlr: 1.000e-03, eta: 2:15:15, time: 1.966, data_time: 0.073, memory: 7701, loss_rpn_cls: 0.0930, loss_rpn_bbox: 0.0613, loss_cls: 0.4031, acc: 89.1421, loss_bbox: 0.3533, loss: 0.9107, grad_norm: 1.9422\n",
      "2021-05-15 19:29:24,207 - mmdet - INFO - Epoch [4][100/164]\tlr: 1.000e-03, eta: 2:15:16, time: 2.110, data_time: 0.026, memory: 7701, loss_rpn_cls: 0.1023, loss_rpn_bbox: 0.0699, loss_cls: 0.4186, acc: 88.4333, loss_bbox: 0.3635, loss: 0.9543, grad_norm: 1.9723\n",
      "2021-05-15 19:31:08,933 - mmdet - INFO - Epoch [4][150/164]\tlr: 1.000e-03, eta: 2:14:55, time: 2.095, data_time: 0.024, memory: 7701, loss_rpn_cls: 0.0903, loss_rpn_bbox: 0.0608, loss_cls: 0.3809, acc: 89.3806, loss_bbox: 0.3383, loss: 0.8704, grad_norm: 1.6937\n",
      "2021-05-15 19:31:38,179 - mmdet - INFO - Saving checkpoint at 4 epochs\n"
     ]
    },
    {
     "name": "stdout",
     "output_type": "stream",
     "text": [
      "[>>>>>>>>>>>>>>>>>>>>>>>>>>>>>] 655/655, 11.9 task/s, elapsed: 55s, ETA:     0s"
     ]
    },
    {
     "name": "stderr",
     "output_type": "stream",
     "text": [
      "2021-05-15 19:32:35,306 - mmdet - INFO - Evaluating bbox...\n"
     ]
    },
    {
     "name": "stdout",
     "output_type": "stream",
     "text": [
      "Loading and preparing results...\n",
      "DONE (t=1.44s)\n",
      "creating index...\n",
      "index created!\n",
      "Running per image evaluation...\n",
      "Evaluate annotation type *bbox*\n",
      "DONE (t=7.39s).\n",
      "Accumulating evaluation results...\n",
      "DONE (t=1.00s).\n",
      "Average Precision  (AP) @[ IoU=0.50:0.95 | area=   all | maxDets=100 ] = 0.069\n",
      "Average Precision  (AP) @[ IoU=0.50      | area=   all | maxDets=1000 ] = 0.138\n",
      "Average Precision  (AP) @[ IoU=0.75      | area=   all | maxDets=1000 ] = 0.065\n",
      "Average Precision  (AP) @[ IoU=0.50:0.95 | area= small | maxDets=1000 ] = 0.019\n",
      "Average Precision  (AP) @[ IoU=0.50:0.95 | area=medium | maxDets=1000 ] = 0.073\n",
      "Average Precision  (AP) @[ IoU=0.50:0.95 | area= large | maxDets=1000 ] = 0.128\n",
      "Average Recall     (AR) @[ IoU=0.50:0.95 | area=   all | maxDets=100 ] = 0.172\n",
      "Average Recall     (AR) @[ IoU=0.50:0.95 | area=   all | maxDets=300 ] = 0.172\n",
      "Average Recall     (AR) @[ IoU=0.50:0.95 | area=   all | maxDets=1000 ] = 0.172\n",
      "Average Recall     (AR) @[ IoU=0.50:0.95 | area= small | maxDets=1000 ] = 0.053\n",
      "Average Recall     (AR) @[ IoU=0.50:0.95 | area=medium | maxDets=1000 ] = 0.168\n",
      "Average Recall     (AR) @[ IoU=0.50:0.95 | area= large | maxDets=1000 ] = 0.304\n"
     ]
    },
    {
     "name": "stderr",
     "output_type": "stream",
     "text": [
      "2021-05-15 19:32:48,079 - mmdet - INFO - Now best checkpoint is epoch_4.pth.Best bbox_mAP_50 is 0.1380\n",
      "2021-05-15 19:32:48,086 - mmdet - INFO - Epoch(val) [4][164]\tbbox_mAP: 0.0690, bbox_mAP_50: 0.1380, bbox_mAP_75: 0.0650, bbox_mAP_s: 0.0190, bbox_mAP_m: 0.0730, bbox_mAP_l: 0.1280, bbox_mAP_copypaste: 0.069 0.138 0.065 0.019 0.073 0.128\n",
      "2021-05-15 19:34:32,846 - mmdet - INFO - Epoch [5][50/164]\tlr: 1.000e-03, eta: 2:11:16, time: 2.095, data_time: 0.076, memory: 7701, loss_rpn_cls: 0.0819, loss_rpn_bbox: 0.0608, loss_cls: 0.3785, acc: 89.5095, loss_bbox: 0.3325, loss: 0.8537, grad_norm: 1.7309\n",
      "2021-05-15 19:36:17,159 - mmdet - INFO - Epoch [5][100/164]\tlr: 1.000e-03, eta: 2:10:43, time: 2.086, data_time: 0.024, memory: 7701, loss_rpn_cls: 0.0932, loss_rpn_bbox: 0.0645, loss_cls: 0.4044, acc: 88.7373, loss_bbox: 0.3536, loss: 0.9156, grad_norm: 1.8582\n",
      "2021-05-15 19:38:01,706 - mmdet - INFO - Epoch [5][150/164]\tlr: 1.000e-03, eta: 2:10:02, time: 2.091, data_time: 0.027, memory: 7701, loss_rpn_cls: 0.0811, loss_rpn_bbox: 0.0582, loss_cls: 0.3751, acc: 89.4197, loss_bbox: 0.3334, loss: 0.8480, grad_norm: 1.5361\n",
      "2021-05-15 19:38:30,933 - mmdet - INFO - Saving checkpoint at 5 epochs\n"
     ]
    },
    {
     "name": "stdout",
     "output_type": "stream",
     "text": [
      "[>>>>>>>>>>>>>>>>>>>>>>>>>>>>>] 655/655, 12.4 task/s, elapsed: 53s, ETA:     0s"
     ]
    },
    {
     "name": "stderr",
     "output_type": "stream",
     "text": [
      "2021-05-15 19:39:26,291 - mmdet - INFO - Evaluating bbox...\n"
     ]
    },
    {
     "name": "stdout",
     "output_type": "stream",
     "text": [
      "Loading and preparing results...\n",
      "DONE (t=1.02s)\n",
      "creating index...\n",
      "index created!\n",
      "Running per image evaluation...\n",
      "Evaluate annotation type *bbox*\n",
      "DONE (t=6.99s).\n",
      "Accumulating evaluation results...\n",
      "DONE (t=1.19s).\n",
      "Average Precision  (AP) @[ IoU=0.50:0.95 | area=   all | maxDets=100 ] = 0.075\n",
      "Average Precision  (AP) @[ IoU=0.50      | area=   all | maxDets=1000 ] = 0.149\n",
      "Average Precision  (AP) @[ IoU=0.75      | area=   all | maxDets=1000 ] = 0.070\n",
      "Average Precision  (AP) @[ IoU=0.50:0.95 | area= small | maxDets=1000 ] = 0.016\n",
      "Average Precision  (AP) @[ IoU=0.50:0.95 | area=medium | maxDets=1000 ] = 0.082\n",
      "Average Precision  (AP) @[ IoU=0.50:0.95 | area= large | maxDets=1000 ] = 0.133\n",
      "Average Recall     (AR) @[ IoU=0.50:0.95 | area=   all | maxDets=100 ] = 0.178\n",
      "Average Recall     (AR) @[ IoU=0.50:0.95 | area=   all | maxDets=300 ] = 0.178\n",
      "Average Recall     (AR) @[ IoU=0.50:0.95 | area=   all | maxDets=1000 ] = 0.178\n",
      "Average Recall     (AR) @[ IoU=0.50:0.95 | area= small | maxDets=1000 ] = 0.046\n",
      "Average Recall     (AR) @[ IoU=0.50:0.95 | area=medium | maxDets=1000 ] = 0.160\n",
      "Average Recall     (AR) @[ IoU=0.50:0.95 | area= large | maxDets=1000 ] = 0.341\n"
     ]
    },
    {
     "name": "stderr",
     "output_type": "stream",
     "text": [
      "2021-05-15 19:39:38,557 - mmdet - INFO - Now best checkpoint is epoch_5.pth.Best bbox_mAP_50 is 0.1490\n",
      "2021-05-15 19:39:38,564 - mmdet - INFO - Epoch(val) [5][164]\tbbox_mAP: 0.0750, bbox_mAP_50: 0.1490, bbox_mAP_75: 0.0700, bbox_mAP_s: 0.0160, bbox_mAP_m: 0.0820, bbox_mAP_l: 0.1330, bbox_mAP_copypaste: 0.075 0.149 0.070 0.016 0.082 0.133\n",
      "2021-05-15 19:41:26,388 - mmdet - INFO - Epoch [6][50/164]\tlr: 1.000e-03, eta: 2:06:57, time: 2.156, data_time: 0.075, memory: 7701, loss_rpn_cls: 0.0815, loss_rpn_bbox: 0.0575, loss_cls: 0.3727, acc: 89.5540, loss_bbox: 0.3247, loss: 0.8363, grad_norm: 1.6331\n",
      "2021-05-15 19:43:11,156 - mmdet - INFO - Epoch [6][100/164]\tlr: 1.000e-03, eta: 2:06:10, time: 2.095, data_time: 0.025, memory: 7701, loss_rpn_cls: 0.0773, loss_rpn_bbox: 0.0602, loss_cls: 0.3888, acc: 88.8535, loss_bbox: 0.3539, loss: 0.8801, grad_norm: 1.6198\n",
      "2021-05-15 19:44:55,717 - mmdet - INFO - Epoch [6][150/164]\tlr: 1.000e-03, eta: 2:05:15, time: 2.091, data_time: 0.025, memory: 7701, loss_rpn_cls: 0.0808, loss_rpn_bbox: 0.0603, loss_cls: 0.3786, acc: 89.2991, loss_bbox: 0.3325, loss: 0.8523, grad_norm: 1.6718\n",
      "2021-05-15 19:45:23,082 - mmdet - INFO - Saving checkpoint at 6 epochs\n"
     ]
    },
    {
     "name": "stdout",
     "output_type": "stream",
     "text": [
      "[>>>>>>>>>>>>>>>>>>>>>>>>>>>>>] 655/655, 13.0 task/s, elapsed: 50s, ETA:     0s"
     ]
    },
    {
     "name": "stderr",
     "output_type": "stream",
     "text": [
      "2021-05-15 19:46:16,784 - mmdet - INFO - Evaluating bbox...\n"
     ]
    },
    {
     "name": "stdout",
     "output_type": "stream",
     "text": [
      "Loading and preparing results...\n",
      "DONE (t=1.03s)\n",
      "creating index...\n",
      "index created!\n",
      "Running per image evaluation...\n",
      "Evaluate annotation type *bbox*\n",
      "DONE (t=8.56s).\n",
      "Accumulating evaluation results...\n",
      "DONE (t=1.51s).\n",
      "Average Precision  (AP) @[ IoU=0.50:0.95 | area=   all | maxDets=100 ] = 0.081\n",
      "Average Precision  (AP) @[ IoU=0.50      | area=   all | maxDets=1000 ] = 0.166\n",
      "Average Precision  (AP) @[ IoU=0.75      | area=   all | maxDets=1000 ] = 0.073\n",
      "Average Precision  (AP) @[ IoU=0.50:0.95 | area= small | maxDets=1000 ] = 0.020\n",
      "Average Precision  (AP) @[ IoU=0.50:0.95 | area=medium | maxDets=1000 ] = 0.080\n",
      "Average Precision  (AP) @[ IoU=0.50:0.95 | area= large | maxDets=1000 ] = 0.154\n",
      "Average Recall     (AR) @[ IoU=0.50:0.95 | area=   all | maxDets=100 ] = 0.213\n",
      "Average Recall     (AR) @[ IoU=0.50:0.95 | area=   all | maxDets=300 ] = 0.213\n",
      "Average Recall     (AR) @[ IoU=0.50:0.95 | area=   all | maxDets=1000 ] = 0.213\n",
      "Average Recall     (AR) @[ IoU=0.50:0.95 | area= small | maxDets=1000 ] = 0.057\n",
      "Average Recall     (AR) @[ IoU=0.50:0.95 | area=medium | maxDets=1000 ] = 0.207\n",
      "Average Recall     (AR) @[ IoU=0.50:0.95 | area= large | maxDets=1000 ] = 0.388\n"
     ]
    },
    {
     "name": "stderr",
     "output_type": "stream",
     "text": [
      "2021-05-15 19:46:31,110 - mmdet - INFO - Now best checkpoint is epoch_6.pth.Best bbox_mAP_50 is 0.1660\n",
      "2021-05-15 19:46:31,122 - mmdet - INFO - Epoch(val) [6][164]\tbbox_mAP: 0.0810, bbox_mAP_50: 0.1660, bbox_mAP_75: 0.0730, bbox_mAP_s: 0.0200, bbox_mAP_m: 0.0800, bbox_mAP_l: 0.1540, bbox_mAP_copypaste: 0.081 0.166 0.073 0.020 0.080 0.154\n",
      "2021-05-15 19:48:17,864 - mmdet - INFO - Epoch [7][50/164]\tlr: 1.000e-03, eta: 2:02:17, time: 2.134, data_time: 0.074, memory: 7701, loss_rpn_cls: 0.0812, loss_rpn_bbox: 0.0603, loss_cls: 0.3740, acc: 89.2114, loss_bbox: 0.3383, loss: 0.8538, grad_norm: 1.8107\n",
      "2021-05-15 19:50:02,085 - mmdet - INFO - Epoch [7][100/164]\tlr: 1.000e-03, eta: 2:01:17, time: 2.084, data_time: 0.023, memory: 7701, loss_rpn_cls: 0.0741, loss_rpn_bbox: 0.0548, loss_cls: 0.3678, acc: 89.5522, loss_bbox: 0.3233, loss: 0.8200, grad_norm: 1.5511\n",
      "2021-05-15 19:51:46,604 - mmdet - INFO - Epoch [7][150/164]\tlr: 1.000e-03, eta: 2:00:15, time: 2.090, data_time: 0.024, memory: 7701, loss_rpn_cls: 0.0779, loss_rpn_bbox: 0.0612, loss_cls: 0.3714, acc: 89.4463, loss_bbox: 0.3221, loss: 0.8325, grad_norm: 1.5668\n",
      "2021-05-15 19:52:11,263 - mmdet - INFO - Saving checkpoint at 7 epochs\n"
     ]
    },
    {
     "name": "stdout",
     "output_type": "stream",
     "text": [
      "[>>>>>>>>>>>>>>>>>>>>>>>>>>>>>] 655/655, 14.1 task/s, elapsed: 47s, ETA:     0s"
     ]
    },
    {
     "name": "stderr",
     "output_type": "stream",
     "text": [
      "2021-05-15 19:53:00,112 - mmdet - INFO - Evaluating bbox...\n"
     ]
    },
    {
     "name": "stdout",
     "output_type": "stream",
     "text": [
      "Loading and preparing results...\n",
      "DONE (t=0.12s)\n",
      "creating index...\n",
      "index created!\n",
      "Running per image evaluation...\n",
      "Evaluate annotation type *bbox*\n",
      "DONE (t=6.32s).\n",
      "Accumulating evaluation results...\n",
      "DONE (t=0.95s).\n",
      "Average Precision  (AP) @[ IoU=0.50:0.95 | area=   all | maxDets=100 ] = 0.094\n",
      "Average Precision  (AP) @[ IoU=0.50      | area=   all | maxDets=1000 ] = 0.176\n",
      "Average Precision  (AP) @[ IoU=0.75      | area=   all | maxDets=1000 ] = 0.094\n",
      "Average Precision  (AP) @[ IoU=0.50:0.95 | area= small | maxDets=1000 ] = 0.019\n",
      "Average Precision  (AP) @[ IoU=0.50:0.95 | area=medium | maxDets=1000 ] = 0.086\n",
      "Average Precision  (AP) @[ IoU=0.50:0.95 | area= large | maxDets=1000 ] = 0.181\n",
      "Average Recall     (AR) @[ IoU=0.50:0.95 | area=   all | maxDets=100 ] = 0.210\n",
      "Average Recall     (AR) @[ IoU=0.50:0.95 | area=   all | maxDets=300 ] = 0.210\n",
      "Average Recall     (AR) @[ IoU=0.50:0.95 | area=   all | maxDets=1000 ] = 0.210\n",
      "Average Recall     (AR) @[ IoU=0.50:0.95 | area= small | maxDets=1000 ] = 0.065\n",
      "Average Recall     (AR) @[ IoU=0.50:0.95 | area=medium | maxDets=1000 ] = 0.195\n",
      "Average Recall     (AR) @[ IoU=0.50:0.95 | area= large | maxDets=1000 ] = 0.385\n"
     ]
    },
    {
     "name": "stderr",
     "output_type": "stream",
     "text": [
      "2021-05-15 19:53:10,597 - mmdet - INFO - Now best checkpoint is epoch_7.pth.Best bbox_mAP_50 is 0.1760\n",
      "2021-05-15 19:53:10,604 - mmdet - INFO - Epoch(val) [7][164]\tbbox_mAP: 0.0940, bbox_mAP_50: 0.1760, bbox_mAP_75: 0.0940, bbox_mAP_s: 0.0190, bbox_mAP_m: 0.0860, bbox_mAP_l: 0.1810, bbox_mAP_copypaste: 0.094 0.176 0.094 0.019 0.086 0.181\n",
      "2021-05-15 19:54:08,385 - mmdet - INFO - Epoch [8][50/164]\tlr: 1.000e-03, eta: 1:54:53, time: 1.155, data_time: 0.075, memory: 7701, loss_rpn_cls: 0.0686, loss_rpn_bbox: 0.0578, loss_cls: 0.3604, acc: 89.5994, loss_bbox: 0.3228, loss: 0.8095, grad_norm: 1.6101\n",
      "2021-05-15 19:55:02,701 - mmdet - INFO - Epoch [8][100/164]\tlr: 1.000e-03, eta: 1:51:28, time: 1.086, data_time: 0.024, memory: 7701, loss_rpn_cls: 0.0708, loss_rpn_bbox: 0.0538, loss_cls: 0.3562, acc: 89.8877, loss_bbox: 0.3143, loss: 0.7952, grad_norm: 1.6667\n",
      "2021-05-15 19:55:56,736 - mmdet - INFO - Epoch [8][150/164]\tlr: 1.000e-03, eta: 1:48:14, time: 1.081, data_time: 0.024, memory: 7701, loss_rpn_cls: 0.0708, loss_rpn_bbox: 0.0579, loss_cls: 0.3653, acc: 89.3572, loss_bbox: 0.3305, loss: 0.8245, grad_norm: 1.5438\n",
      "2021-05-15 19:56:12,030 - mmdet - INFO - Saving checkpoint at 8 epochs\n"
     ]
    },
    {
     "name": "stdout",
     "output_type": "stream",
     "text": [
      "[>>>>>>>>>>>>>>>>>>>>>>>>>>>>>] 655/655, 21.5 task/s, elapsed: 30s, ETA:     0s"
     ]
    },
    {
     "name": "stderr",
     "output_type": "stream",
     "text": [
      "2021-05-15 19:56:45,003 - mmdet - INFO - Evaluating bbox...\n"
     ]
    },
    {
     "name": "stdout",
     "output_type": "stream",
     "text": [
      "Loading and preparing results...\n",
      "DONE (t=1.22s)\n",
      "creating index...\n",
      "index created!\n",
      "Running per image evaluation...\n",
      "Evaluate annotation type *bbox*\n",
      "DONE (t=7.85s).\n",
      "Accumulating evaluation results...\n"
     ]
    },
    {
     "name": "stderr",
     "output_type": "stream",
     "text": [
      "2021-05-15 19:56:55,390 - mmdet - INFO - Epoch(val) [8][164]\tbbox_mAP: 0.0840, bbox_mAP_50: 0.1620, bbox_mAP_75: 0.0810, bbox_mAP_s: 0.0190, bbox_mAP_m: 0.0780, bbox_mAP_l: 0.1590, bbox_mAP_copypaste: 0.084 0.162 0.081 0.019 0.078 0.159\n"
     ]
    },
    {
     "name": "stdout",
     "output_type": "stream",
     "text": [
      "DONE (t=1.19s).\n",
      "Average Precision  (AP) @[ IoU=0.50:0.95 | area=   all | maxDets=100 ] = 0.084\n",
      "Average Precision  (AP) @[ IoU=0.50      | area=   all | maxDets=1000 ] = 0.162\n",
      "Average Precision  (AP) @[ IoU=0.75      | area=   all | maxDets=1000 ] = 0.081\n",
      "Average Precision  (AP) @[ IoU=0.50:0.95 | area= small | maxDets=1000 ] = 0.019\n",
      "Average Precision  (AP) @[ IoU=0.50:0.95 | area=medium | maxDets=1000 ] = 0.078\n",
      "Average Precision  (AP) @[ IoU=0.50:0.95 | area= large | maxDets=1000 ] = 0.159\n",
      "Average Recall     (AR) @[ IoU=0.50:0.95 | area=   all | maxDets=100 ] = 0.198\n",
      "Average Recall     (AR) @[ IoU=0.50:0.95 | area=   all | maxDets=300 ] = 0.198\n",
      "Average Recall     (AR) @[ IoU=0.50:0.95 | area=   all | maxDets=1000 ] = 0.198\n",
      "Average Recall     (AR) @[ IoU=0.50:0.95 | area= small | maxDets=1000 ] = 0.059\n",
      "Average Recall     (AR) @[ IoU=0.50:0.95 | area=medium | maxDets=1000 ] = 0.176\n",
      "Average Recall     (AR) @[ IoU=0.50:0.95 | area= large | maxDets=1000 ] = 0.367\n"
     ]
    },
    {
     "name": "stderr",
     "output_type": "stream",
     "text": [
      "2021-05-15 19:57:52,390 - mmdet - INFO - Epoch [9][50/164]\tlr: 1.000e-04, eta: 1:43:48, time: 1.139, data_time: 0.075, memory: 7701, loss_rpn_cls: 0.0483, loss_rpn_bbox: 0.0481, loss_cls: 0.3202, acc: 90.4092, loss_bbox: 0.2955, loss: 0.7121, grad_norm: 1.1160\n",
      "2021-05-15 19:58:46,187 - mmdet - INFO - Epoch [9][100/164]\tlr: 1.000e-04, eta: 1:40:57, time: 1.076, data_time: 0.025, memory: 7701, loss_rpn_cls: 0.0464, loss_rpn_bbox: 0.0490, loss_cls: 0.3215, acc: 90.2415, loss_bbox: 0.2962, loss: 0.7130, grad_norm: 1.1170\n",
      "2021-05-15 19:59:40,058 - mmdet - INFO - Epoch [9][150/164]\tlr: 1.000e-04, eta: 1:38:13, time: 1.077, data_time: 0.024, memory: 7701, loss_rpn_cls: 0.0444, loss_rpn_bbox: 0.0485, loss_cls: 0.3076, acc: 90.4910, loss_bbox: 0.2905, loss: 0.6909, grad_norm: 1.1192\n",
      "2021-05-15 19:59:55,108 - mmdet - INFO - Saving checkpoint at 9 epochs\n"
     ]
    },
    {
     "name": "stdout",
     "output_type": "stream",
     "text": [
      "[>>>>>>>>>>>>>>>>>>>>>>>>>>>>>] 655/655, 22.0 task/s, elapsed: 30s, ETA:     0s"
     ]
    },
    {
     "name": "stderr",
     "output_type": "stream",
     "text": [
      "2021-05-15 20:00:26,984 - mmdet - INFO - Evaluating bbox...\n"
     ]
    },
    {
     "name": "stdout",
     "output_type": "stream",
     "text": [
      "Loading and preparing results...\n",
      "DONE (t=0.13s)\n",
      "creating index...\n",
      "index created!\n",
      "Running per image evaluation...\n",
      "Evaluate annotation type *bbox*\n",
      "DONE (t=6.48s).\n",
      "Accumulating evaluation results...\n",
      "DONE (t=0.94s).\n",
      "Average Precision  (AP) @[ IoU=0.50:0.95 | area=   all | maxDets=100 ] = 0.124\n",
      "Average Precision  (AP) @[ IoU=0.50      | area=   all | maxDets=1000 ] = 0.214\n",
      "Average Precision  (AP) @[ IoU=0.75      | area=   all | maxDets=1000 ] = 0.126\n",
      "Average Precision  (AP) @[ IoU=0.50:0.95 | area= small | maxDets=1000 ] = 0.028\n",
      "Average Precision  (AP) @[ IoU=0.50:0.95 | area=medium | maxDets=1000 ] = 0.115\n",
      "Average Precision  (AP) @[ IoU=0.50:0.95 | area= large | maxDets=1000 ] = 0.233\n",
      "Average Recall     (AR) @[ IoU=0.50:0.95 | area=   all | maxDets=100 ] = 0.273\n",
      "Average Recall     (AR) @[ IoU=0.50:0.95 | area=   all | maxDets=300 ] = 0.273\n",
      "Average Recall     (AR) @[ IoU=0.50:0.95 | area=   all | maxDets=1000 ] = 0.273\n",
      "Average Recall     (AR) @[ IoU=0.50:0.95 | area= small | maxDets=1000 ] = 0.092\n",
      "Average Recall     (AR) @[ IoU=0.50:0.95 | area=medium | maxDets=1000 ] = 0.246\n",
      "Average Recall     (AR) @[ IoU=0.50:0.95 | area= large | maxDets=1000 ] = 0.477\n"
     ]
    },
    {
     "name": "stderr",
     "output_type": "stream",
     "text": [
      "2021-05-15 20:00:37,727 - mmdet - INFO - Now best checkpoint is epoch_9.pth.Best bbox_mAP_50 is 0.2140\n",
      "2021-05-15 20:00:37,736 - mmdet - INFO - Epoch(val) [9][164]\tbbox_mAP: 0.1240, bbox_mAP_50: 0.2140, bbox_mAP_75: 0.1260, bbox_mAP_s: 0.0280, bbox_mAP_m: 0.1150, bbox_mAP_l: 0.2330, bbox_mAP_copypaste: 0.124 0.214 0.126 0.028 0.115 0.233\n",
      "2021-05-15 20:01:34,192 - mmdet - INFO - Epoch [10][50/164]\tlr: 1.000e-04, eta: 1:34:27, time: 1.129, data_time: 0.073, memory: 7701, loss_rpn_cls: 0.0388, loss_rpn_bbox: 0.0475, loss_cls: 0.2916, acc: 90.9490, loss_bbox: 0.2778, loss: 0.6557, grad_norm: 1.0786\n",
      "2021-05-15 20:02:28,298 - mmdet - INFO - Epoch [10][100/164]\tlr: 1.000e-04, eta: 1:32:01, time: 1.082, data_time: 0.024, memory: 7701, loss_rpn_cls: 0.0397, loss_rpn_bbox: 0.0458, loss_cls: 0.3011, acc: 90.6504, loss_bbox: 0.2827, loss: 0.6692, grad_norm: 1.1683\n",
      "2021-05-15 20:03:22,260 - mmdet - INFO - Epoch [10][150/164]\tlr: 1.000e-04, eta: 1:29:41, time: 1.079, data_time: 0.025, memory: 7701, loss_rpn_cls: 0.0393, loss_rpn_bbox: 0.0431, loss_cls: 0.2840, acc: 91.1809, loss_bbox: 0.2668, loss: 0.6332, grad_norm: 1.1488\n",
      "2021-05-15 20:03:37,482 - mmdet - INFO - Saving checkpoint at 10 epochs\n"
     ]
    },
    {
     "name": "stdout",
     "output_type": "stream",
     "text": [
      "[>>>>>>>>>>>>>>>>>>>>>>>>>>>>>] 655/655, 21.8 task/s, elapsed: 30s, ETA:     0s"
     ]
    },
    {
     "name": "stderr",
     "output_type": "stream",
     "text": [
      "2021-05-15 20:04:09,477 - mmdet - INFO - Evaluating bbox...\n"
     ]
    },
    {
     "name": "stdout",
     "output_type": "stream",
     "text": [
      "Loading and preparing results...\n",
      "DONE (t=0.93s)\n",
      "creating index...\n",
      "index created!\n",
      "Running per image evaluation...\n",
      "Evaluate annotation type *bbox*\n",
      "DONE (t=5.96s).\n",
      "Accumulating evaluation results...\n",
      "DONE (t=0.92s).\n",
      "Average Precision  (AP) @[ IoU=0.50:0.95 | area=   all | maxDets=100 ] = 0.129\n",
      "Average Precision  (AP) @[ IoU=0.50      | area=   all | maxDets=1000 ] = 0.221\n",
      "Average Precision  (AP) @[ IoU=0.75      | area=   all | maxDets=1000 ] = 0.131\n",
      "Average Precision  (AP) @[ IoU=0.50:0.95 | area= small | maxDets=1000 ] = 0.029\n",
      "Average Precision  (AP) @[ IoU=0.50:0.95 | area=medium | maxDets=1000 ] = 0.117\n",
      "Average Precision  (AP) @[ IoU=0.50:0.95 | area= large | maxDets=1000 ] = 0.242\n",
      "Average Recall     (AR) @[ IoU=0.50:0.95 | area=   all | maxDets=100 ] = 0.277\n",
      "Average Recall     (AR) @[ IoU=0.50:0.95 | area=   all | maxDets=300 ] = 0.277\n",
      "Average Recall     (AR) @[ IoU=0.50:0.95 | area=   all | maxDets=1000 ] = 0.277\n",
      "Average Recall     (AR) @[ IoU=0.50:0.95 | area= small | maxDets=1000 ] = 0.089\n",
      "Average Recall     (AR) @[ IoU=0.50:0.95 | area=medium | maxDets=1000 ] = 0.247\n",
      "Average Recall     (AR) @[ IoU=0.50:0.95 | area= large | maxDets=1000 ] = 0.480\n"
     ]
    },
    {
     "name": "stderr",
     "output_type": "stream",
     "text": [
      "2021-05-15 20:04:20,725 - mmdet - INFO - Now best checkpoint is epoch_10.pth.Best bbox_mAP_50 is 0.2210\n",
      "2021-05-15 20:04:20,736 - mmdet - INFO - Epoch(val) [10][164]\tbbox_mAP: 0.1290, bbox_mAP_50: 0.2210, bbox_mAP_75: 0.1310, bbox_mAP_s: 0.0290, bbox_mAP_m: 0.1170, bbox_mAP_l: 0.2420, bbox_mAP_copypaste: 0.129 0.221 0.131 0.029 0.117 0.242\n",
      "2021-05-15 20:05:17,307 - mmdet - INFO - Epoch [11][50/164]\tlr: 1.000e-04, eta: 1:26:25, time: 1.131, data_time: 0.074, memory: 7701, loss_rpn_cls: 0.0349, loss_rpn_bbox: 0.0447, loss_cls: 0.2759, acc: 91.3298, loss_bbox: 0.2660, loss: 0.6216, grad_norm: 1.1383\n",
      "2021-05-15 20:06:11,666 - mmdet - INFO - Epoch [11][100/164]\tlr: 1.000e-04, eta: 1:24:17, time: 1.087, data_time: 0.024, memory: 7701, loss_rpn_cls: 0.0349, loss_rpn_bbox: 0.0442, loss_cls: 0.2819, acc: 91.0754, loss_bbox: 0.2685, loss: 0.6295, grad_norm: 1.2349\n",
      "2021-05-15 20:07:05,875 - mmdet - INFO - Epoch [11][150/164]\tlr: 1.000e-04, eta: 1:22:13, time: 1.084, data_time: 0.024, memory: 7701, loss_rpn_cls: 0.0339, loss_rpn_bbox: 0.0433, loss_cls: 0.2756, acc: 91.3618, loss_bbox: 0.2650, loss: 0.6177, grad_norm: 1.2285\n",
      "2021-05-15 20:07:21,183 - mmdet - INFO - Saving checkpoint at 11 epochs\n"
     ]
    },
    {
     "name": "stdout",
     "output_type": "stream",
     "text": [
      "[>>>>>>>>>>>>>>>>>>>>>>>>>>>>>] 655/655, 22.0 task/s, elapsed: 30s, ETA:     0s"
     ]
    },
    {
     "name": "stderr",
     "output_type": "stream",
     "text": [
      "2021-05-15 20:07:53,800 - mmdet - INFO - Evaluating bbox...\n"
     ]
    },
    {
     "name": "stdout",
     "output_type": "stream",
     "text": [
      "Loading and preparing results...\n",
      "DONE (t=0.11s)\n",
      "creating index...\n",
      "index created!\n",
      "Running per image evaluation...\n",
      "Evaluate annotation type *bbox*\n",
      "DONE (t=6.44s).\n",
      "Accumulating evaluation results...\n",
      "DONE (t=0.89s).\n",
      "Average Precision  (AP) @[ IoU=0.50:0.95 | area=   all | maxDets=100 ] = 0.131\n",
      "Average Precision  (AP) @[ IoU=0.50      | area=   all | maxDets=1000 ] = 0.226\n",
      "Average Precision  (AP) @[ IoU=0.75      | area=   all | maxDets=1000 ] = 0.131\n",
      "Average Precision  (AP) @[ IoU=0.50:0.95 | area= small | maxDets=1000 ] = 0.030\n",
      "Average Precision  (AP) @[ IoU=0.50:0.95 | area=medium | maxDets=1000 ] = 0.112\n",
      "Average Precision  (AP) @[ IoU=0.50:0.95 | area= large | maxDets=1000 ] = 0.251\n",
      "Average Recall     (AR) @[ IoU=0.50:0.95 | area=   all | maxDets=100 ] = 0.283\n",
      "Average Recall     (AR) @[ IoU=0.50:0.95 | area=   all | maxDets=300 ] = 0.283\n",
      "Average Recall     (AR) @[ IoU=0.50:0.95 | area=   all | maxDets=1000 ] = 0.283\n",
      "Average Recall     (AR) @[ IoU=0.50:0.95 | area= small | maxDets=1000 ] = 0.088\n",
      "Average Recall     (AR) @[ IoU=0.50:0.95 | area=medium | maxDets=1000 ] = 0.249\n",
      "Average Recall     (AR) @[ IoU=0.50:0.95 | area= large | maxDets=1000 ] = 0.488\n"
     ]
    },
    {
     "name": "stderr",
     "output_type": "stream",
     "text": [
      "2021-05-15 20:08:04,599 - mmdet - INFO - Now best checkpoint is epoch_11.pth.Best bbox_mAP_50 is 0.2260\n",
      "2021-05-15 20:08:04,606 - mmdet - INFO - Epoch(val) [11][164]\tbbox_mAP: 0.1310, bbox_mAP_50: 0.2260, bbox_mAP_75: 0.1310, bbox_mAP_s: 0.0300, bbox_mAP_m: 0.1120, bbox_mAP_l: 0.2510, bbox_mAP_copypaste: 0.131 0.226 0.131 0.030 0.112 0.251\n",
      "2021-05-15 20:09:01,192 - mmdet - INFO - Epoch [12][50/164]\tlr: 1.000e-05, eta: 1:19:19, time: 1.131, data_time: 0.073, memory: 7701, loss_rpn_cls: 0.0314, loss_rpn_bbox: 0.0424, loss_cls: 0.2597, acc: 91.6599, loss_bbox: 0.2556, loss: 0.5891, grad_norm: 1.1084\n",
      "2021-05-15 20:09:55,426 - mmdet - INFO - Epoch [12][100/164]\tlr: 1.000e-05, eta: 1:17:24, time: 1.085, data_time: 0.024, memory: 7701, loss_rpn_cls: 0.0323, loss_rpn_bbox: 0.0464, loss_cls: 0.2706, acc: 91.4270, loss_bbox: 0.2715, loss: 0.6209, grad_norm: 1.0999\n",
      "2021-05-15 20:10:49,666 - mmdet - INFO - Epoch [12][150/164]\tlr: 1.000e-05, eta: 1:15:33, time: 1.085, data_time: 0.024, memory: 7701, loss_rpn_cls: 0.0294, loss_rpn_bbox: 0.0396, loss_cls: 0.2593, acc: 91.8364, loss_bbox: 0.2464, loss: 0.5748, grad_norm: 1.0824\n",
      "2021-05-15 20:11:04,953 - mmdet - INFO - Saving checkpoint at 12 epochs\n"
     ]
    },
    {
     "name": "stdout",
     "output_type": "stream",
     "text": [
      "[>>>>>>>>>>>>>>>>>>>>>>>>>>>>>] 655/655, 22.5 task/s, elapsed: 29s, ETA:     0s"
     ]
    },
    {
     "name": "stderr",
     "output_type": "stream",
     "text": [
      "2021-05-15 20:11:36,134 - mmdet - INFO - Evaluating bbox...\n"
     ]
    },
    {
     "name": "stdout",
     "output_type": "stream",
     "text": [
      "Loading and preparing results...\n",
      "DONE (t=0.99s)\n",
      "creating index...\n",
      "index created!\n",
      "Running per image evaluation...\n",
      "Evaluate annotation type *bbox*\n",
      "DONE (t=5.71s).\n",
      "Accumulating evaluation results...\n",
      "DONE (t=0.88s).\n",
      "Average Precision  (AP) @[ IoU=0.50:0.95 | area=   all | maxDets=100 ] = 0.131\n",
      "Average Precision  (AP) @[ IoU=0.50      | area=   all | maxDets=1000 ] = 0.230\n",
      "Average Precision  (AP) @[ IoU=0.75      | area=   all | maxDets=1000 ] = 0.129\n",
      "Average Precision  (AP) @[ IoU=0.50:0.95 | area= small | maxDets=1000 ] = 0.029\n",
      "Average Precision  (AP) @[ IoU=0.50:0.95 | area=medium | maxDets=1000 ] = 0.116\n",
      "Average Precision  (AP) @[ IoU=0.50:0.95 | area= large | maxDets=1000 ] = 0.252\n",
      "Average Recall     (AR) @[ IoU=0.50:0.95 | area=   all | maxDets=100 ] = 0.283\n",
      "Average Recall     (AR) @[ IoU=0.50:0.95 | area=   all | maxDets=300 ] = 0.283\n",
      "Average Recall     (AR) @[ IoU=0.50:0.95 | area=   all | maxDets=1000 ] = 0.283\n",
      "Average Recall     (AR) @[ IoU=0.50:0.95 | area= small | maxDets=1000 ] = 0.089\n",
      "Average Recall     (AR) @[ IoU=0.50:0.95 | area=medium | maxDets=1000 ] = 0.250\n",
      "Average Recall     (AR) @[ IoU=0.50:0.95 | area= large | maxDets=1000 ] = 0.489\n"
     ]
    },
    {
     "name": "stderr",
     "output_type": "stream",
     "text": [
      "2021-05-15 20:11:47,077 - mmdet - INFO - Now best checkpoint is epoch_12.pth.Best bbox_mAP_50 is 0.2300\n",
      "2021-05-15 20:11:47,085 - mmdet - INFO - Epoch(val) [12][164]\tbbox_mAP: 0.1310, bbox_mAP_50: 0.2300, bbox_mAP_75: 0.1290, bbox_mAP_s: 0.0290, bbox_mAP_m: 0.1160, bbox_mAP_l: 0.2520, bbox_mAP_copypaste: 0.131 0.230 0.129 0.029 0.116 0.252\n",
      "2021-05-15 20:12:43,505 - mmdet - INFO - Epoch [13][50/164]\tlr: 1.000e-05, eta: 1:12:55, time: 1.128, data_time: 0.074, memory: 7701, loss_rpn_cls: 0.0297, loss_rpn_bbox: 0.0419, loss_cls: 0.2522, acc: 91.9094, loss_bbox: 0.2503, loss: 0.5742, grad_norm: 1.1031\n",
      "2021-05-15 20:13:37,615 - mmdet - INFO - Epoch [13][100/164]\tlr: 1.000e-05, eta: 1:11:11, time: 1.082, data_time: 0.025, memory: 7701, loss_rpn_cls: 0.0304, loss_rpn_bbox: 0.0419, loss_cls: 0.2603, acc: 91.7346, loss_bbox: 0.2548, loss: 0.5875, grad_norm: 1.1432\n",
      "2021-05-15 20:14:31,915 - mmdet - INFO - Epoch [13][150/164]\tlr: 1.000e-05, eta: 1:09:29, time: 1.086, data_time: 0.026, memory: 7701, loss_rpn_cls: 0.0307, loss_rpn_bbox: 0.0430, loss_cls: 0.2627, acc: 91.7324, loss_bbox: 0.2569, loss: 0.5934, grad_norm: 1.1113\n",
      "2021-05-15 20:14:47,225 - mmdet - INFO - Saving checkpoint at 13 epochs\n"
     ]
    },
    {
     "name": "stdout",
     "output_type": "stream",
     "text": [
      "[>>>>>>>>>>>>>>>>>>>>>>>>>>>>>] 655/655, 22.0 task/s, elapsed: 30s, ETA:     0s"
     ]
    },
    {
     "name": "stderr",
     "output_type": "stream",
     "text": [
      "2021-05-15 20:15:18,983 - mmdet - INFO - Evaluating bbox...\n"
     ]
    },
    {
     "name": "stdout",
     "output_type": "stream",
     "text": [
      "Loading and preparing results...\n",
      "DONE (t=0.90s)\n",
      "creating index...\n",
      "index created!\n",
      "Running per image evaluation...\n",
      "Evaluate annotation type *bbox*\n",
      "DONE (t=6.66s).\n",
      "Accumulating evaluation results...\n",
      "DONE (t=0.84s).\n",
      "Average Precision  (AP) @[ IoU=0.50:0.95 | area=   all | maxDets=100 ] = 0.132\n",
      "Average Precision  (AP) @[ IoU=0.50      | area=   all | maxDets=1000 ] = 0.232\n",
      "Average Precision  (AP) @[ IoU=0.75      | area=   all | maxDets=1000 ] = 0.132\n",
      "Average Precision  (AP) @[ IoU=0.50:0.95 | area= small | maxDets=1000 ] = 0.029\n",
      "Average Precision  (AP) @[ IoU=0.50:0.95 | area=medium | maxDets=1000 ] = 0.115\n",
      "Average Precision  (AP) @[ IoU=0.50:0.95 | area= large | maxDets=1000 ] = 0.252\n",
      "Average Recall     (AR) @[ IoU=0.50:0.95 | area=   all | maxDets=100 ] = 0.282\n",
      "Average Recall     (AR) @[ IoU=0.50:0.95 | area=   all | maxDets=300 ] = 0.282\n",
      "Average Recall     (AR) @[ IoU=0.50:0.95 | area=   all | maxDets=1000 ] = 0.282\n",
      "Average Recall     (AR) @[ IoU=0.50:0.95 | area= small | maxDets=1000 ] = 0.091\n",
      "Average Recall     (AR) @[ IoU=0.50:0.95 | area=medium | maxDets=1000 ] = 0.251\n",
      "Average Recall     (AR) @[ IoU=0.50:0.95 | area= large | maxDets=1000 ] = 0.486\n"
     ]
    },
    {
     "name": "stderr",
     "output_type": "stream",
     "text": [
      "2021-05-15 20:15:30,709 - mmdet - INFO - Now best checkpoint is epoch_13.pth.Best bbox_mAP_50 is 0.2320\n",
      "2021-05-15 20:15:30,717 - mmdet - INFO - Epoch(val) [13][164]\tbbox_mAP: 0.1320, bbox_mAP_50: 0.2320, bbox_mAP_75: 0.1320, bbox_mAP_s: 0.0290, bbox_mAP_m: 0.1150, bbox_mAP_l: 0.2520, bbox_mAP_copypaste: 0.132 0.232 0.132 0.029 0.115 0.252\n",
      "2021-05-15 20:16:27,972 - mmdet - INFO - Epoch [14][50/164]\tlr: 1.000e-05, eta: 1:07:06, time: 1.145, data_time: 0.072, memory: 7701, loss_rpn_cls: 0.0286, loss_rpn_bbox: 0.0427, loss_cls: 0.2522, acc: 91.9670, loss_bbox: 0.2488, loss: 0.5723, grad_norm: 1.0902\n",
      "2021-05-15 20:17:22,399 - mmdet - INFO - Epoch [14][100/164]\tlr: 1.000e-05, eta: 1:05:29, time: 1.089, data_time: 0.024, memory: 7701, loss_rpn_cls: 0.0273, loss_rpn_bbox: 0.0402, loss_cls: 0.2550, acc: 91.8552, loss_bbox: 0.2520, loss: 0.5745, grad_norm: 1.1167\n",
      "2021-05-15 20:18:16,960 - mmdet - INFO - Epoch [14][150/164]\tlr: 1.000e-05, eta: 1:03:55, time: 1.091, data_time: 0.024, memory: 7701, loss_rpn_cls: 0.0304, loss_rpn_bbox: 0.0433, loss_cls: 0.2615, acc: 91.6047, loss_bbox: 0.2593, loss: 0.5945, grad_norm: 1.1363\n",
      "2021-05-15 20:18:32,348 - mmdet - INFO - Saving checkpoint at 14 epochs\n"
     ]
    },
    {
     "name": "stdout",
     "output_type": "stream",
     "text": [
      "[>>>>>>>>>>>>>>>>>>>>>>>>>>>>>] 655/655, 22.0 task/s, elapsed: 30s, ETA:     0s"
     ]
    },
    {
     "name": "stderr",
     "output_type": "stream",
     "text": [
      "2021-05-15 20:19:04,211 - mmdet - INFO - Evaluating bbox...\n"
     ]
    },
    {
     "name": "stdout",
     "output_type": "stream",
     "text": [
      "Loading and preparing results...\n",
      "DONE (t=0.13s)\n",
      "creating index...\n",
      "index created!\n",
      "Running per image evaluation...\n",
      "Evaluate annotation type *bbox*\n",
      "DONE (t=6.34s).\n",
      "Accumulating evaluation results...\n"
     ]
    },
    {
     "name": "stderr",
     "output_type": "stream",
     "text": [
      "2021-05-15 20:19:11,604 - mmdet - INFO - Epoch(val) [14][164]\tbbox_mAP: 0.1320, bbox_mAP_50: 0.2290, bbox_mAP_75: 0.1320, bbox_mAP_s: 0.0280, bbox_mAP_m: 0.1130, bbox_mAP_l: 0.2570, bbox_mAP_copypaste: 0.132 0.229 0.132 0.028 0.113 0.257\n"
     ]
    },
    {
     "name": "stdout",
     "output_type": "stream",
     "text": [
      "DONE (t=0.83s).\n",
      "Average Precision  (AP) @[ IoU=0.50:0.95 | area=   all | maxDets=100 ] = 0.132\n",
      "Average Precision  (AP) @[ IoU=0.50      | area=   all | maxDets=1000 ] = 0.229\n",
      "Average Precision  (AP) @[ IoU=0.75      | area=   all | maxDets=1000 ] = 0.132\n",
      "Average Precision  (AP) @[ IoU=0.50:0.95 | area= small | maxDets=1000 ] = 0.028\n",
      "Average Precision  (AP) @[ IoU=0.50:0.95 | area=medium | maxDets=1000 ] = 0.113\n",
      "Average Precision  (AP) @[ IoU=0.50:0.95 | area= large | maxDets=1000 ] = 0.257\n",
      "Average Recall     (AR) @[ IoU=0.50:0.95 | area=   all | maxDets=100 ] = 0.281\n",
      "Average Recall     (AR) @[ IoU=0.50:0.95 | area=   all | maxDets=300 ] = 0.281\n",
      "Average Recall     (AR) @[ IoU=0.50:0.95 | area=   all | maxDets=1000 ] = 0.281\n",
      "Average Recall     (AR) @[ IoU=0.50:0.95 | area= small | maxDets=1000 ] = 0.089\n",
      "Average Recall     (AR) @[ IoU=0.50:0.95 | area=medium | maxDets=1000 ] = 0.248\n",
      "Average Recall     (AR) @[ IoU=0.50:0.95 | area= large | maxDets=1000 ] = 0.491\n"
     ]
    },
    {
     "name": "stderr",
     "output_type": "stream",
     "text": [
      "2021-05-15 20:20:08,593 - mmdet - INFO - Epoch [15][50/164]\tlr: 1.000e-05, eta: 1:01:42, time: 1.139, data_time: 0.074, memory: 7701, loss_rpn_cls: 0.0286, loss_rpn_bbox: 0.0436, loss_cls: 0.2495, acc: 92.0549, loss_bbox: 0.2486, loss: 0.5703, grad_norm: 1.0924\n",
      "2021-05-15 20:21:02,670 - mmdet - INFO - Epoch [15][100/164]\tlr: 1.000e-05, eta: 1:00:11, time: 1.082, data_time: 0.023, memory: 7701, loss_rpn_cls: 0.0278, loss_rpn_bbox: 0.0433, loss_cls: 0.2609, acc: 91.6919, loss_bbox: 0.2571, loss: 0.5891, grad_norm: 1.1369\n",
      "2021-05-15 20:21:56,702 - mmdet - INFO - Epoch [15][150/164]\tlr: 1.000e-05, eta: 0:58:42, time: 1.081, data_time: 0.023, memory: 7701, loss_rpn_cls: 0.0266, loss_rpn_bbox: 0.0397, loss_cls: 0.2487, acc: 92.0381, loss_bbox: 0.2454, loss: 0.5605, grad_norm: 1.1158\n",
      "2021-05-15 20:22:11,965 - mmdet - INFO - Saving checkpoint at 15 epochs\n"
     ]
    },
    {
     "name": "stdout",
     "output_type": "stream",
     "text": [
      "[>>>>>>>>>>>>>>>>>>>>>>>>>>>>>] 655/655, 21.4 task/s, elapsed: 31s, ETA:     0s"
     ]
    },
    {
     "name": "stderr",
     "output_type": "stream",
     "text": [
      "2021-05-15 20:22:44,567 - mmdet - INFO - Evaluating bbox...\n"
     ]
    },
    {
     "name": "stdout",
     "output_type": "stream",
     "text": [
      "Loading and preparing results...\n",
      "DONE (t=0.90s)\n",
      "creating index...\n",
      "index created!\n",
      "Running per image evaluation...\n",
      "Evaluate annotation type *bbox*\n",
      "DONE (t=5.84s).\n",
      "Accumulating evaluation results...\n"
     ]
    },
    {
     "name": "stderr",
     "output_type": "stream",
     "text": [
      "2021-05-15 20:22:52,226 - mmdet - INFO - Epoch(val) [15][164]\tbbox_mAP: 0.1320, bbox_mAP_50: 0.2310, bbox_mAP_75: 0.1310, bbox_mAP_s: 0.0280, bbox_mAP_m: 0.1160, bbox_mAP_l: 0.2530, bbox_mAP_copypaste: 0.132 0.231 0.131 0.028 0.116 0.253\n"
     ]
    },
    {
     "name": "stdout",
     "output_type": "stream",
     "text": [
      "DONE (t=0.84s).\n",
      "Average Precision  (AP) @[ IoU=0.50:0.95 | area=   all | maxDets=100 ] = 0.132\n",
      "Average Precision  (AP) @[ IoU=0.50      | area=   all | maxDets=1000 ] = 0.231\n",
      "Average Precision  (AP) @[ IoU=0.75      | area=   all | maxDets=1000 ] = 0.131\n",
      "Average Precision  (AP) @[ IoU=0.50:0.95 | area= small | maxDets=1000 ] = 0.028\n",
      "Average Precision  (AP) @[ IoU=0.50:0.95 | area=medium | maxDets=1000 ] = 0.116\n",
      "Average Precision  (AP) @[ IoU=0.50:0.95 | area= large | maxDets=1000 ] = 0.253\n",
      "Average Recall     (AR) @[ IoU=0.50:0.95 | area=   all | maxDets=100 ] = 0.278\n",
      "Average Recall     (AR) @[ IoU=0.50:0.95 | area=   all | maxDets=300 ] = 0.278\n",
      "Average Recall     (AR) @[ IoU=0.50:0.95 | area=   all | maxDets=1000 ] = 0.278\n",
      "Average Recall     (AR) @[ IoU=0.50:0.95 | area= small | maxDets=1000 ] = 0.088\n",
      "Average Recall     (AR) @[ IoU=0.50:0.95 | area=medium | maxDets=1000 ] = 0.250\n",
      "Average Recall     (AR) @[ IoU=0.50:0.95 | area= large | maxDets=1000 ] = 0.483\n"
     ]
    },
    {
     "name": "stderr",
     "output_type": "stream",
     "text": [
      "2021-05-15 20:23:49,704 - mmdet - INFO - Epoch [16][50/164]\tlr: 1.000e-05, eta: 0:56:39, time: 1.149, data_time: 0.075, memory: 7701, loss_rpn_cls: 0.0272, loss_rpn_bbox: 0.0405, loss_cls: 0.2471, acc: 92.0898, loss_bbox: 0.2489, loss: 0.5637, grad_norm: 1.1066\n",
      "2021-05-15 20:24:44,007 - mmdet - INFO - Epoch [16][100/164]\tlr: 1.000e-05, eta: 0:55:13, time: 1.086, data_time: 0.024, memory: 7701, loss_rpn_cls: 0.0275, loss_rpn_bbox: 0.0412, loss_cls: 0.2496, acc: 92.0503, loss_bbox: 0.2522, loss: 0.5704, grad_norm: 1.1284\n",
      "2021-05-15 20:25:37,987 - mmdet - INFO - Epoch [16][150/164]\tlr: 1.000e-05, eta: 0:53:49, time: 1.080, data_time: 0.023, memory: 7701, loss_rpn_cls: 0.0271, loss_rpn_bbox: 0.0428, loss_cls: 0.2519, acc: 91.9556, loss_bbox: 0.2477, loss: 0.5695, grad_norm: 1.1053\n",
      "2021-05-15 20:25:53,237 - mmdet - INFO - Saving checkpoint at 16 epochs\n"
     ]
    },
    {
     "name": "stdout",
     "output_type": "stream",
     "text": [
      "[>>>>>>>>>>>>>>>>>>>>>>>>>>>>>] 655/655, 21.8 task/s, elapsed: 30s, ETA:     0s"
     ]
    },
    {
     "name": "stderr",
     "output_type": "stream",
     "text": [
      "2021-05-15 20:26:26,203 - mmdet - INFO - Evaluating bbox...\n"
     ]
    },
    {
     "name": "stdout",
     "output_type": "stream",
     "text": [
      "Loading and preparing results...\n",
      "DONE (t=0.12s)\n",
      "creating index...\n",
      "index created!\n",
      "Running per image evaluation...\n",
      "Evaluate annotation type *bbox*\n",
      "DONE (t=6.32s).\n",
      "Accumulating evaluation results...\n"
     ]
    },
    {
     "name": "stderr",
     "output_type": "stream",
     "text": [
      "2021-05-15 20:26:33,574 - mmdet - INFO - Epoch(val) [16][164]\tbbox_mAP: 0.1320, bbox_mAP_50: 0.2310, bbox_mAP_75: 0.1310, bbox_mAP_s: 0.0280, bbox_mAP_m: 0.1150, bbox_mAP_l: 0.2570, bbox_mAP_copypaste: 0.132 0.231 0.131 0.028 0.115 0.257\n"
     ]
    },
    {
     "name": "stdout",
     "output_type": "stream",
     "text": [
      "DONE (t=0.84s).\n",
      "Average Precision  (AP) @[ IoU=0.50:0.95 | area=   all | maxDets=100 ] = 0.132\n",
      "Average Precision  (AP) @[ IoU=0.50      | area=   all | maxDets=1000 ] = 0.231\n",
      "Average Precision  (AP) @[ IoU=0.75      | area=   all | maxDets=1000 ] = 0.131\n",
      "Average Precision  (AP) @[ IoU=0.50:0.95 | area= small | maxDets=1000 ] = 0.028\n",
      "Average Precision  (AP) @[ IoU=0.50:0.95 | area=medium | maxDets=1000 ] = 0.115\n",
      "Average Precision  (AP) @[ IoU=0.50:0.95 | area= large | maxDets=1000 ] = 0.257\n",
      "Average Recall     (AR) @[ IoU=0.50:0.95 | area=   all | maxDets=100 ] = 0.287\n",
      "Average Recall     (AR) @[ IoU=0.50:0.95 | area=   all | maxDets=300 ] = 0.287\n",
      "Average Recall     (AR) @[ IoU=0.50:0.95 | area=   all | maxDets=1000 ] = 0.287\n",
      "Average Recall     (AR) @[ IoU=0.50:0.95 | area= small | maxDets=1000 ] = 0.085\n",
      "Average Recall     (AR) @[ IoU=0.50:0.95 | area=medium | maxDets=1000 ] = 0.248\n",
      "Average Recall     (AR) @[ IoU=0.50:0.95 | area= large | maxDets=1000 ] = 0.529\n"
     ]
    },
    {
     "name": "stderr",
     "output_type": "stream",
     "text": [
      "2021-05-15 20:27:30,261 - mmdet - INFO - Epoch [17][50/164]\tlr: 1.000e-05, eta: 0:51:52, time: 1.133, data_time: 0.072, memory: 7701, loss_rpn_cls: 0.0278, loss_rpn_bbox: 0.0420, loss_cls: 0.2396, acc: 92.3171, loss_bbox: 0.2381, loss: 0.5475, grad_norm: 1.0958\n",
      "2021-05-15 20:28:24,377 - mmdet - INFO - Epoch [17][100/164]\tlr: 1.000e-05, eta: 0:50:30, time: 1.082, data_time: 0.024, memory: 7701, loss_rpn_cls: 0.0280, loss_rpn_bbox: 0.0416, loss_cls: 0.2478, acc: 91.9548, loss_bbox: 0.2531, loss: 0.5705, grad_norm: 1.1308\n",
      "2021-05-15 20:29:19,070 - mmdet - INFO - Epoch [17][150/164]\tlr: 1.000e-05, eta: 0:49:10, time: 1.094, data_time: 0.025, memory: 7701, loss_rpn_cls: 0.0270, loss_rpn_bbox: 0.0423, loss_cls: 0.2511, acc: 91.9683, loss_bbox: 0.2510, loss: 0.5714, grad_norm: 1.1356\n",
      "2021-05-15 20:29:34,396 - mmdet - INFO - Saving checkpoint at 17 epochs\n"
     ]
    },
    {
     "name": "stdout",
     "output_type": "stream",
     "text": [
      "[>>>>>>>>>>>>>>>>>>>>>>>>>>>>>] 655/655, 21.9 task/s, elapsed: 30s, ETA:     0s"
     ]
    },
    {
     "name": "stderr",
     "output_type": "stream",
     "text": [
      "2021-05-15 20:30:06,434 - mmdet - INFO - Evaluating bbox...\n"
     ]
    },
    {
     "name": "stdout",
     "output_type": "stream",
     "text": [
      "Loading and preparing results...\n",
      "DONE (t=0.12s)\n",
      "creating index...\n",
      "index created!\n",
      "Running per image evaluation...\n",
      "Evaluate annotation type *bbox*\n",
      "DONE (t=6.53s).\n",
      "Accumulating evaluation results...\n"
     ]
    },
    {
     "name": "stderr",
     "output_type": "stream",
     "text": [
      "2021-05-15 20:30:14,023 - mmdet - INFO - Epoch(val) [17][164]\tbbox_mAP: 0.1330, bbox_mAP_50: 0.2300, bbox_mAP_75: 0.1340, bbox_mAP_s: 0.0290, bbox_mAP_m: 0.1160, bbox_mAP_l: 0.2560, bbox_mAP_copypaste: 0.133 0.230 0.134 0.029 0.116 0.256\n"
     ]
    },
    {
     "name": "stdout",
     "output_type": "stream",
     "text": [
      "DONE (t=0.85s).\n",
      "Average Precision  (AP) @[ IoU=0.50:0.95 | area=   all | maxDets=100 ] = 0.133\n",
      "Average Precision  (AP) @[ IoU=0.50      | area=   all | maxDets=1000 ] = 0.230\n",
      "Average Precision  (AP) @[ IoU=0.75      | area=   all | maxDets=1000 ] = 0.134\n",
      "Average Precision  (AP) @[ IoU=0.50:0.95 | area= small | maxDets=1000 ] = 0.029\n",
      "Average Precision  (AP) @[ IoU=0.50:0.95 | area=medium | maxDets=1000 ] = 0.116\n",
      "Average Precision  (AP) @[ IoU=0.50:0.95 | area= large | maxDets=1000 ] = 0.256\n",
      "Average Recall     (AR) @[ IoU=0.50:0.95 | area=   all | maxDets=100 ] = 0.287\n",
      "Average Recall     (AR) @[ IoU=0.50:0.95 | area=   all | maxDets=300 ] = 0.287\n",
      "Average Recall     (AR) @[ IoU=0.50:0.95 | area=   all | maxDets=1000 ] = 0.287\n",
      "Average Recall     (AR) @[ IoU=0.50:0.95 | area= small | maxDets=1000 ] = 0.091\n",
      "Average Recall     (AR) @[ IoU=0.50:0.95 | area=medium | maxDets=1000 ] = 0.256\n",
      "Average Recall     (AR) @[ IoU=0.50:0.95 | area= large | maxDets=1000 ] = 0.525\n"
     ]
    },
    {
     "name": "stderr",
     "output_type": "stream",
     "text": [
      "2021-05-15 20:31:11,634 - mmdet - INFO - Epoch [18][50/164]\tlr: 1.000e-05, eta: 0:47:20, time: 1.152, data_time: 0.074, memory: 7701, loss_rpn_cls: 0.0269, loss_rpn_bbox: 0.0421, loss_cls: 0.2450, acc: 92.1306, loss_bbox: 0.2459, loss: 0.5599, grad_norm: 1.1268\n",
      "2021-05-15 20:32:06,040 - mmdet - INFO - Epoch [18][100/164]\tlr: 1.000e-05, eta: 0:46:02, time: 1.088, data_time: 0.024, memory: 7701, loss_rpn_cls: 0.0264, loss_rpn_bbox: 0.0414, loss_cls: 0.2482, acc: 91.9702, loss_bbox: 0.2453, loss: 0.5614, grad_norm: 1.1322\n",
      "2021-05-15 20:33:00,667 - mmdet - INFO - Epoch [18][150/164]\tlr: 1.000e-05, eta: 0:44:45, time: 1.093, data_time: 0.025, memory: 7701, loss_rpn_cls: 0.0250, loss_rpn_bbox: 0.0394, loss_cls: 0.2379, acc: 92.4141, loss_bbox: 0.2433, loss: 0.5457, grad_norm: 1.1367\n",
      "2021-05-15 20:33:16,105 - mmdet - INFO - Saving checkpoint at 18 epochs\n"
     ]
    },
    {
     "name": "stdout",
     "output_type": "stream",
     "text": [
      "[>>>>>>>>>>>>>>>>>>>>>>>>>>>>>] 655/655, 22.2 task/s, elapsed: 29s, ETA:     0s"
     ]
    },
    {
     "name": "stderr",
     "output_type": "stream",
     "text": [
      "2021-05-15 20:33:47,658 - mmdet - INFO - Evaluating bbox...\n"
     ]
    },
    {
     "name": "stdout",
     "output_type": "stream",
     "text": [
      "Loading and preparing results...\n",
      "DONE (t=0.89s)\n",
      "creating index...\n",
      "index created!\n",
      "Running per image evaluation...\n",
      "Evaluate annotation type *bbox*\n",
      "DONE (t=5.24s).\n",
      "Accumulating evaluation results...\n"
     ]
    },
    {
     "name": "stderr",
     "output_type": "stream",
     "text": [
      "2021-05-15 20:33:54,749 - mmdet - INFO - Epoch(val) [18][164]\tbbox_mAP: 0.1320, bbox_mAP_50: 0.2290, bbox_mAP_75: 0.1310, bbox_mAP_s: 0.0290, bbox_mAP_m: 0.1150, bbox_mAP_l: 0.2580, bbox_mAP_copypaste: 0.132 0.229 0.131 0.029 0.115 0.258\n"
     ]
    },
    {
     "name": "stdout",
     "output_type": "stream",
     "text": [
      "DONE (t=0.86s).\n",
      "Average Precision  (AP) @[ IoU=0.50:0.95 | area=   all | maxDets=100 ] = 0.132\n",
      "Average Precision  (AP) @[ IoU=0.50      | area=   all | maxDets=1000 ] = 0.229\n",
      "Average Precision  (AP) @[ IoU=0.75      | area=   all | maxDets=1000 ] = 0.131\n",
      "Average Precision  (AP) @[ IoU=0.50:0.95 | area= small | maxDets=1000 ] = 0.029\n",
      "Average Precision  (AP) @[ IoU=0.50:0.95 | area=medium | maxDets=1000 ] = 0.115\n",
      "Average Precision  (AP) @[ IoU=0.50:0.95 | area= large | maxDets=1000 ] = 0.258\n",
      "Average Recall     (AR) @[ IoU=0.50:0.95 | area=   all | maxDets=100 ] = 0.289\n",
      "Average Recall     (AR) @[ IoU=0.50:0.95 | area=   all | maxDets=300 ] = 0.289\n",
      "Average Recall     (AR) @[ IoU=0.50:0.95 | area=   all | maxDets=1000 ] = 0.289\n",
      "Average Recall     (AR) @[ IoU=0.50:0.95 | area= small | maxDets=1000 ] = 0.087\n",
      "Average Recall     (AR) @[ IoU=0.50:0.95 | area=medium | maxDets=1000 ] = 0.254\n",
      "Average Recall     (AR) @[ IoU=0.50:0.95 | area= large | maxDets=1000 ] = 0.526\n"
     ]
    },
    {
     "name": "stderr",
     "output_type": "stream",
     "text": [
      "2021-05-15 20:34:51,775 - mmdet - INFO - Epoch [19][50/164]\tlr: 1.000e-05, eta: 0:42:59, time: 1.140, data_time: 0.073, memory: 7701, loss_rpn_cls: 0.0277, loss_rpn_bbox: 0.0422, loss_cls: 0.2463, acc: 92.0059, loss_bbox: 0.2532, loss: 0.5694, grad_norm: 1.1537\n",
      "2021-05-15 20:35:46,593 - mmdet - INFO - Epoch [19][100/164]\tlr: 1.000e-05, eta: 0:41:44, time: 1.096, data_time: 0.025, memory: 7701, loss_rpn_cls: 0.0268, loss_rpn_bbox: 0.0420, loss_cls: 0.2449, acc: 92.1868, loss_bbox: 0.2447, loss: 0.5583, grad_norm: 1.1536\n",
      "2021-05-15 20:36:41,109 - mmdet - INFO - Epoch [19][150/164]\tlr: 1.000e-05, eta: 0:40:30, time: 1.090, data_time: 0.024, memory: 7701, loss_rpn_cls: 0.0252, loss_rpn_bbox: 0.0403, loss_cls: 0.2375, acc: 92.3506, loss_bbox: 0.2435, loss: 0.5464, grad_norm: 1.1579\n",
      "2021-05-15 20:36:56,471 - mmdet - INFO - Saving checkpoint at 19 epochs\n"
     ]
    },
    {
     "name": "stdout",
     "output_type": "stream",
     "text": [
      "[>>>>>>>>>>>>>>>>>>>>>>>>>>>>>] 655/655, 22.3 task/s, elapsed: 29s, ETA:     0s"
     ]
    },
    {
     "name": "stderr",
     "output_type": "stream",
     "text": [
      "2021-05-15 20:37:28,995 - mmdet - INFO - Evaluating bbox...\n"
     ]
    },
    {
     "name": "stdout",
     "output_type": "stream",
     "text": [
      "Loading and preparing results...\n",
      "DONE (t=0.16s)\n",
      "creating index...\n",
      "index created!\n",
      "Running per image evaluation...\n",
      "Evaluate annotation type *bbox*\n",
      "DONE (t=6.14s).\n",
      "Accumulating evaluation results...\n"
     ]
    },
    {
     "name": "stderr",
     "output_type": "stream",
     "text": [
      "2021-05-15 20:37:36,177 - mmdet - INFO - Epoch(val) [19][164]\tbbox_mAP: 0.1340, bbox_mAP_50: 0.2320, bbox_mAP_75: 0.1340, bbox_mAP_s: 0.0290, bbox_mAP_m: 0.1160, bbox_mAP_l: 0.2610, bbox_mAP_copypaste: 0.134 0.232 0.134 0.029 0.116 0.261\n"
     ]
    },
    {
     "name": "stdout",
     "output_type": "stream",
     "text": [
      "DONE (t=0.80s).\n",
      "Average Precision  (AP) @[ IoU=0.50:0.95 | area=   all | maxDets=100 ] = 0.134\n",
      "Average Precision  (AP) @[ IoU=0.50      | area=   all | maxDets=1000 ] = 0.232\n",
      "Average Precision  (AP) @[ IoU=0.75      | area=   all | maxDets=1000 ] = 0.134\n",
      "Average Precision  (AP) @[ IoU=0.50:0.95 | area= small | maxDets=1000 ] = 0.029\n",
      "Average Precision  (AP) @[ IoU=0.50:0.95 | area=medium | maxDets=1000 ] = 0.116\n",
      "Average Precision  (AP) @[ IoU=0.50:0.95 | area= large | maxDets=1000 ] = 0.261\n",
      "Average Recall     (AR) @[ IoU=0.50:0.95 | area=   all | maxDets=100 ] = 0.286\n",
      "Average Recall     (AR) @[ IoU=0.50:0.95 | area=   all | maxDets=300 ] = 0.286\n",
      "Average Recall     (AR) @[ IoU=0.50:0.95 | area=   all | maxDets=1000 ] = 0.286\n",
      "Average Recall     (AR) @[ IoU=0.50:0.95 | area= small | maxDets=1000 ] = 0.088\n",
      "Average Recall     (AR) @[ IoU=0.50:0.95 | area=medium | maxDets=1000 ] = 0.245\n",
      "Average Recall     (AR) @[ IoU=0.50:0.95 | area= large | maxDets=1000 ] = 0.534\n"
     ]
    },
    {
     "name": "stderr",
     "output_type": "stream",
     "text": [
      "2021-05-15 20:38:33,134 - mmdet - INFO - Epoch [20][50/164]\tlr: 1.000e-05, eta: 0:38:48, time: 1.139, data_time: 0.072, memory: 7701, loss_rpn_cls: 0.0258, loss_rpn_bbox: 0.0415, loss_cls: 0.2423, acc: 92.1860, loss_bbox: 0.2488, loss: 0.5584, grad_norm: 1.1406\n",
      "2021-05-15 20:39:27,966 - mmdet - INFO - Epoch [20][100/164]\tlr: 1.000e-05, eta: 0:37:36, time: 1.097, data_time: 0.025, memory: 7701, loss_rpn_cls: 0.0252, loss_rpn_bbox: 0.0406, loss_cls: 0.2374, acc: 92.3391, loss_bbox: 0.2417, loss: 0.5449, grad_norm: 1.1366\n",
      "2021-05-15 20:40:22,664 - mmdet - INFO - Epoch [20][150/164]\tlr: 1.000e-05, eta: 0:36:24, time: 1.094, data_time: 0.026, memory: 7701, loss_rpn_cls: 0.0263, loss_rpn_bbox: 0.0419, loss_cls: 0.2418, acc: 92.1917, loss_bbox: 0.2477, loss: 0.5577, grad_norm: 1.1408\n",
      "2021-05-15 20:40:38,065 - mmdet - INFO - Saving checkpoint at 20 epochs\n"
     ]
    },
    {
     "name": "stdout",
     "output_type": "stream",
     "text": [
      "[>>>>>>>>>>>>>>>>>>>>>>>>>>>>>] 655/655, 22.2 task/s, elapsed: 30s, ETA:     0s"
     ]
    },
    {
     "name": "stderr",
     "output_type": "stream",
     "text": [
      "2021-05-15 20:41:09,532 - mmdet - INFO - Evaluating bbox...\n"
     ]
    },
    {
     "name": "stdout",
     "output_type": "stream",
     "text": [
      "Loading and preparing results...\n",
      "DONE (t=0.10s)\n",
      "creating index...\n",
      "index created!\n",
      "Running per image evaluation...\n",
      "Evaluate annotation type *bbox*\n",
      "DONE (t=6.07s).\n",
      "Accumulating evaluation results...\n"
     ]
    },
    {
     "name": "stderr",
     "output_type": "stream",
     "text": [
      "2021-05-15 20:41:16,602 - mmdet - INFO - Epoch(val) [20][164]\tbbox_mAP: 0.1330, bbox_mAP_50: 0.2280, bbox_mAP_75: 0.1340, bbox_mAP_s: 0.0290, bbox_mAP_m: 0.1150, bbox_mAP_l: 0.2600, bbox_mAP_copypaste: 0.133 0.228 0.134 0.029 0.115 0.260\n"
     ]
    },
    {
     "name": "stdout",
     "output_type": "stream",
     "text": [
      "DONE (t=0.82s).\n",
      "Average Precision  (AP) @[ IoU=0.50:0.95 | area=   all | maxDets=100 ] = 0.133\n",
      "Average Precision  (AP) @[ IoU=0.50      | area=   all | maxDets=1000 ] = 0.228\n",
      "Average Precision  (AP) @[ IoU=0.75      | area=   all | maxDets=1000 ] = 0.134\n",
      "Average Precision  (AP) @[ IoU=0.50:0.95 | area= small | maxDets=1000 ] = 0.029\n",
      "Average Precision  (AP) @[ IoU=0.50:0.95 | area=medium | maxDets=1000 ] = 0.115\n",
      "Average Precision  (AP) @[ IoU=0.50:0.95 | area= large | maxDets=1000 ] = 0.260\n",
      "Average Recall     (AR) @[ IoU=0.50:0.95 | area=   all | maxDets=100 ] = 0.285\n",
      "Average Recall     (AR) @[ IoU=0.50:0.95 | area=   all | maxDets=300 ] = 0.285\n",
      "Average Recall     (AR) @[ IoU=0.50:0.95 | area=   all | maxDets=1000 ] = 0.285\n",
      "Average Recall     (AR) @[ IoU=0.50:0.95 | area= small | maxDets=1000 ] = 0.085\n",
      "Average Recall     (AR) @[ IoU=0.50:0.95 | area=medium | maxDets=1000 ] = 0.246\n",
      "Average Recall     (AR) @[ IoU=0.50:0.95 | area= large | maxDets=1000 ] = 0.526\n"
     ]
    },
    {
     "name": "stderr",
     "output_type": "stream",
     "text": [
      "2021-05-15 20:42:13,486 - mmdet - INFO - Epoch [21][50/164]\tlr: 1.000e-05, eta: 0:34:46, time: 1.137, data_time: 0.074, memory: 7701, loss_rpn_cls: 0.0251, loss_rpn_bbox: 0.0391, loss_cls: 0.2317, acc: 92.5298, loss_bbox: 0.2362, loss: 0.5321, grad_norm: 1.1410\n",
      "2021-05-15 20:43:07,795 - mmdet - INFO - Epoch [21][100/164]\tlr: 1.000e-05, eta: 0:33:35, time: 1.086, data_time: 0.025, memory: 7701, loss_rpn_cls: 0.0254, loss_rpn_bbox: 0.0427, loss_cls: 0.2395, acc: 92.3076, loss_bbox: 0.2431, loss: 0.5507, grad_norm: 1.1764\n",
      "2021-05-15 20:44:01,769 - mmdet - INFO - Epoch [21][150/164]\tlr: 1.000e-05, eta: 0:32:25, time: 1.079, data_time: 0.024, memory: 7701, loss_rpn_cls: 0.0257, loss_rpn_bbox: 0.0432, loss_cls: 0.2450, acc: 92.0796, loss_bbox: 0.2528, loss: 0.5667, grad_norm: 1.1896\n",
      "2021-05-15 20:44:17,196 - mmdet - INFO - Saving checkpoint at 21 epochs\n"
     ]
    },
    {
     "name": "stdout",
     "output_type": "stream",
     "text": [
      "[>>>>>>>>>>>>>>>>>>>>>>>>>>>>>] 655/655, 22.0 task/s, elapsed: 30s, ETA:     0s"
     ]
    },
    {
     "name": "stderr",
     "output_type": "stream",
     "text": [
      "2021-05-15 20:44:49,247 - mmdet - INFO - Evaluating bbox...\n"
     ]
    },
    {
     "name": "stdout",
     "output_type": "stream",
     "text": [
      "Loading and preparing results...\n",
      "DONE (t=1.15s)\n",
      "creating index...\n",
      "index created!\n",
      "Running per image evaluation...\n",
      "Evaluate annotation type *bbox*\n",
      "DONE (t=5.28s).\n",
      "Accumulating evaluation results...\n"
     ]
    },
    {
     "name": "stderr",
     "output_type": "stream",
     "text": [
      "2021-05-15 20:44:56,598 - mmdet - INFO - Epoch(val) [21][164]\tbbox_mAP: 0.1340, bbox_mAP_50: 0.2290, bbox_mAP_75: 0.1320, bbox_mAP_s: 0.0290, bbox_mAP_m: 0.1150, bbox_mAP_l: 0.2650, bbox_mAP_copypaste: 0.134 0.229 0.132 0.029 0.115 0.265\n"
     ]
    },
    {
     "name": "stdout",
     "output_type": "stream",
     "text": [
      "DONE (t=0.83s).\n",
      "Average Precision  (AP) @[ IoU=0.50:0.95 | area=   all | maxDets=100 ] = 0.134\n",
      "Average Precision  (AP) @[ IoU=0.50      | area=   all | maxDets=1000 ] = 0.229\n",
      "Average Precision  (AP) @[ IoU=0.75      | area=   all | maxDets=1000 ] = 0.132\n",
      "Average Precision  (AP) @[ IoU=0.50:0.95 | area= small | maxDets=1000 ] = 0.029\n",
      "Average Precision  (AP) @[ IoU=0.50:0.95 | area=medium | maxDets=1000 ] = 0.115\n",
      "Average Precision  (AP) @[ IoU=0.50:0.95 | area= large | maxDets=1000 ] = 0.265\n",
      "Average Recall     (AR) @[ IoU=0.50:0.95 | area=   all | maxDets=100 ] = 0.291\n",
      "Average Recall     (AR) @[ IoU=0.50:0.95 | area=   all | maxDets=300 ] = 0.291\n",
      "Average Recall     (AR) @[ IoU=0.50:0.95 | area=   all | maxDets=1000 ] = 0.291\n",
      "Average Recall     (AR) @[ IoU=0.50:0.95 | area= small | maxDets=1000 ] = 0.085\n",
      "Average Recall     (AR) @[ IoU=0.50:0.95 | area=medium | maxDets=1000 ] = 0.250\n",
      "Average Recall     (AR) @[ IoU=0.50:0.95 | area= large | maxDets=1000 ] = 0.529\n"
     ]
    },
    {
     "name": "stderr",
     "output_type": "stream",
     "text": [
      "2021-05-15 20:45:53,606 - mmdet - INFO - Epoch [22][50/164]\tlr: 1.000e-05, eta: 0:30:51, time: 1.140, data_time: 0.073, memory: 7701, loss_rpn_cls: 0.0237, loss_rpn_bbox: 0.0397, loss_cls: 0.2346, acc: 92.3889, loss_bbox: 0.2396, loss: 0.5376, grad_norm: 1.1600\n",
      "2021-05-15 20:46:48,235 - mmdet - INFO - Epoch [22][100/164]\tlr: 1.000e-05, eta: 0:29:42, time: 1.093, data_time: 0.024, memory: 7701, loss_rpn_cls: 0.0221, loss_rpn_bbox: 0.0386, loss_cls: 0.2236, acc: 92.6707, loss_bbox: 0.2292, loss: 0.5134, grad_norm: 1.1416\n",
      "2021-05-15 20:47:42,868 - mmdet - INFO - Epoch [22][150/164]\tlr: 1.000e-05, eta: 0:28:33, time: 1.093, data_time: 0.024, memory: 7701, loss_rpn_cls: 0.0262, loss_rpn_bbox: 0.0426, loss_cls: 0.2402, acc: 92.2683, loss_bbox: 0.2485, loss: 0.5574, grad_norm: 1.1684\n",
      "2021-05-15 20:47:58,331 - mmdet - INFO - Saving checkpoint at 22 epochs\n"
     ]
    },
    {
     "name": "stdout",
     "output_type": "stream",
     "text": [
      "[>>>>>>>>>>>>>>>>>>>>>>>>>>>>>] 655/655, 22.0 task/s, elapsed: 30s, ETA:     0s"
     ]
    },
    {
     "name": "stderr",
     "output_type": "stream",
     "text": [
      "2021-05-15 20:48:30,046 - mmdet - INFO - Evaluating bbox...\n"
     ]
    },
    {
     "name": "stdout",
     "output_type": "stream",
     "text": [
      "Loading and preparing results...\n",
      "DONE (t=0.88s)\n",
      "creating index...\n",
      "index created!\n",
      "Running per image evaluation...\n",
      "Evaluate annotation type *bbox*\n",
      "DONE (t=5.46s).\n",
      "Accumulating evaluation results...\n"
     ]
    },
    {
     "name": "stderr",
     "output_type": "stream",
     "text": [
      "2021-05-15 20:48:37,252 - mmdet - INFO - Epoch(val) [22][164]\tbbox_mAP: 0.1340, bbox_mAP_50: 0.2290, bbox_mAP_75: 0.1330, bbox_mAP_s: 0.0280, bbox_mAP_m: 0.1150, bbox_mAP_l: 0.2650, bbox_mAP_copypaste: 0.134 0.229 0.133 0.028 0.115 0.265\n"
     ]
    },
    {
     "name": "stdout",
     "output_type": "stream",
     "text": [
      "DONE (t=0.79s).\n",
      "Average Precision  (AP) @[ IoU=0.50:0.95 | area=   all | maxDets=100 ] = 0.134\n",
      "Average Precision  (AP) @[ IoU=0.50      | area=   all | maxDets=1000 ] = 0.229\n",
      "Average Precision  (AP) @[ IoU=0.75      | area=   all | maxDets=1000 ] = 0.133\n",
      "Average Precision  (AP) @[ IoU=0.50:0.95 | area= small | maxDets=1000 ] = 0.028\n",
      "Average Precision  (AP) @[ IoU=0.50:0.95 | area=medium | maxDets=1000 ] = 0.115\n",
      "Average Precision  (AP) @[ IoU=0.50:0.95 | area= large | maxDets=1000 ] = 0.265\n",
      "Average Recall     (AR) @[ IoU=0.50:0.95 | area=   all | maxDets=100 ] = 0.290\n",
      "Average Recall     (AR) @[ IoU=0.50:0.95 | area=   all | maxDets=300 ] = 0.290\n",
      "Average Recall     (AR) @[ IoU=0.50:0.95 | area=   all | maxDets=1000 ] = 0.290\n",
      "Average Recall     (AR) @[ IoU=0.50:0.95 | area= small | maxDets=1000 ] = 0.087\n",
      "Average Recall     (AR) @[ IoU=0.50:0.95 | area=medium | maxDets=1000 ] = 0.250\n",
      "Average Recall     (AR) @[ IoU=0.50:0.95 | area= large | maxDets=1000 ] = 0.533\n"
     ]
    },
    {
     "name": "stderr",
     "output_type": "stream",
     "text": [
      "2021-05-15 20:49:34,397 - mmdet - INFO - Epoch [23][50/164]\tlr: 1.000e-05, eta: 0:27:02, time: 1.143, data_time: 0.074, memory: 7701, loss_rpn_cls: 0.0235, loss_rpn_bbox: 0.0402, loss_cls: 0.2361, acc: 92.4536, loss_bbox: 0.2411, loss: 0.5409, grad_norm: 1.1526\n",
      "2021-05-15 20:50:29,283 - mmdet - INFO - Epoch [23][100/164]\tlr: 1.000e-05, eta: 0:25:54, time: 1.098, data_time: 0.025, memory: 7701, loss_rpn_cls: 0.0231, loss_rpn_bbox: 0.0398, loss_cls: 0.2247, acc: 92.7627, loss_bbox: 0.2343, loss: 0.5219, grad_norm: 1.1543\n",
      "2021-05-15 20:51:23,988 - mmdet - INFO - Epoch [23][150/164]\tlr: 1.000e-05, eta: 0:24:47, time: 1.094, data_time: 0.025, memory: 7701, loss_rpn_cls: 0.0250, loss_rpn_bbox: 0.0405, loss_cls: 0.2300, acc: 92.4417, loss_bbox: 0.2396, loss: 0.5350, grad_norm: 1.1679\n",
      "2021-05-15 20:51:39,490 - mmdet - INFO - Saving checkpoint at 23 epochs\n"
     ]
    },
    {
     "name": "stdout",
     "output_type": "stream",
     "text": [
      "[>>>>>>>>>>>>>>>>>>>>>>>>>>>>>] 655/655, 22.2 task/s, elapsed: 29s, ETA:     0s"
     ]
    },
    {
     "name": "stderr",
     "output_type": "stream",
     "text": [
      "2021-05-15 20:52:11,998 - mmdet - INFO - Evaluating bbox...\n"
     ]
    },
    {
     "name": "stdout",
     "output_type": "stream",
     "text": [
      "Loading and preparing results...\n",
      "DONE (t=0.11s)\n",
      "creating index...\n",
      "index created!\n",
      "Running per image evaluation...\n",
      "Evaluate annotation type *bbox*\n",
      "DONE (t=5.86s).\n",
      "Accumulating evaluation results...\n"
     ]
    },
    {
     "name": "stderr",
     "output_type": "stream",
     "text": [
      "2021-05-15 20:52:18,844 - mmdet - INFO - Epoch(val) [23][164]\tbbox_mAP: 0.1340, bbox_mAP_50: 0.2290, bbox_mAP_75: 0.1330, bbox_mAP_s: 0.0270, bbox_mAP_m: 0.1150, bbox_mAP_l: 0.2650, bbox_mAP_copypaste: 0.134 0.229 0.133 0.027 0.115 0.265\n"
     ]
    },
    {
     "name": "stdout",
     "output_type": "stream",
     "text": [
      "DONE (t=0.79s).\n",
      "Average Precision  (AP) @[ IoU=0.50:0.95 | area=   all | maxDets=100 ] = 0.134\n",
      "Average Precision  (AP) @[ IoU=0.50      | area=   all | maxDets=1000 ] = 0.229\n",
      "Average Precision  (AP) @[ IoU=0.75      | area=   all | maxDets=1000 ] = 0.133\n",
      "Average Precision  (AP) @[ IoU=0.50:0.95 | area= small | maxDets=1000 ] = 0.027\n",
      "Average Precision  (AP) @[ IoU=0.50:0.95 | area=medium | maxDets=1000 ] = 0.115\n",
      "Average Precision  (AP) @[ IoU=0.50:0.95 | area= large | maxDets=1000 ] = 0.265\n",
      "Average Recall     (AR) @[ IoU=0.50:0.95 | area=   all | maxDets=100 ] = 0.284\n",
      "Average Recall     (AR) @[ IoU=0.50:0.95 | area=   all | maxDets=300 ] = 0.284\n",
      "Average Recall     (AR) @[ IoU=0.50:0.95 | area=   all | maxDets=1000 ] = 0.284\n",
      "Average Recall     (AR) @[ IoU=0.50:0.95 | area= small | maxDets=1000 ] = 0.084\n",
      "Average Recall     (AR) @[ IoU=0.50:0.95 | area=medium | maxDets=1000 ] = 0.246\n",
      "Average Recall     (AR) @[ IoU=0.50:0.95 | area= large | maxDets=1000 ] = 0.525\n"
     ]
    },
    {
     "name": "stderr",
     "output_type": "stream",
     "text": [
      "2021-05-15 20:53:16,290 - mmdet - INFO - Epoch [24][50/164]\tlr: 1.000e-05, eta: 0:23:18, time: 1.148, data_time: 0.074, memory: 7701, loss_rpn_cls: 0.0244, loss_rpn_bbox: 0.0412, loss_cls: 0.2310, acc: 92.5327, loss_bbox: 0.2437, loss: 0.5404, grad_norm: 1.1479\n",
      "2021-05-15 20:54:10,810 - mmdet - INFO - Epoch [24][100/164]\tlr: 1.000e-05, eta: 0:22:12, time: 1.090, data_time: 0.024, memory: 7701, loss_rpn_cls: 0.0231, loss_rpn_bbox: 0.0412, loss_cls: 0.2249, acc: 92.6338, loss_bbox: 0.2349, loss: 0.5242, grad_norm: 1.2026\n",
      "2021-05-15 20:55:04,968 - mmdet - INFO - Epoch [24][150/164]\tlr: 1.000e-05, eta: 0:21:06, time: 1.083, data_time: 0.023, memory: 7701, loss_rpn_cls: 0.0230, loss_rpn_bbox: 0.0390, loss_cls: 0.2302, acc: 92.5911, loss_bbox: 0.2360, loss: 0.5282, grad_norm: 1.1858\n",
      "2021-05-15 20:55:20,192 - mmdet - INFO - Saving checkpoint at 24 epochs\n"
     ]
    },
    {
     "name": "stdout",
     "output_type": "stream",
     "text": [
      "[>>>>>>>>>>>>>>>>>>>>>>>>>>>>>] 655/655, 22.1 task/s, elapsed: 30s, ETA:     0s"
     ]
    },
    {
     "name": "stderr",
     "output_type": "stream",
     "text": [
      "2021-05-15 20:55:51,889 - mmdet - INFO - Evaluating bbox...\n"
     ]
    },
    {
     "name": "stdout",
     "output_type": "stream",
     "text": [
      "Loading and preparing results...\n",
      "DONE (t=0.10s)\n",
      "creating index...\n",
      "index created!\n",
      "Running per image evaluation...\n",
      "Evaluate annotation type *bbox*\n",
      "DONE (t=5.98s).\n",
      "Accumulating evaluation results...\n"
     ]
    },
    {
     "name": "stderr",
     "output_type": "stream",
     "text": [
      "2021-05-15 20:55:58,819 - mmdet - INFO - Epoch(val) [24][164]\tbbox_mAP: 0.1340, bbox_mAP_50: 0.2300, bbox_mAP_75: 0.1330, bbox_mAP_s: 0.0270, bbox_mAP_m: 0.1130, bbox_mAP_l: 0.2650, bbox_mAP_copypaste: 0.134 0.230 0.133 0.027 0.113 0.265\n"
     ]
    },
    {
     "name": "stdout",
     "output_type": "stream",
     "text": [
      "DONE (t=0.77s).\n",
      "Average Precision  (AP) @[ IoU=0.50:0.95 | area=   all | maxDets=100 ] = 0.134\n",
      "Average Precision  (AP) @[ IoU=0.50      | area=   all | maxDets=1000 ] = 0.230\n",
      "Average Precision  (AP) @[ IoU=0.75      | area=   all | maxDets=1000 ] = 0.133\n",
      "Average Precision  (AP) @[ IoU=0.50:0.95 | area= small | maxDets=1000 ] = 0.027\n",
      "Average Precision  (AP) @[ IoU=0.50:0.95 | area=medium | maxDets=1000 ] = 0.113\n",
      "Average Precision  (AP) @[ IoU=0.50:0.95 | area= large | maxDets=1000 ] = 0.265\n",
      "Average Recall     (AR) @[ IoU=0.50:0.95 | area=   all | maxDets=100 ] = 0.282\n",
      "Average Recall     (AR) @[ IoU=0.50:0.95 | area=   all | maxDets=300 ] = 0.282\n",
      "Average Recall     (AR) @[ IoU=0.50:0.95 | area=   all | maxDets=1000 ] = 0.282\n",
      "Average Recall     (AR) @[ IoU=0.50:0.95 | area= small | maxDets=1000 ] = 0.083\n",
      "Average Recall     (AR) @[ IoU=0.50:0.95 | area=medium | maxDets=1000 ] = 0.251\n",
      "Average Recall     (AR) @[ IoU=0.50:0.95 | area= large | maxDets=1000 ] = 0.532\n"
     ]
    },
    {
     "name": "stderr",
     "output_type": "stream",
     "text": [
      "2021-05-15 20:56:55,620 - mmdet - INFO - Epoch [25][50/164]\tlr: 1.000e-05, eta: 0:19:39, time: 1.136, data_time: 0.073, memory: 7701, loss_rpn_cls: 0.0221, loss_rpn_bbox: 0.0388, loss_cls: 0.2160, acc: 92.9473, loss_bbox: 0.2311, loss: 0.5079, grad_norm: 1.1766\n",
      "2021-05-15 20:57:50,084 - mmdet - INFO - Epoch [25][100/164]\tlr: 1.000e-05, eta: 0:18:34, time: 1.089, data_time: 0.024, memory: 7701, loss_rpn_cls: 0.0234, loss_rpn_bbox: 0.0393, loss_cls: 0.2216, acc: 92.7795, loss_bbox: 0.2341, loss: 0.5183, grad_norm: 1.1966\n",
      "2021-05-15 20:58:44,939 - mmdet - INFO - Epoch [25][150/164]\tlr: 1.000e-05, eta: 0:17:29, time: 1.097, data_time: 0.025, memory: 7701, loss_rpn_cls: 0.0232, loss_rpn_bbox: 0.0414, loss_cls: 0.2309, acc: 92.5618, loss_bbox: 0.2408, loss: 0.5363, grad_norm: 1.1746\n",
      "2021-05-15 20:59:00,369 - mmdet - INFO - Saving checkpoint at 25 epochs\n"
     ]
    },
    {
     "name": "stdout",
     "output_type": "stream",
     "text": [
      "[>>>>>>>>>>>>>>>>>>>>>>>>>>>>>] 655/655, 22.0 task/s, elapsed: 30s, ETA:     0s"
     ]
    },
    {
     "name": "stderr",
     "output_type": "stream",
     "text": [
      "2021-05-15 20:59:32,287 - mmdet - INFO - Evaluating bbox...\n"
     ]
    },
    {
     "name": "stdout",
     "output_type": "stream",
     "text": [
      "Loading and preparing results...\n",
      "DONE (t=0.99s)\n",
      "creating index...\n",
      "index created!\n",
      "Running per image evaluation...\n",
      "Evaluate annotation type *bbox*\n",
      "DONE (t=5.17s).\n",
      "Accumulating evaluation results...\n"
     ]
    },
    {
     "name": "stderr",
     "output_type": "stream",
     "text": [
      "2021-05-15 20:59:39,371 - mmdet - INFO - Epoch(val) [25][164]\tbbox_mAP: 0.1320, bbox_mAP_50: 0.2300, bbox_mAP_75: 0.1300, bbox_mAP_s: 0.0280, bbox_mAP_m: 0.1120, bbox_mAP_l: 0.2620, bbox_mAP_copypaste: 0.132 0.230 0.130 0.028 0.112 0.262\n"
     ]
    },
    {
     "name": "stdout",
     "output_type": "stream",
     "text": [
      "DONE (t=0.84s).\n",
      "Average Precision  (AP) @[ IoU=0.50:0.95 | area=   all | maxDets=100 ] = 0.132\n",
      "Average Precision  (AP) @[ IoU=0.50      | area=   all | maxDets=1000 ] = 0.230\n",
      "Average Precision  (AP) @[ IoU=0.75      | area=   all | maxDets=1000 ] = 0.130\n",
      "Average Precision  (AP) @[ IoU=0.50:0.95 | area= small | maxDets=1000 ] = 0.028\n",
      "Average Precision  (AP) @[ IoU=0.50:0.95 | area=medium | maxDets=1000 ] = 0.112\n",
      "Average Precision  (AP) @[ IoU=0.50:0.95 | area= large | maxDets=1000 ] = 0.262\n",
      "Average Recall     (AR) @[ IoU=0.50:0.95 | area=   all | maxDets=100 ] = 0.281\n",
      "Average Recall     (AR) @[ IoU=0.50:0.95 | area=   all | maxDets=300 ] = 0.281\n",
      "Average Recall     (AR) @[ IoU=0.50:0.95 | area=   all | maxDets=1000 ] = 0.281\n",
      "Average Recall     (AR) @[ IoU=0.50:0.95 | area= small | maxDets=1000 ] = 0.082\n",
      "Average Recall     (AR) @[ IoU=0.50:0.95 | area=medium | maxDets=1000 ] = 0.239\n",
      "Average Recall     (AR) @[ IoU=0.50:0.95 | area= large | maxDets=1000 ] = 0.531\n"
     ]
    },
    {
     "name": "stderr",
     "output_type": "stream",
     "text": [
      "2021-05-15 21:00:36,451 - mmdet - INFO - Epoch [26][50/164]\tlr: 1.000e-05, eta: 0:16:04, time: 1.141, data_time: 0.074, memory: 7701, loss_rpn_cls: 0.0214, loss_rpn_bbox: 0.0384, loss_cls: 0.2132, acc: 93.0491, loss_bbox: 0.2285, loss: 0.5016, grad_norm: 1.1678\n",
      "2021-05-15 21:01:31,291 - mmdet - INFO - Epoch [26][100/164]\tlr: 1.000e-05, eta: 0:15:00, time: 1.097, data_time: 0.025, memory: 7701, loss_rpn_cls: 0.0236, loss_rpn_bbox: 0.0412, loss_cls: 0.2251, acc: 92.6636, loss_bbox: 0.2419, loss: 0.5319, grad_norm: 1.2159\n",
      "2021-05-15 21:02:26,052 - mmdet - INFO - Epoch [26][150/164]\tlr: 1.000e-05, eta: 0:13:57, time: 1.095, data_time: 0.024, memory: 7701, loss_rpn_cls: 0.0222, loss_rpn_bbox: 0.0405, loss_cls: 0.2304, acc: 92.4873, loss_bbox: 0.2401, loss: 0.5333, grad_norm: 1.1967\n",
      "2021-05-15 21:02:41,467 - mmdet - INFO - Saving checkpoint at 26 epochs\n"
     ]
    },
    {
     "name": "stdout",
     "output_type": "stream",
     "text": [
      "[>>>>>>>>>>>>>>>>>>>>>>>>>>>>>] 655/655, 22.1 task/s, elapsed: 30s, ETA:     0s"
     ]
    },
    {
     "name": "stderr",
     "output_type": "stream",
     "text": [
      "2021-05-15 21:03:13,153 - mmdet - INFO - Evaluating bbox...\n"
     ]
    },
    {
     "name": "stdout",
     "output_type": "stream",
     "text": [
      "Loading and preparing results...\n",
      "DONE (t=0.90s)\n",
      "creating index...\n",
      "index created!\n",
      "Running per image evaluation...\n",
      "Evaluate annotation type *bbox*\n",
      "DONE (t=4.93s).\n",
      "Accumulating evaluation results...\n"
     ]
    },
    {
     "name": "stderr",
     "output_type": "stream",
     "text": [
      "2021-05-15 21:03:19,866 - mmdet - INFO - Epoch(val) [26][164]\tbbox_mAP: 0.1350, bbox_mAP_50: 0.2320, bbox_mAP_75: 0.1340, bbox_mAP_s: 0.0270, bbox_mAP_m: 0.1180, bbox_mAP_l: 0.2670, bbox_mAP_copypaste: 0.135 0.232 0.134 0.027 0.118 0.267\n"
     ]
    },
    {
     "name": "stdout",
     "output_type": "stream",
     "text": [
      "DONE (t=0.79s).\n",
      "Average Precision  (AP) @[ IoU=0.50:0.95 | area=   all | maxDets=100 ] = 0.135\n",
      "Average Precision  (AP) @[ IoU=0.50      | area=   all | maxDets=1000 ] = 0.232\n",
      "Average Precision  (AP) @[ IoU=0.75      | area=   all | maxDets=1000 ] = 0.134\n",
      "Average Precision  (AP) @[ IoU=0.50:0.95 | area= small | maxDets=1000 ] = 0.027\n",
      "Average Precision  (AP) @[ IoU=0.50:0.95 | area=medium | maxDets=1000 ] = 0.118\n",
      "Average Precision  (AP) @[ IoU=0.50:0.95 | area= large | maxDets=1000 ] = 0.267\n",
      "Average Recall     (AR) @[ IoU=0.50:0.95 | area=   all | maxDets=100 ] = 0.289\n",
      "Average Recall     (AR) @[ IoU=0.50:0.95 | area=   all | maxDets=300 ] = 0.289\n",
      "Average Recall     (AR) @[ IoU=0.50:0.95 | area=   all | maxDets=1000 ] = 0.289\n",
      "Average Recall     (AR) @[ IoU=0.50:0.95 | area= small | maxDets=1000 ] = 0.082\n",
      "Average Recall     (AR) @[ IoU=0.50:0.95 | area=medium | maxDets=1000 ] = 0.254\n",
      "Average Recall     (AR) @[ IoU=0.50:0.95 | area= large | maxDets=1000 ] = 0.559\n"
     ]
    },
    {
     "name": "stderr",
     "output_type": "stream",
     "text": [
      "2021-05-15 21:04:16,938 - mmdet - INFO - Epoch [27][50/164]\tlr: 1.000e-05, eta: 0:12:33, time: 1.141, data_time: 0.073, memory: 7701, loss_rpn_cls: 0.0216, loss_rpn_bbox: 0.0399, loss_cls: 0.2182, acc: 92.8845, loss_bbox: 0.2330, loss: 0.5127, grad_norm: 1.1945\n",
      "2021-05-15 21:05:11,590 - mmdet - INFO - Epoch [27][100/164]\tlr: 1.000e-05, eta: 0:11:30, time: 1.093, data_time: 0.025, memory: 7701, loss_rpn_cls: 0.0219, loss_rpn_bbox: 0.0398, loss_cls: 0.2180, acc: 92.8760, loss_bbox: 0.2351, loss: 0.5148, grad_norm: 1.1882\n",
      "2021-05-15 21:06:06,308 - mmdet - INFO - Epoch [27][150/164]\tlr: 1.000e-05, eta: 0:10:27, time: 1.094, data_time: 0.025, memory: 7701, loss_rpn_cls: 0.0214, loss_rpn_bbox: 0.0393, loss_cls: 0.2192, acc: 92.9258, loss_bbox: 0.2336, loss: 0.5135, grad_norm: 1.1843\n",
      "2021-05-15 21:06:21,807 - mmdet - INFO - Saving checkpoint at 27 epochs\n"
     ]
    },
    {
     "name": "stdout",
     "output_type": "stream",
     "text": [
      "[>>>>>>>>>>>>>>>>>>>>>>>>>>>>>] 655/655, 21.3 task/s, elapsed: 31s, ETA:     0s"
     ]
    },
    {
     "name": "stderr",
     "output_type": "stream",
     "text": [
      "2021-05-15 21:06:55,431 - mmdet - INFO - Evaluating bbox...\n"
     ]
    },
    {
     "name": "stdout",
     "output_type": "stream",
     "text": [
      "Loading and preparing results...\n",
      "DONE (t=0.10s)\n",
      "creating index...\n",
      "index created!\n",
      "Running per image evaluation...\n",
      "Evaluate annotation type *bbox*\n",
      "DONE (t=6.15s).\n",
      "Accumulating evaluation results...\n"
     ]
    },
    {
     "name": "stderr",
     "output_type": "stream",
     "text": [
      "2021-05-15 21:07:02,571 - mmdet - INFO - Epoch(val) [27][164]\tbbox_mAP: 0.1330, bbox_mAP_50: 0.2310, bbox_mAP_75: 0.1320, bbox_mAP_s: 0.0260, bbox_mAP_m: 0.1150, bbox_mAP_l: 0.2670, bbox_mAP_copypaste: 0.133 0.231 0.132 0.026 0.115 0.267\n"
     ]
    },
    {
     "name": "stdout",
     "output_type": "stream",
     "text": [
      "DONE (t=0.80s).\n",
      "Average Precision  (AP) @[ IoU=0.50:0.95 | area=   all | maxDets=100 ] = 0.133\n",
      "Average Precision  (AP) @[ IoU=0.50      | area=   all | maxDets=1000 ] = 0.231\n",
      "Average Precision  (AP) @[ IoU=0.75      | area=   all | maxDets=1000 ] = 0.132\n",
      "Average Precision  (AP) @[ IoU=0.50:0.95 | area= small | maxDets=1000 ] = 0.026\n",
      "Average Precision  (AP) @[ IoU=0.50:0.95 | area=medium | maxDets=1000 ] = 0.115\n",
      "Average Precision  (AP) @[ IoU=0.50:0.95 | area= large | maxDets=1000 ] = 0.267\n",
      "Average Recall     (AR) @[ IoU=0.50:0.95 | area=   all | maxDets=100 ] = 0.284\n",
      "Average Recall     (AR) @[ IoU=0.50:0.95 | area=   all | maxDets=300 ] = 0.284\n",
      "Average Recall     (AR) @[ IoU=0.50:0.95 | area=   all | maxDets=1000 ] = 0.284\n",
      "Average Recall     (AR) @[ IoU=0.50:0.95 | area= small | maxDets=1000 ] = 0.085\n",
      "Average Recall     (AR) @[ IoU=0.50:0.95 | area=medium | maxDets=1000 ] = 0.250\n",
      "Average Recall     (AR) @[ IoU=0.50:0.95 | area= large | maxDets=1000 ] = 0.526\n"
     ]
    },
    {
     "name": "stderr",
     "output_type": "stream",
     "text": [
      "2021-05-15 21:07:59,815 - mmdet - INFO - Epoch [28][50/164]\tlr: 1.000e-05, eta: 0:09:06, time: 1.144, data_time: 0.072, memory: 7701, loss_rpn_cls: 0.0211, loss_rpn_bbox: 0.0390, loss_cls: 0.2111, acc: 93.0684, loss_bbox: 0.2286, loss: 0.4999, grad_norm: 1.2021\n",
      "2021-05-15 21:08:55,376 - mmdet - INFO - Epoch [28][100/164]\tlr: 1.000e-05, eta: 0:08:03, time: 1.111, data_time: 0.025, memory: 7701, loss_rpn_cls: 0.0210, loss_rpn_bbox: 0.0407, loss_cls: 0.2194, acc: 92.8655, loss_bbox: 0.2347, loss: 0.5159, grad_norm: 1.2510\n",
      "2021-05-15 21:09:50,751 - mmdet - INFO - Epoch [28][150/164]\tlr: 1.000e-05, eta: 0:07:01, time: 1.107, data_time: 0.023, memory: 7701, loss_rpn_cls: 0.0198, loss_rpn_bbox: 0.0379, loss_cls: 0.2088, acc: 93.1992, loss_bbox: 0.2256, loss: 0.4921, grad_norm: 1.1876\n",
      "2021-05-15 21:10:06,146 - mmdet - INFO - Saving checkpoint at 28 epochs\n"
     ]
    },
    {
     "name": "stdout",
     "output_type": "stream",
     "text": [
      "[>>>>>>>>>>>>>>>>>>>>>>>>>>>>>] 655/655, 21.6 task/s, elapsed: 30s, ETA:     0s"
     ]
    },
    {
     "name": "stderr",
     "output_type": "stream",
     "text": [
      "2021-05-15 21:10:38,486 - mmdet - INFO - Evaluating bbox...\n"
     ]
    },
    {
     "name": "stdout",
     "output_type": "stream",
     "text": [
      "Loading and preparing results...\n",
      "DONE (t=0.10s)\n",
      "creating index...\n",
      "index created!\n",
      "Running per image evaluation...\n",
      "Evaluate annotation type *bbox*\n",
      "DONE (t=5.68s).\n",
      "Accumulating evaluation results...\n",
      "DONE (t=0.76s).\n",
      "Average Precision  (AP) @[ IoU=0.50:0.95 | area=   all | maxDets=100 ] = 0.135\n",
      "Average Precision  (AP) @[ IoU=0.50      | area=   all | maxDets=1000 ] = 0.234\n",
      "Average Precision  (AP) @[ IoU=0.75      | area=   all | maxDets=1000 ] = 0.134\n",
      "Average Precision  (AP) @[ IoU=0.50:0.95 | area= small | maxDets=1000 ] = 0.026\n",
      "Average Precision  (AP) @[ IoU=0.50:0.95 | area=medium | maxDets=1000 ] = 0.117\n",
      "Average Precision  (AP) @[ IoU=0.50:0.95 | area= large | maxDets=1000 ] = 0.268\n",
      "Average Recall     (AR) @[ IoU=0.50:0.95 | area=   all | maxDets=100 ] = 0.286\n",
      "Average Recall     (AR) @[ IoU=0.50:0.95 | area=   all | maxDets=300 ] = 0.286\n",
      "Average Recall     (AR) @[ IoU=0.50:0.95 | area=   all | maxDets=1000 ] = 0.286\n",
      "Average Recall     (AR) @[ IoU=0.50:0.95 | area= small | maxDets=1000 ] = 0.082\n",
      "Average Recall     (AR) @[ IoU=0.50:0.95 | area=medium | maxDets=1000 ] = 0.252\n",
      "Average Recall     (AR) @[ IoU=0.50:0.95 | area= large | maxDets=1000 ] = 0.553\n"
     ]
    },
    {
     "name": "stderr",
     "output_type": "stream",
     "text": [
      "2021-05-15 21:10:47,889 - mmdet - INFO - Now best checkpoint is epoch_28.pth.Best bbox_mAP_50 is 0.2340\n",
      "2021-05-15 21:10:47,902 - mmdet - INFO - Epoch(val) [28][164]\tbbox_mAP: 0.1350, bbox_mAP_50: 0.2340, bbox_mAP_75: 0.1340, bbox_mAP_s: 0.0260, bbox_mAP_m: 0.1170, bbox_mAP_l: 0.2680, bbox_mAP_copypaste: 0.135 0.234 0.134 0.026 0.117 0.268\n",
      "2021-05-15 21:11:46,242 - mmdet - INFO - Epoch [29][50/164]\tlr: 1.000e-05, eta: 0:05:41, time: 1.166, data_time: 0.073, memory: 7701, loss_rpn_cls: 0.0212, loss_rpn_bbox: 0.0402, loss_cls: 0.2098, acc: 93.0706, loss_bbox: 0.2342, loss: 0.5053, grad_norm: 1.2207\n",
      "2021-05-15 21:12:43,166 - mmdet - INFO - Epoch [29][100/164]\tlr: 1.000e-05, eta: 0:04:39, time: 1.138, data_time: 0.025, memory: 7701, loss_rpn_cls: 0.0195, loss_rpn_bbox: 0.0376, loss_cls: 0.2035, acc: 93.3638, loss_bbox: 0.2209, loss: 0.4814, grad_norm: 1.2048\n",
      "2021-05-15 21:13:38,477 - mmdet - INFO - Epoch [29][150/164]\tlr: 1.000e-05, eta: 0:03:38, time: 1.106, data_time: 0.025, memory: 7701, loss_rpn_cls: 0.0206, loss_rpn_bbox: 0.0400, loss_cls: 0.2187, acc: 92.9177, loss_bbox: 0.2347, loss: 0.5140, grad_norm: 1.2571\n",
      "2021-05-15 21:13:53,939 - mmdet - INFO - Saving checkpoint at 29 epochs\n"
     ]
    },
    {
     "name": "stdout",
     "output_type": "stream",
     "text": [
      "[>>>>>>>>>>>>>>>>>>>>>>>>>>>>>] 655/655, 21.8 task/s, elapsed: 30s, ETA:     0s"
     ]
    },
    {
     "name": "stderr",
     "output_type": "stream",
     "text": [
      "2021-05-15 21:14:25,856 - mmdet - INFO - Evaluating bbox...\n"
     ]
    },
    {
     "name": "stdout",
     "output_type": "stream",
     "text": [
      "Loading and preparing results...\n",
      "DONE (t=0.09s)\n",
      "creating index...\n",
      "index created!\n",
      "Running per image evaluation...\n",
      "Evaluate annotation type *bbox*\n",
      "DONE (t=5.89s).\n",
      "Accumulating evaluation results...\n"
     ]
    },
    {
     "name": "stderr",
     "output_type": "stream",
     "text": [
      "2021-05-15 21:14:32,707 - mmdet - INFO - Epoch(val) [29][164]\tbbox_mAP: 0.1340, bbox_mAP_50: 0.2330, bbox_mAP_75: 0.1350, bbox_mAP_s: 0.0270, bbox_mAP_m: 0.1150, bbox_mAP_l: 0.2670, bbox_mAP_copypaste: 0.134 0.233 0.135 0.027 0.115 0.267\n"
     ]
    },
    {
     "name": "stdout",
     "output_type": "stream",
     "text": [
      "DONE (t=0.79s).\n",
      "Average Precision  (AP) @[ IoU=0.50:0.95 | area=   all | maxDets=100 ] = 0.134\n",
      "Average Precision  (AP) @[ IoU=0.50      | area=   all | maxDets=1000 ] = 0.233\n",
      "Average Precision  (AP) @[ IoU=0.75      | area=   all | maxDets=1000 ] = 0.135\n",
      "Average Precision  (AP) @[ IoU=0.50:0.95 | area= small | maxDets=1000 ] = 0.027\n",
      "Average Precision  (AP) @[ IoU=0.50:0.95 | area=medium | maxDets=1000 ] = 0.115\n",
      "Average Precision  (AP) @[ IoU=0.50:0.95 | area= large | maxDets=1000 ] = 0.267\n",
      "Average Recall     (AR) @[ IoU=0.50:0.95 | area=   all | maxDets=100 ] = 0.283\n",
      "Average Recall     (AR) @[ IoU=0.50:0.95 | area=   all | maxDets=300 ] = 0.283\n",
      "Average Recall     (AR) @[ IoU=0.50:0.95 | area=   all | maxDets=1000 ] = 0.283\n",
      "Average Recall     (AR) @[ IoU=0.50:0.95 | area= small | maxDets=1000 ] = 0.081\n",
      "Average Recall     (AR) @[ IoU=0.50:0.95 | area=medium | maxDets=1000 ] = 0.245\n",
      "Average Recall     (AR) @[ IoU=0.50:0.95 | area= large | maxDets=1000 ] = 0.559\n"
     ]
    },
    {
     "name": "stderr",
     "output_type": "stream",
     "text": [
      "2021-05-15 21:15:30,285 - mmdet - INFO - Epoch [30][50/164]\tlr: 1.000e-05, eta: 0:02:19, time: 1.151, data_time: 0.073, memory: 7701, loss_rpn_cls: 0.0191, loss_rpn_bbox: 0.0375, loss_cls: 0.2122, acc: 93.0566, loss_bbox: 0.2328, loss: 0.5015, grad_norm: 1.2395\n",
      "2021-05-15 21:16:24,963 - mmdet - INFO - Epoch [30][100/164]\tlr: 1.000e-05, eta: 0:01:18, time: 1.094, data_time: 0.024, memory: 7701, loss_rpn_cls: 0.0189, loss_rpn_bbox: 0.0383, loss_cls: 0.2046, acc: 93.2722, loss_bbox: 0.2246, loss: 0.4864, grad_norm: 1.2026\n",
      "2021-05-15 21:17:19,770 - mmdet - INFO - Epoch [30][150/164]\tlr: 1.000e-05, eta: 0:00:17, time: 1.096, data_time: 0.024, memory: 7701, loss_rpn_cls: 0.0210, loss_rpn_bbox: 0.0412, loss_cls: 0.2087, acc: 93.1975, loss_bbox: 0.2268, loss: 0.4977, grad_norm: 1.2251\n",
      "2021-05-15 21:17:35,314 - mmdet - INFO - Saving checkpoint at 30 epochs\n"
     ]
    },
    {
     "name": "stdout",
     "output_type": "stream",
     "text": [
      "[>>>>>>>>>>>>>>>>>>>>>>>>>>>>>] 655/655, 21.5 task/s, elapsed: 31s, ETA:     0s"
     ]
    },
    {
     "name": "stderr",
     "output_type": "stream",
     "text": [
      "2021-05-15 21:18:08,093 - mmdet - INFO - Evaluating bbox...\n"
     ]
    },
    {
     "name": "stdout",
     "output_type": "stream",
     "text": [
      "Loading and preparing results...\n",
      "DONE (t=0.89s)\n",
      "creating index...\n",
      "index created!\n",
      "Running per image evaluation...\n",
      "Evaluate annotation type *bbox*\n",
      "DONE (t=4.68s).\n",
      "Accumulating evaluation results...\n"
     ]
    },
    {
     "name": "stderr",
     "output_type": "stream",
     "text": [
      "2021-05-15 21:18:14,494 - mmdet - INFO - Epoch(val) [30][164]\tbbox_mAP: 0.1360, bbox_mAP_50: 0.2340, bbox_mAP_75: 0.1360, bbox_mAP_s: 0.0260, bbox_mAP_m: 0.1180, bbox_mAP_l: 0.2700, bbox_mAP_copypaste: 0.136 0.234 0.136 0.026 0.118 0.270\n"
     ]
    },
    {
     "name": "stdout",
     "output_type": "stream",
     "text": [
      "DONE (t=0.75s).\n",
      "Average Precision  (AP) @[ IoU=0.50:0.95 | area=   all | maxDets=100 ] = 0.136\n",
      "Average Precision  (AP) @[ IoU=0.50      | area=   all | maxDets=1000 ] = 0.234\n",
      "Average Precision  (AP) @[ IoU=0.75      | area=   all | maxDets=1000 ] = 0.136\n",
      "Average Precision  (AP) @[ IoU=0.50:0.95 | area= small | maxDets=1000 ] = 0.026\n",
      "Average Precision  (AP) @[ IoU=0.50:0.95 | area=medium | maxDets=1000 ] = 0.118\n",
      "Average Precision  (AP) @[ IoU=0.50:0.95 | area= large | maxDets=1000 ] = 0.270\n",
      "Average Recall     (AR) @[ IoU=0.50:0.95 | area=   all | maxDets=100 ] = 0.281\n",
      "Average Recall     (AR) @[ IoU=0.50:0.95 | area=   all | maxDets=300 ] = 0.281\n",
      "Average Recall     (AR) @[ IoU=0.50:0.95 | area=   all | maxDets=1000 ] = 0.281\n",
      "Average Recall     (AR) @[ IoU=0.50:0.95 | area= small | maxDets=1000 ] = 0.076\n",
      "Average Recall     (AR) @[ IoU=0.50:0.95 | area=medium | maxDets=1000 ] = 0.246\n",
      "Average Recall     (AR) @[ IoU=0.50:0.95 | area= large | maxDets=1000 ] = 0.549\n"
     ]
    },
    {
     "data": {
      "text/html": [
       "<br/>Waiting for W&B process to finish, PID 25715<br/>Program ended successfully."
      ],
      "text/plain": [
       "<IPython.core.display.HTML object>"
      ]
     },
     "metadata": {},
     "output_type": "display_data"
    },
    {
     "data": {
      "application/vnd.jupyter.widget-view+json": {
       "model_id": "",
       "version_major": 2,
       "version_minor": 0
      },
      "text/plain": [
       "VBox(children=(Label(value=' 0.00MB of 0.00MB uploaded (0.00MB deduped)\\r'), FloatProgress(value=1.0, max=1.0)…"
      ]
     },
     "metadata": {},
     "output_type": "display_data"
    },
    {
     "data": {
      "text/html": [
       "Find user logs for this run at: <code>/opt/ml/code/mmdetection_trash/wandb/run-20210515_190536-2mjjtwzj/logs/debug.log</code>"
      ],
      "text/plain": [
       "<IPython.core.display.HTML object>"
      ]
     },
     "metadata": {},
     "output_type": "display_data"
    },
    {
     "data": {
      "text/html": [
       "Find internal logs for this run at: <code>/opt/ml/code/mmdetection_trash/wandb/run-20210515_190536-2mjjtwzj/logs/debug-internal.log</code>"
      ],
      "text/plain": [
       "<IPython.core.display.HTML object>"
      ]
     },
     "metadata": {},
     "output_type": "display_data"
    },
    {
     "data": {
      "text/html": [
       "<h3>Run summary:</h3><br/><style>\n",
       "    table.wandb td:nth-child(1) { padding: 0 10px; text-align: right }\n",
       "    </style><table class=\"wandb\">\n",
       "<tr><td>train/loss_rpn_cls</td><td>0.02104</td></tr><tr><td>train/loss_rpn_bbox</td><td>0.0412</td></tr><tr><td>train/loss_cls</td><td>0.20869</td></tr><tr><td>train/acc</td><td>93.19751</td></tr><tr><td>train/loss_bbox</td><td>0.2268</td></tr><tr><td>train/loss</td><td>0.49774</td></tr><tr><td>train/grad_norm</td><td>1.2251</td></tr><tr><td>learning_rate</td><td>1e-05</td></tr><tr><td>momentum</td><td>0.9</td></tr><tr><td>_runtime</td><td>7955</td></tr><tr><td>_timestamp</td><td>1621113494</td></tr><tr><td>_step</td><td>4921</td></tr><tr><td>val/bbox_mAP</td><td>0.136</td></tr><tr><td>val/bbox_mAP_50</td><td>0.234</td></tr><tr><td>val/bbox_mAP_75</td><td>0.136</td></tr><tr><td>val/bbox_mAP_s</td><td>0.026</td></tr><tr><td>val/bbox_mAP_m</td><td>0.118</td></tr><tr><td>val/bbox_mAP_l</td><td>0.27</td></tr></table>"
      ],
      "text/plain": [
       "<IPython.core.display.HTML object>"
      ]
     },
     "metadata": {},
     "output_type": "display_data"
    },
    {
     "data": {
      "text/html": [
       "<h3>Run history:</h3><br/><style>\n",
       "    table.wandb td:nth-child(1) { padding: 0 10px; text-align: right }\n",
       "    </style><table class=\"wandb\">\n",
       "<tr><td>train/loss_rpn_cls</td><td>█▃▃▂▂▂▂▂▂▂▂▁▁▁▁▁▁▁▁▁▁▁▁▁▁▁▁▁▁▁▁▁▁▁▁▁▁▁▁▁</td></tr><tr><td>train/loss_rpn_bbox</td><td>█▇▆▅▄▄▅▄▄▄▃▂▂▂▂▂▁▂▂▂▁▂▂▁▂▁▁▂▁▁▁▁▁▁▁▁▁▁▁▁</td></tr><tr><td>train/loss_cls</td><td>█▅▅▄▄▄▄▄▄▄▃▃▂▂▂▂▂▂▂▂▂▂▂▂▂▂▂▁▁▁▁▁▁▁▁▁▁▁▁▁</td></tr><tr><td>train/acc</td><td>▁▂▂▃▃▃▂▃▃▃▄▄▅▅▅▆▆▆▆▆▇▆▆▆▇▇▇▇▇▇▇▇▇█▇█████</td></tr><tr><td>train/loss_bbox</td><td>▂█▇▆▅▅▅▄▅▄▄▃▃▂▂▃▂▂▂▂▂▂▂▂▂▂▂▂▁▂▁▁▁▁▁▁▁▁▁▁</td></tr><tr><td>train/loss</td><td>█▆▅▅▄▄▄▄▄▄▃▃▂▂▂▂▂▂▂▂▂▂▂▂▂▁▁▁▁▁▁▁▁▁▁▁▁▁▁▁</td></tr><tr><td>train/grad_norm</td><td>█▃▂▂▂▂▂▁▂▁▂▁▁▁▁▁▁▁▁▁▁▁▁▁▁▁▁▁▁▁▁▁▁▁▁▁▁▁▁▁</td></tr><tr><td>learning_rate</td><td>▂▃▅▇███████▂▂▂▂▁▁▁▁▁▁▁▁▁▁▁▁▁▁▁▁▁▁▁▁▁▁▁▁▁</td></tr><tr><td>momentum</td><td>▁▁▁▁▁▁▁▁▁▁▁▁▁▁▁▁▁▁▁▁▁▁▁▁▁▁▁▁▁▁▁▁▁▁▁▁▁▁▁▁</td></tr><tr><td>_runtime</td><td>▁▁▂▂▂▂▃▃▃▃▄▄▄▄▄▄▄▅▅▅▅▅▅▆▆▆▆▆▆▆▇▇▇▇▇▇████</td></tr><tr><td>_timestamp</td><td>▁▁▂▂▂▂▃▃▃▃▄▄▄▄▄▄▄▅▅▅▅▅▅▆▆▆▆▆▆▆▇▇▇▇▇▇████</td></tr><tr><td>_step</td><td>▁▁▁▂▂▂▂▂▂▃▃▃▃▃▄▄▄▄▄▄▅▅▅▅▅▅▆▆▆▆▆▇▇▇▇▇▇███</td></tr><tr><td>val/bbox_mAP</td><td>▁▃▃▄▄▅▅▅▇█████████████████████</td></tr><tr><td>val/bbox_mAP_50</td><td>▁▃▃▄▅▅▆▅▇▇████████████████████</td></tr><tr><td>val/bbox_mAP_75</td><td>▁▂▃▄▄▅▆▅▇█████████████████████</td></tr><tr><td>val/bbox_mAP_s</td><td>▁▃▄▅▅▆▅▅██████████████▇▇█▇▇▇▇▇</td></tr><tr><td>val/bbox_mAP_m</td><td>▁▃▄▄▅▅▅▅██████████████████████</td></tr><tr><td>val/bbox_mAP_l</td><td>▁▂▃▄▄▄▅▅▇▇▇▇▇█▇███████████████</td></tr></table><br/>"
      ],
      "text/plain": [
       "<IPython.core.display.HTML object>"
      ]
     },
     "metadata": {},
     "output_type": "display_data"
    },
    {
     "data": {
      "text/html": [
       "Synced 5 W&B file(s), 0 media file(s), 0 artifact file(s) and 0 other file(s)"
      ],
      "text/plain": [
       "<IPython.core.display.HTML object>"
      ]
     },
     "metadata": {},
     "output_type": "display_data"
    },
    {
     "data": {
      "text/html": [
       "\n",
       "                    <br/>Synced <strong style=\"color:#cdcd00\">faster-rcnn</strong>: <a href=\"https://wandb.ai/ug_kim/P-stage3-detection/runs/2mjjtwzj\" target=\"_blank\">https://wandb.ai/ug_kim/P-stage3-detection/runs/2mjjtwzj</a><br/>\n",
       "                "
      ],
      "text/plain": [
       "<IPython.core.display.HTML object>"
      ]
     },
     "metadata": {},
     "output_type": "display_data"
    }
   ],
   "source": [
    "train_detector(model, datasets[0], cfg, distributed=False, validate=True)"
   ]
  },
  {
   "cell_type": "code",
   "execution_count": null,
   "metadata": {},
   "outputs": [],
   "source": []
  },
  {
   "cell_type": "code",
   "execution_count": null,
   "metadata": {},
   "outputs": [],
   "source": []
  }
 ],
 "metadata": {
  "kernelspec": {
   "display_name": "Python 3",
   "language": "python",
   "name": "python3"
  },
  "language_info": {
   "codemirror_mode": {
    "name": "ipython",
    "version": 3
   },
   "file_extension": ".py",
   "mimetype": "text/x-python",
   "name": "python",
   "nbconvert_exporter": "python",
   "pygments_lexer": "ipython3",
   "version": "3.7.7"
  },
  "pycharm": {
   "stem_cell": {
    "cell_type": "raw",
    "metadata": {
     "collapsed": false
    },
    "source": []
   }
  }
 },
 "nbformat": 4,
 "nbformat_minor": 4
}
