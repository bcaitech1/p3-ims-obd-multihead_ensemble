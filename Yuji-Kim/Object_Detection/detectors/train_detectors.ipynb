{
 "cells": [
  {
   "cell_type": "code",
   "execution_count": 1,
   "metadata": {
    "pycharm": {
     "name": "#%%\n"
    }
   },
   "outputs": [],
   "source": [
    "from mmcv import Config\n",
    "from mmdet.datasets import build_dataset\n",
    "from mmdet.models import build_detector\n",
    "from mmdet.apis import train_detector\n",
    "from mmdet.datasets import (build_dataloader, build_dataset,\n",
    "                            replace_ImageToTensor)"
   ]
  },
  {
   "cell_type": "code",
   "execution_count": 2,
   "metadata": {},
   "outputs": [
    {
     "data": {
      "text/plain": [
       "{'samples_per_gpu': 2,\n",
       " 'workers_per_gpu': 2,\n",
       " 'train': {'type': 'CocoDataset',\n",
       "  'ann_file': 'data/coco/annotations/instances_train2017.json',\n",
       "  'img_prefix': 'data/coco/train2017/',\n",
       "  'pipeline': [{'type': 'LoadImageFromFile'},\n",
       "   {'type': 'LoadAnnotations', 'with_bbox': True, 'with_mask': True},\n",
       "   {'type': 'Resize', 'img_scale': (1333, 800), 'keep_ratio': True},\n",
       "   {'type': 'RandomFlip', 'flip_ratio': 0.5},\n",
       "   {'type': 'Normalize',\n",
       "    'mean': [123.675, 116.28, 103.53],\n",
       "    'std': [58.395, 57.12, 57.375],\n",
       "    'to_rgb': True},\n",
       "   {'type': 'Pad', 'size_divisor': 32},\n",
       "   {'type': 'DefaultFormatBundle'},\n",
       "   {'type': 'Collect',\n",
       "    'keys': ['img', 'gt_bboxes', 'gt_labels', 'gt_masks']}]},\n",
       " 'val': {'type': 'CocoDataset',\n",
       "  'ann_file': 'data/coco/annotations/instances_val2017.json',\n",
       "  'img_prefix': 'data/coco/val2017/',\n",
       "  'pipeline': [{'type': 'LoadImageFromFile'},\n",
       "   {'type': 'MultiScaleFlipAug',\n",
       "    'img_scale': (1333, 800),\n",
       "    'flip': False,\n",
       "    'transforms': [{'type': 'Resize', 'keep_ratio': True},\n",
       "     {'type': 'RandomFlip', 'flip_ratio': 0.5},\n",
       "     {'type': 'Normalize',\n",
       "      'mean': [123.675, 116.28, 103.53],\n",
       "      'std': [58.395, 57.12, 57.375],\n",
       "      'to_rgb': True},\n",
       "     {'type': 'Pad', 'size_divisor': 32},\n",
       "     {'type': 'ImageToTensor', 'keys': ['img']},\n",
       "     {'type': 'Collect', 'keys': ['img']}]}]},\n",
       " 'test': {'type': 'CocoDataset',\n",
       "  'ann_file': 'data/coco/annotations/instances_val2017.json',\n",
       "  'img_prefix': 'data/coco/val2017/',\n",
       "  'pipeline': [{'type': 'LoadImageFromFile'},\n",
       "   {'type': 'MultiScaleFlipAug',\n",
       "    'img_scale': (1333, 800),\n",
       "    'flip': False,\n",
       "    'transforms': [{'type': 'Resize', 'keep_ratio': True},\n",
       "     {'type': 'RandomFlip', 'flip_ratio': 0.5},\n",
       "     {'type': 'Normalize',\n",
       "      'mean': [123.675, 116.28, 103.53],\n",
       "      'std': [58.395, 57.12, 57.375],\n",
       "      'to_rgb': True},\n",
       "     {'type': 'Pad', 'size_divisor': 32},\n",
       "     {'type': 'ImageToTensor', 'keys': ['img']},\n",
       "     {'type': 'Collect', 'keys': ['img']}]}]}}"
      ]
     },
     "execution_count": 2,
     "metadata": {},
     "output_type": "execute_result"
    }
   ],
   "source": [
    "cfg = Config.fromfile('./configs/trash/detectors.py')\n",
    "cfg.data"
   ]
  },
  {
   "cell_type": "code",
   "execution_count": 2,
   "metadata": {
    "pycharm": {
     "name": "#%%\n"
    }
   },
   "outputs": [],
   "source": [
    "classes = (\"UNKNOWN\", \"General trash\", \"Paper\", \"Paper pack\", \"Metal\", \"Glass\", \n",
    "           \"Plastic\", \"Styrofoam\", \"Plastic bag\", \"Battery\", \"Clothing\")\n",
    "# config file 들고오기\n",
    "# cfg = Config.fromfile('./configs/faster_rcnn/faster_rcnn_r50_fpn_1x_coco.py')\n",
    "cfg = Config.fromfile('./configs/trash/detectors.py')\n",
    "\n",
    "PREFIX = '../../input/data/'\n",
    "\n",
    "\n",
    "# dataset 바꾸기\n",
    "cfg.data.train.classes = classes\n",
    "cfg.data.train.img_prefix = PREFIX\n",
    "cfg.data.train.ann_file = PREFIX + 'train.json'\n",
    "cfg.data.train.pipeline[2]['img_scale'] = (512, 512)\n",
    "\n",
    "cfg.data.val.classes = classes\n",
    "cfg.data.val.img_prefix = PREFIX\n",
    "cfg.data.val.ann_file = PREFIX + 'val.json'\n",
    "cfg.data.val.pipeline[1]['img_scale'] = (512, 512)\n",
    "\n",
    "cfg.data.test.classes = classes\n",
    "cfg.data.test.img_prefix = PREFIX\n",
    "cfg.data.test.ann_file = PREFIX + 'test.json'\n",
    "cfg.data.test.pipeline[1]['img_scale'] = (512, 512)\n",
    "\n",
    "cfg.data.samples_per_gpu = 8\n",
    "\n",
    "cfg.seed=2020\n",
    "cfg.gpu_ids = [0]\n",
    "cfg.work_dir = './work_dirs/detectors'\n",
    "\n",
    "# cfg.model.roi_head.bbox_head.num_classes = 11\n",
    "# cfg.model.bbox_head.num_classes = 11\n",
    "\n",
    "\n",
    "# cfg.optimizer_config.grad_clip = dict(max_norm=35, norm_type=2)"
   ]
  },
  {
   "cell_type": "code",
   "execution_count": 3,
   "metadata": {},
   "outputs": [],
   "source": [
    "# cfg.model"
   ]
  },
  {
   "cell_type": "code",
   "execution_count": 4,
   "metadata": {},
   "outputs": [],
   "source": [
    "# cfg.data.val.pipeline[1]"
   ]
  },
  {
   "cell_type": "code",
   "execution_count": 5,
   "metadata": {
    "pycharm": {
     "name": "#%%\n"
    }
   },
   "outputs": [
    {
     "name": "stderr",
     "output_type": "stream",
     "text": [
      "2021-05-16 10:07:28,154 - mmdet - INFO - load model from: torchvision://resnet50\n",
      "2021-05-16 10:07:28,156 - mmdet - INFO - Use load_from_torchvision loader\n",
      "2021-05-16 10:07:28,490 - mmdet - WARNING - The model and loaded state dict do not match exactly\n",
      "\n",
      "unexpected key in source state_dict: fc.weight, fc.bias\n",
      "\n",
      "missing keys in source state_dict: layer2.0.conv2.weight_diff, layer2.0.conv2.switch.weight, layer2.0.conv2.switch.bias, layer2.0.conv2.pre_context.weight, layer2.0.conv2.pre_context.bias, layer2.0.conv2.post_context.weight, layer2.0.conv2.post_context.bias, layer2.0.conv2.offset_s.weight, layer2.0.conv2.offset_s.bias, layer2.0.conv2.offset_l.weight, layer2.0.conv2.offset_l.bias, layer2.1.conv2.weight_diff, layer2.1.conv2.switch.weight, layer2.1.conv2.switch.bias, layer2.1.conv2.pre_context.weight, layer2.1.conv2.pre_context.bias, layer2.1.conv2.post_context.weight, layer2.1.conv2.post_context.bias, layer2.1.conv2.offset_s.weight, layer2.1.conv2.offset_s.bias, layer2.1.conv2.offset_l.weight, layer2.1.conv2.offset_l.bias, layer2.2.conv2.weight_diff, layer2.2.conv2.switch.weight, layer2.2.conv2.switch.bias, layer2.2.conv2.pre_context.weight, layer2.2.conv2.pre_context.bias, layer2.2.conv2.post_context.weight, layer2.2.conv2.post_context.bias, layer2.2.conv2.offset_s.weight, layer2.2.conv2.offset_s.bias, layer2.2.conv2.offset_l.weight, layer2.2.conv2.offset_l.bias, layer2.3.conv2.weight_diff, layer2.3.conv2.switch.weight, layer2.3.conv2.switch.bias, layer2.3.conv2.pre_context.weight, layer2.3.conv2.pre_context.bias, layer2.3.conv2.post_context.weight, layer2.3.conv2.post_context.bias, layer2.3.conv2.offset_s.weight, layer2.3.conv2.offset_s.bias, layer2.3.conv2.offset_l.weight, layer2.3.conv2.offset_l.bias, layer3.0.conv2.weight_diff, layer3.0.conv2.switch.weight, layer3.0.conv2.switch.bias, layer3.0.conv2.pre_context.weight, layer3.0.conv2.pre_context.bias, layer3.0.conv2.post_context.weight, layer3.0.conv2.post_context.bias, layer3.0.conv2.offset_s.weight, layer3.0.conv2.offset_s.bias, layer3.0.conv2.offset_l.weight, layer3.0.conv2.offset_l.bias, layer3.1.conv2.weight_diff, layer3.1.conv2.switch.weight, layer3.1.conv2.switch.bias, layer3.1.conv2.pre_context.weight, layer3.1.conv2.pre_context.bias, layer3.1.conv2.post_context.weight, layer3.1.conv2.post_context.bias, layer3.1.conv2.offset_s.weight, layer3.1.conv2.offset_s.bias, layer3.1.conv2.offset_l.weight, layer3.1.conv2.offset_l.bias, layer3.2.conv2.weight_diff, layer3.2.conv2.switch.weight, layer3.2.conv2.switch.bias, layer3.2.conv2.pre_context.weight, layer3.2.conv2.pre_context.bias, layer3.2.conv2.post_context.weight, layer3.2.conv2.post_context.bias, layer3.2.conv2.offset_s.weight, layer3.2.conv2.offset_s.bias, layer3.2.conv2.offset_l.weight, layer3.2.conv2.offset_l.bias, layer3.3.conv2.weight_diff, layer3.3.conv2.switch.weight, layer3.3.conv2.switch.bias, layer3.3.conv2.pre_context.weight, layer3.3.conv2.pre_context.bias, layer3.3.conv2.post_context.weight, layer3.3.conv2.post_context.bias, layer3.3.conv2.offset_s.weight, layer3.3.conv2.offset_s.bias, layer3.3.conv2.offset_l.weight, layer3.3.conv2.offset_l.bias, layer3.4.conv2.weight_diff, layer3.4.conv2.switch.weight, layer3.4.conv2.switch.bias, layer3.4.conv2.pre_context.weight, layer3.4.conv2.pre_context.bias, layer3.4.conv2.post_context.weight, layer3.4.conv2.post_context.bias, layer3.4.conv2.offset_s.weight, layer3.4.conv2.offset_s.bias, layer3.4.conv2.offset_l.weight, layer3.4.conv2.offset_l.bias, layer3.5.conv2.weight_diff, layer3.5.conv2.switch.weight, layer3.5.conv2.switch.bias, layer3.5.conv2.pre_context.weight, layer3.5.conv2.pre_context.bias, layer3.5.conv2.post_context.weight, layer3.5.conv2.post_context.bias, layer3.5.conv2.offset_s.weight, layer3.5.conv2.offset_s.bias, layer3.5.conv2.offset_l.weight, layer3.5.conv2.offset_l.bias, layer4.0.conv2.weight_diff, layer4.0.conv2.switch.weight, layer4.0.conv2.switch.bias, layer4.0.conv2.pre_context.weight, layer4.0.conv2.pre_context.bias, layer4.0.conv2.post_context.weight, layer4.0.conv2.post_context.bias, layer4.0.conv2.offset_s.weight, layer4.0.conv2.offset_s.bias, layer4.0.conv2.offset_l.weight, layer4.0.conv2.offset_l.bias, layer4.1.conv2.weight_diff, layer4.1.conv2.switch.weight, layer4.1.conv2.switch.bias, layer4.1.conv2.pre_context.weight, layer4.1.conv2.pre_context.bias, layer4.1.conv2.post_context.weight, layer4.1.conv2.post_context.bias, layer4.1.conv2.offset_s.weight, layer4.1.conv2.offset_s.bias, layer4.1.conv2.offset_l.weight, layer4.1.conv2.offset_l.bias, layer4.2.conv2.weight_diff, layer4.2.conv2.switch.weight, layer4.2.conv2.switch.bias, layer4.2.conv2.pre_context.weight, layer4.2.conv2.pre_context.bias, layer4.2.conv2.post_context.weight, layer4.2.conv2.post_context.bias, layer4.2.conv2.offset_s.weight, layer4.2.conv2.offset_s.bias, layer4.2.conv2.offset_l.weight, layer4.2.conv2.offset_l.bias\n",
      "\n",
      "2021-05-16 10:07:28,517 - mmdet - INFO - Use load_from_torchvision loader\n",
      "2021-05-16 10:07:28,821 - mmdet - WARNING - The model and loaded state dict do not match exactly\n",
      "\n",
      "unexpected key in source state_dict: fc.weight, fc.bias\n",
      "\n",
      "missing keys in source state_dict: layer2.0.conv2.weight_diff, layer2.0.conv2.switch.weight, layer2.0.conv2.switch.bias, layer2.0.conv2.pre_context.weight, layer2.0.conv2.pre_context.bias, layer2.0.conv2.post_context.weight, layer2.0.conv2.post_context.bias, layer2.0.conv2.offset_s.weight, layer2.0.conv2.offset_s.bias, layer2.0.conv2.offset_l.weight, layer2.0.conv2.offset_l.bias, layer2.0.rfp_conv.weight, layer2.0.rfp_conv.bias, layer2.1.conv2.weight_diff, layer2.1.conv2.switch.weight, layer2.1.conv2.switch.bias, layer2.1.conv2.pre_context.weight, layer2.1.conv2.pre_context.bias, layer2.1.conv2.post_context.weight, layer2.1.conv2.post_context.bias, layer2.1.conv2.offset_s.weight, layer2.1.conv2.offset_s.bias, layer2.1.conv2.offset_l.weight, layer2.1.conv2.offset_l.bias, layer2.2.conv2.weight_diff, layer2.2.conv2.switch.weight, layer2.2.conv2.switch.bias, layer2.2.conv2.pre_context.weight, layer2.2.conv2.pre_context.bias, layer2.2.conv2.post_context.weight, layer2.2.conv2.post_context.bias, layer2.2.conv2.offset_s.weight, layer2.2.conv2.offset_s.bias, layer2.2.conv2.offset_l.weight, layer2.2.conv2.offset_l.bias, layer2.3.conv2.weight_diff, layer2.3.conv2.switch.weight, layer2.3.conv2.switch.bias, layer2.3.conv2.pre_context.weight, layer2.3.conv2.pre_context.bias, layer2.3.conv2.post_context.weight, layer2.3.conv2.post_context.bias, layer2.3.conv2.offset_s.weight, layer2.3.conv2.offset_s.bias, layer2.3.conv2.offset_l.weight, layer2.3.conv2.offset_l.bias, layer3.0.conv2.weight_diff, layer3.0.conv2.switch.weight, layer3.0.conv2.switch.bias, layer3.0.conv2.pre_context.weight, layer3.0.conv2.pre_context.bias, layer3.0.conv2.post_context.weight, layer3.0.conv2.post_context.bias, layer3.0.conv2.offset_s.weight, layer3.0.conv2.offset_s.bias, layer3.0.conv2.offset_l.weight, layer3.0.conv2.offset_l.bias, layer3.0.rfp_conv.weight, layer3.0.rfp_conv.bias, layer3.1.conv2.weight_diff, layer3.1.conv2.switch.weight, layer3.1.conv2.switch.bias, layer3.1.conv2.pre_context.weight, layer3.1.conv2.pre_context.bias, layer3.1.conv2.post_context.weight, layer3.1.conv2.post_context.bias, layer3.1.conv2.offset_s.weight, layer3.1.conv2.offset_s.bias, layer3.1.conv2.offset_l.weight, layer3.1.conv2.offset_l.bias, layer3.2.conv2.weight_diff, layer3.2.conv2.switch.weight, layer3.2.conv2.switch.bias, layer3.2.conv2.pre_context.weight, layer3.2.conv2.pre_context.bias, layer3.2.conv2.post_context.weight, layer3.2.conv2.post_context.bias, layer3.2.conv2.offset_s.weight, layer3.2.conv2.offset_s.bias, layer3.2.conv2.offset_l.weight, layer3.2.conv2.offset_l.bias, layer3.3.conv2.weight_diff, layer3.3.conv2.switch.weight, layer3.3.conv2.switch.bias, layer3.3.conv2.pre_context.weight, layer3.3.conv2.pre_context.bias, layer3.3.conv2.post_context.weight, layer3.3.conv2.post_context.bias, layer3.3.conv2.offset_s.weight, layer3.3.conv2.offset_s.bias, layer3.3.conv2.offset_l.weight, layer3.3.conv2.offset_l.bias, layer3.4.conv2.weight_diff, layer3.4.conv2.switch.weight, layer3.4.conv2.switch.bias, layer3.4.conv2.pre_context.weight, layer3.4.conv2.pre_context.bias, layer3.4.conv2.post_context.weight, layer3.4.conv2.post_context.bias, layer3.4.conv2.offset_s.weight, layer3.4.conv2.offset_s.bias, layer3.4.conv2.offset_l.weight, layer3.4.conv2.offset_l.bias, layer3.5.conv2.weight_diff, layer3.5.conv2.switch.weight, layer3.5.conv2.switch.bias, layer3.5.conv2.pre_context.weight, layer3.5.conv2.pre_context.bias, layer3.5.conv2.post_context.weight, layer3.5.conv2.post_context.bias, layer3.5.conv2.offset_s.weight, layer3.5.conv2.offset_s.bias, layer3.5.conv2.offset_l.weight, layer3.5.conv2.offset_l.bias, layer4.0.conv2.weight_diff, layer4.0.conv2.switch.weight, layer4.0.conv2.switch.bias, layer4.0.conv2.pre_context.weight, layer4.0.conv2.pre_context.bias, layer4.0.conv2.post_context.weight, layer4.0.conv2.post_context.bias, layer4.0.conv2.offset_s.weight, layer4.0.conv2.offset_s.bias, layer4.0.conv2.offset_l.weight, layer4.0.conv2.offset_l.bias, layer4.0.rfp_conv.weight, layer4.0.rfp_conv.bias, layer4.1.conv2.weight_diff, layer4.1.conv2.switch.weight, layer4.1.conv2.switch.bias, layer4.1.conv2.pre_context.weight, layer4.1.conv2.pre_context.bias, layer4.1.conv2.post_context.weight, layer4.1.conv2.post_context.bias, layer4.1.conv2.offset_s.weight, layer4.1.conv2.offset_s.bias, layer4.1.conv2.offset_l.weight, layer4.1.conv2.offset_l.bias, layer4.2.conv2.weight_diff, layer4.2.conv2.switch.weight, layer4.2.conv2.switch.bias, layer4.2.conv2.pre_context.weight, layer4.2.conv2.pre_context.bias, layer4.2.conv2.post_context.weight, layer4.2.conv2.post_context.bias, layer4.2.conv2.offset_s.weight, layer4.2.conv2.offset_s.bias, layer4.2.conv2.offset_l.weight, layer4.2.conv2.offset_l.bias\n",
      "\n"
     ]
    }
   ],
   "source": [
    "model = build_detector(cfg.model)"
   ]
  },
  {
   "cell_type": "code",
   "execution_count": 6,
   "metadata": {
    "pycharm": {
     "name": "#%%\n"
    }
   },
   "outputs": [
    {
     "name": "stdout",
     "output_type": "stream",
     "text": [
      "loading annotations into memory...\n",
      "Done (t=3.85s)\n",
      "creating index...\n",
      "index created!\n"
     ]
    }
   ],
   "source": [
    "datasets = [build_dataset(cfg.data.train)]"
   ]
  },
  {
   "cell_type": "code",
   "execution_count": 7,
   "metadata": {
    "pycharm": {
     "name": "#%%\n"
    }
   },
   "outputs": [
    {
     "name": "stdout",
     "output_type": "stream",
     "text": [
      "loading annotations into memory...\n"
     ]
    },
    {
     "name": "stderr",
     "output_type": "stream",
     "text": [
      "2021-05-16 10:07:38,511 - mmdet - INFO - Start running, host: root@45fd1f8b8b06, work_dir: /opt/ml/code/mmdetection_trash/work_dirs/detectors\n",
      "2021-05-16 10:07:38,512 - mmdet - INFO - workflow: [('train', 1)], max: 50 epochs\n"
     ]
    },
    {
     "name": "stdout",
     "output_type": "stream",
     "text": [
      "Done (t=0.99s)\n",
      "creating index...\n",
      "index created!\n"
     ]
    },
    {
     "name": "stderr",
     "output_type": "stream",
     "text": [
      "/opt/ml/code/mmdetection_trash/mmdet/core/evaluation/eval_hooks.py:112: UserWarning: runner.meta is None. Creating a empty one.\n",
      "  warnings.warn('runner.meta is None. Creating a empty one.')\n",
      "\u001b[34m\u001b[1mwandb\u001b[0m: Currently logged in as: \u001b[33mug_kim\u001b[0m (use `wandb login --relogin` to force relogin)\n"
     ]
    },
    {
     "data": {
      "text/html": [
       "\n",
       "                Tracking run with wandb version 0.10.30<br/>\n",
       "                Syncing run <strong style=\"color:#cdcd00\">detectors</strong> to <a href=\"https://wandb.ai\" target=\"_blank\">Weights & Biases</a> <a href=\"https://docs.wandb.com/integrations/jupyter.html\" target=\"_blank\">(Documentation)</a>.<br/>\n",
       "                Project page: <a href=\"https://wandb.ai/ug_kim/P-stage3-detection\" target=\"_blank\">https://wandb.ai/ug_kim/P-stage3-detection</a><br/>\n",
       "                Run page: <a href=\"https://wandb.ai/ug_kim/P-stage3-detection/runs/18pb0rxf\" target=\"_blank\">https://wandb.ai/ug_kim/P-stage3-detection/runs/18pb0rxf</a><br/>\n",
       "                Run data is saved locally in <code>/opt/ml/code/mmdetection_trash/wandb/run-20210516_100738-18pb0rxf</code><br/><br/>\n",
       "            "
      ],
      "text/plain": [
       "<IPython.core.display.HTML object>"
      ]
     },
     "metadata": {},
     "output_type": "display_data"
    },
    {
     "name": "stderr",
     "output_type": "stream",
     "text": [
      "2021-05-16 10:10:05,875 - mmdet - INFO - Epoch [1][50/328]\tlr: 9.890e-06, eta: 12:57:53, time: 2.855, data_time: 0.104, memory: 12467, loss_rpn_cls: 0.6772, loss_rpn_bbox: 0.0715, s0.loss_cls: 1.7125, s0.acc: 68.8081, s0.loss_bbox: 0.1061, s0.loss_mask: 1.0414, s1.loss_cls: 0.7562, s1.acc: 80.6934, s1.loss_bbox: 0.0304, s1.loss_mask: 0.6614, s2.loss_cls: 0.4228, s2.acc: 67.1631, s2.loss_bbox: 0.0039, s2.loss_mask: 0.2906, loss: 5.7741, grad_norm: 21.4025\n",
      "2021-05-16 10:12:35,211 - mmdet - INFO - Epoch [1][100/328]\tlr: 1.988e-05, eta: 13:13:26, time: 2.987, data_time: 0.052, memory: 13044, loss_rpn_cls: 0.4196, loss_rpn_bbox: 0.0622, s0.loss_cls: 0.4943, s0.acc: 89.7437, s0.loss_bbox: 0.2419, s0.loss_mask: 0.7171, s1.loss_cls: 0.1435, s1.acc: 95.5137, s1.loss_bbox: 0.0681, s1.loss_mask: 0.3815, s2.loss_cls: 0.0462, s2.acc: 97.6475, s2.loss_bbox: 0.0092, s2.loss_mask: 0.1917, loss: 2.7755, grad_norm: 6.0688\n",
      "2021-05-16 10:15:07,426 - mmdet - INFO - Epoch [1][150/328]\tlr: 2.987e-05, eta: 13:22:10, time: 3.044, data_time: 0.050, memory: 13073, loss_rpn_cls: 0.2357, loss_rpn_bbox: 0.0704, s0.loss_cls: 0.4694, s0.acc: 88.1841, s0.loss_bbox: 0.2825, s0.loss_mask: 0.6443, s1.loss_cls: 0.1331, s1.acc: 94.7710, s1.loss_bbox: 0.0847, s1.loss_mask: 0.3305, s2.loss_cls: 0.0396, s2.acc: 97.4370, s2.loss_bbox: 0.0118, s2.loss_mask: 0.1673, loss: 2.4693, grad_norm: 4.4548\n",
      "2021-05-16 10:17:38,916 - mmdet - INFO - Epoch [1][200/328]\tlr: 3.986e-05, eta: 13:24:17, time: 3.030, data_time: 0.054, memory: 13549, loss_rpn_cls: 0.1931, loss_rpn_bbox: 0.0635, s0.loss_cls: 0.4077, s0.acc: 89.3853, s0.loss_bbox: 0.2579, s0.loss_mask: 0.5941, s1.loss_cls: 0.1260, s1.acc: 94.5952, s1.loss_bbox: 0.0888, s1.loss_mask: 0.3011, s2.loss_cls: 0.0377, s2.acc: 97.3374, s2.loss_bbox: 0.0136, s2.loss_mask: 0.1536, loss: 2.2370, grad_norm: 5.6902\n",
      "2021-05-16 10:20:15,156 - mmdet - INFO - Epoch [1][250/328]\tlr: 4.985e-05, eta: 13:29:39, time: 3.125, data_time: 0.053, memory: 13850, loss_rpn_cls: 0.1623, loss_rpn_bbox: 0.0592, s0.loss_cls: 0.3976, s0.acc: 89.3955, s0.loss_bbox: 0.2537, s0.loss_mask: 0.5493, s1.loss_cls: 0.1366, s1.acc: 93.4482, s1.loss_bbox: 0.1124, s1.loss_mask: 0.2724, s2.loss_cls: 0.0422, s2.acc: 96.6665, s2.loss_bbox: 0.0210, s2.loss_mask: 0.1354, loss: 2.1420, grad_norm: 5.7224\n",
      "2021-05-16 10:22:56,749 - mmdet - INFO - Epoch [1][300/328]\tlr: 5.984e-05, eta: 13:37:09, time: 3.232, data_time: 0.053, memory: 15077, loss_rpn_cls: 0.1367, loss_rpn_bbox: 0.0578, s0.loss_cls: 0.4001, s0.acc: 89.4873, s0.loss_bbox: 0.2421, s0.loss_mask: 0.5150, s1.loss_cls: 0.1487, s1.acc: 92.4785, s1.loss_bbox: 0.1351, s1.loss_mask: 0.2481, s2.loss_cls: 0.0495, s2.acc: 95.4546, s2.loss_bbox: 0.0351, s2.loss_mask: 0.1207, loss: 2.0888, grad_norm: 5.8804\n",
      "2021-05-16 10:24:31,375 - mmdet - INFO - Saving checkpoint at 1 epochs\n"
     ]
    },
    {
     "name": "stdout",
     "output_type": "stream",
     "text": [
      "[>>>>>>>>>>>>>>>>>>>>>>>>>>>>>] 655/655, 3.2 task/s, elapsed: 204s, ETA:     0s"
     ]
    },
    {
     "name": "stderr",
     "output_type": "stream",
     "text": [
      "2021-05-16 10:28:12,997 - mmdet - INFO - Evaluating bbox...\n"
     ]
    },
    {
     "name": "stdout",
     "output_type": "stream",
     "text": [
      "Loading and preparing results...\n",
      "DONE (t=0.80s)\n",
      "creating index...\n",
      "index created!\n",
      "Running per image evaluation...\n",
      "Evaluate annotation type *bbox*\n",
      "DONE (t=8.64s).\n",
      "Accumulating evaluation results...\n",
      "DONE (t=1.79s).\n",
      "Average Precision  (AP) @[ IoU=0.50:0.95 | area=   all | maxDets=100 ] = 0.039\n",
      "Average Precision  (AP) @[ IoU=0.50      | area=   all | maxDets=1000 ] = 0.090\n",
      "Average Precision  (AP) @[ IoU=0.75      | area=   all | maxDets=1000 ] = 0.028\n",
      "Average Precision  (AP) @[ IoU=0.50:0.95 | area= small | maxDets=1000 ] = 0.003\n",
      "Average Precision  (AP) @[ IoU=0.50:0.95 | area=medium | maxDets=1000 ] = 0.032\n",
      "Average Precision  (AP) @[ IoU=0.50:0.95 | area= large | maxDets=1000 ] = 0.094\n",
      "Average Recall     (AR) @[ IoU=0.50:0.95 | area=   all | maxDets=100 ] = 0.108\n",
      "Average Recall     (AR) @[ IoU=0.50:0.95 | area=   all | maxDets=300 ] = 0.108\n",
      "Average Recall     (AR) @[ IoU=0.50:0.95 | area=   all | maxDets=1000 ] = 0.108\n",
      "Average Recall     (AR) @[ IoU=0.50:0.95 | area= small | maxDets=1000 ] = 0.014\n",
      "Average Recall     (AR) @[ IoU=0.50:0.95 | area=medium | maxDets=1000 ] = 0.066\n",
      "Average Recall     (AR) @[ IoU=0.50:0.95 | area= large | maxDets=1000 ] = 0.270\n"
     ]
    },
    {
     "name": "stderr",
     "output_type": "stream",
     "text": [
      "2021-05-16 10:28:35,126 - mmdet - INFO - Now best checkpoint is epoch_1.pth.Best bbox_mAP_50 is 0.0900\n",
      "2021-05-16 10:28:35,175 - mmdet - INFO - Epoch(val) [1][328]\tbbox_mAP: 0.0390, bbox_mAP_50: 0.0900, bbox_mAP_75: 0.0280, bbox_mAP_s: 0.0030, bbox_mAP_m: 0.0320, bbox_mAP_l: 0.0940, bbox_mAP_copypaste: 0.039 0.090 0.028 0.003 0.032 0.094\n",
      "2021-05-16 10:31:29,470 - mmdet - INFO - Epoch [2][50/328]\tlr: 7.542e-05, eta: 12:48:31, time: 3.486, data_time: 0.098, memory: 16270, loss_rpn_cls: 0.1176, loss_rpn_bbox: 0.0538, s0.loss_cls: 0.3914, s0.acc: 89.2100, s0.loss_bbox: 0.2402, s0.loss_mask: 0.4727, s1.loss_cls: 0.1588, s1.acc: 91.4355, s1.loss_bbox: 0.1536, s1.loss_mask: 0.2210, s2.loss_cls: 0.0610, s2.acc: 93.6172, s2.loss_bbox: 0.0582, s2.loss_mask: 0.1022, loss: 2.0304, grad_norm: 5.4159\n",
      "2021-05-16 10:34:24,650 - mmdet - INFO - Epoch [2][100/328]\tlr: 8.541e-05, eta: 13:05:34, time: 3.504, data_time: 0.048, memory: 16270, loss_rpn_cls: 0.1230, loss_rpn_bbox: 0.0589, s0.loss_cls: 0.3939, s0.acc: 88.8955, s0.loss_bbox: 0.2353, s0.loss_mask: 0.4777, s1.loss_cls: 0.1654, s1.acc: 90.8242, s1.loss_bbox: 0.1630, s1.loss_mask: 0.2263, s2.loss_cls: 0.0650, s2.acc: 93.0294, s2.loss_bbox: 0.0622, s2.loss_mask: 0.1063, loss: 2.0768, grad_norm: 5.5557\n",
      "2021-05-16 10:37:27,255 - mmdet - INFO - Epoch [2][150/328]\tlr: 9.540e-05, eta: 13:22:34, time: 3.652, data_time: 0.046, memory: 17062, loss_rpn_cls: 0.1051, loss_rpn_bbox: 0.0532, s0.loss_cls: 0.3883, s0.acc: 88.9741, s0.loss_bbox: 0.2333, s0.loss_mask: 0.4370, s1.loss_cls: 0.1702, s1.acc: 90.3451, s1.loss_bbox: 0.1730, s1.loss_mask: 0.2040, s2.loss_cls: 0.0697, s2.acc: 92.1798, s2.loss_bbox: 0.0754, s2.loss_mask: 0.0925, loss: 2.0018, grad_norm: 5.0051\n",
      "2021-05-16 10:40:28,502 - mmdet - INFO - Epoch [2][200/328]\tlr: 1.000e-04, eta: 13:35:05, time: 3.625, data_time: 0.045, memory: 17616, loss_rpn_cls: 0.1041, loss_rpn_bbox: 0.0523, s0.loss_cls: 0.3911, s0.acc: 89.0425, s0.loss_bbox: 0.2143, s0.loss_mask: 0.4355, s1.loss_cls: 0.1733, s1.acc: 90.2191, s1.loss_bbox: 0.1642, s1.loss_mask: 0.2054, s2.loss_cls: 0.0727, s2.acc: 91.7241, s2.loss_bbox: 0.0726, s2.loss_mask: 0.0933, loss: 1.9789, grad_norm: 5.5004\n",
      "2021-05-16 10:43:33,373 - mmdet - INFO - Epoch [2][250/328]\tlr: 1.000e-04, eta: 13:46:34, time: 3.697, data_time: 0.046, memory: 18083, loss_rpn_cls: 0.1033, loss_rpn_bbox: 0.0500, s0.loss_cls: 0.3689, s0.acc: 89.3257, s0.loss_bbox: 0.2058, s0.loss_mask: 0.4108, s1.loss_cls: 0.1640, s1.acc: 90.5280, s1.loss_bbox: 0.1610, s1.loss_mask: 0.1893, s2.loss_cls: 0.0707, s2.acc: 91.8834, s2.loss_bbox: 0.0763, s2.loss_mask: 0.0859, loss: 1.8861, grad_norm: 4.9594\n",
      "2021-05-16 10:46:37,396 - mmdet - INFO - Epoch [2][300/328]\tlr: 1.000e-04, eta: 13:55:23, time: 3.680, data_time: 0.047, memory: 18255, loss_rpn_cls: 0.0896, loss_rpn_bbox: 0.0451, s0.loss_cls: 0.3344, s0.acc: 90.2051, s0.loss_bbox: 0.1862, s0.loss_mask: 0.3783, s1.loss_cls: 0.1520, s1.acc: 90.9829, s1.loss_bbox: 0.1512, s1.loss_mask: 0.1723, s2.loss_cls: 0.0667, s2.acc: 92.0638, s2.loss_bbox: 0.0735, s2.loss_mask: 0.0766, loss: 1.7259, grad_norm: 4.8880\n",
      "2021-05-16 10:48:22,696 - mmdet - INFO - Saving checkpoint at 2 epochs\n"
     ]
    },
    {
     "name": "stdout",
     "output_type": "stream",
     "text": [
      "[>>>>>>>>>>>>>>>>>>>>>>>>>>>>>] 655/655, 3.3 task/s, elapsed: 200s, ETA:     0s"
     ]
    },
    {
     "name": "stderr",
     "output_type": "stream",
     "text": [
      "2021-05-16 10:51:59,839 - mmdet - INFO - Evaluating bbox...\n"
     ]
    },
    {
     "name": "stdout",
     "output_type": "stream",
     "text": [
      "Loading and preparing results...\n",
      "DONE (t=1.34s)\n",
      "creating index...\n",
      "index created!\n",
      "Running per image evaluation...\n",
      "Evaluate annotation type *bbox*\n",
      "DONE (t=9.11s).\n",
      "Accumulating evaluation results...\n",
      "DONE (t=1.81s).\n",
      "Average Precision  (AP) @[ IoU=0.50:0.95 | area=   all | maxDets=100 ] = 0.104\n",
      "Average Precision  (AP) @[ IoU=0.50      | area=   all | maxDets=1000 ] = 0.188\n",
      "Average Precision  (AP) @[ IoU=0.75      | area=   all | maxDets=1000 ] = 0.101\n",
      "Average Precision  (AP) @[ IoU=0.50:0.95 | area= small | maxDets=1000 ] = 0.017\n",
      "Average Precision  (AP) @[ IoU=0.50:0.95 | area=medium | maxDets=1000 ] = 0.090\n",
      "Average Precision  (AP) @[ IoU=0.50:0.95 | area= large | maxDets=1000 ] = 0.235\n",
      "Average Recall     (AR) @[ IoU=0.50:0.95 | area=   all | maxDets=100 ] = 0.246\n",
      "Average Recall     (AR) @[ IoU=0.50:0.95 | area=   all | maxDets=300 ] = 0.246\n",
      "Average Recall     (AR) @[ IoU=0.50:0.95 | area=   all | maxDets=1000 ] = 0.246\n",
      "Average Recall     (AR) @[ IoU=0.50:0.95 | area= small | maxDets=1000 ] = 0.061\n",
      "Average Recall     (AR) @[ IoU=0.50:0.95 | area=medium | maxDets=1000 ] = 0.200\n",
      "Average Recall     (AR) @[ IoU=0.50:0.95 | area= large | maxDets=1000 ] = 0.543\n"
     ]
    },
    {
     "name": "stderr",
     "output_type": "stream",
     "text": [
      "2021-05-16 10:52:23,032 - mmdet - INFO - Now best checkpoint is epoch_2.pth.Best bbox_mAP_50 is 0.1880\n",
      "2021-05-16 10:52:23,082 - mmdet - INFO - Epoch(val) [2][328]\tbbox_mAP: 0.1040, bbox_mAP_50: 0.1880, bbox_mAP_75: 0.1010, bbox_mAP_s: 0.0170, bbox_mAP_m: 0.0900, bbox_mAP_l: 0.2350, bbox_mAP_copypaste: 0.104 0.188 0.101 0.017 0.090 0.235\n",
      "2021-05-16 10:55:33,588 - mmdet - INFO - Epoch [3][50/328]\tlr: 1.000e-04, eta: 13:29:59, time: 3.810, data_time: 0.096, memory: 18401, loss_rpn_cls: 0.0751, loss_rpn_bbox: 0.0423, s0.loss_cls: 0.3339, s0.acc: 90.0571, s0.loss_bbox: 0.1842, s0.loss_mask: 0.3583, s1.loss_cls: 0.1535, s1.acc: 90.7381, s1.loss_bbox: 0.1547, s1.loss_mask: 0.1613, s2.loss_cls: 0.0686, s2.acc: 91.6371, s2.loss_bbox: 0.0767, s2.loss_mask: 0.0710, loss: 1.6797, grad_norm: 4.7488\n",
      "2021-05-16 10:58:43,764 - mmdet - INFO - Epoch [3][100/328]\tlr: 1.000e-04, eta: 13:39:36, time: 3.804, data_time: 0.049, memory: 18440, loss_rpn_cls: 0.0753, loss_rpn_bbox: 0.0407, s0.loss_cls: 0.3425, s0.acc: 90.0972, s0.loss_bbox: 0.1734, s0.loss_mask: 0.3499, s1.loss_cls: 0.1610, s1.acc: 90.7159, s1.loss_bbox: 0.1529, s1.loss_mask: 0.1578, s2.loss_cls: 0.0710, s2.acc: 91.7138, s2.loss_bbox: 0.0767, s2.loss_mask: 0.0705, loss: 1.6716, grad_norm: 4.3408\n",
      "2021-05-16 11:01:52,596 - mmdet - INFO - Epoch [3][150/328]\tlr: 1.000e-04, eta: 13:47:11, time: 3.777, data_time: 0.052, memory: 18563, loss_rpn_cls: 0.0803, loss_rpn_bbox: 0.0479, s0.loss_cls: 0.3203, s0.acc: 90.6274, s0.loss_bbox: 0.1724, s0.loss_mask: 0.3571, s1.loss_cls: 0.1493, s1.acc: 91.2219, s1.loss_bbox: 0.1497, s1.loss_mask: 0.1629, s2.loss_cls: 0.0667, s2.acc: 92.0899, s2.loss_bbox: 0.0754, s2.loss_mask: 0.0724, loss: 1.6542, grad_norm: 4.7188\n",
      "2021-05-16 11:04:59,813 - mmdet - INFO - Epoch [3][200/328]\tlr: 1.000e-04, eta: 13:53:02, time: 3.744, data_time: 0.054, memory: 19208, loss_rpn_cls: 0.0781, loss_rpn_bbox: 0.0437, s0.loss_cls: 0.3273, s0.acc: 90.2593, s0.loss_bbox: 0.1734, s0.loss_mask: 0.3490, s1.loss_cls: 0.1508, s1.acc: 91.0559, s1.loss_bbox: 0.1463, s1.loss_mask: 0.1575, s2.loss_cls: 0.0675, s2.acc: 92.0248, s2.loss_bbox: 0.0725, s2.loss_mask: 0.0701, loss: 1.6362, grad_norm: 4.6963\n",
      "2021-05-16 11:08:09,985 - mmdet - INFO - Epoch [3][250/328]\tlr: 1.000e-04, eta: 13:58:44, time: 3.803, data_time: 0.049, memory: 19208, loss_rpn_cls: 0.0712, loss_rpn_bbox: 0.0393, s0.loss_cls: 0.3258, s0.acc: 90.1826, s0.loss_bbox: 0.1733, s0.loss_mask: 0.3368, s1.loss_cls: 0.1528, s1.acc: 90.7349, s1.loss_bbox: 0.1502, s1.loss_mask: 0.1513, s2.loss_cls: 0.0693, s2.acc: 91.5478, s2.loss_bbox: 0.0759, s2.loss_mask: 0.0663, loss: 1.6121, grad_norm: 4.4632\n",
      "2021-05-16 11:11:21,631 - mmdet - INFO - Epoch [3][300/328]\tlr: 1.000e-04, eta: 14:03:54, time: 3.833, data_time: 0.050, memory: 19208, loss_rpn_cls: 0.0771, loss_rpn_bbox: 0.0420, s0.loss_cls: 0.3340, s0.acc: 90.0884, s0.loss_bbox: 0.1666, s0.loss_mask: 0.3287, s1.loss_cls: 0.1584, s1.acc: 90.5292, s1.loss_bbox: 0.1480, s1.loss_mask: 0.1476, s2.loss_cls: 0.0719, s2.acc: 91.3214, s2.loss_bbox: 0.0761, s2.loss_mask: 0.0649, loss: 1.6152, grad_norm: 4.6045\n",
      "2021-05-16 11:13:10,757 - mmdet - INFO - Saving checkpoint at 3 epochs\n"
     ]
    },
    {
     "name": "stdout",
     "output_type": "stream",
     "text": [
      "[>>>>>>>>>>>>>>>>>>>>>>>>>>>>>] 655/655, 3.4 task/s, elapsed: 195s, ETA:     0s"
     ]
    },
    {
     "name": "stderr",
     "output_type": "stream",
     "text": [
      "2021-05-16 11:16:34,142 - mmdet - INFO - Evaluating bbox...\n"
     ]
    },
    {
     "name": "stdout",
     "output_type": "stream",
     "text": [
      "Loading and preparing results...\n",
      "DONE (t=1.45s)\n",
      "creating index...\n",
      "index created!\n",
      "Running per image evaluation...\n",
      "Evaluate annotation type *bbox*\n",
      "DONE (t=8.45s).\n",
      "Accumulating evaluation results...\n",
      "DONE (t=1.65s).\n",
      "Average Precision  (AP) @[ IoU=0.50:0.95 | area=   all | maxDets=100 ] = 0.125\n",
      "Average Precision  (AP) @[ IoU=0.50      | area=   all | maxDets=1000 ] = 0.213\n",
      "Average Precision  (AP) @[ IoU=0.75      | area=   all | maxDets=1000 ] = 0.131\n",
      "Average Precision  (AP) @[ IoU=0.50:0.95 | area= small | maxDets=1000 ] = 0.026\n",
      "Average Precision  (AP) @[ IoU=0.50:0.95 | area=medium | maxDets=1000 ] = 0.127\n",
      "Average Precision  (AP) @[ IoU=0.50:0.95 | area= large | maxDets=1000 ] = 0.230\n",
      "Average Recall     (AR) @[ IoU=0.50:0.95 | area=   all | maxDets=100 ] = 0.287\n",
      "Average Recall     (AR) @[ IoU=0.50:0.95 | area=   all | maxDets=300 ] = 0.287\n",
      "Average Recall     (AR) @[ IoU=0.50:0.95 | area=   all | maxDets=1000 ] = 0.287\n",
      "Average Recall     (AR) @[ IoU=0.50:0.95 | area= small | maxDets=1000 ] = 0.078\n",
      "Average Recall     (AR) @[ IoU=0.50:0.95 | area=medium | maxDets=1000 ] = 0.251\n",
      "Average Recall     (AR) @[ IoU=0.50:0.95 | area= large | maxDets=1000 ] = 0.560\n"
     ]
    },
    {
     "name": "stderr",
     "output_type": "stream",
     "text": [
      "2021-05-16 11:16:56,502 - mmdet - INFO - Now best checkpoint is epoch_3.pth.Best bbox_mAP_50 is 0.2130\n",
      "2021-05-16 11:16:56,546 - mmdet - INFO - Epoch(val) [3][328]\tbbox_mAP: 0.1250, bbox_mAP_50: 0.2130, bbox_mAP_75: 0.1310, bbox_mAP_s: 0.0260, bbox_mAP_m: 0.1270, bbox_mAP_l: 0.2300, bbox_mAP_copypaste: 0.125 0.213 0.131 0.026 0.127 0.230\n",
      "2021-05-16 11:20:17,440 - mmdet - INFO - Epoch [4][50/328]\tlr: 1.000e-04, eta: 13:46:03, time: 4.017, data_time: 0.105, memory: 19819, loss_rpn_cls: 0.0633, loss_rpn_bbox: 0.0400, s0.loss_cls: 0.3253, s0.acc: 89.7910, s0.loss_bbox: 0.1772, s0.loss_mask: 0.3152, s1.loss_cls: 0.1514, s1.acc: 90.5754, s1.loss_bbox: 0.1507, s1.loss_mask: 0.1399, s2.loss_cls: 0.0698, s2.acc: 91.3223, s2.loss_bbox: 0.0794, s2.loss_mask: 0.0627, loss: 1.5747, grad_norm: 4.5189\n",
      "2021-05-16 11:23:30,197 - mmdet - INFO - Epoch [4][100/328]\tlr: 1.000e-04, eta: 13:50:46, time: 3.855, data_time: 0.048, memory: 19819, loss_rpn_cls: 0.0649, loss_rpn_bbox: 0.0423, s0.loss_cls: 0.2914, s0.acc: 91.0352, s0.loss_bbox: 0.1510, s0.loss_mask: 0.3021, s1.loss_cls: 0.1392, s1.acc: 91.4212, s1.loss_bbox: 0.1344, s1.loss_mask: 0.1355, s2.loss_cls: 0.0650, s2.acc: 91.9265, s2.loss_bbox: 0.0733, s2.loss_mask: 0.0605, loss: 1.4596, grad_norm: 4.2774\n",
      "2021-05-16 11:26:43,792 - mmdet - INFO - Epoch [4][150/328]\tlr: 1.000e-04, eta: 13:54:59, time: 3.872, data_time: 0.050, memory: 19819, loss_rpn_cls: 0.0622, loss_rpn_bbox: 0.0392, s0.loss_cls: 0.3070, s0.acc: 90.4556, s0.loss_bbox: 0.1593, s0.loss_mask: 0.3107, s1.loss_cls: 0.1463, s1.acc: 90.9312, s1.loss_bbox: 0.1418, s1.loss_mask: 0.1389, s2.loss_cls: 0.0685, s2.acc: 91.4821, s2.loss_bbox: 0.0760, s2.loss_mask: 0.0609, loss: 1.5110, grad_norm: 4.6898\n",
      "2021-05-16 11:29:54,718 - mmdet - INFO - Epoch [4][200/328]\tlr: 1.000e-04, eta: 13:58:00, time: 3.818, data_time: 0.044, memory: 19819, loss_rpn_cls: 0.0587, loss_rpn_bbox: 0.0362, s0.loss_cls: 0.2864, s0.acc: 91.2666, s0.loss_bbox: 0.1440, s0.loss_mask: 0.3074, s1.loss_cls: 0.1363, s1.acc: 91.6464, s1.loss_bbox: 0.1295, s1.loss_mask: 0.1373, s2.loss_cls: 0.0637, s2.acc: 92.0483, s2.loss_bbox: 0.0697, s2.loss_mask: 0.0600, loss: 1.4292, grad_norm: 4.6639\n",
      "2021-05-16 11:33:07,411 - mmdet - INFO - Epoch [4][250/328]\tlr: 1.000e-04, eta: 14:00:52, time: 3.854, data_time: 0.050, memory: 19819, loss_rpn_cls: 0.0692, loss_rpn_bbox: 0.0406, s0.loss_cls: 0.3119, s0.acc: 90.4834, s0.loss_bbox: 0.1580, s0.loss_mask: 0.3131, s1.loss_cls: 0.1464, s1.acc: 90.9604, s1.loss_bbox: 0.1351, s1.loss_mask: 0.1380, s2.loss_cls: 0.0679, s2.acc: 91.6495, s2.loss_bbox: 0.0717, s2.loss_mask: 0.0609, loss: 1.5128, grad_norm: 4.5397\n",
      "2021-05-16 11:36:19,182 - mmdet - INFO - Epoch [4][300/328]\tlr: 1.000e-04, eta: 14:03:05, time: 3.835, data_time: 0.041, memory: 19819, loss_rpn_cls: 0.0608, loss_rpn_bbox: 0.0335, s0.loss_cls: 0.2976, s0.acc: 90.9751, s0.loss_bbox: 0.1459, s0.loss_mask: 0.2967, s1.loss_cls: 0.1423, s1.acc: 91.2730, s1.loss_bbox: 0.1335, s1.loss_mask: 0.1326, s2.loss_cls: 0.0669, s2.acc: 91.6867, s2.loss_bbox: 0.0752, s2.loss_mask: 0.0589, loss: 1.4439, grad_norm: 4.4821\n",
      "2021-05-16 11:38:04,905 - mmdet - INFO - Saving checkpoint at 4 epochs\n"
     ]
    },
    {
     "name": "stdout",
     "output_type": "stream",
     "text": [
      "[>>>>>>>>>>>>>>>>>>>>>>>>>>>>>] 655/655, 3.3 task/s, elapsed: 198s, ETA:     0s"
     ]
    },
    {
     "name": "stderr",
     "output_type": "stream",
     "text": [
      "2021-05-16 11:41:31,933 - mmdet - INFO - Evaluating bbox...\n"
     ]
    },
    {
     "name": "stdout",
     "output_type": "stream",
     "text": [
      "Loading and preparing results...\n",
      "DONE (t=1.31s)\n",
      "creating index...\n",
      "index created!\n",
      "Running per image evaluation...\n",
      "Evaluate annotation type *bbox*\n",
      "DONE (t=8.86s).\n",
      "Accumulating evaluation results...\n",
      "DONE (t=1.73s).\n",
      "Average Precision  (AP) @[ IoU=0.50:0.95 | area=   all | maxDets=100 ] = 0.182\n",
      "Average Precision  (AP) @[ IoU=0.50      | area=   all | maxDets=1000 ] = 0.302\n",
      "Average Precision  (AP) @[ IoU=0.75      | area=   all | maxDets=1000 ] = 0.192\n",
      "Average Precision  (AP) @[ IoU=0.50:0.95 | area= small | maxDets=1000 ] = 0.029\n",
      "Average Precision  (AP) @[ IoU=0.50:0.95 | area=medium | maxDets=1000 ] = 0.164\n",
      "Average Precision  (AP) @[ IoU=0.50:0.95 | area= large | maxDets=1000 ] = 0.331\n",
      "Average Recall     (AR) @[ IoU=0.50:0.95 | area=   all | maxDets=100 ] = 0.350\n",
      "Average Recall     (AR) @[ IoU=0.50:0.95 | area=   all | maxDets=300 ] = 0.350\n",
      "Average Recall     (AR) @[ IoU=0.50:0.95 | area=   all | maxDets=1000 ] = 0.350\n",
      "Average Recall     (AR) @[ IoU=0.50:0.95 | area= small | maxDets=1000 ] = 0.107\n",
      "Average Recall     (AR) @[ IoU=0.50:0.95 | area=medium | maxDets=1000 ] = 0.317\n",
      "Average Recall     (AR) @[ IoU=0.50:0.95 | area= large | maxDets=1000 ] = 0.606\n"
     ]
    },
    {
     "name": "stderr",
     "output_type": "stream",
     "text": [
      "2021-05-16 11:41:54,679 - mmdet - INFO - Now best checkpoint is epoch_4.pth.Best bbox_mAP_50 is 0.3020\n",
      "2021-05-16 11:41:54,726 - mmdet - INFO - Epoch(val) [4][328]\tbbox_mAP: 0.1820, bbox_mAP_50: 0.3020, bbox_mAP_75: 0.1920, bbox_mAP_s: 0.0290, bbox_mAP_m: 0.1640, bbox_mAP_l: 0.3310, bbox_mAP_copypaste: 0.182 0.302 0.192 0.029 0.164 0.331\n",
      "2021-05-16 11:45:14,262 - mmdet - INFO - Epoch [5][50/328]\tlr: 1.000e-04, eta: 13:47:25, time: 3.990, data_time: 0.105, memory: 19819, loss_rpn_cls: 0.0520, loss_rpn_bbox: 0.0382, s0.loss_cls: 0.2791, s0.acc: 91.1890, s0.loss_bbox: 0.1451, s0.loss_mask: 0.2901, s1.loss_cls: 0.1321, s1.acc: 91.7015, s1.loss_bbox: 0.1297, s1.loss_mask: 0.1291, s2.loss_cls: 0.0632, s2.acc: 91.9626, s2.loss_bbox: 0.0747, s2.loss_mask: 0.0581, loss: 1.3915, grad_norm: 4.6030\n",
      "2021-05-16 11:48:28,514 - mmdet - INFO - Epoch [5][100/328]\tlr: 1.000e-04, eta: 13:49:50, time: 3.885, data_time: 0.048, memory: 19888, loss_rpn_cls: 0.0517, loss_rpn_bbox: 0.0344, s0.loss_cls: 0.2729, s0.acc: 91.4819, s0.loss_bbox: 0.1382, s0.loss_mask: 0.2821, s1.loss_cls: 0.1295, s1.acc: 91.9155, s1.loss_bbox: 0.1247, s1.loss_mask: 0.1234, s2.loss_cls: 0.0620, s2.acc: 92.1312, s2.loss_bbox: 0.0712, s2.loss_mask: 0.0552, loss: 1.3454, grad_norm: 4.3046\n",
      "2021-05-16 11:51:40,816 - mmdet - INFO - Epoch [5][150/328]\tlr: 1.000e-04, eta: 13:51:32, time: 3.846, data_time: 0.044, memory: 19888, loss_rpn_cls: 0.0522, loss_rpn_bbox: 0.0338, s0.loss_cls: 0.2714, s0.acc: 91.5859, s0.loss_bbox: 0.1440, s0.loss_mask: 0.2952, s1.loss_cls: 0.1263, s1.acc: 92.1615, s1.loss_bbox: 0.1291, s1.loss_mask: 0.1336, s2.loss_cls: 0.0605, s2.acc: 92.4259, s2.loss_bbox: 0.0714, s2.loss_mask: 0.0605, loss: 1.3779, grad_norm: 4.6311\n",
      "2021-05-16 11:54:55,523 - mmdet - INFO - Epoch [5][200/328]\tlr: 1.000e-04, eta: 13:53:17, time: 3.894, data_time: 0.046, memory: 19888, loss_rpn_cls: 0.0550, loss_rpn_bbox: 0.0350, s0.loss_cls: 0.2775, s0.acc: 91.4121, s0.loss_bbox: 0.1401, s0.loss_mask: 0.2773, s1.loss_cls: 0.1312, s1.acc: 91.8393, s1.loss_bbox: 0.1267, s1.loss_mask: 0.1228, s2.loss_cls: 0.0627, s2.acc: 91.9958, s2.loss_bbox: 0.0721, s2.loss_mask: 0.0558, loss: 1.3563, grad_norm: 4.4497\n",
      "2021-05-16 11:58:09,855 - mmdet - INFO - Epoch [5][250/328]\tlr: 1.000e-04, eta: 13:54:40, time: 3.887, data_time: 0.043, memory: 19888, loss_rpn_cls: 0.0532, loss_rpn_bbox: 0.0327, s0.loss_cls: 0.2700, s0.acc: 91.3794, s0.loss_bbox: 0.1366, s0.loss_mask: 0.2771, s1.loss_cls: 0.1295, s1.acc: 91.7042, s1.loss_bbox: 0.1227, s1.loss_mask: 0.1229, s2.loss_cls: 0.0615, s2.acc: 91.9990, s2.loss_bbox: 0.0688, s2.loss_mask: 0.0548, loss: 1.3298, grad_norm: 4.6433\n",
      "2021-05-16 12:01:21,234 - mmdet - INFO - Epoch [5][300/328]\tlr: 1.000e-04, eta: 13:55:19, time: 3.828, data_time: 0.051, memory: 19888, loss_rpn_cls: 0.0571, loss_rpn_bbox: 0.0356, s0.loss_cls: 0.2679, s0.acc: 91.5957, s0.loss_bbox: 0.1356, s0.loss_mask: 0.2789, s1.loss_cls: 0.1266, s1.acc: 91.9425, s1.loss_bbox: 0.1193, s1.loss_mask: 0.1232, s2.loss_cls: 0.0607, s2.acc: 92.2781, s2.loss_bbox: 0.0663, s2.loss_mask: 0.0556, loss: 1.3268, grad_norm: 4.6015\n",
      "2021-05-16 12:03:10,194 - mmdet - INFO - Saving checkpoint at 5 epochs\n"
     ]
    },
    {
     "name": "stdout",
     "output_type": "stream",
     "text": [
      "[>>>>>>>>>>>>>>>>>>>>>>>>>>>>>] 655/655, 3.5 task/s, elapsed: 189s, ETA:     0s"
     ]
    },
    {
     "name": "stderr",
     "output_type": "stream",
     "text": [
      "2021-05-16 12:06:28,217 - mmdet - INFO - Evaluating bbox...\n"
     ]
    },
    {
     "name": "stdout",
     "output_type": "stream",
     "text": [
      "Loading and preparing results...\n",
      "DONE (t=0.83s)\n",
      "creating index...\n",
      "index created!\n",
      "Running per image evaluation...\n",
      "Evaluate annotation type *bbox*\n",
      "DONE (t=7.63s).\n",
      "Accumulating evaluation results...\n",
      "DONE (t=1.79s).\n",
      "Average Precision  (AP) @[ IoU=0.50:0.95 | area=   all | maxDets=100 ] = 0.203\n",
      "Average Precision  (AP) @[ IoU=0.50      | area=   all | maxDets=1000 ] = 0.329\n",
      "Average Precision  (AP) @[ IoU=0.75      | area=   all | maxDets=1000 ] = 0.212\n",
      "Average Precision  (AP) @[ IoU=0.50:0.95 | area= small | maxDets=1000 ] = 0.030\n",
      "Average Precision  (AP) @[ IoU=0.50:0.95 | area=medium | maxDets=1000 ] = 0.190\n",
      "Average Precision  (AP) @[ IoU=0.50:0.95 | area= large | maxDets=1000 ] = 0.364\n",
      "Average Recall     (AR) @[ IoU=0.50:0.95 | area=   all | maxDets=100 ] = 0.389\n",
      "Average Recall     (AR) @[ IoU=0.50:0.95 | area=   all | maxDets=300 ] = 0.389\n",
      "Average Recall     (AR) @[ IoU=0.50:0.95 | area=   all | maxDets=1000 ] = 0.389\n",
      "Average Recall     (AR) @[ IoU=0.50:0.95 | area= small | maxDets=1000 ] = 0.124\n",
      "Average Recall     (AR) @[ IoU=0.50:0.95 | area=medium | maxDets=1000 ] = 0.364\n",
      "Average Recall     (AR) @[ IoU=0.50:0.95 | area= large | maxDets=1000 ] = 0.654\n"
     ]
    },
    {
     "name": "stderr",
     "output_type": "stream",
     "text": [
      "2021-05-16 12:06:49,551 - mmdet - INFO - Now best checkpoint is epoch_5.pth.Best bbox_mAP_50 is 0.3290\n",
      "2021-05-16 12:06:49,597 - mmdet - INFO - Epoch(val) [5][328]\tbbox_mAP: 0.2030, bbox_mAP_50: 0.3290, bbox_mAP_75: 0.2120, bbox_mAP_s: 0.0300, bbox_mAP_m: 0.1900, bbox_mAP_l: 0.3640, bbox_mAP_copypaste: 0.203 0.329 0.212 0.030 0.190 0.364\n",
      "2021-05-16 12:10:06,339 - mmdet - INFO - Epoch [6][50/328]\tlr: 1.000e-04, eta: 13:41:06, time: 3.934, data_time: 0.097, memory: 19888, loss_rpn_cls: 0.0423, loss_rpn_bbox: 0.0326, s0.loss_cls: 0.2367, s0.acc: 92.5015, s0.loss_bbox: 0.1271, s0.loss_mask: 0.2575, s1.loss_cls: 0.1099, s1.acc: 93.0219, s1.loss_bbox: 0.1124, s1.loss_mask: 0.1131, s2.loss_cls: 0.0523, s2.acc: 93.3460, s2.loss_bbox: 0.0639, s2.loss_mask: 0.0501, loss: 1.1980, grad_norm: 4.3022\n",
      "2021-05-16 12:13:24,337 - mmdet - INFO - Epoch [6][100/328]\tlr: 1.000e-04, eta: 13:42:36, time: 3.960, data_time: 0.050, memory: 19888, loss_rpn_cls: 0.0460, loss_rpn_bbox: 0.0339, s0.loss_cls: 0.2605, s0.acc: 91.6572, s0.loss_bbox: 0.1394, s0.loss_mask: 0.2667, s1.loss_cls: 0.1183, s1.acc: 92.4274, s1.loss_bbox: 0.1234, s1.loss_mask: 0.1176, s2.loss_cls: 0.0570, s2.acc: 92.6408, s2.loss_bbox: 0.0716, s2.loss_mask: 0.0530, loss: 1.2876, grad_norm: 4.3799\n",
      "2021-05-16 12:16:40,180 - mmdet - INFO - Epoch [6][150/328]\tlr: 1.000e-04, eta: 13:43:32, time: 3.917, data_time: 0.044, memory: 20103, loss_rpn_cls: 0.0453, loss_rpn_bbox: 0.0347, s0.loss_cls: 0.2513, s0.acc: 91.8901, s0.loss_bbox: 0.1271, s0.loss_mask: 0.2535, s1.loss_cls: 0.1185, s1.acc: 92.3488, s1.loss_bbox: 0.1166, s1.loss_mask: 0.1102, s2.loss_cls: 0.0571, s2.acc: 92.5944, s2.loss_bbox: 0.0700, s2.loss_mask: 0.0499, loss: 1.2340, grad_norm: 4.3527\n",
      "2021-05-16 12:19:54,579 - mmdet - INFO - Epoch [6][200/328]\tlr: 1.000e-04, eta: 13:44:03, time: 3.888, data_time: 0.048, memory: 20103, loss_rpn_cls: 0.0463, loss_rpn_bbox: 0.0307, s0.loss_cls: 0.2448, s0.acc: 92.2671, s0.loss_bbox: 0.1237, s0.loss_mask: 0.2690, s1.loss_cls: 0.1139, s1.acc: 92.7492, s1.loss_bbox: 0.1134, s1.loss_mask: 0.1209, s2.loss_cls: 0.0548, s2.acc: 93.0077, s2.loss_bbox: 0.0675, s2.loss_mask: 0.0549, loss: 1.2398, grad_norm: 4.8718\n",
      "2021-05-16 12:23:08,350 - mmdet - INFO - Epoch [6][250/328]\tlr: 1.000e-04, eta: 13:44:17, time: 3.875, data_time: 0.042, memory: 20103, loss_rpn_cls: 0.0455, loss_rpn_bbox: 0.0323, s0.loss_cls: 0.2555, s0.acc: 92.0225, s0.loss_bbox: 0.1255, s0.loss_mask: 0.2738, s1.loss_cls: 0.1187, s1.acc: 92.4634, s1.loss_bbox: 0.1112, s1.loss_mask: 0.1211, s2.loss_cls: 0.0568, s2.acc: 92.6134, s2.loss_bbox: 0.0664, s2.loss_mask: 0.0546, loss: 1.2615, grad_norm: 4.4723\n",
      "2021-05-16 12:26:24,439 - mmdet - INFO - Epoch [6][300/328]\tlr: 1.000e-04, eta: 13:44:38, time: 3.922, data_time: 0.047, memory: 20103, loss_rpn_cls: 0.0505, loss_rpn_bbox: 0.0361, s0.loss_cls: 0.2631, s0.acc: 91.7734, s0.loss_bbox: 0.1306, s0.loss_mask: 0.2609, s1.loss_cls: 0.1240, s1.acc: 92.2112, s1.loss_bbox: 0.1172, s1.loss_mask: 0.1146, s2.loss_cls: 0.0594, s2.acc: 92.4368, s2.loss_bbox: 0.0682, s2.loss_mask: 0.0513, loss: 1.2758, grad_norm: 4.5039\n",
      "2021-05-16 12:28:14,404 - mmdet - INFO - Saving checkpoint at 6 epochs\n"
     ]
    },
    {
     "name": "stdout",
     "output_type": "stream",
     "text": [
      "[>>>>>>>>>>>>>>>>>>>>>>>>>>>>>] 655/655, 3.6 task/s, elapsed: 183s, ETA:     0s"
     ]
    },
    {
     "name": "stderr",
     "output_type": "stream",
     "text": [
      "2021-05-16 12:31:26,305 - mmdet - INFO - Evaluating bbox...\n"
     ]
    },
    {
     "name": "stdout",
     "output_type": "stream",
     "text": [
      "Loading and preparing results...\n",
      "DONE (t=0.77s)\n",
      "creating index...\n",
      "index created!\n",
      "Running per image evaluation...\n",
      "Evaluate annotation type *bbox*\n",
      "DONE (t=8.01s).\n",
      "Accumulating evaluation results...\n",
      "DONE (t=1.67s).\n",
      "Average Precision  (AP) @[ IoU=0.50:0.95 | area=   all | maxDets=100 ] = 0.216\n",
      "Average Precision  (AP) @[ IoU=0.50      | area=   all | maxDets=1000 ] = 0.358\n",
      "Average Precision  (AP) @[ IoU=0.75      | area=   all | maxDets=1000 ] = 0.213\n",
      "Average Precision  (AP) @[ IoU=0.50:0.95 | area= small | maxDets=1000 ] = 0.040\n",
      "Average Precision  (AP) @[ IoU=0.50:0.95 | area=medium | maxDets=1000 ] = 0.201\n",
      "Average Precision  (AP) @[ IoU=0.50:0.95 | area= large | maxDets=1000 ] = 0.367\n",
      "Average Recall     (AR) @[ IoU=0.50:0.95 | area=   all | maxDets=100 ] = 0.372\n",
      "Average Recall     (AR) @[ IoU=0.50:0.95 | area=   all | maxDets=300 ] = 0.372\n",
      "Average Recall     (AR) @[ IoU=0.50:0.95 | area=   all | maxDets=1000 ] = 0.372\n",
      "Average Recall     (AR) @[ IoU=0.50:0.95 | area= small | maxDets=1000 ] = 0.120\n",
      "Average Recall     (AR) @[ IoU=0.50:0.95 | area=medium | maxDets=1000 ] = 0.343\n",
      "Average Recall     (AR) @[ IoU=0.50:0.95 | area= large | maxDets=1000 ] = 0.627\n"
     ]
    },
    {
     "name": "stderr",
     "output_type": "stream",
     "text": [
      "2021-05-16 12:31:47,633 - mmdet - INFO - Now best checkpoint is epoch_6.pth.Best bbox_mAP_50 is 0.3580\n",
      "2021-05-16 12:31:47,676 - mmdet - INFO - Epoch(val) [6][328]\tbbox_mAP: 0.2160, bbox_mAP_50: 0.3580, bbox_mAP_75: 0.2130, bbox_mAP_s: 0.0400, bbox_mAP_m: 0.2010, bbox_mAP_l: 0.3670, bbox_mAP_copypaste: 0.216 0.358 0.213 0.040 0.201 0.367\n",
      "2021-05-16 12:35:10,019 - mmdet - INFO - Epoch [7][50/328]\tlr: 1.000e-04, eta: 13:32:31, time: 4.046, data_time: 0.099, memory: 20103, loss_rpn_cls: 0.0365, loss_rpn_bbox: 0.0322, s0.loss_cls: 0.2332, s0.acc: 92.5249, s0.loss_bbox: 0.1212, s0.loss_mask: 0.2460, s1.loss_cls: 0.1075, s1.acc: 93.1915, s1.loss_bbox: 0.1097, s1.loss_mask: 0.1087, s2.loss_cls: 0.0520, s2.acc: 93.3942, s2.loss_bbox: 0.0662, s2.loss_mask: 0.0494, loss: 1.1625, grad_norm: 4.3335\n",
      "2021-05-16 12:38:28,391 - mmdet - INFO - Epoch [7][100/328]\tlr: 1.000e-04, eta: 13:33:02, time: 3.967, data_time: 0.050, memory: 20103, loss_rpn_cls: 0.0441, loss_rpn_bbox: 0.0356, s0.loss_cls: 0.2358, s0.acc: 92.3511, s0.loss_bbox: 0.1288, s0.loss_mask: 0.2610, s1.loss_cls: 0.1105, s1.acc: 92.9380, s1.loss_bbox: 0.1172, s1.loss_mask: 0.1152, s2.loss_cls: 0.0540, s2.acc: 93.0612, s2.loss_bbox: 0.0678, s2.loss_mask: 0.0522, loss: 1.2222, grad_norm: 4.4486\n",
      "2021-05-16 12:41:41,764 - mmdet - INFO - Epoch [7][150/328]\tlr: 1.000e-04, eta: 13:32:48, time: 3.867, data_time: 0.043, memory: 20103, loss_rpn_cls: 0.0363, loss_rpn_bbox: 0.0287, s0.loss_cls: 0.2145, s0.acc: 93.1665, s0.loss_bbox: 0.1111, s0.loss_mask: 0.2388, s1.loss_cls: 0.1002, s1.acc: 93.6548, s1.loss_bbox: 0.1033, s1.loss_mask: 0.1043, s2.loss_cls: 0.0488, s2.acc: 93.7510, s2.loss_bbox: 0.0620, s2.loss_mask: 0.0469, loss: 1.0949, grad_norm: 4.2742\n",
      "2021-05-16 12:44:58,618 - mmdet - INFO - Epoch [7][200/328]\tlr: 1.000e-04, eta: 13:32:49, time: 3.937, data_time: 0.049, memory: 20363, loss_rpn_cls: 0.0435, loss_rpn_bbox: 0.0320, s0.loss_cls: 0.2355, s0.acc: 92.3984, s0.loss_bbox: 0.1207, s0.loss_mask: 0.2491, s1.loss_cls: 0.1082, s1.acc: 93.1247, s1.loss_bbox: 0.1080, s1.loss_mask: 0.1096, s2.loss_cls: 0.0528, s2.acc: 93.1367, s2.loss_bbox: 0.0665, s2.loss_mask: 0.0496, loss: 1.1755, grad_norm: 4.5885\n",
      "2021-05-16 12:48:18,138 - mmdet - INFO - Epoch [7][250/328]\tlr: 1.000e-04, eta: 13:32:58, time: 3.990, data_time: 0.051, memory: 20363, loss_rpn_cls: 0.0434, loss_rpn_bbox: 0.0318, s0.loss_cls: 0.2387, s0.acc: 92.2139, s0.loss_bbox: 0.1243, s0.loss_mask: 0.2506, s1.loss_cls: 0.1104, s1.acc: 92.9065, s1.loss_bbox: 0.1149, s1.loss_mask: 0.1099, s2.loss_cls: 0.0538, s2.acc: 92.9641, s2.loss_bbox: 0.0677, s2.loss_mask: 0.0498, loss: 1.1952, grad_norm: 4.4460\n",
      "2021-05-16 12:51:33,065 - mmdet - INFO - Epoch [7][300/328]\tlr: 1.000e-04, eta: 13:32:29, time: 3.899, data_time: 0.047, memory: 20363, loss_rpn_cls: 0.0402, loss_rpn_bbox: 0.0304, s0.loss_cls: 0.2214, s0.acc: 92.8770, s0.loss_bbox: 0.1138, s0.loss_mask: 0.2413, s1.loss_cls: 0.1051, s1.acc: 93.3159, s1.loss_bbox: 0.1056, s1.loss_mask: 0.1053, s2.loss_cls: 0.0508, s2.acc: 93.5625, s2.loss_bbox: 0.0623, s2.loss_mask: 0.0478, loss: 1.1241, grad_norm: 4.6529\n",
      "2021-05-16 12:53:20,368 - mmdet - INFO - Saving checkpoint at 7 epochs\n"
     ]
    },
    {
     "name": "stdout",
     "output_type": "stream",
     "text": [
      "[>>>>>>>>>>>>>>>>>>>>>>>>>>>>>] 655/655, 3.4 task/s, elapsed: 193s, ETA:     0s"
     ]
    },
    {
     "name": "stderr",
     "output_type": "stream",
     "text": [
      "2021-05-16 12:56:42,217 - mmdet - INFO - Evaluating bbox...\n"
     ]
    },
    {
     "name": "stdout",
     "output_type": "stream",
     "text": [
      "Loading and preparing results...\n",
      "DONE (t=0.82s)\n",
      "creating index...\n",
      "index created!\n",
      "Running per image evaluation...\n",
      "Evaluate annotation type *bbox*\n",
      "DONE (t=8.11s).\n",
      "Accumulating evaluation results...\n"
     ]
    },
    {
     "name": "stderr",
     "output_type": "stream",
     "text": [
      "2021-05-16 12:56:53,066 - mmdet - INFO - Epoch(val) [7][328]\tbbox_mAP: 0.2040, bbox_mAP_50: 0.3210, bbox_mAP_75: 0.2040, bbox_mAP_s: 0.0390, bbox_mAP_m: 0.1750, bbox_mAP_l: 0.3860, bbox_mAP_copypaste: 0.204 0.321 0.204 0.039 0.175 0.386\n"
     ]
    },
    {
     "name": "stdout",
     "output_type": "stream",
     "text": [
      "DONE (t=1.71s).\n",
      "Average Precision  (AP) @[ IoU=0.50:0.95 | area=   all | maxDets=100 ] = 0.204\n",
      "Average Precision  (AP) @[ IoU=0.50      | area=   all | maxDets=1000 ] = 0.321\n",
      "Average Precision  (AP) @[ IoU=0.75      | area=   all | maxDets=1000 ] = 0.204\n",
      "Average Precision  (AP) @[ IoU=0.50:0.95 | area= small | maxDets=1000 ] = 0.039\n",
      "Average Precision  (AP) @[ IoU=0.50:0.95 | area=medium | maxDets=1000 ] = 0.175\n",
      "Average Precision  (AP) @[ IoU=0.50:0.95 | area= large | maxDets=1000 ] = 0.386\n",
      "Average Recall     (AR) @[ IoU=0.50:0.95 | area=   all | maxDets=100 ] = 0.362\n",
      "Average Recall     (AR) @[ IoU=0.50:0.95 | area=   all | maxDets=300 ] = 0.362\n",
      "Average Recall     (AR) @[ IoU=0.50:0.95 | area=   all | maxDets=1000 ] = 0.362\n",
      "Average Recall     (AR) @[ IoU=0.50:0.95 | area= small | maxDets=1000 ] = 0.125\n",
      "Average Recall     (AR) @[ IoU=0.50:0.95 | area=medium | maxDets=1000 ] = 0.319\n",
      "Average Recall     (AR) @[ IoU=0.50:0.95 | area= large | maxDets=1000 ] = 0.623\n"
     ]
    },
    {
     "name": "stderr",
     "output_type": "stream",
     "text": [
      "2021-05-16 13:00:12,919 - mmdet - INFO - Epoch [8][50/328]\tlr: 1.000e-04, eta: 13:21:05, time: 3.997, data_time: 0.099, memory: 20363, loss_rpn_cls: 0.0336, loss_rpn_bbox: 0.0277, s0.loss_cls: 0.2015, s0.acc: 93.3271, s0.loss_bbox: 0.1066, s0.loss_mask: 0.2340, s1.loss_cls: 0.0915, s1.acc: 94.0107, s1.loss_bbox: 0.1002, s1.loss_mask: 0.1033, s2.loss_cls: 0.0450, s2.acc: 94.0753, s2.loss_bbox: 0.0604, s2.loss_mask: 0.0462, loss: 1.0500, grad_norm: 4.2750\n",
      "2021-05-16 13:03:29,668 - mmdet - INFO - Epoch [8][100/328]\tlr: 1.000e-04, eta: 13:20:44, time: 3.935, data_time: 0.047, memory: 20363, loss_rpn_cls: 0.0357, loss_rpn_bbox: 0.0294, s0.loss_cls: 0.2120, s0.acc: 93.0420, s0.loss_bbox: 0.1138, s0.loss_mask: 0.2426, s1.loss_cls: 0.0954, s1.acc: 93.8643, s1.loss_bbox: 0.1058, s1.loss_mask: 0.1058, s2.loss_cls: 0.0464, s2.acc: 94.0716, s2.loss_bbox: 0.0658, s2.loss_mask: 0.0476, loss: 1.1003, grad_norm: 4.6530\n",
      "2021-05-16 13:06:47,647 - mmdet - INFO - Epoch [8][150/328]\tlr: 1.000e-04, eta: 13:20:24, time: 3.960, data_time: 0.052, memory: 20363, loss_rpn_cls: 0.0358, loss_rpn_bbox: 0.0326, s0.loss_cls: 0.2108, s0.acc: 93.2129, s0.loss_bbox: 0.1092, s0.loss_mask: 0.2312, s1.loss_cls: 0.0929, s1.acc: 94.0317, s1.loss_bbox: 0.0994, s1.loss_mask: 0.1003, s2.loss_cls: 0.0445, s2.acc: 94.1831, s2.loss_bbox: 0.0604, s2.loss_mask: 0.0452, loss: 1.0622, grad_norm: 4.0837\n",
      "2021-05-16 13:10:01,674 - mmdet - INFO - Epoch [8][200/328]\tlr: 1.000e-04, eta: 13:19:34, time: 3.881, data_time: 0.042, memory: 20363, loss_rpn_cls: 0.0321, loss_rpn_bbox: 0.0257, s0.loss_cls: 0.1981, s0.acc: 93.5410, s0.loss_bbox: 0.1051, s0.loss_mask: 0.2332, s1.loss_cls: 0.0888, s1.acc: 94.3729, s1.loss_bbox: 0.0954, s1.loss_mask: 0.1022, s2.loss_cls: 0.0428, s2.acc: 94.5523, s2.loss_bbox: 0.0580, s2.loss_mask: 0.0465, loss: 1.0278, grad_norm: 4.2764\n",
      "2021-05-16 13:13:20,962 - mmdet - INFO - Epoch [8][250/328]\tlr: 1.000e-04, eta: 13:19:07, time: 3.986, data_time: 0.054, memory: 20363, loss_rpn_cls: 0.0396, loss_rpn_bbox: 0.0332, s0.loss_cls: 0.2188, s0.acc: 92.7827, s0.loss_bbox: 0.1198, s0.loss_mask: 0.2390, s1.loss_cls: 0.0990, s1.acc: 93.4771, s1.loss_bbox: 0.1076, s1.loss_mask: 0.1050, s2.loss_cls: 0.0485, s2.acc: 93.6651, s2.loss_bbox: 0.0649, s2.loss_mask: 0.0480, loss: 1.1234, grad_norm: 4.4308\n",
      "2021-05-16 13:16:37,577 - mmdet - INFO - Epoch [8][300/328]\tlr: 1.000e-04, eta: 13:18:19, time: 3.932, data_time: 0.052, memory: 20363, loss_rpn_cls: 0.0368, loss_rpn_bbox: 0.0294, s0.loss_cls: 0.2143, s0.acc: 92.9893, s0.loss_bbox: 0.1119, s0.loss_mask: 0.2350, s1.loss_cls: 0.0963, s1.acc: 93.6308, s1.loss_bbox: 0.1031, s1.loss_mask: 0.1023, s2.loss_cls: 0.0466, s2.acc: 93.8261, s2.loss_bbox: 0.0636, s2.loss_mask: 0.0463, loss: 1.0858, grad_norm: 4.2039\n",
      "2021-05-16 13:18:26,068 - mmdet - INFO - Saving checkpoint at 8 epochs\n"
     ]
    },
    {
     "name": "stdout",
     "output_type": "stream",
     "text": [
      "[>>>>>>>>>>>>>>>>>>>>>>>>>>>>>] 655/655, 3.6 task/s, elapsed: 184s, ETA:     0s"
     ]
    },
    {
     "name": "stderr",
     "output_type": "stream",
     "text": [
      "2021-05-16 13:21:38,238 - mmdet - INFO - Evaluating bbox...\n"
     ]
    },
    {
     "name": "stdout",
     "output_type": "stream",
     "text": [
      "Loading and preparing results...\n",
      "DONE (t=0.73s)\n",
      "creating index...\n",
      "index created!\n",
      "Running per image evaluation...\n",
      "Evaluate annotation type *bbox*\n",
      "DONE (t=7.55s).\n",
      "Accumulating evaluation results...\n",
      "DONE (t=1.50s).\n",
      "Average Precision  (AP) @[ IoU=0.50:0.95 | area=   all | maxDets=100 ] = 0.225\n",
      "Average Precision  (AP) @[ IoU=0.50      | area=   all | maxDets=1000 ] = 0.372\n",
      "Average Precision  (AP) @[ IoU=0.75      | area=   all | maxDets=1000 ] = 0.216\n",
      "Average Precision  (AP) @[ IoU=0.50:0.95 | area= small | maxDets=1000 ] = 0.046\n",
      "Average Precision  (AP) @[ IoU=0.50:0.95 | area=medium | maxDets=1000 ] = 0.193\n",
      "Average Precision  (AP) @[ IoU=0.50:0.95 | area= large | maxDets=1000 ] = 0.421\n",
      "Average Recall     (AR) @[ IoU=0.50:0.95 | area=   all | maxDets=100 ] = 0.404\n",
      "Average Recall     (AR) @[ IoU=0.50:0.95 | area=   all | maxDets=300 ] = 0.404\n",
      "Average Recall     (AR) @[ IoU=0.50:0.95 | area=   all | maxDets=1000 ] = 0.404\n",
      "Average Recall     (AR) @[ IoU=0.50:0.95 | area= small | maxDets=1000 ] = 0.141\n",
      "Average Recall     (AR) @[ IoU=0.50:0.95 | area=medium | maxDets=1000 ] = 0.367\n",
      "Average Recall     (AR) @[ IoU=0.50:0.95 | area= large | maxDets=1000 ] = 0.642\n"
     ]
    },
    {
     "name": "stderr",
     "output_type": "stream",
     "text": [
      "2021-05-16 13:21:58,838 - mmdet - INFO - Now best checkpoint is epoch_8.pth.Best bbox_mAP_50 is 0.3720\n",
      "2021-05-16 13:21:58,879 - mmdet - INFO - Epoch(val) [8][328]\tbbox_mAP: 0.2250, bbox_mAP_50: 0.3720, bbox_mAP_75: 0.2160, bbox_mAP_s: 0.0460, bbox_mAP_m: 0.1930, bbox_mAP_l: 0.4210, bbox_mAP_copypaste: 0.225 0.372 0.216 0.046 0.193 0.421\n",
      "2021-05-16 13:25:15,982 - mmdet - INFO - Epoch [9][50/328]\tlr: 1.000e-04, eta: 13:07:31, time: 3.942, data_time: 0.096, memory: 20363, loss_rpn_cls: 0.0267, loss_rpn_bbox: 0.0267, s0.loss_cls: 0.1670, s0.acc: 94.3086, s0.loss_bbox: 0.0931, s0.loss_mask: 0.2266, s1.loss_cls: 0.0734, s1.acc: 95.1171, s1.loss_bbox: 0.0889, s1.loss_mask: 0.1014, s2.loss_cls: 0.0357, s2.acc: 95.1962, s2.loss_bbox: 0.0557, s2.loss_mask: 0.0471, loss: 0.9421, grad_norm: 4.1153\n",
      "2021-05-16 13:28:33,657 - mmdet - INFO - Epoch [9][100/328]\tlr: 1.000e-04, eta: 13:06:47, time: 3.953, data_time: 0.044, memory: 20363, loss_rpn_cls: 0.0310, loss_rpn_bbox: 0.0292, s0.loss_cls: 0.1899, s0.acc: 93.7349, s0.loss_bbox: 0.1029, s0.loss_mask: 0.2316, s1.loss_cls: 0.0837, s1.acc: 94.4414, s1.loss_bbox: 0.0968, s1.loss_mask: 0.1010, s2.loss_cls: 0.0408, s2.acc: 94.6335, s2.loss_bbox: 0.0600, s2.loss_mask: 0.0459, loss: 1.0127, grad_norm: 4.1213\n",
      "2021-05-16 13:31:48,890 - mmdet - INFO - Epoch [9][150/328]\tlr: 1.000e-04, eta: 13:05:46, time: 3.905, data_time: 0.045, memory: 20363, loss_rpn_cls: 0.0304, loss_rpn_bbox: 0.0268, s0.loss_cls: 0.1799, s0.acc: 94.0928, s0.loss_bbox: 0.0979, s0.loss_mask: 0.2185, s1.loss_cls: 0.0792, s1.acc: 94.8110, s1.loss_bbox: 0.0937, s1.loss_mask: 0.0967, s2.loss_cls: 0.0387, s2.acc: 94.8546, s2.loss_bbox: 0.0590, s2.loss_mask: 0.0439, loss: 0.9649, grad_norm: 4.0584\n",
      "2021-05-16 13:35:05,195 - mmdet - INFO - Epoch [9][200/328]\tlr: 1.000e-04, eta: 13:04:45, time: 3.926, data_time: 0.044, memory: 20363, loss_rpn_cls: 0.0324, loss_rpn_bbox: 0.0282, s0.loss_cls: 0.1849, s0.acc: 93.7192, s0.loss_bbox: 0.1055, s0.loss_mask: 0.2270, s1.loss_cls: 0.0820, s1.acc: 94.5299, s1.loss_bbox: 0.0982, s1.loss_mask: 0.1001, s2.loss_cls: 0.0396, s2.acc: 94.7483, s2.loss_bbox: 0.0606, s2.loss_mask: 0.0457, loss: 1.0041, grad_norm: 4.3447\n",
      "2021-05-16 13:38:23,259 - mmdet - INFO - Epoch [9][250/328]\tlr: 1.000e-04, eta: 13:03:47, time: 3.961, data_time: 0.054, memory: 20363, loss_rpn_cls: 0.0332, loss_rpn_bbox: 0.0305, s0.loss_cls: 0.1924, s0.acc: 93.4585, s0.loss_bbox: 0.1071, s0.loss_mask: 0.2341, s1.loss_cls: 0.0877, s1.acc: 94.0879, s1.loss_bbox: 0.0979, s1.loss_mask: 0.1027, s2.loss_cls: 0.0430, s2.acc: 94.1280, s2.loss_bbox: 0.0589, s2.loss_mask: 0.0470, loss: 1.0345, grad_norm: 4.2795\n",
      "2021-05-16 13:41:38,688 - mmdet - INFO - Epoch [9][300/328]\tlr: 1.000e-04, eta: 13:02:33, time: 3.909, data_time: 0.045, memory: 20363, loss_rpn_cls: 0.0304, loss_rpn_bbox: 0.0272, s0.loss_cls: 0.1919, s0.acc: 93.7378, s0.loss_bbox: 0.1030, s0.loss_mask: 0.2328, s1.loss_cls: 0.0863, s1.acc: 94.3728, s1.loss_bbox: 0.0968, s1.loss_mask: 0.1036, s2.loss_cls: 0.0425, s2.acc: 94.3494, s2.loss_bbox: 0.0603, s2.loss_mask: 0.0474, loss: 1.0221, grad_norm: 4.2932\n",
      "2021-05-16 13:43:28,711 - mmdet - INFO - Saving checkpoint at 9 epochs\n"
     ]
    },
    {
     "name": "stdout",
     "output_type": "stream",
     "text": [
      "[>>>>>>>>>>>>>>>>>>>>>>>>>>>>>] 655/655, 3.5 task/s, elapsed: 186s, ETA:     0s"
     ]
    },
    {
     "name": "stderr",
     "output_type": "stream",
     "text": [
      "2021-05-16 13:46:42,275 - mmdet - INFO - Evaluating bbox...\n"
     ]
    },
    {
     "name": "stdout",
     "output_type": "stream",
     "text": [
      "Loading and preparing results...\n",
      "DONE (t=1.30s)\n",
      "creating index...\n",
      "index created!\n",
      "Running per image evaluation...\n",
      "Evaluate annotation type *bbox*\n",
      "DONE (t=7.58s).\n",
      "Accumulating evaluation results...\n",
      "DONE (t=1.65s).\n",
      "Average Precision  (AP) @[ IoU=0.50:0.95 | area=   all | maxDets=100 ] = 0.239\n",
      "Average Precision  (AP) @[ IoU=0.50      | area=   all | maxDets=1000 ] = 0.376\n",
      "Average Precision  (AP) @[ IoU=0.75      | area=   all | maxDets=1000 ] = 0.241\n",
      "Average Precision  (AP) @[ IoU=0.50:0.95 | area= small | maxDets=1000 ] = 0.033\n",
      "Average Precision  (AP) @[ IoU=0.50:0.95 | area=medium | maxDets=1000 ] = 0.218\n",
      "Average Precision  (AP) @[ IoU=0.50:0.95 | area= large | maxDets=1000 ] = 0.440\n",
      "Average Recall     (AR) @[ IoU=0.50:0.95 | area=   all | maxDets=100 ] = 0.399\n",
      "Average Recall     (AR) @[ IoU=0.50:0.95 | area=   all | maxDets=300 ] = 0.399\n",
      "Average Recall     (AR) @[ IoU=0.50:0.95 | area=   all | maxDets=1000 ] = 0.399\n",
      "Average Recall     (AR) @[ IoU=0.50:0.95 | area= small | maxDets=1000 ] = 0.127\n",
      "Average Recall     (AR) @[ IoU=0.50:0.95 | area=medium | maxDets=1000 ] = 0.361\n",
      "Average Recall     (AR) @[ IoU=0.50:0.95 | area= large | maxDets=1000 ] = 0.674\n"
     ]
    },
    {
     "name": "stderr",
     "output_type": "stream",
     "text": [
      "2021-05-16 13:47:03,951 - mmdet - INFO - Now best checkpoint is epoch_9.pth.Best bbox_mAP_50 is 0.3760\n",
      "2021-05-16 13:47:03,995 - mmdet - INFO - Epoch(val) [9][328]\tbbox_mAP: 0.2390, bbox_mAP_50: 0.3760, bbox_mAP_75: 0.2410, bbox_mAP_s: 0.0330, bbox_mAP_m: 0.2180, bbox_mAP_l: 0.4400, bbox_mAP_copypaste: 0.239 0.376 0.241 0.033 0.218 0.440\n",
      "2021-05-16 13:50:24,283 - mmdet - INFO - Epoch [10][50/328]\tlr: 1.000e-04, eta: 12:52:42, time: 4.005, data_time: 0.097, memory: 20363, loss_rpn_cls: 0.0238, loss_rpn_bbox: 0.0251, s0.loss_cls: 0.1685, s0.acc: 94.2285, s0.loss_bbox: 0.1001, s0.loss_mask: 0.2144, s1.loss_cls: 0.0740, s1.acc: 95.0154, s1.loss_bbox: 0.0941, s1.loss_mask: 0.0947, s2.loss_cls: 0.0362, s2.acc: 95.0814, s2.loss_bbox: 0.0598, s2.loss_mask: 0.0429, loss: 0.9337, grad_norm: 4.1302\n",
      "2021-05-16 13:53:40,123 - mmdet - INFO - Epoch [10][100/328]\tlr: 1.000e-04, eta: 12:51:29, time: 3.917, data_time: 0.045, memory: 20363, loss_rpn_cls: 0.0263, loss_rpn_bbox: 0.0276, s0.loss_cls: 0.1683, s0.acc: 94.3062, s0.loss_bbox: 0.0963, s0.loss_mask: 0.2127, s1.loss_cls: 0.0735, s1.acc: 95.0625, s1.loss_bbox: 0.0887, s1.loss_mask: 0.0921, s2.loss_cls: 0.0360, s2.acc: 95.0930, s2.loss_bbox: 0.0550, s2.loss_mask: 0.0418, loss: 0.9184, grad_norm: 4.2708\n",
      "2021-05-16 13:56:56,016 - mmdet - INFO - Epoch [10][150/328]\tlr: 1.000e-04, eta: 12:50:12, time: 3.918, data_time: 0.049, memory: 20363, loss_rpn_cls: 0.0264, loss_rpn_bbox: 0.0274, s0.loss_cls: 0.1655, s0.acc: 94.4590, s0.loss_bbox: 0.0953, s0.loss_mask: 0.2178, s1.loss_cls: 0.0734, s1.acc: 95.1726, s1.loss_bbox: 0.0902, s1.loss_mask: 0.0962, s2.loss_cls: 0.0355, s2.acc: 95.3533, s2.loss_bbox: 0.0571, s2.loss_mask: 0.0439, loss: 0.9286, grad_norm: 4.1015\n",
      "2021-05-16 14:00:10,228 - mmdet - INFO - Epoch [10][200/328]\tlr: 1.000e-04, eta: 12:48:44, time: 3.884, data_time: 0.046, memory: 20363, loss_rpn_cls: 0.0252, loss_rpn_bbox: 0.0258, s0.loss_cls: 0.1556, s0.acc: 94.7231, s0.loss_bbox: 0.0908, s0.loss_mask: 0.2118, s1.loss_cls: 0.0687, s1.acc: 95.3331, s1.loss_bbox: 0.0841, s1.loss_mask: 0.0927, s2.loss_cls: 0.0336, s2.acc: 95.4400, s2.loss_bbox: 0.0536, s2.loss_mask: 0.0423, loss: 0.8842, grad_norm: 4.0088\n",
      "2021-05-16 14:03:27,326 - mmdet - INFO - Epoch [10][250/328]\tlr: 1.000e-04, eta: 12:47:25, time: 3.942, data_time: 0.046, memory: 20363, loss_rpn_cls: 0.0267, loss_rpn_bbox: 0.0258, s0.loss_cls: 0.1830, s0.acc: 93.8984, s0.loss_bbox: 0.0990, s0.loss_mask: 0.2199, s1.loss_cls: 0.0811, s1.acc: 94.6690, s1.loss_bbox: 0.0916, s1.loss_mask: 0.0952, s2.loss_cls: 0.0393, s2.acc: 94.7386, s2.loss_bbox: 0.0550, s2.loss_mask: 0.0435, loss: 0.9601, grad_norm: 4.1768\n",
      "2021-05-16 14:06:45,309 - mmdet - INFO - Epoch [10][300/328]\tlr: 1.000e-04, eta: 12:46:06, time: 3.960, data_time: 0.048, memory: 20363, loss_rpn_cls: 0.0299, loss_rpn_bbox: 0.0264, s0.loss_cls: 0.1848, s0.acc: 93.8887, s0.loss_bbox: 0.1001, s0.loss_mask: 0.2158, s1.loss_cls: 0.0811, s1.acc: 94.7587, s1.loss_bbox: 0.0941, s1.loss_mask: 0.0950, s2.loss_cls: 0.0399, s2.acc: 94.8275, s2.loss_bbox: 0.0597, s2.loss_mask: 0.0434, loss: 0.9702, grad_norm: 4.4890\n",
      "2021-05-16 14:08:34,438 - mmdet - INFO - Saving checkpoint at 10 epochs\n"
     ]
    },
    {
     "name": "stdout",
     "output_type": "stream",
     "text": [
      "[>>>>>>>>>>>>>>>>>>>>>>>>>>>>>] 655/655, 3.7 task/s, elapsed: 177s, ETA:     0s"
     ]
    },
    {
     "name": "stderr",
     "output_type": "stream",
     "text": [
      "2021-05-16 14:11:39,568 - mmdet - INFO - Evaluating bbox...\n"
     ]
    },
    {
     "name": "stdout",
     "output_type": "stream",
     "text": [
      "Loading and preparing results...\n",
      "DONE (t=0.78s)\n",
      "creating index...\n",
      "index created!\n",
      "Running per image evaluation...\n",
      "Evaluate annotation type *bbox*\n",
      "DONE (t=7.08s).\n",
      "Accumulating evaluation results...\n"
     ]
    },
    {
     "name": "stderr",
     "output_type": "stream",
     "text": [
      "2021-05-16 14:11:49,110 - mmdet - INFO - Epoch(val) [10][328]\tbbox_mAP: 0.2200, bbox_mAP_50: 0.3520, bbox_mAP_75: 0.2230, bbox_mAP_s: 0.0450, bbox_mAP_m: 0.2030, bbox_mAP_l: 0.3780, bbox_mAP_copypaste: 0.220 0.352 0.223 0.045 0.203 0.378\n"
     ]
    },
    {
     "name": "stdout",
     "output_type": "stream",
     "text": [
      "DONE (t=1.51s).\n",
      "Average Precision  (AP) @[ IoU=0.50:0.95 | area=   all | maxDets=100 ] = 0.220\n",
      "Average Precision  (AP) @[ IoU=0.50      | area=   all | maxDets=1000 ] = 0.352\n",
      "Average Precision  (AP) @[ IoU=0.75      | area=   all | maxDets=1000 ] = 0.223\n",
      "Average Precision  (AP) @[ IoU=0.50:0.95 | area= small | maxDets=1000 ] = 0.045\n",
      "Average Precision  (AP) @[ IoU=0.50:0.95 | area=medium | maxDets=1000 ] = 0.203\n",
      "Average Precision  (AP) @[ IoU=0.50:0.95 | area= large | maxDets=1000 ] = 0.378\n",
      "Average Recall     (AR) @[ IoU=0.50:0.95 | area=   all | maxDets=100 ] = 0.394\n",
      "Average Recall     (AR) @[ IoU=0.50:0.95 | area=   all | maxDets=300 ] = 0.394\n",
      "Average Recall     (AR) @[ IoU=0.50:0.95 | area=   all | maxDets=1000 ] = 0.394\n",
      "Average Recall     (AR) @[ IoU=0.50:0.95 | area= small | maxDets=1000 ] = 0.137\n",
      "Average Recall     (AR) @[ IoU=0.50:0.95 | area=medium | maxDets=1000 ] = 0.364\n",
      "Average Recall     (AR) @[ IoU=0.50:0.95 | area= large | maxDets=1000 ] = 0.639\n"
     ]
    },
    {
     "name": "stderr",
     "output_type": "stream",
     "text": [
      "2021-05-16 14:15:05,240 - mmdet - INFO - Epoch [11][50/328]\tlr: 1.000e-05, eta: 12:36:32, time: 3.922, data_time: 0.097, memory: 20363, loss_rpn_cls: 0.0202, loss_rpn_bbox: 0.0222, s0.loss_cls: 0.1440, s0.acc: 95.1470, s0.loss_bbox: 0.0809, s0.loss_mask: 0.2007, s1.loss_cls: 0.0620, s1.acc: 95.8685, s1.loss_bbox: 0.0764, s1.loss_mask: 0.0875, s2.loss_cls: 0.0301, s2.acc: 95.9315, s2.loss_bbox: 0.0506, s2.loss_mask: 0.0403, loss: 0.8150, grad_norm: 3.3203\n",
      "2021-05-16 14:18:23,606 - mmdet - INFO - Epoch [11][100/328]\tlr: 1.000e-05, eta: 12:35:14, time: 3.967, data_time: 0.054, memory: 20363, loss_rpn_cls: 0.0231, loss_rpn_bbox: 0.0251, s0.loss_cls: 0.1485, s0.acc: 94.8833, s0.loss_bbox: 0.0892, s0.loss_mask: 0.2034, s1.loss_cls: 0.0634, s1.acc: 95.7620, s1.loss_bbox: 0.0837, s1.loss_mask: 0.0886, s2.loss_cls: 0.0312, s2.acc: 95.8524, s2.loss_bbox: 0.0545, s2.loss_mask: 0.0404, loss: 0.8511, grad_norm: 3.1302\n",
      "2021-05-16 14:21:39,635 - mmdet - INFO - Epoch [11][150/328]\tlr: 1.000e-05, eta: 12:33:43, time: 3.921, data_time: 0.050, memory: 20363, loss_rpn_cls: 0.0202, loss_rpn_bbox: 0.0234, s0.loss_cls: 0.1368, s0.acc: 95.3184, s0.loss_bbox: 0.0860, s0.loss_mask: 0.2023, s1.loss_cls: 0.0577, s1.acc: 96.1232, s1.loss_bbox: 0.0826, s1.loss_mask: 0.0886, s2.loss_cls: 0.0285, s2.acc: 96.1022, s2.loss_bbox: 0.0524, s2.loss_mask: 0.0404, loss: 0.8189, grad_norm: 3.1119\n",
      "2021-05-16 14:24:54,846 - mmdet - INFO - Epoch [11][200/328]\tlr: 1.000e-05, eta: 12:32:06, time: 3.904, data_time: 0.049, memory: 20363, loss_rpn_cls: 0.0184, loss_rpn_bbox: 0.0231, s0.loss_cls: 0.1356, s0.acc: 95.3301, s0.loss_bbox: 0.0825, s0.loss_mask: 0.1984, s1.loss_cls: 0.0572, s1.acc: 96.1260, s1.loss_bbox: 0.0768, s1.loss_mask: 0.0880, s2.loss_cls: 0.0277, s2.acc: 96.2239, s2.loss_bbox: 0.0501, s2.loss_mask: 0.0404, loss: 0.7981, grad_norm: 3.1917\n",
      "2021-05-16 14:28:11,008 - mmdet - INFO - Epoch [11][250/328]\tlr: 1.000e-05, eta: 12:30:30, time: 3.923, data_time: 0.052, memory: 20363, loss_rpn_cls: 0.0195, loss_rpn_bbox: 0.0225, s0.loss_cls: 0.1322, s0.acc: 95.4907, s0.loss_bbox: 0.0792, s0.loss_mask: 0.1878, s1.loss_cls: 0.0539, s1.acc: 96.4171, s1.loss_bbox: 0.0727, s1.loss_mask: 0.0820, s2.loss_cls: 0.0263, s2.acc: 96.5266, s2.loss_bbox: 0.0467, s2.loss_mask: 0.0370, loss: 0.7599, grad_norm: 2.8850\n",
      "2021-05-16 14:31:28,452 - mmdet - INFO - Epoch [11][300/328]\tlr: 1.000e-05, eta: 12:28:56, time: 3.949, data_time: 0.052, memory: 20363, loss_rpn_cls: 0.0184, loss_rpn_bbox: 0.0235, s0.loss_cls: 0.1350, s0.acc: 95.3364, s0.loss_bbox: 0.0812, s0.loss_mask: 0.1947, s1.loss_cls: 0.0558, s1.acc: 96.1889, s1.loss_bbox: 0.0784, s1.loss_mask: 0.0846, s2.loss_cls: 0.0278, s2.acc: 96.2378, s2.loss_bbox: 0.0506, s2.loss_mask: 0.0386, loss: 0.7886, grad_norm: 3.0395\n",
      "2021-05-16 14:33:17,414 - mmdet - INFO - Saving checkpoint at 11 epochs\n"
     ]
    },
    {
     "name": "stdout",
     "output_type": "stream",
     "text": [
      "[>>>>>>>>>>>>>>>>>>>>>>>>>>>>>] 655/655, 4.0 task/s, elapsed: 165s, ETA:     0s"
     ]
    },
    {
     "name": "stderr",
     "output_type": "stream",
     "text": [
      "2021-05-16 14:36:10,045 - mmdet - INFO - Evaluating bbox...\n"
     ]
    },
    {
     "name": "stdout",
     "output_type": "stream",
     "text": [
      "Loading and preparing results...\n",
      "DONE (t=0.98s)\n",
      "creating index...\n",
      "index created!\n",
      "Running per image evaluation...\n",
      "Evaluate annotation type *bbox*\n",
      "DONE (t=8.11s).\n",
      "Accumulating evaluation results...\n",
      "DONE (t=1.34s).\n",
      "Average Precision  (AP) @[ IoU=0.50:0.95 | area=   all | maxDets=100 ] = 0.258\n",
      "Average Precision  (AP) @[ IoU=0.50      | area=   all | maxDets=1000 ] = 0.394\n",
      "Average Precision  (AP) @[ IoU=0.75      | area=   all | maxDets=1000 ] = 0.266\n",
      "Average Precision  (AP) @[ IoU=0.50:0.95 | area= small | maxDets=1000 ] = 0.047\n",
      "Average Precision  (AP) @[ IoU=0.50:0.95 | area=medium | maxDets=1000 ] = 0.230\n",
      "Average Precision  (AP) @[ IoU=0.50:0.95 | area= large | maxDets=1000 ] = 0.454\n",
      "Average Recall     (AR) @[ IoU=0.50:0.95 | area=   all | maxDets=100 ] = 0.422\n",
      "Average Recall     (AR) @[ IoU=0.50:0.95 | area=   all | maxDets=300 ] = 0.422\n",
      "Average Recall     (AR) @[ IoU=0.50:0.95 | area=   all | maxDets=1000 ] = 0.422\n",
      "Average Recall     (AR) @[ IoU=0.50:0.95 | area= small | maxDets=1000 ] = 0.153\n",
      "Average Recall     (AR) @[ IoU=0.50:0.95 | area=medium | maxDets=1000 ] = 0.390\n",
      "Average Recall     (AR) @[ IoU=0.50:0.95 | area= large | maxDets=1000 ] = 0.652\n"
     ]
    },
    {
     "name": "stderr",
     "output_type": "stream",
     "text": [
      "2021-05-16 14:36:31,558 - mmdet - INFO - Now best checkpoint is epoch_11.pth.Best bbox_mAP_50 is 0.3940\n",
      "2021-05-16 14:36:31,590 - mmdet - INFO - Epoch(val) [11][328]\tbbox_mAP: 0.2580, bbox_mAP_50: 0.3940, bbox_mAP_75: 0.2660, bbox_mAP_s: 0.0470, bbox_mAP_m: 0.2300, bbox_mAP_l: 0.4540, bbox_mAP_copypaste: 0.258 0.394 0.266 0.047 0.230 0.454\n",
      "2021-05-16 14:39:47,943 - mmdet - INFO - Epoch [12][50/328]\tlr: 1.000e-05, eta: 12:19:54, time: 3.927, data_time: 0.096, memory: 20363, loss_rpn_cls: 0.0170, loss_rpn_bbox: 0.0204, s0.loss_cls: 0.1147, s0.acc: 96.0298, s0.loss_bbox: 0.0705, s0.loss_mask: 0.1849, s1.loss_cls: 0.0465, s1.acc: 96.8308, s1.loss_bbox: 0.0658, s1.loss_mask: 0.0805, s2.loss_cls: 0.0225, s2.acc: 96.9780, s2.loss_bbox: 0.0440, s2.loss_mask: 0.0371, loss: 0.7038, grad_norm: 2.6635\n",
      "2021-05-16 14:43:05,223 - mmdet - INFO - Epoch [12][100/328]\tlr: 1.000e-05, eta: 12:18:19, time: 3.946, data_time: 0.055, memory: 20363, loss_rpn_cls: 0.0160, loss_rpn_bbox: 0.0216, s0.loss_cls: 0.1230, s0.acc: 95.7485, s0.loss_bbox: 0.0750, s0.loss_mask: 0.1888, s1.loss_cls: 0.0494, s1.acc: 96.6885, s1.loss_bbox: 0.0695, s1.loss_mask: 0.0829, s2.loss_cls: 0.0243, s2.acc: 96.7128, s2.loss_bbox: 0.0457, s2.loss_mask: 0.0383, loss: 0.7345, grad_norm: 2.6566\n",
      "2021-05-16 14:46:22,843 - mmdet - INFO - Epoch [12][150/328]\tlr: 1.000e-05, eta: 12:16:42, time: 3.952, data_time: 0.052, memory: 20363, loss_rpn_cls: 0.0185, loss_rpn_bbox: 0.0222, s0.loss_cls: 0.1212, s0.acc: 95.7876, s0.loss_bbox: 0.0775, s0.loss_mask: 0.1921, s1.loss_cls: 0.0501, s1.acc: 96.6119, s1.loss_bbox: 0.0745, s1.loss_mask: 0.0844, s2.loss_cls: 0.0250, s2.acc: 96.6180, s2.loss_bbox: 0.0492, s2.loss_mask: 0.0392, loss: 0.7539, grad_norm: 2.8020\n",
      "2021-05-16 14:49:37,030 - mmdet - INFO - Epoch [12][200/328]\tlr: 1.000e-05, eta: 12:14:51, time: 3.884, data_time: 0.049, memory: 20363, loss_rpn_cls: 0.0165, loss_rpn_bbox: 0.0213, s0.loss_cls: 0.1189, s0.acc: 95.9380, s0.loss_bbox: 0.0751, s0.loss_mask: 0.1833, s1.loss_cls: 0.0478, s1.acc: 96.8246, s1.loss_bbox: 0.0684, s1.loss_mask: 0.0799, s2.loss_cls: 0.0235, s2.acc: 96.7775, s2.loss_bbox: 0.0444, s2.loss_mask: 0.0368, loss: 0.7159, grad_norm: 2.7763\n",
      "2021-05-16 14:52:54,311 - mmdet - INFO - Epoch [12][250/328]\tlr: 1.000e-05, eta: 12:13:08, time: 3.946, data_time: 0.048, memory: 20363, loss_rpn_cls: 0.0145, loss_rpn_bbox: 0.0214, s0.loss_cls: 0.1248, s0.acc: 95.6938, s0.loss_bbox: 0.0768, s0.loss_mask: 0.1893, s1.loss_cls: 0.0503, s1.acc: 96.6814, s1.loss_bbox: 0.0720, s1.loss_mask: 0.0821, s2.loss_cls: 0.0243, s2.acc: 96.7905, s2.loss_bbox: 0.0474, s2.loss_mask: 0.0378, loss: 0.7408, grad_norm: 2.8090\n",
      "2021-05-16 14:56:09,883 - mmdet - INFO - Epoch [12][300/328]\tlr: 1.000e-05, eta: 12:11:17, time: 3.911, data_time: 0.046, memory: 20363, loss_rpn_cls: 0.0127, loss_rpn_bbox: 0.0196, s0.loss_cls: 0.1148, s0.acc: 95.9688, s0.loss_bbox: 0.0722, s0.loss_mask: 0.1808, s1.loss_cls: 0.0459, s1.acc: 96.8243, s1.loss_bbox: 0.0679, s1.loss_mask: 0.0790, s2.loss_cls: 0.0223, s2.acc: 96.9286, s2.loss_bbox: 0.0446, s2.loss_mask: 0.0365, loss: 0.6962, grad_norm: 2.6876\n",
      "2021-05-16 14:57:59,112 - mmdet - INFO - Saving checkpoint at 12 epochs\n"
     ]
    },
    {
     "name": "stdout",
     "output_type": "stream",
     "text": [
      "[>>>>>>>>>>>>>>>>>>>>>>>>>>>>>] 655/655, 3.9 task/s, elapsed: 168s, ETA:     0s"
     ]
    },
    {
     "name": "stderr",
     "output_type": "stream",
     "text": [
      "2021-05-16 15:00:54,308 - mmdet - INFO - Evaluating bbox...\n"
     ]
    },
    {
     "name": "stdout",
     "output_type": "stream",
     "text": [
      "Loading and preparing results...\n",
      "DONE (t=0.67s)\n",
      "creating index...\n",
      "index created!\n",
      "Running per image evaluation...\n",
      "Evaluate annotation type *bbox*\n",
      "DONE (t=7.41s).\n",
      "Accumulating evaluation results...\n",
      "DONE (t=1.38s).\n",
      "Average Precision  (AP) @[ IoU=0.50:0.95 | area=   all | maxDets=100 ] = 0.264\n",
      "Average Precision  (AP) @[ IoU=0.50      | area=   all | maxDets=1000 ] = 0.397\n",
      "Average Precision  (AP) @[ IoU=0.75      | area=   all | maxDets=1000 ] = 0.278\n",
      "Average Precision  (AP) @[ IoU=0.50:0.95 | area= small | maxDets=1000 ] = 0.045\n",
      "Average Precision  (AP) @[ IoU=0.50:0.95 | area=medium | maxDets=1000 ] = 0.226\n",
      "Average Precision  (AP) @[ IoU=0.50:0.95 | area= large | maxDets=1000 ] = 0.518\n",
      "Average Recall     (AR) @[ IoU=0.50:0.95 | area=   all | maxDets=100 ] = 0.425\n",
      "Average Recall     (AR) @[ IoU=0.50:0.95 | area=   all | maxDets=300 ] = 0.425\n",
      "Average Recall     (AR) @[ IoU=0.50:0.95 | area=   all | maxDets=1000 ] = 0.425\n",
      "Average Recall     (AR) @[ IoU=0.50:0.95 | area= small | maxDets=1000 ] = 0.156\n",
      "Average Recall     (AR) @[ IoU=0.50:0.95 | area=medium | maxDets=1000 ] = 0.386\n",
      "Average Recall     (AR) @[ IoU=0.50:0.95 | area= large | maxDets=1000 ] = 0.720\n"
     ]
    },
    {
     "name": "stderr",
     "output_type": "stream",
     "text": [
      "2021-05-16 15:01:14,183 - mmdet - INFO - Now best checkpoint is epoch_12.pth.Best bbox_mAP_50 is 0.3970\n",
      "2021-05-16 15:01:14,214 - mmdet - INFO - Epoch(val) [12][328]\tbbox_mAP: 0.2640, bbox_mAP_50: 0.3970, bbox_mAP_75: 0.2780, bbox_mAP_s: 0.0450, bbox_mAP_m: 0.2260, bbox_mAP_l: 0.5180, bbox_mAP_copypaste: 0.264 0.397 0.278 0.045 0.226 0.518\n",
      "2021-05-16 15:04:34,216 - mmdet - INFO - Epoch [13][50/328]\tlr: 1.000e-05, eta: 12:02:53, time: 4.000, data_time: 0.097, memory: 20363, loss_rpn_cls: 0.0160, loss_rpn_bbox: 0.0222, s0.loss_cls: 0.1225, s0.acc: 95.7939, s0.loss_bbox: 0.0771, s0.loss_mask: 0.1906, s1.loss_cls: 0.0497, s1.acc: 96.6367, s1.loss_bbox: 0.0710, s1.loss_mask: 0.0845, s2.loss_cls: 0.0238, s2.acc: 96.7851, s2.loss_bbox: 0.0452, s2.loss_mask: 0.0387, loss: 0.7413, grad_norm: 2.6000\n",
      "2021-05-16 15:07:50,453 - mmdet - INFO - Epoch [13][100/328]\tlr: 1.000e-05, eta: 12:01:04, time: 3.925, data_time: 0.048, memory: 20363, loss_rpn_cls: 0.0146, loss_rpn_bbox: 0.0210, s0.loss_cls: 0.1134, s0.acc: 96.1133, s0.loss_bbox: 0.0720, s0.loss_mask: 0.1842, s1.loss_cls: 0.0454, s1.acc: 96.9331, s1.loss_bbox: 0.0674, s1.loss_mask: 0.0794, s2.loss_cls: 0.0219, s2.acc: 96.9974, s2.loss_bbox: 0.0431, s2.loss_mask: 0.0362, loss: 0.6985, grad_norm: 2.5532\n",
      "2021-05-16 15:11:05,961 - mmdet - INFO - Epoch [13][150/328]\tlr: 1.000e-05, eta: 11:59:11, time: 3.910, data_time: 0.045, memory: 20363, loss_rpn_cls: 0.0125, loss_rpn_bbox: 0.0190, s0.loss_cls: 0.1006, s0.acc: 96.4546, s0.loss_bbox: 0.0634, s0.loss_mask: 0.1799, s1.loss_cls: 0.0393, s1.acc: 97.3028, s1.loss_bbox: 0.0616, s1.loss_mask: 0.0790, s2.loss_cls: 0.0192, s2.acc: 97.4019, s2.loss_bbox: 0.0418, s2.loss_mask: 0.0366, loss: 0.6529, grad_norm: 2.4729\n",
      "2021-05-16 15:14:23,105 - mmdet - INFO - Epoch [13][200/328]\tlr: 1.000e-05, eta: 11:57:21, time: 3.943, data_time: 0.045, memory: 20363, loss_rpn_cls: 0.0133, loss_rpn_bbox: 0.0201, s0.loss_cls: 0.1075, s0.acc: 96.2466, s0.loss_bbox: 0.0723, s0.loss_mask: 0.1844, s1.loss_cls: 0.0430, s1.acc: 96.9867, s1.loss_bbox: 0.0679, s1.loss_mask: 0.0803, s2.loss_cls: 0.0211, s2.acc: 97.0797, s2.loss_bbox: 0.0455, s2.loss_mask: 0.0367, loss: 0.6923, grad_norm: 2.6996\n",
      "2021-05-16 15:17:40,599 - mmdet - INFO - Epoch [13][250/328]\tlr: 1.000e-05, eta: 11:55:30, time: 3.950, data_time: 0.048, memory: 20363, loss_rpn_cls: 0.0133, loss_rpn_bbox: 0.0211, s0.loss_cls: 0.1171, s0.acc: 95.8760, s0.loss_bbox: 0.0765, s0.loss_mask: 0.1896, s1.loss_cls: 0.0472, s1.acc: 96.7498, s1.loss_bbox: 0.0715, s1.loss_mask: 0.0821, s2.loss_cls: 0.0229, s2.acc: 96.8306, s2.loss_bbox: 0.0469, s2.loss_mask: 0.0377, loss: 0.7259, grad_norm: 2.7951\n",
      "2021-05-16 15:20:53,820 - mmdet - INFO - Epoch [13][300/328]\tlr: 1.000e-05, eta: 11:53:24, time: 3.864, data_time: 0.044, memory: 20363, loss_rpn_cls: 0.0125, loss_rpn_bbox: 0.0178, s0.loss_cls: 0.1077, s0.acc: 96.2783, s0.loss_bbox: 0.0656, s0.loss_mask: 0.1763, s1.loss_cls: 0.0416, s1.acc: 97.2359, s1.loss_bbox: 0.0596, s1.loss_mask: 0.0778, s2.loss_cls: 0.0205, s2.acc: 97.2383, s2.loss_bbox: 0.0395, s2.loss_mask: 0.0364, loss: 0.6552, grad_norm: 2.6139\n",
      "2021-05-16 15:22:45,081 - mmdet - INFO - Saving checkpoint at 13 epochs\n"
     ]
    },
    {
     "name": "stdout",
     "output_type": "stream",
     "text": [
      "[>>>>>>>>>>>>>>>>>>>>>>>>>>>>>] 655/655, 4.0 task/s, elapsed: 164s, ETA:     0s"
     ]
    },
    {
     "name": "stderr",
     "output_type": "stream",
     "text": [
      "2021-05-16 15:25:36,195 - mmdet - INFO - Evaluating bbox...\n"
     ]
    },
    {
     "name": "stdout",
     "output_type": "stream",
     "text": [
      "Loading and preparing results...\n",
      "DONE (t=0.70s)\n",
      "creating index...\n",
      "index created!\n",
      "Running per image evaluation...\n",
      "Evaluate annotation type *bbox*\n",
      "DONE (t=7.21s).\n",
      "Accumulating evaluation results...\n",
      "DONE (t=1.31s).\n",
      "Average Precision  (AP) @[ IoU=0.50:0.95 | area=   all | maxDets=100 ] = 0.268\n",
      "Average Precision  (AP) @[ IoU=0.50      | area=   all | maxDets=1000 ] = 0.402\n",
      "Average Precision  (AP) @[ IoU=0.75      | area=   all | maxDets=1000 ] = 0.276\n",
      "Average Precision  (AP) @[ IoU=0.50:0.95 | area= small | maxDets=1000 ] = 0.045\n",
      "Average Precision  (AP) @[ IoU=0.50:0.95 | area=medium | maxDets=1000 ] = 0.230\n",
      "Average Precision  (AP) @[ IoU=0.50:0.95 | area= large | maxDets=1000 ] = 0.530\n",
      "Average Recall     (AR) @[ IoU=0.50:0.95 | area=   all | maxDets=100 ] = 0.422\n",
      "Average Recall     (AR) @[ IoU=0.50:0.95 | area=   all | maxDets=300 ] = 0.422\n",
      "Average Recall     (AR) @[ IoU=0.50:0.95 | area=   all | maxDets=1000 ] = 0.422\n",
      "Average Recall     (AR) @[ IoU=0.50:0.95 | area= small | maxDets=1000 ] = 0.151\n",
      "Average Recall     (AR) @[ IoU=0.50:0.95 | area=medium | maxDets=1000 ] = 0.384\n",
      "Average Recall     (AR) @[ IoU=0.50:0.95 | area= large | maxDets=1000 ] = 0.714\n"
     ]
    },
    {
     "name": "stderr",
     "output_type": "stream",
     "text": [
      "2021-05-16 15:25:56,247 - mmdet - INFO - Now best checkpoint is epoch_13.pth.Best bbox_mAP_50 is 0.4020\n",
      "2021-05-16 15:25:56,277 - mmdet - INFO - Epoch(val) [13][328]\tbbox_mAP: 0.2680, bbox_mAP_50: 0.4020, bbox_mAP_75: 0.2760, bbox_mAP_s: 0.0450, bbox_mAP_m: 0.2300, bbox_mAP_l: 0.5300, bbox_mAP_copypaste: 0.268 0.402 0.276 0.045 0.230 0.530\n",
      "2021-05-16 15:29:15,262 - mmdet - INFO - Epoch [14][50/328]\tlr: 1.000e-05, eta: 11:45:18, time: 3.979, data_time: 0.102, memory: 20363, loss_rpn_cls: 0.0128, loss_rpn_bbox: 0.0210, s0.loss_cls: 0.1061, s0.acc: 96.2456, s0.loss_bbox: 0.0697, s0.loss_mask: 0.1790, s1.loss_cls: 0.0417, s1.acc: 97.1120, s1.loss_bbox: 0.0658, s1.loss_mask: 0.0785, s2.loss_cls: 0.0202, s2.acc: 97.2784, s2.loss_bbox: 0.0429, s2.loss_mask: 0.0360, loss: 0.6737, grad_norm: 2.5706\n",
      "2021-05-16 15:32:30,483 - mmdet - INFO - Epoch [14][100/328]\tlr: 1.000e-05, eta: 11:43:19, time: 3.904, data_time: 0.045, memory: 20363, loss_rpn_cls: 0.0120, loss_rpn_bbox: 0.0195, s0.loss_cls: 0.1005, s0.acc: 96.4443, s0.loss_bbox: 0.0666, s0.loss_mask: 0.1755, s1.loss_cls: 0.0385, s1.acc: 97.4158, s1.loss_bbox: 0.0589, s1.loss_mask: 0.0769, s2.loss_cls: 0.0184, s2.acc: 97.5086, s2.loss_bbox: 0.0386, s2.loss_mask: 0.0352, loss: 0.6408, grad_norm: 2.4748\n",
      "2021-05-16 15:35:47,867 - mmdet - INFO - Epoch [14][150/328]\tlr: 1.000e-05, eta: 11:41:23, time: 3.948, data_time: 0.049, memory: 20363, loss_rpn_cls: 0.0134, loss_rpn_bbox: 0.0210, s0.loss_cls: 0.1139, s0.acc: 96.0059, s0.loss_bbox: 0.0737, s0.loss_mask: 0.1862, s1.loss_cls: 0.0449, s1.acc: 96.9338, s1.loss_bbox: 0.0679, s1.loss_mask: 0.0815, s2.loss_cls: 0.0220, s2.acc: 97.0435, s2.loss_bbox: 0.0442, s2.loss_mask: 0.0373, loss: 0.7060, grad_norm: 2.7471\n",
      "2021-05-16 15:39:04,550 - mmdet - INFO - Epoch [14][200/328]\tlr: 1.000e-05, eta: 11:39:24, time: 3.934, data_time: 0.049, memory: 20363, loss_rpn_cls: 0.0125, loss_rpn_bbox: 0.0189, s0.loss_cls: 0.1026, s0.acc: 96.3594, s0.loss_bbox: 0.0651, s0.loss_mask: 0.1773, s1.loss_cls: 0.0396, s1.acc: 97.2795, s1.loss_bbox: 0.0609, s1.loss_mask: 0.0773, s2.loss_cls: 0.0193, s2.acc: 97.4235, s2.loss_bbox: 0.0402, s2.loss_mask: 0.0359, loss: 0.6496, grad_norm: 2.5099\n",
      "2021-05-16 15:42:22,573 - mmdet - INFO - Epoch [14][250/328]\tlr: 1.000e-05, eta: 11:37:27, time: 3.960, data_time: 0.048, memory: 20363, loss_rpn_cls: 0.0140, loss_rpn_bbox: 0.0194, s0.loss_cls: 0.1134, s0.acc: 96.0146, s0.loss_bbox: 0.0725, s0.loss_mask: 0.1836, s1.loss_cls: 0.0435, s1.acc: 97.0105, s1.loss_bbox: 0.0658, s1.loss_mask: 0.0807, s2.loss_cls: 0.0207, s2.acc: 97.2112, s2.loss_bbox: 0.0429, s2.loss_mask: 0.0372, loss: 0.6937, grad_norm: 2.7421\n",
      "2021-05-16 15:45:35,511 - mmdet - INFO - Epoch [14][300/328]\tlr: 1.000e-05, eta: 11:35:15, time: 3.859, data_time: 0.043, memory: 20363, loss_rpn_cls: 0.0115, loss_rpn_bbox: 0.0168, s0.loss_cls: 0.0947, s0.acc: 96.6436, s0.loss_bbox: 0.0626, s0.loss_mask: 0.1739, s1.loss_cls: 0.0358, s1.acc: 97.5025, s1.loss_bbox: 0.0586, s1.loss_mask: 0.0764, s2.loss_cls: 0.0177, s2.acc: 97.5224, s2.loss_bbox: 0.0390, s2.loss_mask: 0.0354, loss: 0.6224, grad_norm: 2.4702\n",
      "2021-05-16 15:47:26,457 - mmdet - INFO - Saving checkpoint at 14 epochs\n"
     ]
    },
    {
     "name": "stdout",
     "output_type": "stream",
     "text": [
      "[>>>>>>>>>>>>>>>>>>>>>>>>>>>>>] 655/655, 4.1 task/s, elapsed: 161s, ETA:     0s"
     ]
    },
    {
     "name": "stderr",
     "output_type": "stream",
     "text": [
      "2021-05-16 15:50:14,519 - mmdet - INFO - Evaluating bbox...\n"
     ]
    },
    {
     "name": "stdout",
     "output_type": "stream",
     "text": [
      "Loading and preparing results...\n",
      "DONE (t=0.72s)\n",
      "creating index...\n",
      "index created!\n",
      "Running per image evaluation...\n",
      "Evaluate annotation type *bbox*\n",
      "DONE (t=7.27s).\n",
      "Accumulating evaluation results...\n",
      "DONE (t=1.28s).\n",
      "Average Precision  (AP) @[ IoU=0.50:0.95 | area=   all | maxDets=100 ] = 0.264\n",
      "Average Precision  (AP) @[ IoU=0.50      | area=   all | maxDets=1000 ] = 0.407\n",
      "Average Precision  (AP) @[ IoU=0.75      | area=   all | maxDets=1000 ] = 0.273\n",
      "Average Precision  (AP) @[ IoU=0.50:0.95 | area= small | maxDets=1000 ] = 0.045\n",
      "Average Precision  (AP) @[ IoU=0.50:0.95 | area=medium | maxDets=1000 ] = 0.227\n",
      "Average Precision  (AP) @[ IoU=0.50:0.95 | area= large | maxDets=1000 ] = 0.499\n",
      "Average Recall     (AR) @[ IoU=0.50:0.95 | area=   all | maxDets=100 ] = 0.424\n",
      "Average Recall     (AR) @[ IoU=0.50:0.95 | area=   all | maxDets=300 ] = 0.424\n",
      "Average Recall     (AR) @[ IoU=0.50:0.95 | area=   all | maxDets=1000 ] = 0.424\n",
      "Average Recall     (AR) @[ IoU=0.50:0.95 | area= small | maxDets=1000 ] = 0.151\n",
      "Average Recall     (AR) @[ IoU=0.50:0.95 | area=medium | maxDets=1000 ] = 0.385\n",
      "Average Recall     (AR) @[ IoU=0.50:0.95 | area= large | maxDets=1000 ] = 0.712\n"
     ]
    },
    {
     "name": "stderr",
     "output_type": "stream",
     "text": [
      "2021-05-16 15:50:34,835 - mmdet - INFO - Now best checkpoint is epoch_14.pth.Best bbox_mAP_50 is 0.4070\n",
      "2021-05-16 15:50:34,864 - mmdet - INFO - Epoch(val) [14][328]\tbbox_mAP: 0.2640, bbox_mAP_50: 0.4070, bbox_mAP_75: 0.2730, bbox_mAP_s: 0.0450, bbox_mAP_m: 0.2270, bbox_mAP_l: 0.4990, bbox_mAP_copypaste: 0.264 0.407 0.273 0.045 0.227 0.499\n",
      "2021-05-16 15:53:52,327 - mmdet - INFO - Epoch [15][50/328]\tlr: 1.000e-05, eta: 11:27:24, time: 3.949, data_time: 0.096, memory: 20363, loss_rpn_cls: 0.0114, loss_rpn_bbox: 0.0180, s0.loss_cls: 0.0972, s0.acc: 96.5132, s0.loss_bbox: 0.0658, s0.loss_mask: 0.1759, s1.loss_cls: 0.0367, s1.acc: 97.5084, s1.loss_bbox: 0.0595, s1.loss_mask: 0.0768, s2.loss_cls: 0.0180, s2.acc: 97.5626, s2.loss_bbox: 0.0386, s2.loss_mask: 0.0353, loss: 0.6333, grad_norm: 2.5449\n",
      "2021-05-16 15:57:08,607 - mmdet - INFO - Epoch [15][100/328]\tlr: 1.000e-05, eta: 11:25:20, time: 3.926, data_time: 0.045, memory: 20363, loss_rpn_cls: 0.0116, loss_rpn_bbox: 0.0194, s0.loss_cls: 0.1000, s0.acc: 96.4712, s0.loss_bbox: 0.0665, s0.loss_mask: 0.1768, s1.loss_cls: 0.0384, s1.acc: 97.3927, s1.loss_bbox: 0.0611, s1.loss_mask: 0.0772, s2.loss_cls: 0.0186, s2.acc: 97.5152, s2.loss_bbox: 0.0400, s2.loss_mask: 0.0358, loss: 0.6452, grad_norm: 2.4510\n",
      "2021-05-16 16:00:26,585 - mmdet - INFO - Epoch [15][150/328]\tlr: 1.000e-05, eta: 11:23:20, time: 3.960, data_time: 0.044, memory: 20363, loss_rpn_cls: 0.0122, loss_rpn_bbox: 0.0194, s0.loss_cls: 0.1013, s0.acc: 96.4526, s0.loss_bbox: 0.0638, s0.loss_mask: 0.1758, s1.loss_cls: 0.0382, s1.acc: 97.3527, s1.loss_bbox: 0.0586, s1.loss_mask: 0.0769, s2.loss_cls: 0.0182, s2.acc: 97.5781, s2.loss_bbox: 0.0390, s2.loss_mask: 0.0355, loss: 0.6389, grad_norm: 2.4913\n",
      "2021-05-16 16:03:43,036 - mmdet - INFO - Epoch [15][200/328]\tlr: 1.000e-05, eta: 11:21:14, time: 3.929, data_time: 0.045, memory: 20363, loss_rpn_cls: 0.0103, loss_rpn_bbox: 0.0163, s0.loss_cls: 0.0952, s0.acc: 96.6152, s0.loss_bbox: 0.0636, s0.loss_mask: 0.1693, s1.loss_cls: 0.0356, s1.acc: 97.5895, s1.loss_bbox: 0.0576, s1.loss_mask: 0.0744, s2.loss_cls: 0.0171, s2.acc: 97.5936, s2.loss_bbox: 0.0378, s2.loss_mask: 0.0345, loss: 0.6119, grad_norm: 2.5388\n",
      "2021-05-16 16:06:54,137 - mmdet - INFO - Epoch [15][250/328]\tlr: 1.000e-05, eta: 11:18:54, time: 3.822, data_time: 0.045, memory: 20363, loss_rpn_cls: 0.0109, loss_rpn_bbox: 0.0181, s0.loss_cls: 0.0916, s0.acc: 96.7637, s0.loss_bbox: 0.0584, s0.loss_mask: 0.1742, s1.loss_cls: 0.0341, s1.acc: 97.6503, s1.loss_bbox: 0.0539, s1.loss_mask: 0.0760, s2.loss_cls: 0.0168, s2.acc: 97.6975, s2.loss_bbox: 0.0357, s2.loss_mask: 0.0350, loss: 0.6046, grad_norm: 2.4116\n",
      "2021-05-16 16:10:11,593 - mmdet - INFO - Epoch [15][300/328]\tlr: 1.000e-05, eta: 11:16:47, time: 3.949, data_time: 0.051, memory: 20363, loss_rpn_cls: 0.0138, loss_rpn_bbox: 0.0220, s0.loss_cls: 0.1118, s0.acc: 96.0771, s0.loss_bbox: 0.0719, s0.loss_mask: 0.1865, s1.loss_cls: 0.0435, s1.acc: 97.0155, s1.loss_bbox: 0.0669, s1.loss_mask: 0.0820, s2.loss_cls: 0.0213, s2.acc: 97.0397, s2.loss_bbox: 0.0436, s2.loss_mask: 0.0378, loss: 0.7012, grad_norm: 2.6518\n",
      "2021-05-16 16:12:02,817 - mmdet - INFO - Saving checkpoint at 15 epochs\n"
     ]
    },
    {
     "name": "stdout",
     "output_type": "stream",
     "text": [
      "[>>>>>>>>>>>>>>>>>>>>>>>>>>>>>] 655/655, 4.1 task/s, elapsed: 159s, ETA:     0s"
     ]
    },
    {
     "name": "stderr",
     "output_type": "stream",
     "text": [
      "2021-05-16 16:14:49,255 - mmdet - INFO - Evaluating bbox...\n"
     ]
    },
    {
     "name": "stdout",
     "output_type": "stream",
     "text": [
      "Loading and preparing results...\n",
      "DONE (t=0.65s)\n",
      "creating index...\n",
      "index created!\n",
      "Running per image evaluation...\n",
      "Evaluate annotation type *bbox*\n",
      "DONE (t=7.16s).\n",
      "Accumulating evaluation results...\n"
     ]
    },
    {
     "name": "stderr",
     "output_type": "stream",
     "text": [
      "2021-05-16 16:14:58,421 - mmdet - INFO - Epoch(val) [15][328]\tbbox_mAP: 0.2650, bbox_mAP_50: 0.4030, bbox_mAP_75: 0.2790, bbox_mAP_s: 0.0420, bbox_mAP_m: 0.2260, bbox_mAP_l: 0.5330, bbox_mAP_copypaste: 0.265 0.403 0.279 0.042 0.226 0.533\n"
     ]
    },
    {
     "name": "stdout",
     "output_type": "stream",
     "text": [
      "DONE (t=1.21s).\n",
      "Average Precision  (AP) @[ IoU=0.50:0.95 | area=   all | maxDets=100 ] = 0.265\n",
      "Average Precision  (AP) @[ IoU=0.50      | area=   all | maxDets=1000 ] = 0.403\n",
      "Average Precision  (AP) @[ IoU=0.75      | area=   all | maxDets=1000 ] = 0.279\n",
      "Average Precision  (AP) @[ IoU=0.50:0.95 | area= small | maxDets=1000 ] = 0.042\n",
      "Average Precision  (AP) @[ IoU=0.50:0.95 | area=medium | maxDets=1000 ] = 0.226\n",
      "Average Precision  (AP) @[ IoU=0.50:0.95 | area= large | maxDets=1000 ] = 0.533\n",
      "Average Recall     (AR) @[ IoU=0.50:0.95 | area=   all | maxDets=100 ] = 0.424\n",
      "Average Recall     (AR) @[ IoU=0.50:0.95 | area=   all | maxDets=300 ] = 0.424\n",
      "Average Recall     (AR) @[ IoU=0.50:0.95 | area=   all | maxDets=1000 ] = 0.424\n",
      "Average Recall     (AR) @[ IoU=0.50:0.95 | area= small | maxDets=1000 ] = 0.154\n",
      "Average Recall     (AR) @[ IoU=0.50:0.95 | area=medium | maxDets=1000 ] = 0.383\n",
      "Average Recall     (AR) @[ IoU=0.50:0.95 | area= large | maxDets=1000 ] = 0.713\n"
     ]
    },
    {
     "name": "stderr",
     "output_type": "stream",
     "text": [
      "2021-05-16 16:18:18,325 - mmdet - INFO - Epoch [16][50/328]\tlr: 1.000e-05, eta: 11:09:19, time: 3.998, data_time: 0.097, memory: 20363, loss_rpn_cls: 0.0122, loss_rpn_bbox: 0.0205, s0.loss_cls: 0.1040, s0.acc: 96.2896, s0.loss_bbox: 0.0687, s0.loss_mask: 0.1798, s1.loss_cls: 0.0392, s1.acc: 97.2737, s1.loss_bbox: 0.0625, s1.loss_mask: 0.0787, s2.loss_cls: 0.0189, s2.acc: 97.3825, s2.loss_bbox: 0.0403, s2.loss_mask: 0.0363, loss: 0.6612, grad_norm: 2.5065\n",
      "2021-05-16 16:21:34,463 - mmdet - INFO - Epoch [16][100/328]\tlr: 1.000e-05, eta: 11:07:10, time: 3.923, data_time: 0.046, memory: 20363, loss_rpn_cls: 0.0100, loss_rpn_bbox: 0.0179, s0.loss_cls: 0.0943, s0.acc: 96.6709, s0.loss_bbox: 0.0615, s0.loss_mask: 0.1755, s1.loss_cls: 0.0342, s1.acc: 97.7104, s1.loss_bbox: 0.0552, s1.loss_mask: 0.0758, s2.loss_cls: 0.0167, s2.acc: 97.7707, s2.loss_bbox: 0.0364, s2.loss_mask: 0.0353, loss: 0.6128, grad_norm: 2.4069\n",
      "2021-05-16 16:24:47,546 - mmdet - INFO - Epoch [16][150/328]\tlr: 1.000e-05, eta: 11:04:52, time: 3.862, data_time: 0.046, memory: 20363, loss_rpn_cls: 0.0097, loss_rpn_bbox: 0.0169, s0.loss_cls: 0.0872, s0.acc: 96.8896, s0.loss_bbox: 0.0568, s0.loss_mask: 0.1680, s1.loss_cls: 0.0324, s1.acc: 97.7486, s1.loss_bbox: 0.0521, s1.loss_mask: 0.0725, s2.loss_cls: 0.0153, s2.acc: 97.9250, s2.loss_bbox: 0.0343, s2.loss_mask: 0.0337, loss: 0.5787, grad_norm: 2.4220\n",
      "2021-05-16 16:28:03,303 - mmdet - INFO - Epoch [16][200/328]\tlr: 1.000e-05, eta: 11:02:39, time: 3.915, data_time: 0.051, memory: 20363, loss_rpn_cls: 0.0102, loss_rpn_bbox: 0.0183, s0.loss_cls: 0.0931, s0.acc: 96.6440, s0.loss_bbox: 0.0628, s0.loss_mask: 0.1720, s1.loss_cls: 0.0344, s1.acc: 97.5916, s1.loss_bbox: 0.0567, s1.loss_mask: 0.0739, s2.loss_cls: 0.0166, s2.acc: 97.7794, s2.loss_bbox: 0.0368, s2.loss_mask: 0.0344, loss: 0.6091, grad_norm: 2.4119\n",
      "2021-05-16 16:31:20,665 - mmdet - INFO - Epoch [16][250/328]\tlr: 1.000e-05, eta: 11:00:29, time: 3.947, data_time: 0.049, memory: 20363, loss_rpn_cls: 0.0090, loss_rpn_bbox: 0.0174, s0.loss_cls: 0.0912, s0.acc: 96.7124, s0.loss_bbox: 0.0613, s0.loss_mask: 0.1694, s1.loss_cls: 0.0342, s1.acc: 97.6117, s1.loss_bbox: 0.0567, s1.loss_mask: 0.0746, s2.loss_cls: 0.0169, s2.acc: 97.6266, s2.loss_bbox: 0.0375, s2.loss_mask: 0.0343, loss: 0.6025, grad_norm: 2.4159\n",
      "2021-05-16 16:34:37,777 - mmdet - INFO - Epoch [16][300/328]\tlr: 1.000e-05, eta: 10:58:17, time: 3.942, data_time: 0.055, memory: 20363, loss_rpn_cls: 0.0113, loss_rpn_bbox: 0.0204, s0.loss_cls: 0.1000, s0.acc: 96.4136, s0.loss_bbox: 0.0677, s0.loss_mask: 0.1771, s1.loss_cls: 0.0382, s1.acc: 97.3649, s1.loss_bbox: 0.0599, s1.loss_mask: 0.0762, s2.loss_cls: 0.0185, s2.acc: 97.5033, s2.loss_bbox: 0.0387, s2.loss_mask: 0.0355, loss: 0.6435, grad_norm: 2.3555\n",
      "2021-05-16 16:36:28,759 - mmdet - INFO - Saving checkpoint at 16 epochs\n"
     ]
    },
    {
     "name": "stdout",
     "output_type": "stream",
     "text": [
      "[>>>>>>>>>>>>>>>>>>>>>>>>>>>>>] 655/655, 4.2 task/s, elapsed: 156s, ETA:     0s"
     ]
    },
    {
     "name": "stderr",
     "output_type": "stream",
     "text": [
      "2021-05-16 16:39:11,628 - mmdet - INFO - Evaluating bbox...\n"
     ]
    },
    {
     "name": "stdout",
     "output_type": "stream",
     "text": [
      "Loading and preparing results...\n",
      "DONE (t=0.65s)\n",
      "creating index...\n",
      "index created!\n",
      "Running per image evaluation...\n",
      "Evaluate annotation type *bbox*\n",
      "DONE (t=6.94s).\n",
      "Accumulating evaluation results...\n"
     ]
    },
    {
     "name": "stderr",
     "output_type": "stream",
     "text": [
      "2021-05-16 16:39:20,539 - mmdet - INFO - Epoch(val) [16][328]\tbbox_mAP: 0.2680, bbox_mAP_50: 0.4060, bbox_mAP_75: 0.2700, bbox_mAP_s: 0.0410, bbox_mAP_m: 0.2260, bbox_mAP_l: 0.5280, bbox_mAP_copypaste: 0.268 0.406 0.270 0.041 0.226 0.528\n"
     ]
    },
    {
     "name": "stdout",
     "output_type": "stream",
     "text": [
      "DONE (t=1.19s).\n",
      "Average Precision  (AP) @[ IoU=0.50:0.95 | area=   all | maxDets=100 ] = 0.268\n",
      "Average Precision  (AP) @[ IoU=0.50      | area=   all | maxDets=1000 ] = 0.406\n",
      "Average Precision  (AP) @[ IoU=0.75      | area=   all | maxDets=1000 ] = 0.270\n",
      "Average Precision  (AP) @[ IoU=0.50:0.95 | area= small | maxDets=1000 ] = 0.041\n",
      "Average Precision  (AP) @[ IoU=0.50:0.95 | area=medium | maxDets=1000 ] = 0.226\n",
      "Average Precision  (AP) @[ IoU=0.50:0.95 | area= large | maxDets=1000 ] = 0.528\n",
      "Average Recall     (AR) @[ IoU=0.50:0.95 | area=   all | maxDets=100 ] = 0.426\n",
      "Average Recall     (AR) @[ IoU=0.50:0.95 | area=   all | maxDets=300 ] = 0.426\n",
      "Average Recall     (AR) @[ IoU=0.50:0.95 | area=   all | maxDets=1000 ] = 0.426\n",
      "Average Recall     (AR) @[ IoU=0.50:0.95 | area= small | maxDets=1000 ] = 0.145\n",
      "Average Recall     (AR) @[ IoU=0.50:0.95 | area=medium | maxDets=1000 ] = 0.386\n",
      "Average Recall     (AR) @[ IoU=0.50:0.95 | area= large | maxDets=1000 ] = 0.721\n"
     ]
    },
    {
     "name": "stderr",
     "output_type": "stream",
     "text": [
      "2021-05-16 16:42:41,852 - mmdet - INFO - Epoch [17][50/328]\tlr: 1.000e-05, eta: 10:51:06, time: 4.026, data_time: 0.107, memory: 20363, loss_rpn_cls: 0.0109, loss_rpn_bbox: 0.0204, s0.loss_cls: 0.0949, s0.acc: 96.6240, s0.loss_bbox: 0.0645, s0.loss_mask: 0.1707, s1.loss_cls: 0.0343, s1.acc: 97.6290, s1.loss_bbox: 0.0570, s1.loss_mask: 0.0743, s2.loss_cls: 0.0166, s2.acc: 97.7710, s2.loss_bbox: 0.0370, s2.loss_mask: 0.0344, loss: 0.6150, grad_norm: 2.3231\n",
      "2021-05-16 16:45:57,693 - mmdet - INFO - Epoch [17][100/328]\tlr: 1.000e-05, eta: 10:48:51, time: 3.917, data_time: 0.051, memory: 20363, loss_rpn_cls: 0.0092, loss_rpn_bbox: 0.0173, s0.loss_cls: 0.0886, s0.acc: 96.8042, s0.loss_bbox: 0.0593, s0.loss_mask: 0.1638, s1.loss_cls: 0.0331, s1.acc: 97.7233, s1.loss_bbox: 0.0524, s1.loss_mask: 0.0727, s2.loss_cls: 0.0156, s2.acc: 97.8646, s2.loss_bbox: 0.0338, s2.loss_mask: 0.0338, loss: 0.5795, grad_norm: 2.3272\n",
      "2021-05-16 16:49:15,100 - mmdet - INFO - Epoch [17][150/328]\tlr: 1.000e-05, eta: 10:46:38, time: 3.948, data_time: 0.044, memory: 20363, loss_rpn_cls: 0.0085, loss_rpn_bbox: 0.0171, s0.loss_cls: 0.0882, s0.acc: 96.8184, s0.loss_bbox: 0.0595, s0.loss_mask: 0.1661, s1.loss_cls: 0.0317, s1.acc: 97.7644, s1.loss_bbox: 0.0527, s1.loss_mask: 0.0720, s2.loss_cls: 0.0152, s2.acc: 97.9134, s2.loss_bbox: 0.0350, s2.loss_mask: 0.0332, loss: 0.5793, grad_norm: 2.3777\n",
      "2021-05-16 16:52:31,278 - mmdet - INFO - Epoch [17][200/328]\tlr: 1.000e-05, eta: 10:44:22, time: 3.924, data_time: 0.048, memory: 20363, loss_rpn_cls: 0.0090, loss_rpn_bbox: 0.0175, s0.loss_cls: 0.0875, s0.acc: 96.8066, s0.loss_bbox: 0.0621, s0.loss_mask: 0.1751, s1.loss_cls: 0.0326, s1.acc: 97.7211, s1.loss_bbox: 0.0553, s1.loss_mask: 0.0759, s2.loss_cls: 0.0155, s2.acc: 97.8503, s2.loss_bbox: 0.0366, s2.loss_mask: 0.0355, loss: 0.6026, grad_norm: 2.5142\n",
      "2021-05-16 16:55:47,232 - mmdet - INFO - Epoch [17][250/328]\tlr: 1.000e-05, eta: 10:42:04, time: 3.919, data_time: 0.045, memory: 20363, loss_rpn_cls: 0.0098, loss_rpn_bbox: 0.0180, s0.loss_cls: 0.0889, s0.acc: 96.8022, s0.loss_bbox: 0.0599, s0.loss_mask: 0.1724, s1.loss_cls: 0.0326, s1.acc: 97.7483, s1.loss_bbox: 0.0538, s1.loss_mask: 0.0764, s2.loss_cls: 0.0159, s2.acc: 97.8753, s2.loss_bbox: 0.0361, s2.loss_mask: 0.0355, loss: 0.5996, grad_norm: 2.4575\n",
      "2021-05-16 16:59:03,973 - mmdet - INFO - Epoch [17][300/328]\tlr: 1.000e-05, eta: 10:39:46, time: 3.935, data_time: 0.048, memory: 20363, loss_rpn_cls: 0.0082, loss_rpn_bbox: 0.0169, s0.loss_cls: 0.0886, s0.acc: 96.9146, s0.loss_bbox: 0.0591, s0.loss_mask: 0.1660, s1.loss_cls: 0.0321, s1.acc: 97.8124, s1.loss_bbox: 0.0543, s1.loss_mask: 0.0721, s2.loss_cls: 0.0155, s2.acc: 97.9265, s2.loss_bbox: 0.0357, s2.loss_mask: 0.0334, loss: 0.5817, grad_norm: 2.4988\n",
      "2021-05-16 17:00:52,680 - mmdet - INFO - Saving checkpoint at 17 epochs\n"
     ]
    },
    {
     "name": "stdout",
     "output_type": "stream",
     "text": [
      "[>>>>>>>>>>>>>>>>>>>>>>>>>>>>>] 655/655, 4.1 task/s, elapsed: 160s, ETA:     0s"
     ]
    },
    {
     "name": "stderr",
     "output_type": "stream",
     "text": [
      "2021-05-16 17:03:39,499 - mmdet - INFO - Evaluating bbox...\n"
     ]
    },
    {
     "name": "stdout",
     "output_type": "stream",
     "text": [
      "Loading and preparing results...\n",
      "DONE (t=0.17s)\n",
      "creating index...\n",
      "index created!\n",
      "Running per image evaluation...\n",
      "Evaluate annotation type *bbox*\n",
      "DONE (t=7.04s).\n",
      "Accumulating evaluation results...\n"
     ]
    },
    {
     "name": "stderr",
     "output_type": "stream",
     "text": [
      "2021-05-16 17:03:48,057 - mmdet - INFO - Epoch(val) [17][328]\tbbox_mAP: 0.2680, bbox_mAP_50: 0.4040, bbox_mAP_75: 0.2780, bbox_mAP_s: 0.0410, bbox_mAP_m: 0.2260, bbox_mAP_l: 0.5390, bbox_mAP_copypaste: 0.268 0.404 0.278 0.041 0.226 0.539\n"
     ]
    },
    {
     "name": "stdout",
     "output_type": "stream",
     "text": [
      "DONE (t=1.21s).\n",
      "Average Precision  (AP) @[ IoU=0.50:0.95 | area=   all | maxDets=100 ] = 0.268\n",
      "Average Precision  (AP) @[ IoU=0.50      | area=   all | maxDets=1000 ] = 0.404\n",
      "Average Precision  (AP) @[ IoU=0.75      | area=   all | maxDets=1000 ] = 0.278\n",
      "Average Precision  (AP) @[ IoU=0.50:0.95 | area= small | maxDets=1000 ] = 0.041\n",
      "Average Precision  (AP) @[ IoU=0.50:0.95 | area=medium | maxDets=1000 ] = 0.226\n",
      "Average Precision  (AP) @[ IoU=0.50:0.95 | area= large | maxDets=1000 ] = 0.539\n",
      "Average Recall     (AR) @[ IoU=0.50:0.95 | area=   all | maxDets=100 ] = 0.424\n",
      "Average Recall     (AR) @[ IoU=0.50:0.95 | area=   all | maxDets=300 ] = 0.424\n",
      "Average Recall     (AR) @[ IoU=0.50:0.95 | area=   all | maxDets=1000 ] = 0.424\n",
      "Average Recall     (AR) @[ IoU=0.50:0.95 | area= small | maxDets=1000 ] = 0.146\n",
      "Average Recall     (AR) @[ IoU=0.50:0.95 | area=medium | maxDets=1000 ] = 0.386\n",
      "Average Recall     (AR) @[ IoU=0.50:0.95 | area= large | maxDets=1000 ] = 0.715\n"
     ]
    },
    {
     "name": "stderr",
     "output_type": "stream",
     "text": [
      "2021-05-16 17:07:05,234 - mmdet - INFO - Epoch [18][50/328]\tlr: 1.000e-05, eta: 10:32:40, time: 3.943, data_time: 0.097, memory: 20363, loss_rpn_cls: 0.0074, loss_rpn_bbox: 0.0168, s0.loss_cls: 0.0842, s0.acc: 97.0112, s0.loss_bbox: 0.0580, s0.loss_mask: 0.1703, s1.loss_cls: 0.0311, s1.acc: 97.8166, s1.loss_bbox: 0.0517, s1.loss_mask: 0.0735, s2.loss_cls: 0.0147, s2.acc: 98.0033, s2.loss_bbox: 0.0339, s2.loss_mask: 0.0340, loss: 0.5757, grad_norm: 2.2579\n",
      "2021-05-16 17:10:22,520 - mmdet - INFO - Epoch [18][100/328]\tlr: 1.000e-05, eta: 10:30:23, time: 3.946, data_time: 0.053, memory: 20363, loss_rpn_cls: 0.0083, loss_rpn_bbox: 0.0182, s0.loss_cls: 0.0914, s0.acc: 96.7256, s0.loss_bbox: 0.0613, s0.loss_mask: 0.1686, s1.loss_cls: 0.0332, s1.acc: 97.6966, s1.loss_bbox: 0.0550, s1.loss_mask: 0.0727, s2.loss_cls: 0.0163, s2.acc: 97.7509, s2.loss_bbox: 0.0359, s2.loss_mask: 0.0336, loss: 0.5945, grad_norm: 2.4640\n",
      "2021-05-16 17:13:40,488 - mmdet - INFO - Epoch [18][150/328]\tlr: 1.000e-05, eta: 10:28:07, time: 3.959, data_time: 0.047, memory: 20363, loss_rpn_cls: 0.0089, loss_rpn_bbox: 0.0174, s0.loss_cls: 0.0874, s0.acc: 96.8149, s0.loss_bbox: 0.0579, s0.loss_mask: 0.1657, s1.loss_cls: 0.0323, s1.acc: 97.6770, s1.loss_bbox: 0.0517, s1.loss_mask: 0.0727, s2.loss_cls: 0.0154, s2.acc: 97.8814, s2.loss_bbox: 0.0345, s2.loss_mask: 0.0339, loss: 0.5780, grad_norm: 2.4801\n",
      "2021-05-16 17:16:55,385 - mmdet - INFO - Epoch [18][200/328]\tlr: 1.000e-05, eta: 10:25:44, time: 3.898, data_time: 0.044, memory: 20363, loss_rpn_cls: 0.0068, loss_rpn_bbox: 0.0162, s0.loss_cls: 0.0792, s0.acc: 97.1206, s0.loss_bbox: 0.0557, s0.loss_mask: 0.1624, s1.loss_cls: 0.0283, s1.acc: 97.9806, s1.loss_bbox: 0.0490, s1.loss_mask: 0.0702, s2.loss_cls: 0.0138, s2.acc: 98.0960, s2.loss_bbox: 0.0327, s2.loss_mask: 0.0327, loss: 0.5470, grad_norm: 2.3752\n",
      "2021-05-16 17:20:13,520 - mmdet - INFO - Epoch [18][250/328]\tlr: 1.000e-05, eta: 10:23:27, time: 3.963, data_time: 0.054, memory: 20363, loss_rpn_cls: 0.0103, loss_rpn_bbox: 0.0190, s0.loss_cls: 0.0901, s0.acc: 96.6992, s0.loss_bbox: 0.0611, s0.loss_mask: 0.1718, s1.loss_cls: 0.0328, s1.acc: 97.6793, s1.loss_bbox: 0.0555, s1.loss_mask: 0.0743, s2.loss_cls: 0.0162, s2.acc: 97.7055, s2.loss_bbox: 0.0371, s2.loss_mask: 0.0345, loss: 0.6026, grad_norm: 2.5428\n",
      "2021-05-16 17:23:30,098 - mmdet - INFO - Epoch [18][300/328]\tlr: 1.000e-05, eta: 10:21:05, time: 3.932, data_time: 0.047, memory: 20363, loss_rpn_cls: 0.0078, loss_rpn_bbox: 0.0178, s0.loss_cls: 0.0834, s0.acc: 97.0073, s0.loss_bbox: 0.0586, s0.loss_mask: 0.1661, s1.loss_cls: 0.0296, s1.acc: 97.9498, s1.loss_bbox: 0.0517, s1.loss_mask: 0.0722, s2.loss_cls: 0.0143, s2.acc: 98.0166, s2.loss_bbox: 0.0346, s2.loss_mask: 0.0337, loss: 0.5699, grad_norm: 2.4371\n",
      "2021-05-16 17:25:18,709 - mmdet - INFO - Saving checkpoint at 18 epochs\n"
     ]
    },
    {
     "name": "stdout",
     "output_type": "stream",
     "text": [
      "[>>>>>>>>>>>>>>>>>>>>>>>>>>>>>] 655/655, 4.3 task/s, elapsed: 154s, ETA:     0s"
     ]
    },
    {
     "name": "stderr",
     "output_type": "stream",
     "text": [
      "2021-05-16 17:27:59,256 - mmdet - INFO - Evaluating bbox...\n"
     ]
    },
    {
     "name": "stdout",
     "output_type": "stream",
     "text": [
      "Loading and preparing results...\n",
      "DONE (t=0.66s)\n",
      "creating index...\n",
      "index created!\n",
      "Running per image evaluation...\n",
      "Evaluate annotation type *bbox*\n",
      "DONE (t=6.99s).\n",
      "Accumulating evaluation results...\n"
     ]
    },
    {
     "name": "stderr",
     "output_type": "stream",
     "text": [
      "2021-05-16 17:28:08,235 - mmdet - INFO - Epoch(val) [18][328]\tbbox_mAP: 0.2630, bbox_mAP_50: 0.3980, bbox_mAP_75: 0.2760, bbox_mAP_s: 0.0390, bbox_mAP_m: 0.2220, bbox_mAP_l: 0.5300, bbox_mAP_copypaste: 0.263 0.398 0.276 0.039 0.222 0.530\n"
     ]
    },
    {
     "name": "stdout",
     "output_type": "stream",
     "text": [
      "DONE (t=1.20s).\n",
      "Average Precision  (AP) @[ IoU=0.50:0.95 | area=   all | maxDets=100 ] = 0.263\n",
      "Average Precision  (AP) @[ IoU=0.50      | area=   all | maxDets=1000 ] = 0.398\n",
      "Average Precision  (AP) @[ IoU=0.75      | area=   all | maxDets=1000 ] = 0.276\n",
      "Average Precision  (AP) @[ IoU=0.50:0.95 | area= small | maxDets=1000 ] = 0.039\n",
      "Average Precision  (AP) @[ IoU=0.50:0.95 | area=medium | maxDets=1000 ] = 0.222\n",
      "Average Precision  (AP) @[ IoU=0.50:0.95 | area= large | maxDets=1000 ] = 0.530\n",
      "Average Recall     (AR) @[ IoU=0.50:0.95 | area=   all | maxDets=100 ] = 0.423\n",
      "Average Recall     (AR) @[ IoU=0.50:0.95 | area=   all | maxDets=300 ] = 0.423\n",
      "Average Recall     (AR) @[ IoU=0.50:0.95 | area=   all | maxDets=1000 ] = 0.423\n",
      "Average Recall     (AR) @[ IoU=0.50:0.95 | area= small | maxDets=1000 ] = 0.138\n",
      "Average Recall     (AR) @[ IoU=0.50:0.95 | area=medium | maxDets=1000 ] = 0.384\n",
      "Average Recall     (AR) @[ IoU=0.50:0.95 | area= large | maxDets=1000 ] = 0.709\n"
     ]
    },
    {
     "name": "stderr",
     "output_type": "stream",
     "text": [
      "2021-05-16 17:31:24,375 - mmdet - INFO - Epoch [19][50/328]\tlr: 1.000e-05, eta: 10:14:08, time: 3.922, data_time: 0.097, memory: 20363, loss_rpn_cls: 0.0070, loss_rpn_bbox: 0.0152, s0.loss_cls: 0.0759, s0.acc: 97.1855, s0.loss_bbox: 0.0524, s0.loss_mask: 0.1646, s1.loss_cls: 0.0267, s1.acc: 98.1224, s1.loss_bbox: 0.0473, s1.loss_mask: 0.0715, s2.loss_cls: 0.0130, s2.acc: 98.1705, s2.loss_bbox: 0.0320, s2.loss_mask: 0.0332, loss: 0.5388, grad_norm: 2.3388\n",
      "2021-05-16 17:34:42,869 - mmdet - INFO - Epoch [19][100/328]\tlr: 1.000e-05, eta: 10:11:50, time: 3.970, data_time: 0.049, memory: 20363, loss_rpn_cls: 0.0078, loss_rpn_bbox: 0.0173, s0.loss_cls: 0.0841, s0.acc: 96.9805, s0.loss_bbox: 0.0572, s0.loss_mask: 0.1612, s1.loss_cls: 0.0297, s1.acc: 97.9107, s1.loss_bbox: 0.0495, s1.loss_mask: 0.0699, s2.loss_cls: 0.0143, s2.acc: 98.0116, s2.loss_bbox: 0.0323, s2.loss_mask: 0.0324, loss: 0.5555, grad_norm: 2.3754\n",
      "2021-05-16 17:37:58,665 - mmdet - INFO - Epoch [19][150/328]\tlr: 1.000e-05, eta: 10:09:27, time: 3.916, data_time: 0.047, memory: 20363, loss_rpn_cls: 0.0080, loss_rpn_bbox: 0.0168, s0.loss_cls: 0.0792, s0.acc: 97.1328, s0.loss_bbox: 0.0538, s0.loss_mask: 0.1634, s1.loss_cls: 0.0277, s1.acc: 98.0265, s1.loss_bbox: 0.0480, s1.loss_mask: 0.0716, s2.loss_cls: 0.0132, s2.acc: 98.1682, s2.loss_bbox: 0.0319, s2.loss_mask: 0.0336, loss: 0.5472, grad_norm: 2.4379\n",
      "2021-05-16 17:41:14,717 - mmdet - INFO - Epoch [19][200/328]\tlr: 1.000e-05, eta: 10:07:02, time: 3.921, data_time: 0.053, memory: 20363, loss_rpn_cls: 0.0087, loss_rpn_bbox: 0.0185, s0.loss_cls: 0.0861, s0.acc: 96.9229, s0.loss_bbox: 0.0600, s0.loss_mask: 0.1712, s1.loss_cls: 0.0316, s1.acc: 97.8107, s1.loss_bbox: 0.0544, s1.loss_mask: 0.0746, s2.loss_cls: 0.0156, s2.acc: 97.8716, s2.loss_bbox: 0.0370, s2.loss_mask: 0.0346, loss: 0.5921, grad_norm: 2.5205\n",
      "2021-05-16 17:44:31,464 - mmdet - INFO - Epoch [19][250/328]\tlr: 1.000e-05, eta: 10:04:39, time: 3.935, data_time: 0.046, memory: 20363, loss_rpn_cls: 0.0067, loss_rpn_bbox: 0.0150, s0.loss_cls: 0.0732, s0.acc: 97.3076, s0.loss_bbox: 0.0523, s0.loss_mask: 0.1538, s1.loss_cls: 0.0246, s1.acc: 98.2408, s1.loss_bbox: 0.0459, s1.loss_mask: 0.0665, s2.loss_cls: 0.0120, s2.acc: 98.3088, s2.loss_bbox: 0.0304, s2.loss_mask: 0.0311, loss: 0.5116, grad_norm: 2.3489\n",
      "2021-05-16 17:47:47,815 - mmdet - INFO - Epoch [19][300/328]\tlr: 1.000e-05, eta: 10:02:13, time: 3.927, data_time: 0.044, memory: 20363, loss_rpn_cls: 0.0079, loss_rpn_bbox: 0.0185, s0.loss_cls: 0.0850, s0.acc: 96.8726, s0.loss_bbox: 0.0587, s0.loss_mask: 0.1715, s1.loss_cls: 0.0307, s1.acc: 97.8463, s1.loss_bbox: 0.0526, s1.loss_mask: 0.0745, s2.loss_cls: 0.0146, s2.acc: 97.9805, s2.loss_bbox: 0.0338, s2.loss_mask: 0.0343, loss: 0.5822, grad_norm: 2.4876\n",
      "2021-05-16 17:49:38,546 - mmdet - INFO - Saving checkpoint at 19 epochs\n"
     ]
    },
    {
     "name": "stdout",
     "output_type": "stream",
     "text": [
      "[>>>>>>>>>>>>>>>>>>            ] 397/655, 4.1 task/s, elapsed: 97s, ETA:    63s"
     ]
    },
    {
     "ename": "KeyboardInterrupt",
     "evalue": "",
     "output_type": "error",
     "traceback": [
      "\u001b[0;31m---------------------------------------------------------------------------\u001b[0m",
      "\u001b[0;31mKeyboardInterrupt\u001b[0m                         Traceback (most recent call last)",
      "\u001b[0;32m<ipython-input-7-59b5768e9e45>\u001b[0m in \u001b[0;36m<module>\u001b[0;34m\u001b[0m\n\u001b[0;32m----> 1\u001b[0;31m \u001b[0mtrain_detector\u001b[0m\u001b[0;34m(\u001b[0m\u001b[0mmodel\u001b[0m\u001b[0;34m,\u001b[0m \u001b[0mdatasets\u001b[0m\u001b[0;34m[\u001b[0m\u001b[0;36m0\u001b[0m\u001b[0;34m]\u001b[0m\u001b[0;34m,\u001b[0m \u001b[0mcfg\u001b[0m\u001b[0;34m,\u001b[0m \u001b[0mdistributed\u001b[0m\u001b[0;34m=\u001b[0m\u001b[0;32mFalse\u001b[0m\u001b[0;34m,\u001b[0m \u001b[0mvalidate\u001b[0m\u001b[0;34m=\u001b[0m\u001b[0;32mTrue\u001b[0m\u001b[0;34m)\u001b[0m\u001b[0;34m\u001b[0m\u001b[0;34m\u001b[0m\u001b[0m\n\u001b[0m",
      "\u001b[0;32m~/code/mmdetection_trash/mmdet/apis/train.py\u001b[0m in \u001b[0;36mtrain_detector\u001b[0;34m(model, dataset, cfg, distributed, validate, timestamp, meta)\u001b[0m\n\u001b[1;32m    168\u001b[0m     \u001b[0;32melif\u001b[0m \u001b[0mcfg\u001b[0m\u001b[0;34m.\u001b[0m\u001b[0mload_from\u001b[0m\u001b[0;34m:\u001b[0m\u001b[0;34m\u001b[0m\u001b[0;34m\u001b[0m\u001b[0m\n\u001b[1;32m    169\u001b[0m         \u001b[0mrunner\u001b[0m\u001b[0;34m.\u001b[0m\u001b[0mload_checkpoint\u001b[0m\u001b[0;34m(\u001b[0m\u001b[0mcfg\u001b[0m\u001b[0;34m.\u001b[0m\u001b[0mload_from\u001b[0m\u001b[0;34m)\u001b[0m\u001b[0;34m\u001b[0m\u001b[0;34m\u001b[0m\u001b[0m\n\u001b[0;32m--> 170\u001b[0;31m     \u001b[0mrunner\u001b[0m\u001b[0;34m.\u001b[0m\u001b[0mrun\u001b[0m\u001b[0;34m(\u001b[0m\u001b[0mdata_loaders\u001b[0m\u001b[0;34m,\u001b[0m \u001b[0mcfg\u001b[0m\u001b[0;34m.\u001b[0m\u001b[0mworkflow\u001b[0m\u001b[0;34m)\u001b[0m\u001b[0;34m\u001b[0m\u001b[0;34m\u001b[0m\u001b[0m\n\u001b[0m",
      "\u001b[0;32m/opt/conda/lib/python3.7/site-packages/mmcv/runner/epoch_based_runner.py\u001b[0m in \u001b[0;36mrun\u001b[0;34m(self, data_loaders, workflow, max_epochs, **kwargs)\u001b[0m\n\u001b[1;32m    123\u001b[0m                     \u001b[0;32mif\u001b[0m \u001b[0mmode\u001b[0m \u001b[0;34m==\u001b[0m \u001b[0;34m'train'\u001b[0m \u001b[0;32mand\u001b[0m \u001b[0mself\u001b[0m\u001b[0;34m.\u001b[0m\u001b[0mepoch\u001b[0m \u001b[0;34m>=\u001b[0m \u001b[0mself\u001b[0m\u001b[0;34m.\u001b[0m\u001b[0m_max_epochs\u001b[0m\u001b[0;34m:\u001b[0m\u001b[0;34m\u001b[0m\u001b[0;34m\u001b[0m\u001b[0m\n\u001b[1;32m    124\u001b[0m                         \u001b[0;32mbreak\u001b[0m\u001b[0;34m\u001b[0m\u001b[0;34m\u001b[0m\u001b[0m\n\u001b[0;32m--> 125\u001b[0;31m                     \u001b[0mepoch_runner\u001b[0m\u001b[0;34m(\u001b[0m\u001b[0mdata_loaders\u001b[0m\u001b[0;34m[\u001b[0m\u001b[0mi\u001b[0m\u001b[0;34m]\u001b[0m\u001b[0;34m,\u001b[0m \u001b[0;34m**\u001b[0m\u001b[0mkwargs\u001b[0m\u001b[0;34m)\u001b[0m\u001b[0;34m\u001b[0m\u001b[0;34m\u001b[0m\u001b[0m\n\u001b[0m\u001b[1;32m    126\u001b[0m \u001b[0;34m\u001b[0m\u001b[0m\n\u001b[1;32m    127\u001b[0m         \u001b[0mtime\u001b[0m\u001b[0;34m.\u001b[0m\u001b[0msleep\u001b[0m\u001b[0;34m(\u001b[0m\u001b[0;36m1\u001b[0m\u001b[0;34m)\u001b[0m  \u001b[0;31m# wait for some hooks like loggers to finish\u001b[0m\u001b[0;34m\u001b[0m\u001b[0;34m\u001b[0m\u001b[0m\n",
      "\u001b[0;32m/opt/conda/lib/python3.7/site-packages/mmcv/runner/epoch_based_runner.py\u001b[0m in \u001b[0;36mtrain\u001b[0;34m(self, data_loader, **kwargs)\u001b[0m\n\u001b[1;32m     52\u001b[0m             \u001b[0mself\u001b[0m\u001b[0;34m.\u001b[0m\u001b[0m_iter\u001b[0m \u001b[0;34m+=\u001b[0m \u001b[0;36m1\u001b[0m\u001b[0;34m\u001b[0m\u001b[0;34m\u001b[0m\u001b[0m\n\u001b[1;32m     53\u001b[0m \u001b[0;34m\u001b[0m\u001b[0m\n\u001b[0;32m---> 54\u001b[0;31m         \u001b[0mself\u001b[0m\u001b[0;34m.\u001b[0m\u001b[0mcall_hook\u001b[0m\u001b[0;34m(\u001b[0m\u001b[0;34m'after_train_epoch'\u001b[0m\u001b[0;34m)\u001b[0m\u001b[0;34m\u001b[0m\u001b[0;34m\u001b[0m\u001b[0m\n\u001b[0m\u001b[1;32m     55\u001b[0m         \u001b[0mself\u001b[0m\u001b[0;34m.\u001b[0m\u001b[0m_epoch\u001b[0m \u001b[0;34m+=\u001b[0m \u001b[0;36m1\u001b[0m\u001b[0;34m\u001b[0m\u001b[0;34m\u001b[0m\u001b[0m\n\u001b[1;32m     56\u001b[0m \u001b[0;34m\u001b[0m\u001b[0m\n",
      "\u001b[0;32m/opt/conda/lib/python3.7/site-packages/mmcv/runner/base_runner.py\u001b[0m in \u001b[0;36mcall_hook\u001b[0;34m(self, fn_name)\u001b[0m\n\u001b[1;32m    305\u001b[0m         \"\"\"\n\u001b[1;32m    306\u001b[0m         \u001b[0;32mfor\u001b[0m \u001b[0mhook\u001b[0m \u001b[0;32min\u001b[0m \u001b[0mself\u001b[0m\u001b[0;34m.\u001b[0m\u001b[0m_hooks\u001b[0m\u001b[0;34m:\u001b[0m\u001b[0;34m\u001b[0m\u001b[0;34m\u001b[0m\u001b[0m\n\u001b[0;32m--> 307\u001b[0;31m             \u001b[0mgetattr\u001b[0m\u001b[0;34m(\u001b[0m\u001b[0mhook\u001b[0m\u001b[0;34m,\u001b[0m \u001b[0mfn_name\u001b[0m\u001b[0;34m)\u001b[0m\u001b[0;34m(\u001b[0m\u001b[0mself\u001b[0m\u001b[0;34m)\u001b[0m\u001b[0;34m\u001b[0m\u001b[0;34m\u001b[0m\u001b[0m\n\u001b[0m\u001b[1;32m    308\u001b[0m \u001b[0;34m\u001b[0m\u001b[0m\n\u001b[1;32m    309\u001b[0m     def load_checkpoint(self,\n",
      "\u001b[0;32m~/code/mmdetection_trash/mmdet/core/evaluation/eval_hooks.py\u001b[0m in \u001b[0;36mafter_train_epoch\u001b[0;34m(self, runner)\u001b[0m\n\u001b[1;32m    145\u001b[0m             \u001b[0;32mreturn\u001b[0m\u001b[0;34m\u001b[0m\u001b[0;34m\u001b[0m\u001b[0m\n\u001b[1;32m    146\u001b[0m         \u001b[0;32mfrom\u001b[0m \u001b[0mmmdet\u001b[0m\u001b[0;34m.\u001b[0m\u001b[0mapis\u001b[0m \u001b[0;32mimport\u001b[0m \u001b[0msingle_gpu_test\u001b[0m\u001b[0;34m\u001b[0m\u001b[0;34m\u001b[0m\u001b[0m\n\u001b[0;32m--> 147\u001b[0;31m         \u001b[0mresults\u001b[0m \u001b[0;34m=\u001b[0m \u001b[0msingle_gpu_test\u001b[0m\u001b[0;34m(\u001b[0m\u001b[0mrunner\u001b[0m\u001b[0;34m.\u001b[0m\u001b[0mmodel\u001b[0m\u001b[0;34m,\u001b[0m \u001b[0mself\u001b[0m\u001b[0;34m.\u001b[0m\u001b[0mdataloader\u001b[0m\u001b[0;34m,\u001b[0m \u001b[0mshow\u001b[0m\u001b[0;34m=\u001b[0m\u001b[0;32mFalse\u001b[0m\u001b[0;34m)\u001b[0m\u001b[0;34m\u001b[0m\u001b[0;34m\u001b[0m\u001b[0m\n\u001b[0m\u001b[1;32m    148\u001b[0m         \u001b[0mkey_score\u001b[0m \u001b[0;34m=\u001b[0m \u001b[0mself\u001b[0m\u001b[0;34m.\u001b[0m\u001b[0mevaluate\u001b[0m\u001b[0;34m(\u001b[0m\u001b[0mrunner\u001b[0m\u001b[0;34m,\u001b[0m \u001b[0mresults\u001b[0m\u001b[0;34m)\u001b[0m\u001b[0;34m\u001b[0m\u001b[0;34m\u001b[0m\u001b[0m\n\u001b[1;32m    149\u001b[0m         \u001b[0;32mif\u001b[0m \u001b[0mself\u001b[0m\u001b[0;34m.\u001b[0m\u001b[0msave_best\u001b[0m\u001b[0;34m:\u001b[0m\u001b[0;34m\u001b[0m\u001b[0;34m\u001b[0m\u001b[0m\n",
      "\u001b[0;32m~/code/mmdetection_trash/mmdet/apis/test.py\u001b[0m in \u001b[0;36msingle_gpu_test\u001b[0;34m(model, data_loader, show, out_dir, show_score_thr)\u001b[0m\n\u001b[1;32m     25\u001b[0m     \u001b[0;32mfor\u001b[0m \u001b[0mi\u001b[0m\u001b[0;34m,\u001b[0m \u001b[0mdata\u001b[0m \u001b[0;32min\u001b[0m \u001b[0menumerate\u001b[0m\u001b[0;34m(\u001b[0m\u001b[0mdata_loader\u001b[0m\u001b[0;34m)\u001b[0m\u001b[0;34m:\u001b[0m\u001b[0;34m\u001b[0m\u001b[0;34m\u001b[0m\u001b[0m\n\u001b[1;32m     26\u001b[0m         \u001b[0;32mwith\u001b[0m \u001b[0mtorch\u001b[0m\u001b[0;34m.\u001b[0m\u001b[0mno_grad\u001b[0m\u001b[0;34m(\u001b[0m\u001b[0;34m)\u001b[0m\u001b[0;34m:\u001b[0m\u001b[0;34m\u001b[0m\u001b[0;34m\u001b[0m\u001b[0m\n\u001b[0;32m---> 27\u001b[0;31m             \u001b[0mresult\u001b[0m \u001b[0;34m=\u001b[0m \u001b[0mmodel\u001b[0m\u001b[0;34m(\u001b[0m\u001b[0mreturn_loss\u001b[0m\u001b[0;34m=\u001b[0m\u001b[0;32mFalse\u001b[0m\u001b[0;34m,\u001b[0m \u001b[0mrescale\u001b[0m\u001b[0;34m=\u001b[0m\u001b[0;32mTrue\u001b[0m\u001b[0;34m,\u001b[0m \u001b[0;34m**\u001b[0m\u001b[0mdata\u001b[0m\u001b[0;34m)\u001b[0m\u001b[0;34m\u001b[0m\u001b[0;34m\u001b[0m\u001b[0m\n\u001b[0m\u001b[1;32m     28\u001b[0m \u001b[0;34m\u001b[0m\u001b[0m\n\u001b[1;32m     29\u001b[0m         \u001b[0mbatch_size\u001b[0m \u001b[0;34m=\u001b[0m \u001b[0mlen\u001b[0m\u001b[0;34m(\u001b[0m\u001b[0mresult\u001b[0m\u001b[0;34m)\u001b[0m\u001b[0;34m\u001b[0m\u001b[0;34m\u001b[0m\u001b[0m\n",
      "\u001b[0;32m/opt/conda/lib/python3.7/site-packages/torch/nn/modules/module.py\u001b[0m in \u001b[0;36m_call_impl\u001b[0;34m(self, *input, **kwargs)\u001b[0m\n\u001b[1;32m    720\u001b[0m             \u001b[0mresult\u001b[0m \u001b[0;34m=\u001b[0m \u001b[0mself\u001b[0m\u001b[0;34m.\u001b[0m\u001b[0m_slow_forward\u001b[0m\u001b[0;34m(\u001b[0m\u001b[0;34m*\u001b[0m\u001b[0minput\u001b[0m\u001b[0;34m,\u001b[0m \u001b[0;34m**\u001b[0m\u001b[0mkwargs\u001b[0m\u001b[0;34m)\u001b[0m\u001b[0;34m\u001b[0m\u001b[0;34m\u001b[0m\u001b[0m\n\u001b[1;32m    721\u001b[0m         \u001b[0;32melse\u001b[0m\u001b[0;34m:\u001b[0m\u001b[0;34m\u001b[0m\u001b[0;34m\u001b[0m\u001b[0m\n\u001b[0;32m--> 722\u001b[0;31m             \u001b[0mresult\u001b[0m \u001b[0;34m=\u001b[0m \u001b[0mself\u001b[0m\u001b[0;34m.\u001b[0m\u001b[0mforward\u001b[0m\u001b[0;34m(\u001b[0m\u001b[0;34m*\u001b[0m\u001b[0minput\u001b[0m\u001b[0;34m,\u001b[0m \u001b[0;34m**\u001b[0m\u001b[0mkwargs\u001b[0m\u001b[0;34m)\u001b[0m\u001b[0;34m\u001b[0m\u001b[0;34m\u001b[0m\u001b[0m\n\u001b[0m\u001b[1;32m    723\u001b[0m         for hook in itertools.chain(\n\u001b[1;32m    724\u001b[0m                 \u001b[0m_global_forward_hooks\u001b[0m\u001b[0;34m.\u001b[0m\u001b[0mvalues\u001b[0m\u001b[0;34m(\u001b[0m\u001b[0;34m)\u001b[0m\u001b[0;34m,\u001b[0m\u001b[0;34m\u001b[0m\u001b[0;34m\u001b[0m\u001b[0m\n",
      "\u001b[0;32m/opt/conda/lib/python3.7/site-packages/mmcv/parallel/data_parallel.py\u001b[0m in \u001b[0;36mforward\u001b[0;34m(self, *inputs, **kwargs)\u001b[0m\n\u001b[1;32m     40\u001b[0m             \u001b[0;32mreturn\u001b[0m \u001b[0mself\u001b[0m\u001b[0;34m.\u001b[0m\u001b[0mmodule\u001b[0m\u001b[0;34m(\u001b[0m\u001b[0;34m*\u001b[0m\u001b[0minputs\u001b[0m\u001b[0;34m[\u001b[0m\u001b[0;36m0\u001b[0m\u001b[0;34m]\u001b[0m\u001b[0;34m,\u001b[0m \u001b[0;34m**\u001b[0m\u001b[0mkwargs\u001b[0m\u001b[0;34m[\u001b[0m\u001b[0;36m0\u001b[0m\u001b[0;34m]\u001b[0m\u001b[0;34m)\u001b[0m\u001b[0;34m\u001b[0m\u001b[0;34m\u001b[0m\u001b[0m\n\u001b[1;32m     41\u001b[0m         \u001b[0;32melse\u001b[0m\u001b[0;34m:\u001b[0m\u001b[0;34m\u001b[0m\u001b[0;34m\u001b[0m\u001b[0m\n\u001b[0;32m---> 42\u001b[0;31m             \u001b[0;32mreturn\u001b[0m \u001b[0msuper\u001b[0m\u001b[0;34m(\u001b[0m\u001b[0;34m)\u001b[0m\u001b[0;34m.\u001b[0m\u001b[0mforward\u001b[0m\u001b[0;34m(\u001b[0m\u001b[0;34m*\u001b[0m\u001b[0minputs\u001b[0m\u001b[0;34m,\u001b[0m \u001b[0;34m**\u001b[0m\u001b[0mkwargs\u001b[0m\u001b[0;34m)\u001b[0m\u001b[0;34m\u001b[0m\u001b[0;34m\u001b[0m\u001b[0m\n\u001b[0m\u001b[1;32m     43\u001b[0m \u001b[0;34m\u001b[0m\u001b[0m\n\u001b[1;32m     44\u001b[0m     \u001b[0;32mdef\u001b[0m \u001b[0mscatter\u001b[0m\u001b[0;34m(\u001b[0m\u001b[0mself\u001b[0m\u001b[0;34m,\u001b[0m \u001b[0minputs\u001b[0m\u001b[0;34m,\u001b[0m \u001b[0mkwargs\u001b[0m\u001b[0;34m,\u001b[0m \u001b[0mdevice_ids\u001b[0m\u001b[0;34m)\u001b[0m\u001b[0;34m:\u001b[0m\u001b[0;34m\u001b[0m\u001b[0;34m\u001b[0m\u001b[0m\n",
      "\u001b[0;32m/opt/conda/lib/python3.7/site-packages/torch/nn/parallel/data_parallel.py\u001b[0m in \u001b[0;36mforward\u001b[0;34m(self, *inputs, **kwargs)\u001b[0m\n\u001b[1;32m    151\u001b[0m         \u001b[0minputs\u001b[0m\u001b[0;34m,\u001b[0m \u001b[0mkwargs\u001b[0m \u001b[0;34m=\u001b[0m \u001b[0mself\u001b[0m\u001b[0;34m.\u001b[0m\u001b[0mscatter\u001b[0m\u001b[0;34m(\u001b[0m\u001b[0minputs\u001b[0m\u001b[0;34m,\u001b[0m \u001b[0mkwargs\u001b[0m\u001b[0;34m,\u001b[0m \u001b[0mself\u001b[0m\u001b[0;34m.\u001b[0m\u001b[0mdevice_ids\u001b[0m\u001b[0;34m)\u001b[0m\u001b[0;34m\u001b[0m\u001b[0;34m\u001b[0m\u001b[0m\n\u001b[1;32m    152\u001b[0m         \u001b[0;32mif\u001b[0m \u001b[0mlen\u001b[0m\u001b[0;34m(\u001b[0m\u001b[0mself\u001b[0m\u001b[0;34m.\u001b[0m\u001b[0mdevice_ids\u001b[0m\u001b[0;34m)\u001b[0m \u001b[0;34m==\u001b[0m \u001b[0;36m1\u001b[0m\u001b[0;34m:\u001b[0m\u001b[0;34m\u001b[0m\u001b[0;34m\u001b[0m\u001b[0m\n\u001b[0;32m--> 153\u001b[0;31m             \u001b[0;32mreturn\u001b[0m \u001b[0mself\u001b[0m\u001b[0;34m.\u001b[0m\u001b[0mmodule\u001b[0m\u001b[0;34m(\u001b[0m\u001b[0;34m*\u001b[0m\u001b[0minputs\u001b[0m\u001b[0;34m[\u001b[0m\u001b[0;36m0\u001b[0m\u001b[0;34m]\u001b[0m\u001b[0;34m,\u001b[0m \u001b[0;34m**\u001b[0m\u001b[0mkwargs\u001b[0m\u001b[0;34m[\u001b[0m\u001b[0;36m0\u001b[0m\u001b[0;34m]\u001b[0m\u001b[0;34m)\u001b[0m\u001b[0;34m\u001b[0m\u001b[0;34m\u001b[0m\u001b[0m\n\u001b[0m\u001b[1;32m    154\u001b[0m         \u001b[0mreplicas\u001b[0m \u001b[0;34m=\u001b[0m \u001b[0mself\u001b[0m\u001b[0;34m.\u001b[0m\u001b[0mreplicate\u001b[0m\u001b[0;34m(\u001b[0m\u001b[0mself\u001b[0m\u001b[0;34m.\u001b[0m\u001b[0mmodule\u001b[0m\u001b[0;34m,\u001b[0m \u001b[0mself\u001b[0m\u001b[0;34m.\u001b[0m\u001b[0mdevice_ids\u001b[0m\u001b[0;34m[\u001b[0m\u001b[0;34m:\u001b[0m\u001b[0mlen\u001b[0m\u001b[0;34m(\u001b[0m\u001b[0minputs\u001b[0m\u001b[0;34m)\u001b[0m\u001b[0;34m]\u001b[0m\u001b[0;34m)\u001b[0m\u001b[0;34m\u001b[0m\u001b[0;34m\u001b[0m\u001b[0m\n\u001b[1;32m    155\u001b[0m         \u001b[0moutputs\u001b[0m \u001b[0;34m=\u001b[0m \u001b[0mself\u001b[0m\u001b[0;34m.\u001b[0m\u001b[0mparallel_apply\u001b[0m\u001b[0;34m(\u001b[0m\u001b[0mreplicas\u001b[0m\u001b[0;34m,\u001b[0m \u001b[0minputs\u001b[0m\u001b[0;34m,\u001b[0m \u001b[0mkwargs\u001b[0m\u001b[0;34m)\u001b[0m\u001b[0;34m\u001b[0m\u001b[0;34m\u001b[0m\u001b[0m\n",
      "\u001b[0;32m/opt/conda/lib/python3.7/site-packages/torch/nn/modules/module.py\u001b[0m in \u001b[0;36m_call_impl\u001b[0;34m(self, *input, **kwargs)\u001b[0m\n\u001b[1;32m    720\u001b[0m             \u001b[0mresult\u001b[0m \u001b[0;34m=\u001b[0m \u001b[0mself\u001b[0m\u001b[0;34m.\u001b[0m\u001b[0m_slow_forward\u001b[0m\u001b[0;34m(\u001b[0m\u001b[0;34m*\u001b[0m\u001b[0minput\u001b[0m\u001b[0;34m,\u001b[0m \u001b[0;34m**\u001b[0m\u001b[0mkwargs\u001b[0m\u001b[0;34m)\u001b[0m\u001b[0;34m\u001b[0m\u001b[0;34m\u001b[0m\u001b[0m\n\u001b[1;32m    721\u001b[0m         \u001b[0;32melse\u001b[0m\u001b[0;34m:\u001b[0m\u001b[0;34m\u001b[0m\u001b[0;34m\u001b[0m\u001b[0m\n\u001b[0;32m--> 722\u001b[0;31m             \u001b[0mresult\u001b[0m \u001b[0;34m=\u001b[0m \u001b[0mself\u001b[0m\u001b[0;34m.\u001b[0m\u001b[0mforward\u001b[0m\u001b[0;34m(\u001b[0m\u001b[0;34m*\u001b[0m\u001b[0minput\u001b[0m\u001b[0;34m,\u001b[0m \u001b[0;34m**\u001b[0m\u001b[0mkwargs\u001b[0m\u001b[0;34m)\u001b[0m\u001b[0;34m\u001b[0m\u001b[0;34m\u001b[0m\u001b[0m\n\u001b[0m\u001b[1;32m    723\u001b[0m         for hook in itertools.chain(\n\u001b[1;32m    724\u001b[0m                 \u001b[0m_global_forward_hooks\u001b[0m\u001b[0;34m.\u001b[0m\u001b[0mvalues\u001b[0m\u001b[0;34m(\u001b[0m\u001b[0;34m)\u001b[0m\u001b[0;34m,\u001b[0m\u001b[0;34m\u001b[0m\u001b[0;34m\u001b[0m\u001b[0m\n",
      "\u001b[0;32m/opt/conda/lib/python3.7/site-packages/mmcv/runner/fp16_utils.py\u001b[0m in \u001b[0;36mnew_func\u001b[0;34m(*args, **kwargs)\u001b[0m\n\u001b[1;32m     93\u001b[0m                                 'method of nn.Module')\n\u001b[1;32m     94\u001b[0m             \u001b[0;32mif\u001b[0m \u001b[0;32mnot\u001b[0m \u001b[0;34m(\u001b[0m\u001b[0mhasattr\u001b[0m\u001b[0;34m(\u001b[0m\u001b[0margs\u001b[0m\u001b[0;34m[\u001b[0m\u001b[0;36m0\u001b[0m\u001b[0;34m]\u001b[0m\u001b[0;34m,\u001b[0m \u001b[0;34m'fp16_enabled'\u001b[0m\u001b[0;34m)\u001b[0m \u001b[0;32mand\u001b[0m \u001b[0margs\u001b[0m\u001b[0;34m[\u001b[0m\u001b[0;36m0\u001b[0m\u001b[0;34m]\u001b[0m\u001b[0;34m.\u001b[0m\u001b[0mfp16_enabled\u001b[0m\u001b[0;34m)\u001b[0m\u001b[0;34m:\u001b[0m\u001b[0;34m\u001b[0m\u001b[0;34m\u001b[0m\u001b[0m\n\u001b[0;32m---> 95\u001b[0;31m                 \u001b[0;32mreturn\u001b[0m \u001b[0mold_func\u001b[0m\u001b[0;34m(\u001b[0m\u001b[0;34m*\u001b[0m\u001b[0margs\u001b[0m\u001b[0;34m,\u001b[0m \u001b[0;34m**\u001b[0m\u001b[0mkwargs\u001b[0m\u001b[0;34m)\u001b[0m\u001b[0;34m\u001b[0m\u001b[0;34m\u001b[0m\u001b[0m\n\u001b[0m\u001b[1;32m     96\u001b[0m \u001b[0;34m\u001b[0m\u001b[0m\n\u001b[1;32m     97\u001b[0m             \u001b[0;31m# get the arg spec of the decorated method\u001b[0m\u001b[0;34m\u001b[0m\u001b[0;34m\u001b[0m\u001b[0;34m\u001b[0m\u001b[0m\n",
      "\u001b[0;32m~/code/mmdetection_trash/mmdet/models/detectors/base.py\u001b[0m in \u001b[0;36mforward\u001b[0;34m(self, img, img_metas, return_loss, **kwargs)\u001b[0m\n\u001b[1;32m    181\u001b[0m             \u001b[0;32mreturn\u001b[0m \u001b[0mself\u001b[0m\u001b[0;34m.\u001b[0m\u001b[0mforward_train\u001b[0m\u001b[0;34m(\u001b[0m\u001b[0mimg\u001b[0m\u001b[0;34m,\u001b[0m \u001b[0mimg_metas\u001b[0m\u001b[0;34m,\u001b[0m \u001b[0;34m**\u001b[0m\u001b[0mkwargs\u001b[0m\u001b[0;34m)\u001b[0m\u001b[0;34m\u001b[0m\u001b[0;34m\u001b[0m\u001b[0m\n\u001b[1;32m    182\u001b[0m         \u001b[0;32melse\u001b[0m\u001b[0;34m:\u001b[0m\u001b[0;34m\u001b[0m\u001b[0;34m\u001b[0m\u001b[0m\n\u001b[0;32m--> 183\u001b[0;31m             \u001b[0;32mreturn\u001b[0m \u001b[0mself\u001b[0m\u001b[0;34m.\u001b[0m\u001b[0mforward_test\u001b[0m\u001b[0;34m(\u001b[0m\u001b[0mimg\u001b[0m\u001b[0;34m,\u001b[0m \u001b[0mimg_metas\u001b[0m\u001b[0;34m,\u001b[0m \u001b[0;34m**\u001b[0m\u001b[0mkwargs\u001b[0m\u001b[0;34m)\u001b[0m\u001b[0;34m\u001b[0m\u001b[0;34m\u001b[0m\u001b[0m\n\u001b[0m\u001b[1;32m    184\u001b[0m \u001b[0;34m\u001b[0m\u001b[0m\n\u001b[1;32m    185\u001b[0m     \u001b[0;32mdef\u001b[0m \u001b[0m_parse_losses\u001b[0m\u001b[0;34m(\u001b[0m\u001b[0mself\u001b[0m\u001b[0;34m,\u001b[0m \u001b[0mlosses\u001b[0m\u001b[0;34m)\u001b[0m\u001b[0;34m:\u001b[0m\u001b[0;34m\u001b[0m\u001b[0;34m\u001b[0m\u001b[0m\n",
      "\u001b[0;32m~/code/mmdetection_trash/mmdet/models/detectors/base.py\u001b[0m in \u001b[0;36mforward_test\u001b[0;34m(self, imgs, img_metas, **kwargs)\u001b[0m\n\u001b[1;32m    158\u001b[0m             \u001b[0;32mif\u001b[0m \u001b[0;34m'proposals'\u001b[0m \u001b[0;32min\u001b[0m \u001b[0mkwargs\u001b[0m\u001b[0;34m:\u001b[0m\u001b[0;34m\u001b[0m\u001b[0;34m\u001b[0m\u001b[0m\n\u001b[1;32m    159\u001b[0m                 \u001b[0mkwargs\u001b[0m\u001b[0;34m[\u001b[0m\u001b[0;34m'proposals'\u001b[0m\u001b[0;34m]\u001b[0m \u001b[0;34m=\u001b[0m \u001b[0mkwargs\u001b[0m\u001b[0;34m[\u001b[0m\u001b[0;34m'proposals'\u001b[0m\u001b[0;34m]\u001b[0m\u001b[0;34m[\u001b[0m\u001b[0;36m0\u001b[0m\u001b[0;34m]\u001b[0m\u001b[0;34m\u001b[0m\u001b[0;34m\u001b[0m\u001b[0m\n\u001b[0;32m--> 160\u001b[0;31m             \u001b[0;32mreturn\u001b[0m \u001b[0mself\u001b[0m\u001b[0;34m.\u001b[0m\u001b[0msimple_test\u001b[0m\u001b[0;34m(\u001b[0m\u001b[0mimgs\u001b[0m\u001b[0;34m[\u001b[0m\u001b[0;36m0\u001b[0m\u001b[0;34m]\u001b[0m\u001b[0;34m,\u001b[0m \u001b[0mimg_metas\u001b[0m\u001b[0;34m[\u001b[0m\u001b[0;36m0\u001b[0m\u001b[0;34m]\u001b[0m\u001b[0;34m,\u001b[0m \u001b[0;34m**\u001b[0m\u001b[0mkwargs\u001b[0m\u001b[0;34m)\u001b[0m\u001b[0;34m\u001b[0m\u001b[0;34m\u001b[0m\u001b[0m\n\u001b[0m\u001b[1;32m    161\u001b[0m         \u001b[0;32melse\u001b[0m\u001b[0;34m:\u001b[0m\u001b[0;34m\u001b[0m\u001b[0;34m\u001b[0m\u001b[0m\n\u001b[1;32m    162\u001b[0m             \u001b[0;32massert\u001b[0m \u001b[0mimgs\u001b[0m\u001b[0;34m[\u001b[0m\u001b[0;36m0\u001b[0m\u001b[0;34m]\u001b[0m\u001b[0;34m.\u001b[0m\u001b[0msize\u001b[0m\u001b[0;34m(\u001b[0m\u001b[0;36m0\u001b[0m\u001b[0;34m)\u001b[0m \u001b[0;34m==\u001b[0m \u001b[0;36m1\u001b[0m\u001b[0;34m,\u001b[0m \u001b[0;34m'aug test does not support '\u001b[0m\u001b[0;31m \u001b[0m\u001b[0;31m\\\u001b[0m\u001b[0;34m\u001b[0m\u001b[0;34m\u001b[0m\u001b[0m\n",
      "\u001b[0;32m~/code/mmdetection_trash/mmdet/models/detectors/two_stage.py\u001b[0m in \u001b[0;36msimple_test\u001b[0;34m(self, img, img_metas, proposals, rescale)\u001b[0m\n\u001b[1;32m    189\u001b[0m         \u001b[0;32massert\u001b[0m \u001b[0mself\u001b[0m\u001b[0;34m.\u001b[0m\u001b[0mwith_bbox\u001b[0m\u001b[0;34m,\u001b[0m \u001b[0;34m'Bbox head must be implemented.'\u001b[0m\u001b[0;34m\u001b[0m\u001b[0;34m\u001b[0m\u001b[0m\n\u001b[1;32m    190\u001b[0m \u001b[0;34m\u001b[0m\u001b[0m\n\u001b[0;32m--> 191\u001b[0;31m         \u001b[0mx\u001b[0m \u001b[0;34m=\u001b[0m \u001b[0mself\u001b[0m\u001b[0;34m.\u001b[0m\u001b[0mextract_feat\u001b[0m\u001b[0;34m(\u001b[0m\u001b[0mimg\u001b[0m\u001b[0;34m)\u001b[0m\u001b[0;34m\u001b[0m\u001b[0;34m\u001b[0m\u001b[0m\n\u001b[0m\u001b[1;32m    192\u001b[0m \u001b[0;34m\u001b[0m\u001b[0m\n\u001b[1;32m    193\u001b[0m         \u001b[0;31m# get origin input shape to onnx dynamic input shape\u001b[0m\u001b[0;34m\u001b[0m\u001b[0;34m\u001b[0m\u001b[0;34m\u001b[0m\u001b[0m\n",
      "\u001b[0;32m~/code/mmdetection_trash/mmdet/models/detectors/two_stage.py\u001b[0m in \u001b[0;36mextract_feat\u001b[0;34m(self, img)\u001b[0m\n\u001b[1;32m     80\u001b[0m     \u001b[0;32mdef\u001b[0m \u001b[0mextract_feat\u001b[0m\u001b[0;34m(\u001b[0m\u001b[0mself\u001b[0m\u001b[0;34m,\u001b[0m \u001b[0mimg\u001b[0m\u001b[0;34m)\u001b[0m\u001b[0;34m:\u001b[0m\u001b[0;34m\u001b[0m\u001b[0;34m\u001b[0m\u001b[0m\n\u001b[1;32m     81\u001b[0m         \u001b[0;34m\"\"\"Directly extract features from the backbone+neck.\"\"\"\u001b[0m\u001b[0;34m\u001b[0m\u001b[0;34m\u001b[0m\u001b[0m\n\u001b[0;32m---> 82\u001b[0;31m         \u001b[0mx\u001b[0m \u001b[0;34m=\u001b[0m \u001b[0mself\u001b[0m\u001b[0;34m.\u001b[0m\u001b[0mbackbone\u001b[0m\u001b[0;34m(\u001b[0m\u001b[0mimg\u001b[0m\u001b[0;34m)\u001b[0m\u001b[0;34m\u001b[0m\u001b[0;34m\u001b[0m\u001b[0m\n\u001b[0m\u001b[1;32m     83\u001b[0m         \u001b[0;32mif\u001b[0m \u001b[0mself\u001b[0m\u001b[0;34m.\u001b[0m\u001b[0mwith_neck\u001b[0m\u001b[0;34m:\u001b[0m\u001b[0;34m\u001b[0m\u001b[0;34m\u001b[0m\u001b[0m\n\u001b[1;32m     84\u001b[0m             \u001b[0mx\u001b[0m \u001b[0;34m=\u001b[0m \u001b[0mself\u001b[0m\u001b[0;34m.\u001b[0m\u001b[0mneck\u001b[0m\u001b[0;34m(\u001b[0m\u001b[0mx\u001b[0m\u001b[0;34m)\u001b[0m\u001b[0;34m\u001b[0m\u001b[0;34m\u001b[0m\u001b[0m\n",
      "\u001b[0;32m/opt/conda/lib/python3.7/site-packages/torch/nn/modules/module.py\u001b[0m in \u001b[0;36m_call_impl\u001b[0;34m(self, *input, **kwargs)\u001b[0m\n\u001b[1;32m    720\u001b[0m             \u001b[0mresult\u001b[0m \u001b[0;34m=\u001b[0m \u001b[0mself\u001b[0m\u001b[0;34m.\u001b[0m\u001b[0m_slow_forward\u001b[0m\u001b[0;34m(\u001b[0m\u001b[0;34m*\u001b[0m\u001b[0minput\u001b[0m\u001b[0;34m,\u001b[0m \u001b[0;34m**\u001b[0m\u001b[0mkwargs\u001b[0m\u001b[0;34m)\u001b[0m\u001b[0;34m\u001b[0m\u001b[0;34m\u001b[0m\u001b[0m\n\u001b[1;32m    721\u001b[0m         \u001b[0;32melse\u001b[0m\u001b[0;34m:\u001b[0m\u001b[0;34m\u001b[0m\u001b[0;34m\u001b[0m\u001b[0m\n\u001b[0;32m--> 722\u001b[0;31m             \u001b[0mresult\u001b[0m \u001b[0;34m=\u001b[0m \u001b[0mself\u001b[0m\u001b[0;34m.\u001b[0m\u001b[0mforward\u001b[0m\u001b[0;34m(\u001b[0m\u001b[0;34m*\u001b[0m\u001b[0minput\u001b[0m\u001b[0;34m,\u001b[0m \u001b[0;34m**\u001b[0m\u001b[0mkwargs\u001b[0m\u001b[0;34m)\u001b[0m\u001b[0;34m\u001b[0m\u001b[0;34m\u001b[0m\u001b[0m\n\u001b[0m\u001b[1;32m    723\u001b[0m         for hook in itertools.chain(\n\u001b[1;32m    724\u001b[0m                 \u001b[0m_global_forward_hooks\u001b[0m\u001b[0;34m.\u001b[0m\u001b[0mvalues\u001b[0m\u001b[0;34m(\u001b[0m\u001b[0;34m)\u001b[0m\u001b[0;34m,\u001b[0m\u001b[0;34m\u001b[0m\u001b[0;34m\u001b[0m\u001b[0m\n",
      "\u001b[0;32m~/code/mmdetection_trash/mmdet/models/backbones/detectors_resnet.py\u001b[0m in \u001b[0;36mforward\u001b[0;34m(self, x)\u001b[0m\n\u001b[1;32m    281\u001b[0m     \u001b[0;32mdef\u001b[0m \u001b[0mforward\u001b[0m\u001b[0;34m(\u001b[0m\u001b[0mself\u001b[0m\u001b[0;34m,\u001b[0m \u001b[0mx\u001b[0m\u001b[0;34m)\u001b[0m\u001b[0;34m:\u001b[0m\u001b[0;34m\u001b[0m\u001b[0;34m\u001b[0m\u001b[0m\n\u001b[1;32m    282\u001b[0m         \u001b[0;34m\"\"\"Forward function.\"\"\"\u001b[0m\u001b[0;34m\u001b[0m\u001b[0;34m\u001b[0m\u001b[0m\n\u001b[0;32m--> 283\u001b[0;31m         \u001b[0mouts\u001b[0m \u001b[0;34m=\u001b[0m \u001b[0mlist\u001b[0m\u001b[0;34m(\u001b[0m\u001b[0msuper\u001b[0m\u001b[0;34m(\u001b[0m\u001b[0mDetectoRS_ResNet\u001b[0m\u001b[0;34m,\u001b[0m \u001b[0mself\u001b[0m\u001b[0;34m)\u001b[0m\u001b[0;34m.\u001b[0m\u001b[0mforward\u001b[0m\u001b[0;34m(\u001b[0m\u001b[0mx\u001b[0m\u001b[0;34m)\u001b[0m\u001b[0;34m)\u001b[0m\u001b[0;34m\u001b[0m\u001b[0;34m\u001b[0m\u001b[0m\n\u001b[0m\u001b[1;32m    284\u001b[0m         \u001b[0;32mif\u001b[0m \u001b[0mself\u001b[0m\u001b[0;34m.\u001b[0m\u001b[0moutput_img\u001b[0m\u001b[0;34m:\u001b[0m\u001b[0;34m\u001b[0m\u001b[0;34m\u001b[0m\u001b[0m\n\u001b[1;32m    285\u001b[0m             \u001b[0mouts\u001b[0m\u001b[0;34m.\u001b[0m\u001b[0minsert\u001b[0m\u001b[0;34m(\u001b[0m\u001b[0;36m0\u001b[0m\u001b[0;34m,\u001b[0m \u001b[0mx\u001b[0m\u001b[0;34m)\u001b[0m\u001b[0;34m\u001b[0m\u001b[0;34m\u001b[0m\u001b[0m\n",
      "\u001b[0;32m~/code/mmdetection_trash/mmdet/models/backbones/resnet.py\u001b[0m in \u001b[0;36mforward\u001b[0;34m(self, x)\u001b[0m\n\u001b[1;32m    632\u001b[0m         \u001b[0;32mfor\u001b[0m \u001b[0mi\u001b[0m\u001b[0;34m,\u001b[0m \u001b[0mlayer_name\u001b[0m \u001b[0;32min\u001b[0m \u001b[0menumerate\u001b[0m\u001b[0;34m(\u001b[0m\u001b[0mself\u001b[0m\u001b[0;34m.\u001b[0m\u001b[0mres_layers\u001b[0m\u001b[0;34m)\u001b[0m\u001b[0;34m:\u001b[0m\u001b[0;34m\u001b[0m\u001b[0;34m\u001b[0m\u001b[0m\n\u001b[1;32m    633\u001b[0m             \u001b[0mres_layer\u001b[0m \u001b[0;34m=\u001b[0m \u001b[0mgetattr\u001b[0m\u001b[0;34m(\u001b[0m\u001b[0mself\u001b[0m\u001b[0;34m,\u001b[0m \u001b[0mlayer_name\u001b[0m\u001b[0;34m)\u001b[0m\u001b[0;34m\u001b[0m\u001b[0;34m\u001b[0m\u001b[0m\n\u001b[0;32m--> 634\u001b[0;31m             \u001b[0mx\u001b[0m \u001b[0;34m=\u001b[0m \u001b[0mres_layer\u001b[0m\u001b[0;34m(\u001b[0m\u001b[0mx\u001b[0m\u001b[0;34m)\u001b[0m\u001b[0;34m\u001b[0m\u001b[0;34m\u001b[0m\u001b[0m\n\u001b[0m\u001b[1;32m    635\u001b[0m             \u001b[0;32mif\u001b[0m \u001b[0mi\u001b[0m \u001b[0;32min\u001b[0m \u001b[0mself\u001b[0m\u001b[0;34m.\u001b[0m\u001b[0mout_indices\u001b[0m\u001b[0;34m:\u001b[0m\u001b[0;34m\u001b[0m\u001b[0;34m\u001b[0m\u001b[0m\n\u001b[1;32m    636\u001b[0m                 \u001b[0mouts\u001b[0m\u001b[0;34m.\u001b[0m\u001b[0mappend\u001b[0m\u001b[0;34m(\u001b[0m\u001b[0mx\u001b[0m\u001b[0;34m)\u001b[0m\u001b[0;34m\u001b[0m\u001b[0;34m\u001b[0m\u001b[0m\n",
      "\u001b[0;32m/opt/conda/lib/python3.7/site-packages/torch/nn/modules/module.py\u001b[0m in \u001b[0;36m_call_impl\u001b[0;34m(self, *input, **kwargs)\u001b[0m\n\u001b[1;32m    720\u001b[0m             \u001b[0mresult\u001b[0m \u001b[0;34m=\u001b[0m \u001b[0mself\u001b[0m\u001b[0;34m.\u001b[0m\u001b[0m_slow_forward\u001b[0m\u001b[0;34m(\u001b[0m\u001b[0;34m*\u001b[0m\u001b[0minput\u001b[0m\u001b[0;34m,\u001b[0m \u001b[0;34m**\u001b[0m\u001b[0mkwargs\u001b[0m\u001b[0;34m)\u001b[0m\u001b[0;34m\u001b[0m\u001b[0;34m\u001b[0m\u001b[0m\n\u001b[1;32m    721\u001b[0m         \u001b[0;32melse\u001b[0m\u001b[0;34m:\u001b[0m\u001b[0;34m\u001b[0m\u001b[0;34m\u001b[0m\u001b[0m\n\u001b[0;32m--> 722\u001b[0;31m             \u001b[0mresult\u001b[0m \u001b[0;34m=\u001b[0m \u001b[0mself\u001b[0m\u001b[0;34m.\u001b[0m\u001b[0mforward\u001b[0m\u001b[0;34m(\u001b[0m\u001b[0;34m*\u001b[0m\u001b[0minput\u001b[0m\u001b[0;34m,\u001b[0m \u001b[0;34m**\u001b[0m\u001b[0mkwargs\u001b[0m\u001b[0;34m)\u001b[0m\u001b[0;34m\u001b[0m\u001b[0;34m\u001b[0m\u001b[0m\n\u001b[0m\u001b[1;32m    723\u001b[0m         for hook in itertools.chain(\n\u001b[1;32m    724\u001b[0m                 \u001b[0m_global_forward_hooks\u001b[0m\u001b[0;34m.\u001b[0m\u001b[0mvalues\u001b[0m\u001b[0;34m(\u001b[0m\u001b[0;34m)\u001b[0m\u001b[0;34m,\u001b[0m\u001b[0;34m\u001b[0m\u001b[0;34m\u001b[0m\u001b[0m\n",
      "\u001b[0;32m/opt/conda/lib/python3.7/site-packages/torch/nn/modules/container.py\u001b[0m in \u001b[0;36mforward\u001b[0;34m(self, input)\u001b[0m\n\u001b[1;32m    115\u001b[0m     \u001b[0;32mdef\u001b[0m \u001b[0mforward\u001b[0m\u001b[0;34m(\u001b[0m\u001b[0mself\u001b[0m\u001b[0;34m,\u001b[0m \u001b[0minput\u001b[0m\u001b[0;34m)\u001b[0m\u001b[0;34m:\u001b[0m\u001b[0;34m\u001b[0m\u001b[0;34m\u001b[0m\u001b[0m\n\u001b[1;32m    116\u001b[0m         \u001b[0;32mfor\u001b[0m \u001b[0mmodule\u001b[0m \u001b[0;32min\u001b[0m \u001b[0mself\u001b[0m\u001b[0;34m:\u001b[0m\u001b[0;34m\u001b[0m\u001b[0;34m\u001b[0m\u001b[0m\n\u001b[0;32m--> 117\u001b[0;31m             \u001b[0minput\u001b[0m \u001b[0;34m=\u001b[0m \u001b[0mmodule\u001b[0m\u001b[0;34m(\u001b[0m\u001b[0minput\u001b[0m\u001b[0;34m)\u001b[0m\u001b[0;34m\u001b[0m\u001b[0;34m\u001b[0m\u001b[0m\n\u001b[0m\u001b[1;32m    118\u001b[0m         \u001b[0;32mreturn\u001b[0m \u001b[0minput\u001b[0m\u001b[0;34m\u001b[0m\u001b[0;34m\u001b[0m\u001b[0m\n\u001b[1;32m    119\u001b[0m \u001b[0;34m\u001b[0m\u001b[0m\n",
      "\u001b[0;32m/opt/conda/lib/python3.7/site-packages/torch/nn/modules/module.py\u001b[0m in \u001b[0;36m_call_impl\u001b[0;34m(self, *input, **kwargs)\u001b[0m\n\u001b[1;32m    720\u001b[0m             \u001b[0mresult\u001b[0m \u001b[0;34m=\u001b[0m \u001b[0mself\u001b[0m\u001b[0;34m.\u001b[0m\u001b[0m_slow_forward\u001b[0m\u001b[0;34m(\u001b[0m\u001b[0;34m*\u001b[0m\u001b[0minput\u001b[0m\u001b[0;34m,\u001b[0m \u001b[0;34m**\u001b[0m\u001b[0mkwargs\u001b[0m\u001b[0;34m)\u001b[0m\u001b[0;34m\u001b[0m\u001b[0;34m\u001b[0m\u001b[0m\n\u001b[1;32m    721\u001b[0m         \u001b[0;32melse\u001b[0m\u001b[0;34m:\u001b[0m\u001b[0;34m\u001b[0m\u001b[0;34m\u001b[0m\u001b[0m\n\u001b[0;32m--> 722\u001b[0;31m             \u001b[0mresult\u001b[0m \u001b[0;34m=\u001b[0m \u001b[0mself\u001b[0m\u001b[0;34m.\u001b[0m\u001b[0mforward\u001b[0m\u001b[0;34m(\u001b[0m\u001b[0;34m*\u001b[0m\u001b[0minput\u001b[0m\u001b[0;34m,\u001b[0m \u001b[0;34m**\u001b[0m\u001b[0mkwargs\u001b[0m\u001b[0;34m)\u001b[0m\u001b[0;34m\u001b[0m\u001b[0;34m\u001b[0m\u001b[0m\n\u001b[0m\u001b[1;32m    723\u001b[0m         for hook in itertools.chain(\n\u001b[1;32m    724\u001b[0m                 \u001b[0m_global_forward_hooks\u001b[0m\u001b[0;34m.\u001b[0m\u001b[0mvalues\u001b[0m\u001b[0;34m(\u001b[0m\u001b[0;34m)\u001b[0m\u001b[0;34m,\u001b[0m\u001b[0;34m\u001b[0m\u001b[0;34m\u001b[0m\u001b[0m\n",
      "\u001b[0;32m~/code/mmdetection_trash/mmdet/models/backbones/resnet.py\u001b[0m in \u001b[0;36mforward\u001b[0;34m(self, x)\u001b[0m\n\u001b[1;32m    293\u001b[0m             \u001b[0mout\u001b[0m \u001b[0;34m=\u001b[0m \u001b[0mcp\u001b[0m\u001b[0;34m.\u001b[0m\u001b[0mcheckpoint\u001b[0m\u001b[0;34m(\u001b[0m\u001b[0m_inner_forward\u001b[0m\u001b[0;34m,\u001b[0m \u001b[0mx\u001b[0m\u001b[0;34m)\u001b[0m\u001b[0;34m\u001b[0m\u001b[0;34m\u001b[0m\u001b[0m\n\u001b[1;32m    294\u001b[0m         \u001b[0;32melse\u001b[0m\u001b[0;34m:\u001b[0m\u001b[0;34m\u001b[0m\u001b[0;34m\u001b[0m\u001b[0m\n\u001b[0;32m--> 295\u001b[0;31m             \u001b[0mout\u001b[0m \u001b[0;34m=\u001b[0m \u001b[0m_inner_forward\u001b[0m\u001b[0;34m(\u001b[0m\u001b[0mx\u001b[0m\u001b[0;34m)\u001b[0m\u001b[0;34m\u001b[0m\u001b[0;34m\u001b[0m\u001b[0m\n\u001b[0m\u001b[1;32m    296\u001b[0m \u001b[0;34m\u001b[0m\u001b[0m\n\u001b[1;32m    297\u001b[0m         \u001b[0mout\u001b[0m \u001b[0;34m=\u001b[0m \u001b[0mself\u001b[0m\u001b[0;34m.\u001b[0m\u001b[0mrelu\u001b[0m\u001b[0;34m(\u001b[0m\u001b[0mout\u001b[0m\u001b[0;34m)\u001b[0m\u001b[0;34m\u001b[0m\u001b[0;34m\u001b[0m\u001b[0m\n",
      "\u001b[0;32m~/code/mmdetection_trash/mmdet/models/backbones/resnet.py\u001b[0m in \u001b[0;36m_inner_forward\u001b[0;34m(x)\u001b[0m\n\u001b[1;32m    264\u001b[0m             \u001b[0midentity\u001b[0m \u001b[0;34m=\u001b[0m \u001b[0mx\u001b[0m\u001b[0;34m\u001b[0m\u001b[0;34m\u001b[0m\u001b[0m\n\u001b[1;32m    265\u001b[0m             \u001b[0mout\u001b[0m \u001b[0;34m=\u001b[0m \u001b[0mself\u001b[0m\u001b[0;34m.\u001b[0m\u001b[0mconv1\u001b[0m\u001b[0;34m(\u001b[0m\u001b[0mx\u001b[0m\u001b[0;34m)\u001b[0m\u001b[0;34m\u001b[0m\u001b[0;34m\u001b[0m\u001b[0m\n\u001b[0;32m--> 266\u001b[0;31m             \u001b[0mout\u001b[0m \u001b[0;34m=\u001b[0m \u001b[0mself\u001b[0m\u001b[0;34m.\u001b[0m\u001b[0mnorm1\u001b[0m\u001b[0;34m(\u001b[0m\u001b[0mout\u001b[0m\u001b[0;34m)\u001b[0m\u001b[0;34m\u001b[0m\u001b[0;34m\u001b[0m\u001b[0m\n\u001b[0m\u001b[1;32m    267\u001b[0m             \u001b[0mout\u001b[0m \u001b[0;34m=\u001b[0m \u001b[0mself\u001b[0m\u001b[0;34m.\u001b[0m\u001b[0mrelu\u001b[0m\u001b[0;34m(\u001b[0m\u001b[0mout\u001b[0m\u001b[0;34m)\u001b[0m\u001b[0;34m\u001b[0m\u001b[0;34m\u001b[0m\u001b[0m\n\u001b[1;32m    268\u001b[0m \u001b[0;34m\u001b[0m\u001b[0m\n",
      "\u001b[0;32m/opt/conda/lib/python3.7/site-packages/torch/nn/modules/module.py\u001b[0m in \u001b[0;36m_call_impl\u001b[0;34m(self, *input, **kwargs)\u001b[0m\n\u001b[1;32m    720\u001b[0m             \u001b[0mresult\u001b[0m \u001b[0;34m=\u001b[0m \u001b[0mself\u001b[0m\u001b[0;34m.\u001b[0m\u001b[0m_slow_forward\u001b[0m\u001b[0;34m(\u001b[0m\u001b[0;34m*\u001b[0m\u001b[0minput\u001b[0m\u001b[0;34m,\u001b[0m \u001b[0;34m**\u001b[0m\u001b[0mkwargs\u001b[0m\u001b[0;34m)\u001b[0m\u001b[0;34m\u001b[0m\u001b[0;34m\u001b[0m\u001b[0m\n\u001b[1;32m    721\u001b[0m         \u001b[0;32melse\u001b[0m\u001b[0;34m:\u001b[0m\u001b[0;34m\u001b[0m\u001b[0;34m\u001b[0m\u001b[0m\n\u001b[0;32m--> 722\u001b[0;31m             \u001b[0mresult\u001b[0m \u001b[0;34m=\u001b[0m \u001b[0mself\u001b[0m\u001b[0;34m.\u001b[0m\u001b[0mforward\u001b[0m\u001b[0;34m(\u001b[0m\u001b[0;34m*\u001b[0m\u001b[0minput\u001b[0m\u001b[0;34m,\u001b[0m \u001b[0;34m**\u001b[0m\u001b[0mkwargs\u001b[0m\u001b[0;34m)\u001b[0m\u001b[0;34m\u001b[0m\u001b[0;34m\u001b[0m\u001b[0m\n\u001b[0m\u001b[1;32m    723\u001b[0m         for hook in itertools.chain(\n\u001b[1;32m    724\u001b[0m                 \u001b[0m_global_forward_hooks\u001b[0m\u001b[0;34m.\u001b[0m\u001b[0mvalues\u001b[0m\u001b[0;34m(\u001b[0m\u001b[0;34m)\u001b[0m\u001b[0;34m,\u001b[0m\u001b[0;34m\u001b[0m\u001b[0;34m\u001b[0m\u001b[0m\n",
      "\u001b[0;32m/opt/conda/lib/python3.7/site-packages/torch/nn/modules/batchnorm.py\u001b[0m in \u001b[0;36mforward\u001b[0;34m(self, input)\u001b[0m\n\u001b[1;32m    134\u001b[0m             \u001b[0mself\u001b[0m\u001b[0;34m.\u001b[0m\u001b[0mrunning_mean\u001b[0m \u001b[0;32mif\u001b[0m \u001b[0;32mnot\u001b[0m \u001b[0mself\u001b[0m\u001b[0;34m.\u001b[0m\u001b[0mtraining\u001b[0m \u001b[0;32mor\u001b[0m \u001b[0mself\u001b[0m\u001b[0;34m.\u001b[0m\u001b[0mtrack_running_stats\u001b[0m \u001b[0;32melse\u001b[0m \u001b[0;32mNone\u001b[0m\u001b[0;34m,\u001b[0m\u001b[0;34m\u001b[0m\u001b[0;34m\u001b[0m\u001b[0m\n\u001b[1;32m    135\u001b[0m             \u001b[0mself\u001b[0m\u001b[0;34m.\u001b[0m\u001b[0mrunning_var\u001b[0m \u001b[0;32mif\u001b[0m \u001b[0;32mnot\u001b[0m \u001b[0mself\u001b[0m\u001b[0;34m.\u001b[0m\u001b[0mtraining\u001b[0m \u001b[0;32mor\u001b[0m \u001b[0mself\u001b[0m\u001b[0;34m.\u001b[0m\u001b[0mtrack_running_stats\u001b[0m \u001b[0;32melse\u001b[0m \u001b[0;32mNone\u001b[0m\u001b[0;34m,\u001b[0m\u001b[0;34m\u001b[0m\u001b[0;34m\u001b[0m\u001b[0m\n\u001b[0;32m--> 136\u001b[0;31m             self.weight, self.bias, bn_training, exponential_average_factor, self.eps)\n\u001b[0m\u001b[1;32m    137\u001b[0m \u001b[0;34m\u001b[0m\u001b[0m\n\u001b[1;32m    138\u001b[0m \u001b[0;34m\u001b[0m\u001b[0m\n",
      "\u001b[0;32m/opt/conda/lib/python3.7/site-packages/torch/nn/functional.py\u001b[0m in \u001b[0;36mbatch_norm\u001b[0;34m(input, running_mean, running_var, weight, bias, training, momentum, eps)\u001b[0m\n\u001b[1;32m   2014\u001b[0m     return torch.batch_norm(\n\u001b[1;32m   2015\u001b[0m         \u001b[0minput\u001b[0m\u001b[0;34m,\u001b[0m \u001b[0mweight\u001b[0m\u001b[0;34m,\u001b[0m \u001b[0mbias\u001b[0m\u001b[0;34m,\u001b[0m \u001b[0mrunning_mean\u001b[0m\u001b[0;34m,\u001b[0m \u001b[0mrunning_var\u001b[0m\u001b[0;34m,\u001b[0m\u001b[0;34m\u001b[0m\u001b[0;34m\u001b[0m\u001b[0m\n\u001b[0;32m-> 2016\u001b[0;31m         \u001b[0mtraining\u001b[0m\u001b[0;34m,\u001b[0m \u001b[0mmomentum\u001b[0m\u001b[0;34m,\u001b[0m \u001b[0meps\u001b[0m\u001b[0;34m,\u001b[0m \u001b[0mtorch\u001b[0m\u001b[0;34m.\u001b[0m\u001b[0mbackends\u001b[0m\u001b[0;34m.\u001b[0m\u001b[0mcudnn\u001b[0m\u001b[0;34m.\u001b[0m\u001b[0menabled\u001b[0m\u001b[0;34m\u001b[0m\u001b[0;34m\u001b[0m\u001b[0m\n\u001b[0m\u001b[1;32m   2017\u001b[0m     )\n\u001b[1;32m   2018\u001b[0m \u001b[0;34m\u001b[0m\u001b[0m\n",
      "\u001b[0;31mKeyboardInterrupt\u001b[0m: "
     ]
    }
   ],
   "source": [
    "train_detector(model, datasets[0], cfg, distributed=False, validate=True)"
   ]
  },
  {
   "cell_type": "code",
   "execution_count": null,
   "metadata": {},
   "outputs": [],
   "source": []
  },
  {
   "cell_type": "code",
   "execution_count": null,
   "metadata": {},
   "outputs": [],
   "source": []
  }
 ],
 "metadata": {
  "kernelspec": {
   "display_name": "Python 3",
   "language": "python",
   "name": "python3"
  },
  "language_info": {
   "codemirror_mode": {
    "name": "ipython",
    "version": 3
   },
   "file_extension": ".py",
   "mimetype": "text/x-python",
   "name": "python",
   "nbconvert_exporter": "python",
   "pygments_lexer": "ipython3",
   "version": "3.7.7"
  },
  "pycharm": {
   "stem_cell": {
    "cell_type": "raw",
    "metadata": {
     "collapsed": false
    },
    "source": []
   }
  }
 },
 "nbformat": 4,
 "nbformat_minor": 4
}
