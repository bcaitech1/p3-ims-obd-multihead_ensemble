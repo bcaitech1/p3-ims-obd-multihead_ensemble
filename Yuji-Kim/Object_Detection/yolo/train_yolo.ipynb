{
 "cells": [
  {
   "cell_type": "code",
   "execution_count": 10,
   "metadata": {
    "pycharm": {
     "name": "#%%\n"
    }
   },
   "outputs": [],
   "source": [
    "from mmcv import Config\n",
    "from mmdet.datasets import build_dataset\n",
    "from mmdet.models import build_detector\n",
    "from mmdet.apis import train_detector\n",
    "from mmdet.datasets import (build_dataloader, build_dataset,\n",
    "                            replace_ImageToTensor)"
   ]
  },
  {
   "cell_type": "code",
   "execution_count": 21,
   "metadata": {
    "pycharm": {
     "name": "#%%\n"
    }
   },
   "outputs": [],
   "source": [
    "classes = (\"UNKNOWN\", \"General trash\", \"Paper\", \"Paper pack\", \"Metal\", \"Glass\", \n",
    "           \"Plastic\", \"Styrofoam\", \"Plastic bag\", \"Battery\", \"Clothing\")\n",
    "# config file 들고오기\n",
    "# cfg = Config.fromfile('./configs/yolo/yolov3_d53_mstrain-608_273e_coco.py')\n",
    "cfg = Config.fromfile('./configs/trash/yolov3.py')\n",
    "\n",
    "PREFIX = '../../input/data/'\n",
    "\n",
    "\n",
    "# dataset 바꾸기\n",
    "cfg.data.train.classes = classes\n",
    "cfg.data.train.img_prefix = PREFIX\n",
    "cfg.data.train.ann_file = PREFIX + 'train.json'\n",
    "cfg.data.train.pipeline[5]['img_scale'] = (512, 512)\n",
    "\n",
    "cfg.data.val.classes = classes\n",
    "cfg.data.val.img_prefix = PREFIX\n",
    "cfg.data.val.ann_file = PREFIX + 'val.json'\n",
    "cfg.data.val.pipeline[1]['img_scale'] = (512, 512)\n",
    "\n",
    "cfg.data.test.classes = classes\n",
    "cfg.data.test.img_prefix = PREFIX\n",
    "cfg.data.test.ann_file = PREFIX + 'test.json'\n",
    "cfg.data.test.pipeline[1]['img_scale'] = (512, 512)\n",
    "\n",
    "cfg.data.samples_per_gpu = 32\n",
    "\n",
    "cfg.seed=2020\n",
    "cfg.gpu_ids = [0]\n",
    "cfg.work_dir = './work_dirs/yolov3'\n",
    "\n",
    "cfg.model.bbox_head.num_classes = 11\n",
    "\n",
    "# cfg.optimizer_config.grad_clip = dict(max_norm=35, norm_type=2)"
   ]
  },
  {
   "cell_type": "code",
   "execution_count": 22,
   "metadata": {},
   "outputs": [
    {
     "data": {
      "text/plain": [
       "{'type': 'Resize', 'img_scale': (512, 512), 'keep_ratio': True}"
      ]
     },
     "execution_count": 22,
     "metadata": {},
     "output_type": "execute_result"
    }
   ],
   "source": [
    "cfg.data.train.pipeline[5]"
   ]
  },
  {
   "cell_type": "code",
   "execution_count": 23,
   "metadata": {},
   "outputs": [
    {
     "data": {
      "text/plain": [
       "{'type': 'MultiScaleFlipAug',\n",
       " 'img_scale': (512, 512),\n",
       " 'flip': False,\n",
       " 'transforms': [{'type': 'Resize', 'keep_ratio': True},\n",
       "  {'type': 'RandomFlip'},\n",
       "  {'type': 'Normalize',\n",
       "   'mean': [0, 0, 0],\n",
       "   'std': [255.0, 255.0, 255.0],\n",
       "   'to_rgb': True},\n",
       "  {'type': 'Pad', 'size_divisor': 32},\n",
       "  {'type': 'ImageToTensor', 'keys': ['img']},\n",
       "  {'type': 'Collect', 'keys': ['img']}]}"
      ]
     },
     "execution_count": 23,
     "metadata": {},
     "output_type": "execute_result"
    }
   ],
   "source": [
    "cfg.data.val.pipeline[1]"
   ]
  },
  {
   "cell_type": "code",
   "execution_count": 24,
   "metadata": {
    "pycharm": {
     "name": "#%%\n"
    }
   },
   "outputs": [
    {
     "name": "stderr",
     "output_type": "stream",
     "text": [
      "2021-05-15 18:21:24,188 - mmdet - INFO - load model from: open-mmlab://darknet53\n"
     ]
    }
   ],
   "source": [
    "model = build_detector(cfg.model)"
   ]
  },
  {
   "cell_type": "code",
   "execution_count": 25,
   "metadata": {
    "pycharm": {
     "name": "#%%\n"
    }
   },
   "outputs": [
    {
     "name": "stdout",
     "output_type": "stream",
     "text": [
      "loading annotations into memory...\n",
      "Done (t=4.21s)\n",
      "creating index...\n",
      "index created!\n"
     ]
    }
   ],
   "source": [
    "datasets = [build_dataset(cfg.data.train)]"
   ]
  },
  {
   "cell_type": "code",
   "execution_count": 26,
   "metadata": {
    "pycharm": {
     "name": "#%%\n"
    }
   },
   "outputs": [
    {
     "name": "stdout",
     "output_type": "stream",
     "text": [
      "loading annotations into memory...\n"
     ]
    },
    {
     "name": "stderr",
     "output_type": "stream",
     "text": [
      "2021-05-15 18:21:31,345 - mmdet - INFO - Start running, host: root@45fd1f8b8b06, work_dir: /opt/ml/code/mmdetection_trash/work_dirs/yolov3\n",
      "2021-05-15 18:21:31,346 - mmdet - INFO - workflow: [('train', 1)], max: 30 epochs\n"
     ]
    },
    {
     "name": "stdout",
     "output_type": "stream",
     "text": [
      "Done (t=0.94s)\n",
      "creating index...\n",
      "index created!\n"
     ]
    },
    {
     "name": "stderr",
     "output_type": "stream",
     "text": [
      "/opt/ml/code/mmdetection_trash/mmdet/core/evaluation/eval_hooks.py:112: UserWarning: runner.meta is None. Creating a empty one.\n",
      "  warnings.warn('runner.meta is None. Creating a empty one.')\n",
      "\u001b[34m\u001b[1mwandb\u001b[0m: Currently logged in as: \u001b[33mug_kim\u001b[0m (use `wandb login --relogin` to force relogin)\n"
     ]
    },
    {
     "data": {
      "text/html": [
       "\n",
       "                Tracking run with wandb version 0.10.30<br/>\n",
       "                Syncing run <strong style=\"color:#cdcd00\">Yolo-v3</strong> to <a href=\"https://wandb.ai\" target=\"_blank\">Weights & Biases</a> <a href=\"https://docs.wandb.com/integrations/jupyter.html\" target=\"_blank\">(Documentation)</a>.<br/>\n",
       "                Project page: <a href=\"https://wandb.ai/ug_kim/P-stage3-detection\" target=\"_blank\">https://wandb.ai/ug_kim/P-stage3-detection</a><br/>\n",
       "                Run page: <a href=\"https://wandb.ai/ug_kim/P-stage3-detection/runs/30tgxotn\" target=\"_blank\">https://wandb.ai/ug_kim/P-stage3-detection/runs/30tgxotn</a><br/>\n",
       "                Run data is saved locally in <code>/opt/ml/code/mmdetection_trash/wandb/run-20210515_182131-30tgxotn</code><br/><br/>\n",
       "            "
      ],
      "text/plain": [
       "<IPython.core.display.HTML object>"
      ]
     },
     "metadata": {},
     "output_type": "display_data"
    },
    {
     "name": "stderr",
     "output_type": "stream",
     "text": [
      "2021-05-15 18:21:52,149 - mmdet - INFO - Epoch [1][50/655]\tlr: 9.890e-07, eta: 1:46:46, time: 0.327, data_time: 0.060, memory: 3406, loss_cls: 288.5938, loss_conf: 45054.7694, loss_xy: 105.5056, loss_wh: 22.2204, loss: 45471.0885, grad_norm: 85888.8942\n",
      "2021-05-15 18:22:05,416 - mmdet - INFO - Epoch [1][100/655]\tlr: 1.988e-06, eta: 1:36:28, time: 0.265, data_time: 0.007, memory: 3406, loss_cls: 300.9723, loss_conf: 44682.4098, loss_xy: 110.9741, loss_wh: 29.1845, loss: 45123.5405, grad_norm: 85493.8627\n",
      "2021-05-15 18:22:19,117 - mmdet - INFO - Epoch [1][150/655]\tlr: 2.987e-06, eta: 1:33:50, time: 0.274, data_time: 0.007, memory: 3406, loss_cls: 262.8833, loss_conf: 44151.7454, loss_xy: 99.0052, loss_wh: 22.6772, loss: 44536.3116, grad_norm: 84472.3108\n",
      "2021-05-15 18:22:33,203 - mmdet - INFO - Epoch [1][200/655]\tlr: 3.986e-06, eta: 1:33:01, time: 0.282, data_time: 0.007, memory: 3406, loss_cls: 252.6452, loss_conf: 43461.0580, loss_xy: 97.7866, loss_wh: 21.1701, loss: 43832.6599, grad_norm: 84311.3517\n",
      "2021-05-15 18:22:46,567 - mmdet - INFO - Epoch [1][250/655]\tlr: 4.985e-06, eta: 1:31:31, time: 0.267, data_time: 0.007, memory: 3406, loss_cls: 223.5375, loss_conf: 42513.8193, loss_xy: 90.2431, loss_wh: 18.6870, loss: 42846.2867, grad_norm: 83206.1641\n",
      "2021-05-15 18:22:59,946 - mmdet - INFO - Epoch [1][300/655]\tlr: 5.984e-06, eta: 1:30:26, time: 0.268, data_time: 0.007, memory: 3406, loss_cls: 233.7468, loss_conf: 41407.0159, loss_xy: 98.5689, loss_wh: 20.6711, loss: 41760.0030, grad_norm: 82510.7408\n",
      "2021-05-15 18:23:13,434 - mmdet - INFO - Epoch [1][350/655]\tlr: 6.983e-06, eta: 1:29:43, time: 0.270, data_time: 0.008, memory: 3406, loss_cls: 229.7191, loss_conf: 40069.4424, loss_xy: 103.5140, loss_wh: 20.4222, loss: 40423.0979, grad_norm: 80601.1652\n",
      "2021-05-15 18:23:26,868 - mmdet - INFO - Epoch [1][400/655]\tlr: 7.982e-06, eta: 1:29:04, time: 0.269, data_time: 0.008, memory: 3406, loss_cls: 195.6680, loss_conf: 38452.9244, loss_xy: 95.2899, loss_wh: 20.2319, loss: 38764.1137, grad_norm: 79238.1277\n",
      "2021-05-15 18:23:40,239 - mmdet - INFO - Epoch [1][450/655]\tlr: 8.981e-06, eta: 1:28:29, time: 0.267, data_time: 0.008, memory: 3406, loss_cls: 205.8961, loss_conf: 36648.9018, loss_xy: 104.2299, loss_wh: 18.7900, loss: 36977.8178, grad_norm: 76967.2448\n",
      "2021-05-15 18:23:53,593 - mmdet - INFO - Epoch [1][500/655]\tlr: 9.980e-06, eta: 1:27:57, time: 0.267, data_time: 0.008, memory: 3406, loss_cls: 192.4002, loss_conf: 34491.6027, loss_xy: 98.1782, loss_wh: 16.0009, loss: 34798.1818, grad_norm: 76031.7239\n",
      "2021-05-15 18:24:06,862 - mmdet - INFO - Epoch [1][550/655]\tlr: 1.000e-05, eta: 1:27:25, time: 0.265, data_time: 0.007, memory: 3406, loss_cls: 199.9345, loss_conf: 31805.0197, loss_xy: 98.0966, loss_wh: 14.8982, loss: 32117.9490, grad_norm: 71899.8217\n",
      "2021-05-15 18:24:19,937 - mmdet - INFO - Epoch [1][600/655]\tlr: 1.000e-05, eta: 1:26:51, time: 0.261, data_time: 0.007, memory: 3406, loss_cls: 187.3297, loss_conf: 29952.2052, loss_xy: 91.1981, loss_wh: 13.2748, loss: 30244.0076, grad_norm: 70742.5144\n",
      "2021-05-15 18:24:33,207 - mmdet - INFO - Epoch [1][650/655]\tlr: 1.000e-05, eta: 1:26:25, time: 0.265, data_time: 0.007, memory: 3406, loss_cls: 191.0813, loss_conf: 28213.2406, loss_xy: 93.2267, loss_wh: 13.8529, loss: 28511.4014, grad_norm: 68939.4802\n",
      "2021-05-15 18:24:34,721 - mmdet - INFO - Saving checkpoint at 1 epochs\n"
     ]
    },
    {
     "name": "stdout",
     "output_type": "stream",
     "text": [
      "[>>>>>>>>>>>>>>>>>>>>>>>>>>>>>] 655/655, 21.0 task/s, elapsed: 31s, ETA:     0s"
     ]
    },
    {
     "name": "stderr",
     "output_type": "stream",
     "text": [
      "2021-05-15 18:25:09,455 - mmdet - INFO - Evaluating bbox...\n"
     ]
    },
    {
     "name": "stdout",
     "output_type": "stream",
     "text": [
      "Loading and preparing results...\n",
      "DONE (t=1.70s)\n",
      "creating index...\n",
      "index created!\n",
      "Running per image evaluation...\n",
      "Evaluate annotation type *bbox*\n",
      "DONE (t=5.20s).\n",
      "Accumulating evaluation results...\n",
      "DONE (t=1.62s).\n",
      "Average Precision  (AP) @[ IoU=0.50:0.95 | area=   all | maxDets=100 ] = 0.000\n",
      "Average Precision  (AP) @[ IoU=0.50      | area=   all | maxDets=1000 ] = 0.000\n",
      "Average Precision  (AP) @[ IoU=0.75      | area=   all | maxDets=1000 ] = 0.000\n",
      "Average Precision  (AP) @[ IoU=0.50:0.95 | area= small | maxDets=1000 ] = 0.000\n",
      "Average Precision  (AP) @[ IoU=0.50:0.95 | area=medium | maxDets=1000 ] = 0.000\n",
      "Average Precision  (AP) @[ IoU=0.50:0.95 | area= large | maxDets=1000 ] = 0.000\n",
      "Average Recall     (AR) @[ IoU=0.50:0.95 | area=   all | maxDets=100 ] = 0.000\n",
      "Average Recall     (AR) @[ IoU=0.50:0.95 | area=   all | maxDets=300 ] = 0.000\n",
      "Average Recall     (AR) @[ IoU=0.50:0.95 | area=   all | maxDets=1000 ] = 0.000\n",
      "Average Recall     (AR) @[ IoU=0.50:0.95 | area= small | maxDets=1000 ] = 0.000\n",
      "Average Recall     (AR) @[ IoU=0.50:0.95 | area=medium | maxDets=1000 ] = 0.000\n",
      "Average Recall     (AR) @[ IoU=0.50:0.95 | area= large | maxDets=1000 ] = 0.000\n"
     ]
    },
    {
     "name": "stderr",
     "output_type": "stream",
     "text": [
      "2021-05-15 18:25:19,092 - mmdet - INFO - Now best checkpoint is epoch_1.pth.Best bbox_mAP_50 is 0.0000\n",
      "2021-05-15 18:25:19,098 - mmdet - INFO - Epoch(val) [1][655]\tbbox_mAP: 0.0000, bbox_mAP_50: 0.0000, bbox_mAP_75: 0.0000, bbox_mAP_s: 0.0000, bbox_mAP_m: 0.0000, bbox_mAP_l: 0.0000, bbox_mAP_copypaste: 0.000 0.000 0.000 0.000 0.000 0.000\n",
      "2021-05-15 18:25:35,568 - mmdet - INFO - Epoch [2][50/655]\tlr: 1.000e-05, eta: 1:26:49, time: 0.329, data_time: 0.058, memory: 3406, loss_cls: 210.3122, loss_conf: 26795.2231, loss_xy: 106.6242, loss_wh: 14.9197, loss: 27127.0795, grad_norm: 66566.3430\n",
      "2021-05-15 18:25:48,874 - mmdet - INFO - Epoch [2][100/655]\tlr: 1.000e-05, eta: 1:26:24, time: 0.266, data_time: 0.007, memory: 3406, loss_cls: 201.4763, loss_conf: 25519.5298, loss_xy: 107.3643, loss_wh: 15.9948, loss: 25844.3652, grad_norm: 63415.8996\n",
      "2021-05-15 18:26:02,018 - mmdet - INFO - Epoch [2][150/655]\tlr: 1.000e-05, eta: 1:25:57, time: 0.263, data_time: 0.007, memory: 3406, loss_cls: 196.5682, loss_conf: 24413.0556, loss_xy: 106.4345, loss_wh: 14.5467, loss: 24730.6049, grad_norm: 63244.7645\n",
      "2021-05-15 18:26:15,105 - mmdet - INFO - Epoch [2][200/655]\tlr: 1.000e-05, eta: 1:25:30, time: 0.262, data_time: 0.007, memory: 3406, loss_cls: 150.8820, loss_conf: 23163.6549, loss_xy: 85.4952, loss_wh: 12.6107, loss: 23412.6427, grad_norm: 60264.6118\n",
      "2021-05-15 18:26:28,297 - mmdet - INFO - Epoch [2][250/655]\tlr: 1.000e-05, eta: 1:25:07, time: 0.264, data_time: 0.007, memory: 3406, loss_cls: 165.5775, loss_conf: 22235.8159, loss_xy: 95.8240, loss_wh: 12.7437, loss: 22509.9610, grad_norm: 59542.8874\n",
      "2021-05-15 18:26:41,556 - mmdet - INFO - Epoch [2][300/655]\tlr: 1.000e-05, eta: 1:24:46, time: 0.265, data_time: 0.007, memory: 3406, loss_cls: 181.3491, loss_conf: 21212.9870, loss_xy: 100.9724, loss_wh: 16.0107, loss: 21511.3194, grad_norm: 56344.0497\n",
      "2021-05-15 18:26:54,667 - mmdet - INFO - Epoch [2][350/655]\tlr: 1.000e-05, eta: 1:24:23, time: 0.262, data_time: 0.007, memory: 3406, loss_cls: 149.4909, loss_conf: 20278.3596, loss_xy: 89.1782, loss_wh: 13.7995, loss: 20530.8280, grad_norm: 54422.3797\n",
      "2021-05-15 18:27:07,954 - mmdet - INFO - Epoch [2][400/655]\tlr: 1.000e-05, eta: 1:24:05, time: 0.266, data_time: 0.007, memory: 3406, loss_cls: 170.1120, loss_conf: 19380.3675, loss_xy: 103.4752, loss_wh: 14.9998, loss: 19668.9545, grad_norm: 53603.7155\n",
      "2021-05-15 18:27:21,376 - mmdet - INFO - Epoch [2][450/655]\tlr: 1.000e-05, eta: 1:23:49, time: 0.268, data_time: 0.007, memory: 3406, loss_cls: 147.8412, loss_conf: 18467.1378, loss_xy: 93.0260, loss_wh: 12.7802, loss: 18720.7851, grad_norm: 51058.7546\n",
      "2021-05-15 18:27:34,718 - mmdet - INFO - Epoch [2][500/655]\tlr: 1.000e-05, eta: 1:23:32, time: 0.267, data_time: 0.007, memory: 3406, loss_cls: 171.1176, loss_conf: 17686.8886, loss_xy: 109.3496, loss_wh: 15.9392, loss: 17983.2950, grad_norm: 50356.8723\n",
      "2021-05-15 18:27:48,050 - mmdet - INFO - Epoch [2][550/655]\tlr: 1.000e-05, eta: 1:23:15, time: 0.267, data_time: 0.007, memory: 3406, loss_cls: 158.5939, loss_conf: 16834.8248, loss_xy: 102.3049, loss_wh: 15.6981, loss: 17111.4215, grad_norm: 47999.1874\n",
      "2021-05-15 18:28:01,339 - mmdet - INFO - Epoch [2][600/655]\tlr: 1.000e-05, eta: 1:22:57, time: 0.266, data_time: 0.007, memory: 3406, loss_cls: 138.4423, loss_conf: 16072.7232, loss_xy: 93.2447, loss_wh: 16.3910, loss: 16320.8012, grad_norm: 46433.1952\n",
      "2021-05-15 18:28:14,623 - mmdet - INFO - Epoch [2][650/655]\tlr: 1.000e-05, eta: 1:22:40, time: 0.266, data_time: 0.007, memory: 3406, loss_cls: 135.1950, loss_conf: 15396.5867, loss_xy: 91.9710, loss_wh: 14.7419, loss: 15638.4946, grad_norm: 44942.5459\n",
      "2021-05-15 18:28:16,052 - mmdet - INFO - Saving checkpoint at 2 epochs\n"
     ]
    },
    {
     "name": "stdout",
     "output_type": "stream",
     "text": [
      "[>>>>>>>>>>>>>>>>>>>>>>>>>>>>>] 655/655, 20.5 task/s, elapsed: 32s, ETA:     0s"
     ]
    },
    {
     "name": "stderr",
     "output_type": "stream",
     "text": [
      "2021-05-15 18:28:52,474 - mmdet - INFO - Evaluating bbox...\n"
     ]
    },
    {
     "name": "stdout",
     "output_type": "stream",
     "text": [
      "Loading and preparing results...\n",
      "DONE (t=1.03s)\n",
      "creating index...\n",
      "index created!\n",
      "Running per image evaluation...\n",
      "Evaluate annotation type *bbox*\n",
      "DONE (t=5.42s).\n",
      "Accumulating evaluation results...\n"
     ]
    },
    {
     "name": "stderr",
     "output_type": "stream",
     "text": [
      "2021-05-15 18:29:00,809 - mmdet - INFO - Epoch(val) [2][655]\tbbox_mAP: 0.0000, bbox_mAP_50: 0.0000, bbox_mAP_75: 0.0000, bbox_mAP_s: 0.0000, bbox_mAP_m: 0.0000, bbox_mAP_l: 0.0000, bbox_mAP_copypaste: 0.000 0.000 0.000 0.000 0.000 0.000\n"
     ]
    },
    {
     "name": "stdout",
     "output_type": "stream",
     "text": [
      "DONE (t=1.72s).\n",
      "Average Precision  (AP) @[ IoU=0.50:0.95 | area=   all | maxDets=100 ] = 0.000\n",
      "Average Precision  (AP) @[ IoU=0.50      | area=   all | maxDets=1000 ] = 0.000\n",
      "Average Precision  (AP) @[ IoU=0.75      | area=   all | maxDets=1000 ] = 0.000\n",
      "Average Precision  (AP) @[ IoU=0.50:0.95 | area= small | maxDets=1000 ] = 0.000\n",
      "Average Precision  (AP) @[ IoU=0.50:0.95 | area=medium | maxDets=1000 ] = 0.000\n",
      "Average Precision  (AP) @[ IoU=0.50:0.95 | area= large | maxDets=1000 ] = 0.000\n",
      "Average Recall     (AR) @[ IoU=0.50:0.95 | area=   all | maxDets=100 ] = 0.000\n",
      "Average Recall     (AR) @[ IoU=0.50:0.95 | area=   all | maxDets=300 ] = 0.000\n",
      "Average Recall     (AR) @[ IoU=0.50:0.95 | area=   all | maxDets=1000 ] = 0.000\n",
      "Average Recall     (AR) @[ IoU=0.50:0.95 | area= small | maxDets=1000 ] = 0.000\n",
      "Average Recall     (AR) @[ IoU=0.50:0.95 | area=medium | maxDets=1000 ] = 0.000\n",
      "Average Recall     (AR) @[ IoU=0.50:0.95 | area= large | maxDets=1000 ] = 0.000\n"
     ]
    },
    {
     "name": "stderr",
     "output_type": "stream",
     "text": [
      "2021-05-15 18:29:16,779 - mmdet - INFO - Epoch [3][50/655]\tlr: 1.000e-05, eta: 1:22:40, time: 0.319, data_time: 0.059, memory: 3406, loss_cls: 169.5466, loss_conf: 14609.3003, loss_xy: 112.6284, loss_wh: 17.8567, loss: 14909.3321, grad_norm: 44362.4384\n",
      "2021-05-15 18:29:29,896 - mmdet - INFO - Epoch [3][100/655]\tlr: 1.000e-05, eta: 1:22:21, time: 0.262, data_time: 0.007, memory: 3406, loss_cls: 128.9275, loss_conf: 13920.3014, loss_xy: 93.6000, loss_wh: 12.8615, loss: 14155.6903, grad_norm: 41723.4091\n",
      "2021-05-15 18:29:43,148 - mmdet - INFO - Epoch [3][150/655]\tlr: 1.000e-05, eta: 1:22:04, time: 0.265, data_time: 0.007, memory: 3406, loss_cls: 164.5188, loss_conf: 13222.5715, loss_xy: 112.4170, loss_wh: 18.7476, loss: 13518.2551, grad_norm: 40088.6979\n",
      "2021-05-15 18:29:56,328 - mmdet - INFO - Epoch [3][200/655]\tlr: 1.000e-05, eta: 1:21:46, time: 0.264, data_time: 0.007, memory: 3406, loss_cls: 151.7307, loss_conf: 12623.1790, loss_xy: 104.3460, loss_wh: 14.5391, loss: 12893.7949, grad_norm: 38947.7823\n",
      "2021-05-15 18:30:09,536 - mmdet - INFO - Epoch [3][250/655]\tlr: 1.000e-05, eta: 1:21:29, time: 0.264, data_time: 0.007, memory: 3406, loss_cls: 120.5068, loss_conf: 12006.0865, loss_xy: 90.7184, loss_wh: 13.2262, loss: 12230.5379, grad_norm: 37951.9852\n",
      "2021-05-15 18:30:23,055 - mmdet - INFO - Epoch [3][300/655]\tlr: 1.000e-05, eta: 1:21:15, time: 0.270, data_time: 0.007, memory: 3406, loss_cls: 114.8614, loss_conf: 11402.2997, loss_xy: 87.8956, loss_wh: 12.9229, loss: 11617.9795, grad_norm: 35880.0080\n",
      "2021-05-15 18:30:36,539 - mmdet - INFO - Epoch [3][350/655]\tlr: 1.000e-05, eta: 1:21:01, time: 0.270, data_time: 0.007, memory: 3406, loss_cls: 142.1915, loss_conf: 10849.3427, loss_xy: 103.1746, loss_wh: 14.7899, loss: 11109.4986, grad_norm: 34504.5266\n",
      "2021-05-15 18:30:49,892 - mmdet - INFO - Epoch [3][400/655]\tlr: 1.000e-05, eta: 1:20:46, time: 0.267, data_time: 0.007, memory: 3406, loss_cls: 131.3517, loss_conf: 10312.4897, loss_xy: 99.8345, loss_wh: 14.3742, loss: 10558.0502, grad_norm: 33957.1193\n",
      "2021-05-15 18:31:03,152 - mmdet - INFO - Epoch [3][450/655]\tlr: 1.000e-05, eta: 1:20:30, time: 0.265, data_time: 0.007, memory: 3406, loss_cls: 123.1741, loss_conf: 9804.0679, loss_xy: 91.1868, loss_wh: 14.0816, loss: 10032.5103, grad_norm: 31873.7444\n",
      "2021-05-15 18:31:16,382 - mmdet - INFO - Epoch [3][500/655]\tlr: 1.000e-05, eta: 1:20:14, time: 0.265, data_time: 0.007, memory: 3406, loss_cls: 117.7606, loss_conf: 9303.7487, loss_xy: 91.5138, loss_wh: 12.9718, loss: 9525.9948, grad_norm: 30416.0397\n",
      "2021-05-15 18:31:29,671 - mmdet - INFO - Epoch [3][550/655]\tlr: 1.000e-05, eta: 1:19:59, time: 0.266, data_time: 0.007, memory: 3406, loss_cls: 116.1623, loss_conf: 8856.0414, loss_xy: 93.7948, loss_wh: 12.2681, loss: 9078.2666, grad_norm: 30724.4116\n",
      "2021-05-15 18:31:42,837 - mmdet - INFO - Epoch [3][600/655]\tlr: 1.000e-05, eta: 1:19:42, time: 0.263, data_time: 0.007, memory: 3406, loss_cls: 126.3895, loss_conf: 8378.9747, loss_xy: 100.9795, loss_wh: 14.7018, loss: 8621.0455, grad_norm: 27787.4689\n",
      "2021-05-15 18:31:56,053 - mmdet - INFO - Epoch [3][650/655]\tlr: 1.000e-05, eta: 1:19:26, time: 0.264, data_time: 0.007, memory: 3406, loss_cls: 113.9717, loss_conf: 7980.2012, loss_xy: 94.3593, loss_wh: 13.8031, loss: 8202.3352, grad_norm: 26670.3365\n",
      "2021-05-15 18:31:57,479 - mmdet - INFO - Saving checkpoint at 3 epochs\n"
     ]
    },
    {
     "name": "stdout",
     "output_type": "stream",
     "text": [
      "[>>>>>>>>>>>>>>>>>>>>>>>>>>>>>] 655/655, 20.8 task/s, elapsed: 32s, ETA:     0s"
     ]
    },
    {
     "name": "stderr",
     "output_type": "stream",
     "text": [
      "2021-05-15 18:32:32,974 - mmdet - INFO - Evaluating bbox...\n"
     ]
    },
    {
     "name": "stdout",
     "output_type": "stream",
     "text": [
      "Loading and preparing results...\n",
      "DONE (t=2.13s)\n",
      "creating index...\n",
      "index created!\n",
      "Running per image evaluation...\n",
      "Evaluate annotation type *bbox*\n",
      "DONE (t=7.91s).\n",
      "Accumulating evaluation results...\n"
     ]
    },
    {
     "name": "stderr",
     "output_type": "stream",
     "text": [
      "2021-05-15 18:32:45,022 - mmdet - INFO - Epoch(val) [3][655]\tbbox_mAP: 0.0000, bbox_mAP_50: 0.0000, bbox_mAP_75: 0.0000, bbox_mAP_s: 0.0000, bbox_mAP_m: 0.0000, bbox_mAP_l: 0.0000, bbox_mAP_copypaste: 0.000 0.000 0.000 0.000 0.000 0.000\n"
     ]
    },
    {
     "name": "stdout",
     "output_type": "stream",
     "text": [
      "DONE (t=1.83s).\n",
      "Average Precision  (AP) @[ IoU=0.50:0.95 | area=   all | maxDets=100 ] = 0.000\n",
      "Average Precision  (AP) @[ IoU=0.50      | area=   all | maxDets=1000 ] = 0.000\n",
      "Average Precision  (AP) @[ IoU=0.75      | area=   all | maxDets=1000 ] = 0.000\n",
      "Average Precision  (AP) @[ IoU=0.50:0.95 | area= small | maxDets=1000 ] = 0.000\n",
      "Average Precision  (AP) @[ IoU=0.50:0.95 | area=medium | maxDets=1000 ] = 0.000\n",
      "Average Precision  (AP) @[ IoU=0.50:0.95 | area= large | maxDets=1000 ] = 0.000\n",
      "Average Recall     (AR) @[ IoU=0.50:0.95 | area=   all | maxDets=100 ] = 0.000\n",
      "Average Recall     (AR) @[ IoU=0.50:0.95 | area=   all | maxDets=300 ] = 0.000\n",
      "Average Recall     (AR) @[ IoU=0.50:0.95 | area=   all | maxDets=1000 ] = 0.000\n",
      "Average Recall     (AR) @[ IoU=0.50:0.95 | area= small | maxDets=1000 ] = 0.000\n",
      "Average Recall     (AR) @[ IoU=0.50:0.95 | area=medium | maxDets=1000 ] = 0.000\n",
      "Average Recall     (AR) @[ IoU=0.50:0.95 | area= large | maxDets=1000 ] = 0.000\n"
     ]
    },
    {
     "name": "stderr",
     "output_type": "stream",
     "text": [
      "2021-05-15 18:33:01,640 - mmdet - INFO - Epoch [4][50/655]\tlr: 1.000e-05, eta: 1:19:27, time: 0.332, data_time: 0.060, memory: 3406, loss_cls: 116.6849, loss_conf: 7533.1414, loss_xy: 95.3291, loss_wh: 12.5950, loss: 7757.7503, grad_norm: 25497.1869\n",
      "2021-05-15 18:33:15,116 - mmdet - INFO - Epoch [4][100/655]\tlr: 1.000e-05, eta: 1:19:13, time: 0.269, data_time: 0.007, memory: 3406, loss_cls: 134.5361, loss_conf: 7154.5190, loss_xy: 111.6181, loss_wh: 16.0269, loss: 7416.7000, grad_norm: 24277.2859\n",
      "2021-05-15 18:33:29,033 - mmdet - INFO - Epoch [4][150/655]\tlr: 1.000e-05, eta: 1:19:03, time: 0.278, data_time: 0.008, memory: 3406, loss_cls: 115.0044, loss_conf: 6751.5063, loss_xy: 98.1953, loss_wh: 13.4584, loss: 6978.1644, grad_norm: 23108.5363\n",
      "2021-05-15 18:33:42,188 - mmdet - INFO - Epoch [4][200/655]\tlr: 1.000e-05, eta: 1:18:46, time: 0.263, data_time: 0.007, memory: 3406, loss_cls: 116.5603, loss_conf: 6397.4932, loss_xy: 95.3867, loss_wh: 12.1340, loss: 6621.5741, grad_norm: 21963.3466\n",
      "2021-05-15 18:33:55,457 - mmdet - INFO - Epoch [4][250/655]\tlr: 1.000e-05, eta: 1:18:31, time: 0.265, data_time: 0.007, memory: 3406, loss_cls: 115.1683, loss_conf: 6079.3694, loss_xy: 101.0831, loss_wh: 12.6384, loss: 6308.2592, grad_norm: 21188.7975\n",
      "2021-05-15 18:34:08,791 - mmdet - INFO - Epoch [4][300/655]\tlr: 1.000e-05, eta: 1:18:16, time: 0.267, data_time: 0.007, memory: 3406, loss_cls: 132.1045, loss_conf: 5720.3076, loss_xy: 113.1820, loss_wh: 16.3668, loss: 5981.9610, grad_norm: 20145.2148\n",
      "2021-05-15 18:34:21,989 - mmdet - INFO - Epoch [4][350/655]\tlr: 1.000e-05, eta: 1:18:00, time: 0.264, data_time: 0.007, memory: 3406, loss_cls: 116.5402, loss_conf: 5470.8919, loss_xy: 103.0031, loss_wh: 21.3513, loss: 5711.7865, grad_norm: 21616.9416\n",
      "2021-05-15 18:34:35,308 - mmdet - INFO - Epoch [4][400/655]\tlr: 1.000e-05, eta: 1:17:45, time: 0.266, data_time: 0.007, memory: 3406, loss_cls: 91.3989, loss_conf: 5147.7264, loss_xy: 82.4037, loss_wh: 11.9952, loss: 5333.5243, grad_norm: 18466.7489\n"
     ]
    },
    {
     "ename": "KeyboardInterrupt",
     "evalue": "",
     "output_type": "error",
     "traceback": [
      "\u001b[0;31m---------------------------------------------------------------------------\u001b[0m",
      "\u001b[0;31mKeyboardInterrupt\u001b[0m                         Traceback (most recent call last)",
      "\u001b[0;32m<ipython-input-26-59b5768e9e45>\u001b[0m in \u001b[0;36m<module>\u001b[0;34m\u001b[0m\n\u001b[0;32m----> 1\u001b[0;31m \u001b[0mtrain_detector\u001b[0m\u001b[0;34m(\u001b[0m\u001b[0mmodel\u001b[0m\u001b[0;34m,\u001b[0m \u001b[0mdatasets\u001b[0m\u001b[0;34m[\u001b[0m\u001b[0;36m0\u001b[0m\u001b[0;34m]\u001b[0m\u001b[0;34m,\u001b[0m \u001b[0mcfg\u001b[0m\u001b[0;34m,\u001b[0m \u001b[0mdistributed\u001b[0m\u001b[0;34m=\u001b[0m\u001b[0;32mFalse\u001b[0m\u001b[0;34m,\u001b[0m \u001b[0mvalidate\u001b[0m\u001b[0;34m=\u001b[0m\u001b[0;32mTrue\u001b[0m\u001b[0;34m)\u001b[0m\u001b[0;34m\u001b[0m\u001b[0;34m\u001b[0m\u001b[0m\n\u001b[0m",
      "\u001b[0;32m~/code/mmdetection_trash/mmdet/apis/train.py\u001b[0m in \u001b[0;36mtrain_detector\u001b[0;34m(model, dataset, cfg, distributed, validate, timestamp, meta)\u001b[0m\n\u001b[1;32m    168\u001b[0m     \u001b[0;32melif\u001b[0m \u001b[0mcfg\u001b[0m\u001b[0;34m.\u001b[0m\u001b[0mload_from\u001b[0m\u001b[0;34m:\u001b[0m\u001b[0;34m\u001b[0m\u001b[0;34m\u001b[0m\u001b[0m\n\u001b[1;32m    169\u001b[0m         \u001b[0mrunner\u001b[0m\u001b[0;34m.\u001b[0m\u001b[0mload_checkpoint\u001b[0m\u001b[0;34m(\u001b[0m\u001b[0mcfg\u001b[0m\u001b[0;34m.\u001b[0m\u001b[0mload_from\u001b[0m\u001b[0;34m)\u001b[0m\u001b[0;34m\u001b[0m\u001b[0;34m\u001b[0m\u001b[0m\n\u001b[0;32m--> 170\u001b[0;31m     \u001b[0mrunner\u001b[0m\u001b[0;34m.\u001b[0m\u001b[0mrun\u001b[0m\u001b[0;34m(\u001b[0m\u001b[0mdata_loaders\u001b[0m\u001b[0;34m,\u001b[0m \u001b[0mcfg\u001b[0m\u001b[0;34m.\u001b[0m\u001b[0mworkflow\u001b[0m\u001b[0;34m)\u001b[0m\u001b[0;34m\u001b[0m\u001b[0;34m\u001b[0m\u001b[0m\n\u001b[0m",
      "\u001b[0;32m/opt/conda/lib/python3.7/site-packages/mmcv/runner/epoch_based_runner.py\u001b[0m in \u001b[0;36mrun\u001b[0;34m(self, data_loaders, workflow, max_epochs, **kwargs)\u001b[0m\n\u001b[1;32m    123\u001b[0m                     \u001b[0;32mif\u001b[0m \u001b[0mmode\u001b[0m \u001b[0;34m==\u001b[0m \u001b[0;34m'train'\u001b[0m \u001b[0;32mand\u001b[0m \u001b[0mself\u001b[0m\u001b[0;34m.\u001b[0m\u001b[0mepoch\u001b[0m \u001b[0;34m>=\u001b[0m \u001b[0mself\u001b[0m\u001b[0;34m.\u001b[0m\u001b[0m_max_epochs\u001b[0m\u001b[0;34m:\u001b[0m\u001b[0;34m\u001b[0m\u001b[0;34m\u001b[0m\u001b[0m\n\u001b[1;32m    124\u001b[0m                         \u001b[0;32mbreak\u001b[0m\u001b[0;34m\u001b[0m\u001b[0;34m\u001b[0m\u001b[0m\n\u001b[0;32m--> 125\u001b[0;31m                     \u001b[0mepoch_runner\u001b[0m\u001b[0;34m(\u001b[0m\u001b[0mdata_loaders\u001b[0m\u001b[0;34m[\u001b[0m\u001b[0mi\u001b[0m\u001b[0;34m]\u001b[0m\u001b[0;34m,\u001b[0m \u001b[0;34m**\u001b[0m\u001b[0mkwargs\u001b[0m\u001b[0;34m)\u001b[0m\u001b[0;34m\u001b[0m\u001b[0;34m\u001b[0m\u001b[0m\n\u001b[0m\u001b[1;32m    126\u001b[0m \u001b[0;34m\u001b[0m\u001b[0m\n\u001b[1;32m    127\u001b[0m         \u001b[0mtime\u001b[0m\u001b[0;34m.\u001b[0m\u001b[0msleep\u001b[0m\u001b[0;34m(\u001b[0m\u001b[0;36m1\u001b[0m\u001b[0;34m)\u001b[0m  \u001b[0;31m# wait for some hooks like loggers to finish\u001b[0m\u001b[0;34m\u001b[0m\u001b[0;34m\u001b[0m\u001b[0m\n",
      "\u001b[0;32m/opt/conda/lib/python3.7/site-packages/mmcv/runner/epoch_based_runner.py\u001b[0m in \u001b[0;36mtrain\u001b[0;34m(self, data_loader, **kwargs)\u001b[0m\n\u001b[1;32m     49\u001b[0m             \u001b[0mself\u001b[0m\u001b[0;34m.\u001b[0m\u001b[0mcall_hook\u001b[0m\u001b[0;34m(\u001b[0m\u001b[0;34m'before_train_iter'\u001b[0m\u001b[0;34m)\u001b[0m\u001b[0;34m\u001b[0m\u001b[0;34m\u001b[0m\u001b[0m\n\u001b[1;32m     50\u001b[0m             \u001b[0mself\u001b[0m\u001b[0;34m.\u001b[0m\u001b[0mrun_iter\u001b[0m\u001b[0;34m(\u001b[0m\u001b[0mdata_batch\u001b[0m\u001b[0;34m,\u001b[0m \u001b[0mtrain_mode\u001b[0m\u001b[0;34m=\u001b[0m\u001b[0;32mTrue\u001b[0m\u001b[0;34m,\u001b[0m \u001b[0;34m**\u001b[0m\u001b[0mkwargs\u001b[0m\u001b[0;34m)\u001b[0m\u001b[0;34m\u001b[0m\u001b[0;34m\u001b[0m\u001b[0m\n\u001b[0;32m---> 51\u001b[0;31m             \u001b[0mself\u001b[0m\u001b[0;34m.\u001b[0m\u001b[0mcall_hook\u001b[0m\u001b[0;34m(\u001b[0m\u001b[0;34m'after_train_iter'\u001b[0m\u001b[0;34m)\u001b[0m\u001b[0;34m\u001b[0m\u001b[0;34m\u001b[0m\u001b[0m\n\u001b[0m\u001b[1;32m     52\u001b[0m             \u001b[0mself\u001b[0m\u001b[0;34m.\u001b[0m\u001b[0m_iter\u001b[0m \u001b[0;34m+=\u001b[0m \u001b[0;36m1\u001b[0m\u001b[0;34m\u001b[0m\u001b[0;34m\u001b[0m\u001b[0m\n\u001b[1;32m     53\u001b[0m \u001b[0;34m\u001b[0m\u001b[0m\n",
      "\u001b[0;32m/opt/conda/lib/python3.7/site-packages/mmcv/runner/base_runner.py\u001b[0m in \u001b[0;36mcall_hook\u001b[0;34m(self, fn_name)\u001b[0m\n\u001b[1;32m    305\u001b[0m         \"\"\"\n\u001b[1;32m    306\u001b[0m         \u001b[0;32mfor\u001b[0m \u001b[0mhook\u001b[0m \u001b[0;32min\u001b[0m \u001b[0mself\u001b[0m\u001b[0;34m.\u001b[0m\u001b[0m_hooks\u001b[0m\u001b[0;34m:\u001b[0m\u001b[0;34m\u001b[0m\u001b[0;34m\u001b[0m\u001b[0m\n\u001b[0;32m--> 307\u001b[0;31m             \u001b[0mgetattr\u001b[0m\u001b[0;34m(\u001b[0m\u001b[0mhook\u001b[0m\u001b[0;34m,\u001b[0m \u001b[0mfn_name\u001b[0m\u001b[0;34m)\u001b[0m\u001b[0;34m(\u001b[0m\u001b[0mself\u001b[0m\u001b[0;34m)\u001b[0m\u001b[0;34m\u001b[0m\u001b[0;34m\u001b[0m\u001b[0m\n\u001b[0m\u001b[1;32m    308\u001b[0m \u001b[0;34m\u001b[0m\u001b[0m\n\u001b[1;32m    309\u001b[0m     def load_checkpoint(self,\n",
      "\u001b[0;32m/opt/conda/lib/python3.7/site-packages/mmcv/runner/hooks/optimizer.py\u001b[0m in \u001b[0;36mafter_train_iter\u001b[0;34m(self, runner)\u001b[0m\n\u001b[1;32m     35\u001b[0m         \u001b[0mrunner\u001b[0m\u001b[0;34m.\u001b[0m\u001b[0moutputs\u001b[0m\u001b[0;34m[\u001b[0m\u001b[0;34m'loss'\u001b[0m\u001b[0;34m]\u001b[0m\u001b[0;34m.\u001b[0m\u001b[0mbackward\u001b[0m\u001b[0;34m(\u001b[0m\u001b[0;34m)\u001b[0m\u001b[0;34m\u001b[0m\u001b[0;34m\u001b[0m\u001b[0m\n\u001b[1;32m     36\u001b[0m         \u001b[0;32mif\u001b[0m \u001b[0mself\u001b[0m\u001b[0;34m.\u001b[0m\u001b[0mgrad_clip\u001b[0m \u001b[0;32mis\u001b[0m \u001b[0;32mnot\u001b[0m \u001b[0;32mNone\u001b[0m\u001b[0;34m:\u001b[0m\u001b[0;34m\u001b[0m\u001b[0;34m\u001b[0m\u001b[0m\n\u001b[0;32m---> 37\u001b[0;31m             \u001b[0mgrad_norm\u001b[0m \u001b[0;34m=\u001b[0m \u001b[0mself\u001b[0m\u001b[0;34m.\u001b[0m\u001b[0mclip_grads\u001b[0m\u001b[0;34m(\u001b[0m\u001b[0mrunner\u001b[0m\u001b[0;34m.\u001b[0m\u001b[0mmodel\u001b[0m\u001b[0;34m.\u001b[0m\u001b[0mparameters\u001b[0m\u001b[0;34m(\u001b[0m\u001b[0;34m)\u001b[0m\u001b[0;34m)\u001b[0m\u001b[0;34m\u001b[0m\u001b[0;34m\u001b[0m\u001b[0m\n\u001b[0m\u001b[1;32m     38\u001b[0m             \u001b[0;32mif\u001b[0m \u001b[0mgrad_norm\u001b[0m \u001b[0;32mis\u001b[0m \u001b[0;32mnot\u001b[0m \u001b[0;32mNone\u001b[0m\u001b[0;34m:\u001b[0m\u001b[0;34m\u001b[0m\u001b[0;34m\u001b[0m\u001b[0m\n\u001b[1;32m     39\u001b[0m                 \u001b[0;31m# Add grad norm to the logger\u001b[0m\u001b[0;34m\u001b[0m\u001b[0;34m\u001b[0m\u001b[0;34m\u001b[0m\u001b[0m\n",
      "\u001b[0;32m/opt/conda/lib/python3.7/site-packages/mmcv/runner/hooks/optimizer.py\u001b[0m in \u001b[0;36mclip_grads\u001b[0;34m(self, params)\u001b[0m\n\u001b[1;32m     29\u001b[0m             filter(lambda p: p.requires_grad and p.grad is not None, params))\n\u001b[1;32m     30\u001b[0m         \u001b[0;32mif\u001b[0m \u001b[0mlen\u001b[0m\u001b[0;34m(\u001b[0m\u001b[0mparams\u001b[0m\u001b[0;34m)\u001b[0m \u001b[0;34m>\u001b[0m \u001b[0;36m0\u001b[0m\u001b[0;34m:\u001b[0m\u001b[0;34m\u001b[0m\u001b[0;34m\u001b[0m\u001b[0m\n\u001b[0;32m---> 31\u001b[0;31m             \u001b[0;32mreturn\u001b[0m \u001b[0mclip_grad\u001b[0m\u001b[0;34m.\u001b[0m\u001b[0mclip_grad_norm_\u001b[0m\u001b[0;34m(\u001b[0m\u001b[0mparams\u001b[0m\u001b[0;34m,\u001b[0m \u001b[0;34m**\u001b[0m\u001b[0mself\u001b[0m\u001b[0;34m.\u001b[0m\u001b[0mgrad_clip\u001b[0m\u001b[0;34m)\u001b[0m\u001b[0;34m\u001b[0m\u001b[0;34m\u001b[0m\u001b[0m\n\u001b[0m\u001b[1;32m     32\u001b[0m \u001b[0;34m\u001b[0m\u001b[0m\n\u001b[1;32m     33\u001b[0m     \u001b[0;32mdef\u001b[0m \u001b[0mafter_train_iter\u001b[0m\u001b[0;34m(\u001b[0m\u001b[0mself\u001b[0m\u001b[0;34m,\u001b[0m \u001b[0mrunner\u001b[0m\u001b[0;34m)\u001b[0m\u001b[0;34m:\u001b[0m\u001b[0;34m\u001b[0m\u001b[0;34m\u001b[0m\u001b[0m\n",
      "\u001b[0;32m/opt/conda/lib/python3.7/site-packages/torch/nn/utils/clip_grad.py\u001b[0m in \u001b[0;36mclip_grad_norm_\u001b[0;34m(parameters, max_norm, norm_type)\u001b[0m\n\u001b[1;32m     33\u001b[0m         \u001b[0mtotal_norm\u001b[0m \u001b[0;34m=\u001b[0m \u001b[0mtorch\u001b[0m\u001b[0;34m.\u001b[0m\u001b[0mnorm\u001b[0m\u001b[0;34m(\u001b[0m\u001b[0mtorch\u001b[0m\u001b[0;34m.\u001b[0m\u001b[0mstack\u001b[0m\u001b[0;34m(\u001b[0m\u001b[0;34m[\u001b[0m\u001b[0mtorch\u001b[0m\u001b[0;34m.\u001b[0m\u001b[0mnorm\u001b[0m\u001b[0;34m(\u001b[0m\u001b[0mp\u001b[0m\u001b[0;34m.\u001b[0m\u001b[0mgrad\u001b[0m\u001b[0;34m.\u001b[0m\u001b[0mdetach\u001b[0m\u001b[0;34m(\u001b[0m\u001b[0;34m)\u001b[0m\u001b[0;34m,\u001b[0m \u001b[0mnorm_type\u001b[0m\u001b[0;34m)\u001b[0m\u001b[0;34m.\u001b[0m\u001b[0mto\u001b[0m\u001b[0;34m(\u001b[0m\u001b[0mdevice\u001b[0m\u001b[0;34m)\u001b[0m \u001b[0;32mfor\u001b[0m \u001b[0mp\u001b[0m \u001b[0;32min\u001b[0m \u001b[0mparameters\u001b[0m\u001b[0;34m]\u001b[0m\u001b[0;34m)\u001b[0m\u001b[0;34m,\u001b[0m \u001b[0mnorm_type\u001b[0m\u001b[0;34m)\u001b[0m\u001b[0;34m\u001b[0m\u001b[0;34m\u001b[0m\u001b[0m\n\u001b[1;32m     34\u001b[0m     \u001b[0mclip_coef\u001b[0m \u001b[0;34m=\u001b[0m \u001b[0mmax_norm\u001b[0m \u001b[0;34m/\u001b[0m \u001b[0;34m(\u001b[0m\u001b[0mtotal_norm\u001b[0m \u001b[0;34m+\u001b[0m \u001b[0;36m1e-6\u001b[0m\u001b[0;34m)\u001b[0m\u001b[0;34m\u001b[0m\u001b[0;34m\u001b[0m\u001b[0m\n\u001b[0;32m---> 35\u001b[0;31m     \u001b[0;32mif\u001b[0m \u001b[0mclip_coef\u001b[0m \u001b[0;34m<\u001b[0m \u001b[0;36m1\u001b[0m\u001b[0;34m:\u001b[0m\u001b[0;34m\u001b[0m\u001b[0;34m\u001b[0m\u001b[0m\n\u001b[0m\u001b[1;32m     36\u001b[0m         \u001b[0;32mfor\u001b[0m \u001b[0mp\u001b[0m \u001b[0;32min\u001b[0m \u001b[0mparameters\u001b[0m\u001b[0;34m:\u001b[0m\u001b[0;34m\u001b[0m\u001b[0;34m\u001b[0m\u001b[0m\n\u001b[1;32m     37\u001b[0m             \u001b[0mp\u001b[0m\u001b[0;34m.\u001b[0m\u001b[0mgrad\u001b[0m\u001b[0;34m.\u001b[0m\u001b[0mdetach\u001b[0m\u001b[0;34m(\u001b[0m\u001b[0;34m)\u001b[0m\u001b[0;34m.\u001b[0m\u001b[0mmul_\u001b[0m\u001b[0;34m(\u001b[0m\u001b[0mclip_coef\u001b[0m\u001b[0;34m.\u001b[0m\u001b[0mto\u001b[0m\u001b[0;34m(\u001b[0m\u001b[0mp\u001b[0m\u001b[0;34m.\u001b[0m\u001b[0mgrad\u001b[0m\u001b[0;34m.\u001b[0m\u001b[0mdevice\u001b[0m\u001b[0;34m)\u001b[0m\u001b[0;34m)\u001b[0m\u001b[0;34m\u001b[0m\u001b[0;34m\u001b[0m\u001b[0m\n",
      "\u001b[0;31mKeyboardInterrupt\u001b[0m: "
     ]
    },
    {
     "name": "stderr",
     "output_type": "stream",
     "text": [
      "Exception in thread Thread-7:\n",
      "Traceback (most recent call last):\n",
      "  File \"/opt/conda/lib/python3.7/threading.py\", line 926, in _bootstrap_inner\n",
      "    self.run()\n",
      "  File \"/opt/conda/lib/python3.7/threading.py\", line 870, in run\n",
      "    self._target(*self._args, **self._kwargs)\n",
      "  File \"/opt/conda/lib/python3.7/site-packages/wandb/sdk/wandb_run.py\", line 180, in check_network_status\n",
      "    status_response = self._interface.communicate_network_status()\n",
      "  File \"/opt/conda/lib/python3.7/site-packages/wandb/sdk/interface/interface.py\", line 747, in communicate_network_status\n",
      "    resp = self._communicate(req, timeout=timeout, local=True)\n",
      "  File \"/opt/conda/lib/python3.7/site-packages/wandb/sdk/interface/interface.py\", line 537, in _communicate\n",
      "    return self._communicate_async(rec, local=local).get(timeout=timeout)\n",
      "  File \"/opt/conda/lib/python3.7/site-packages/wandb/sdk/interface/interface.py\", line 542, in _communicate_async\n",
      "    raise Exception(\"The wandb backend process has shutdown\")\n",
      "Exception: The wandb backend process has shutdown\n",
      "\n",
      "Exception in thread Thread-6:\n",
      "Traceback (most recent call last):\n",
      "  File \"/opt/conda/lib/python3.7/threading.py\", line 926, in _bootstrap_inner\n",
      "    self.run()\n",
      "  File \"/opt/conda/lib/python3.7/threading.py\", line 870, in run\n",
      "    self._target(*self._args, **self._kwargs)\n",
      "  File \"/opt/conda/lib/python3.7/site-packages/wandb/sdk/wandb_run.py\", line 198, in check_status\n",
      "    status_response = self._interface.communicate_stop_status()\n",
      "  File \"/opt/conda/lib/python3.7/site-packages/wandb/sdk/interface/interface.py\", line 735, in communicate_stop_status\n",
      "    resp = self._communicate(req, timeout=timeout, local=True)\n",
      "  File \"/opt/conda/lib/python3.7/site-packages/wandb/sdk/interface/interface.py\", line 537, in _communicate\n",
      "    return self._communicate_async(rec, local=local).get(timeout=timeout)\n",
      "  File \"/opt/conda/lib/python3.7/site-packages/wandb/sdk/interface/interface.py\", line 542, in _communicate_async\n",
      "    raise Exception(\"The wandb backend process has shutdown\")\n",
      "Exception: The wandb backend process has shutdown\n",
      "\n"
     ]
    }
   ],
   "source": [
    "train_detector(model, datasets[0], cfg, distributed=False, validate=True)"
   ]
  },
  {
   "cell_type": "code",
   "execution_count": null,
   "metadata": {},
   "outputs": [],
   "source": []
  }
 ],
 "metadata": {
  "kernelspec": {
   "display_name": "Python 3",
   "language": "python",
   "name": "python3"
  },
  "language_info": {
   "codemirror_mode": {
    "name": "ipython",
    "version": 3
   },
   "file_extension": ".py",
   "mimetype": "text/x-python",
   "name": "python",
   "nbconvert_exporter": "python",
   "pygments_lexer": "ipython3",
   "version": "3.7.7"
  },
  "pycharm": {
   "stem_cell": {
    "cell_type": "raw",
    "metadata": {
     "collapsed": false
    },
    "source": []
   }
  }
 },
 "nbformat": 4,
 "nbformat_minor": 4
}
