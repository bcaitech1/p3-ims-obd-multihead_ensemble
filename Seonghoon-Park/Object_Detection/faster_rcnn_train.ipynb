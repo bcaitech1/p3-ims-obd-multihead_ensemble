{
 "cells": [
  {
   "cell_type": "code",
   "execution_count": 1,
   "metadata": {
    "pycharm": {
     "name": "#%%\n"
    }
   },
   "outputs": [
    {
     "name": "stderr",
     "output_type": "stream",
     "text": [
      "/opt/conda/lib/python3.7/site-packages/mmcv/utils/registry.py:250: UserWarning: The old API of register_module(module, force=False) is deprecated and will be removed, please use the new API register_module(name=None, force=False, module=None) instead.\n",
      "  'The old API of register_module(module, force=False) '\n"
     ]
    }
   ],
   "source": [
    "from mmcv import Config\n",
    "from mmdet.datasets import build_dataset\n",
    "from mmdet.models import build_detector\n",
    "from mmdet.apis import train_detector\n",
    "from mmdet.datasets import (build_dataloader, build_dataset,\n",
    "                            replace_ImageToTensor)"
   ]
  },
  {
   "cell_type": "code",
   "execution_count": 2,
   "metadata": {
    "pycharm": {
     "name": "#%%\n"
    }
   },
   "outputs": [],
   "source": [
    "classes = (\"UNKNOWN\", \"General trash\", \"Paper\", \"Paper pack\", \"Metal\", \"Glass\", \n",
    "           \"Plastic\", \"Styrofoam\", \"Plastic bag\", \"Battery\", \"Clothing\")\n",
    "# config file 들고오기\n",
    "cfg = Config.fromfile('./configs/trash/faster_rcnn/vf_resnest101.py')\n",
    "\n",
    "PREFIX = '../../input/data/'\n",
    "\n",
    "cfg.data.samples_per_gpu = 12\n",
    "cfg.seed=2020\n",
    "cfg.gpu_ids = [0]\n",
    "cfg.work_dir = './work_dirs/resnet101_hrfpn_vfnet'"
   ]
  },
  {
   "cell_type": "code",
   "execution_count": 3,
   "metadata": {
    "pycharm": {
     "name": "#%%\n"
    }
   },
   "outputs": [
    {
     "name": "stderr",
     "output_type": "stream",
     "text": [
      "2021-05-19 05:23:50,206 - mmdet - INFO - load model from: torchvision://resnet101\n",
      "2021-05-19 05:23:50,208 - mmdet - INFO - Use load_from_torchvision loader\n",
      "2021-05-19 05:23:50,712 - mmdet - WARNING - The model and loaded state dict do not match exactly\n",
      "\n",
      "unexpected key in source state_dict: fc.weight, fc.bias\n",
      "\n"
     ]
    }
   ],
   "source": [
    "model = build_detector(cfg.model)"
   ]
  },
  {
   "cell_type": "code",
   "execution_count": 4,
   "metadata": {
    "pycharm": {
     "name": "#%%\n"
    }
   },
   "outputs": [
    {
     "name": "stdout",
     "output_type": "stream",
     "text": [
      "loading annotations into memory...\n",
      "Done (t=0.12s)\n",
      "creating index...\n",
      "index created!\n",
      "loading annotations into memory...\n",
      "Done (t=3.82s)\n",
      "creating index...\n",
      "index created!\n"
     ]
    }
   ],
   "source": [
    "datasets = [build_dataset(cfg.data.train)]"
   ]
  },
  {
   "cell_type": "code",
   "execution_count": 5,
   "metadata": {},
   "outputs": [
    {
     "data": {
      "text/plain": [
       "3453"
      ]
     },
     "execution_count": 5,
     "metadata": {},
     "output_type": "execute_result"
    }
   ],
   "source": [
    "len(datasets[0])"
   ]
  },
  {
   "cell_type": "code",
   "execution_count": 6,
   "metadata": {
    "pycharm": {
     "name": "#%%\n"
    }
   },
   "outputs": [
    {
     "name": "stdout",
     "output_type": "stream",
     "text": [
      "loading annotations into memory...\n"
     ]
    },
    {
     "name": "stderr",
     "output_type": "stream",
     "text": [
      "2021-05-19 05:23:59,479 - mmdet - INFO - Start running, host: root@dfad769810ff, work_dir: /opt/ml/code/mmdetection_trash/work_dirs/resnet101_hrfpn_vfnet\n",
      "2021-05-19 05:23:59,480 - mmdet - INFO - workflow: [('train', 1)], max: 36 epochs\n"
     ]
    },
    {
     "name": "stdout",
     "output_type": "stream",
     "text": [
      "Done (t=0.88s)\n",
      "creating index...\n",
      "index created!\n"
     ]
    },
    {
     "name": "stderr",
     "output_type": "stream",
     "text": [
      "/opt/ml/code/mmdetection_trash/mmdet/core/evaluation/eval_hooks.py:112: UserWarning: runner.meta is None. Creating a empty one.\n",
      "  warnings.warn('runner.meta is None. Creating a empty one.')\n",
      "\u001b[34m\u001b[1mwandb\u001b[0m: Currently logged in as: \u001b[33mseong0905\u001b[0m (use `wandb login --relogin` to force relogin)\n"
     ]
    },
    {
     "data": {
      "text/html": [
       "\n",
       "                Tracking run with wandb version 0.10.30<br/>\n",
       "                Syncing run <strong style=\"color:#cdcd00\">resnen101_vfnet</strong> to <a href=\"https://wandb.ai\" target=\"_blank\">Weights & Biases</a> <a href=\"https://docs.wandb.com/integrations/jupyter.html\" target=\"_blank\">(Documentation)</a>.<br/>\n",
       "                Project page: <a href=\"https://wandb.ai/seong0905/P-stage3-detection\" target=\"_blank\">https://wandb.ai/seong0905/P-stage3-detection</a><br/>\n",
       "                Run page: <a href=\"https://wandb.ai/seong0905/P-stage3-detection/runs/3v8faybj\" target=\"_blank\">https://wandb.ai/seong0905/P-stage3-detection/runs/3v8faybj</a><br/>\n",
       "                Run data is saved locally in <code>/opt/ml/code/mmdetection_trash/wandb/run-20210519_052400-3v8faybj</code><br/><br/>\n",
       "            "
      ],
      "text/plain": [
       "<IPython.core.display.HTML object>"
      ]
     },
     "metadata": {},
     "output_type": "display_data"
    },
    {
     "name": "stderr",
     "output_type": "stream",
     "text": [
      "2021-05-19 05:24:17,170 - mmdet - INFO - Epoch [1][10/288]\tlr: 4.324e-06, eta: 3:42:06, time: 1.287, data_time: 0.253, memory: 7613, loss_cls: 0.4826, loss_bbox: 1.0555, loss_bbox_rf: 1.3525, loss: 2.8906, grad_norm: 17.1290\n",
      "2021-05-19 05:24:27,232 - mmdet - INFO - Epoch [1][20/288]\tlr: 4.684e-06, eta: 3:17:43, time: 1.006, data_time: 0.019, memory: 7613, loss_cls: 0.9124, loss_bbox: 0.8159, loss_bbox_rf: 1.1115, loss: 2.8398, grad_norm: 10.5578\n",
      "2021-05-19 05:24:37,359 - mmdet - INFO - Epoch [1][30/288]\tlr: 5.044e-06, eta: 3:09:50, time: 1.013, data_time: 0.019, memory: 7613, loss_cls: 0.8763, loss_bbox: 0.7925, loss_bbox_rf: 1.1062, loss: 2.7750, grad_norm: 8.8967\n",
      "2021-05-19 05:24:47,468 - mmdet - INFO - Epoch [1][40/288]\tlr: 5.404e-06, eta: 3:05:44, time: 1.011, data_time: 0.018, memory: 7613, loss_cls: 1.0052, loss_bbox: 0.7545, loss_bbox_rf: 1.0145, loss: 2.7742, grad_norm: 7.0120\n",
      "2021-05-19 05:24:57,518 - mmdet - INFO - Epoch [1][50/288]\tlr: 5.764e-06, eta: 3:03:01, time: 1.005, data_time: 0.018, memory: 7613, loss_cls: 0.9488, loss_bbox: 0.7564, loss_bbox_rf: 1.0091, loss: 2.7143, grad_norm: 7.9353\n",
      "2021-05-19 05:25:07,589 - mmdet - INFO - Epoch [1][60/288]\tlr: 6.123e-06, eta: 3:01:12, time: 1.007, data_time: 0.019, memory: 7613, loss_cls: 0.9459, loss_bbox: 0.7332, loss_bbox_rf: 0.9761, loss: 2.6552, grad_norm: 7.5948\n",
      "2021-05-19 05:25:17,699 - mmdet - INFO - Epoch [1][70/288]\tlr: 6.483e-06, eta: 2:59:57, time: 1.011, data_time: 0.018, memory: 7613, loss_cls: 0.9093, loss_bbox: 0.7310, loss_bbox_rf: 0.9689, loss: 2.6092, grad_norm: 8.8454\n",
      "2021-05-19 05:25:27,811 - mmdet - INFO - Epoch [1][80/288]\tlr: 6.843e-06, eta: 2:58:58, time: 1.011, data_time: 0.018, memory: 7613, loss_cls: 0.8688, loss_bbox: 0.7035, loss_bbox_rf: 0.9311, loss: 2.5034, grad_norm: 8.6459\n",
      "2021-05-19 05:25:37,930 - mmdet - INFO - Epoch [1][90/288]\tlr: 7.202e-06, eta: 2:58:12, time: 1.012, data_time: 0.018, memory: 7613, loss_cls: 0.8861, loss_bbox: 0.6745, loss_bbox_rf: 0.8943, loss: 2.4548, grad_norm: 8.7572\n",
      "2021-05-19 05:25:48,038 - mmdet - INFO - Epoch [1][100/288]\tlr: 7.561e-06, eta: 2:57:31, time: 1.011, data_time: 0.018, memory: 7613, loss_cls: 0.8953, loss_bbox: 0.6876, loss_bbox_rf: 0.9095, loss: 2.4924, grad_norm: 8.8339\n",
      "2021-05-19 05:25:58,078 - mmdet - INFO - Epoch [1][110/288]\tlr: 7.921e-06, eta: 2:56:49, time: 1.004, data_time: 0.019, memory: 7613, loss_cls: 0.8930, loss_bbox: 0.6900, loss_bbox_rf: 0.9164, loss: 2.4994, grad_norm: 9.2479\n",
      "2021-05-19 05:26:08,151 - mmdet - INFO - Epoch [1][120/288]\tlr: 8.280e-06, eta: 2:56:16, time: 1.007, data_time: 0.018, memory: 7613, loss_cls: 0.8924, loss_bbox: 0.6570, loss_bbox_rf: 0.8624, loss: 2.4119, grad_norm: 8.0666\n",
      "2021-05-19 05:26:18,212 - mmdet - INFO - Epoch [1][130/288]\tlr: 8.639e-06, eta: 2:55:45, time: 1.006, data_time: 0.018, memory: 7613, loss_cls: 0.8857, loss_bbox: 0.6657, loss_bbox_rf: 0.8810, loss: 2.4324, grad_norm: 9.5717\n",
      "2021-05-19 05:26:28,304 - mmdet - INFO - Epoch [1][140/288]\tlr: 8.998e-06, eta: 2:55:20, time: 1.009, data_time: 0.020, memory: 7613, loss_cls: 0.8836, loss_bbox: 0.6409, loss_bbox_rf: 0.8453, loss: 2.3698, grad_norm: 8.1606\n",
      "2021-05-19 05:26:38,380 - mmdet - INFO - Epoch [1][150/288]\tlr: 9.357e-06, eta: 2:54:55, time: 1.008, data_time: 0.018, memory: 7613, loss_cls: 0.8626, loss_bbox: 0.6489, loss_bbox_rf: 0.8506, loss: 2.3621, grad_norm: 7.4649\n",
      "2021-05-19 05:26:48,452 - mmdet - INFO - Epoch [1][160/288]\tlr: 9.715e-06, eta: 2:54:32, time: 1.007, data_time: 0.017, memory: 7613, loss_cls: 0.8855, loss_bbox: 0.6096, loss_bbox_rf: 0.8078, loss: 2.3029, grad_norm: 9.9364\n",
      "2021-05-19 05:26:58,517 - mmdet - INFO - Epoch [1][170/288]\tlr: 1.007e-05, eta: 2:54:10, time: 1.007, data_time: 0.018, memory: 7613, loss_cls: 0.8963, loss_bbox: 0.6111, loss_bbox_rf: 0.8046, loss: 2.3120, grad_norm: 10.2508\n",
      "2021-05-19 05:27:08,618 - mmdet - INFO - Epoch [1][180/288]\tlr: 1.043e-05, eta: 2:53:52, time: 1.010, data_time: 0.018, memory: 7613, loss_cls: 0.8289, loss_bbox: 0.6176, loss_bbox_rf: 0.8184, loss: 2.2648, grad_norm: 7.9258\n",
      "2021-05-19 05:27:18,704 - mmdet - INFO - Epoch [1][190/288]\tlr: 1.079e-05, eta: 2:53:33, time: 1.009, data_time: 0.017, memory: 7613, loss_cls: 0.8951, loss_bbox: 0.5896, loss_bbox_rf: 0.7804, loss: 2.2651, grad_norm: 7.1916\n",
      "2021-05-19 05:27:28,788 - mmdet - INFO - Epoch [1][200/288]\tlr: 1.115e-05, eta: 2:53:15, time: 1.008, data_time: 0.018, memory: 7613, loss_cls: 0.8746, loss_bbox: 0.5983, loss_bbox_rf: 0.7900, loss: 2.2629, grad_norm: 8.6466\n",
      "2021-05-19 05:27:38,864 - mmdet - INFO - Epoch [1][210/288]\tlr: 1.151e-05, eta: 2:52:58, time: 1.008, data_time: 0.018, memory: 7613, loss_cls: 0.8869, loss_bbox: 0.5869, loss_bbox_rf: 0.7742, loss: 2.2480, grad_norm: 8.0270\n",
      "2021-05-19 05:27:48,979 - mmdet - INFO - Epoch [1][220/288]\tlr: 1.186e-05, eta: 2:52:43, time: 1.012, data_time: 0.017, memory: 7613, loss_cls: 0.9177, loss_bbox: 0.5678, loss_bbox_rf: 0.7461, loss: 2.2316, grad_norm: 9.8721\n",
      "2021-05-19 05:27:59,094 - mmdet - INFO - Epoch [1][230/288]\tlr: 1.222e-05, eta: 2:52:29, time: 1.011, data_time: 0.017, memory: 7613, loss_cls: 0.9404, loss_bbox: 0.5641, loss_bbox_rf: 0.7450, loss: 2.2495, grad_norm: 12.0325\n",
      "2021-05-19 05:28:09,179 - mmdet - INFO - Epoch [1][240/288]\tlr: 1.258e-05, eta: 2:52:13, time: 1.009, data_time: 0.017, memory: 7613, loss_cls: 0.8964, loss_bbox: 0.5687, loss_bbox_rf: 0.7503, loss: 2.2154, grad_norm: 10.3467\n",
      "2021-05-19 05:28:19,266 - mmdet - INFO - Epoch [1][250/288]\tlr: 1.294e-05, eta: 2:51:58, time: 1.009, data_time: 0.017, memory: 7613, loss_cls: 0.8728, loss_bbox: 0.5725, loss_bbox_rf: 0.7543, loss: 2.1995, grad_norm: 9.8942\n",
      "2021-05-19 05:28:29,358 - mmdet - INFO - Epoch [1][260/288]\tlr: 1.329e-05, eta: 2:51:44, time: 1.009, data_time: 0.017, memory: 7613, loss_cls: 0.8804, loss_bbox: 0.5644, loss_bbox_rf: 0.7461, loss: 2.1909, grad_norm: 10.2985\n",
      "2021-05-19 05:28:39,442 - mmdet - INFO - Epoch [1][270/288]\tlr: 1.365e-05, eta: 2:51:30, time: 1.008, data_time: 0.017, memory: 7613, loss_cls: 0.8810, loss_bbox: 0.5635, loss_bbox_rf: 0.7426, loss: 2.1871, grad_norm: 10.4466\n",
      "2021-05-19 05:28:49,519 - mmdet - INFO - Epoch [1][280/288]\tlr: 1.401e-05, eta: 2:51:15, time: 1.008, data_time: 0.018, memory: 7613, loss_cls: 0.8813, loss_bbox: 0.5594, loss_bbox_rf: 0.7343, loss: 2.1750, grad_norm: 8.6324\n",
      "2021-05-19 05:28:57,650 - mmdet - INFO - Saving checkpoint at 1 epochs\n"
     ]
    },
    {
     "name": "stdout",
     "output_type": "stream",
     "text": [
      "[>>>>>>>>>>>>>>>>>>>>>>>>>>>>>>] 655/655, 7.3 task/s, elapsed: 90s, ETA:     0s"
     ]
    },
    {
     "name": "stderr",
     "output_type": "stream",
     "text": [
      "2021-05-19 05:30:32,619 - mmdet - INFO - Evaluating bbox...\n"
     ]
    },
    {
     "name": "stdout",
     "output_type": "stream",
     "text": [
      "Loading and preparing results...\n",
      "DONE (t=2.11s)\n",
      "creating index...\n",
      "index created!\n",
      "Running per image evaluation...\n",
      "Evaluate annotation type *bbox*\n",
      "DONE (t=14.59s).\n",
      "Accumulating evaluation results...\n",
      "DONE (t=3.27s).\n",
      "Average Precision  (AP) @[ IoU=0.50:0.95 | area=   all | maxDets=100 ] = 0.017\n",
      "Average Precision  (AP) @[ IoU=0.50      | area=   all | maxDets=1000 ] = 0.046\n",
      "Average Precision  (AP) @[ IoU=0.75      | area=   all | maxDets=1000 ] = 0.009\n",
      "Average Precision  (AP) @[ IoU=0.50:0.95 | area= small | maxDets=1000 ] = 0.007\n",
      "Average Precision  (AP) @[ IoU=0.50:0.95 | area=medium | maxDets=1000 ] = 0.010\n",
      "Average Precision  (AP) @[ IoU=0.50:0.95 | area= large | maxDets=1000 ] = 0.038\n",
      "Average Recall     (AR) @[ IoU=0.50:0.95 | area=   all | maxDets=100 ] = 0.100\n",
      "Average Recall     (AR) @[ IoU=0.50:0.95 | area=   all | maxDets=300 ] = 0.101\n",
      "Average Recall     (AR) @[ IoU=0.50:0.95 | area=   all | maxDets=1000 ] = 0.101\n",
      "Average Recall     (AR) @[ IoU=0.50:0.95 | area= small | maxDets=1000 ] = 0.009\n",
      "Average Recall     (AR) @[ IoU=0.50:0.95 | area=medium | maxDets=1000 ] = 0.066\n",
      "Average Recall     (AR) @[ IoU=0.50:0.95 | area= large | maxDets=1000 ] = 0.252\n"
     ]
    },
    {
     "name": "stderr",
     "output_type": "stream",
     "text": [
      "2021-05-19 05:30:56,582 - mmdet - INFO - Now best checkpoint is epoch_1.pth.Best bbox_mAP_50 is 0.0460\n",
      "2021-05-19 05:30:56,589 - mmdet - INFO - Epoch(val) [1][288]\tbbox_mAP: 0.0170, bbox_mAP_50: 0.0460, bbox_mAP_75: 0.0090, bbox_mAP_s: 0.0070, bbox_mAP_m: 0.0100, bbox_mAP_l: 0.0380, bbox_mAP_copypaste: 0.017 0.046 0.009 0.007 0.010 0.038\n",
      "2021-05-19 05:31:09,156 - mmdet - INFO - Epoch [2][10/288]\tlr: 1.465e-05, eta: 2:47:42, time: 1.255, data_time: 0.255, memory: 7613, loss_cls: 0.9387, loss_bbox: 0.5052, loss_bbox_rf: 0.6682, loss: 2.1121, grad_norm: 10.6078\n",
      "2021-05-19 05:31:19,249 - mmdet - INFO - Epoch [2][20/288]\tlr: 1.500e-05, eta: 2:47:35, time: 1.009, data_time: 0.020, memory: 7613, loss_cls: 0.8725, loss_bbox: 0.5464, loss_bbox_rf: 0.7148, loss: 2.1338, grad_norm: 9.0559\n",
      "2021-05-19 05:31:29,352 - mmdet - INFO - Epoch [2][30/288]\tlr: 1.536e-05, eta: 2:47:28, time: 1.010, data_time: 0.019, memory: 7613, loss_cls: 0.8633, loss_bbox: 0.5265, loss_bbox_rf: 0.6951, loss: 2.0849, grad_norm: 9.6142\n",
      "2021-05-19 05:31:39,441 - mmdet - INFO - Epoch [2][40/288]\tlr: 1.571e-05, eta: 2:47:21, time: 1.009, data_time: 0.018, memory: 7613, loss_cls: 0.8785, loss_bbox: 0.5289, loss_bbox_rf: 0.6967, loss: 2.1041, grad_norm: 10.2835\n",
      "2021-05-19 05:31:49,529 - mmdet - INFO - Epoch [2][50/288]\tlr: 1.607e-05, eta: 2:47:14, time: 1.009, data_time: 0.018, memory: 7613, loss_cls: 0.8566, loss_bbox: 0.5451, loss_bbox_rf: 0.7195, loss: 2.1212, grad_norm: 9.1067\n",
      "2021-05-19 05:31:59,578 - mmdet - INFO - Epoch [2][60/288]\tlr: 1.642e-05, eta: 2:47:05, time: 1.005, data_time: 0.017, memory: 7613, loss_cls: 0.9176, loss_bbox: 0.5021, loss_bbox_rf: 0.6553, loss: 2.0749, grad_norm: 9.6599\n",
      "2021-05-19 05:32:09,700 - mmdet - INFO - Epoch [2][70/288]\tlr: 1.678e-05, eta: 2:46:58, time: 1.012, data_time: 0.019, memory: 7613, loss_cls: 0.8889, loss_bbox: 0.4984, loss_bbox_rf: 0.6524, loss: 2.0397, grad_norm: 11.8691\n",
      "2021-05-19 05:32:19,775 - mmdet - INFO - Epoch [2][80/288]\tlr: 1.713e-05, eta: 2:46:50, time: 1.007, data_time: 0.018, memory: 7613, loss_cls: 0.8479, loss_bbox: 0.5123, loss_bbox_rf: 0.6715, loss: 2.0317, grad_norm: 9.6670\n",
      "2021-05-19 05:32:29,836 - mmdet - INFO - Epoch [2][90/288]\tlr: 1.748e-05, eta: 2:46:41, time: 1.006, data_time: 0.018, memory: 7613, loss_cls: 0.8147, loss_bbox: 0.5359, loss_bbox_rf: 0.7004, loss: 2.0510, grad_norm: 8.7213\n",
      "2021-05-19 05:32:39,882 - mmdet - INFO - Epoch [2][100/288]\tlr: 1.784e-05, eta: 2:46:32, time: 1.005, data_time: 0.018, memory: 7613, loss_cls: 0.8500, loss_bbox: 0.5023, loss_bbox_rf: 0.6589, loss: 2.0111, grad_norm: 9.6840\n",
      "2021-05-19 05:32:49,966 - mmdet - INFO - Epoch [2][110/288]\tlr: 1.819e-05, eta: 2:46:24, time: 1.008, data_time: 0.018, memory: 7613, loss_cls: 0.8806, loss_bbox: 0.5179, loss_bbox_rf: 0.6761, loss: 2.0746, grad_norm: 9.7818\n",
      "2021-05-19 05:33:00,067 - mmdet - INFO - Epoch [2][120/288]\tlr: 1.854e-05, eta: 2:46:16, time: 1.010, data_time: 0.017, memory: 7613, loss_cls: 0.8301, loss_bbox: 0.5269, loss_bbox_rf: 0.6933, loss: 2.0504, grad_norm: 9.7187\n",
      "2021-05-19 05:33:10,163 - mmdet - INFO - Epoch [2][130/288]\tlr: 1.890e-05, eta: 2:46:08, time: 1.010, data_time: 0.017, memory: 7613, loss_cls: 0.8656, loss_bbox: 0.5030, loss_bbox_rf: 0.6585, loss: 2.0271, grad_norm: 10.4074\n",
      "2021-05-19 05:33:20,269 - mmdet - INFO - Epoch [2][140/288]\tlr: 1.925e-05, eta: 2:46:00, time: 1.011, data_time: 0.017, memory: 7613, loss_cls: 0.8794, loss_bbox: 0.5046, loss_bbox_rf: 0.6645, loss: 2.0484, grad_norm: 13.6585\n",
      "2021-05-19 05:33:30,397 - mmdet - INFO - Epoch [2][150/288]\tlr: 1.960e-05, eta: 2:45:52, time: 1.013, data_time: 0.018, memory: 7613, loss_cls: 0.8389, loss_bbox: 0.5086, loss_bbox_rf: 0.6645, loss: 2.0120, grad_norm: 13.8646\n",
      "2021-05-19 05:33:40,470 - mmdet - INFO - Epoch [2][160/288]\tlr: 1.995e-05, eta: 2:45:43, time: 1.007, data_time: 0.017, memory: 7613, loss_cls: 0.9193, loss_bbox: 0.4815, loss_bbox_rf: 0.6308, loss: 2.0316, grad_norm: 13.3399\n",
      "2021-05-19 05:33:50,557 - mmdet - INFO - Epoch [2][170/288]\tlr: 2.030e-05, eta: 2:45:35, time: 1.009, data_time: 0.018, memory: 7613, loss_cls: 0.8730, loss_bbox: 0.4900, loss_bbox_rf: 0.6452, loss: 2.0082, grad_norm: 13.4982\n",
      "2021-05-19 05:34:00,654 - mmdet - INFO - Epoch [2][180/288]\tlr: 2.065e-05, eta: 2:45:26, time: 1.010, data_time: 0.019, memory: 7613, loss_cls: 0.8756, loss_bbox: 0.5061, loss_bbox_rf: 0.6644, loss: 2.0462, grad_norm: 10.3149\n",
      "2021-05-19 05:34:10,785 - mmdet - INFO - Epoch [2][190/288]\tlr: 2.100e-05, eta: 2:45:18, time: 1.013, data_time: 0.019, memory: 7613, loss_cls: 0.8539, loss_bbox: 0.4946, loss_bbox_rf: 0.6410, loss: 1.9895, grad_norm: 12.2464\n",
      "2021-05-19 05:34:20,880 - mmdet - INFO - Epoch [2][200/288]\tlr: 2.135e-05, eta: 2:45:10, time: 1.009, data_time: 0.018, memory: 7613, loss_cls: 0.8434, loss_bbox: 0.4917, loss_bbox_rf: 0.6461, loss: 1.9813, grad_norm: 10.3414\n",
      "2021-05-19 05:34:30,975 - mmdet - INFO - Epoch [2][210/288]\tlr: 2.170e-05, eta: 2:45:01, time: 1.009, data_time: 0.019, memory: 7613, loss_cls: 0.8796, loss_bbox: 0.4735, loss_bbox_rf: 0.6149, loss: 1.9680, grad_norm: 8.9068\n",
      "2021-05-19 05:34:41,035 - mmdet - INFO - Epoch [2][220/288]\tlr: 2.205e-05, eta: 2:44:51, time: 1.006, data_time: 0.017, memory: 7613, loss_cls: 0.8814, loss_bbox: 0.4674, loss_bbox_rf: 0.6048, loss: 1.9536, grad_norm: 10.0616\n",
      "2021-05-19 05:34:51,151 - mmdet - INFO - Epoch [2][230/288]\tlr: 2.240e-05, eta: 2:44:43, time: 1.012, data_time: 0.018, memory: 7613, loss_cls: 0.9049, loss_bbox: 0.4699, loss_bbox_rf: 0.6099, loss: 1.9848, grad_norm: 10.9495\n",
      "2021-05-19 05:35:01,219 - mmdet - INFO - Epoch [2][240/288]\tlr: 2.275e-05, eta: 2:44:34, time: 1.007, data_time: 0.018, memory: 7613, loss_cls: 0.8550, loss_bbox: 0.4843, loss_bbox_rf: 0.6293, loss: 1.9686, grad_norm: 9.5683\n",
      "2021-05-19 05:35:11,317 - mmdet - INFO - Epoch [2][250/288]\tlr: 2.310e-05, eta: 2:44:25, time: 1.010, data_time: 0.020, memory: 7613, loss_cls: 0.8498, loss_bbox: 0.5004, loss_bbox_rf: 0.6485, loss: 1.9987, grad_norm: 9.0062\n",
      "2021-05-19 05:35:21,425 - mmdet - INFO - Epoch [2][260/288]\tlr: 2.345e-05, eta: 2:44:16, time: 1.011, data_time: 0.019, memory: 7613, loss_cls: 0.8436, loss_bbox: 0.4932, loss_bbox_rf: 0.6418, loss: 1.9786, grad_norm: 8.9582\n",
      "2021-05-19 05:35:31,514 - mmdet - INFO - Epoch [2][270/288]\tlr: 2.379e-05, eta: 2:44:07, time: 1.009, data_time: 0.017, memory: 7613, loss_cls: 0.8816, loss_bbox: 0.4774, loss_bbox_rf: 0.6234, loss: 1.9824, grad_norm: 9.6431\n",
      "2021-05-19 05:35:41,589 - mmdet - INFO - Epoch [2][280/288]\tlr: 2.414e-05, eta: 2:43:57, time: 1.007, data_time: 0.019, memory: 7613, loss_cls: 0.8029, loss_bbox: 0.4805, loss_bbox_rf: 0.6333, loss: 1.9167, grad_norm: 9.7359\n",
      "2021-05-19 05:35:49,759 - mmdet - INFO - Saving checkpoint at 2 epochs\n"
     ]
    },
    {
     "name": "stdout",
     "output_type": "stream",
     "text": [
      "[>>>>>>>>>>>>>>>>>>>>>>>>>>>>>>] 655/655, 7.8 task/s, elapsed: 84s, ETA:     0s"
     ]
    },
    {
     "name": "stderr",
     "output_type": "stream",
     "text": [
      "2021-05-19 05:37:18,557 - mmdet - INFO - Evaluating bbox...\n"
     ]
    },
    {
     "name": "stdout",
     "output_type": "stream",
     "text": [
      "Loading and preparing results...\n",
      "DONE (t=2.04s)\n",
      "creating index...\n",
      "index created!\n",
      "Running per image evaluation...\n",
      "Evaluate annotation type *bbox*\n",
      "DONE (t=13.85s).\n",
      "Accumulating evaluation results...\n",
      "DONE (t=3.20s).\n",
      "Average Precision  (AP) @[ IoU=0.50:0.95 | area=   all | maxDets=100 ] = 0.055\n",
      "Average Precision  (AP) @[ IoU=0.50      | area=   all | maxDets=1000 ] = 0.116\n",
      "Average Precision  (AP) @[ IoU=0.75      | area=   all | maxDets=1000 ] = 0.049\n",
      "Average Precision  (AP) @[ IoU=0.50:0.95 | area= small | maxDets=1000 ] = 0.017\n",
      "Average Precision  (AP) @[ IoU=0.50:0.95 | area=medium | maxDets=1000 ] = 0.066\n",
      "Average Precision  (AP) @[ IoU=0.50:0.95 | area= large | maxDets=1000 ] = 0.105\n",
      "Average Recall     (AR) @[ IoU=0.50:0.95 | area=   all | maxDets=100 ] = 0.228\n",
      "Average Recall     (AR) @[ IoU=0.50:0.95 | area=   all | maxDets=300 ] = 0.228\n",
      "Average Recall     (AR) @[ IoU=0.50:0.95 | area=   all | maxDets=1000 ] = 0.228\n",
      "Average Recall     (AR) @[ IoU=0.50:0.95 | area= small | maxDets=1000 ] = 0.030\n",
      "Average Recall     (AR) @[ IoU=0.50:0.95 | area=medium | maxDets=1000 ] = 0.210\n",
      "Average Recall     (AR) @[ IoU=0.50:0.95 | area= large | maxDets=1000 ] = 0.470\n"
     ]
    },
    {
     "name": "stderr",
     "output_type": "stream",
     "text": [
      "2021-05-19 05:37:41,509 - mmdet - INFO - Now best checkpoint is epoch_2.pth.Best bbox_mAP_50 is 0.1160\n",
      "2021-05-19 05:37:41,517 - mmdet - INFO - Epoch(val) [2][288]\tbbox_mAP: 0.0550, bbox_mAP_50: 0.1160, bbox_mAP_75: 0.0490, bbox_mAP_s: 0.0170, bbox_mAP_m: 0.0660, bbox_mAP_l: 0.1050, bbox_mAP_copypaste: 0.055 0.116 0.049 0.017 0.066 0.105\n",
      "2021-05-19 05:37:54,256 - mmdet - INFO - Epoch [3][10/288]\tlr: 2.476e-05, eta: 2:42:10, time: 1.273, data_time: 0.255, memory: 7613, loss_cls: 0.8738, loss_bbox: 0.4685, loss_bbox_rf: 0.6131, loss: 1.9554, grad_norm: 11.3052\n",
      "2021-05-19 05:38:04,560 - mmdet - INFO - Epoch [3][20/288]\tlr: 2.511e-05, eta: 2:42:06, time: 1.030, data_time: 0.020, memory: 7613, loss_cls: 0.8502, loss_bbox: 0.4504, loss_bbox_rf: 0.5833, loss: 1.8839, grad_norm: 10.5430\n",
      "2021-05-19 05:38:14,682 - mmdet - INFO - Epoch [3][30/288]\tlr: 2.545e-05, eta: 2:41:59, time: 1.012, data_time: 0.018, memory: 7613, loss_cls: 0.8555, loss_bbox: 0.4601, loss_bbox_rf: 0.5948, loss: 1.9104, grad_norm: 9.7629\n",
      "2021-05-19 05:38:25,139 - mmdet - INFO - Epoch [3][40/288]\tlr: 2.580e-05, eta: 2:41:57, time: 1.046, data_time: 0.020, memory: 7613, loss_cls: 0.8758, loss_bbox: 0.4607, loss_bbox_rf: 0.5923, loss: 1.9288, grad_norm: 10.8934\n",
      "2021-05-19 05:38:35,750 - mmdet - INFO - Epoch [3][50/288]\tlr: 2.614e-05, eta: 2:41:57, time: 1.061, data_time: 0.019, memory: 7613, loss_cls: 0.8693, loss_bbox: 0.4541, loss_bbox_rf: 0.5849, loss: 1.9082, grad_norm: 10.6126\n",
      "2021-05-19 05:38:46,384 - mmdet - INFO - Epoch [3][60/288]\tlr: 2.648e-05, eta: 2:41:57, time: 1.063, data_time: 0.019, memory: 7613, loss_cls: 0.8444, loss_bbox: 0.4453, loss_bbox_rf: 0.5789, loss: 1.8686, grad_norm: 12.0796\n",
      "2021-05-19 05:38:56,959 - mmdet - INFO - Epoch [3][70/288]\tlr: 2.683e-05, eta: 2:41:56, time: 1.058, data_time: 0.018, memory: 7613, loss_cls: 0.8833, loss_bbox: 0.4573, loss_bbox_rf: 0.5931, loss: 1.9337, grad_norm: 12.3770\n",
      "2021-05-19 05:39:07,516 - mmdet - INFO - Epoch [3][80/288]\tlr: 2.717e-05, eta: 2:41:54, time: 1.056, data_time: 0.018, memory: 7613, loss_cls: 0.8370, loss_bbox: 0.4656, loss_bbox_rf: 0.6073, loss: 1.9099, grad_norm: 9.8589\n",
      "2021-05-19 05:39:17,976 - mmdet - INFO - Epoch [3][90/288]\tlr: 2.751e-05, eta: 2:41:51, time: 1.046, data_time: 0.018, memory: 7613, loss_cls: 0.8617, loss_bbox: 0.4535, loss_bbox_rf: 0.5873, loss: 1.9025, grad_norm: 9.6804\n",
      "2021-05-19 05:39:28,550 - mmdet - INFO - Epoch [3][100/288]\tlr: 2.785e-05, eta: 2:41:49, time: 1.057, data_time: 0.020, memory: 7613, loss_cls: 0.8367, loss_bbox: 0.4737, loss_bbox_rf: 0.6198, loss: 1.9302, grad_norm: 11.7343\n",
      "2021-05-19 05:39:39,082 - mmdet - INFO - Epoch [3][110/288]\tlr: 2.819e-05, eta: 2:41:46, time: 1.053, data_time: 0.019, memory: 7613, loss_cls: 0.8082, loss_bbox: 0.4611, loss_bbox_rf: 0.5922, loss: 1.8615, grad_norm: 10.0005\n",
      "2021-05-19 05:39:49,599 - mmdet - INFO - Epoch [3][120/288]\tlr: 2.853e-05, eta: 2:41:43, time: 1.052, data_time: 0.020, memory: 7613, loss_cls: 0.8024, loss_bbox: 0.4404, loss_bbox_rf: 0.5709, loss: 1.8137, grad_norm: 8.9002\n",
      "2021-05-19 05:39:59,704 - mmdet - INFO - Epoch [3][130/288]\tlr: 2.887e-05, eta: 2:41:34, time: 1.011, data_time: 0.017, memory: 7613, loss_cls: 0.8650, loss_bbox: 0.4463, loss_bbox_rf: 0.5777, loss: 1.8890, grad_norm: 11.6635\n",
      "2021-05-19 05:40:09,817 - mmdet - INFO - Epoch [3][140/288]\tlr: 2.921e-05, eta: 2:41:25, time: 1.011, data_time: 0.017, memory: 7613, loss_cls: 0.8028, loss_bbox: 0.4761, loss_bbox_rf: 0.6149, loss: 1.8939, grad_norm: 12.1037\n",
      "2021-05-19 05:40:19,897 - mmdet - INFO - Epoch [3][150/288]\tlr: 2.955e-05, eta: 2:41:16, time: 1.008, data_time: 0.018, memory: 7613, loss_cls: 0.8536, loss_bbox: 0.4492, loss_bbox_rf: 0.5806, loss: 1.8833, grad_norm: 9.8034\n",
      "2021-05-19 05:40:29,938 - mmdet - INFO - Epoch [3][160/288]\tlr: 2.989e-05, eta: 2:41:06, time: 1.004, data_time: 0.017, memory: 7613, loss_cls: 0.8330, loss_bbox: 0.4532, loss_bbox_rf: 0.5842, loss: 1.8705, grad_norm: 11.7064\n",
      "2021-05-19 05:40:39,968 - mmdet - INFO - Epoch [3][170/288]\tlr: 3.023e-05, eta: 2:40:55, time: 1.003, data_time: 0.017, memory: 7613, loss_cls: 0.8348, loss_bbox: 0.4552, loss_bbox_rf: 0.5880, loss: 1.8780, grad_norm: 9.6766\n",
      "2021-05-19 05:40:50,020 - mmdet - INFO - Epoch [3][180/288]\tlr: 3.056e-05, eta: 2:40:46, time: 1.005, data_time: 0.017, memory: 7613, loss_cls: 0.8340, loss_bbox: 0.4672, loss_bbox_rf: 0.6075, loss: 1.9087, grad_norm: 10.5952\n",
      "2021-05-19 05:41:00,084 - mmdet - INFO - Epoch [3][190/288]\tlr: 3.090e-05, eta: 2:40:36, time: 1.006, data_time: 0.017, memory: 7613, loss_cls: 0.8639, loss_bbox: 0.4318, loss_bbox_rf: 0.5533, loss: 1.8490, grad_norm: 12.4630\n",
      "2021-05-19 05:41:10,135 - mmdet - INFO - Epoch [3][200/288]\tlr: 3.124e-05, eta: 2:40:26, time: 1.005, data_time: 0.018, memory: 7613, loss_cls: 0.8851, loss_bbox: 0.4229, loss_bbox_rf: 0.5472, loss: 1.8552, grad_norm: 12.1241\n",
      "2021-05-19 05:41:20,214 - mmdet - INFO - Epoch [3][210/288]\tlr: 3.157e-05, eta: 2:40:17, time: 1.008, data_time: 0.017, memory: 7613, loss_cls: 0.8876, loss_bbox: 0.4469, loss_bbox_rf: 0.5770, loss: 1.9115, grad_norm: 12.3555\n",
      "2021-05-19 05:41:30,424 - mmdet - INFO - Epoch [3][220/288]\tlr: 3.191e-05, eta: 2:40:09, time: 1.021, data_time: 0.018, memory: 7613, loss_cls: 0.8326, loss_bbox: 0.4580, loss_bbox_rf: 0.5939, loss: 1.8845, grad_norm: 12.2710\n",
      "2021-05-19 05:41:40,475 - mmdet - INFO - Epoch [3][230/288]\tlr: 3.224e-05, eta: 2:39:59, time: 1.005, data_time: 0.017, memory: 7613, loss_cls: 0.8583, loss_bbox: 0.4299, loss_bbox_rf: 0.5565, loss: 1.8447, grad_norm: 10.0014\n",
      "2021-05-19 05:41:50,623 - mmdet - INFO - Epoch [3][240/288]\tlr: 3.257e-05, eta: 2:39:50, time: 1.015, data_time: 0.017, memory: 7613, loss_cls: 0.8628, loss_bbox: 0.4439, loss_bbox_rf: 0.5745, loss: 1.8813, grad_norm: 9.8902\n",
      "2021-05-19 05:42:01,127 - mmdet - INFO - Epoch [3][250/288]\tlr: 3.291e-05, eta: 2:39:45, time: 1.050, data_time: 0.017, memory: 7613, loss_cls: 0.8840, loss_bbox: 0.4341, loss_bbox_rf: 0.5569, loss: 1.8749, grad_norm: 11.1999\n",
      "2021-05-19 05:42:11,447 - mmdet - INFO - Epoch [3][260/288]\tlr: 3.324e-05, eta: 2:39:38, time: 1.032, data_time: 0.021, memory: 7613, loss_cls: 0.8702, loss_bbox: 0.4165, loss_bbox_rf: 0.5289, loss: 1.8156, grad_norm: 8.9326\n",
      "2021-05-19 05:42:21,570 - mmdet - INFO - Epoch [3][270/288]\tlr: 3.357e-05, eta: 2:39:29, time: 1.012, data_time: 0.017, memory: 7613, loss_cls: 0.8302, loss_bbox: 0.4322, loss_bbox_rf: 0.5598, loss: 1.8222, grad_norm: 9.3036\n",
      "2021-05-19 05:42:31,846 - mmdet - INFO - Epoch [3][280/288]\tlr: 3.390e-05, eta: 2:39:22, time: 1.028, data_time: 0.019, memory: 7613, loss_cls: 0.8709, loss_bbox: 0.4256, loss_bbox_rf: 0.5513, loss: 1.8478, grad_norm: 11.4153\n",
      "2021-05-19 05:42:40,000 - mmdet - INFO - Saving checkpoint at 3 epochs\n"
     ]
    },
    {
     "name": "stdout",
     "output_type": "stream",
     "text": [
      "[>>>>>>>>>>>>>>>>>>>>>>>>>>>>>>] 655/655, 8.2 task/s, elapsed: 80s, ETA:     0s"
     ]
    },
    {
     "name": "stderr",
     "output_type": "stream",
     "text": [
      "2021-05-19 05:44:07,433 - mmdet - INFO - Evaluating bbox...\n"
     ]
    },
    {
     "name": "stdout",
     "output_type": "stream",
     "text": [
      "Loading and preparing results...\n",
      "DONE (t=2.12s)\n",
      "creating index...\n",
      "index created!\n",
      "Running per image evaluation...\n",
      "Evaluate annotation type *bbox*\n",
      "DONE (t=13.91s).\n",
      "Accumulating evaluation results...\n",
      "DONE (t=3.25s).\n",
      "Average Precision  (AP) @[ IoU=0.50:0.95 | area=   all | maxDets=100 ] = 0.082\n",
      "Average Precision  (AP) @[ IoU=0.50      | area=   all | maxDets=1000 ] = 0.144\n",
      "Average Precision  (AP) @[ IoU=0.75      | area=   all | maxDets=1000 ] = 0.084\n",
      "Average Precision  (AP) @[ IoU=0.50:0.95 | area= small | maxDets=1000 ] = 0.026\n",
      "Average Precision  (AP) @[ IoU=0.50:0.95 | area=medium | maxDets=1000 ] = 0.112\n",
      "Average Precision  (AP) @[ IoU=0.50:0.95 | area= large | maxDets=1000 ] = 0.152\n",
      "Average Recall     (AR) @[ IoU=0.50:0.95 | area=   all | maxDets=100 ] = 0.324\n",
      "Average Recall     (AR) @[ IoU=0.50:0.95 | area=   all | maxDets=300 ] = 0.324\n",
      "Average Recall     (AR) @[ IoU=0.50:0.95 | area=   all | maxDets=1000 ] = 0.324\n",
      "Average Recall     (AR) @[ IoU=0.50:0.95 | area= small | maxDets=1000 ] = 0.048\n",
      "Average Recall     (AR) @[ IoU=0.50:0.95 | area=medium | maxDets=1000 ] = 0.313\n",
      "Average Recall     (AR) @[ IoU=0.50:0.95 | area= large | maxDets=1000 ] = 0.589\n"
     ]
    },
    {
     "name": "stderr",
     "output_type": "stream",
     "text": [
      "2021-05-19 05:44:30,588 - mmdet - INFO - Now best checkpoint is epoch_3.pth.Best bbox_mAP_50 is 0.1440\n",
      "2021-05-19 05:44:30,596 - mmdet - INFO - Epoch(val) [3][288]\tbbox_mAP: 0.0820, bbox_mAP_50: 0.1440, bbox_mAP_75: 0.0840, bbox_mAP_s: 0.0260, bbox_mAP_m: 0.1120, bbox_mAP_l: 0.1520, bbox_mAP_copypaste: 0.082 0.144 0.084 0.026 0.112 0.152\n",
      "2021-05-19 05:44:43,149 - mmdet - INFO - Epoch [4][10/288]\tlr: 3.449e-05, eta: 2:38:03, time: 1.254, data_time: 0.255, memory: 7613, loss_cls: 0.8329, loss_bbox: 0.4383, loss_bbox_rf: 0.5603, loss: 1.8314, grad_norm: 10.9731\n",
      "2021-05-19 05:44:53,240 - mmdet - INFO - Epoch [4][20/288]\tlr: 3.482e-05, eta: 2:37:54, time: 1.009, data_time: 0.020, memory: 7613, loss_cls: 0.8661, loss_bbox: 0.4173, loss_bbox_rf: 0.5382, loss: 1.8215, grad_norm: 13.3582\n",
      "2021-05-19 05:45:03,381 - mmdet - INFO - Epoch [4][30/288]\tlr: 3.515e-05, eta: 2:37:46, time: 1.014, data_time: 0.018, memory: 7613, loss_cls: 0.8474, loss_bbox: 0.4114, loss_bbox_rf: 0.5260, loss: 1.7848, grad_norm: 12.5765\n",
      "2021-05-19 05:45:13,547 - mmdet - INFO - Epoch [4][40/288]\tlr: 3.548e-05, eta: 2:37:38, time: 1.017, data_time: 0.019, memory: 7613, loss_cls: 0.7956, loss_bbox: 0.4312, loss_bbox_rf: 0.5558, loss: 1.7826, grad_norm: 10.9624\n",
      "2021-05-19 05:45:23,683 - mmdet - INFO - Epoch [4][50/288]\tlr: 3.581e-05, eta: 2:37:29, time: 1.014, data_time: 0.019, memory: 7613, loss_cls: 0.8237, loss_bbox: 0.4142, loss_bbox_rf: 0.5334, loss: 1.7714, grad_norm: 10.5627\n",
      "2021-05-19 05:45:33,794 - mmdet - INFO - Epoch [4][60/288]\tlr: 3.613e-05, eta: 2:37:20, time: 1.011, data_time: 0.019, memory: 7613, loss_cls: 0.8341, loss_bbox: 0.4244, loss_bbox_rf: 0.5444, loss: 1.8028, grad_norm: 9.7088\n",
      "2021-05-19 05:45:43,954 - mmdet - INFO - Epoch [4][70/288]\tlr: 3.646e-05, eta: 2:37:12, time: 1.016, data_time: 0.019, memory: 7613, loss_cls: 0.8067, loss_bbox: 0.4325, loss_bbox_rf: 0.5600, loss: 1.7992, grad_norm: 10.2186\n",
      "2021-05-19 05:45:54,054 - mmdet - INFO - Epoch [4][80/288]\tlr: 3.678e-05, eta: 2:37:03, time: 1.010, data_time: 0.017, memory: 7613, loss_cls: 0.8527, loss_bbox: 0.4147, loss_bbox_rf: 0.5366, loss: 1.8041, grad_norm: 10.8216\n",
      "2021-05-19 05:46:04,189 - mmdet - INFO - Epoch [4][90/288]\tlr: 3.711e-05, eta: 2:36:54, time: 1.014, data_time: 0.018, memory: 7613, loss_cls: 0.8340, loss_bbox: 0.4301, loss_bbox_rf: 0.5472, loss: 1.8114, grad_norm: 11.4370\n",
      "2021-05-19 05:46:14,252 - mmdet - INFO - Epoch [4][100/288]\tlr: 3.743e-05, eta: 2:36:45, time: 1.006, data_time: 0.017, memory: 7613, loss_cls: 0.8648, loss_bbox: 0.4083, loss_bbox_rf: 0.5211, loss: 1.7943, grad_norm: 12.0287\n",
      "2021-05-19 05:46:24,300 - mmdet - INFO - Epoch [4][110/288]\tlr: 3.775e-05, eta: 2:36:35, time: 1.005, data_time: 0.017, memory: 7613, loss_cls: 0.8295, loss_bbox: 0.4221, loss_bbox_rf: 0.5450, loss: 1.7965, grad_norm: 9.4738\n",
      "2021-05-19 05:46:34,315 - mmdet - INFO - Epoch [4][120/288]\tlr: 3.807e-05, eta: 2:36:26, time: 1.002, data_time: 0.017, memory: 7613, loss_cls: 0.8515, loss_bbox: 0.4168, loss_bbox_rf: 0.5347, loss: 1.8029, grad_norm: 10.0728\n",
      "2021-05-19 05:46:44,329 - mmdet - INFO - Epoch [4][130/288]\tlr: 3.840e-05, eta: 2:36:16, time: 1.001, data_time: 0.017, memory: 7613, loss_cls: 0.8676, loss_bbox: 0.4106, loss_bbox_rf: 0.5262, loss: 1.8045, grad_norm: 10.7799\n",
      "2021-05-19 05:46:54,358 - mmdet - INFO - Epoch [4][140/288]\tlr: 3.861e-05, eta: 2:36:06, time: 1.003, data_time: 0.016, memory: 7613, loss_cls: 0.8906, loss_bbox: 0.4183, loss_bbox_rf: 0.5316, loss: 1.8405, grad_norm: 12.2352\n",
      "2021-05-19 05:47:04,442 - mmdet - INFO - Epoch [4][150/288]\tlr: 3.859e-05, eta: 2:35:57, time: 1.008, data_time: 0.017, memory: 7613, loss_cls: 0.8320, loss_bbox: 0.4283, loss_bbox_rf: 0.5476, loss: 1.8079, grad_norm: 9.8628\n",
      "2021-05-19 05:47:14,498 - mmdet - INFO - Epoch [4][160/288]\tlr: 3.856e-05, eta: 2:35:47, time: 1.006, data_time: 0.019, memory: 7613, loss_cls: 0.9138, loss_bbox: 0.4000, loss_bbox_rf: 0.5110, loss: 1.8248, grad_norm: 10.9086\n",
      "2021-05-19 05:47:24,530 - mmdet - INFO - Epoch [4][170/288]\tlr: 3.853e-05, eta: 2:35:37, time: 1.003, data_time: 0.017, memory: 7613, loss_cls: 0.8610, loss_bbox: 0.4244, loss_bbox_rf: 0.5398, loss: 1.8252, grad_norm: 11.0112\n",
      "2021-05-19 05:47:34,544 - mmdet - INFO - Epoch [4][180/288]\tlr: 3.850e-05, eta: 2:35:27, time: 1.001, data_time: 0.017, memory: 7613, loss_cls: 0.8305, loss_bbox: 0.4194, loss_bbox_rf: 0.5384, loss: 1.7883, grad_norm: 9.5228\n",
      "2021-05-19 05:47:44,565 - mmdet - INFO - Epoch [4][190/288]\tlr: 3.847e-05, eta: 2:35:18, time: 1.002, data_time: 0.016, memory: 7613, loss_cls: 0.8648, loss_bbox: 0.3864, loss_bbox_rf: 0.4858, loss: 1.7370, grad_norm: 11.5499\n",
      "2021-05-19 05:47:54,571 - mmdet - INFO - Epoch [4][200/288]\tlr: 3.844e-05, eta: 2:35:08, time: 1.001, data_time: 0.016, memory: 7613, loss_cls: 0.8449, loss_bbox: 0.4306, loss_bbox_rf: 0.5515, loss: 1.8271, grad_norm: 9.1256\n",
      "2021-05-19 05:48:04,578 - mmdet - INFO - Epoch [4][210/288]\tlr: 3.842e-05, eta: 2:34:58, time: 1.001, data_time: 0.017, memory: 7613, loss_cls: 0.8139, loss_bbox: 0.4230, loss_bbox_rf: 0.5430, loss: 1.7799, grad_norm: 8.2567\n",
      "2021-05-19 05:48:14,607 - mmdet - INFO - Epoch [4][220/288]\tlr: 3.839e-05, eta: 2:34:48, time: 1.003, data_time: 0.017, memory: 7613, loss_cls: 0.8261, loss_bbox: 0.4241, loss_bbox_rf: 0.5420, loss: 1.7921, grad_norm: 8.0783\n",
      "2021-05-19 05:48:24,641 - mmdet - INFO - Epoch [4][230/288]\tlr: 3.836e-05, eta: 2:34:38, time: 1.003, data_time: 0.017, memory: 7613, loss_cls: 0.8288, loss_bbox: 0.3900, loss_bbox_rf: 0.4955, loss: 1.7143, grad_norm: 7.9894\n",
      "2021-05-19 05:48:34,683 - mmdet - INFO - Epoch [4][240/288]\tlr: 3.833e-05, eta: 2:34:28, time: 1.004, data_time: 0.017, memory: 7613, loss_cls: 0.9022, loss_bbox: 0.3862, loss_bbox_rf: 0.4927, loss: 1.7810, grad_norm: 11.7017\n",
      "2021-05-19 05:48:44,686 - mmdet - INFO - Epoch [4][250/288]\tlr: 3.830e-05, eta: 2:34:18, time: 1.000, data_time: 0.016, memory: 7613, loss_cls: 0.8737, loss_bbox: 0.4120, loss_bbox_rf: 0.5273, loss: 1.8130, grad_norm: 10.2399\n",
      "2021-05-19 05:48:54,709 - mmdet - INFO - Epoch [4][260/288]\tlr: 3.827e-05, eta: 2:34:08, time: 1.002, data_time: 0.018, memory: 7613, loss_cls: 0.8475, loss_bbox: 0.4111, loss_bbox_rf: 0.5192, loss: 1.7778, grad_norm: 10.9478\n",
      "2021-05-19 05:49:04,739 - mmdet - INFO - Epoch [4][270/288]\tlr: 3.824e-05, eta: 2:33:59, time: 1.003, data_time: 0.017, memory: 7613, loss_cls: 0.8716, loss_bbox: 0.4006, loss_bbox_rf: 0.5108, loss: 1.7831, grad_norm: 10.1989\n",
      "2021-05-19 05:49:14,807 - mmdet - INFO - Epoch [4][280/288]\tlr: 3.821e-05, eta: 2:33:49, time: 1.007, data_time: 0.018, memory: 7613, loss_cls: 0.8410, loss_bbox: 0.4055, loss_bbox_rf: 0.5138, loss: 1.7603, grad_norm: 8.8565\n",
      "2021-05-19 05:49:22,917 - mmdet - INFO - Saving checkpoint at 4 epochs\n"
     ]
    },
    {
     "name": "stdout",
     "output_type": "stream",
     "text": [
      "[>>>>>>>>>>>>>>>>>>>>>>>>>>>>>>] 655/655, 8.0 task/s, elapsed: 82s, ETA:     0s"
     ]
    },
    {
     "name": "stderr",
     "output_type": "stream",
     "text": [
      "2021-05-19 05:50:52,428 - mmdet - INFO - Evaluating bbox...\n"
     ]
    },
    {
     "name": "stdout",
     "output_type": "stream",
     "text": [
      "Loading and preparing results...\n",
      "DONE (t=2.20s)\n",
      "creating index...\n",
      "index created!\n",
      "Running per image evaluation...\n",
      "Evaluate annotation type *bbox*\n",
      "DONE (t=11.24s).\n",
      "Accumulating evaluation results...\n",
      "DONE (t=3.20s).\n",
      "Average Precision  (AP) @[ IoU=0.50:0.95 | area=   all | maxDets=100 ] = 0.116\n",
      "Average Precision  (AP) @[ IoU=0.50      | area=   all | maxDets=1000 ] = 0.200\n",
      "Average Precision  (AP) @[ IoU=0.75      | area=   all | maxDets=1000 ] = 0.120\n",
      "Average Precision  (AP) @[ IoU=0.50:0.95 | area= small | maxDets=1000 ] = 0.026\n",
      "Average Precision  (AP) @[ IoU=0.50:0.95 | area=medium | maxDets=1000 ] = 0.140\n",
      "Average Precision  (AP) @[ IoU=0.50:0.95 | area= large | maxDets=1000 ] = 0.212\n",
      "Average Recall     (AR) @[ IoU=0.50:0.95 | area=   all | maxDets=100 ] = 0.366\n",
      "Average Recall     (AR) @[ IoU=0.50:0.95 | area=   all | maxDets=300 ] = 0.367\n",
      "Average Recall     (AR) @[ IoU=0.50:0.95 | area=   all | maxDets=1000 ] = 0.367\n",
      "Average Recall     (AR) @[ IoU=0.50:0.95 | area= small | maxDets=1000 ] = 0.068\n",
      "Average Recall     (AR) @[ IoU=0.50:0.95 | area=medium | maxDets=1000 ] = 0.362\n",
      "Average Recall     (AR) @[ IoU=0.50:0.95 | area= large | maxDets=1000 ] = 0.619\n"
     ]
    },
    {
     "name": "stderr",
     "output_type": "stream",
     "text": [
      "2021-05-19 05:51:12,976 - mmdet - INFO - Now best checkpoint is epoch_4.pth.Best bbox_mAP_50 is 0.2000\n",
      "2021-05-19 05:51:12,984 - mmdet - INFO - Epoch(val) [4][288]\tbbox_mAP: 0.1160, bbox_mAP_50: 0.2000, bbox_mAP_75: 0.1200, bbox_mAP_s: 0.0260, bbox_mAP_m: 0.1400, bbox_mAP_l: 0.2120, bbox_mAP_copypaste: 0.116 0.200 0.120 0.026 0.140 0.212\n",
      "2021-05-19 05:51:25,478 - mmdet - INFO - Epoch [5][10/288]\tlr: 3.815e-05, eta: 2:32:47, time: 1.248, data_time: 0.252, memory: 7613, loss_cls: 0.8206, loss_bbox: 0.4041, loss_bbox_rf: 0.5086, loss: 1.7332, grad_norm: 12.6231\n",
      "2021-05-19 05:51:35,574 - mmdet - INFO - Epoch [5][20/288]\tlr: 3.812e-05, eta: 2:32:38, time: 1.010, data_time: 0.018, memory: 7613, loss_cls: 0.8510, loss_bbox: 0.3836, loss_bbox_rf: 0.4960, loss: 1.7306, grad_norm: 10.5342\n",
      "2021-05-19 05:51:45,663 - mmdet - INFO - Epoch [5][30/288]\tlr: 3.809e-05, eta: 2:32:30, time: 1.009, data_time: 0.018, memory: 7613, loss_cls: 0.8367, loss_bbox: 0.3838, loss_bbox_rf: 0.4917, loss: 1.7122, grad_norm: 9.1202\n",
      "2021-05-19 05:51:55,680 - mmdet - INFO - Epoch [5][40/288]\tlr: 3.805e-05, eta: 2:32:20, time: 1.002, data_time: 0.016, memory: 7613, loss_cls: 0.8574, loss_bbox: 0.3804, loss_bbox_rf: 0.4842, loss: 1.7220, grad_norm: 8.3881\n",
      "2021-05-19 05:52:05,765 - mmdet - INFO - Epoch [5][50/288]\tlr: 3.802e-05, eta: 2:32:11, time: 1.008, data_time: 0.017, memory: 7613, loss_cls: 0.8262, loss_bbox: 0.4031, loss_bbox_rf: 0.5142, loss: 1.7435, grad_norm: 8.9306\n",
      "2021-05-19 05:52:15,850 - mmdet - INFO - Epoch [5][60/288]\tlr: 3.799e-05, eta: 2:32:02, time: 1.008, data_time: 0.017, memory: 7613, loss_cls: 0.8116, loss_bbox: 0.4095, loss_bbox_rf: 0.5284, loss: 1.7495, grad_norm: 9.9761\n",
      "2021-05-19 05:52:25,936 - mmdet - INFO - Epoch [5][70/288]\tlr: 3.796e-05, eta: 2:31:53, time: 1.009, data_time: 0.018, memory: 7613, loss_cls: 0.8035, loss_bbox: 0.3885, loss_bbox_rf: 0.4954, loss: 1.6874, grad_norm: 10.9457\n",
      "2021-05-19 05:52:36,020 - mmdet - INFO - Epoch [5][80/288]\tlr: 3.792e-05, eta: 2:31:44, time: 1.008, data_time: 0.018, memory: 7613, loss_cls: 0.8341, loss_bbox: 0.3842, loss_bbox_rf: 0.4923, loss: 1.7107, grad_norm: 11.5386\n",
      "2021-05-19 05:52:46,067 - mmdet - INFO - Epoch [5][90/288]\tlr: 3.789e-05, eta: 2:31:34, time: 1.005, data_time: 0.018, memory: 7613, loss_cls: 0.8062, loss_bbox: 0.3868, loss_bbox_rf: 0.4977, loss: 1.6907, grad_norm: 9.7647\n",
      "2021-05-19 05:52:56,045 - mmdet - INFO - Epoch [5][100/288]\tlr: 3.786e-05, eta: 2:31:25, time: 0.998, data_time: 0.016, memory: 7613, loss_cls: 0.8803, loss_bbox: 0.3853, loss_bbox_rf: 0.4895, loss: 1.7551, grad_norm: 8.2440\n",
      "2021-05-19 05:53:06,094 - mmdet - INFO - Epoch [5][110/288]\tlr: 3.782e-05, eta: 2:31:15, time: 1.005, data_time: 0.017, memory: 7613, loss_cls: 0.8332, loss_bbox: 0.4002, loss_bbox_rf: 0.5123, loss: 1.7456, grad_norm: 9.1383\n",
      "2021-05-19 05:53:16,169 - mmdet - INFO - Epoch [5][120/288]\tlr: 3.779e-05, eta: 2:31:06, time: 1.007, data_time: 0.018, memory: 7613, loss_cls: 0.8454, loss_bbox: 0.3652, loss_bbox_rf: 0.4666, loss: 1.6773, grad_norm: 9.9855\n",
      "2021-05-19 05:53:26,239 - mmdet - INFO - Epoch [5][130/288]\tlr: 3.776e-05, eta: 2:30:57, time: 1.007, data_time: 0.018, memory: 7613, loss_cls: 0.8817, loss_bbox: 0.3760, loss_bbox_rf: 0.4870, loss: 1.7447, grad_norm: 10.6799\n",
      "2021-05-19 05:53:36,379 - mmdet - INFO - Epoch [5][140/288]\tlr: 3.772e-05, eta: 2:30:48, time: 1.014, data_time: 0.018, memory: 7613, loss_cls: 0.8663, loss_bbox: 0.3751, loss_bbox_rf: 0.4698, loss: 1.7111, grad_norm: 11.2939\n",
      "2021-05-19 05:53:46,529 - mmdet - INFO - Epoch [5][150/288]\tlr: 3.769e-05, eta: 2:30:39, time: 1.015, data_time: 0.018, memory: 7613, loss_cls: 0.8620, loss_bbox: 0.3751, loss_bbox_rf: 0.4807, loss: 1.7178, grad_norm: 10.8687\n",
      "2021-05-19 05:53:56,612 - mmdet - INFO - Epoch [5][160/288]\tlr: 3.765e-05, eta: 2:30:30, time: 1.008, data_time: 0.017, memory: 7613, loss_cls: 0.8585, loss_bbox: 0.3940, loss_bbox_rf: 0.5010, loss: 1.7536, grad_norm: 10.2784\n",
      "2021-05-19 05:54:06,697 - mmdet - INFO - Epoch [5][170/288]\tlr: 3.762e-05, eta: 2:30:21, time: 1.008, data_time: 0.017, memory: 7613, loss_cls: 0.8959, loss_bbox: 0.3868, loss_bbox_rf: 0.4833, loss: 1.7660, grad_norm: 12.8552\n",
      "2021-05-19 05:54:16,762 - mmdet - INFO - Epoch [5][180/288]\tlr: 3.758e-05, eta: 2:30:12, time: 1.006, data_time: 0.017, memory: 7613, loss_cls: 0.8258, loss_bbox: 0.4023, loss_bbox_rf: 0.5166, loss: 1.7447, grad_norm: 9.5815\n",
      "2021-05-19 05:54:26,820 - mmdet - INFO - Epoch [5][190/288]\tlr: 3.755e-05, eta: 2:30:02, time: 1.006, data_time: 0.017, memory: 7613, loss_cls: 0.8176, loss_bbox: 0.3811, loss_bbox_rf: 0.4867, loss: 1.6854, grad_norm: 8.6148\n",
      "2021-05-19 05:54:36,930 - mmdet - INFO - Epoch [5][200/288]\tlr: 3.751e-05, eta: 2:29:53, time: 1.011, data_time: 0.018, memory: 7613, loss_cls: 0.8476, loss_bbox: 0.3908, loss_bbox_rf: 0.4980, loss: 1.7364, grad_norm: 10.6798\n",
      "2021-05-19 05:54:47,078 - mmdet - INFO - Epoch [5][210/288]\tlr: 3.747e-05, eta: 2:29:44, time: 1.015, data_time: 0.018, memory: 7613, loss_cls: 0.7909, loss_bbox: 0.4002, loss_bbox_rf: 0.5124, loss: 1.7035, grad_norm: 8.1520\n",
      "2021-05-19 05:54:57,181 - mmdet - INFO - Epoch [5][220/288]\tlr: 3.744e-05, eta: 2:29:35, time: 1.010, data_time: 0.018, memory: 7613, loss_cls: 0.8364, loss_bbox: 0.3644, loss_bbox_rf: 0.4639, loss: 1.6647, grad_norm: 12.1931\n",
      "2021-05-19 05:55:07,302 - mmdet - INFO - Epoch [5][230/288]\tlr: 3.740e-05, eta: 2:29:26, time: 1.012, data_time: 0.019, memory: 7613, loss_cls: 0.8529, loss_bbox: 0.3683, loss_bbox_rf: 0.4649, loss: 1.6861, grad_norm: 9.3300\n",
      "2021-05-19 05:55:17,375 - mmdet - INFO - Epoch [5][240/288]\tlr: 3.736e-05, eta: 2:29:17, time: 1.007, data_time: 0.017, memory: 7613, loss_cls: 0.8572, loss_bbox: 0.3790, loss_bbox_rf: 0.4799, loss: 1.7162, grad_norm: 9.0063\n",
      "2021-05-19 05:55:27,438 - mmdet - INFO - Epoch [5][250/288]\tlr: 3.733e-05, eta: 2:29:07, time: 1.006, data_time: 0.016, memory: 7613, loss_cls: 0.8461, loss_bbox: 0.3719, loss_bbox_rf: 0.4777, loss: 1.6957, grad_norm: 10.6848\n",
      "2021-05-19 05:55:37,525 - mmdet - INFO - Epoch [5][260/288]\tlr: 3.729e-05, eta: 2:28:58, time: 1.009, data_time: 0.017, memory: 7613, loss_cls: 0.8351, loss_bbox: 0.3924, loss_bbox_rf: 0.5007, loss: 1.7283, grad_norm: 10.2514\n",
      "2021-05-19 05:55:47,633 - mmdet - INFO - Epoch [5][270/288]\tlr: 3.725e-05, eta: 2:28:49, time: 1.011, data_time: 0.017, memory: 7613, loss_cls: 0.8318, loss_bbox: 0.3722, loss_bbox_rf: 0.4678, loss: 1.6719, grad_norm: 10.8295\n",
      "2021-05-19 05:55:57,728 - mmdet - INFO - Epoch [5][280/288]\tlr: 3.721e-05, eta: 2:28:39, time: 1.009, data_time: 0.018, memory: 7613, loss_cls: 0.8351, loss_bbox: 0.3747, loss_bbox_rf: 0.4793, loss: 1.6892, grad_norm: 9.2901\n",
      "2021-05-19 05:56:05,895 - mmdet - INFO - Saving checkpoint at 5 epochs\n"
     ]
    },
    {
     "name": "stdout",
     "output_type": "stream",
     "text": [
      "[>>>>>>>>>>>>>>>>>>>>>>>>>>>>>>] 655/655, 7.9 task/s, elapsed: 83s, ETA:     0s"
     ]
    },
    {
     "name": "stderr",
     "output_type": "stream",
     "text": [
      "2021-05-19 05:57:36,983 - mmdet - INFO - Evaluating bbox...\n"
     ]
    },
    {
     "name": "stdout",
     "output_type": "stream",
     "text": [
      "Loading and preparing results...\n",
      "DONE (t=2.14s)\n",
      "creating index...\n",
      "index created!\n",
      "Running per image evaluation...\n",
      "Evaluate annotation type *bbox*\n",
      "DONE (t=13.30s).\n",
      "Accumulating evaluation results...\n",
      "DONE (t=3.25s).\n",
      "Average Precision  (AP) @[ IoU=0.50:0.95 | area=   all | maxDets=100 ] = 0.134\n",
      "Average Precision  (AP) @[ IoU=0.50      | area=   all | maxDets=1000 ] = 0.231\n",
      "Average Precision  (AP) @[ IoU=0.75      | area=   all | maxDets=1000 ] = 0.131\n",
      "Average Precision  (AP) @[ IoU=0.50:0.95 | area= small | maxDets=1000 ] = 0.037\n",
      "Average Precision  (AP) @[ IoU=0.50:0.95 | area=medium | maxDets=1000 ] = 0.129\n",
      "Average Precision  (AP) @[ IoU=0.50:0.95 | area= large | maxDets=1000 ] = 0.248\n",
      "Average Recall     (AR) @[ IoU=0.50:0.95 | area=   all | maxDets=100 ] = 0.362\n",
      "Average Recall     (AR) @[ IoU=0.50:0.95 | area=   all | maxDets=300 ] = 0.363\n",
      "Average Recall     (AR) @[ IoU=0.50:0.95 | area=   all | maxDets=1000 ] = 0.363\n",
      "Average Recall     (AR) @[ IoU=0.50:0.95 | area= small | maxDets=1000 ] = 0.098\n",
      "Average Recall     (AR) @[ IoU=0.50:0.95 | area=medium | maxDets=1000 ] = 0.350\n",
      "Average Recall     (AR) @[ IoU=0.50:0.95 | area= large | maxDets=1000 ] = 0.582\n"
     ]
    },
    {
     "name": "stderr",
     "output_type": "stream",
     "text": [
      "2021-05-19 05:57:59,554 - mmdet - INFO - Now best checkpoint is epoch_5.pth.Best bbox_mAP_50 is 0.2310\n",
      "2021-05-19 05:57:59,561 - mmdet - INFO - Epoch(val) [5][288]\tbbox_mAP: 0.1340, bbox_mAP_50: 0.2310, bbox_mAP_75: 0.1310, bbox_mAP_s: 0.0370, bbox_mAP_m: 0.1290, bbox_mAP_l: 0.2480, bbox_mAP_copypaste: 0.134 0.231 0.131 0.037 0.129 0.248\n",
      "2021-05-19 05:58:12,011 - mmdet - INFO - Epoch [6][10/288]\tlr: 3.715e-05, eta: 2:27:47, time: 1.244, data_time: 0.251, memory: 7613, loss_cls: 0.8458, loss_bbox: 0.3734, loss_bbox_rf: 0.4761, loss: 1.6953, grad_norm: 8.5903\n",
      "2021-05-19 05:58:22,057 - mmdet - INFO - Epoch [6][20/288]\tlr: 3.711e-05, eta: 2:27:38, time: 1.005, data_time: 0.016, memory: 7613, loss_cls: 0.8263, loss_bbox: 0.3640, loss_bbox_rf: 0.4639, loss: 1.6542, grad_norm: 8.8513\n",
      "2021-05-19 05:58:32,207 - mmdet - INFO - Epoch [6][30/288]\tlr: 3.707e-05, eta: 2:27:29, time: 1.015, data_time: 0.018, memory: 7613, loss_cls: 0.8213, loss_bbox: 0.3647, loss_bbox_rf: 0.4630, loss: 1.6489, grad_norm: 8.7952\n",
      "2021-05-19 05:58:42,247 - mmdet - INFO - Epoch [6][40/288]\tlr: 3.703e-05, eta: 2:27:20, time: 1.004, data_time: 0.017, memory: 7613, loss_cls: 0.8078, loss_bbox: 0.3689, loss_bbox_rf: 0.4688, loss: 1.6456, grad_norm: 9.1664\n",
      "2021-05-19 05:58:52,280 - mmdet - INFO - Epoch [6][50/288]\tlr: 3.699e-05, eta: 2:27:11, time: 1.003, data_time: 0.017, memory: 7613, loss_cls: 0.8072, loss_bbox: 0.3510, loss_bbox_rf: 0.4460, loss: 1.6042, grad_norm: 11.0022\n",
      "2021-05-19 05:59:02,398 - mmdet - INFO - Epoch [6][60/288]\tlr: 3.695e-05, eta: 2:27:02, time: 1.012, data_time: 0.019, memory: 7613, loss_cls: 0.8225, loss_bbox: 0.3592, loss_bbox_rf: 0.4562, loss: 1.6380, grad_norm: 9.9473\n",
      "2021-05-19 05:59:12,463 - mmdet - INFO - Epoch [6][70/288]\tlr: 3.691e-05, eta: 2:26:52, time: 1.007, data_time: 0.019, memory: 7613, loss_cls: 0.7996, loss_bbox: 0.3802, loss_bbox_rf: 0.4885, loss: 1.6683, grad_norm: 8.7120\n",
      "2021-05-19 05:59:22,526 - mmdet - INFO - Epoch [6][80/288]\tlr: 3.687e-05, eta: 2:26:43, time: 1.006, data_time: 0.018, memory: 7613, loss_cls: 0.8366, loss_bbox: 0.3719, loss_bbox_rf: 0.4729, loss: 1.6814, grad_norm: 9.0096\n",
      "2021-05-19 05:59:32,591 - mmdet - INFO - Epoch [6][90/288]\tlr: 3.683e-05, eta: 2:26:34, time: 1.007, data_time: 0.017, memory: 7613, loss_cls: 0.8404, loss_bbox: 0.3667, loss_bbox_rf: 0.4642, loss: 1.6712, grad_norm: 9.6469\n",
      "2021-05-19 05:59:42,652 - mmdet - INFO - Epoch [6][100/288]\tlr: 3.679e-05, eta: 2:26:25, time: 1.006, data_time: 0.018, memory: 7613, loss_cls: 0.8146, loss_bbox: 0.3443, loss_bbox_rf: 0.4338, loss: 1.5927, grad_norm: 10.0566\n",
      "2021-05-19 05:59:52,701 - mmdet - INFO - Epoch [6][110/288]\tlr: 3.675e-05, eta: 2:26:15, time: 1.005, data_time: 0.017, memory: 7613, loss_cls: 0.7782, loss_bbox: 0.3612, loss_bbox_rf: 0.4608, loss: 1.6003, grad_norm: 8.1239\n",
      "2021-05-19 06:00:02,728 - mmdet - INFO - Epoch [6][120/288]\tlr: 3.671e-05, eta: 2:26:06, time: 1.003, data_time: 0.017, memory: 7613, loss_cls: 0.7988, loss_bbox: 0.3541, loss_bbox_rf: 0.4509, loss: 1.6037, grad_norm: 8.6312\n",
      "2021-05-19 06:00:12,809 - mmdet - INFO - Epoch [6][130/288]\tlr: 3.667e-05, eta: 2:25:56, time: 1.008, data_time: 0.018, memory: 7613, loss_cls: 0.8241, loss_bbox: 0.3838, loss_bbox_rf: 0.4910, loss: 1.6989, grad_norm: 7.0761\n",
      "2021-05-19 06:00:22,932 - mmdet - INFO - Epoch [6][140/288]\tlr: 3.663e-05, eta: 2:25:47, time: 1.012, data_time: 0.019, memory: 7613, loss_cls: 0.8310, loss_bbox: 0.3498, loss_bbox_rf: 0.4503, loss: 1.6311, grad_norm: 8.0357\n",
      "2021-05-19 06:00:33,057 - mmdet - INFO - Epoch [6][150/288]\tlr: 3.659e-05, eta: 2:25:38, time: 1.012, data_time: 0.017, memory: 7613, loss_cls: 0.8187, loss_bbox: 0.3644, loss_bbox_rf: 0.4615, loss: 1.6446, grad_norm: 9.1481\n",
      "2021-05-19 06:00:43,172 - mmdet - INFO - Epoch [6][160/288]\tlr: 3.655e-05, eta: 2:25:29, time: 1.012, data_time: 0.018, memory: 7613, loss_cls: 0.8031, loss_bbox: 0.3637, loss_bbox_rf: 0.4652, loss: 1.6321, grad_norm: 7.4153\n",
      "2021-05-19 06:00:53,285 - mmdet - INFO - Epoch [6][170/288]\tlr: 3.650e-05, eta: 2:25:20, time: 1.011, data_time: 0.019, memory: 7613, loss_cls: 0.8432, loss_bbox: 0.3500, loss_bbox_rf: 0.4441, loss: 1.6373, grad_norm: 7.7775\n",
      "2021-05-19 06:01:03,410 - mmdet - INFO - Epoch [6][180/288]\tlr: 3.646e-05, eta: 2:25:11, time: 1.012, data_time: 0.018, memory: 7613, loss_cls: 0.8293, loss_bbox: 0.3627, loss_bbox_rf: 0.4591, loss: 1.6511, grad_norm: 8.2903\n",
      "2021-05-19 06:01:13,512 - mmdet - INFO - Epoch [6][190/288]\tlr: 3.642e-05, eta: 2:25:02, time: 1.010, data_time: 0.017, memory: 7613, loss_cls: 0.7877, loss_bbox: 0.3682, loss_bbox_rf: 0.4675, loss: 1.6234, grad_norm: 7.9722\n",
      "2021-05-19 06:01:23,634 - mmdet - INFO - Epoch [6][200/288]\tlr: 3.638e-05, eta: 2:24:53, time: 1.012, data_time: 0.018, memory: 7613, loss_cls: 0.8448, loss_bbox: 0.3531, loss_bbox_rf: 0.4480, loss: 1.6458, grad_norm: 9.3549\n",
      "2021-05-19 06:01:33,755 - mmdet - INFO - Epoch [6][210/288]\tlr: 3.633e-05, eta: 2:24:44, time: 1.012, data_time: 0.019, memory: 7613, loss_cls: 0.8265, loss_bbox: 0.3558, loss_bbox_rf: 0.4571, loss: 1.6393, grad_norm: 8.3633\n",
      "2021-05-19 06:01:43,819 - mmdet - INFO - Epoch [6][220/288]\tlr: 3.629e-05, eta: 2:24:34, time: 1.006, data_time: 0.018, memory: 7613, loss_cls: 0.7935, loss_bbox: 0.3515, loss_bbox_rf: 0.4472, loss: 1.5923, grad_norm: 7.8632\n",
      "2021-05-19 06:01:53,924 - mmdet - INFO - Epoch [6][230/288]\tlr: 3.625e-05, eta: 2:24:25, time: 1.011, data_time: 0.018, memory: 7613, loss_cls: 0.8322, loss_bbox: 0.3524, loss_bbox_rf: 0.4483, loss: 1.6329, grad_norm: 7.7844\n",
      "2021-05-19 06:02:04,003 - mmdet - INFO - Epoch [6][240/288]\tlr: 3.621e-05, eta: 2:24:16, time: 1.008, data_time: 0.018, memory: 7613, loss_cls: 0.8604, loss_bbox: 0.3433, loss_bbox_rf: 0.4362, loss: 1.6399, grad_norm: 9.4890\n",
      "2021-05-19 06:02:14,150 - mmdet - INFO - Epoch [6][250/288]\tlr: 3.616e-05, eta: 2:24:07, time: 1.015, data_time: 0.019, memory: 7613, loss_cls: 0.8126, loss_bbox: 0.3621, loss_bbox_rf: 0.4645, loss: 1.6392, grad_norm: 10.7949\n",
      "2021-05-19 06:02:24,286 - mmdet - INFO - Epoch [6][260/288]\tlr: 3.612e-05, eta: 2:23:58, time: 1.014, data_time: 0.019, memory: 7613, loss_cls: 0.8311, loss_bbox: 0.3331, loss_bbox_rf: 0.4237, loss: 1.5880, grad_norm: 9.7177\n",
      "2021-05-19 06:02:34,383 - mmdet - INFO - Epoch [6][270/288]\tlr: 3.607e-05, eta: 2:23:48, time: 1.010, data_time: 0.017, memory: 7613, loss_cls: 0.8191, loss_bbox: 0.3681, loss_bbox_rf: 0.4633, loss: 1.6505, grad_norm: 9.6464\n",
      "2021-05-19 06:02:44,488 - mmdet - INFO - Epoch [6][280/288]\tlr: 3.603e-05, eta: 2:23:39, time: 1.010, data_time: 0.018, memory: 7613, loss_cls: 0.7887, loss_bbox: 0.3552, loss_bbox_rf: 0.4480, loss: 1.5920, grad_norm: 9.0596\n",
      "2021-05-19 06:02:52,668 - mmdet - INFO - Saving checkpoint at 6 epochs\n"
     ]
    },
    {
     "name": "stdout",
     "output_type": "stream",
     "text": [
      "[>>>>>>>>>>>>>>>>>>>>>>>>>>>>>>] 655/655, 7.7 task/s, elapsed: 85s, ETA:     0s"
     ]
    },
    {
     "name": "stderr",
     "output_type": "stream",
     "text": [
      "2021-05-19 06:04:22,106 - mmdet - INFO - Evaluating bbox...\n"
     ]
    },
    {
     "name": "stdout",
     "output_type": "stream",
     "text": [
      "Loading and preparing results...\n",
      "DONE (t=2.26s)\n",
      "creating index...\n",
      "index created!\n",
      "Running per image evaluation...\n",
      "Evaluate annotation type *bbox*\n",
      "DONE (t=12.54s).\n",
      "Accumulating evaluation results...\n",
      "DONE (t=3.29s).\n",
      "Average Precision  (AP) @[ IoU=0.50:0.95 | area=   all | maxDets=100 ] = 0.150\n",
      "Average Precision  (AP) @[ IoU=0.50      | area=   all | maxDets=1000 ] = 0.254\n",
      "Average Precision  (AP) @[ IoU=0.75      | area=   all | maxDets=1000 ] = 0.151\n",
      "Average Precision  (AP) @[ IoU=0.50:0.95 | area= small | maxDets=1000 ] = 0.039\n",
      "Average Precision  (AP) @[ IoU=0.50:0.95 | area=medium | maxDets=1000 ] = 0.162\n",
      "Average Precision  (AP) @[ IoU=0.50:0.95 | area= large | maxDets=1000 ] = 0.283\n",
      "Average Recall     (AR) @[ IoU=0.50:0.95 | area=   all | maxDets=100 ] = 0.380\n",
      "Average Recall     (AR) @[ IoU=0.50:0.95 | area=   all | maxDets=300 ] = 0.380\n",
      "Average Recall     (AR) @[ IoU=0.50:0.95 | area=   all | maxDets=1000 ] = 0.380\n",
      "Average Recall     (AR) @[ IoU=0.50:0.95 | area= small | maxDets=1000 ] = 0.108\n",
      "Average Recall     (AR) @[ IoU=0.50:0.95 | area=medium | maxDets=1000 ] = 0.366\n",
      "Average Recall     (AR) @[ IoU=0.50:0.95 | area= large | maxDets=1000 ] = 0.673\n"
     ]
    },
    {
     "name": "stderr",
     "output_type": "stream",
     "text": [
      "2021-05-19 06:04:44,153 - mmdet - INFO - Now best checkpoint is epoch_6.pth.Best bbox_mAP_50 is 0.2540\n",
      "2021-05-19 06:04:44,161 - mmdet - INFO - Epoch(val) [6][288]\tbbox_mAP: 0.1500, bbox_mAP_50: 0.2540, bbox_mAP_75: 0.1510, bbox_mAP_s: 0.0390, bbox_mAP_m: 0.1620, bbox_mAP_l: 0.2830, bbox_mAP_copypaste: 0.150 0.254 0.151 0.039 0.162 0.283\n",
      "2021-05-19 06:04:56,734 - mmdet - INFO - Epoch [7][10/288]\tlr: 3.595e-05, eta: 2:22:54, time: 1.256, data_time: 0.255, memory: 7613, loss_cls: 0.7864, loss_bbox: 0.3324, loss_bbox_rf: 0.4188, loss: 1.5376, grad_norm: 12.5108\n",
      "2021-05-19 06:05:06,933 - mmdet - INFO - Epoch [7][20/288]\tlr: 3.590e-05, eta: 2:22:46, time: 1.020, data_time: 0.019, memory: 7613, loss_cls: 0.7824, loss_bbox: 0.3639, loss_bbox_rf: 0.4595, loss: 1.6058, grad_norm: 12.2642\n",
      "2021-05-19 06:05:17,101 - mmdet - INFO - Epoch [7][30/288]\tlr: 3.586e-05, eta: 2:22:37, time: 1.017, data_time: 0.019, memory: 7613, loss_cls: 0.7948, loss_bbox: 0.3349, loss_bbox_rf: 0.4280, loss: 1.5577, grad_norm: 8.7372\n",
      "2021-05-19 06:05:27,248 - mmdet - INFO - Epoch [7][40/288]\tlr: 3.581e-05, eta: 2:22:28, time: 1.015, data_time: 0.018, memory: 7613, loss_cls: 0.8432, loss_bbox: 0.3558, loss_bbox_rf: 0.4523, loss: 1.6513, grad_norm: 9.2591\n",
      "2021-05-19 06:05:37,416 - mmdet - INFO - Epoch [7][50/288]\tlr: 3.577e-05, eta: 2:22:19, time: 1.017, data_time: 0.020, memory: 7613, loss_cls: 0.8097, loss_bbox: 0.3226, loss_bbox_rf: 0.4086, loss: 1.5410, grad_norm: 10.0000\n",
      "2021-05-19 06:05:47,586 - mmdet - INFO - Epoch [7][60/288]\tlr: 3.572e-05, eta: 2:22:10, time: 1.017, data_time: 0.018, memory: 7613, loss_cls: 0.7657, loss_bbox: 0.3563, loss_bbox_rf: 0.4555, loss: 1.5776, grad_norm: 9.4613\n",
      "2021-05-19 06:05:57,739 - mmdet - INFO - Epoch [7][70/288]\tlr: 3.568e-05, eta: 2:22:01, time: 1.015, data_time: 0.018, memory: 7613, loss_cls: 0.8154, loss_bbox: 0.3281, loss_bbox_rf: 0.4120, loss: 1.5555, grad_norm: 10.6002\n",
      "2021-05-19 06:06:07,876 - mmdet - INFO - Epoch [7][80/288]\tlr: 3.563e-05, eta: 2:21:52, time: 1.014, data_time: 0.018, memory: 7613, loss_cls: 0.8208, loss_bbox: 0.3343, loss_bbox_rf: 0.4213, loss: 1.5764, grad_norm: 10.7007\n",
      "2021-05-19 06:06:17,992 - mmdet - INFO - Epoch [7][90/288]\tlr: 3.558e-05, eta: 2:21:43, time: 1.012, data_time: 0.018, memory: 7613, loss_cls: 0.7959, loss_bbox: 0.3414, loss_bbox_rf: 0.4330, loss: 1.5703, grad_norm: 10.9259\n",
      "2021-05-19 06:06:28,128 - mmdet - INFO - Epoch [7][100/288]\tlr: 3.554e-05, eta: 2:21:34, time: 1.014, data_time: 0.018, memory: 7613, loss_cls: 0.7421, loss_bbox: 0.3257, loss_bbox_rf: 0.4128, loss: 1.4807, grad_norm: 8.1783\n",
      "2021-05-19 06:06:38,265 - mmdet - INFO - Epoch [7][110/288]\tlr: 3.549e-05, eta: 2:21:25, time: 1.014, data_time: 0.019, memory: 7613, loss_cls: 0.8376, loss_bbox: 0.3589, loss_bbox_rf: 0.4568, loss: 1.6534, grad_norm: 7.6469\n",
      "2021-05-19 06:06:48,417 - mmdet - INFO - Epoch [7][120/288]\tlr: 3.544e-05, eta: 2:21:16, time: 1.015, data_time: 0.019, memory: 7613, loss_cls: 0.8034, loss_bbox: 0.3376, loss_bbox_rf: 0.4252, loss: 1.5663, grad_norm: 8.1032\n",
      "2021-05-19 06:06:58,545 - mmdet - INFO - Epoch [7][130/288]\tlr: 3.540e-05, eta: 2:21:07, time: 1.013, data_time: 0.018, memory: 7613, loss_cls: 0.8048, loss_bbox: 0.3465, loss_bbox_rf: 0.4360, loss: 1.5873, grad_norm: 7.9664\n",
      "2021-05-19 06:07:08,701 - mmdet - INFO - Epoch [7][140/288]\tlr: 3.535e-05, eta: 2:20:58, time: 1.016, data_time: 0.018, memory: 7613, loss_cls: 0.8167, loss_bbox: 0.3524, loss_bbox_rf: 0.4487, loss: 1.6179, grad_norm: 8.5788\n",
      "2021-05-19 06:07:18,825 - mmdet - INFO - Epoch [7][150/288]\tlr: 3.530e-05, eta: 2:20:49, time: 1.012, data_time: 0.018, memory: 7613, loss_cls: 0.7902, loss_bbox: 0.3413, loss_bbox_rf: 0.4314, loss: 1.5629, grad_norm: 10.0083\n",
      "2021-05-19 06:07:28,936 - mmdet - INFO - Epoch [7][160/288]\tlr: 3.525e-05, eta: 2:20:40, time: 1.011, data_time: 0.018, memory: 7613, loss_cls: 0.7912, loss_bbox: 0.3396, loss_bbox_rf: 0.4324, loss: 1.5633, grad_norm: 8.4456\n",
      "2021-05-19 06:07:39,046 - mmdet - INFO - Epoch [7][170/288]\tlr: 3.521e-05, eta: 2:20:30, time: 1.011, data_time: 0.019, memory: 7613, loss_cls: 0.8072, loss_bbox: 0.3385, loss_bbox_rf: 0.4293, loss: 1.5751, grad_norm: 7.2400\n",
      "2021-05-19 06:07:49,152 - mmdet - INFO - Epoch [7][180/288]\tlr: 3.516e-05, eta: 2:20:21, time: 1.011, data_time: 0.018, memory: 7613, loss_cls: 0.7982, loss_bbox: 0.3296, loss_bbox_rf: 0.4136, loss: 1.5414, grad_norm: 9.6839\n",
      "2021-05-19 06:07:59,236 - mmdet - INFO - Epoch [7][190/288]\tlr: 3.511e-05, eta: 2:20:12, time: 1.008, data_time: 0.018, memory: 7613, loss_cls: 0.7720, loss_bbox: 0.3202, loss_bbox_rf: 0.4045, loss: 1.4966, grad_norm: 10.1063\n",
      "2021-05-19 06:08:09,361 - mmdet - INFO - Epoch [7][200/288]\tlr: 3.506e-05, eta: 2:20:02, time: 1.012, data_time: 0.019, memory: 7613, loss_cls: 0.8291, loss_bbox: 0.3302, loss_bbox_rf: 0.4212, loss: 1.5806, grad_norm: 9.2011\n",
      "2021-05-19 06:08:19,493 - mmdet - INFO - Epoch [7][210/288]\tlr: 3.501e-05, eta: 2:19:53, time: 1.013, data_time: 0.019, memory: 7613, loss_cls: 0.8453, loss_bbox: 0.3328, loss_bbox_rf: 0.4219, loss: 1.6000, grad_norm: 9.5087\n",
      "2021-05-19 06:08:29,615 - mmdet - INFO - Epoch [7][220/288]\tlr: 3.496e-05, eta: 2:19:44, time: 1.012, data_time: 0.019, memory: 7613, loss_cls: 0.8113, loss_bbox: 0.3573, loss_bbox_rf: 0.4534, loss: 1.6221, grad_norm: 8.4580\n",
      "2021-05-19 06:08:39,731 - mmdet - INFO - Epoch [7][230/288]\tlr: 3.491e-05, eta: 2:19:35, time: 1.012, data_time: 0.019, memory: 7613, loss_cls: 0.8056, loss_bbox: 0.3421, loss_bbox_rf: 0.4373, loss: 1.5850, grad_norm: 8.3962\n",
      "2021-05-19 06:08:49,842 - mmdet - INFO - Epoch [7][240/288]\tlr: 3.486e-05, eta: 2:19:25, time: 1.011, data_time: 0.019, memory: 7613, loss_cls: 0.8138, loss_bbox: 0.3423, loss_bbox_rf: 0.4316, loss: 1.5877, grad_norm: 9.3408\n",
      "2021-05-19 06:08:59,941 - mmdet - INFO - Epoch [7][250/288]\tlr: 3.481e-05, eta: 2:19:16, time: 1.010, data_time: 0.019, memory: 7613, loss_cls: 0.7944, loss_bbox: 0.3445, loss_bbox_rf: 0.4383, loss: 1.5772, grad_norm: 8.3434\n",
      "2021-05-19 06:09:10,082 - mmdet - INFO - Epoch [7][260/288]\tlr: 3.477e-05, eta: 2:19:07, time: 1.014, data_time: 0.019, memory: 7613, loss_cls: 0.8077, loss_bbox: 0.3452, loss_bbox_rf: 0.4340, loss: 1.5869, grad_norm: 10.1021\n",
      "2021-05-19 06:09:20,174 - mmdet - INFO - Epoch [7][270/288]\tlr: 3.472e-05, eta: 2:18:57, time: 1.009, data_time: 0.019, memory: 7613, loss_cls: 0.7683, loss_bbox: 0.3551, loss_bbox_rf: 0.4527, loss: 1.5761, grad_norm: 7.5899\n",
      "2021-05-19 06:09:30,285 - mmdet - INFO - Epoch [7][280/288]\tlr: 3.466e-05, eta: 2:18:48, time: 1.011, data_time: 0.018, memory: 7613, loss_cls: 0.8102, loss_bbox: 0.3500, loss_bbox_rf: 0.4461, loss: 1.6063, grad_norm: 8.3655\n",
      "2021-05-19 06:09:38,451 - mmdet - INFO - Saving checkpoint at 7 epochs\n"
     ]
    },
    {
     "name": "stdout",
     "output_type": "stream",
     "text": [
      "[>>>>>>>>>>>>>>>>>>>>>>>>>>>>>>] 655/655, 7.7 task/s, elapsed: 85s, ETA:     0s"
     ]
    },
    {
     "name": "stderr",
     "output_type": "stream",
     "text": [
      "2021-05-19 06:11:08,055 - mmdet - INFO - Evaluating bbox...\n"
     ]
    },
    {
     "name": "stdout",
     "output_type": "stream",
     "text": [
      "Loading and preparing results...\n",
      "DONE (t=2.18s)\n",
      "creating index...\n",
      "index created!\n",
      "Running per image evaluation...\n",
      "Evaluate annotation type *bbox*\n",
      "DONE (t=13.25s).\n",
      "Accumulating evaluation results...\n",
      "DONE (t=3.36s).\n",
      "Average Precision  (AP) @[ IoU=0.50:0.95 | area=   all | maxDets=100 ] = 0.151\n",
      "Average Precision  (AP) @[ IoU=0.50      | area=   all | maxDets=1000 ] = 0.246\n",
      "Average Precision  (AP) @[ IoU=0.75      | area=   all | maxDets=1000 ] = 0.155\n",
      "Average Precision  (AP) @[ IoU=0.50:0.95 | area= small | maxDets=1000 ] = 0.047\n",
      "Average Precision  (AP) @[ IoU=0.50:0.95 | area=medium | maxDets=1000 ] = 0.156\n",
      "Average Precision  (AP) @[ IoU=0.50:0.95 | area= large | maxDets=1000 ] = 0.281\n",
      "Average Recall     (AR) @[ IoU=0.50:0.95 | area=   all | maxDets=100 ] = 0.392\n",
      "Average Recall     (AR) @[ IoU=0.50:0.95 | area=   all | maxDets=300 ] = 0.393\n",
      "Average Recall     (AR) @[ IoU=0.50:0.95 | area=   all | maxDets=1000 ] = 0.393\n",
      "Average Recall     (AR) @[ IoU=0.50:0.95 | area= small | maxDets=1000 ] = 0.108\n",
      "Average Recall     (AR) @[ IoU=0.50:0.95 | area=medium | maxDets=1000 ] = 0.395\n",
      "Average Recall     (AR) @[ IoU=0.50:0.95 | area= large | maxDets=1000 ] = 0.614\n"
     ]
    },
    {
     "name": "stderr",
     "output_type": "stream",
     "text": [
      "2021-05-19 06:11:27,133 - mmdet - INFO - Epoch(val) [7][288]\tbbox_mAP: 0.1510, bbox_mAP_50: 0.2460, bbox_mAP_75: 0.1550, bbox_mAP_s: 0.0470, bbox_mAP_m: 0.1560, bbox_mAP_l: 0.2810, bbox_mAP_copypaste: 0.151 0.246 0.155 0.047 0.156 0.281\n",
      "2021-05-19 06:11:39,647 - mmdet - INFO - Epoch [8][10/288]\tlr: 3.457e-05, eta: 2:18:08, time: 1.250, data_time: 0.251, memory: 7613, loss_cls: 0.7714, loss_bbox: 0.3254, loss_bbox_rf: 0.4161, loss: 1.5129, grad_norm: 8.4781\n",
      "2021-05-19 06:11:49,793 - mmdet - INFO - Epoch [8][20/288]\tlr: 3.452e-05, eta: 2:17:59, time: 1.015, data_time: 0.019, memory: 7613, loss_cls: 0.7781, loss_bbox: 0.3574, loss_bbox_rf: 0.4536, loss: 1.5891, grad_norm: 10.0051\n",
      "2021-05-19 06:11:59,929 - mmdet - INFO - Epoch [8][30/288]\tlr: 3.447e-05, eta: 2:17:50, time: 1.014, data_time: 0.018, memory: 7613, loss_cls: 0.8105, loss_bbox: 0.3272, loss_bbox_rf: 0.4026, loss: 1.5404, grad_norm: 12.4597\n",
      "2021-05-19 06:12:10,072 - mmdet - INFO - Epoch [8][40/288]\tlr: 3.442e-05, eta: 2:17:40, time: 1.014, data_time: 0.020, memory: 7613, loss_cls: 0.8288, loss_bbox: 0.3219, loss_bbox_rf: 0.4032, loss: 1.5540, grad_norm: 10.7610\n",
      "2021-05-19 06:12:20,215 - mmdet - INFO - Epoch [8][50/288]\tlr: 3.437e-05, eta: 2:17:31, time: 1.014, data_time: 0.019, memory: 7613, loss_cls: 0.7731, loss_bbox: 0.3337, loss_bbox_rf: 0.4211, loss: 1.5278, grad_norm: 10.9267\n",
      "2021-05-19 06:12:30,330 - mmdet - INFO - Epoch [8][60/288]\tlr: 3.432e-05, eta: 2:17:22, time: 1.012, data_time: 0.018, memory: 7613, loss_cls: 0.7909, loss_bbox: 0.3328, loss_bbox_rf: 0.4190, loss: 1.5427, grad_norm: 9.0084\n",
      "2021-05-19 06:12:40,450 - mmdet - INFO - Epoch [8][70/288]\tlr: 3.427e-05, eta: 2:17:13, time: 1.012, data_time: 0.020, memory: 7613, loss_cls: 0.7849, loss_bbox: 0.3335, loss_bbox_rf: 0.4219, loss: 1.5402, grad_norm: 9.2364\n",
      "2021-05-19 06:12:50,583 - mmdet - INFO - Epoch [8][80/288]\tlr: 3.421e-05, eta: 2:17:04, time: 1.013, data_time: 0.019, memory: 7613, loss_cls: 0.7588, loss_bbox: 0.3290, loss_bbox_rf: 0.4190, loss: 1.5068, grad_norm: 9.6084\n",
      "2021-05-19 06:13:00,707 - mmdet - INFO - Epoch [8][90/288]\tlr: 3.416e-05, eta: 2:16:54, time: 1.012, data_time: 0.018, memory: 7613, loss_cls: 0.7367, loss_bbox: 0.3339, loss_bbox_rf: 0.4226, loss: 1.4933, grad_norm: 9.9945\n",
      "2021-05-19 06:13:10,850 - mmdet - INFO - Epoch [8][100/288]\tlr: 3.411e-05, eta: 2:16:45, time: 1.014, data_time: 0.019, memory: 7613, loss_cls: 0.7465, loss_bbox: 0.3199, loss_bbox_rf: 0.4041, loss: 1.4705, grad_norm: 9.4213\n",
      "2021-05-19 06:13:20,933 - mmdet - INFO - Epoch [8][110/288]\tlr: 3.406e-05, eta: 2:16:36, time: 1.008, data_time: 0.018, memory: 7613, loss_cls: 0.7624, loss_bbox: 0.3386, loss_bbox_rf: 0.4310, loss: 1.5320, grad_norm: 7.8837\n",
      "2021-05-19 06:13:31,057 - mmdet - INFO - Epoch [8][120/288]\tlr: 3.401e-05, eta: 2:16:27, time: 1.012, data_time: 0.019, memory: 7613, loss_cls: 0.7724, loss_bbox: 0.3298, loss_bbox_rf: 0.4185, loss: 1.5207, grad_norm: 8.5856\n",
      "2021-05-19 06:13:41,144 - mmdet - INFO - Epoch [8][130/288]\tlr: 3.395e-05, eta: 2:16:17, time: 1.009, data_time: 0.018, memory: 7613, loss_cls: 0.7820, loss_bbox: 0.3213, loss_bbox_rf: 0.4093, loss: 1.5126, grad_norm: 7.4984\n",
      "2021-05-19 06:13:51,231 - mmdet - INFO - Epoch [8][140/288]\tlr: 3.390e-05, eta: 2:16:08, time: 1.009, data_time: 0.018, memory: 7613, loss_cls: 0.7631, loss_bbox: 0.3296, loss_bbox_rf: 0.4161, loss: 1.5088, grad_norm: 7.6368\n",
      "2021-05-19 06:14:01,323 - mmdet - INFO - Epoch [8][150/288]\tlr: 3.385e-05, eta: 2:15:58, time: 1.009, data_time: 0.018, memory: 7613, loss_cls: 0.7713, loss_bbox: 0.3049, loss_bbox_rf: 0.3877, loss: 1.4640, grad_norm: 7.8953\n",
      "2021-05-19 06:14:11,471 - mmdet - INFO - Epoch [8][160/288]\tlr: 3.379e-05, eta: 2:15:49, time: 1.015, data_time: 0.021, memory: 7613, loss_cls: 0.7856, loss_bbox: 0.3004, loss_bbox_rf: 0.3799, loss: 1.4660, grad_norm: 7.9600\n",
      "2021-05-19 06:14:21,596 - mmdet - INFO - Epoch [8][170/288]\tlr: 3.374e-05, eta: 2:15:40, time: 1.013, data_time: 0.018, memory: 7613, loss_cls: 0.7881, loss_bbox: 0.3018, loss_bbox_rf: 0.3829, loss: 1.4728, grad_norm: 8.1085\n",
      "2021-05-19 06:14:31,725 - mmdet - INFO - Epoch [8][180/288]\tlr: 3.369e-05, eta: 2:15:31, time: 1.013, data_time: 0.019, memory: 7613, loss_cls: 0.7967, loss_bbox: 0.3234, loss_bbox_rf: 0.4120, loss: 1.5320, grad_norm: 7.8780\n",
      "2021-05-19 06:14:41,845 - mmdet - INFO - Epoch [8][190/288]\tlr: 3.363e-05, eta: 2:15:21, time: 1.012, data_time: 0.019, memory: 7613, loss_cls: 0.7850, loss_bbox: 0.3209, loss_bbox_rf: 0.4068, loss: 1.5127, grad_norm: 7.5302\n",
      "2021-05-19 06:14:51,962 - mmdet - INFO - Epoch [8][200/288]\tlr: 3.358e-05, eta: 2:15:12, time: 1.012, data_time: 0.018, memory: 7613, loss_cls: 0.7918, loss_bbox: 0.3488, loss_bbox_rf: 0.4454, loss: 1.5859, grad_norm: 8.1648\n",
      "2021-05-19 06:15:02,111 - mmdet - INFO - Epoch [8][210/288]\tlr: 3.352e-05, eta: 2:15:03, time: 1.015, data_time: 0.018, memory: 7613, loss_cls: 0.7781, loss_bbox: 0.3227, loss_bbox_rf: 0.4102, loss: 1.5111, grad_norm: 9.4918\n",
      "2021-05-19 06:15:12,248 - mmdet - INFO - Epoch [8][220/288]\tlr: 3.347e-05, eta: 2:14:53, time: 1.014, data_time: 0.018, memory: 7613, loss_cls: 0.7654, loss_bbox: 0.3234, loss_bbox_rf: 0.4091, loss: 1.4979, grad_norm: 9.2699\n",
      "2021-05-19 06:15:22,413 - mmdet - INFO - Epoch [8][230/288]\tlr: 3.341e-05, eta: 2:14:44, time: 1.016, data_time: 0.019, memory: 7613, loss_cls: 0.7748, loss_bbox: 0.3104, loss_bbox_rf: 0.3920, loss: 1.4771, grad_norm: 11.4698\n",
      "2021-05-19 06:15:32,537 - mmdet - INFO - Epoch [8][240/288]\tlr: 3.336e-05, eta: 2:14:35, time: 1.012, data_time: 0.019, memory: 7613, loss_cls: 0.7689, loss_bbox: 0.3102, loss_bbox_rf: 0.3955, loss: 1.4746, grad_norm: 7.8842\n",
      "2021-05-19 06:15:42,641 - mmdet - INFO - Epoch [8][250/288]\tlr: 3.331e-05, eta: 2:14:26, time: 1.010, data_time: 0.018, memory: 7613, loss_cls: 0.8242, loss_bbox: 0.3255, loss_bbox_rf: 0.4068, loss: 1.5565, grad_norm: 10.2299\n",
      "2021-05-19 06:15:52,771 - mmdet - INFO - Epoch [8][260/288]\tlr: 3.325e-05, eta: 2:14:16, time: 1.013, data_time: 0.019, memory: 7613, loss_cls: 0.7818, loss_bbox: 0.3314, loss_bbox_rf: 0.4189, loss: 1.5321, grad_norm: 10.5669\n",
      "2021-05-19 06:16:02,867 - mmdet - INFO - Epoch [8][270/288]\tlr: 3.319e-05, eta: 2:14:07, time: 1.010, data_time: 0.018, memory: 7613, loss_cls: 0.7707, loss_bbox: 0.3161, loss_bbox_rf: 0.3974, loss: 1.4843, grad_norm: 10.2056\n",
      "2021-05-19 06:16:12,975 - mmdet - INFO - Epoch [8][280/288]\tlr: 3.314e-05, eta: 2:13:57, time: 1.011, data_time: 0.019, memory: 7613, loss_cls: 0.7774, loss_bbox: 0.3282, loss_bbox_rf: 0.4130, loss: 1.5186, grad_norm: 9.3891\n",
      "2021-05-19 06:16:21,102 - mmdet - INFO - Saving checkpoint at 8 epochs\n"
     ]
    },
    {
     "name": "stdout",
     "output_type": "stream",
     "text": [
      "[>>>>>>>>>>>>>>>>>>>>>>>>>>>>>>] 655/655, 7.4 task/s, elapsed: 89s, ETA:     0s"
     ]
    },
    {
     "name": "stderr",
     "output_type": "stream",
     "text": [
      "2021-05-19 06:17:54,504 - mmdet - INFO - Evaluating bbox...\n"
     ]
    },
    {
     "name": "stdout",
     "output_type": "stream",
     "text": [
      "Loading and preparing results...\n",
      "DONE (t=2.15s)\n",
      "creating index...\n",
      "index created!\n",
      "Running per image evaluation...\n",
      "Evaluate annotation type *bbox*\n",
      "DONE (t=13.65s).\n",
      "Accumulating evaluation results...\n",
      "DONE (t=3.38s).\n",
      "Average Precision  (AP) @[ IoU=0.50:0.95 | area=   all | maxDets=100 ] = 0.174\n",
      "Average Precision  (AP) @[ IoU=0.50      | area=   all | maxDets=1000 ] = 0.282\n",
      "Average Precision  (AP) @[ IoU=0.75      | area=   all | maxDets=1000 ] = 0.186\n",
      "Average Precision  (AP) @[ IoU=0.50:0.95 | area= small | maxDets=1000 ] = 0.037\n",
      "Average Precision  (AP) @[ IoU=0.50:0.95 | area=medium | maxDets=1000 ] = 0.166\n",
      "Average Precision  (AP) @[ IoU=0.50:0.95 | area= large | maxDets=1000 ] = 0.322\n",
      "Average Recall     (AR) @[ IoU=0.50:0.95 | area=   all | maxDets=100 ] = 0.394\n",
      "Average Recall     (AR) @[ IoU=0.50:0.95 | area=   all | maxDets=300 ] = 0.395\n",
      "Average Recall     (AR) @[ IoU=0.50:0.95 | area=   all | maxDets=1000 ] = 0.395\n",
      "Average Recall     (AR) @[ IoU=0.50:0.95 | area= small | maxDets=1000 ] = 0.116\n",
      "Average Recall     (AR) @[ IoU=0.50:0.95 | area=medium | maxDets=1000 ] = 0.388\n",
      "Average Recall     (AR) @[ IoU=0.50:0.95 | area= large | maxDets=1000 ] = 0.656\n"
     ]
    },
    {
     "name": "stderr",
     "output_type": "stream",
     "text": [
      "2021-05-19 06:18:17,604 - mmdet - INFO - Now best checkpoint is epoch_8.pth.Best bbox_mAP_50 is 0.2820\n",
      "2021-05-19 06:18:17,611 - mmdet - INFO - Epoch(val) [8][288]\tbbox_mAP: 0.1740, bbox_mAP_50: 0.2820, bbox_mAP_75: 0.1860, bbox_mAP_s: 0.0370, bbox_mAP_m: 0.1660, bbox_mAP_l: 0.3220, bbox_mAP_copypaste: 0.174 0.282 0.186 0.037 0.166 0.322\n",
      "2021-05-19 06:18:30,076 - mmdet - INFO - Epoch [9][10/288]\tlr: 3.304e-05, eta: 2:13:20, time: 1.245, data_time: 0.252, memory: 7613, loss_cls: 0.7801, loss_bbox: 0.2882, loss_bbox_rf: 0.3657, loss: 1.4339, grad_norm: 8.0834\n",
      "2021-05-19 06:18:40,161 - mmdet - INFO - Epoch [9][20/288]\tlr: 3.298e-05, eta: 2:13:11, time: 1.009, data_time: 0.018, memory: 7613, loss_cls: 0.7545, loss_bbox: 0.3166, loss_bbox_rf: 0.4021, loss: 1.4732, grad_norm: 9.1673\n",
      "2021-05-19 06:18:50,262 - mmdet - INFO - Epoch [9][30/288]\tlr: 3.293e-05, eta: 2:13:02, time: 1.010, data_time: 0.019, memory: 7613, loss_cls: 0.7269, loss_bbox: 0.3140, loss_bbox_rf: 0.3960, loss: 1.4369, grad_norm: 8.6177\n",
      "2021-05-19 06:19:00,296 - mmdet - INFO - Epoch [9][40/288]\tlr: 3.287e-05, eta: 2:12:52, time: 1.003, data_time: 0.017, memory: 7613, loss_cls: 0.7336, loss_bbox: 0.3049, loss_bbox_rf: 0.3869, loss: 1.4254, grad_norm: 8.6465\n",
      "2021-05-19 06:19:10,391 - mmdet - INFO - Epoch [9][50/288]\tlr: 3.281e-05, eta: 2:12:43, time: 1.010, data_time: 0.017, memory: 7613, loss_cls: 0.7510, loss_bbox: 0.3011, loss_bbox_rf: 0.3770, loss: 1.4292, grad_norm: 11.1939\n",
      "2021-05-19 06:19:20,435 - mmdet - INFO - Epoch [9][60/288]\tlr: 3.276e-05, eta: 2:12:33, time: 1.004, data_time: 0.017, memory: 7613, loss_cls: 0.7298, loss_bbox: 0.2980, loss_bbox_rf: 0.3777, loss: 1.4056, grad_norm: 7.5987\n",
      "2021-05-19 06:19:30,510 - mmdet - INFO - Epoch [9][70/288]\tlr: 3.270e-05, eta: 2:12:24, time: 1.007, data_time: 0.019, memory: 7613, loss_cls: 0.7675, loss_bbox: 0.3019, loss_bbox_rf: 0.3826, loss: 1.4519, grad_norm: 8.4551\n",
      "2021-05-19 06:19:40,618 - mmdet - INFO - Epoch [9][80/288]\tlr: 3.264e-05, eta: 2:12:14, time: 1.011, data_time: 0.020, memory: 7613, loss_cls: 0.7330, loss_bbox: 0.2969, loss_bbox_rf: 0.3784, loss: 1.4083, grad_norm: 7.2802\n",
      "2021-05-19 06:19:50,810 - mmdet - INFO - Epoch [9][90/288]\tlr: 3.259e-05, eta: 2:12:05, time: 1.019, data_time: 0.021, memory: 7613, loss_cls: 0.7504, loss_bbox: 0.3193, loss_bbox_rf: 0.4033, loss: 1.4730, grad_norm: 7.8876\n",
      "2021-05-19 06:20:00,939 - mmdet - INFO - Epoch [9][100/288]\tlr: 3.253e-05, eta: 2:11:56, time: 1.013, data_time: 0.019, memory: 7613, loss_cls: 0.7774, loss_bbox: 0.3116, loss_bbox_rf: 0.3949, loss: 1.4840, grad_norm: 8.6206\n",
      "2021-05-19 06:20:11,073 - mmdet - INFO - Epoch [9][110/288]\tlr: 3.247e-05, eta: 2:11:46, time: 1.013, data_time: 0.020, memory: 7613, loss_cls: 0.7528, loss_bbox: 0.3023, loss_bbox_rf: 0.3823, loss: 1.4375, grad_norm: 7.5456\n",
      "2021-05-19 06:20:21,191 - mmdet - INFO - Epoch [9][120/288]\tlr: 3.241e-05, eta: 2:11:37, time: 1.012, data_time: 0.019, memory: 7613, loss_cls: 0.7417, loss_bbox: 0.3240, loss_bbox_rf: 0.4103, loss: 1.4759, grad_norm: 9.0515\n",
      "2021-05-19 06:20:31,337 - mmdet - INFO - Epoch [9][130/288]\tlr: 3.236e-05, eta: 2:11:28, time: 1.015, data_time: 0.019, memory: 7613, loss_cls: 0.7385, loss_bbox: 0.3258, loss_bbox_rf: 0.4164, loss: 1.4807, grad_norm: 7.6171\n",
      "2021-05-19 06:20:41,492 - mmdet - INFO - Epoch [9][140/288]\tlr: 3.230e-05, eta: 2:11:19, time: 1.016, data_time: 0.020, memory: 7613, loss_cls: 0.7741, loss_bbox: 0.3310, loss_bbox_rf: 0.4222, loss: 1.5273, grad_norm: 8.0770\n",
      "2021-05-19 06:20:51,579 - mmdet - INFO - Epoch [9][150/288]\tlr: 3.224e-05, eta: 2:11:09, time: 1.009, data_time: 0.020, memory: 7613, loss_cls: 0.7608, loss_bbox: 0.2939, loss_bbox_rf: 0.3722, loss: 1.4269, grad_norm: 8.2313\n",
      "2021-05-19 06:21:01,742 - mmdet - INFO - Epoch [9][160/288]\tlr: 3.218e-05, eta: 2:11:00, time: 1.016, data_time: 0.021, memory: 7613, loss_cls: 0.7304, loss_bbox: 0.3134, loss_bbox_rf: 0.3971, loss: 1.4409, grad_norm: 7.9682\n",
      "2021-05-19 06:21:11,919 - mmdet - INFO - Epoch [9][170/288]\tlr: 3.212e-05, eta: 2:10:51, time: 1.018, data_time: 0.020, memory: 7613, loss_cls: 0.7365, loss_bbox: 0.2877, loss_bbox_rf: 0.3645, loss: 1.3887, grad_norm: 9.4533\n",
      "2021-05-19 06:21:22,002 - mmdet - INFO - Epoch [9][180/288]\tlr: 3.207e-05, eta: 2:10:41, time: 1.008, data_time: 0.020, memory: 7613, loss_cls: 0.7385, loss_bbox: 0.3105, loss_bbox_rf: 0.3957, loss: 1.4447, grad_norm: 7.3049\n",
      "2021-05-19 06:21:32,124 - mmdet - INFO - Epoch [9][190/288]\tlr: 3.201e-05, eta: 2:10:32, time: 1.012, data_time: 0.020, memory: 7613, loss_cls: 0.7658, loss_bbox: 0.3180, loss_bbox_rf: 0.4026, loss: 1.4864, grad_norm: 10.7156\n",
      "2021-05-19 06:21:42,266 - mmdet - INFO - Epoch [9][200/288]\tlr: 3.195e-05, eta: 2:10:22, time: 1.014, data_time: 0.020, memory: 7613, loss_cls: 0.7389, loss_bbox: 0.3264, loss_bbox_rf: 0.4170, loss: 1.4823, grad_norm: 7.9716\n",
      "2021-05-19 06:21:52,368 - mmdet - INFO - Epoch [9][210/288]\tlr: 3.189e-05, eta: 2:10:13, time: 1.010, data_time: 0.020, memory: 7613, loss_cls: 0.7099, loss_bbox: 0.3075, loss_bbox_rf: 0.3890, loss: 1.4064, grad_norm: 9.0583\n",
      "2021-05-19 06:22:02,482 - mmdet - INFO - Epoch [9][220/288]\tlr: 3.183e-05, eta: 2:10:04, time: 1.011, data_time: 0.018, memory: 7613, loss_cls: 0.7322, loss_bbox: 0.3157, loss_bbox_rf: 0.4020, loss: 1.4499, grad_norm: 9.3680\n",
      "2021-05-19 06:22:12,584 - mmdet - INFO - Epoch [9][230/288]\tlr: 3.177e-05, eta: 2:09:54, time: 1.010, data_time: 0.019, memory: 7613, loss_cls: 0.7128, loss_bbox: 0.3154, loss_bbox_rf: 0.4020, loss: 1.4302, grad_norm: 7.2211\n",
      "2021-05-19 06:22:22,675 - mmdet - INFO - Epoch [9][240/288]\tlr: 3.171e-05, eta: 2:09:45, time: 1.009, data_time: 0.018, memory: 7613, loss_cls: 0.7408, loss_bbox: 0.2914, loss_bbox_rf: 0.3660, loss: 1.3982, grad_norm: 8.7370\n",
      "2021-05-19 06:22:32,744 - mmdet - INFO - Epoch [9][250/288]\tlr: 3.165e-05, eta: 2:09:35, time: 1.007, data_time: 0.018, memory: 7613, loss_cls: 0.7505, loss_bbox: 0.3033, loss_bbox_rf: 0.3848, loss: 1.4386, grad_norm: 8.7019\n",
      "2021-05-19 06:22:42,786 - mmdet - INFO - Epoch [9][260/288]\tlr: 3.159e-05, eta: 2:09:25, time: 1.004, data_time: 0.017, memory: 7613, loss_cls: 0.7539, loss_bbox: 0.3289, loss_bbox_rf: 0.4145, loss: 1.4973, grad_norm: 9.5712\n",
      "2021-05-19 06:22:52,860 - mmdet - INFO - Epoch [9][270/288]\tlr: 3.153e-05, eta: 2:09:16, time: 1.007, data_time: 0.017, memory: 7613, loss_cls: 0.7439, loss_bbox: 0.2982, loss_bbox_rf: 0.3750, loss: 1.4171, grad_norm: 9.6043\n",
      "2021-05-19 06:23:02,939 - mmdet - INFO - Epoch [9][280/288]\tlr: 3.147e-05, eta: 2:09:06, time: 1.008, data_time: 0.018, memory: 7613, loss_cls: 0.7484, loss_bbox: 0.3027, loss_bbox_rf: 0.3842, loss: 1.4353, grad_norm: 7.9034\n",
      "2021-05-19 06:23:11,141 - mmdet - INFO - Saving checkpoint at 9 epochs\n"
     ]
    },
    {
     "name": "stdout",
     "output_type": "stream",
     "text": [
      "[>>>>>>>>>>>>>>>>>>>>>>>>>>>>>>] 655/655, 7.6 task/s, elapsed: 87s, ETA:     0s"
     ]
    },
    {
     "name": "stderr",
     "output_type": "stream",
     "text": [
      "2021-05-19 06:24:42,406 - mmdet - INFO - Evaluating bbox...\n"
     ]
    },
    {
     "name": "stdout",
     "output_type": "stream",
     "text": [
      "Loading and preparing results...\n",
      "DONE (t=1.60s)\n",
      "creating index...\n",
      "index created!\n",
      "Running per image evaluation...\n",
      "Evaluate annotation type *bbox*\n",
      "DONE (t=13.11s).\n",
      "Accumulating evaluation results...\n",
      "DONE (t=3.24s).\n",
      "Average Precision  (AP) @[ IoU=0.50:0.95 | area=   all | maxDets=100 ] = 0.182\n",
      "Average Precision  (AP) @[ IoU=0.50      | area=   all | maxDets=1000 ] = 0.295\n",
      "Average Precision  (AP) @[ IoU=0.75      | area=   all | maxDets=1000 ] = 0.188\n",
      "Average Precision  (AP) @[ IoU=0.50:0.95 | area= small | maxDets=1000 ] = 0.034\n",
      "Average Precision  (AP) @[ IoU=0.50:0.95 | area=medium | maxDets=1000 ] = 0.186\n",
      "Average Precision  (AP) @[ IoU=0.50:0.95 | area= large | maxDets=1000 ] = 0.346\n",
      "Average Recall     (AR) @[ IoU=0.50:0.95 | area=   all | maxDets=100 ] = 0.398\n",
      "Average Recall     (AR) @[ IoU=0.50:0.95 | area=   all | maxDets=300 ] = 0.398\n",
      "Average Recall     (AR) @[ IoU=0.50:0.95 | area=   all | maxDets=1000 ] = 0.398\n",
      "Average Recall     (AR) @[ IoU=0.50:0.95 | area= small | maxDets=1000 ] = 0.109\n",
      "Average Recall     (AR) @[ IoU=0.50:0.95 | area=medium | maxDets=1000 ] = 0.402\n",
      "Average Recall     (AR) @[ IoU=0.50:0.95 | area= large | maxDets=1000 ] = 0.644\n"
     ]
    },
    {
     "name": "stderr",
     "output_type": "stream",
     "text": [
      "2021-05-19 06:25:04,304 - mmdet - INFO - Now best checkpoint is epoch_9.pth.Best bbox_mAP_50 is 0.2950\n",
      "2021-05-19 06:25:04,313 - mmdet - INFO - Epoch(val) [9][288]\tbbox_mAP: 0.1820, bbox_mAP_50: 0.2950, bbox_mAP_75: 0.1880, bbox_mAP_s: 0.0340, bbox_mAP_m: 0.1860, bbox_mAP_l: 0.3460, bbox_mAP_copypaste: 0.182 0.295 0.188 0.034 0.186 0.346\n",
      "2021-05-19 06:25:16,842 - mmdet - INFO - Epoch [10][10/288]\tlr: 3.136e-05, eta: 2:08:32, time: 1.251, data_time: 0.254, memory: 7613, loss_cls: 0.7142, loss_bbox: 0.2769, loss_bbox_rf: 0.3468, loss: 1.3378, grad_norm: 9.7407\n",
      "2021-05-19 06:25:26,929 - mmdet - INFO - Epoch [10][20/288]\tlr: 3.130e-05, eta: 2:08:23, time: 1.009, data_time: 0.019, memory: 7613, loss_cls: 0.7093, loss_bbox: 0.3001, loss_bbox_rf: 0.3811, loss: 1.3905, grad_norm: 7.2130\n",
      "2021-05-19 06:25:37,022 - mmdet - INFO - Epoch [10][30/288]\tlr: 3.124e-05, eta: 2:08:13, time: 1.009, data_time: 0.018, memory: 7613, loss_cls: 0.7341, loss_bbox: 0.2963, loss_bbox_rf: 0.3757, loss: 1.4060, grad_norm: 7.5251\n",
      "2021-05-19 06:25:47,131 - mmdet - INFO - Epoch [10][40/288]\tlr: 3.118e-05, eta: 2:08:04, time: 1.011, data_time: 0.019, memory: 7613, loss_cls: 0.6848, loss_bbox: 0.3085, loss_bbox_rf: 0.3937, loss: 1.3870, grad_norm: 7.9645\n",
      "2021-05-19 06:25:57,214 - mmdet - INFO - Epoch [10][50/288]\tlr: 3.112e-05, eta: 2:07:54, time: 1.008, data_time: 0.020, memory: 7613, loss_cls: 0.7182, loss_bbox: 0.2902, loss_bbox_rf: 0.3649, loss: 1.3733, grad_norm: 9.1902\n",
      "2021-05-19 06:26:07,295 - mmdet - INFO - Epoch [10][60/288]\tlr: 3.106e-05, eta: 2:07:45, time: 1.008, data_time: 0.018, memory: 7613, loss_cls: 0.6816, loss_bbox: 0.2845, loss_bbox_rf: 0.3577, loss: 1.3237, grad_norm: 8.9294\n",
      "2021-05-19 06:26:17,389 - mmdet - INFO - Epoch [10][70/288]\tlr: 3.100e-05, eta: 2:07:35, time: 1.009, data_time: 0.018, memory: 7613, loss_cls: 0.7178, loss_bbox: 0.2947, loss_bbox_rf: 0.3757, loss: 1.3882, grad_norm: 8.8934\n",
      "2021-05-19 06:26:27,521 - mmdet - INFO - Epoch [10][80/288]\tlr: 3.094e-05, eta: 2:07:26, time: 1.013, data_time: 0.018, memory: 7613, loss_cls: 0.7035, loss_bbox: 0.3257, loss_bbox_rf: 0.4144, loss: 1.4436, grad_norm: 9.8678\n",
      "2021-05-19 06:26:37,628 - mmdet - INFO - Epoch [10][90/288]\tlr: 3.088e-05, eta: 2:07:16, time: 1.011, data_time: 0.018, memory: 7613, loss_cls: 0.7155, loss_bbox: 0.2784, loss_bbox_rf: 0.3512, loss: 1.3451, grad_norm: 9.9384\n",
      "2021-05-19 06:26:47,734 - mmdet - INFO - Epoch [10][100/288]\tlr: 3.082e-05, eta: 2:07:07, time: 1.011, data_time: 0.019, memory: 7613, loss_cls: 0.6842, loss_bbox: 0.2640, loss_bbox_rf: 0.3339, loss: 1.2820, grad_norm: 8.5810\n",
      "2021-05-19 06:26:57,847 - mmdet - INFO - Epoch [10][110/288]\tlr: 3.075e-05, eta: 2:06:58, time: 1.011, data_time: 0.019, memory: 7613, loss_cls: 0.7489, loss_bbox: 0.2905, loss_bbox_rf: 0.3685, loss: 1.4080, grad_norm: 9.8673\n",
      "2021-05-19 06:27:07,934 - mmdet - INFO - Epoch [10][120/288]\tlr: 3.069e-05, eta: 2:06:48, time: 1.009, data_time: 0.019, memory: 7613, loss_cls: 0.6886, loss_bbox: 0.2965, loss_bbox_rf: 0.3766, loss: 1.3618, grad_norm: 8.2452\n",
      "2021-05-19 06:27:18,071 - mmdet - INFO - Epoch [10][130/288]\tlr: 3.063e-05, eta: 2:06:39, time: 1.014, data_time: 0.019, memory: 7613, loss_cls: 0.7364, loss_bbox: 0.2748, loss_bbox_rf: 0.3469, loss: 1.3581, grad_norm: 10.2007\n",
      "2021-05-19 06:27:28,184 - mmdet - INFO - Epoch [10][140/288]\tlr: 3.057e-05, eta: 2:06:29, time: 1.011, data_time: 0.019, memory: 7613, loss_cls: 0.7013, loss_bbox: 0.2954, loss_bbox_rf: 0.3734, loss: 1.3701, grad_norm: 10.2768\n",
      "2021-05-19 06:27:38,317 - mmdet - INFO - Epoch [10][150/288]\tlr: 3.051e-05, eta: 2:06:20, time: 1.013, data_time: 0.019, memory: 7613, loss_cls: 0.7445, loss_bbox: 0.2854, loss_bbox_rf: 0.3595, loss: 1.3894, grad_norm: 10.5788\n",
      "2021-05-19 06:27:48,437 - mmdet - INFO - Epoch [10][160/288]\tlr: 3.044e-05, eta: 2:06:10, time: 1.012, data_time: 0.020, memory: 7613, loss_cls: 0.7036, loss_bbox: 0.2977, loss_bbox_rf: 0.3806, loss: 1.3819, grad_norm: 8.2667\n",
      "2021-05-19 06:27:58,546 - mmdet - INFO - Epoch [10][170/288]\tlr: 3.038e-05, eta: 2:06:01, time: 1.011, data_time: 0.019, memory: 7613, loss_cls: 0.7055, loss_bbox: 0.3011, loss_bbox_rf: 0.3827, loss: 1.3893, grad_norm: 7.7208\n",
      "2021-05-19 06:28:08,705 - mmdet - INFO - Epoch [10][180/288]\tlr: 3.032e-05, eta: 2:05:52, time: 1.016, data_time: 0.021, memory: 7613, loss_cls: 0.7136, loss_bbox: 0.3057, loss_bbox_rf: 0.3821, loss: 1.4015, grad_norm: 10.1453\n",
      "2021-05-19 06:28:18,806 - mmdet - INFO - Epoch [10][190/288]\tlr: 3.026e-05, eta: 2:05:42, time: 1.010, data_time: 0.019, memory: 7613, loss_cls: 0.7364, loss_bbox: 0.3274, loss_bbox_rf: 0.4154, loss: 1.4792, grad_norm: 9.0443\n",
      "2021-05-19 06:28:28,902 - mmdet - INFO - Epoch [10][200/288]\tlr: 3.019e-05, eta: 2:05:33, time: 1.010, data_time: 0.018, memory: 7613, loss_cls: 0.7107, loss_bbox: 0.3056, loss_bbox_rf: 0.3894, loss: 1.4057, grad_norm: 6.8449\n",
      "2021-05-19 06:28:38,990 - mmdet - INFO - Epoch [10][210/288]\tlr: 3.013e-05, eta: 2:05:23, time: 1.009, data_time: 0.018, memory: 7613, loss_cls: 0.7334, loss_bbox: 0.3108, loss_bbox_rf: 0.3964, loss: 1.4406, grad_norm: 7.0898\n",
      "2021-05-19 06:28:49,046 - mmdet - INFO - Epoch [10][220/288]\tlr: 3.007e-05, eta: 2:05:13, time: 1.006, data_time: 0.018, memory: 7613, loss_cls: 0.7005, loss_bbox: 0.3003, loss_bbox_rf: 0.3789, loss: 1.3797, grad_norm: 8.1763\n",
      "2021-05-19 06:28:59,110 - mmdet - INFO - Epoch [10][230/288]\tlr: 3.001e-05, eta: 2:05:04, time: 1.006, data_time: 0.018, memory: 7613, loss_cls: 0.7115, loss_bbox: 0.2865, loss_bbox_rf: 0.3640, loss: 1.3620, grad_norm: 9.2069\n",
      "2021-05-19 06:29:09,188 - mmdet - INFO - Epoch [10][240/288]\tlr: 2.994e-05, eta: 2:04:54, time: 1.008, data_time: 0.018, memory: 7613, loss_cls: 0.7266, loss_bbox: 0.2888, loss_bbox_rf: 0.3650, loss: 1.3803, grad_norm: 8.4878\n",
      "2021-05-19 06:29:19,225 - mmdet - INFO - Epoch [10][250/288]\tlr: 2.988e-05, eta: 2:04:44, time: 1.004, data_time: 0.018, memory: 7613, loss_cls: 0.7197, loss_bbox: 0.2961, loss_bbox_rf: 0.3754, loss: 1.3912, grad_norm: 7.6318\n",
      "2021-05-19 06:29:29,245 - mmdet - INFO - Epoch [10][260/288]\tlr: 2.982e-05, eta: 2:04:35, time: 1.002, data_time: 0.017, memory: 7613, loss_cls: 0.7257, loss_bbox: 0.2815, loss_bbox_rf: 0.3579, loss: 1.3651, grad_norm: 7.5816\n",
      "2021-05-19 06:29:39,284 - mmdet - INFO - Epoch [10][270/288]\tlr: 2.975e-05, eta: 2:04:25, time: 1.004, data_time: 0.017, memory: 7613, loss_cls: 0.7205, loss_bbox: 0.2867, loss_bbox_rf: 0.3597, loss: 1.3668, grad_norm: 11.6609\n",
      "2021-05-19 06:29:49,380 - mmdet - INFO - Epoch [10][280/288]\tlr: 2.969e-05, eta: 2:04:15, time: 1.010, data_time: 0.018, memory: 7613, loss_cls: 0.7157, loss_bbox: 0.2880, loss_bbox_rf: 0.3621, loss: 1.3658, grad_norm: 9.3296\n",
      "2021-05-19 06:29:57,552 - mmdet - INFO - Saving checkpoint at 10 epochs\n"
     ]
    },
    {
     "name": "stdout",
     "output_type": "stream",
     "text": [
      "[>>>>>>>>>>>>>>>>>>>>>>>>>>>>>>] 655/655, 7.6 task/s, elapsed: 86s, ETA:     0s"
     ]
    },
    {
     "name": "stderr",
     "output_type": "stream",
     "text": [
      "2021-05-19 06:31:28,456 - mmdet - INFO - Evaluating bbox...\n"
     ]
    },
    {
     "name": "stdout",
     "output_type": "stream",
     "text": [
      "Loading and preparing results...\n",
      "DONE (t=2.17s)\n",
      "creating index...\n",
      "index created!\n",
      "Running per image evaluation...\n",
      "Evaluate annotation type *bbox*\n",
      "DONE (t=12.22s).\n",
      "Accumulating evaluation results...\n",
      "DONE (t=3.51s).\n",
      "Average Precision  (AP) @[ IoU=0.50:0.95 | area=   all | maxDets=100 ] = 0.192\n",
      "Average Precision  (AP) @[ IoU=0.50      | area=   all | maxDets=1000 ] = 0.318\n",
      "Average Precision  (AP) @[ IoU=0.75      | area=   all | maxDets=1000 ] = 0.196\n",
      "Average Precision  (AP) @[ IoU=0.50:0.95 | area= small | maxDets=1000 ] = 0.042\n",
      "Average Precision  (AP) @[ IoU=0.50:0.95 | area=medium | maxDets=1000 ] = 0.169\n",
      "Average Precision  (AP) @[ IoU=0.50:0.95 | area= large | maxDets=1000 ] = 0.361\n",
      "Average Recall     (AR) @[ IoU=0.50:0.95 | area=   all | maxDets=100 ] = 0.400\n",
      "Average Recall     (AR) @[ IoU=0.50:0.95 | area=   all | maxDets=300 ] = 0.400\n",
      "Average Recall     (AR) @[ IoU=0.50:0.95 | area=   all | maxDets=1000 ] = 0.400\n",
      "Average Recall     (AR) @[ IoU=0.50:0.95 | area= small | maxDets=1000 ] = 0.121\n",
      "Average Recall     (AR) @[ IoU=0.50:0.95 | area=medium | maxDets=1000 ] = 0.390\n",
      "Average Recall     (AR) @[ IoU=0.50:0.95 | area= large | maxDets=1000 ] = 0.695\n"
     ]
    },
    {
     "name": "stderr",
     "output_type": "stream",
     "text": [
      "2021-05-19 06:31:50,279 - mmdet - INFO - Now best checkpoint is epoch_10.pth.Best bbox_mAP_50 is 0.3180\n",
      "2021-05-19 06:31:50,288 - mmdet - INFO - Epoch(val) [10][288]\tbbox_mAP: 0.1920, bbox_mAP_50: 0.3180, bbox_mAP_75: 0.1960, bbox_mAP_s: 0.0420, bbox_mAP_m: 0.1690, bbox_mAP_l: 0.3610, bbox_mAP_copypaste: 0.192 0.318 0.196 0.042 0.169 0.361\n",
      "2021-05-19 06:32:02,867 - mmdet - INFO - Epoch [11][10/288]\tlr: 2.957e-05, eta: 2:03:44, time: 1.256, data_time: 0.254, memory: 7613, loss_cls: 0.6909, loss_bbox: 0.2959, loss_bbox_rf: 0.3774, loss: 1.3642, grad_norm: 7.2037\n",
      "2021-05-19 06:32:13,064 - mmdet - INFO - Epoch [11][20/288]\tlr: 2.951e-05, eta: 2:03:34, time: 1.020, data_time: 0.020, memory: 7613, loss_cls: 0.7043, loss_bbox: 0.2788, loss_bbox_rf: 0.3517, loss: 1.3349, grad_norm: 8.3235\n",
      "2021-05-19 06:32:23,244 - mmdet - INFO - Epoch [11][30/288]\tlr: 2.944e-05, eta: 2:03:25, time: 1.018, data_time: 0.019, memory: 7613, loss_cls: 0.7041, loss_bbox: 0.2753, loss_bbox_rf: 0.3487, loss: 1.3280, grad_norm: 9.1099\n",
      "2021-05-19 06:32:33,414 - mmdet - INFO - Epoch [11][40/288]\tlr: 2.938e-05, eta: 2:03:16, time: 1.017, data_time: 0.020, memory: 7613, loss_cls: 0.6638, loss_bbox: 0.2922, loss_bbox_rf: 0.3713, loss: 1.3274, grad_norm: 7.9243\n",
      "2021-05-19 06:32:43,559 - mmdet - INFO - Epoch [11][50/288]\tlr: 2.932e-05, eta: 2:03:06, time: 1.014, data_time: 0.019, memory: 7613, loss_cls: 0.6632, loss_bbox: 0.2762, loss_bbox_rf: 0.3513, loss: 1.2906, grad_norm: 6.9787\n",
      "2021-05-19 06:32:53,812 - mmdet - INFO - Epoch [11][60/288]\tlr: 2.925e-05, eta: 2:02:57, time: 1.025, data_time: 0.020, memory: 7613, loss_cls: 0.6791, loss_bbox: 0.2697, loss_bbox_rf: 0.3394, loss: 1.2883, grad_norm: 8.8767\n",
      "2021-05-19 06:33:04,033 - mmdet - INFO - Epoch [11][70/288]\tlr: 2.919e-05, eta: 2:02:48, time: 1.022, data_time: 0.019, memory: 7613, loss_cls: 0.6809, loss_bbox: 0.3058, loss_bbox_rf: 0.3907, loss: 1.3774, grad_norm: 7.4929\n",
      "2021-05-19 06:33:14,188 - mmdet - INFO - Epoch [11][80/288]\tlr: 2.912e-05, eta: 2:02:39, time: 1.015, data_time: 0.019, memory: 7613, loss_cls: 0.6702, loss_bbox: 0.2740, loss_bbox_rf: 0.3471, loss: 1.2912, grad_norm: 6.9646\n",
      "2021-05-19 06:33:24,299 - mmdet - INFO - Epoch [11][90/288]\tlr: 2.906e-05, eta: 2:02:29, time: 1.011, data_time: 0.019, memory: 7613, loss_cls: 0.6544, loss_bbox: 0.2735, loss_bbox_rf: 0.3477, loss: 1.2756, grad_norm: 8.5190\n",
      "2021-05-19 06:33:34,426 - mmdet - INFO - Epoch [11][100/288]\tlr: 2.899e-05, eta: 2:02:20, time: 1.013, data_time: 0.019, memory: 7613, loss_cls: 0.7089, loss_bbox: 0.2783, loss_bbox_rf: 0.3517, loss: 1.3389, grad_norm: 9.5463\n",
      "2021-05-19 06:33:44,540 - mmdet - INFO - Epoch [11][110/288]\tlr: 2.893e-05, eta: 2:02:10, time: 1.011, data_time: 0.019, memory: 7613, loss_cls: 0.6883, loss_bbox: 0.2875, loss_bbox_rf: 0.3653, loss: 1.3411, grad_norm: 8.0967\n",
      "2021-05-19 06:33:54,637 - mmdet - INFO - Epoch [11][120/288]\tlr: 2.886e-05, eta: 2:02:01, time: 1.010, data_time: 0.019, memory: 7613, loss_cls: 0.7325, loss_bbox: 0.2845, loss_bbox_rf: 0.3597, loss: 1.3767, grad_norm: 8.1467\n",
      "2021-05-19 06:34:04,762 - mmdet - INFO - Epoch [11][130/288]\tlr: 2.880e-05, eta: 2:01:51, time: 1.012, data_time: 0.019, memory: 7613, loss_cls: 0.6773, loss_bbox: 0.2743, loss_bbox_rf: 0.3483, loss: 1.2999, grad_norm: 7.7447\n",
      "2021-05-19 06:34:14,876 - mmdet - INFO - Epoch [11][140/288]\tlr: 2.873e-05, eta: 2:01:42, time: 1.011, data_time: 0.019, memory: 7613, loss_cls: 0.6863, loss_bbox: 0.2970, loss_bbox_rf: 0.3733, loss: 1.3566, grad_norm: 9.0918\n",
      "2021-05-19 06:34:25,037 - mmdet - INFO - Epoch [11][150/288]\tlr: 2.867e-05, eta: 2:01:32, time: 1.016, data_time: 0.019, memory: 7613, loss_cls: 0.6891, loss_bbox: 0.2916, loss_bbox_rf: 0.3705, loss: 1.3512, grad_norm: 10.5475\n",
      "2021-05-19 06:34:35,255 - mmdet - INFO - Epoch [11][160/288]\tlr: 2.860e-05, eta: 2:01:23, time: 1.022, data_time: 0.019, memory: 7613, loss_cls: 0.6856, loss_bbox: 0.2893, loss_bbox_rf: 0.3627, loss: 1.3376, grad_norm: 10.0424\n",
      "2021-05-19 06:34:45,402 - mmdet - INFO - Epoch [11][170/288]\tlr: 2.854e-05, eta: 2:01:14, time: 1.015, data_time: 0.019, memory: 7613, loss_cls: 0.7104, loss_bbox: 0.2801, loss_bbox_rf: 0.3531, loss: 1.3435, grad_norm: 11.5605\n",
      "2021-05-19 06:34:55,560 - mmdet - INFO - Epoch [11][180/288]\tlr: 2.847e-05, eta: 2:01:04, time: 1.016, data_time: 0.019, memory: 7613, loss_cls: 0.7125, loss_bbox: 0.2651, loss_bbox_rf: 0.3323, loss: 1.3098, grad_norm: 10.5021\n",
      "2021-05-19 06:35:05,726 - mmdet - INFO - Epoch [11][190/288]\tlr: 2.840e-05, eta: 2:00:55, time: 1.017, data_time: 0.019, memory: 7613, loss_cls: 0.6666, loss_bbox: 0.2866, loss_bbox_rf: 0.3608, loss: 1.3140, grad_norm: 9.8612\n",
      "2021-05-19 06:35:15,755 - mmdet - INFO - Epoch [11][200/288]\tlr: 2.834e-05, eta: 2:00:45, time: 1.003, data_time: 0.018, memory: 7613, loss_cls: 0.6787, loss_bbox: 0.2685, loss_bbox_rf: 0.3417, loss: 1.2889, grad_norm: 7.8053\n",
      "2021-05-19 06:35:25,902 - mmdet - INFO - Epoch [11][210/288]\tlr: 2.827e-05, eta: 2:00:36, time: 1.015, data_time: 0.020, memory: 7613, loss_cls: 0.6757, loss_bbox: 0.2732, loss_bbox_rf: 0.3444, loss: 1.2933, grad_norm: 9.0011\n",
      "2021-05-19 06:35:36,032 - mmdet - INFO - Epoch [11][220/288]\tlr: 2.821e-05, eta: 2:00:26, time: 1.013, data_time: 0.020, memory: 7613, loss_cls: 0.6759, loss_bbox: 0.2831, loss_bbox_rf: 0.3592, loss: 1.3182, grad_norm: 10.3033\n",
      "2021-05-19 06:35:46,119 - mmdet - INFO - Epoch [11][230/288]\tlr: 2.814e-05, eta: 2:00:17, time: 1.009, data_time: 0.019, memory: 7613, loss_cls: 0.6909, loss_bbox: 0.2734, loss_bbox_rf: 0.3449, loss: 1.3092, grad_norm: 9.8628\n",
      "2021-05-19 06:35:56,182 - mmdet - INFO - Epoch [11][240/288]\tlr: 2.807e-05, eta: 2:00:07, time: 1.006, data_time: 0.018, memory: 7613, loss_cls: 0.6881, loss_bbox: 0.2751, loss_bbox_rf: 0.3491, loss: 1.3123, grad_norm: 8.8351\n",
      "2021-05-19 06:36:06,278 - mmdet - INFO - Epoch [11][250/288]\tlr: 2.801e-05, eta: 1:59:57, time: 1.010, data_time: 0.019, memory: 7613, loss_cls: 0.6832, loss_bbox: 0.2765, loss_bbox_rf: 0.3505, loss: 1.3102, grad_norm: 7.2616\n",
      "2021-05-19 06:36:16,419 - mmdet - INFO - Epoch [11][260/288]\tlr: 2.794e-05, eta: 1:59:48, time: 1.014, data_time: 0.019, memory: 7613, loss_cls: 0.6916, loss_bbox: 0.2776, loss_bbox_rf: 0.3519, loss: 1.3211, grad_norm: 7.5647\n",
      "2021-05-19 06:36:26,477 - mmdet - INFO - Epoch [11][270/288]\tlr: 2.787e-05, eta: 1:59:38, time: 1.006, data_time: 0.018, memory: 7613, loss_cls: 0.6762, loss_bbox: 0.2832, loss_bbox_rf: 0.3598, loss: 1.3192, grad_norm: 9.5227\n",
      "2021-05-19 06:36:36,541 - mmdet - INFO - Epoch [11][280/288]\tlr: 2.781e-05, eta: 1:59:28, time: 1.006, data_time: 0.018, memory: 7613, loss_cls: 0.6920, loss_bbox: 0.2740, loss_bbox_rf: 0.3470, loss: 1.3130, grad_norm: 7.6779\n",
      "2021-05-19 06:36:44,676 - mmdet - INFO - Saving checkpoint at 11 epochs\n"
     ]
    },
    {
     "name": "stdout",
     "output_type": "stream",
     "text": [
      "[>>>>>>>>>>>>>>>>>>>>>>>>>>>>>>] 655/655, 7.5 task/s, elapsed: 87s, ETA:     0s"
     ]
    },
    {
     "name": "stderr",
     "output_type": "stream",
     "text": [
      "2021-05-19 06:38:16,681 - mmdet - INFO - Evaluating bbox...\n"
     ]
    },
    {
     "name": "stdout",
     "output_type": "stream",
     "text": [
      "Loading and preparing results...\n",
      "DONE (t=2.20s)\n",
      "creating index...\n",
      "index created!\n",
      "Running per image evaluation...\n",
      "Evaluate annotation type *bbox*\n",
      "DONE (t=12.36s).\n",
      "Accumulating evaluation results...\n",
      "DONE (t=3.37s).\n",
      "Average Precision  (AP) @[ IoU=0.50:0.95 | area=   all | maxDets=100 ] = 0.211\n",
      "Average Precision  (AP) @[ IoU=0.50      | area=   all | maxDets=1000 ] = 0.348\n",
      "Average Precision  (AP) @[ IoU=0.75      | area=   all | maxDets=1000 ] = 0.206\n",
      "Average Precision  (AP) @[ IoU=0.50:0.95 | area= small | maxDets=1000 ] = 0.037\n",
      "Average Precision  (AP) @[ IoU=0.50:0.95 | area=medium | maxDets=1000 ] = 0.190\n",
      "Average Precision  (AP) @[ IoU=0.50:0.95 | area= large | maxDets=1000 ] = 0.403\n",
      "Average Recall     (AR) @[ IoU=0.50:0.95 | area=   all | maxDets=100 ] = 0.404\n",
      "Average Recall     (AR) @[ IoU=0.50:0.95 | area=   all | maxDets=300 ] = 0.404\n",
      "Average Recall     (AR) @[ IoU=0.50:0.95 | area=   all | maxDets=1000 ] = 0.404\n",
      "Average Recall     (AR) @[ IoU=0.50:0.95 | area= small | maxDets=1000 ] = 0.109\n",
      "Average Recall     (AR) @[ IoU=0.50:0.95 | area=medium | maxDets=1000 ] = 0.406\n",
      "Average Recall     (AR) @[ IoU=0.50:0.95 | area= large | maxDets=1000 ] = 0.641\n"
     ]
    },
    {
     "name": "stderr",
     "output_type": "stream",
     "text": [
      "2021-05-19 06:38:38,576 - mmdet - INFO - Now best checkpoint is epoch_11.pth.Best bbox_mAP_50 is 0.3480\n",
      "2021-05-19 06:38:38,584 - mmdet - INFO - Epoch(val) [11][288]\tbbox_mAP: 0.2110, bbox_mAP_50: 0.3480, bbox_mAP_75: 0.2060, bbox_mAP_s: 0.0370, bbox_mAP_m: 0.1900, bbox_mAP_l: 0.4030, bbox_mAP_copypaste: 0.211 0.348 0.206 0.037 0.190 0.403\n",
      "2021-05-19 06:38:51,206 - mmdet - INFO - Epoch [12][10/288]\tlr: 2.769e-05, eta: 1:58:59, time: 1.261, data_time: 0.260, memory: 7613, loss_cls: 0.6442, loss_bbox: 0.2697, loss_bbox_rf: 0.3415, loss: 1.2554, grad_norm: 8.7037\n",
      "2021-05-19 06:39:01,338 - mmdet - INFO - Epoch [12][20/288]\tlr: 2.762e-05, eta: 1:58:49, time: 1.013, data_time: 0.019, memory: 7613, loss_cls: 0.6455, loss_bbox: 0.2798, loss_bbox_rf: 0.3551, loss: 1.2804, grad_norm: 7.6246\n",
      "2021-05-19 06:39:11,425 - mmdet - INFO - Epoch [12][30/288]\tlr: 2.755e-05, eta: 1:58:39, time: 1.009, data_time: 0.019, memory: 7613, loss_cls: 0.6465, loss_bbox: 0.2625, loss_bbox_rf: 0.3308, loss: 1.2398, grad_norm: 8.7042\n",
      "2021-05-19 06:39:21,561 - mmdet - INFO - Epoch [12][40/288]\tlr: 2.749e-05, eta: 1:58:30, time: 1.014, data_time: 0.020, memory: 7613, loss_cls: 0.6654, loss_bbox: 0.2523, loss_bbox_rf: 0.3182, loss: 1.2359, grad_norm: 7.6837\n",
      "2021-05-19 06:39:32,003 - mmdet - INFO - Epoch [12][50/288]\tlr: 2.742e-05, eta: 1:58:21, time: 1.044, data_time: 0.020, memory: 7613, loss_cls: 0.6699, loss_bbox: 0.2617, loss_bbox_rf: 0.3281, loss: 1.2597, grad_norm: 8.5886\n",
      "2021-05-19 06:39:42,631 - mmdet - INFO - Epoch [12][60/288]\tlr: 2.735e-05, eta: 1:58:13, time: 1.063, data_time: 0.019, memory: 7613, loss_cls: 0.6377, loss_bbox: 0.2731, loss_bbox_rf: 0.3465, loss: 1.2572, grad_norm: 9.6684\n",
      "2021-05-19 06:39:52,805 - mmdet - INFO - Epoch [12][70/288]\tlr: 2.729e-05, eta: 1:58:03, time: 1.017, data_time: 0.021, memory: 7613, loss_cls: 0.6214, loss_bbox: 0.2651, loss_bbox_rf: 0.3355, loss: 1.2220, grad_norm: 9.7623\n",
      "2021-05-19 06:40:02,966 - mmdet - INFO - Epoch [12][80/288]\tlr: 2.722e-05, eta: 1:57:54, time: 1.016, data_time: 0.019, memory: 7613, loss_cls: 0.6659, loss_bbox: 0.2745, loss_bbox_rf: 0.3498, loss: 1.2902, grad_norm: 8.5918\n",
      "2021-05-19 06:40:13,176 - mmdet - INFO - Epoch [12][90/288]\tlr: 2.715e-05, eta: 1:57:45, time: 1.021, data_time: 0.020, memory: 7613, loss_cls: 0.6406, loss_bbox: 0.2859, loss_bbox_rf: 0.3634, loss: 1.2900, grad_norm: 9.4213\n",
      "2021-05-19 06:40:23,354 - mmdet - INFO - Epoch [12][100/288]\tlr: 2.708e-05, eta: 1:57:35, time: 1.018, data_time: 0.019, memory: 7613, loss_cls: 0.6770, loss_bbox: 0.2809, loss_bbox_rf: 0.3579, loss: 1.3158, grad_norm: 9.3937\n",
      "2021-05-19 06:40:33,520 - mmdet - INFO - Epoch [12][110/288]\tlr: 2.702e-05, eta: 1:57:26, time: 1.017, data_time: 0.019, memory: 7613, loss_cls: 0.6494, loss_bbox: 0.2490, loss_bbox_rf: 0.3116, loss: 1.2099, grad_norm: 8.6588\n",
      "2021-05-19 06:40:43,722 - mmdet - INFO - Epoch [12][120/288]\tlr: 2.695e-05, eta: 1:57:16, time: 1.020, data_time: 0.019, memory: 7613, loss_cls: 0.6676, loss_bbox: 0.2537, loss_bbox_rf: 0.3183, loss: 1.2396, grad_norm: 9.1386\n",
      "2021-05-19 06:40:53,864 - mmdet - INFO - Epoch [12][130/288]\tlr: 2.688e-05, eta: 1:57:07, time: 1.014, data_time: 0.019, memory: 7613, loss_cls: 0.6470, loss_bbox: 0.2540, loss_bbox_rf: 0.3170, loss: 1.2180, grad_norm: 11.0173\n",
      "2021-05-19 06:41:03,980 - mmdet - INFO - Epoch [12][140/288]\tlr: 2.681e-05, eta: 1:56:57, time: 1.012, data_time: 0.019, memory: 7613, loss_cls: 0.6562, loss_bbox: 0.2567, loss_bbox_rf: 0.3262, loss: 1.2391, grad_norm: 8.2857\n",
      "2021-05-19 06:41:14,138 - mmdet - INFO - Epoch [12][150/288]\tlr: 2.674e-05, eta: 1:56:48, time: 1.016, data_time: 0.019, memory: 7613, loss_cls: 0.6932, loss_bbox: 0.2682, loss_bbox_rf: 0.3362, loss: 1.2976, grad_norm: 8.7311\n",
      "2021-05-19 06:41:24,294 - mmdet - INFO - Epoch [12][160/288]\tlr: 2.668e-05, eta: 1:56:38, time: 1.016, data_time: 0.019, memory: 7613, loss_cls: 0.6599, loss_bbox: 0.2734, loss_bbox_rf: 0.3481, loss: 1.2814, grad_norm: 8.5569\n",
      "2021-05-19 06:41:34,392 - mmdet - INFO - Epoch [12][170/288]\tlr: 2.661e-05, eta: 1:56:29, time: 1.010, data_time: 0.019, memory: 7613, loss_cls: 0.6256, loss_bbox: 0.2634, loss_bbox_rf: 0.3355, loss: 1.2245, grad_norm: 7.8160\n",
      "2021-05-19 06:41:44,486 - mmdet - INFO - Epoch [12][180/288]\tlr: 2.654e-05, eta: 1:56:19, time: 1.009, data_time: 0.019, memory: 7613, loss_cls: 0.6708, loss_bbox: 0.2630, loss_bbox_rf: 0.3341, loss: 1.2679, grad_norm: 9.0752\n",
      "2021-05-19 06:41:54,584 - mmdet - INFO - Epoch [12][190/288]\tlr: 2.647e-05, eta: 1:56:10, time: 1.010, data_time: 0.019, memory: 7613, loss_cls: 0.6423, loss_bbox: 0.2730, loss_bbox_rf: 0.3481, loss: 1.2634, grad_norm: 8.9579\n",
      "2021-05-19 06:42:04,678 - mmdet - INFO - Epoch [12][200/288]\tlr: 2.640e-05, eta: 1:56:00, time: 1.009, data_time: 0.019, memory: 7613, loss_cls: 0.6418, loss_bbox: 0.2734, loss_bbox_rf: 0.3501, loss: 1.2654, grad_norm: 8.1755\n",
      "2021-05-19 06:42:14,754 - mmdet - INFO - Epoch [12][210/288]\tlr: 2.634e-05, eta: 1:55:50, time: 1.008, data_time: 0.018, memory: 7613, loss_cls: 0.6397, loss_bbox: 0.2695, loss_bbox_rf: 0.3430, loss: 1.2522, grad_norm: 7.9173\n",
      "2021-05-19 06:42:24,834 - mmdet - INFO - Epoch [12][220/288]\tlr: 2.627e-05, eta: 1:55:41, time: 1.008, data_time: 0.018, memory: 7613, loss_cls: 0.6490, loss_bbox: 0.2742, loss_bbox_rf: 0.3461, loss: 1.2692, grad_norm: 9.8321\n",
      "2021-05-19 06:42:34,953 - mmdet - INFO - Epoch [12][230/288]\tlr: 2.620e-05, eta: 1:55:31, time: 1.012, data_time: 0.018, memory: 7613, loss_cls: 0.6297, loss_bbox: 0.2910, loss_bbox_rf: 0.3658, loss: 1.2865, grad_norm: 10.9961\n",
      "2021-05-19 06:42:45,032 - mmdet - INFO - Epoch [12][240/288]\tlr: 2.613e-05, eta: 1:55:21, time: 1.008, data_time: 0.018, memory: 7613, loss_cls: 0.6713, loss_bbox: 0.2796, loss_bbox_rf: 0.3544, loss: 1.3053, grad_norm: 8.8058\n",
      "2021-05-19 06:42:55,120 - mmdet - INFO - Epoch [12][250/288]\tlr: 2.606e-05, eta: 1:55:12, time: 1.009, data_time: 0.018, memory: 7613, loss_cls: 0.6303, loss_bbox: 0.2939, loss_bbox_rf: 0.3711, loss: 1.2953, grad_norm: 9.5831\n",
      "2021-05-19 06:43:05,183 - mmdet - INFO - Epoch [12][260/288]\tlr: 2.599e-05, eta: 1:55:02, time: 1.006, data_time: 0.019, memory: 7613, loss_cls: 0.6432, loss_bbox: 0.2614, loss_bbox_rf: 0.3314, loss: 1.2360, grad_norm: 8.3646\n",
      "2021-05-19 06:43:15,257 - mmdet - INFO - Epoch [12][270/288]\tlr: 2.593e-05, eta: 1:54:52, time: 1.007, data_time: 0.019, memory: 7613, loss_cls: 0.6321, loss_bbox: 0.2531, loss_bbox_rf: 0.3204, loss: 1.2055, grad_norm: 8.1035\n",
      "2021-05-19 06:43:25,315 - mmdet - INFO - Epoch [12][280/288]\tlr: 2.586e-05, eta: 1:54:43, time: 1.006, data_time: 0.018, memory: 7613, loss_cls: 0.6677, loss_bbox: 0.2706, loss_bbox_rf: 0.3461, loss: 1.2844, grad_norm: 7.8775\n",
      "2021-05-19 06:43:33,447 - mmdet - INFO - Saving checkpoint at 12 epochs\n"
     ]
    },
    {
     "name": "stdout",
     "output_type": "stream",
     "text": [
      "[>>>>>>>>>>>>>>>>>>>>>>>>>>>>>>] 655/655, 7.3 task/s, elapsed: 89s, ETA:     0s"
     ]
    },
    {
     "name": "stderr",
     "output_type": "stream",
     "text": [
      "2021-05-19 06:45:07,280 - mmdet - INFO - Evaluating bbox...\n"
     ]
    },
    {
     "name": "stdout",
     "output_type": "stream",
     "text": [
      "Loading and preparing results...\n",
      "DONE (t=2.24s)\n",
      "creating index...\n",
      "index created!\n",
      "Running per image evaluation...\n",
      "Evaluate annotation type *bbox*\n",
      "DONE (t=11.20s).\n",
      "Accumulating evaluation results...\n"
     ]
    },
    {
     "name": "stderr",
     "output_type": "stream",
     "text": [
      "2021-05-19 06:45:24,204 - mmdet - INFO - Epoch(val) [12][288]\tbbox_mAP: 0.1920, bbox_mAP_50: 0.3090, bbox_mAP_75: 0.1960, bbox_mAP_s: 0.0290, bbox_mAP_m: 0.1730, bbox_mAP_l: 0.3880, bbox_mAP_copypaste: 0.192 0.309 0.196 0.029 0.173 0.388\n"
     ]
    },
    {
     "name": "stdout",
     "output_type": "stream",
     "text": [
      "DONE (t=3.20s).\n",
      "Average Precision  (AP) @[ IoU=0.50:0.95 | area=   all | maxDets=100 ] = 0.192\n",
      "Average Precision  (AP) @[ IoU=0.50      | area=   all | maxDets=1000 ] = 0.309\n",
      "Average Precision  (AP) @[ IoU=0.75      | area=   all | maxDets=1000 ] = 0.196\n",
      "Average Precision  (AP) @[ IoU=0.50:0.95 | area= small | maxDets=1000 ] = 0.029\n",
      "Average Precision  (AP) @[ IoU=0.50:0.95 | area=medium | maxDets=1000 ] = 0.173\n",
      "Average Precision  (AP) @[ IoU=0.50:0.95 | area= large | maxDets=1000 ] = 0.388\n",
      "Average Recall     (AR) @[ IoU=0.50:0.95 | area=   all | maxDets=100 ] = 0.417\n",
      "Average Recall     (AR) @[ IoU=0.50:0.95 | area=   all | maxDets=300 ] = 0.417\n",
      "Average Recall     (AR) @[ IoU=0.50:0.95 | area=   all | maxDets=1000 ] = 0.417\n",
      "Average Recall     (AR) @[ IoU=0.50:0.95 | area= small | maxDets=1000 ] = 0.114\n",
      "Average Recall     (AR) @[ IoU=0.50:0.95 | area=medium | maxDets=1000 ] = 0.420\n",
      "Average Recall     (AR) @[ IoU=0.50:0.95 | area= large | maxDets=1000 ] = 0.692\n"
     ]
    },
    {
     "name": "stderr",
     "output_type": "stream",
     "text": [
      "2021-05-19 06:45:36,684 - mmdet - INFO - Epoch [13][10/288]\tlr: 2.573e-05, eta: 1:54:14, time: 1.246, data_time: 0.255, memory: 7613, loss_cls: 0.6218, loss_bbox: 0.2519, loss_bbox_rf: 0.3224, loss: 1.1962, grad_norm: 9.1947\n",
      "2021-05-19 06:45:46,743 - mmdet - INFO - Epoch [13][20/288]\tlr: 2.567e-05, eta: 1:54:04, time: 1.006, data_time: 0.018, memory: 7613, loss_cls: 0.6202, loss_bbox: 0.2566, loss_bbox_rf: 0.3239, loss: 1.2007, grad_norm: 8.9721\n",
      "2021-05-19 06:45:56,770 - mmdet - INFO - Epoch [13][30/288]\tlr: 2.560e-05, eta: 1:53:54, time: 1.003, data_time: 0.018, memory: 7613, loss_cls: 0.6083, loss_bbox: 0.2413, loss_bbox_rf: 0.3009, loss: 1.1505, grad_norm: 8.8101\n",
      "2021-05-19 06:46:06,813 - mmdet - INFO - Epoch [13][40/288]\tlr: 2.553e-05, eta: 1:53:45, time: 1.004, data_time: 0.018, memory: 7613, loss_cls: 0.6210, loss_bbox: 0.2708, loss_bbox_rf: 0.3429, loss: 1.2347, grad_norm: 8.7136\n",
      "2021-05-19 06:46:16,887 - mmdet - INFO - Epoch [13][50/288]\tlr: 2.546e-05, eta: 1:53:35, time: 1.007, data_time: 0.019, memory: 7613, loss_cls: 0.6319, loss_bbox: 0.2574, loss_bbox_rf: 0.3246, loss: 1.2140, grad_norm: 7.5232\n",
      "2021-05-19 06:46:26,924 - mmdet - INFO - Epoch [13][60/288]\tlr: 2.539e-05, eta: 1:53:25, time: 1.004, data_time: 0.018, memory: 7613, loss_cls: 0.6003, loss_bbox: 0.2580, loss_bbox_rf: 0.3268, loss: 1.1850, grad_norm: 6.4865\n",
      "2021-05-19 06:46:36,976 - mmdet - INFO - Epoch [13][70/288]\tlr: 2.532e-05, eta: 1:53:16, time: 1.005, data_time: 0.020, memory: 7613, loss_cls: 0.6448, loss_bbox: 0.2504, loss_bbox_rf: 0.3162, loss: 1.2115, grad_norm: 7.6175\n",
      "2021-05-19 06:46:47,040 - mmdet - INFO - Epoch [13][80/288]\tlr: 2.525e-05, eta: 1:53:06, time: 1.006, data_time: 0.020, memory: 7613, loss_cls: 0.6241, loss_bbox: 0.2690, loss_bbox_rf: 0.3417, loss: 1.2348, grad_norm: 7.3859\n",
      "2021-05-19 06:46:57,119 - mmdet - INFO - Epoch [13][90/288]\tlr: 2.518e-05, eta: 1:52:56, time: 1.008, data_time: 0.019, memory: 7613, loss_cls: 0.5775, loss_bbox: 0.2631, loss_bbox_rf: 0.3352, loss: 1.1757, grad_norm: 8.7413\n",
      "2021-05-19 06:47:07,162 - mmdet - INFO - Epoch [13][100/288]\tlr: 2.511e-05, eta: 1:52:47, time: 1.004, data_time: 0.018, memory: 7613, loss_cls: 0.5883, loss_bbox: 0.2299, loss_bbox_rf: 0.2858, loss: 1.1040, grad_norm: 9.4339\n",
      "2021-05-19 06:47:17,235 - mmdet - INFO - Epoch [13][110/288]\tlr: 2.504e-05, eta: 1:52:37, time: 1.007, data_time: 0.019, memory: 7613, loss_cls: 0.6128, loss_bbox: 0.2583, loss_bbox_rf: 0.3259, loss: 1.1970, grad_norm: 9.5912\n",
      "2021-05-19 06:47:27,288 - mmdet - INFO - Epoch [13][120/288]\tlr: 2.497e-05, eta: 1:52:27, time: 1.005, data_time: 0.019, memory: 7613, loss_cls: 0.5886, loss_bbox: 0.2704, loss_bbox_rf: 0.3447, loss: 1.2037, grad_norm: 9.3308\n",
      "2021-05-19 06:47:37,352 - mmdet - INFO - Epoch [13][130/288]\tlr: 2.491e-05, eta: 1:52:17, time: 1.006, data_time: 0.019, memory: 7613, loss_cls: 0.6231, loss_bbox: 0.2585, loss_bbox_rf: 0.3262, loss: 1.2078, grad_norm: 8.3636\n",
      "2021-05-19 06:47:47,415 - mmdet - INFO - Epoch [13][140/288]\tlr: 2.484e-05, eta: 1:52:08, time: 1.006, data_time: 0.018, memory: 7613, loss_cls: 0.6127, loss_bbox: 0.2511, loss_bbox_rf: 0.3168, loss: 1.1806, grad_norm: 9.4573\n",
      "2021-05-19 06:47:57,466 - mmdet - INFO - Epoch [13][150/288]\tlr: 2.477e-05, eta: 1:51:58, time: 1.005, data_time: 0.018, memory: 7613, loss_cls: 0.5955, loss_bbox: 0.2557, loss_bbox_rf: 0.3245, loss: 1.1757, grad_norm: 8.0411\n",
      "2021-05-19 06:48:07,545 - mmdet - INFO - Epoch [13][160/288]\tlr: 2.470e-05, eta: 1:51:48, time: 1.008, data_time: 0.019, memory: 7613, loss_cls: 0.6178, loss_bbox: 0.2628, loss_bbox_rf: 0.3333, loss: 1.2138, grad_norm: 7.6549\n",
      "2021-05-19 06:48:17,621 - mmdet - INFO - Epoch [13][170/288]\tlr: 2.463e-05, eta: 1:51:39, time: 1.008, data_time: 0.019, memory: 7613, loss_cls: 0.6079, loss_bbox: 0.2756, loss_bbox_rf: 0.3521, loss: 1.2356, grad_norm: 8.6921\n",
      "2021-05-19 06:48:27,658 - mmdet - INFO - Epoch [13][180/288]\tlr: 2.456e-05, eta: 1:51:29, time: 1.004, data_time: 0.018, memory: 7613, loss_cls: 0.6000, loss_bbox: 0.2566, loss_bbox_rf: 0.3252, loss: 1.1818, grad_norm: 7.7690\n",
      "2021-05-19 06:48:37,712 - mmdet - INFO - Epoch [13][190/288]\tlr: 2.449e-05, eta: 1:51:19, time: 1.005, data_time: 0.018, memory: 7613, loss_cls: 0.6018, loss_bbox: 0.2490, loss_bbox_rf: 0.3166, loss: 1.1674, grad_norm: 7.1594\n",
      "2021-05-19 06:48:47,776 - mmdet - INFO - Epoch [13][200/288]\tlr: 2.442e-05, eta: 1:51:10, time: 1.006, data_time: 0.019, memory: 7613, loss_cls: 0.6304, loss_bbox: 0.2487, loss_bbox_rf: 0.3123, loss: 1.1914, grad_norm: 8.0959\n",
      "2021-05-19 06:48:57,841 - mmdet - INFO - Epoch [13][210/288]\tlr: 2.435e-05, eta: 1:51:00, time: 1.006, data_time: 0.018, memory: 7613, loss_cls: 0.6140, loss_bbox: 0.2699, loss_bbox_rf: 0.3430, loss: 1.2269, grad_norm: 8.2753\n",
      "2021-05-19 06:49:07,929 - mmdet - INFO - Epoch [13][220/288]\tlr: 2.428e-05, eta: 1:50:50, time: 1.009, data_time: 0.018, memory: 7613, loss_cls: 0.6148, loss_bbox: 0.2664, loss_bbox_rf: 0.3423, loss: 1.2235, grad_norm: 8.2451\n",
      "2021-05-19 06:49:17,977 - mmdet - INFO - Epoch [13][230/288]\tlr: 2.421e-05, eta: 1:50:40, time: 1.005, data_time: 0.018, memory: 7613, loss_cls: 0.5885, loss_bbox: 0.2481, loss_bbox_rf: 0.3151, loss: 1.1517, grad_norm: 8.5977\n",
      "2021-05-19 06:49:28,063 - mmdet - INFO - Epoch [13][240/288]\tlr: 2.414e-05, eta: 1:50:31, time: 1.009, data_time: 0.019, memory: 7613, loss_cls: 0.5929, loss_bbox: 0.2659, loss_bbox_rf: 0.3386, loss: 1.1974, grad_norm: 7.9781\n",
      "2021-05-19 06:49:38,134 - mmdet - INFO - Epoch [13][250/288]\tlr: 2.407e-05, eta: 1:50:21, time: 1.007, data_time: 0.019, memory: 7613, loss_cls: 0.6076, loss_bbox: 0.2561, loss_bbox_rf: 0.3236, loss: 1.1874, grad_norm: 8.7841\n",
      "2021-05-19 06:49:48,213 - mmdet - INFO - Epoch [13][260/288]\tlr: 2.400e-05, eta: 1:50:11, time: 1.008, data_time: 0.018, memory: 7613, loss_cls: 0.6036, loss_bbox: 0.2521, loss_bbox_rf: 0.3193, loss: 1.1750, grad_norm: 9.3828\n",
      "2021-05-19 06:49:58,266 - mmdet - INFO - Epoch [13][270/288]\tlr: 2.393e-05, eta: 1:50:02, time: 1.005, data_time: 0.018, memory: 7613, loss_cls: 0.6085, loss_bbox: 0.2385, loss_bbox_rf: 0.3017, loss: 1.1487, grad_norm: 8.5539\n",
      "2021-05-19 06:50:08,320 - mmdet - INFO - Epoch [13][280/288]\tlr: 2.386e-05, eta: 1:49:52, time: 1.005, data_time: 0.018, memory: 7613, loss_cls: 0.6131, loss_bbox: 0.2574, loss_bbox_rf: 0.3284, loss: 1.1988, grad_norm: 7.7996\n",
      "2021-05-19 06:50:16,476 - mmdet - INFO - Saving checkpoint at 13 epochs\n"
     ]
    },
    {
     "name": "stdout",
     "output_type": "stream",
     "text": [
      "[>>>>>>>>>>>>>>>>>>>>>>>>>>>>>>] 655/655, 7.6 task/s, elapsed: 87s, ETA:     0s"
     ]
    },
    {
     "name": "stderr",
     "output_type": "stream",
     "text": [
      "2021-05-19 06:51:47,808 - mmdet - INFO - Evaluating bbox...\n"
     ]
    },
    {
     "name": "stdout",
     "output_type": "stream",
     "text": [
      "Loading and preparing results...\n",
      "DONE (t=2.30s)\n",
      "creating index...\n",
      "index created!\n",
      "Running per image evaluation...\n",
      "Evaluate annotation type *bbox*\n",
      "DONE (t=12.25s).\n",
      "Accumulating evaluation results...\n"
     ]
    },
    {
     "name": "stderr",
     "output_type": "stream",
     "text": [
      "2021-05-19 06:52:05,927 - mmdet - INFO - Epoch(val) [13][288]\tbbox_mAP: 0.2120, bbox_mAP_50: 0.3420, bbox_mAP_75: 0.2190, bbox_mAP_s: 0.0330, bbox_mAP_m: 0.1800, bbox_mAP_l: 0.4100, bbox_mAP_copypaste: 0.212 0.342 0.219 0.033 0.180 0.410\n"
     ]
    },
    {
     "name": "stdout",
     "output_type": "stream",
     "text": [
      "DONE (t=3.29s).\n",
      "Average Precision  (AP) @[ IoU=0.50:0.95 | area=   all | maxDets=100 ] = 0.212\n",
      "Average Precision  (AP) @[ IoU=0.50      | area=   all | maxDets=1000 ] = 0.342\n",
      "Average Precision  (AP) @[ IoU=0.75      | area=   all | maxDets=1000 ] = 0.219\n",
      "Average Precision  (AP) @[ IoU=0.50:0.95 | area= small | maxDets=1000 ] = 0.033\n",
      "Average Precision  (AP) @[ IoU=0.50:0.95 | area=medium | maxDets=1000 ] = 0.180\n",
      "Average Precision  (AP) @[ IoU=0.50:0.95 | area= large | maxDets=1000 ] = 0.410\n",
      "Average Recall     (AR) @[ IoU=0.50:0.95 | area=   all | maxDets=100 ] = 0.414\n",
      "Average Recall     (AR) @[ IoU=0.50:0.95 | area=   all | maxDets=300 ] = 0.415\n",
      "Average Recall     (AR) @[ IoU=0.50:0.95 | area=   all | maxDets=1000 ] = 0.415\n",
      "Average Recall     (AR) @[ IoU=0.50:0.95 | area= small | maxDets=1000 ] = 0.118\n",
      "Average Recall     (AR) @[ IoU=0.50:0.95 | area=medium | maxDets=1000 ] = 0.413\n",
      "Average Recall     (AR) @[ IoU=0.50:0.95 | area= large | maxDets=1000 ] = 0.673\n"
     ]
    },
    {
     "name": "stderr",
     "output_type": "stream",
     "text": [
      "2021-05-19 06:52:18,428 - mmdet - INFO - Epoch [14][10/288]\tlr: 2.374e-05, eta: 1:49:24, time: 1.248, data_time: 0.256, memory: 7613, loss_cls: 0.5999, loss_bbox: 0.2612, loss_bbox_rf: 0.3292, loss: 1.1903, grad_norm: 8.9782\n",
      "2021-05-19 06:52:28,488 - mmdet - INFO - Epoch [14][20/288]\tlr: 2.367e-05, eta: 1:49:15, time: 1.006, data_time: 0.018, memory: 7613, loss_cls: 0.5904, loss_bbox: 0.2550, loss_bbox_rf: 0.3197, loss: 1.1651, grad_norm: 8.7591\n",
      "2021-05-19 06:52:38,539 - mmdet - INFO - Epoch [14][30/288]\tlr: 2.360e-05, eta: 1:49:05, time: 1.005, data_time: 0.018, memory: 7613, loss_cls: 0.5615, loss_bbox: 0.2234, loss_bbox_rf: 0.2838, loss: 1.0688, grad_norm: 8.7582\n",
      "2021-05-19 06:52:48,596 - mmdet - INFO - Epoch [14][40/288]\tlr: 2.353e-05, eta: 1:48:55, time: 1.006, data_time: 0.018, memory: 7613, loss_cls: 0.5873, loss_bbox: 0.2422, loss_bbox_rf: 0.3068, loss: 1.1363, grad_norm: 7.9462\n",
      "2021-05-19 06:52:58,665 - mmdet - INFO - Epoch [14][50/288]\tlr: 2.346e-05, eta: 1:48:46, time: 1.007, data_time: 0.018, memory: 7613, loss_cls: 0.5760, loss_bbox: 0.2496, loss_bbox_rf: 0.3169, loss: 1.1424, grad_norm: 9.0366\n",
      "2021-05-19 06:53:08,745 - mmdet - INFO - Epoch [14][60/288]\tlr: 2.339e-05, eta: 1:48:36, time: 1.008, data_time: 0.018, memory: 7613, loss_cls: 0.5653, loss_bbox: 0.2573, loss_bbox_rf: 0.3271, loss: 1.1497, grad_norm: 8.2147\n",
      "2021-05-19 06:53:18,834 - mmdet - INFO - Epoch [14][70/288]\tlr: 2.332e-05, eta: 1:48:26, time: 1.009, data_time: 0.018, memory: 7613, loss_cls: 0.5832, loss_bbox: 0.2536, loss_bbox_rf: 0.3226, loss: 1.1594, grad_norm: 7.9831\n",
      "2021-05-19 06:53:28,968 - mmdet - INFO - Epoch [14][80/288]\tlr: 2.325e-05, eta: 1:48:17, time: 1.013, data_time: 0.020, memory: 7613, loss_cls: 0.5908, loss_bbox: 0.2467, loss_bbox_rf: 0.3103, loss: 1.1478, grad_norm: 9.1729\n",
      "2021-05-19 06:53:39,071 - mmdet - INFO - Epoch [14][90/288]\tlr: 2.318e-05, eta: 1:48:07, time: 1.010, data_time: 0.018, memory: 7613, loss_cls: 0.5715, loss_bbox: 0.2380, loss_bbox_rf: 0.2992, loss: 1.1087, grad_norm: 8.0186\n",
      "2021-05-19 06:53:49,178 - mmdet - INFO - Epoch [14][100/288]\tlr: 2.311e-05, eta: 1:47:58, time: 1.011, data_time: 0.020, memory: 7613, loss_cls: 0.6093, loss_bbox: 0.2622, loss_bbox_rf: 0.3329, loss: 1.2043, grad_norm: 8.2070\n",
      "2021-05-19 06:53:59,242 - mmdet - INFO - Epoch [14][110/288]\tlr: 2.304e-05, eta: 1:47:48, time: 1.006, data_time: 0.018, memory: 7613, loss_cls: 0.5835, loss_bbox: 0.2472, loss_bbox_rf: 0.3109, loss: 1.1416, grad_norm: 9.3622\n",
      "2021-05-19 06:54:09,322 - mmdet - INFO - Epoch [14][120/288]\tlr: 2.297e-05, eta: 1:47:38, time: 1.008, data_time: 0.018, memory: 7613, loss_cls: 0.5746, loss_bbox: 0.2286, loss_bbox_rf: 0.2857, loss: 1.0889, grad_norm: 9.3317\n",
      "2021-05-19 06:54:19,436 - mmdet - INFO - Epoch [14][130/288]\tlr: 2.290e-05, eta: 1:47:29, time: 1.011, data_time: 0.019, memory: 7613, loss_cls: 0.5976, loss_bbox: 0.2535, loss_bbox_rf: 0.3203, loss: 1.1714, grad_norm: 8.3114\n",
      "2021-05-19 06:54:29,518 - mmdet - INFO - Epoch [14][140/288]\tlr: 2.283e-05, eta: 1:47:19, time: 1.008, data_time: 0.019, memory: 7613, loss_cls: 0.5810, loss_bbox: 0.2342, loss_bbox_rf: 0.2948, loss: 1.1100, grad_norm: 8.4374\n",
      "2021-05-19 06:54:39,651 - mmdet - INFO - Epoch [14][150/288]\tlr: 2.276e-05, eta: 1:47:09, time: 1.013, data_time: 0.018, memory: 7613, loss_cls: 0.5898, loss_bbox: 0.2542, loss_bbox_rf: 0.3245, loss: 1.1686, grad_norm: 9.4056\n",
      "2021-05-19 06:54:49,760 - mmdet - INFO - Epoch [14][160/288]\tlr: 2.269e-05, eta: 1:47:00, time: 1.011, data_time: 0.018, memory: 7613, loss_cls: 0.5847, loss_bbox: 0.2317, loss_bbox_rf: 0.2879, loss: 1.1044, grad_norm: 9.3416\n",
      "2021-05-19 06:54:59,864 - mmdet - INFO - Epoch [14][170/288]\tlr: 2.262e-05, eta: 1:46:50, time: 1.010, data_time: 0.017, memory: 7613, loss_cls: 0.6073, loss_bbox: 0.2488, loss_bbox_rf: 0.3164, loss: 1.1725, grad_norm: 8.4224\n",
      "2021-05-19 06:55:09,999 - mmdet - INFO - Epoch [14][180/288]\tlr: 2.255e-05, eta: 1:46:40, time: 1.014, data_time: 0.018, memory: 7613, loss_cls: 0.5646, loss_bbox: 0.2462, loss_bbox_rf: 0.3124, loss: 1.1233, grad_norm: 7.5281\n",
      "2021-05-19 06:55:20,100 - mmdet - INFO - Epoch [14][190/288]\tlr: 2.248e-05, eta: 1:46:31, time: 1.010, data_time: 0.018, memory: 7613, loss_cls: 0.5839, loss_bbox: 0.2477, loss_bbox_rf: 0.3109, loss: 1.1424, grad_norm: 7.9205\n",
      "2021-05-19 06:55:30,177 - mmdet - INFO - Epoch [14][200/288]\tlr: 2.241e-05, eta: 1:46:21, time: 1.008, data_time: 0.017, memory: 7613, loss_cls: 0.5991, loss_bbox: 0.2437, loss_bbox_rf: 0.3070, loss: 1.1498, grad_norm: 8.1632\n",
      "2021-05-19 06:55:40,275 - mmdet - INFO - Epoch [14][210/288]\tlr: 2.234e-05, eta: 1:46:11, time: 1.010, data_time: 0.019, memory: 7613, loss_cls: 0.5750, loss_bbox: 0.2318, loss_bbox_rf: 0.2945, loss: 1.1014, grad_norm: 9.3527\n",
      "2021-05-19 06:55:50,400 - mmdet - INFO - Epoch [14][220/288]\tlr: 2.227e-05, eta: 1:46:02, time: 1.013, data_time: 0.019, memory: 7613, loss_cls: 0.5801, loss_bbox: 0.2498, loss_bbox_rf: 0.3192, loss: 1.1490, grad_norm: 8.4508\n",
      "2021-05-19 06:56:00,490 - mmdet - INFO - Epoch [14][230/288]\tlr: 2.220e-05, eta: 1:45:52, time: 1.009, data_time: 0.019, memory: 7613, loss_cls: 0.5689, loss_bbox: 0.2544, loss_bbox_rf: 0.3227, loss: 1.1460, grad_norm: 8.5358\n",
      "2021-05-19 06:56:10,581 - mmdet - INFO - Epoch [14][240/288]\tlr: 2.213e-05, eta: 1:45:42, time: 1.009, data_time: 0.019, memory: 7613, loss_cls: 0.5738, loss_bbox: 0.2421, loss_bbox_rf: 0.3074, loss: 1.1233, grad_norm: 8.1208\n",
      "2021-05-19 06:56:20,667 - mmdet - INFO - Epoch [14][250/288]\tlr: 2.206e-05, eta: 1:45:33, time: 1.009, data_time: 0.018, memory: 7613, loss_cls: 0.5843, loss_bbox: 0.2518, loss_bbox_rf: 0.3212, loss: 1.1573, grad_norm: 7.1668\n",
      "2021-05-19 06:56:30,736 - mmdet - INFO - Epoch [14][260/288]\tlr: 2.199e-05, eta: 1:45:23, time: 1.007, data_time: 0.018, memory: 7613, loss_cls: 0.5816, loss_bbox: 0.2415, loss_bbox_rf: 0.3050, loss: 1.1280, grad_norm: 8.4805\n",
      "2021-05-19 06:56:40,788 - mmdet - INFO - Epoch [14][270/288]\tlr: 2.192e-05, eta: 1:45:13, time: 1.005, data_time: 0.018, memory: 7613, loss_cls: 0.5913, loss_bbox: 0.2454, loss_bbox_rf: 0.3091, loss: 1.1458, grad_norm: 8.2265\n",
      "2021-05-19 06:56:50,845 - mmdet - INFO - Epoch [14][280/288]\tlr: 2.185e-05, eta: 1:45:03, time: 1.006, data_time: 0.018, memory: 7613, loss_cls: 0.5957, loss_bbox: 0.2633, loss_bbox_rf: 0.3360, loss: 1.1950, grad_norm: 8.7135\n",
      "2021-05-19 06:56:59,041 - mmdet - INFO - Saving checkpoint at 14 epochs\n"
     ]
    },
    {
     "name": "stdout",
     "output_type": "stream",
     "text": [
      "[>>>>>>>>>>>>>>>>>>>>>>>>>>>>>>] 655/655, 7.5 task/s, elapsed: 87s, ETA:     0s"
     ]
    },
    {
     "name": "stderr",
     "output_type": "stream",
     "text": [
      "2021-05-19 06:58:31,102 - mmdet - INFO - Evaluating bbox...\n"
     ]
    },
    {
     "name": "stdout",
     "output_type": "stream",
     "text": [
      "Loading and preparing results...\n",
      "DONE (t=1.73s)\n",
      "creating index...\n",
      "index created!\n",
      "Running per image evaluation...\n",
      "Evaluate annotation type *bbox*\n",
      "DONE (t=12.46s).\n",
      "Accumulating evaluation results...\n",
      "DONE (t=3.26s).\n",
      "Average Precision  (AP) @[ IoU=0.50:0.95 | area=   all | maxDets=100 ] = 0.223\n",
      "Average Precision  (AP) @[ IoU=0.50      | area=   all | maxDets=1000 ] = 0.358\n",
      "Average Precision  (AP) @[ IoU=0.75      | area=   all | maxDets=1000 ] = 0.230\n",
      "Average Precision  (AP) @[ IoU=0.50:0.95 | area= small | maxDets=1000 ] = 0.032\n",
      "Average Precision  (AP) @[ IoU=0.50:0.95 | area=medium | maxDets=1000 ] = 0.198\n",
      "Average Precision  (AP) @[ IoU=0.50:0.95 | area= large | maxDets=1000 ] = 0.424\n",
      "Average Recall     (AR) @[ IoU=0.50:0.95 | area=   all | maxDets=100 ] = 0.412\n",
      "Average Recall     (AR) @[ IoU=0.50:0.95 | area=   all | maxDets=300 ] = 0.413\n",
      "Average Recall     (AR) @[ IoU=0.50:0.95 | area=   all | maxDets=1000 ] = 0.413\n",
      "Average Recall     (AR) @[ IoU=0.50:0.95 | area= small | maxDets=1000 ] = 0.146\n",
      "Average Recall     (AR) @[ IoU=0.50:0.95 | area=medium | maxDets=1000 ] = 0.404\n",
      "Average Recall     (AR) @[ IoU=0.50:0.95 | area= large | maxDets=1000 ] = 0.671\n"
     ]
    },
    {
     "name": "stderr",
     "output_type": "stream",
     "text": [
      "2021-05-19 06:58:52,567 - mmdet - INFO - Now best checkpoint is epoch_14.pth.Best bbox_mAP_50 is 0.3580\n",
      "2021-05-19 06:58:52,574 - mmdet - INFO - Epoch(val) [14][288]\tbbox_mAP: 0.2230, bbox_mAP_50: 0.3580, bbox_mAP_75: 0.2300, bbox_mAP_s: 0.0320, bbox_mAP_m: 0.1980, bbox_mAP_l: 0.4240, bbox_mAP_copypaste: 0.223 0.358 0.230 0.032 0.198 0.424\n",
      "2021-05-19 06:59:05,128 - mmdet - INFO - Epoch [15][10/288]\tlr: 2.172e-05, eta: 1:44:37, time: 1.254, data_time: 0.258, memory: 7613, loss_cls: 0.5503, loss_bbox: 0.2247, loss_bbox_rf: 0.2850, loss: 1.0599, grad_norm: 8.0449\n",
      "2021-05-19 06:59:15,199 - mmdet - INFO - Epoch [15][20/288]\tlr: 2.165e-05, eta: 1:44:27, time: 1.007, data_time: 0.018, memory: 7613, loss_cls: 0.5572, loss_bbox: 0.2177, loss_bbox_rf: 0.2721, loss: 1.0470, grad_norm: 9.0943\n",
      "2021-05-19 06:59:25,293 - mmdet - INFO - Epoch [15][30/288]\tlr: 2.158e-05, eta: 1:44:18, time: 1.009, data_time: 0.018, memory: 7613, loss_cls: 0.5339, loss_bbox: 0.2332, loss_bbox_rf: 0.2955, loss: 1.0626, grad_norm: 7.3809\n",
      "2021-05-19 06:59:35,371 - mmdet - INFO - Epoch [15][40/288]\tlr: 2.151e-05, eta: 1:44:08, time: 1.008, data_time: 0.020, memory: 7613, loss_cls: 0.5484, loss_bbox: 0.2237, loss_bbox_rf: 0.2825, loss: 1.0546, grad_norm: 10.2068\n",
      "2021-05-19 06:59:45,474 - mmdet - INFO - Epoch [15][50/288]\tlr: 2.144e-05, eta: 1:43:58, time: 1.010, data_time: 0.019, memory: 7613, loss_cls: 0.5385, loss_bbox: 0.2269, loss_bbox_rf: 0.2852, loss: 1.0506, grad_norm: 9.5298\n",
      "2021-05-19 06:59:55,550 - mmdet - INFO - Epoch [15][60/288]\tlr: 2.137e-05, eta: 1:43:49, time: 1.008, data_time: 0.019, memory: 7613, loss_cls: 0.5411, loss_bbox: 0.2359, loss_bbox_rf: 0.2974, loss: 1.0744, grad_norm: 7.7096\n",
      "2021-05-19 07:00:05,702 - mmdet - INFO - Epoch [15][70/288]\tlr: 2.130e-05, eta: 1:43:39, time: 1.015, data_time: 0.019, memory: 7613, loss_cls: 0.5350, loss_bbox: 0.2360, loss_bbox_rf: 0.3000, loss: 1.0710, grad_norm: 8.4157\n",
      "2021-05-19 07:00:15,776 - mmdet - INFO - Epoch [15][80/288]\tlr: 2.124e-05, eta: 1:43:30, time: 1.007, data_time: 0.018, memory: 7613, loss_cls: 0.5286, loss_bbox: 0.2272, loss_bbox_rf: 0.2891, loss: 1.0450, grad_norm: 8.4402\n",
      "2021-05-19 07:00:25,871 - mmdet - INFO - Epoch [15][90/288]\tlr: 2.117e-05, eta: 1:43:20, time: 1.010, data_time: 0.018, memory: 7613, loss_cls: 0.5279, loss_bbox: 0.2387, loss_bbox_rf: 0.3056, loss: 1.0722, grad_norm: 7.9924\n",
      "2021-05-19 07:00:35,948 - mmdet - INFO - Epoch [15][100/288]\tlr: 2.110e-05, eta: 1:43:10, time: 1.008, data_time: 0.019, memory: 7613, loss_cls: 0.5518, loss_bbox: 0.2438, loss_bbox_rf: 0.3104, loss: 1.1060, grad_norm: 8.9577\n",
      "2021-05-19 07:00:45,983 - mmdet - INFO - Epoch [15][110/288]\tlr: 2.103e-05, eta: 1:43:00, time: 1.004, data_time: 0.018, memory: 7613, loss_cls: 0.5491, loss_bbox: 0.2264, loss_bbox_rf: 0.2838, loss: 1.0593, grad_norm: 9.1503\n",
      "2021-05-19 07:00:56,041 - mmdet - INFO - Epoch [15][120/288]\tlr: 2.096e-05, eta: 1:42:51, time: 1.006, data_time: 0.018, memory: 7613, loss_cls: 0.5445, loss_bbox: 0.2474, loss_bbox_rf: 0.3116, loss: 1.1034, grad_norm: 9.5457\n",
      "2021-05-19 07:01:06,078 - mmdet - INFO - Epoch [15][130/288]\tlr: 2.089e-05, eta: 1:42:41, time: 1.004, data_time: 0.018, memory: 7613, loss_cls: 0.5605, loss_bbox: 0.2328, loss_bbox_rf: 0.2940, loss: 1.0872, grad_norm: 8.6420\n",
      "2021-05-19 07:01:16,093 - mmdet - INFO - Epoch [15][140/288]\tlr: 2.082e-05, eta: 1:42:31, time: 1.001, data_time: 0.018, memory: 7613, loss_cls: 0.5421, loss_bbox: 0.2332, loss_bbox_rf: 0.2944, loss: 1.0696, grad_norm: 8.1618\n",
      "2021-05-19 07:01:26,146 - mmdet - INFO - Epoch [15][150/288]\tlr: 2.075e-05, eta: 1:42:21, time: 1.005, data_time: 0.018, memory: 7613, loss_cls: 0.5426, loss_bbox: 0.2323, loss_bbox_rf: 0.2942, loss: 1.0691, grad_norm: 7.3375\n",
      "2021-05-19 07:01:36,206 - mmdet - INFO - Epoch [15][160/288]\tlr: 2.068e-05, eta: 1:42:12, time: 1.006, data_time: 0.018, memory: 7613, loss_cls: 0.5410, loss_bbox: 0.2237, loss_bbox_rf: 0.2811, loss: 1.0459, grad_norm: 8.0782\n",
      "2021-05-19 07:01:46,200 - mmdet - INFO - Epoch [15][170/288]\tlr: 2.061e-05, eta: 1:42:02, time: 0.999, data_time: 0.018, memory: 7613, loss_cls: 0.5417, loss_bbox: 0.2438, loss_bbox_rf: 0.3109, loss: 1.0964, grad_norm: 6.4083\n",
      "2021-05-19 07:01:56,452 - mmdet - INFO - Epoch [15][180/288]\tlr: 2.054e-05, eta: 1:41:52, time: 1.025, data_time: 0.019, memory: 7613, loss_cls: 0.5353, loss_bbox: 0.2273, loss_bbox_rf: 0.2878, loss: 1.0504, grad_norm: 7.7144\n",
      "2021-05-19 07:02:06,591 - mmdet - INFO - Epoch [15][190/288]\tlr: 2.047e-05, eta: 1:41:43, time: 1.014, data_time: 0.019, memory: 7613, loss_cls: 0.5631, loss_bbox: 0.2420, loss_bbox_rf: 0.3073, loss: 1.1123, grad_norm: 7.0064\n",
      "2021-05-19 07:02:16,926 - mmdet - INFO - Epoch [15][200/288]\tlr: 2.040e-05, eta: 1:41:33, time: 1.033, data_time: 0.020, memory: 7613, loss_cls: 0.5604, loss_bbox: 0.2417, loss_bbox_rf: 0.3092, loss: 1.1113, grad_norm: 6.9454\n",
      "2021-05-19 07:02:27,174 - mmdet - INFO - Epoch [15][210/288]\tlr: 2.033e-05, eta: 1:41:24, time: 1.025, data_time: 0.019, memory: 7613, loss_cls: 0.5473, loss_bbox: 0.2440, loss_bbox_rf: 0.3092, loss: 1.1005, grad_norm: 8.0888\n",
      "2021-05-19 07:02:37,259 - mmdet - INFO - Epoch [15][220/288]\tlr: 2.026e-05, eta: 1:41:14, time: 1.008, data_time: 0.019, memory: 7613, loss_cls: 0.5419, loss_bbox: 0.2358, loss_bbox_rf: 0.2983, loss: 1.0759, grad_norm: 9.2591\n",
      "2021-05-19 07:02:47,340 - mmdet - INFO - Epoch [15][230/288]\tlr: 2.019e-05, eta: 1:41:04, time: 1.008, data_time: 0.018, memory: 7613, loss_cls: 0.5463, loss_bbox: 0.2212, loss_bbox_rf: 0.2780, loss: 1.0455, grad_norm: 8.4512\n",
      "2021-05-19 07:02:57,548 - mmdet - INFO - Epoch [15][240/288]\tlr: 2.012e-05, eta: 1:40:55, time: 1.021, data_time: 0.020, memory: 7613, loss_cls: 0.5305, loss_bbox: 0.2285, loss_bbox_rf: 0.2906, loss: 1.0496, grad_norm: 8.2679\n",
      "2021-05-19 07:03:07,608 - mmdet - INFO - Epoch [15][250/288]\tlr: 2.005e-05, eta: 1:40:45, time: 1.006, data_time: 0.018, memory: 7613, loss_cls: 0.5590, loss_bbox: 0.2571, loss_bbox_rf: 0.3238, loss: 1.1399, grad_norm: 8.1807\n",
      "2021-05-19 07:03:17,656 - mmdet - INFO - Epoch [15][260/288]\tlr: 1.998e-05, eta: 1:40:35, time: 1.005, data_time: 0.018, memory: 7613, loss_cls: 0.5832, loss_bbox: 0.2429, loss_bbox_rf: 0.3067, loss: 1.1328, grad_norm: 8.7972\n",
      "2021-05-19 07:03:27,732 - mmdet - INFO - Epoch [15][270/288]\tlr: 1.991e-05, eta: 1:40:26, time: 1.008, data_time: 0.019, memory: 7613, loss_cls: 0.5912, loss_bbox: 0.2652, loss_bbox_rf: 0.3357, loss: 1.1921, grad_norm: 8.2802\n",
      "2021-05-19 07:03:37,796 - mmdet - INFO - Epoch [15][280/288]\tlr: 1.985e-05, eta: 1:40:16, time: 1.006, data_time: 0.018, memory: 7613, loss_cls: 0.5448, loss_bbox: 0.2320, loss_bbox_rf: 0.2946, loss: 1.0714, grad_norm: 7.4356\n",
      "2021-05-19 07:03:45,949 - mmdet - INFO - Saving checkpoint at 15 epochs\n"
     ]
    },
    {
     "name": "stdout",
     "output_type": "stream",
     "text": [
      "[>>>>>>>>>>>>>>>>>>>>>>>>>>>>>>] 655/655, 7.6 task/s, elapsed: 87s, ETA:     0s"
     ]
    },
    {
     "name": "stderr",
     "output_type": "stream",
     "text": [
      "2021-05-19 07:05:17,223 - mmdet - INFO - Evaluating bbox...\n"
     ]
    },
    {
     "name": "stdout",
     "output_type": "stream",
     "text": [
      "Loading and preparing results...\n",
      "DONE (t=1.73s)\n",
      "creating index...\n",
      "index created!\n",
      "Running per image evaluation...\n",
      "Evaluate annotation type *bbox*\n",
      "DONE (t=12.13s).\n",
      "Accumulating evaluation results...\n",
      "DONE (t=3.22s).\n",
      "Average Precision  (AP) @[ IoU=0.50:0.95 | area=   all | maxDets=100 ] = 0.224\n",
      "Average Precision  (AP) @[ IoU=0.50      | area=   all | maxDets=1000 ] = 0.367\n",
      "Average Precision  (AP) @[ IoU=0.75      | area=   all | maxDets=1000 ] = 0.229\n",
      "Average Precision  (AP) @[ IoU=0.50:0.95 | area= small | maxDets=1000 ] = 0.033\n",
      "Average Precision  (AP) @[ IoU=0.50:0.95 | area=medium | maxDets=1000 ] = 0.184\n",
      "Average Precision  (AP) @[ IoU=0.50:0.95 | area= large | maxDets=1000 ] = 0.442\n",
      "Average Recall     (AR) @[ IoU=0.50:0.95 | area=   all | maxDets=100 ] = 0.413\n",
      "Average Recall     (AR) @[ IoU=0.50:0.95 | area=   all | maxDets=300 ] = 0.413\n",
      "Average Recall     (AR) @[ IoU=0.50:0.95 | area=   all | maxDets=1000 ] = 0.413\n",
      "Average Recall     (AR) @[ IoU=0.50:0.95 | area= small | maxDets=1000 ] = 0.147\n",
      "Average Recall     (AR) @[ IoU=0.50:0.95 | area=medium | maxDets=1000 ] = 0.403\n",
      "Average Recall     (AR) @[ IoU=0.50:0.95 | area= large | maxDets=1000 ] = 0.702\n"
     ]
    },
    {
     "name": "stderr",
     "output_type": "stream",
     "text": [
      "2021-05-19 07:05:38,298 - mmdet - INFO - Now best checkpoint is epoch_15.pth.Best bbox_mAP_50 is 0.3670\n",
      "2021-05-19 07:05:38,307 - mmdet - INFO - Epoch(val) [15][288]\tbbox_mAP: 0.2240, bbox_mAP_50: 0.3670, bbox_mAP_75: 0.2290, bbox_mAP_s: 0.0330, bbox_mAP_m: 0.1840, bbox_mAP_l: 0.4420, bbox_mAP_copypaste: 0.224 0.367 0.229 0.033 0.184 0.442\n",
      "2021-05-19 07:05:50,778 - mmdet - INFO - Epoch [16][10/288]\tlr: 1.972e-05, eta: 1:39:50, time: 1.246, data_time: 0.255, memory: 7613, loss_cls: 0.5126, loss_bbox: 0.2253, loss_bbox_rf: 0.2871, loss: 1.0250, grad_norm: 6.9219\n",
      "2021-05-19 07:06:00,842 - mmdet - INFO - Epoch [16][20/288]\tlr: 1.965e-05, eta: 1:39:41, time: 1.006, data_time: 0.019, memory: 7613, loss_cls: 0.5030, loss_bbox: 0.2088, loss_bbox_rf: 0.2644, loss: 0.9762, grad_norm: 7.3958\n",
      "2021-05-19 07:06:10,951 - mmdet - INFO - Epoch [16][30/288]\tlr: 1.958e-05, eta: 1:39:31, time: 1.011, data_time: 0.021, memory: 7613, loss_cls: 0.5104, loss_bbox: 0.2171, loss_bbox_rf: 0.2746, loss: 1.0022, grad_norm: 8.0671\n",
      "2021-05-19 07:06:21,011 - mmdet - INFO - Epoch [16][40/288]\tlr: 1.951e-05, eta: 1:39:21, time: 1.006, data_time: 0.019, memory: 7613, loss_cls: 0.5266, loss_bbox: 0.2223, loss_bbox_rf: 0.2837, loss: 1.0325, grad_norm: 6.7712\n",
      "2021-05-19 07:06:31,074 - mmdet - INFO - Epoch [16][50/288]\tlr: 1.945e-05, eta: 1:39:12, time: 1.006, data_time: 0.017, memory: 7613, loss_cls: 0.5341, loss_bbox: 0.2246, loss_bbox_rf: 0.2823, loss: 1.0410, grad_norm: 7.5933\n",
      "2021-05-19 07:06:41,120 - mmdet - INFO - Epoch [16][60/288]\tlr: 1.938e-05, eta: 1:39:02, time: 1.005, data_time: 0.017, memory: 7613, loss_cls: 0.5349, loss_bbox: 0.2332, loss_bbox_rf: 0.2950, loss: 1.0632, grad_norm: 8.1528\n",
      "2021-05-19 07:06:51,178 - mmdet - INFO - Epoch [16][70/288]\tlr: 1.931e-05, eta: 1:38:52, time: 1.006, data_time: 0.017, memory: 7613, loss_cls: 0.5290, loss_bbox: 0.2172, loss_bbox_rf: 0.2727, loss: 1.0188, grad_norm: 8.4914\n",
      "2021-05-19 07:07:01,223 - mmdet - INFO - Epoch [16][80/288]\tlr: 1.924e-05, eta: 1:38:42, time: 1.004, data_time: 0.017, memory: 7613, loss_cls: 0.5445, loss_bbox: 0.2200, loss_bbox_rf: 0.2792, loss: 1.0437, grad_norm: 8.6072\n",
      "2021-05-19 07:07:11,273 - mmdet - INFO - Epoch [16][90/288]\tlr: 1.917e-05, eta: 1:38:33, time: 1.005, data_time: 0.017, memory: 7613, loss_cls: 0.5391, loss_bbox: 0.2187, loss_bbox_rf: 0.2787, loss: 1.0365, grad_norm: 7.0240\n",
      "2021-05-19 07:07:21,297 - mmdet - INFO - Epoch [16][100/288]\tlr: 1.910e-05, eta: 1:38:23, time: 1.002, data_time: 0.017, memory: 7613, loss_cls: 0.5198, loss_bbox: 0.2190, loss_bbox_rf: 0.2749, loss: 1.0137, grad_norm: 7.5640\n",
      "2021-05-19 07:07:31,359 - mmdet - INFO - Epoch [16][110/288]\tlr: 1.903e-05, eta: 1:38:13, time: 1.006, data_time: 0.018, memory: 7613, loss_cls: 0.5114, loss_bbox: 0.2095, loss_bbox_rf: 0.2656, loss: 0.9865, grad_norm: 7.4155\n",
      "2021-05-19 07:07:41,456 - mmdet - INFO - Epoch [16][120/288]\tlr: 1.896e-05, eta: 1:38:03, time: 1.010, data_time: 0.019, memory: 7613, loss_cls: 0.5277, loss_bbox: 0.2250, loss_bbox_rf: 0.2837, loss: 1.0365, grad_norm: 7.8434\n",
      "2021-05-19 07:07:51,527 - mmdet - INFO - Epoch [16][130/288]\tlr: 1.890e-05, eta: 1:37:54, time: 1.007, data_time: 0.018, memory: 7613, loss_cls: 0.5082, loss_bbox: 0.2235, loss_bbox_rf: 0.2797, loss: 1.0113, grad_norm: 9.5915\n",
      "2021-05-19 07:08:01,577 - mmdet - INFO - Epoch [16][140/288]\tlr: 1.883e-05, eta: 1:37:44, time: 1.005, data_time: 0.017, memory: 7613, loss_cls: 0.5255, loss_bbox: 0.2502, loss_bbox_rf: 0.3194, loss: 1.0952, grad_norm: 7.6217\n",
      "2021-05-19 07:08:11,630 - mmdet - INFO - Epoch [16][150/288]\tlr: 1.876e-05, eta: 1:37:34, time: 1.005, data_time: 0.017, memory: 7613, loss_cls: 0.5184, loss_bbox: 0.2287, loss_bbox_rf: 0.2893, loss: 1.0363, grad_norm: 8.6572\n",
      "2021-05-19 07:08:21,660 - mmdet - INFO - Epoch [16][160/288]\tlr: 1.869e-05, eta: 1:37:24, time: 1.003, data_time: 0.016, memory: 7613, loss_cls: 0.5126, loss_bbox: 0.2262, loss_bbox_rf: 0.2894, loss: 1.0282, grad_norm: 7.2251\n",
      "2021-05-19 07:08:31,732 - mmdet - INFO - Epoch [16][170/288]\tlr: 1.862e-05, eta: 1:37:15, time: 1.007, data_time: 0.017, memory: 7613, loss_cls: 0.5305, loss_bbox: 0.2256, loss_bbox_rf: 0.2839, loss: 1.0401, grad_norm: 9.2774\n",
      "2021-05-19 07:08:41,775 - mmdet - INFO - Epoch [16][180/288]\tlr: 1.855e-05, eta: 1:37:05, time: 1.004, data_time: 0.017, memory: 7613, loss_cls: 0.5362, loss_bbox: 0.2314, loss_bbox_rf: 0.2957, loss: 1.0632, grad_norm: 7.3454\n",
      "2021-05-19 07:08:51,833 - mmdet - INFO - Epoch [16][190/288]\tlr: 1.849e-05, eta: 1:36:55, time: 1.006, data_time: 0.018, memory: 7613, loss_cls: 0.5383, loss_bbox: 0.2386, loss_bbox_rf: 0.3023, loss: 1.0792, grad_norm: 8.1539\n",
      "2021-05-19 07:09:01,880 - mmdet - INFO - Epoch [16][200/288]\tlr: 1.842e-05, eta: 1:36:45, time: 1.005, data_time: 0.017, memory: 7613, loss_cls: 0.5408, loss_bbox: 0.2298, loss_bbox_rf: 0.2921, loss: 1.0627, grad_norm: 8.3188\n",
      "2021-05-19 07:09:11,942 - mmdet - INFO - Epoch [16][210/288]\tlr: 1.835e-05, eta: 1:36:35, time: 1.006, data_time: 0.017, memory: 7613, loss_cls: 0.5005, loss_bbox: 0.2058, loss_bbox_rf: 0.2564, loss: 0.9627, grad_norm: 9.9992\n",
      "2021-05-19 07:09:22,035 - mmdet - INFO - Epoch [16][220/288]\tlr: 1.828e-05, eta: 1:36:26, time: 1.009, data_time: 0.018, memory: 7613, loss_cls: 0.5492, loss_bbox: 0.2319, loss_bbox_rf: 0.2955, loss: 1.0767, grad_norm: 8.3149\n",
      "2021-05-19 07:09:32,106 - mmdet - INFO - Epoch [16][230/288]\tlr: 1.821e-05, eta: 1:36:16, time: 1.007, data_time: 0.018, memory: 7613, loss_cls: 0.5356, loss_bbox: 0.2215, loss_bbox_rf: 0.2806, loss: 1.0377, grad_norm: 8.0559\n",
      "2021-05-19 07:09:42,267 - mmdet - INFO - Epoch [16][240/288]\tlr: 1.815e-05, eta: 1:36:06, time: 1.016, data_time: 0.021, memory: 7613, loss_cls: 0.5280, loss_bbox: 0.2299, loss_bbox_rf: 0.2908, loss: 1.0487, grad_norm: 8.1383\n",
      "2021-05-19 07:09:52,355 - mmdet - INFO - Epoch [16][250/288]\tlr: 1.808e-05, eta: 1:35:57, time: 1.009, data_time: 0.018, memory: 7613, loss_cls: 0.5141, loss_bbox: 0.2371, loss_bbox_rf: 0.3030, loss: 1.0542, grad_norm: 7.2832\n",
      "2021-05-19 07:10:02,431 - mmdet - INFO - Epoch [16][260/288]\tlr: 1.801e-05, eta: 1:35:47, time: 1.008, data_time: 0.018, memory: 7613, loss_cls: 0.5033, loss_bbox: 0.2200, loss_bbox_rf: 0.2783, loss: 1.0017, grad_norm: 7.7862\n",
      "2021-05-19 07:10:12,534 - mmdet - INFO - Epoch [16][270/288]\tlr: 1.794e-05, eta: 1:35:37, time: 1.010, data_time: 0.019, memory: 7613, loss_cls: 0.5049, loss_bbox: 0.2213, loss_bbox_rf: 0.2795, loss: 1.0056, grad_norm: 7.7138\n",
      "2021-05-19 07:10:22,614 - mmdet - INFO - Epoch [16][280/288]\tlr: 1.788e-05, eta: 1:35:27, time: 1.008, data_time: 0.019, memory: 7613, loss_cls: 0.5174, loss_bbox: 0.2261, loss_bbox_rf: 0.2877, loss: 1.0311, grad_norm: 8.7053\n",
      "2021-05-19 07:10:30,766 - mmdet - INFO - Saving checkpoint at 16 epochs\n"
     ]
    },
    {
     "name": "stdout",
     "output_type": "stream",
     "text": [
      "[>>>>>>>>>>>>>>>>>>>>>>>>>>>>>>] 655/655, 8.1 task/s, elapsed: 81s, ETA:     0s"
     ]
    },
    {
     "name": "stderr",
     "output_type": "stream",
     "text": [
      "2021-05-19 07:11:55,965 - mmdet - INFO - Evaluating bbox...\n"
     ]
    },
    {
     "name": "stdout",
     "output_type": "stream",
     "text": [
      "Loading and preparing results...\n",
      "DONE (t=1.75s)\n",
      "creating index...\n",
      "index created!\n",
      "Running per image evaluation...\n",
      "Evaluate annotation type *bbox*\n",
      "DONE (t=12.34s).\n",
      "Accumulating evaluation results...\n",
      "DONE (t=3.28s).\n",
      "Average Precision  (AP) @[ IoU=0.50:0.95 | area=   all | maxDets=100 ] = 0.217\n",
      "Average Precision  (AP) @[ IoU=0.50      | area=   all | maxDets=1000 ] = 0.353\n",
      "Average Precision  (AP) @[ IoU=0.75      | area=   all | maxDets=1000 ] = 0.222\n",
      "Average Precision  (AP) @[ IoU=0.50:0.95 | area= small | maxDets=1000 ] = 0.035\n",
      "Average Precision  (AP) @[ IoU=0.50:0.95 | area=medium | maxDets=1000 ] = 0.177\n",
      "Average Precision  (AP) @[ IoU=0.50:0.95 | area= large | maxDets=1000 ] = 0.466\n",
      "Average Recall     (AR) @[ IoU=0.50:0.95 | area=   all | maxDets=100 ] = 0.408\n",
      "Average Recall     (AR) @[ IoU=0.50:0.95 | area=   all | maxDets=300 ] = 0.408\n",
      "Average Recall     (AR) @[ IoU=0.50:0.95 | area=   all | maxDets=1000 ] = 0.408\n",
      "Average Recall     (AR) @[ IoU=0.50:0.95 | area= small | maxDets=1000 ] = 0.126\n",
      "Average Recall     (AR) @[ IoU=0.50:0.95 | area=medium | maxDets=1000 ] = 0.398\n",
      "Average Recall     (AR) @[ IoU=0.50:0.95 | area= large | maxDets=1000 ] = 0.673\n"
     ]
    },
    {
     "name": "stderr",
     "output_type": "stream",
     "text": [
      "2021-05-19 07:12:13,619 - mmdet - INFO - Epoch(val) [16][288]\tbbox_mAP: 0.2170, bbox_mAP_50: 0.3530, bbox_mAP_75: 0.2220, bbox_mAP_s: 0.0350, bbox_mAP_m: 0.1770, bbox_mAP_l: 0.4660, bbox_mAP_copypaste: 0.217 0.353 0.222 0.035 0.177 0.466\n",
      "2021-05-19 07:12:26,144 - mmdet - INFO - Epoch [17][10/288]\tlr: 1.775e-05, eta: 1:35:03, time: 1.251, data_time: 0.259, memory: 7613, loss_cls: 0.4973, loss_bbox: 0.2066, loss_bbox_rf: 0.2594, loss: 0.9633, grad_norm: 6.7977\n",
      "2021-05-19 07:12:36,249 - mmdet - INFO - Epoch [17][20/288]\tlr: 1.769e-05, eta: 1:34:53, time: 1.011, data_time: 0.020, memory: 7613, loss_cls: 0.4906, loss_bbox: 0.2171, loss_bbox_rf: 0.2785, loss: 0.9862, grad_norm: 7.9057\n",
      "2021-05-19 07:12:46,361 - mmdet - INFO - Epoch [17][30/288]\tlr: 1.762e-05, eta: 1:34:44, time: 1.011, data_time: 0.019, memory: 7613, loss_cls: 0.5022, loss_bbox: 0.2117, loss_bbox_rf: 0.2691, loss: 0.9829, grad_norm: 8.8973\n",
      "2021-05-19 07:12:56,431 - mmdet - INFO - Epoch [17][40/288]\tlr: 1.755e-05, eta: 1:34:34, time: 1.007, data_time: 0.017, memory: 7613, loss_cls: 0.5033, loss_bbox: 0.2237, loss_bbox_rf: 0.2842, loss: 1.0112, grad_norm: 8.4496\n",
      "2021-05-19 07:13:06,540 - mmdet - INFO - Epoch [17][50/288]\tlr: 1.749e-05, eta: 1:34:24, time: 1.011, data_time: 0.019, memory: 7613, loss_cls: 0.4903, loss_bbox: 0.1982, loss_bbox_rf: 0.2514, loss: 0.9398, grad_norm: 6.4024\n",
      "2021-05-19 07:13:16,590 - mmdet - INFO - Epoch [17][60/288]\tlr: 1.742e-05, eta: 1:34:14, time: 1.005, data_time: 0.017, memory: 7613, loss_cls: 0.5075, loss_bbox: 0.2113, loss_bbox_rf: 0.2668, loss: 0.9856, grad_norm: 7.4004\n",
      "2021-05-19 07:13:26,598 - mmdet - INFO - Epoch [17][70/288]\tlr: 1.735e-05, eta: 1:34:05, time: 1.001, data_time: 0.017, memory: 7613, loss_cls: 0.4962, loss_bbox: 0.2262, loss_bbox_rf: 0.2885, loss: 1.0109, grad_norm: 7.3952\n",
      "2021-05-19 07:13:36,621 - mmdet - INFO - Epoch [17][80/288]\tlr: 1.729e-05, eta: 1:33:55, time: 1.002, data_time: 0.017, memory: 7613, loss_cls: 0.4900, loss_bbox: 0.2036, loss_bbox_rf: 0.2578, loss: 0.9514, grad_norm: 6.2846\n",
      "2021-05-19 07:13:46,671 - mmdet - INFO - Epoch [17][90/288]\tlr: 1.722e-05, eta: 1:33:45, time: 1.005, data_time: 0.018, memory: 7613, loss_cls: 0.4865, loss_bbox: 0.1941, loss_bbox_rf: 0.2466, loss: 0.9271, grad_norm: 7.1984\n",
      "2021-05-19 07:13:56,704 - mmdet - INFO - Epoch [17][100/288]\tlr: 1.715e-05, eta: 1:33:35, time: 1.003, data_time: 0.017, memory: 7613, loss_cls: 0.4978, loss_bbox: 0.2120, loss_bbox_rf: 0.2684, loss: 0.9782, grad_norm: 7.3060\n",
      "2021-05-19 07:14:06,783 - mmdet - INFO - Epoch [17][110/288]\tlr: 1.709e-05, eta: 1:33:25, time: 1.008, data_time: 0.019, memory: 7613, loss_cls: 0.4921, loss_bbox: 0.2216, loss_bbox_rf: 0.2813, loss: 0.9950, grad_norm: 7.6764\n",
      "2021-05-19 07:14:16,870 - mmdet - INFO - Epoch [17][120/288]\tlr: 1.702e-05, eta: 1:33:16, time: 1.009, data_time: 0.019, memory: 7613, loss_cls: 0.5048, loss_bbox: 0.2179, loss_bbox_rf: 0.2770, loss: 0.9997, grad_norm: 8.2291\n",
      "2021-05-19 07:14:26,929 - mmdet - INFO - Epoch [17][130/288]\tlr: 1.695e-05, eta: 1:33:06, time: 1.006, data_time: 0.018, memory: 7613, loss_cls: 0.4841, loss_bbox: 0.1998, loss_bbox_rf: 0.2521, loss: 0.9361, grad_norm: 8.9946\n",
      "2021-05-19 07:14:36,990 - mmdet - INFO - Epoch [17][140/288]\tlr: 1.689e-05, eta: 1:32:56, time: 1.006, data_time: 0.017, memory: 7613, loss_cls: 0.5193, loss_bbox: 0.2267, loss_bbox_rf: 0.2857, loss: 1.0317, grad_norm: 8.9690\n",
      "2021-05-19 07:14:47,052 - mmdet - INFO - Epoch [17][150/288]\tlr: 1.682e-05, eta: 1:32:46, time: 1.006, data_time: 0.019, memory: 7613, loss_cls: 0.4933, loss_bbox: 0.2059, loss_bbox_rf: 0.2604, loss: 0.9596, grad_norm: 7.5536\n",
      "2021-05-19 07:14:57,105 - mmdet - INFO - Epoch [17][160/288]\tlr: 1.675e-05, eta: 1:32:37, time: 1.005, data_time: 0.019, memory: 7613, loss_cls: 0.5004, loss_bbox: 0.2232, loss_bbox_rf: 0.2829, loss: 1.0065, grad_norm: 7.1151\n",
      "2021-05-19 07:15:07,164 - mmdet - INFO - Epoch [17][170/288]\tlr: 1.669e-05, eta: 1:32:27, time: 1.006, data_time: 0.018, memory: 7613, loss_cls: 0.4991, loss_bbox: 0.2211, loss_bbox_rf: 0.2812, loss: 1.0015, grad_norm: 6.9526\n",
      "2021-05-19 07:15:17,234 - mmdet - INFO - Epoch [17][180/288]\tlr: 1.662e-05, eta: 1:32:17, time: 1.007, data_time: 0.018, memory: 7613, loss_cls: 0.5046, loss_bbox: 0.2086, loss_bbox_rf: 0.2644, loss: 0.9776, grad_norm: 6.8158\n",
      "2021-05-19 07:15:27,285 - mmdet - INFO - Epoch [17][190/288]\tlr: 1.656e-05, eta: 1:32:07, time: 1.005, data_time: 0.018, memory: 7613, loss_cls: 0.4870, loss_bbox: 0.2248, loss_bbox_rf: 0.2862, loss: 0.9980, grad_norm: 7.6851\n",
      "2021-05-19 07:15:37,362 - mmdet - INFO - Epoch [17][200/288]\tlr: 1.649e-05, eta: 1:31:58, time: 1.008, data_time: 0.019, memory: 7613, loss_cls: 0.4942, loss_bbox: 0.2178, loss_bbox_rf: 0.2794, loss: 0.9914, grad_norm: 6.9581\n",
      "2021-05-19 07:15:47,393 - mmdet - INFO - Epoch [17][210/288]\tlr: 1.642e-05, eta: 1:31:48, time: 1.003, data_time: 0.017, memory: 7613, loss_cls: 0.4962, loss_bbox: 0.2044, loss_bbox_rf: 0.2582, loss: 0.9587, grad_norm: 7.7171\n",
      "2021-05-19 07:15:57,421 - mmdet - INFO - Epoch [17][220/288]\tlr: 1.636e-05, eta: 1:31:38, time: 1.003, data_time: 0.017, memory: 7613, loss_cls: 0.4928, loss_bbox: 0.2203, loss_bbox_rf: 0.2797, loss: 0.9929, grad_norm: 8.8263\n",
      "2021-05-19 07:16:07,475 - mmdet - INFO - Epoch [17][230/288]\tlr: 1.629e-05, eta: 1:31:28, time: 1.005, data_time: 0.017, memory: 7613, loss_cls: 0.4875, loss_bbox: 0.2113, loss_bbox_rf: 0.2655, loss: 0.9643, grad_norm: 7.7840\n",
      "2021-05-19 07:16:17,533 - mmdet - INFO - Epoch [17][240/288]\tlr: 1.623e-05, eta: 1:31:18, time: 1.006, data_time: 0.017, memory: 7613, loss_cls: 0.4801, loss_bbox: 0.1973, loss_bbox_rf: 0.2504, loss: 0.9278, grad_norm: 8.2148\n",
      "2021-05-19 07:16:27,589 - mmdet - INFO - Epoch [17][250/288]\tlr: 1.616e-05, eta: 1:31:09, time: 1.006, data_time: 0.019, memory: 7613, loss_cls: 0.4980, loss_bbox: 0.2149, loss_bbox_rf: 0.2722, loss: 0.9851, grad_norm: 7.6924\n",
      "2021-05-19 07:16:37,627 - mmdet - INFO - Epoch [17][260/288]\tlr: 1.610e-05, eta: 1:30:59, time: 1.004, data_time: 0.017, memory: 7613, loss_cls: 0.4860, loss_bbox: 0.2124, loss_bbox_rf: 0.2668, loss: 0.9652, grad_norm: 8.1019\n",
      "2021-05-19 07:16:47,694 - mmdet - INFO - Epoch [17][270/288]\tlr: 1.603e-05, eta: 1:30:49, time: 1.007, data_time: 0.019, memory: 7613, loss_cls: 0.4805, loss_bbox: 0.1943, loss_bbox_rf: 0.2462, loss: 0.9211, grad_norm: 7.6641\n",
      "2021-05-19 07:16:57,747 - mmdet - INFO - Epoch [17][280/288]\tlr: 1.597e-05, eta: 1:30:39, time: 1.005, data_time: 0.019, memory: 7613, loss_cls: 0.5092, loss_bbox: 0.2302, loss_bbox_rf: 0.2934, loss: 1.0328, grad_norm: 6.9630\n",
      "2021-05-19 07:17:05,870 - mmdet - INFO - Saving checkpoint at 17 epochs\n"
     ]
    },
    {
     "name": "stdout",
     "output_type": "stream",
     "text": [
      "[>>>>>>>>>>>>>>>>>>>>>>>>>>>>>>] 655/655, 7.8 task/s, elapsed: 84s, ETA:     0s"
     ]
    },
    {
     "name": "stderr",
     "output_type": "stream",
     "text": [
      "2021-05-19 07:18:34,353 - mmdet - INFO - Evaluating bbox...\n"
     ]
    },
    {
     "name": "stdout",
     "output_type": "stream",
     "text": [
      "Loading and preparing results...\n",
      "DONE (t=1.72s)\n",
      "creating index...\n",
      "index created!\n",
      "Running per image evaluation...\n",
      "Evaluate annotation type *bbox*\n",
      "DONE (t=11.96s).\n",
      "Accumulating evaluation results...\n",
      "DONE (t=3.19s).\n",
      "Average Precision  (AP) @[ IoU=0.50:0.95 | area=   all | maxDets=100 ] = 0.223\n",
      "Average Precision  (AP) @[ IoU=0.50      | area=   all | maxDets=1000 ] = 0.356\n",
      "Average Precision  (AP) @[ IoU=0.75      | area=   all | maxDets=1000 ] = 0.233\n",
      "Average Precision  (AP) @[ IoU=0.50:0.95 | area= small | maxDets=1000 ] = 0.031\n",
      "Average Precision  (AP) @[ IoU=0.50:0.95 | area=medium | maxDets=1000 ] = 0.187\n",
      "Average Precision  (AP) @[ IoU=0.50:0.95 | area= large | maxDets=1000 ] = 0.456\n",
      "Average Recall     (AR) @[ IoU=0.50:0.95 | area=   all | maxDets=100 ] = 0.413\n",
      "Average Recall     (AR) @[ IoU=0.50:0.95 | area=   all | maxDets=300 ] = 0.413\n",
      "Average Recall     (AR) @[ IoU=0.50:0.95 | area=   all | maxDets=1000 ] = 0.413\n",
      "Average Recall     (AR) @[ IoU=0.50:0.95 | area= small | maxDets=1000 ] = 0.139\n",
      "Average Recall     (AR) @[ IoU=0.50:0.95 | area=medium | maxDets=1000 ] = 0.413\n",
      "Average Recall     (AR) @[ IoU=0.50:0.95 | area= large | maxDets=1000 ] = 0.664\n"
     ]
    },
    {
     "name": "stderr",
     "output_type": "stream",
     "text": [
      "2021-05-19 07:18:51,507 - mmdet - INFO - Epoch(val) [17][288]\tbbox_mAP: 0.2230, bbox_mAP_50: 0.3560, bbox_mAP_75: 0.2330, bbox_mAP_s: 0.0310, bbox_mAP_m: 0.1870, bbox_mAP_l: 0.4560, bbox_mAP_copypaste: 0.223 0.356 0.233 0.031 0.187 0.456\n",
      "2021-05-19 07:19:03,967 - mmdet - INFO - Epoch [18][10/288]\tlr: 1.585e-05, eta: 1:30:15, time: 1.244, data_time: 0.254, memory: 7613, loss_cls: 0.4648, loss_bbox: 0.2048, loss_bbox_rf: 0.2599, loss: 0.9294, grad_norm: 7.8394\n",
      "2021-05-19 07:19:14,040 - mmdet - INFO - Epoch [18][20/288]\tlr: 1.579e-05, eta: 1:30:06, time: 1.007, data_time: 0.019, memory: 7613, loss_cls: 0.4650, loss_bbox: 0.2007, loss_bbox_rf: 0.2545, loss: 0.9203, grad_norm: 7.0690\n",
      "2021-05-19 07:19:24,100 - mmdet - INFO - Epoch [18][30/288]\tlr: 1.572e-05, eta: 1:29:56, time: 1.006, data_time: 0.017, memory: 7613, loss_cls: 0.4910, loss_bbox: 0.2030, loss_bbox_rf: 0.2559, loss: 0.9499, grad_norm: 7.2840\n",
      "2021-05-19 07:19:34,148 - mmdet - INFO - Epoch [18][40/288]\tlr: 1.566e-05, eta: 1:29:46, time: 1.005, data_time: 0.017, memory: 7613, loss_cls: 0.4706, loss_bbox: 0.2040, loss_bbox_rf: 0.2572, loss: 0.9319, grad_norm: 7.6933\n",
      "2021-05-19 07:19:44,212 - mmdet - INFO - Epoch [18][50/288]\tlr: 1.559e-05, eta: 1:29:36, time: 1.006, data_time: 0.018, memory: 7613, loss_cls: 0.4889, loss_bbox: 0.2139, loss_bbox_rf: 0.2707, loss: 0.9736, grad_norm: 7.8863\n",
      "2021-05-19 07:19:54,282 - mmdet - INFO - Epoch [18][60/288]\tlr: 1.553e-05, eta: 1:29:27, time: 1.007, data_time: 0.019, memory: 7613, loss_cls: 0.4768, loss_bbox: 0.1963, loss_bbox_rf: 0.2494, loss: 0.9225, grad_norm: 8.4244\n",
      "2021-05-19 07:20:04,321 - mmdet - INFO - Epoch [18][70/288]\tlr: 1.547e-05, eta: 1:29:17, time: 1.004, data_time: 0.017, memory: 7613, loss_cls: 0.4849, loss_bbox: 0.2117, loss_bbox_rf: 0.2696, loss: 0.9661, grad_norm: 7.3321\n",
      "2021-05-19 07:20:14,374 - mmdet - INFO - Epoch [18][80/288]\tlr: 1.540e-05, eta: 1:29:07, time: 1.005, data_time: 0.018, memory: 7613, loss_cls: 0.4823, loss_bbox: 0.2229, loss_bbox_rf: 0.2833, loss: 0.9884, grad_norm: 6.8295\n",
      "2021-05-19 07:20:24,442 - mmdet - INFO - Epoch [18][90/288]\tlr: 1.534e-05, eta: 1:28:57, time: 1.007, data_time: 0.018, memory: 7613, loss_cls: 0.4637, loss_bbox: 0.2049, loss_bbox_rf: 0.2578, loss: 0.9264, grad_norm: 6.5141\n",
      "2021-05-19 07:20:34,517 - mmdet - INFO - Epoch [18][100/288]\tlr: 1.527e-05, eta: 1:28:48, time: 1.007, data_time: 0.018, memory: 7613, loss_cls: 0.4665, loss_bbox: 0.1973, loss_bbox_rf: 0.2512, loss: 0.9150, grad_norm: 7.2500\n",
      "2021-05-19 07:20:44,601 - mmdet - INFO - Epoch [18][110/288]\tlr: 1.521e-05, eta: 1:28:38, time: 1.008, data_time: 0.019, memory: 7613, loss_cls: 0.4530, loss_bbox: 0.1993, loss_bbox_rf: 0.2541, loss: 0.9064, grad_norm: 6.6702\n",
      "2021-05-19 07:20:54,665 - mmdet - INFO - Epoch [18][120/288]\tlr: 1.515e-05, eta: 1:28:28, time: 1.006, data_time: 0.018, memory: 7613, loss_cls: 0.4721, loss_bbox: 0.2006, loss_bbox_rf: 0.2550, loss: 0.9277, grad_norm: 6.7347\n",
      "2021-05-19 07:21:04,758 - mmdet - INFO - Epoch [18][130/288]\tlr: 1.508e-05, eta: 1:28:18, time: 1.009, data_time: 0.018, memory: 7613, loss_cls: 0.4761, loss_bbox: 0.2056, loss_bbox_rf: 0.2618, loss: 0.9435, grad_norm: 6.6754\n",
      "2021-05-19 07:21:14,846 - mmdet - INFO - Epoch [18][140/288]\tlr: 1.502e-05, eta: 1:28:09, time: 1.009, data_time: 0.018, memory: 7613, loss_cls: 0.4700, loss_bbox: 0.2109, loss_bbox_rf: 0.2666, loss: 0.9475, grad_norm: 7.2702\n",
      "2021-05-19 07:21:24,900 - mmdet - INFO - Epoch [18][150/288]\tlr: 1.496e-05, eta: 1:27:59, time: 1.005, data_time: 0.018, memory: 7613, loss_cls: 0.4759, loss_bbox: 0.2100, loss_bbox_rf: 0.2656, loss: 0.9515, grad_norm: 7.0754\n",
      "2021-05-19 07:21:34,949 - mmdet - INFO - Epoch [18][160/288]\tlr: 1.489e-05, eta: 1:27:49, time: 1.005, data_time: 0.018, memory: 7613, loss_cls: 0.4710, loss_bbox: 0.1959, loss_bbox_rf: 0.2460, loss: 0.9129, grad_norm: 7.8166\n",
      "2021-05-19 07:21:44,976 - mmdet - INFO - Epoch [18][170/288]\tlr: 1.483e-05, eta: 1:27:39, time: 1.003, data_time: 0.017, memory: 7613, loss_cls: 0.4723, loss_bbox: 0.2015, loss_bbox_rf: 0.2546, loss: 0.9283, grad_norm: 8.9450\n",
      "2021-05-19 07:21:55,026 - mmdet - INFO - Epoch [18][180/288]\tlr: 1.477e-05, eta: 1:27:29, time: 1.005, data_time: 0.018, memory: 7613, loss_cls: 0.4617, loss_bbox: 0.1908, loss_bbox_rf: 0.2403, loss: 0.8928, grad_norm: 9.2063\n",
      "2021-05-19 07:22:05,102 - mmdet - INFO - Epoch [18][190/288]\tlr: 1.471e-05, eta: 1:27:20, time: 1.008, data_time: 0.020, memory: 7613, loss_cls: 0.5082, loss_bbox: 0.2156, loss_bbox_rf: 0.2753, loss: 0.9991, grad_norm: 8.0453\n",
      "2021-05-19 07:22:15,154 - mmdet - INFO - Epoch [18][200/288]\tlr: 1.464e-05, eta: 1:27:10, time: 1.005, data_time: 0.018, memory: 7613, loss_cls: 0.4751, loss_bbox: 0.2062, loss_bbox_rf: 0.2599, loss: 0.9412, grad_norm: 7.8092\n",
      "2021-05-19 07:22:25,205 - mmdet - INFO - Epoch [18][210/288]\tlr: 1.458e-05, eta: 1:27:00, time: 1.005, data_time: 0.017, memory: 7613, loss_cls: 0.4653, loss_bbox: 0.1974, loss_bbox_rf: 0.2484, loss: 0.9110, grad_norm: 7.2225\n",
      "2021-05-19 07:22:35,242 - mmdet - INFO - Epoch [18][220/288]\tlr: 1.452e-05, eta: 1:26:50, time: 1.004, data_time: 0.019, memory: 7613, loss_cls: 0.4632, loss_bbox: 0.1905, loss_bbox_rf: 0.2409, loss: 0.8946, grad_norm: 6.2875\n",
      "2021-05-19 07:22:45,279 - mmdet - INFO - Epoch [18][230/288]\tlr: 1.446e-05, eta: 1:26:41, time: 1.004, data_time: 0.018, memory: 7613, loss_cls: 0.4430, loss_bbox: 0.1927, loss_bbox_rf: 0.2433, loss: 0.8790, grad_norm: 6.4303\n",
      "2021-05-19 07:22:55,321 - mmdet - INFO - Epoch [18][240/288]\tlr: 1.439e-05, eta: 1:26:31, time: 1.004, data_time: 0.018, memory: 7613, loss_cls: 0.4679, loss_bbox: 0.1992, loss_bbox_rf: 0.2524, loss: 0.9195, grad_norm: 7.4959\n",
      "2021-05-19 07:23:05,379 - mmdet - INFO - Epoch [18][250/288]\tlr: 1.433e-05, eta: 1:26:21, time: 1.006, data_time: 0.018, memory: 7613, loss_cls: 0.4709, loss_bbox: 0.1957, loss_bbox_rf: 0.2489, loss: 0.9154, grad_norm: 8.1361\n",
      "2021-05-19 07:23:15,436 - mmdet - INFO - Epoch [18][260/288]\tlr: 1.427e-05, eta: 1:26:11, time: 1.006, data_time: 0.018, memory: 7613, loss_cls: 0.4872, loss_bbox: 0.2178, loss_bbox_rf: 0.2784, loss: 0.9834, grad_norm: 7.2326\n",
      "2021-05-19 07:23:25,466 - mmdet - INFO - Epoch [18][270/288]\tlr: 1.421e-05, eta: 1:26:01, time: 1.003, data_time: 0.017, memory: 7613, loss_cls: 0.4786, loss_bbox: 0.2087, loss_bbox_rf: 0.2657, loss: 0.9530, grad_norm: 6.7878\n",
      "2021-05-19 07:23:35,540 - mmdet - INFO - Epoch [18][280/288]\tlr: 1.415e-05, eta: 1:25:52, time: 1.007, data_time: 0.018, memory: 7613, loss_cls: 0.4587, loss_bbox: 0.1994, loss_bbox_rf: 0.2531, loss: 0.9111, grad_norm: 7.6445\n",
      "2021-05-19 07:23:43,652 - mmdet - INFO - Saving checkpoint at 18 epochs\n"
     ]
    },
    {
     "name": "stdout",
     "output_type": "stream",
     "text": [
      "[>>>>>>>>>>>>>>>>>>>>>>>>>>>>>>] 655/655, 8.0 task/s, elapsed: 81s, ETA:     0s"
     ]
    },
    {
     "name": "stderr",
     "output_type": "stream",
     "text": [
      "2021-05-19 07:25:09,672 - mmdet - INFO - Evaluating bbox...\n"
     ]
    },
    {
     "name": "stdout",
     "output_type": "stream",
     "text": [
      "Loading and preparing results...\n",
      "DONE (t=2.33s)\n",
      "creating index...\n",
      "index created!\n",
      "Running per image evaluation...\n",
      "Evaluate annotation type *bbox*\n",
      "DONE (t=11.37s).\n",
      "Accumulating evaluation results...\n"
     ]
    },
    {
     "name": "stderr",
     "output_type": "stream",
     "text": [
      "2021-05-19 07:25:26,889 - mmdet - INFO - Epoch(val) [18][288]\tbbox_mAP: 0.2220, bbox_mAP_50: 0.3640, bbox_mAP_75: 0.2320, bbox_mAP_s: 0.0320, bbox_mAP_m: 0.1820, bbox_mAP_l: 0.4650, bbox_mAP_copypaste: 0.222 0.364 0.232 0.032 0.182 0.465\n"
     ]
    },
    {
     "name": "stdout",
     "output_type": "stream",
     "text": [
      "DONE (t=3.23s).\n",
      "Average Precision  (AP) @[ IoU=0.50:0.95 | area=   all | maxDets=100 ] = 0.222\n",
      "Average Precision  (AP) @[ IoU=0.50      | area=   all | maxDets=1000 ] = 0.364\n",
      "Average Precision  (AP) @[ IoU=0.75      | area=   all | maxDets=1000 ] = 0.232\n",
      "Average Precision  (AP) @[ IoU=0.50:0.95 | area= small | maxDets=1000 ] = 0.032\n",
      "Average Precision  (AP) @[ IoU=0.50:0.95 | area=medium | maxDets=1000 ] = 0.182\n",
      "Average Precision  (AP) @[ IoU=0.50:0.95 | area= large | maxDets=1000 ] = 0.465\n",
      "Average Recall     (AR) @[ IoU=0.50:0.95 | area=   all | maxDets=100 ] = 0.414\n",
      "Average Recall     (AR) @[ IoU=0.50:0.95 | area=   all | maxDets=300 ] = 0.414\n",
      "Average Recall     (AR) @[ IoU=0.50:0.95 | area=   all | maxDets=1000 ] = 0.414\n",
      "Average Recall     (AR) @[ IoU=0.50:0.95 | area= small | maxDets=1000 ] = 0.133\n",
      "Average Recall     (AR) @[ IoU=0.50:0.95 | area=medium | maxDets=1000 ] = 0.407\n",
      "Average Recall     (AR) @[ IoU=0.50:0.95 | area= large | maxDets=1000 ] = 0.659\n"
     ]
    },
    {
     "name": "stderr",
     "output_type": "stream",
     "text": [
      "2021-05-19 07:25:39,420 - mmdet - INFO - Epoch [19][10/288]\tlr: 1.404e-05, eta: 1:25:28, time: 1.251, data_time: 0.260, memory: 7613, loss_cls: 0.4375, loss_bbox: 0.1938, loss_bbox_rf: 0.2435, loss: 0.8749, grad_norm: 7.3699\n",
      "2021-05-19 07:25:49,473 - mmdet - INFO - Epoch [19][20/288]\tlr: 1.398e-05, eta: 1:25:19, time: 1.005, data_time: 0.020, memory: 7613, loss_cls: 0.4444, loss_bbox: 0.1773, loss_bbox_rf: 0.2222, loss: 0.8440, grad_norm: 8.7227\n",
      "2021-05-19 07:25:59,557 - mmdet - INFO - Epoch [19][30/288]\tlr: 1.391e-05, eta: 1:25:09, time: 1.008, data_time: 0.019, memory: 7613, loss_cls: 0.4341, loss_bbox: 0.1911, loss_bbox_rf: 0.2424, loss: 0.8676, grad_norm: 9.3100\n",
      "2021-05-19 07:26:09,629 - mmdet - INFO - Epoch [19][40/288]\tlr: 1.385e-05, eta: 1:24:59, time: 1.007, data_time: 0.018, memory: 7613, loss_cls: 0.4538, loss_bbox: 0.2043, loss_bbox_rf: 0.2597, loss: 0.9178, grad_norm: 7.3874\n",
      "2021-05-19 07:26:19,647 - mmdet - INFO - Epoch [19][50/288]\tlr: 1.379e-05, eta: 1:24:49, time: 1.002, data_time: 0.017, memory: 7613, loss_cls: 0.4512, loss_bbox: 0.1848, loss_bbox_rf: 0.2328, loss: 0.8688, grad_norm: 6.4503\n",
      "2021-05-19 07:26:29,711 - mmdet - INFO - Epoch [19][60/288]\tlr: 1.373e-05, eta: 1:24:40, time: 1.006, data_time: 0.020, memory: 7613, loss_cls: 0.4454, loss_bbox: 0.1874, loss_bbox_rf: 0.2355, loss: 0.8683, grad_norm: 6.3173\n",
      "2021-05-19 07:26:39,756 - mmdet - INFO - Epoch [19][70/288]\tlr: 1.367e-05, eta: 1:24:30, time: 1.004, data_time: 0.018, memory: 7613, loss_cls: 0.4575, loss_bbox: 0.2110, loss_bbox_rf: 0.2684, loss: 0.9370, grad_norm: 8.1408\n",
      "2021-05-19 07:26:49,822 - mmdet - INFO - Epoch [19][80/288]\tlr: 1.361e-05, eta: 1:24:20, time: 1.007, data_time: 0.018, memory: 7613, loss_cls: 0.4588, loss_bbox: 0.2059, loss_bbox_rf: 0.2608, loss: 0.9255, grad_norm: 8.6649\n",
      "2021-05-19 07:26:59,877 - mmdet - INFO - Epoch [19][90/288]\tlr: 1.355e-05, eta: 1:24:10, time: 1.006, data_time: 0.018, memory: 7613, loss_cls: 0.4548, loss_bbox: 0.2152, loss_bbox_rf: 0.2757, loss: 0.9457, grad_norm: 7.4323\n",
      "2021-05-19 07:27:09,964 - mmdet - INFO - Epoch [19][100/288]\tlr: 1.349e-05, eta: 1:24:00, time: 1.009, data_time: 0.019, memory: 7613, loss_cls: 0.4600, loss_bbox: 0.2105, loss_bbox_rf: 0.2671, loss: 0.9376, grad_norm: 6.7736\n",
      "2021-05-19 07:27:20,039 - mmdet - INFO - Epoch [19][110/288]\tlr: 1.343e-05, eta: 1:23:51, time: 1.007, data_time: 0.019, memory: 7613, loss_cls: 0.4563, loss_bbox: 0.2046, loss_bbox_rf: 0.2581, loss: 0.9190, grad_norm: 6.9499\n",
      "2021-05-19 07:27:30,095 - mmdet - INFO - Epoch [19][120/288]\tlr: 1.337e-05, eta: 1:23:41, time: 1.006, data_time: 0.018, memory: 7613, loss_cls: 0.4449, loss_bbox: 0.1851, loss_bbox_rf: 0.2341, loss: 0.8640, grad_norm: 7.3725\n",
      "2021-05-19 07:27:40,148 - mmdet - INFO - Epoch [19][130/288]\tlr: 1.331e-05, eta: 1:23:31, time: 1.005, data_time: 0.018, memory: 7613, loss_cls: 0.4490, loss_bbox: 0.1885, loss_bbox_rf: 0.2374, loss: 0.8749, grad_norm: 5.6702\n",
      "2021-05-19 07:27:50,207 - mmdet - INFO - Epoch [19][140/288]\tlr: 1.325e-05, eta: 1:23:21, time: 1.006, data_time: 0.018, memory: 7613, loss_cls: 0.4402, loss_bbox: 0.1871, loss_bbox_rf: 0.2362, loss: 0.8636, grad_norm: 8.4409\n",
      "2021-05-19 07:28:00,269 - mmdet - INFO - Epoch [19][150/288]\tlr: 1.319e-05, eta: 1:23:12, time: 1.006, data_time: 0.018, memory: 7613, loss_cls: 0.4574, loss_bbox: 0.2051, loss_bbox_rf: 0.2628, loss: 0.9253, grad_norm: 7.6507\n",
      "2021-05-19 07:28:10,375 - mmdet - INFO - Epoch [19][160/288]\tlr: 1.313e-05, eta: 1:23:02, time: 1.011, data_time: 0.019, memory: 7613, loss_cls: 0.4573, loss_bbox: 0.1920, loss_bbox_rf: 0.2446, loss: 0.8940, grad_norm: 6.4401\n",
      "2021-05-19 07:28:20,419 - mmdet - INFO - Epoch [19][170/288]\tlr: 1.307e-05, eta: 1:22:52, time: 1.004, data_time: 0.018, memory: 7613, loss_cls: 0.4501, loss_bbox: 0.1961, loss_bbox_rf: 0.2506, loss: 0.8969, grad_norm: 6.5377\n",
      "2021-05-19 07:28:30,471 - mmdet - INFO - Epoch [19][180/288]\tlr: 1.302e-05, eta: 1:22:42, time: 1.005, data_time: 0.018, memory: 7613, loss_cls: 0.4491, loss_bbox: 0.2034, loss_bbox_rf: 0.2585, loss: 0.9110, grad_norm: 5.7293\n",
      "2021-05-19 07:28:40,512 - mmdet - INFO - Epoch [19][190/288]\tlr: 1.296e-05, eta: 1:22:32, time: 1.004, data_time: 0.018, memory: 7613, loss_cls: 0.4376, loss_bbox: 0.1991, loss_bbox_rf: 0.2537, loss: 0.8904, grad_norm: 5.6239\n",
      "2021-05-19 07:28:50,529 - mmdet - INFO - Epoch [19][200/288]\tlr: 1.290e-05, eta: 1:22:23, time: 1.002, data_time: 0.017, memory: 7613, loss_cls: 0.4383, loss_bbox: 0.1806, loss_bbox_rf: 0.2283, loss: 0.8472, grad_norm: 6.6566\n",
      "2021-05-19 07:29:00,557 - mmdet - INFO - Epoch [19][210/288]\tlr: 1.284e-05, eta: 1:22:13, time: 1.003, data_time: 0.017, memory: 7613, loss_cls: 0.4656, loss_bbox: 0.1929, loss_bbox_rf: 0.2448, loss: 0.9034, grad_norm: 7.2301\n",
      "2021-05-19 07:29:10,593 - mmdet - INFO - Epoch [19][220/288]\tlr: 1.278e-05, eta: 1:22:03, time: 1.004, data_time: 0.018, memory: 7613, loss_cls: 0.4606, loss_bbox: 0.1941, loss_bbox_rf: 0.2479, loss: 0.9026, grad_norm: 7.4807\n",
      "2021-05-19 07:29:20,682 - mmdet - INFO - Epoch [19][230/288]\tlr: 1.272e-05, eta: 1:21:53, time: 1.009, data_time: 0.018, memory: 7613, loss_cls: 0.4502, loss_bbox: 0.1892, loss_bbox_rf: 0.2374, loss: 0.8768, grad_norm: 8.3528\n",
      "2021-05-19 07:29:30,764 - mmdet - INFO - Epoch [19][240/288]\tlr: 1.267e-05, eta: 1:21:43, time: 1.008, data_time: 0.019, memory: 7613, loss_cls: 0.4609, loss_bbox: 0.1864, loss_bbox_rf: 0.2347, loss: 0.8819, grad_norm: 7.6606\n",
      "2021-05-19 07:29:40,821 - mmdet - INFO - Epoch [19][250/288]\tlr: 1.261e-05, eta: 1:21:34, time: 1.006, data_time: 0.019, memory: 7613, loss_cls: 0.4703, loss_bbox: 0.2000, loss_bbox_rf: 0.2522, loss: 0.9225, grad_norm: 7.3311\n",
      "2021-05-19 07:29:50,838 - mmdet - INFO - Epoch [19][260/288]\tlr: 1.255e-05, eta: 1:21:24, time: 1.002, data_time: 0.018, memory: 7613, loss_cls: 0.4668, loss_bbox: 0.1897, loss_bbox_rf: 0.2396, loss: 0.8960, grad_norm: 7.6901\n",
      "2021-05-19 07:30:00,853 - mmdet - INFO - Epoch [19][270/288]\tlr: 1.249e-05, eta: 1:21:14, time: 1.002, data_time: 0.018, memory: 7613, loss_cls: 0.4549, loss_bbox: 0.1939, loss_bbox_rf: 0.2463, loss: 0.8952, grad_norm: 6.9572\n",
      "2021-05-19 07:30:10,919 - mmdet - INFO - Epoch [19][280/288]\tlr: 1.244e-05, eta: 1:21:04, time: 1.007, data_time: 0.019, memory: 7613, loss_cls: 0.4578, loss_bbox: 0.2008, loss_bbox_rf: 0.2556, loss: 0.9143, grad_norm: 7.4872\n",
      "2021-05-19 07:30:19,052 - mmdet - INFO - Saving checkpoint at 19 epochs\n"
     ]
    },
    {
     "name": "stdout",
     "output_type": "stream",
     "text": [
      "[>>>>>>>>>>>>>>>>>>>>>>>>>>>>>>] 655/655, 7.7 task/s, elapsed: 85s, ETA:     0s"
     ]
    },
    {
     "name": "stderr",
     "output_type": "stream",
     "text": [
      "2021-05-19 07:31:49,399 - mmdet - INFO - Evaluating bbox...\n"
     ]
    },
    {
     "name": "stdout",
     "output_type": "stream",
     "text": [
      "Loading and preparing results...\n",
      "DONE (t=1.76s)\n",
      "creating index...\n",
      "index created!\n",
      "Running per image evaluation...\n",
      "Evaluate annotation type *bbox*\n",
      "DONE (t=11.83s).\n",
      "Accumulating evaluation results...\n",
      "DONE (t=3.31s).\n",
      "Average Precision  (AP) @[ IoU=0.50:0.95 | area=   all | maxDets=100 ] = 0.218\n",
      "Average Precision  (AP) @[ IoU=0.50      | area=   all | maxDets=1000 ] = 0.350\n",
      "Average Precision  (AP) @[ IoU=0.75      | area=   all | maxDets=1000 ] = 0.224\n",
      "Average Precision  (AP) @[ IoU=0.50:0.95 | area= small | maxDets=1000 ] = 0.032\n",
      "Average Precision  (AP) @[ IoU=0.50:0.95 | area=medium | maxDets=1000 ] = 0.179\n",
      "Average Precision  (AP) @[ IoU=0.50:0.95 | area= large | maxDets=1000 ] = 0.438\n",
      "Average Recall     (AR) @[ IoU=0.50:0.95 | area=   all | maxDets=100 ] = 0.410\n",
      "Average Recall     (AR) @[ IoU=0.50:0.95 | area=   all | maxDets=300 ] = 0.410\n",
      "Average Recall     (AR) @[ IoU=0.50:0.95 | area=   all | maxDets=1000 ] = 0.410\n",
      "Average Recall     (AR) @[ IoU=0.50:0.95 | area= small | maxDets=1000 ] = 0.129\n",
      "Average Recall     (AR) @[ IoU=0.50:0.95 | area=medium | maxDets=1000 ] = 0.398\n",
      "Average Recall     (AR) @[ IoU=0.50:0.95 | area= large | maxDets=1000 ] = 0.669\n"
     ]
    },
    {
     "name": "stderr",
     "output_type": "stream",
     "text": [
      "2021-05-19 07:32:06,599 - mmdet - INFO - Epoch(val) [19][288]\tbbox_mAP: 0.2180, bbox_mAP_50: 0.3500, bbox_mAP_75: 0.2240, bbox_mAP_s: 0.0320, bbox_mAP_m: 0.1790, bbox_mAP_l: 0.4380, bbox_mAP_copypaste: 0.218 0.350 0.224 0.032 0.179 0.438\n",
      "2021-05-19 07:32:19,297 - mmdet - INFO - Epoch [20][10/288]\tlr: 1.233e-05, eta: 1:20:42, time: 1.268, data_time: 0.259, memory: 7613, loss_cls: 0.4380, loss_bbox: 0.1869, loss_bbox_rf: 0.2374, loss: 0.8623, grad_norm: 6.9242\n",
      "2021-05-19 07:32:29,621 - mmdet - INFO - Epoch [20][20/288]\tlr: 1.228e-05, eta: 1:20:32, time: 1.032, data_time: 0.020, memory: 7613, loss_cls: 0.4146, loss_bbox: 0.1666, loss_bbox_rf: 0.2118, loss: 0.7929, grad_norm: 6.3587\n",
      "2021-05-19 07:32:39,914 - mmdet - INFO - Epoch [20][30/288]\tlr: 1.222e-05, eta: 1:20:23, time: 1.029, data_time: 0.019, memory: 7613, loss_cls: 0.4400, loss_bbox: 0.1964, loss_bbox_rf: 0.2490, loss: 0.8853, grad_norm: 8.0284\n",
      "2021-05-19 07:32:50,164 - mmdet - INFO - Epoch [20][40/288]\tlr: 1.216e-05, eta: 1:20:13, time: 1.025, data_time: 0.021, memory: 7613, loss_cls: 0.4286, loss_bbox: 0.1809, loss_bbox_rf: 0.2268, loss: 0.8362, grad_norm: 9.0793\n",
      "2021-05-19 07:33:00,257 - mmdet - INFO - Epoch [20][50/288]\tlr: 1.211e-05, eta: 1:20:03, time: 1.009, data_time: 0.017, memory: 7613, loss_cls: 0.4332, loss_bbox: 0.1896, loss_bbox_rf: 0.2393, loss: 0.8622, grad_norm: 7.2208\n",
      "2021-05-19 07:33:10,411 - mmdet - INFO - Epoch [20][60/288]\tlr: 1.205e-05, eta: 1:19:54, time: 1.015, data_time: 0.019, memory: 7613, loss_cls: 0.4363, loss_bbox: 0.1901, loss_bbox_rf: 0.2425, loss: 0.8689, grad_norm: 6.8311\n",
      "2021-05-19 07:33:20,500 - mmdet - INFO - Epoch [20][70/288]\tlr: 1.199e-05, eta: 1:19:44, time: 1.009, data_time: 0.018, memory: 7613, loss_cls: 0.4380, loss_bbox: 0.1837, loss_bbox_rf: 0.2314, loss: 0.8531, grad_norm: 6.9846\n",
      "2021-05-19 07:33:30,591 - mmdet - INFO - Epoch [20][80/288]\tlr: 1.194e-05, eta: 1:19:34, time: 1.009, data_time: 0.017, memory: 7613, loss_cls: 0.4319, loss_bbox: 0.1771, loss_bbox_rf: 0.2247, loss: 0.8337, grad_norm: 7.3239\n",
      "2021-05-19 07:33:40,737 - mmdet - INFO - Epoch [20][90/288]\tlr: 1.188e-05, eta: 1:19:24, time: 1.015, data_time: 0.017, memory: 7613, loss_cls: 0.4361, loss_bbox: 0.1894, loss_bbox_rf: 0.2383, loss: 0.8638, grad_norm: 7.4332\n",
      "2021-05-19 07:33:50,833 - mmdet - INFO - Epoch [20][100/288]\tlr: 1.183e-05, eta: 1:19:15, time: 1.010, data_time: 0.020, memory: 7613, loss_cls: 0.4506, loss_bbox: 0.1986, loss_bbox_rf: 0.2526, loss: 0.9018, grad_norm: 7.9472\n",
      "2021-05-19 07:34:00,927 - mmdet - INFO - Epoch [20][110/288]\tlr: 1.177e-05, eta: 1:19:05, time: 1.009, data_time: 0.020, memory: 7613, loss_cls: 0.4280, loss_bbox: 0.1781, loss_bbox_rf: 0.2259, loss: 0.8320, grad_norm: 6.9658\n",
      "2021-05-19 07:34:11,008 - mmdet - INFO - Epoch [20][120/288]\tlr: 1.172e-05, eta: 1:18:55, time: 1.008, data_time: 0.018, memory: 7613, loss_cls: 0.4092, loss_bbox: 0.1857, loss_bbox_rf: 0.2353, loss: 0.8302, grad_norm: 6.9000\n",
      "2021-05-19 07:34:21,085 - mmdet - INFO - Epoch [20][130/288]\tlr: 1.166e-05, eta: 1:18:45, time: 1.008, data_time: 0.019, memory: 7613, loss_cls: 0.4373, loss_bbox: 0.1782, loss_bbox_rf: 0.2251, loss: 0.8406, grad_norm: 7.3387\n",
      "2021-05-19 07:34:31,130 - mmdet - INFO - Epoch [20][140/288]\tlr: 1.161e-05, eta: 1:18:35, time: 1.004, data_time: 0.018, memory: 7613, loss_cls: 0.4392, loss_bbox: 0.1992, loss_bbox_rf: 0.2551, loss: 0.8935, grad_norm: 6.4731\n",
      "2021-05-19 07:34:41,160 - mmdet - INFO - Epoch [20][150/288]\tlr: 1.155e-05, eta: 1:18:26, time: 1.003, data_time: 0.018, memory: 7613, loss_cls: 0.4264, loss_bbox: 0.2023, loss_bbox_rf: 0.2554, loss: 0.8842, grad_norm: 7.2465\n",
      "2021-05-19 07:34:51,210 - mmdet - INFO - Epoch [20][160/288]\tlr: 1.150e-05, eta: 1:18:16, time: 1.005, data_time: 0.018, memory: 7613, loss_cls: 0.4420, loss_bbox: 0.2084, loss_bbox_rf: 0.2655, loss: 0.9159, grad_norm: 5.6686\n",
      "2021-05-19 07:35:01,274 - mmdet - INFO - Epoch [20][170/288]\tlr: 1.144e-05, eta: 1:18:06, time: 1.006, data_time: 0.019, memory: 7613, loss_cls: 0.4535, loss_bbox: 0.1978, loss_bbox_rf: 0.2539, loss: 0.9052, grad_norm: 6.1729\n",
      "2021-05-19 07:35:11,343 - mmdet - INFO - Epoch [20][180/288]\tlr: 1.139e-05, eta: 1:17:56, time: 1.007, data_time: 0.019, memory: 7613, loss_cls: 0.4491, loss_bbox: 0.2219, loss_bbox_rf: 0.2839, loss: 0.9549, grad_norm: 5.7672\n",
      "2021-05-19 07:35:21,406 - mmdet - INFO - Epoch [20][190/288]\tlr: 1.134e-05, eta: 1:17:46, time: 1.006, data_time: 0.019, memory: 7613, loss_cls: 0.4365, loss_bbox: 0.1827, loss_bbox_rf: 0.2324, loss: 0.8516, grad_norm: 8.3748\n",
      "2021-05-19 07:35:31,479 - mmdet - INFO - Epoch [20][200/288]\tlr: 1.128e-05, eta: 1:17:37, time: 1.007, data_time: 0.019, memory: 7613, loss_cls: 0.4338, loss_bbox: 0.1863, loss_bbox_rf: 0.2344, loss: 0.8546, grad_norm: 8.5356\n",
      "2021-05-19 07:35:41,573 - mmdet - INFO - Epoch [20][210/288]\tlr: 1.123e-05, eta: 1:17:27, time: 1.009, data_time: 0.019, memory: 7613, loss_cls: 0.4276, loss_bbox: 0.1819, loss_bbox_rf: 0.2290, loss: 0.8385, grad_norm: 7.7217\n",
      "2021-05-19 07:35:51,610 - mmdet - INFO - Epoch [20][220/288]\tlr: 1.117e-05, eta: 1:17:17, time: 1.004, data_time: 0.018, memory: 7613, loss_cls: 0.4289, loss_bbox: 0.1838, loss_bbox_rf: 0.2331, loss: 0.8458, grad_norm: 6.2206\n",
      "2021-05-19 07:36:01,678 - mmdet - INFO - Epoch [20][230/288]\tlr: 1.112e-05, eta: 1:17:07, time: 1.007, data_time: 0.019, memory: 7613, loss_cls: 0.4278, loss_bbox: 0.1806, loss_bbox_rf: 0.2286, loss: 0.8370, grad_norm: 7.7569\n",
      "2021-05-19 07:36:11,745 - mmdet - INFO - Epoch [20][240/288]\tlr: 1.107e-05, eta: 1:16:57, time: 1.007, data_time: 0.018, memory: 7613, loss_cls: 0.4169, loss_bbox: 0.1922, loss_bbox_rf: 0.2451, loss: 0.8542, grad_norm: 6.6475\n",
      "2021-05-19 07:36:21,804 - mmdet - INFO - Epoch [20][250/288]\tlr: 1.102e-05, eta: 1:16:48, time: 1.006, data_time: 0.018, memory: 7613, loss_cls: 0.4365, loss_bbox: 0.1831, loss_bbox_rf: 0.2333, loss: 0.8529, grad_norm: 6.5343\n",
      "2021-05-19 07:36:31,882 - mmdet - INFO - Epoch [20][260/288]\tlr: 1.096e-05, eta: 1:16:38, time: 1.008, data_time: 0.021, memory: 7613, loss_cls: 0.4291, loss_bbox: 0.1884, loss_bbox_rf: 0.2390, loss: 0.8564, grad_norm: 8.1647\n",
      "2021-05-19 07:36:41,942 - mmdet - INFO - Epoch [20][270/288]\tlr: 1.091e-05, eta: 1:16:28, time: 1.006, data_time: 0.020, memory: 7613, loss_cls: 0.4282, loss_bbox: 0.1862, loss_bbox_rf: 0.2373, loss: 0.8517, grad_norm: 6.2029\n",
      "2021-05-19 07:36:52,007 - mmdet - INFO - Epoch [20][280/288]\tlr: 1.086e-05, eta: 1:16:18, time: 1.006, data_time: 0.020, memory: 7613, loss_cls: 0.4221, loss_bbox: 0.1731, loss_bbox_rf: 0.2189, loss: 0.8141, grad_norm: 7.3677\n",
      "2021-05-19 07:37:00,140 - mmdet - INFO - Saving checkpoint at 20 epochs\n"
     ]
    },
    {
     "name": "stdout",
     "output_type": "stream",
     "text": [
      "[>>>>>>>>>>>>>>>>>>>>>>>>>>>>>>] 655/655, 7.2 task/s, elapsed: 91s, ETA:     0s"
     ]
    },
    {
     "name": "stderr",
     "output_type": "stream",
     "text": [
      "2021-05-19 07:38:35,227 - mmdet - INFO - Evaluating bbox...\n"
     ]
    },
    {
     "name": "stdout",
     "output_type": "stream",
     "text": [
      "Loading and preparing results...\n",
      "DONE (t=1.77s)\n",
      "creating index...\n",
      "index created!\n",
      "Running per image evaluation...\n",
      "Evaluate annotation type *bbox*\n",
      "DONE (t=11.05s).\n",
      "Accumulating evaluation results...\n",
      "DONE (t=3.20s).\n",
      "Average Precision  (AP) @[ IoU=0.50:0.95 | area=   all | maxDets=100 ] = 0.225\n",
      "Average Precision  (AP) @[ IoU=0.50      | area=   all | maxDets=1000 ] = 0.359\n",
      "Average Precision  (AP) @[ IoU=0.75      | area=   all | maxDets=1000 ] = 0.237\n",
      "Average Precision  (AP) @[ IoU=0.50:0.95 | area= small | maxDets=1000 ] = 0.033\n",
      "Average Precision  (AP) @[ IoU=0.50:0.95 | area=medium | maxDets=1000 ] = 0.194\n",
      "Average Precision  (AP) @[ IoU=0.50:0.95 | area= large | maxDets=1000 ] = 0.429\n",
      "Average Recall     (AR) @[ IoU=0.50:0.95 | area=   all | maxDets=100 ] = 0.419\n",
      "Average Recall     (AR) @[ IoU=0.50:0.95 | area=   all | maxDets=300 ] = 0.419\n",
      "Average Recall     (AR) @[ IoU=0.50:0.95 | area=   all | maxDets=1000 ] = 0.419\n",
      "Average Recall     (AR) @[ IoU=0.50:0.95 | area= small | maxDets=1000 ] = 0.143\n",
      "Average Recall     (AR) @[ IoU=0.50:0.95 | area=medium | maxDets=1000 ] = 0.416\n",
      "Average Recall     (AR) @[ IoU=0.50:0.95 | area= large | maxDets=1000 ] = 0.692\n"
     ]
    },
    {
     "name": "stderr",
     "output_type": "stream",
     "text": [
      "2021-05-19 07:38:51,525 - mmdet - INFO - Epoch(val) [20][288]\tbbox_mAP: 0.2250, bbox_mAP_50: 0.3590, bbox_mAP_75: 0.2370, bbox_mAP_s: 0.0330, bbox_mAP_m: 0.1940, bbox_mAP_l: 0.4290, bbox_mAP_copypaste: 0.225 0.359 0.237 0.033 0.194 0.429\n",
      "2021-05-19 07:39:03,996 - mmdet - INFO - Epoch [21][10/288]\tlr: 1.076e-05, eta: 1:15:56, time: 1.245, data_time: 0.255, memory: 7613, loss_cls: 0.4083, loss_bbox: 0.1776, loss_bbox_rf: 0.2273, loss: 0.8131, grad_norm: 7.3380\n",
      "2021-05-19 07:39:14,040 - mmdet - INFO - Epoch [21][20/288]\tlr: 1.071e-05, eta: 1:15:46, time: 1.004, data_time: 0.018, memory: 7613, loss_cls: 0.4375, loss_bbox: 0.1974, loss_bbox_rf: 0.2514, loss: 0.8863, grad_norm: 5.7059\n",
      "2021-05-19 07:39:24,073 - mmdet - INFO - Epoch [21][30/288]\tlr: 1.066e-05, eta: 1:15:36, time: 1.003, data_time: 0.018, memory: 7613, loss_cls: 0.4212, loss_bbox: 0.1800, loss_bbox_rf: 0.2292, loss: 0.8303, grad_norm: 6.1258\n",
      "2021-05-19 07:39:34,141 - mmdet - INFO - Epoch [21][40/288]\tlr: 1.061e-05, eta: 1:15:27, time: 1.007, data_time: 0.019, memory: 7613, loss_cls: 0.4190, loss_bbox: 0.1881, loss_bbox_rf: 0.2388, loss: 0.8459, grad_norm: 6.2446\n",
      "2021-05-19 07:39:44,216 - mmdet - INFO - Epoch [21][50/288]\tlr: 1.056e-05, eta: 1:15:17, time: 1.008, data_time: 0.019, memory: 7613, loss_cls: 0.4247, loss_bbox: 0.1864, loss_bbox_rf: 0.2367, loss: 0.8477, grad_norm: 5.4852\n",
      "2021-05-19 07:39:54,282 - mmdet - INFO - Epoch [21][60/288]\tlr: 1.051e-05, eta: 1:15:07, time: 1.007, data_time: 0.019, memory: 7613, loss_cls: 0.3975, loss_bbox: 0.1825, loss_bbox_rf: 0.2321, loss: 0.8121, grad_norm: 7.2264\n",
      "2021-05-19 07:40:04,375 - mmdet - INFO - Epoch [21][70/288]\tlr: 1.046e-05, eta: 1:14:57, time: 1.009, data_time: 0.019, memory: 7613, loss_cls: 0.4170, loss_bbox: 0.1719, loss_bbox_rf: 0.2164, loss: 0.8054, grad_norm: 9.7080\n",
      "2021-05-19 07:40:14,473 - mmdet - INFO - Epoch [21][80/288]\tlr: 1.041e-05, eta: 1:14:48, time: 1.010, data_time: 0.019, memory: 7613, loss_cls: 0.4153, loss_bbox: 0.1813, loss_bbox_rf: 0.2286, loss: 0.8252, grad_norm: 7.3402\n",
      "2021-05-19 07:40:24,576 - mmdet - INFO - Epoch [21][90/288]\tlr: 1.036e-05, eta: 1:14:38, time: 1.010, data_time: 0.019, memory: 7613, loss_cls: 0.4309, loss_bbox: 0.1850, loss_bbox_rf: 0.2346, loss: 0.8505, grad_norm: 9.9480\n",
      "2021-05-19 07:40:34,610 - mmdet - INFO - Epoch [21][100/288]\tlr: 1.030e-05, eta: 1:14:28, time: 1.003, data_time: 0.018, memory: 7613, loss_cls: 0.4138, loss_bbox: 0.1759, loss_bbox_rf: 0.2221, loss: 0.8118, grad_norm: 8.9130\n",
      "2021-05-19 07:40:44,666 - mmdet - INFO - Epoch [21][110/288]\tlr: 1.025e-05, eta: 1:14:18, time: 1.006, data_time: 0.019, memory: 7613, loss_cls: 0.4114, loss_bbox: 0.1719, loss_bbox_rf: 0.2161, loss: 0.7994, grad_norm: 9.3917\n",
      "2021-05-19 07:40:54,717 - mmdet - INFO - Epoch [21][120/288]\tlr: 1.021e-05, eta: 1:14:08, time: 1.005, data_time: 0.019, memory: 7613, loss_cls: 0.4120, loss_bbox: 0.1750, loss_bbox_rf: 0.2221, loss: 0.8091, grad_norm: 8.0635\n",
      "2021-05-19 07:41:04,779 - mmdet - INFO - Epoch [21][130/288]\tlr: 1.016e-05, eta: 1:13:59, time: 1.006, data_time: 0.019, memory: 7613, loss_cls: 0.4172, loss_bbox: 0.1732, loss_bbox_rf: 0.2192, loss: 0.8097, grad_norm: 7.2431\n",
      "2021-05-19 07:41:14,855 - mmdet - INFO - Epoch [21][140/288]\tlr: 1.011e-05, eta: 1:13:49, time: 1.008, data_time: 0.020, memory: 7613, loss_cls: 0.4287, loss_bbox: 0.1898, loss_bbox_rf: 0.2417, loss: 0.8602, grad_norm: 6.6057\n",
      "2021-05-19 07:41:24,900 - mmdet - INFO - Epoch [21][150/288]\tlr: 1.006e-05, eta: 1:13:39, time: 1.004, data_time: 0.019, memory: 7613, loss_cls: 0.4329, loss_bbox: 0.1903, loss_bbox_rf: 0.2423, loss: 0.8656, grad_norm: 5.8891\n",
      "2021-05-19 07:41:34,937 - mmdet - INFO - Epoch [21][160/288]\tlr: 1.001e-05, eta: 1:13:29, time: 1.004, data_time: 0.020, memory: 7613, loss_cls: 0.3894, loss_bbox: 0.1596, loss_bbox_rf: 0.2011, loss: 0.7501, grad_norm: 7.7338\n",
      "2021-05-19 07:41:44,970 - mmdet - INFO - Epoch [21][170/288]\tlr: 9.959e-06, eta: 1:13:19, time: 1.003, data_time: 0.019, memory: 7613, loss_cls: 0.4034, loss_bbox: 0.1633, loss_bbox_rf: 0.2059, loss: 0.7726, grad_norm: 6.0059\n",
      "2021-05-19 07:41:55,030 - mmdet - INFO - Epoch [21][180/288]\tlr: 9.910e-06, eta: 1:13:10, time: 1.006, data_time: 0.020, memory: 7613, loss_cls: 0.3933, loss_bbox: 0.1608, loss_bbox_rf: 0.2042, loss: 0.7583, grad_norm: 6.0527\n",
      "2021-05-19 07:42:05,090 - mmdet - INFO - Epoch [21][190/288]\tlr: 9.861e-06, eta: 1:13:00, time: 1.006, data_time: 0.019, memory: 7613, loss_cls: 0.4146, loss_bbox: 0.1831, loss_bbox_rf: 0.2334, loss: 0.8310, grad_norm: 7.1162\n",
      "2021-05-19 07:42:15,179 - mmdet - INFO - Epoch [21][200/288]\tlr: 9.813e-06, eta: 1:12:50, time: 1.009, data_time: 0.020, memory: 7613, loss_cls: 0.4166, loss_bbox: 0.1824, loss_bbox_rf: 0.2313, loss: 0.8302, grad_norm: 7.5053\n",
      "2021-05-19 07:42:25,244 - mmdet - INFO - Epoch [21][210/288]\tlr: 9.765e-06, eta: 1:12:40, time: 1.006, data_time: 0.019, memory: 7613, loss_cls: 0.4250, loss_bbox: 0.1863, loss_bbox_rf: 0.2361, loss: 0.8473, grad_norm: 8.2164\n",
      "2021-05-19 07:42:35,257 - mmdet - INFO - Epoch [21][220/288]\tlr: 9.717e-06, eta: 1:12:30, time: 1.001, data_time: 0.017, memory: 7613, loss_cls: 0.4093, loss_bbox: 0.1785, loss_bbox_rf: 0.2265, loss: 0.8143, grad_norm: 6.1294\n",
      "2021-05-19 07:42:45,306 - mmdet - INFO - Epoch [21][230/288]\tlr: 9.670e-06, eta: 1:12:20, time: 1.005, data_time: 0.019, memory: 7613, loss_cls: 0.4184, loss_bbox: 0.1781, loss_bbox_rf: 0.2262, loss: 0.8227, grad_norm: 6.2697\n",
      "2021-05-19 07:42:55,363 - mmdet - INFO - Epoch [21][240/288]\tlr: 9.622e-06, eta: 1:12:11, time: 1.006, data_time: 0.019, memory: 7613, loss_cls: 0.4184, loss_bbox: 0.1815, loss_bbox_rf: 0.2309, loss: 0.8307, grad_norm: 7.0322\n",
      "2021-05-19 07:43:05,440 - mmdet - INFO - Epoch [21][250/288]\tlr: 9.575e-06, eta: 1:12:01, time: 1.008, data_time: 0.020, memory: 7613, loss_cls: 0.4084, loss_bbox: 0.1849, loss_bbox_rf: 0.2359, loss: 0.8292, grad_norm: 6.8798\n",
      "2021-05-19 07:43:15,506 - mmdet - INFO - Epoch [21][260/288]\tlr: 9.528e-06, eta: 1:11:51, time: 1.007, data_time: 0.018, memory: 7613, loss_cls: 0.4210, loss_bbox: 0.1868, loss_bbox_rf: 0.2384, loss: 0.8462, grad_norm: 6.8100\n",
      "2021-05-19 07:43:25,572 - mmdet - INFO - Epoch [21][270/288]\tlr: 9.481e-06, eta: 1:11:41, time: 1.007, data_time: 0.020, memory: 7613, loss_cls: 0.4215, loss_bbox: 0.1856, loss_bbox_rf: 0.2365, loss: 0.8436, grad_norm: 7.1104\n",
      "2021-05-19 07:43:35,648 - mmdet - INFO - Epoch [21][280/288]\tlr: 9.434e-06, eta: 1:11:31, time: 1.008, data_time: 0.020, memory: 7613, loss_cls: 0.4152, loss_bbox: 0.1807, loss_bbox_rf: 0.2286, loss: 0.8245, grad_norm: 6.9309\n",
      "2021-05-19 07:43:43,780 - mmdet - INFO - Saving checkpoint at 21 epochs\n"
     ]
    },
    {
     "name": "stdout",
     "output_type": "stream",
     "text": [
      "[>>>>>>>>>>>>>>>>>>>>>>>>>>>>>>] 655/655, 7.5 task/s, elapsed: 87s, ETA:     0s"
     ]
    },
    {
     "name": "stderr",
     "output_type": "stream",
     "text": [
      "2021-05-19 07:45:15,833 - mmdet - INFO - Evaluating bbox...\n"
     ]
    },
    {
     "name": "stdout",
     "output_type": "stream",
     "text": [
      "Loading and preparing results...\n",
      "DONE (t=2.34s)\n",
      "creating index...\n",
      "index created!\n",
      "Running per image evaluation...\n",
      "Evaluate annotation type *bbox*\n",
      "DONE (t=10.90s).\n",
      "Accumulating evaluation results...\n",
      "DONE (t=3.23s).\n",
      "Average Precision  (AP) @[ IoU=0.50:0.95 | area=   all | maxDets=100 ] = 0.209\n",
      "Average Precision  (AP) @[ IoU=0.50      | area=   all | maxDets=1000 ] = 0.350\n",
      "Average Precision  (AP) @[ IoU=0.75      | area=   all | maxDets=1000 ] = 0.216\n",
      "Average Precision  (AP) @[ IoU=0.50:0.95 | area= small | maxDets=1000 ] = 0.034\n",
      "Average Precision  (AP) @[ IoU=0.50:0.95 | area=medium | maxDets=1000 ] = 0.169\n",
      "Average Precision  (AP) @[ IoU=0.50:0.95 | area= large | maxDets=1000 ] = 0.430\n",
      "Average Recall     (AR) @[ IoU=0.50:0.95 | area=   all | maxDets=100 ] = 0.402\n",
      "Average Recall     (AR) @[ IoU=0.50:0.95 | area=   all | maxDets=300 ] = 0.402\n",
      "Average Recall     (AR) @[ IoU=0.50:0.95 | area=   all | maxDets=1000 ] = 0.402\n",
      "Average Recall     (AR) @[ IoU=0.50:0.95 | area= small | maxDets=1000 ] = 0.142\n",
      "Average Recall     (AR) @[ IoU=0.50:0.95 | area=medium | maxDets=1000 ] = 0.383\n",
      "Average Recall     (AR) @[ IoU=0.50:0.95 | area= large | maxDets=1000 ] = 0.667\n"
     ]
    },
    {
     "name": "stderr",
     "output_type": "stream",
     "text": [
      "2021-05-19 07:45:32,590 - mmdet - INFO - Epoch(val) [21][288]\tbbox_mAP: 0.2090, bbox_mAP_50: 0.3500, bbox_mAP_75: 0.2160, bbox_mAP_s: 0.0340, bbox_mAP_m: 0.1690, bbox_mAP_l: 0.4300, bbox_mAP_copypaste: 0.209 0.350 0.216 0.034 0.169 0.430\n",
      "2021-05-19 07:45:45,035 - mmdet - INFO - Epoch [22][10/288]\tlr: 9.351e-06, eta: 1:11:10, time: 1.243, data_time: 0.256, memory: 7613, loss_cls: 0.3955, loss_bbox: 0.1589, loss_bbox_rf: 0.2016, loss: 0.7560, grad_norm: 7.1838\n",
      "2021-05-19 07:45:55,047 - mmdet - INFO - Epoch [22][20/288]\tlr: 9.305e-06, eta: 1:11:00, time: 1.001, data_time: 0.017, memory: 7613, loss_cls: 0.4008, loss_bbox: 0.1791, loss_bbox_rf: 0.2279, loss: 0.8079, grad_norm: 7.0541\n",
      "2021-05-19 07:46:05,056 - mmdet - INFO - Epoch [22][30/288]\tlr: 9.259e-06, eta: 1:10:50, time: 1.001, data_time: 0.017, memory: 7613, loss_cls: 0.3996, loss_bbox: 0.1677, loss_bbox_rf: 0.2117, loss: 0.7790, grad_norm: 7.5061\n",
      "2021-05-19 07:46:15,089 - mmdet - INFO - Epoch [22][40/288]\tlr: 9.213e-06, eta: 1:10:40, time: 1.003, data_time: 0.018, memory: 7613, loss_cls: 0.3988, loss_bbox: 0.1749, loss_bbox_rf: 0.2206, loss: 0.7944, grad_norm: 7.9122\n",
      "2021-05-19 07:46:25,130 - mmdet - INFO - Epoch [22][50/288]\tlr: 9.168e-06, eta: 1:10:30, time: 1.004, data_time: 0.018, memory: 7613, loss_cls: 0.4104, loss_bbox: 0.1870, loss_bbox_rf: 0.2377, loss: 0.8351, grad_norm: 5.7497\n",
      "2021-05-19 07:46:35,220 - mmdet - INFO - Epoch [22][60/288]\tlr: 9.123e-06, eta: 1:10:21, time: 1.009, data_time: 0.020, memory: 7613, loss_cls: 0.4038, loss_bbox: 0.1802, loss_bbox_rf: 0.2305, loss: 0.8145, grad_norm: 6.0883\n",
      "2021-05-19 07:46:45,255 - mmdet - INFO - Epoch [22][70/288]\tlr: 9.078e-06, eta: 1:10:11, time: 1.003, data_time: 0.019, memory: 7613, loss_cls: 0.4029, loss_bbox: 0.1756, loss_bbox_rf: 0.2203, loss: 0.7988, grad_norm: 8.0155\n",
      "2021-05-19 07:46:55,269 - mmdet - INFO - Epoch [22][80/288]\tlr: 9.033e-06, eta: 1:10:01, time: 1.001, data_time: 0.017, memory: 7613, loss_cls: 0.4064, loss_bbox: 0.1911, loss_bbox_rf: 0.2438, loss: 0.8412, grad_norm: 7.2552\n",
      "2021-05-19 07:47:05,294 - mmdet - INFO - Epoch [22][90/288]\tlr: 8.988e-06, eta: 1:09:51, time: 1.002, data_time: 0.018, memory: 7613, loss_cls: 0.3881, loss_bbox: 0.1606, loss_bbox_rf: 0.2021, loss: 0.7508, grad_norm: 6.4587\n",
      "2021-05-19 07:47:15,294 - mmdet - INFO - Epoch [22][100/288]\tlr: 8.944e-06, eta: 1:09:41, time: 1.000, data_time: 0.018, memory: 7613, loss_cls: 0.3994, loss_bbox: 0.1638, loss_bbox_rf: 0.2064, loss: 0.7696, grad_norm: 7.3695\n",
      "2021-05-19 07:47:25,312 - mmdet - INFO - Epoch [22][110/288]\tlr: 8.900e-06, eta: 1:09:31, time: 1.002, data_time: 0.018, memory: 7613, loss_cls: 0.4034, loss_bbox: 0.1754, loss_bbox_rf: 0.2228, loss: 0.8016, grad_norm: 6.3385\n",
      "2021-05-19 07:47:35,330 - mmdet - INFO - Epoch [22][120/288]\tlr: 8.856e-06, eta: 1:09:22, time: 1.002, data_time: 0.018, memory: 7613, loss_cls: 0.4002, loss_bbox: 0.1655, loss_bbox_rf: 0.2101, loss: 0.7758, grad_norm: 6.2738\n",
      "2021-05-19 07:47:45,386 - mmdet - INFO - Epoch [22][130/288]\tlr: 8.812e-06, eta: 1:09:12, time: 1.006, data_time: 0.018, memory: 7613, loss_cls: 0.4062, loss_bbox: 0.1766, loss_bbox_rf: 0.2243, loss: 0.8070, grad_norm: 6.5634\n",
      "2021-05-19 07:47:55,471 - mmdet - INFO - Epoch [22][140/288]\tlr: 8.769e-06, eta: 1:09:02, time: 1.008, data_time: 0.018, memory: 7613, loss_cls: 0.3920, loss_bbox: 0.1846, loss_bbox_rf: 0.2361, loss: 0.8127, grad_norm: 6.4401\n",
      "2021-05-19 07:48:05,568 - mmdet - INFO - Epoch [22][150/288]\tlr: 8.726e-06, eta: 1:08:52, time: 1.010, data_time: 0.018, memory: 7613, loss_cls: 0.3863, loss_bbox: 0.1570, loss_bbox_rf: 0.1985, loss: 0.7418, grad_norm: 7.1896\n",
      "2021-05-19 07:48:15,661 - mmdet - INFO - Epoch [22][160/288]\tlr: 8.683e-06, eta: 1:08:42, time: 1.009, data_time: 0.018, memory: 7613, loss_cls: 0.4195, loss_bbox: 0.1861, loss_bbox_rf: 0.2373, loss: 0.8429, grad_norm: 6.2456\n",
      "2021-05-19 07:48:25,709 - mmdet - INFO - Epoch [22][170/288]\tlr: 8.640e-06, eta: 1:08:33, time: 1.005, data_time: 0.017, memory: 7613, loss_cls: 0.4056, loss_bbox: 0.1804, loss_bbox_rf: 0.2302, loss: 0.8162, grad_norm: 6.7696\n",
      "2021-05-19 07:48:35,720 - mmdet - INFO - Epoch [22][180/288]\tlr: 8.597e-06, eta: 1:08:23, time: 1.001, data_time: 0.018, memory: 7613, loss_cls: 0.3860, loss_bbox: 0.1627, loss_bbox_rf: 0.2059, loss: 0.7546, grad_norm: 7.8006\n",
      "2021-05-19 07:48:45,724 - mmdet - INFO - Epoch [22][190/288]\tlr: 8.555e-06, eta: 1:08:13, time: 1.000, data_time: 0.018, memory: 7613, loss_cls: 0.3997, loss_bbox: 0.1680, loss_bbox_rf: 0.2131, loss: 0.7809, grad_norm: 7.7472\n",
      "2021-05-19 07:48:55,731 - mmdet - INFO - Epoch [22][200/288]\tlr: 8.513e-06, eta: 1:08:03, time: 1.001, data_time: 0.017, memory: 7613, loss_cls: 0.3882, loss_bbox: 0.1682, loss_bbox_rf: 0.2123, loss: 0.7687, grad_norm: 7.6782\n",
      "2021-05-19 07:49:05,767 - mmdet - INFO - Epoch [22][210/288]\tlr: 8.471e-06, eta: 1:07:53, time: 1.004, data_time: 0.019, memory: 7613, loss_cls: 0.4032, loss_bbox: 0.1647, loss_bbox_rf: 0.2082, loss: 0.7760, grad_norm: 8.2792\n",
      "2021-05-19 07:49:15,811 - mmdet - INFO - Epoch [22][220/288]\tlr: 8.429e-06, eta: 1:07:43, time: 1.004, data_time: 0.019, memory: 7613, loss_cls: 0.3979, loss_bbox: 0.1821, loss_bbox_rf: 0.2311, loss: 0.8110, grad_norm: 7.2940\n",
      "2021-05-19 07:49:25,854 - mmdet - INFO - Epoch [22][230/288]\tlr: 8.388e-06, eta: 1:07:34, time: 1.004, data_time: 0.019, memory: 7613, loss_cls: 0.4141, loss_bbox: 0.1827, loss_bbox_rf: 0.2343, loss: 0.8311, grad_norm: 8.0890\n",
      "2021-05-19 07:49:35,932 - mmdet - INFO - Epoch [22][240/288]\tlr: 8.346e-06, eta: 1:07:24, time: 1.008, data_time: 0.019, memory: 7613, loss_cls: 0.3973, loss_bbox: 0.1788, loss_bbox_rf: 0.2282, loss: 0.8044, grad_norm: 7.6282\n",
      "2021-05-19 07:49:45,974 - mmdet - INFO - Epoch [22][250/288]\tlr: 8.305e-06, eta: 1:07:14, time: 1.004, data_time: 0.018, memory: 7613, loss_cls: 0.3967, loss_bbox: 0.1763, loss_bbox_rf: 0.2240, loss: 0.7970, grad_norm: 5.8442\n",
      "2021-05-19 07:49:55,995 - mmdet - INFO - Epoch [22][260/288]\tlr: 8.264e-06, eta: 1:07:04, time: 1.002, data_time: 0.018, memory: 7613, loss_cls: 0.4002, loss_bbox: 0.1661, loss_bbox_rf: 0.2110, loss: 0.7773, grad_norm: 6.2322\n",
      "2021-05-19 07:50:06,053 - mmdet - INFO - Epoch [22][270/288]\tlr: 8.224e-06, eta: 1:06:54, time: 1.006, data_time: 0.018, memory: 7613, loss_cls: 0.3776, loss_bbox: 0.1563, loss_bbox_rf: 0.1985, loss: 0.7323, grad_norm: 6.3437\n",
      "2021-05-19 07:50:16,123 - mmdet - INFO - Epoch [22][280/288]\tlr: 8.184e-06, eta: 1:06:45, time: 1.007, data_time: 0.018, memory: 7613, loss_cls: 0.3982, loss_bbox: 0.1717, loss_bbox_rf: 0.2166, loss: 0.7865, grad_norm: 6.3412\n",
      "2021-05-19 07:50:24,269 - mmdet - INFO - Saving checkpoint at 22 epochs\n"
     ]
    },
    {
     "name": "stdout",
     "output_type": "stream",
     "text": [
      "[>>>>>>>>>>>>>>>>>>>>>>>>>>>>>>] 655/655, 7.6 task/s, elapsed: 86s, ETA:     0s"
     ]
    },
    {
     "name": "stderr",
     "output_type": "stream",
     "text": [
      "2021-05-19 07:51:54,637 - mmdet - INFO - Evaluating bbox...\n"
     ]
    },
    {
     "name": "stdout",
     "output_type": "stream",
     "text": [
      "Loading and preparing results...\n",
      "DONE (t=2.28s)\n",
      "creating index...\n",
      "index created!\n",
      "Running per image evaluation...\n",
      "Evaluate annotation type *bbox*\n",
      "DONE (t=11.86s).\n",
      "Accumulating evaluation results...\n",
      "DONE (t=3.24s).\n",
      "Average Precision  (AP) @[ IoU=0.50:0.95 | area=   all | maxDets=100 ] = 0.217\n",
      "Average Precision  (AP) @[ IoU=0.50      | area=   all | maxDets=1000 ] = 0.357\n",
      "Average Precision  (AP) @[ IoU=0.75      | area=   all | maxDets=1000 ] = 0.224\n",
      "Average Precision  (AP) @[ IoU=0.50:0.95 | area= small | maxDets=1000 ] = 0.030\n",
      "Average Precision  (AP) @[ IoU=0.50:0.95 | area=medium | maxDets=1000 ] = 0.178\n",
      "Average Precision  (AP) @[ IoU=0.50:0.95 | area= large | maxDets=1000 ] = 0.433\n",
      "Average Recall     (AR) @[ IoU=0.50:0.95 | area=   all | maxDets=100 ] = 0.398\n",
      "Average Recall     (AR) @[ IoU=0.50:0.95 | area=   all | maxDets=300 ] = 0.398\n",
      "Average Recall     (AR) @[ IoU=0.50:0.95 | area=   all | maxDets=1000 ] = 0.398\n",
      "Average Recall     (AR) @[ IoU=0.50:0.95 | area= small | maxDets=1000 ] = 0.128\n",
      "Average Recall     (AR) @[ IoU=0.50:0.95 | area=medium | maxDets=1000 ] = 0.389\n",
      "Average Recall     (AR) @[ IoU=0.50:0.95 | area= large | maxDets=1000 ] = 0.662\n"
     ]
    },
    {
     "name": "stderr",
     "output_type": "stream",
     "text": [
      "2021-05-19 07:52:12,313 - mmdet - INFO - Epoch(val) [22][288]\tbbox_mAP: 0.2170, bbox_mAP_50: 0.3570, bbox_mAP_75: 0.2240, bbox_mAP_s: 0.0300, bbox_mAP_m: 0.1780, bbox_mAP_l: 0.4330, bbox_mAP_copypaste: 0.217 0.357 0.224 0.030 0.178 0.433\n",
      "2021-05-19 07:52:24,776 - mmdet - INFO - Epoch [23][10/288]\tlr: 8.112e-06, eta: 1:06:23, time: 1.245, data_time: 0.255, memory: 7613, loss_cls: 0.3798, loss_bbox: 0.1656, loss_bbox_rf: 0.2107, loss: 0.7562, grad_norm: 6.8058\n",
      "2021-05-19 07:52:34,789 - mmdet - INFO - Epoch [23][20/288]\tlr: 8.072e-06, eta: 1:06:13, time: 1.001, data_time: 0.018, memory: 7613, loss_cls: 0.3901, loss_bbox: 0.1672, loss_bbox_rf: 0.2116, loss: 0.7688, grad_norm: 6.1046\n",
      "2021-05-19 07:52:44,788 - mmdet - INFO - Epoch [23][30/288]\tlr: 8.032e-06, eta: 1:06:04, time: 1.000, data_time: 0.018, memory: 7613, loss_cls: 0.3799, loss_bbox: 0.1653, loss_bbox_rf: 0.2106, loss: 0.7558, grad_norm: 5.6005\n",
      "2021-05-19 07:52:54,873 - mmdet - INFO - Epoch [23][40/288]\tlr: 7.993e-06, eta: 1:05:54, time: 1.008, data_time: 0.020, memory: 7613, loss_cls: 0.3782, loss_bbox: 0.1501, loss_bbox_rf: 0.1902, loss: 0.7185, grad_norm: 6.4927\n",
      "2021-05-19 07:53:04,969 - mmdet - INFO - Epoch [23][50/288]\tlr: 7.954e-06, eta: 1:05:44, time: 1.010, data_time: 0.020, memory: 7613, loss_cls: 0.3926, loss_bbox: 0.1619, loss_bbox_rf: 0.2047, loss: 0.7591, grad_norm: 7.2001\n",
      "2021-05-19 07:53:15,034 - mmdet - INFO - Epoch [23][60/288]\tlr: 7.915e-06, eta: 1:05:34, time: 1.006, data_time: 0.019, memory: 7613, loss_cls: 0.3871, loss_bbox: 0.1653, loss_bbox_rf: 0.2108, loss: 0.7632, grad_norm: 7.9475\n",
      "2021-05-19 07:53:25,146 - mmdet - INFO - Epoch [23][70/288]\tlr: 7.877e-06, eta: 1:05:24, time: 1.011, data_time: 0.020, memory: 7613, loss_cls: 0.3927, loss_bbox: 0.1725, loss_bbox_rf: 0.2184, loss: 0.7836, grad_norm: 7.3917\n",
      "2021-05-19 07:53:35,211 - mmdet - INFO - Epoch [23][80/288]\tlr: 7.839e-06, eta: 1:05:15, time: 1.006, data_time: 0.019, memory: 7613, loss_cls: 0.3890, loss_bbox: 0.1853, loss_bbox_rf: 0.2362, loss: 0.8105, grad_norm: 5.8057\n",
      "2021-05-19 07:53:45,249 - mmdet - INFO - Epoch [23][90/288]\tlr: 7.800e-06, eta: 1:05:05, time: 1.004, data_time: 0.018, memory: 7613, loss_cls: 0.3627, loss_bbox: 0.1453, loss_bbox_rf: 0.1845, loss: 0.6925, grad_norm: 5.8218\n",
      "2021-05-19 07:53:55,285 - mmdet - INFO - Epoch [23][100/288]\tlr: 7.763e-06, eta: 1:04:55, time: 1.004, data_time: 0.018, memory: 7613, loss_cls: 0.3908, loss_bbox: 0.1765, loss_bbox_rf: 0.2246, loss: 0.7919, grad_norm: 5.6997\n",
      "2021-05-19 07:54:05,402 - mmdet - INFO - Epoch [23][110/288]\tlr: 7.725e-06, eta: 1:04:45, time: 1.012, data_time: 0.020, memory: 7613, loss_cls: 0.3851, loss_bbox: 0.1665, loss_bbox_rf: 0.2118, loss: 0.7634, grad_norm: 7.0520\n",
      "2021-05-19 07:54:15,507 - mmdet - INFO - Epoch [23][120/288]\tlr: 7.688e-06, eta: 1:04:35, time: 1.010, data_time: 0.019, memory: 7613, loss_cls: 0.3875, loss_bbox: 0.1697, loss_bbox_rf: 0.2169, loss: 0.7741, grad_norm: 6.2583\n",
      "2021-05-19 07:54:25,570 - mmdet - INFO - Epoch [23][130/288]\tlr: 7.651e-06, eta: 1:04:26, time: 1.006, data_time: 0.018, memory: 7613, loss_cls: 0.3963, loss_bbox: 0.1706, loss_bbox_rf: 0.2155, loss: 0.7824, grad_norm: 6.1533\n",
      "2021-05-19 07:54:35,639 - mmdet - INFO - Epoch [23][140/288]\tlr: 7.614e-06, eta: 1:04:16, time: 1.007, data_time: 0.018, memory: 7613, loss_cls: 0.3886, loss_bbox: 0.1709, loss_bbox_rf: 0.2172, loss: 0.7767, grad_norm: 6.2752\n",
      "2021-05-19 07:54:45,708 - mmdet - INFO - Epoch [23][150/288]\tlr: 7.577e-06, eta: 1:04:06, time: 1.007, data_time: 0.018, memory: 7613, loss_cls: 0.3877, loss_bbox: 0.1731, loss_bbox_rf: 0.2211, loss: 0.7820, grad_norm: 6.2938\n",
      "2021-05-19 07:54:55,806 - mmdet - INFO - Epoch [23][160/288]\tlr: 7.541e-06, eta: 1:03:56, time: 1.010, data_time: 0.021, memory: 7613, loss_cls: 0.3895, loss_bbox: 0.1578, loss_bbox_rf: 0.2014, loss: 0.7487, grad_norm: 8.0329\n",
      "2021-05-19 07:55:05,867 - mmdet - INFO - Epoch [23][170/288]\tlr: 7.504e-06, eta: 1:03:46, time: 1.006, data_time: 0.018, memory: 7613, loss_cls: 0.3874, loss_bbox: 0.1574, loss_bbox_rf: 0.1994, loss: 0.7442, grad_norm: 8.8973\n",
      "2021-05-19 07:55:15,927 - mmdet - INFO - Epoch [23][180/288]\tlr: 7.468e-06, eta: 1:03:37, time: 1.006, data_time: 0.018, memory: 7613, loss_cls: 0.3926, loss_bbox: 0.1727, loss_bbox_rf: 0.2193, loss: 0.7846, grad_norm: 7.0298\n",
      "2021-05-19 07:55:25,967 - mmdet - INFO - Epoch [23][190/288]\tlr: 7.433e-06, eta: 1:03:27, time: 1.004, data_time: 0.018, memory: 7613, loss_cls: 0.3909, loss_bbox: 0.1669, loss_bbox_rf: 0.2104, loss: 0.7682, grad_norm: 6.9030\n",
      "2021-05-19 07:55:36,014 - mmdet - INFO - Epoch [23][200/288]\tlr: 7.397e-06, eta: 1:03:17, time: 1.005, data_time: 0.018, memory: 7613, loss_cls: 0.3901, loss_bbox: 0.1804, loss_bbox_rf: 0.2292, loss: 0.7997, grad_norm: 6.6350\n",
      "2021-05-19 07:55:46,093 - mmdet - INFO - Epoch [23][210/288]\tlr: 7.362e-06, eta: 1:03:07, time: 1.008, data_time: 0.019, memory: 7613, loss_cls: 0.4038, loss_bbox: 0.1704, loss_bbox_rf: 0.2165, loss: 0.7907, grad_norm: 6.1813\n",
      "2021-05-19 07:55:56,164 - mmdet - INFO - Epoch [23][220/288]\tlr: 7.327e-06, eta: 1:02:57, time: 1.007, data_time: 0.019, memory: 7613, loss_cls: 0.3778, loss_bbox: 0.1609, loss_bbox_rf: 0.2025, loss: 0.7412, grad_norm: 6.9263\n",
      "2021-05-19 07:56:06,260 - mmdet - INFO - Epoch [23][230/288]\tlr: 7.292e-06, eta: 1:02:47, time: 1.010, data_time: 0.020, memory: 7613, loss_cls: 0.3943, loss_bbox: 0.1754, loss_bbox_rf: 0.2241, loss: 0.7939, grad_norm: 6.4815\n",
      "2021-05-19 07:56:16,361 - mmdet - INFO - Epoch [23][240/288]\tlr: 7.258e-06, eta: 1:02:38, time: 1.010, data_time: 0.019, memory: 7613, loss_cls: 0.3940, loss_bbox: 0.1748, loss_bbox_rf: 0.2218, loss: 0.7906, grad_norm: 6.3400\n",
      "2021-05-19 07:56:26,445 - mmdet - INFO - Epoch [23][250/288]\tlr: 7.224e-06, eta: 1:02:28, time: 1.008, data_time: 0.019, memory: 7613, loss_cls: 0.3847, loss_bbox: 0.1582, loss_bbox_rf: 0.1995, loss: 0.7424, grad_norm: 5.4925\n",
      "2021-05-19 07:56:36,532 - mmdet - INFO - Epoch [23][260/288]\tlr: 7.190e-06, eta: 1:02:18, time: 1.009, data_time: 0.019, memory: 7613, loss_cls: 0.3920, loss_bbox: 0.1759, loss_bbox_rf: 0.2243, loss: 0.7923, grad_norm: 6.8107\n",
      "2021-05-19 07:56:46,585 - mmdet - INFO - Epoch [23][270/288]\tlr: 7.156e-06, eta: 1:02:08, time: 1.005, data_time: 0.019, memory: 7613, loss_cls: 0.3843, loss_bbox: 0.1670, loss_bbox_rf: 0.2111, loss: 0.7623, grad_norm: 6.2981\n",
      "2021-05-19 07:56:56,690 - mmdet - INFO - Epoch [23][280/288]\tlr: 7.122e-06, eta: 1:01:58, time: 1.010, data_time: 0.021, memory: 7613, loss_cls: 0.3854, loss_bbox: 0.1683, loss_bbox_rf: 0.2127, loss: 0.7664, grad_norm: 5.3420\n",
      "2021-05-19 07:57:04,836 - mmdet - INFO - Saving checkpoint at 23 epochs\n"
     ]
    },
    {
     "name": "stdout",
     "output_type": "stream",
     "text": [
      "[>>>>>>>>>>>>>>>>>>>>>>>>>>>>>>] 655/655, 7.4 task/s, elapsed: 89s, ETA:     0s"
     ]
    },
    {
     "name": "stderr",
     "output_type": "stream",
     "text": [
      "2021-05-19 07:58:38,158 - mmdet - INFO - Evaluating bbox...\n"
     ]
    },
    {
     "name": "stdout",
     "output_type": "stream",
     "text": [
      "Loading and preparing results...\n",
      "DONE (t=1.84s)\n",
      "creating index...\n",
      "index created!\n",
      "Running per image evaluation...\n",
      "Evaluate annotation type *bbox*\n",
      "DONE (t=11.05s).\n",
      "Accumulating evaluation results...\n",
      "DONE (t=3.25s).\n",
      "Average Precision  (AP) @[ IoU=0.50:0.95 | area=   all | maxDets=100 ] = 0.212\n",
      "Average Precision  (AP) @[ IoU=0.50      | area=   all | maxDets=1000 ] = 0.350\n",
      "Average Precision  (AP) @[ IoU=0.75      | area=   all | maxDets=1000 ] = 0.217\n",
      "Average Precision  (AP) @[ IoU=0.50:0.95 | area= small | maxDets=1000 ] = 0.029\n",
      "Average Precision  (AP) @[ IoU=0.50:0.95 | area=medium | maxDets=1000 ] = 0.175\n",
      "Average Precision  (AP) @[ IoU=0.50:0.95 | area= large | maxDets=1000 ] = 0.434\n",
      "Average Recall     (AR) @[ IoU=0.50:0.95 | area=   all | maxDets=100 ] = 0.402\n",
      "Average Recall     (AR) @[ IoU=0.50:0.95 | area=   all | maxDets=300 ] = 0.402\n",
      "Average Recall     (AR) @[ IoU=0.50:0.95 | area=   all | maxDets=1000 ] = 0.402\n",
      "Average Recall     (AR) @[ IoU=0.50:0.95 | area= small | maxDets=1000 ] = 0.133\n",
      "Average Recall     (AR) @[ IoU=0.50:0.95 | area=medium | maxDets=1000 ] = 0.386\n",
      "Average Recall     (AR) @[ IoU=0.50:0.95 | area= large | maxDets=1000 ] = 0.667\n"
     ]
    },
    {
     "name": "stderr",
     "output_type": "stream",
     "text": [
      "2021-05-19 07:58:54,601 - mmdet - INFO - Epoch(val) [23][288]\tbbox_mAP: 0.2120, bbox_mAP_50: 0.3500, bbox_mAP_75: 0.2170, bbox_mAP_s: 0.0290, bbox_mAP_m: 0.1750, bbox_mAP_l: 0.4340, bbox_mAP_copypaste: 0.212 0.350 0.217 0.029 0.175 0.434\n",
      "2021-05-19 07:59:07,142 - mmdet - INFO - Epoch [24][10/288]\tlr: 7.063e-06, eta: 1:01:38, time: 1.252, data_time: 0.258, memory: 7613, loss_cls: 0.3800, loss_bbox: 0.1625, loss_bbox_rf: 0.2060, loss: 0.7485, grad_norm: 5.7472\n",
      "2021-05-19 07:59:17,210 - mmdet - INFO - Epoch [24][20/288]\tlr: 7.030e-06, eta: 1:01:28, time: 1.007, data_time: 0.019, memory: 7613, loss_cls: 0.3908, loss_bbox: 0.1770, loss_bbox_rf: 0.2260, loss: 0.7938, grad_norm: 6.3448\n",
      "2021-05-19 07:59:27,269 - mmdet - INFO - Epoch [24][30/288]\tlr: 6.997e-06, eta: 1:01:18, time: 1.006, data_time: 0.018, memory: 7613, loss_cls: 0.3599, loss_bbox: 0.1502, loss_bbox_rf: 0.1888, loss: 0.6989, grad_norm: 6.8103\n",
      "2021-05-19 07:59:37,353 - mmdet - INFO - Epoch [24][40/288]\tlr: 6.965e-06, eta: 1:01:08, time: 1.008, data_time: 0.018, memory: 7613, loss_cls: 0.3652, loss_bbox: 0.1588, loss_bbox_rf: 0.2017, loss: 0.7257, grad_norm: 6.2502\n",
      "2021-05-19 07:59:47,421 - mmdet - INFO - Epoch [24][50/288]\tlr: 6.933e-06, eta: 1:00:58, time: 1.007, data_time: 0.018, memory: 7613, loss_cls: 0.3785, loss_bbox: 0.1574, loss_bbox_rf: 0.1994, loss: 0.7353, grad_norm: 5.6422\n",
      "2021-05-19 07:59:57,484 - mmdet - INFO - Epoch [24][60/288]\tlr: 6.901e-06, eta: 1:00:48, time: 1.006, data_time: 0.017, memory: 7613, loss_cls: 0.3593, loss_bbox: 0.1555, loss_bbox_rf: 0.1969, loss: 0.7117, grad_norm: 6.2168\n",
      "2021-05-19 08:00:07,602 - mmdet - INFO - Epoch [24][70/288]\tlr: 6.869e-06, eta: 1:00:39, time: 1.012, data_time: 0.018, memory: 7613, loss_cls: 0.3719, loss_bbox: 0.1553, loss_bbox_rf: 0.1972, loss: 0.7245, grad_norm: 8.0335\n",
      "2021-05-19 08:00:17,669 - mmdet - INFO - Epoch [24][80/288]\tlr: 6.838e-06, eta: 1:00:29, time: 1.007, data_time: 0.019, memory: 7613, loss_cls: 0.3908, loss_bbox: 0.1661, loss_bbox_rf: 0.2114, loss: 0.7683, grad_norm: 6.4939\n",
      "2021-05-19 08:00:27,784 - mmdet - INFO - Epoch [24][90/288]\tlr: 6.807e-06, eta: 1:00:19, time: 1.012, data_time: 0.018, memory: 7613, loss_cls: 0.3619, loss_bbox: 0.1540, loss_bbox_rf: 0.1960, loss: 0.7119, grad_norm: 6.2011\n",
      "2021-05-19 08:00:37,865 - mmdet - INFO - Epoch [24][100/288]\tlr: 6.776e-06, eta: 1:00:09, time: 1.008, data_time: 0.018, memory: 7613, loss_cls: 0.3790, loss_bbox: 0.1648, loss_bbox_rf: 0.2104, loss: 0.7542, grad_norm: 6.2673\n",
      "2021-05-19 08:00:47,952 - mmdet - INFO - Epoch [24][110/288]\tlr: 6.746e-06, eta: 0:59:59, time: 1.009, data_time: 0.017, memory: 7613, loss_cls: 0.3730, loss_bbox: 0.1657, loss_bbox_rf: 0.2094, loss: 0.7481, grad_norm: 6.7044\n",
      "2021-05-19 08:00:58,038 - mmdet - INFO - Epoch [24][120/288]\tlr: 6.715e-06, eta: 0:59:50, time: 1.009, data_time: 0.019, memory: 7613, loss_cls: 0.3765, loss_bbox: 0.1597, loss_bbox_rf: 0.2034, loss: 0.7396, grad_norm: 6.2095\n",
      "2021-05-19 08:01:08,108 - mmdet - INFO - Epoch [24][130/288]\tlr: 6.685e-06, eta: 0:59:40, time: 1.007, data_time: 0.019, memory: 7613, loss_cls: 0.3476, loss_bbox: 0.1420, loss_bbox_rf: 0.1799, loss: 0.6694, grad_norm: 7.4141\n",
      "2021-05-19 08:01:18,164 - mmdet - INFO - Epoch [24][140/288]\tlr: 6.655e-06, eta: 0:59:30, time: 1.006, data_time: 0.018, memory: 7613, loss_cls: 0.3704, loss_bbox: 0.1548, loss_bbox_rf: 0.1958, loss: 0.7210, grad_norm: 5.8169\n",
      "2021-05-19 08:01:28,210 - mmdet - INFO - Epoch [24][150/288]\tlr: 6.626e-06, eta: 0:59:20, time: 1.005, data_time: 0.019, memory: 7613, loss_cls: 0.3596, loss_bbox: 0.1509, loss_bbox_rf: 0.1908, loss: 0.7013, grad_norm: 6.0854\n",
      "2021-05-19 08:01:38,258 - mmdet - INFO - Epoch [24][160/288]\tlr: 6.597e-06, eta: 0:59:10, time: 1.005, data_time: 0.017, memory: 7613, loss_cls: 0.3751, loss_bbox: 0.1574, loss_bbox_rf: 0.1998, loss: 0.7323, grad_norm: 6.3511\n",
      "2021-05-19 08:01:48,321 - mmdet - INFO - Epoch [24][170/288]\tlr: 6.567e-06, eta: 0:59:01, time: 1.006, data_time: 0.019, memory: 7613, loss_cls: 0.3675, loss_bbox: 0.1543, loss_bbox_rf: 0.1965, loss: 0.7183, grad_norm: 5.3374\n",
      "2021-05-19 08:01:58,393 - mmdet - INFO - Epoch [24][180/288]\tlr: 6.539e-06, eta: 0:58:51, time: 1.007, data_time: 0.019, memory: 7613, loss_cls: 0.3528, loss_bbox: 0.1351, loss_bbox_rf: 0.1688, loss: 0.6568, grad_norm: 6.4131\n",
      "2021-05-19 08:02:08,491 - mmdet - INFO - Epoch [24][190/288]\tlr: 6.510e-06, eta: 0:58:41, time: 1.010, data_time: 0.020, memory: 7613, loss_cls: 0.3842, loss_bbox: 0.1613, loss_bbox_rf: 0.2067, loss: 0.7522, grad_norm: 5.8458\n",
      "2021-05-19 08:02:18,576 - mmdet - INFO - Epoch [24][200/288]\tlr: 6.482e-06, eta: 0:58:31, time: 1.008, data_time: 0.019, memory: 7613, loss_cls: 0.3816, loss_bbox: 0.1660, loss_bbox_rf: 0.2109, loss: 0.7585, grad_norm: 6.0269\n",
      "2021-05-19 08:02:28,664 - mmdet - INFO - Epoch [24][210/288]\tlr: 6.454e-06, eta: 0:58:21, time: 1.009, data_time: 0.019, memory: 7613, loss_cls: 0.3837, loss_bbox: 0.1730, loss_bbox_rf: 0.2210, loss: 0.7777, grad_norm: 5.5731\n",
      "2021-05-19 08:02:38,707 - mmdet - INFO - Epoch [24][220/288]\tlr: 6.426e-06, eta: 0:58:11, time: 1.004, data_time: 0.018, memory: 7613, loss_cls: 0.3715, loss_bbox: 0.1596, loss_bbox_rf: 0.2014, loss: 0.7325, grad_norm: 5.8867\n",
      "2021-05-19 08:02:48,766 - mmdet - INFO - Epoch [24][230/288]\tlr: 6.398e-06, eta: 0:58:02, time: 1.006, data_time: 0.018, memory: 7613, loss_cls: 0.3901, loss_bbox: 0.1783, loss_bbox_rf: 0.2270, loss: 0.7954, grad_norm: 6.6018\n",
      "2021-05-19 08:02:58,822 - mmdet - INFO - Epoch [24][240/288]\tlr: 6.371e-06, eta: 0:57:52, time: 1.006, data_time: 0.018, memory: 7613, loss_cls: 0.3672, loss_bbox: 0.1555, loss_bbox_rf: 0.1963, loss: 0.7191, grad_norm: 6.5819\n",
      "2021-05-19 08:03:08,872 - mmdet - INFO - Epoch [24][250/288]\tlr: 6.344e-06, eta: 0:57:42, time: 1.005, data_time: 0.018, memory: 7613, loss_cls: 0.3722, loss_bbox: 0.1620, loss_bbox_rf: 0.2052, loss: 0.7394, grad_norm: 6.4446\n",
      "2021-05-19 08:03:18,927 - mmdet - INFO - Epoch [24][260/288]\tlr: 6.317e-06, eta: 0:57:32, time: 1.005, data_time: 0.018, memory: 7613, loss_cls: 0.3797, loss_bbox: 0.1717, loss_bbox_rf: 0.2188, loss: 0.7702, grad_norm: 5.5678\n",
      "2021-05-19 08:03:28,977 - mmdet - INFO - Epoch [24][270/288]\tlr: 6.291e-06, eta: 0:57:22, time: 1.005, data_time: 0.018, memory: 7613, loss_cls: 0.3691, loss_bbox: 0.1535, loss_bbox_rf: 0.1940, loss: 0.7165, grad_norm: 6.1348\n",
      "2021-05-19 08:03:39,045 - mmdet - INFO - Epoch [24][280/288]\tlr: 6.265e-06, eta: 0:57:12, time: 1.007, data_time: 0.019, memory: 7613, loss_cls: 0.3782, loss_bbox: 0.1766, loss_bbox_rf: 0.2242, loss: 0.7790, grad_norm: 6.7970\n",
      "2021-05-19 08:03:47,185 - mmdet - INFO - Saving checkpoint at 24 epochs\n"
     ]
    },
    {
     "name": "stdout",
     "output_type": "stream",
     "text": [
      "[>>>>>>>>>>>>>>>>>>>>>>>>>>>>>>] 655/655, 7.8 task/s, elapsed: 84s, ETA:     0s"
     ]
    },
    {
     "name": "stderr",
     "output_type": "stream",
     "text": [
      "2021-05-19 08:05:16,092 - mmdet - INFO - Evaluating bbox...\n"
     ]
    },
    {
     "name": "stdout",
     "output_type": "stream",
     "text": [
      "Loading and preparing results...\n",
      "DONE (t=1.74s)\n",
      "creating index...\n",
      "index created!\n",
      "Running per image evaluation...\n",
      "Evaluate annotation type *bbox*\n",
      "DONE (t=11.39s).\n",
      "Accumulating evaluation results...\n"
     ]
    },
    {
     "name": "stderr",
     "output_type": "stream",
     "text": [
      "2021-05-19 08:05:32,713 - mmdet - INFO - Epoch(val) [24][288]\tbbox_mAP: 0.2150, bbox_mAP_50: 0.3570, bbox_mAP_75: 0.2250, bbox_mAP_s: 0.0280, bbox_mAP_m: 0.1760, bbox_mAP_l: 0.4370, bbox_mAP_copypaste: 0.215 0.357 0.225 0.028 0.176 0.437\n"
     ]
    },
    {
     "name": "stdout",
     "output_type": "stream",
     "text": [
      "DONE (t=3.21s).\n",
      "Average Precision  (AP) @[ IoU=0.50:0.95 | area=   all | maxDets=100 ] = 0.215\n",
      "Average Precision  (AP) @[ IoU=0.50      | area=   all | maxDets=1000 ] = 0.357\n",
      "Average Precision  (AP) @[ IoU=0.75      | area=   all | maxDets=1000 ] = 0.225\n",
      "Average Precision  (AP) @[ IoU=0.50:0.95 | area= small | maxDets=1000 ] = 0.028\n",
      "Average Precision  (AP) @[ IoU=0.50:0.95 | area=medium | maxDets=1000 ] = 0.176\n",
      "Average Precision  (AP) @[ IoU=0.50:0.95 | area= large | maxDets=1000 ] = 0.437\n",
      "Average Recall     (AR) @[ IoU=0.50:0.95 | area=   all | maxDets=100 ] = 0.396\n",
      "Average Recall     (AR) @[ IoU=0.50:0.95 | area=   all | maxDets=300 ] = 0.396\n",
      "Average Recall     (AR) @[ IoU=0.50:0.95 | area=   all | maxDets=1000 ] = 0.396\n",
      "Average Recall     (AR) @[ IoU=0.50:0.95 | area= small | maxDets=1000 ] = 0.127\n",
      "Average Recall     (AR) @[ IoU=0.50:0.95 | area=medium | maxDets=1000 ] = 0.377\n",
      "Average Recall     (AR) @[ IoU=0.50:0.95 | area= large | maxDets=1000 ] = 0.665\n"
     ]
    },
    {
     "name": "stderr",
     "output_type": "stream",
     "text": [
      "2021-05-19 08:05:45,204 - mmdet - INFO - Epoch [25][10/288]\tlr: 6.218e-06, eta: 0:56:52, time: 1.247, data_time: 0.257, memory: 7613, loss_cls: 0.3699, loss_bbox: 0.1643, loss_bbox_rf: 0.2108, loss: 0.7450, grad_norm: 6.4958\n",
      "2021-05-19 08:05:55,296 - mmdet - INFO - Epoch [25][20/288]\tlr: 6.193e-06, eta: 0:56:42, time: 1.009, data_time: 0.020, memory: 7613, loss_cls: 0.3674, loss_bbox: 0.1521, loss_bbox_rf: 0.1914, loss: 0.7110, grad_norm: 6.2189\n",
      "2021-05-19 08:06:05,384 - mmdet - INFO - Epoch [25][30/288]\tlr: 6.167e-06, eta: 0:56:32, time: 1.009, data_time: 0.020, memory: 7613, loss_cls: 0.3620, loss_bbox: 0.1585, loss_bbox_rf: 0.2029, loss: 0.7234, grad_norm: 5.5770\n",
      "2021-05-19 08:06:15,454 - mmdet - INFO - Epoch [25][40/288]\tlr: 6.142e-06, eta: 0:56:22, time: 1.007, data_time: 0.019, memory: 7613, loss_cls: 0.3469, loss_bbox: 0.1466, loss_bbox_rf: 0.1847, loss: 0.6783, grad_norm: 5.6624\n",
      "2021-05-19 08:06:25,535 - mmdet - INFO - Epoch [25][50/288]\tlr: 6.118e-06, eta: 0:56:13, time: 1.008, data_time: 0.019, memory: 7613, loss_cls: 0.3684, loss_bbox: 0.1527, loss_bbox_rf: 0.1927, loss: 0.7137, grad_norm: 5.6017\n",
      "2021-05-19 08:06:35,590 - mmdet - INFO - Epoch [25][60/288]\tlr: 6.093e-06, eta: 0:56:03, time: 1.006, data_time: 0.018, memory: 7613, loss_cls: 0.3526, loss_bbox: 0.1510, loss_bbox_rf: 0.1936, loss: 0.6973, grad_norm: 5.9545\n",
      "2021-05-19 08:06:45,615 - mmdet - INFO - Epoch [25][70/288]\tlr: 6.069e-06, eta: 0:55:53, time: 1.003, data_time: 0.017, memory: 7613, loss_cls: 0.3518, loss_bbox: 0.1385, loss_bbox_rf: 0.1748, loss: 0.6651, grad_norm: 5.8185\n",
      "2021-05-19 08:06:55,687 - mmdet - INFO - Epoch [25][80/288]\tlr: 6.045e-06, eta: 0:55:43, time: 1.007, data_time: 0.018, memory: 7613, loss_cls: 0.3673, loss_bbox: 0.1539, loss_bbox_rf: 0.1958, loss: 0.7170, grad_norm: 5.5992\n",
      "2021-05-19 08:07:05,749 - mmdet - INFO - Epoch [25][90/288]\tlr: 6.021e-06, eta: 0:55:33, time: 1.006, data_time: 0.019, memory: 7613, loss_cls: 0.3708, loss_bbox: 0.1526, loss_bbox_rf: 0.1928, loss: 0.7162, grad_norm: 6.6936\n",
      "2021-05-19 08:07:15,788 - mmdet - INFO - Epoch [25][100/288]\tlr: 5.998e-06, eta: 0:55:23, time: 1.004, data_time: 0.019, memory: 7613, loss_cls: 0.3666, loss_bbox: 0.1558, loss_bbox_rf: 0.1966, loss: 0.7191, grad_norm: 5.7459\n",
      "2021-05-19 08:07:25,867 - mmdet - INFO - Epoch [25][110/288]\tlr: 5.975e-06, eta: 0:55:14, time: 1.008, data_time: 0.019, memory: 7613, loss_cls: 0.3767, loss_bbox: 0.1706, loss_bbox_rf: 0.2175, loss: 0.7648, grad_norm: 5.3623\n",
      "2021-05-19 08:07:35,931 - mmdet - INFO - Epoch [25][120/288]\tlr: 5.952e-06, eta: 0:55:04, time: 1.006, data_time: 0.018, memory: 7613, loss_cls: 0.3510, loss_bbox: 0.1512, loss_bbox_rf: 0.1923, loss: 0.6945, grad_norm: 5.5234\n",
      "2021-05-19 08:07:45,976 - mmdet - INFO - Epoch [25][130/288]\tlr: 5.929e-06, eta: 0:54:54, time: 1.004, data_time: 0.017, memory: 7613, loss_cls: 0.3540, loss_bbox: 0.1445, loss_bbox_rf: 0.1832, loss: 0.6816, grad_norm: 5.1144\n",
      "2021-05-19 08:07:56,035 - mmdet - INFO - Epoch [25][140/288]\tlr: 5.907e-06, eta: 0:54:44, time: 1.006, data_time: 0.018, memory: 7613, loss_cls: 0.3489, loss_bbox: 0.1521, loss_bbox_rf: 0.1932, loss: 0.6941, grad_norm: 5.8772\n",
      "2021-05-19 08:08:06,108 - mmdet - INFO - Epoch [25][150/288]\tlr: 5.885e-06, eta: 0:54:34, time: 1.007, data_time: 0.018, memory: 7613, loss_cls: 0.3625, loss_bbox: 0.1577, loss_bbox_rf: 0.2003, loss: 0.7205, grad_norm: 5.2545\n",
      "2021-05-19 08:08:16,147 - mmdet - INFO - Epoch [25][160/288]\tlr: 5.863e-06, eta: 0:54:24, time: 1.004, data_time: 0.018, memory: 7613, loss_cls: 0.3558, loss_bbox: 0.1514, loss_bbox_rf: 0.1919, loss: 0.6990, grad_norm: 5.1131\n",
      "2021-05-19 08:08:26,197 - mmdet - INFO - Epoch [25][170/288]\tlr: 5.841e-06, eta: 0:54:15, time: 1.005, data_time: 0.018, memory: 7613, loss_cls: 0.3512, loss_bbox: 0.1531, loss_bbox_rf: 0.1947, loss: 0.6990, grad_norm: 5.5599\n",
      "2021-05-19 08:08:36,263 - mmdet - INFO - Epoch [25][180/288]\tlr: 5.820e-06, eta: 0:54:05, time: 1.007, data_time: 0.018, memory: 7613, loss_cls: 0.3768, loss_bbox: 0.1657, loss_bbox_rf: 0.2108, loss: 0.7532, grad_norm: 5.7171\n",
      "2021-05-19 08:08:46,296 - mmdet - INFO - Epoch [25][190/288]\tlr: 5.799e-06, eta: 0:53:55, time: 1.003, data_time: 0.018, memory: 7613, loss_cls: 0.3638, loss_bbox: 0.1565, loss_bbox_rf: 0.1992, loss: 0.7196, grad_norm: 5.8013\n",
      "2021-05-19 08:08:56,331 - mmdet - INFO - Epoch [25][200/288]\tlr: 5.778e-06, eta: 0:53:45, time: 1.003, data_time: 0.018, memory: 7613, loss_cls: 0.3426, loss_bbox: 0.1461, loss_bbox_rf: 0.1830, loss: 0.6717, grad_norm: 6.7305\n",
      "2021-05-19 08:09:06,381 - mmdet - INFO - Epoch [25][210/288]\tlr: 5.758e-06, eta: 0:53:35, time: 1.005, data_time: 0.018, memory: 7613, loss_cls: 0.3896, loss_bbox: 0.1791, loss_bbox_rf: 0.2293, loss: 0.7979, grad_norm: 5.3742\n",
      "2021-05-19 08:09:16,402 - mmdet - INFO - Epoch [25][220/288]\tlr: 5.738e-06, eta: 0:53:25, time: 1.002, data_time: 0.017, memory: 7613, loss_cls: 0.3566, loss_bbox: 0.1474, loss_bbox_rf: 0.1864, loss: 0.6904, grad_norm: 6.0177\n",
      "2021-05-19 08:09:26,447 - mmdet - INFO - Epoch [25][230/288]\tlr: 5.718e-06, eta: 0:53:16, time: 1.004, data_time: 0.018, memory: 7613, loss_cls: 0.3657, loss_bbox: 0.1590, loss_bbox_rf: 0.2020, loss: 0.7267, grad_norm: 7.2589\n",
      "2021-05-19 08:09:36,471 - mmdet - INFO - Epoch [25][240/288]\tlr: 5.698e-06, eta: 0:53:06, time: 1.002, data_time: 0.017, memory: 7613, loss_cls: 0.3840, loss_bbox: 0.1624, loss_bbox_rf: 0.2060, loss: 0.7524, grad_norm: 6.1336\n",
      "2021-05-19 08:09:46,515 - mmdet - INFO - Epoch [25][250/288]\tlr: 5.679e-06, eta: 0:52:56, time: 1.004, data_time: 0.018, memory: 7613, loss_cls: 0.3616, loss_bbox: 0.1583, loss_bbox_rf: 0.2013, loss: 0.7213, grad_norm: 5.6088\n",
      "2021-05-19 08:09:56,560 - mmdet - INFO - Epoch [25][260/288]\tlr: 5.659e-06, eta: 0:52:46, time: 1.004, data_time: 0.018, memory: 7613, loss_cls: 0.3677, loss_bbox: 0.1589, loss_bbox_rf: 0.2020, loss: 0.7286, grad_norm: 5.8219\n",
      "2021-05-19 08:10:06,620 - mmdet - INFO - Epoch [25][270/288]\tlr: 5.641e-06, eta: 0:52:36, time: 1.006, data_time: 0.018, memory: 7613, loss_cls: 0.3613, loss_bbox: 0.1551, loss_bbox_rf: 0.1972, loss: 0.7137, grad_norm: 5.4920\n",
      "2021-05-19 08:10:16,674 - mmdet - INFO - Epoch [25][280/288]\tlr: 5.622e-06, eta: 0:52:26, time: 1.005, data_time: 0.018, memory: 7613, loss_cls: 0.3649, loss_bbox: 0.1592, loss_bbox_rf: 0.2012, loss: 0.7253, grad_norm: 5.3405\n",
      "2021-05-19 08:10:24,792 - mmdet - INFO - Saving checkpoint at 25 epochs\n"
     ]
    },
    {
     "name": "stdout",
     "output_type": "stream",
     "text": [
      "[>>>>>>>>>>>>>>>>>>>>>>>>>>>>>>] 655/655, 7.7 task/s, elapsed: 85s, ETA:     0s"
     ]
    },
    {
     "name": "stderr",
     "output_type": "stream",
     "text": [
      "2021-05-19 08:11:54,725 - mmdet - INFO - Evaluating bbox...\n"
     ]
    },
    {
     "name": "stdout",
     "output_type": "stream",
     "text": [
      "Loading and preparing results...\n",
      "DONE (t=1.76s)\n",
      "creating index...\n",
      "index created!\n",
      "Running per image evaluation...\n",
      "Evaluate annotation type *bbox*\n",
      "DONE (t=11.59s).\n",
      "Accumulating evaluation results...\n",
      "DONE (t=3.22s).\n",
      "Average Precision  (AP) @[ IoU=0.50:0.95 | area=   all | maxDets=100 ] = 0.215\n",
      "Average Precision  (AP) @[ IoU=0.50      | area=   all | maxDets=1000 ] = 0.351\n",
      "Average Precision  (AP) @[ IoU=0.75      | area=   all | maxDets=1000 ] = 0.222\n",
      "Average Precision  (AP) @[ IoU=0.50:0.95 | area= small | maxDets=1000 ] = 0.030\n",
      "Average Precision  (AP) @[ IoU=0.50:0.95 | area=medium | maxDets=1000 ] = 0.178\n",
      "Average Precision  (AP) @[ IoU=0.50:0.95 | area= large | maxDets=1000 ] = 0.434\n",
      "Average Recall     (AR) @[ IoU=0.50:0.95 | area=   all | maxDets=100 ] = 0.399\n",
      "Average Recall     (AR) @[ IoU=0.50:0.95 | area=   all | maxDets=300 ] = 0.399\n",
      "Average Recall     (AR) @[ IoU=0.50:0.95 | area=   all | maxDets=1000 ] = 0.399\n",
      "Average Recall     (AR) @[ IoU=0.50:0.95 | area= small | maxDets=1000 ] = 0.126\n",
      "Average Recall     (AR) @[ IoU=0.50:0.95 | area=medium | maxDets=1000 ] = 0.379\n",
      "Average Recall     (AR) @[ IoU=0.50:0.95 | area= large | maxDets=1000 ] = 0.667\n"
     ]
    },
    {
     "name": "stderr",
     "output_type": "stream",
     "text": [
      "2021-05-19 08:12:11,591 - mmdet - INFO - Epoch(val) [25][288]\tbbox_mAP: 0.2150, bbox_mAP_50: 0.3510, bbox_mAP_75: 0.2220, bbox_mAP_s: 0.0300, bbox_mAP_m: 0.1780, bbox_mAP_l: 0.4340, bbox_mAP_copypaste: 0.215 0.351 0.222 0.030 0.178 0.434\n",
      "2021-05-19 08:12:24,118 - mmdet - INFO - Epoch [26][10/288]\tlr: 5.589e-06, eta: 0:52:06, time: 1.251, data_time: 0.257, memory: 7613, loss_cls: 0.3558, loss_bbox: 0.1563, loss_bbox_rf: 0.1989, loss: 0.7110, grad_norm: 6.0204\n",
      "2021-05-19 08:12:34,209 - mmdet - INFO - Epoch [26][20/288]\tlr: 5.571e-06, eta: 0:51:56, time: 1.009, data_time: 0.019, memory: 7613, loss_cls: 0.3467, loss_bbox: 0.1452, loss_bbox_rf: 0.1829, loss: 0.6748, grad_norm: 6.8089\n",
      "2021-05-19 08:12:44,290 - mmdet - INFO - Epoch [26][30/288]\tlr: 5.554e-06, eta: 0:51:47, time: 1.008, data_time: 0.018, memory: 7613, loss_cls: 0.3581, loss_bbox: 0.1589, loss_bbox_rf: 0.2028, loss: 0.7198, grad_norm: 7.0732\n",
      "2021-05-19 08:12:54,357 - mmdet - INFO - Epoch [26][40/288]\tlr: 5.536e-06, eta: 0:51:37, time: 1.007, data_time: 0.018, memory: 7613, loss_cls: 0.3564, loss_bbox: 0.1599, loss_bbox_rf: 0.2029, loss: 0.7192, grad_norm: 5.8976\n",
      "2021-05-19 08:13:04,427 - mmdet - INFO - Epoch [26][50/288]\tlr: 5.519e-06, eta: 0:51:27, time: 1.007, data_time: 0.018, memory: 7613, loss_cls: 0.3435, loss_bbox: 0.1453, loss_bbox_rf: 0.1826, loss: 0.6715, grad_norm: 7.3606\n",
      "2021-05-19 08:13:14,535 - mmdet - INFO - Epoch [26][60/288]\tlr: 5.502e-06, eta: 0:51:17, time: 1.011, data_time: 0.020, memory: 7613, loss_cls: 0.3431, loss_bbox: 0.1414, loss_bbox_rf: 0.1784, loss: 0.6630, grad_norm: 6.5295\n",
      "2021-05-19 08:13:24,644 - mmdet - INFO - Epoch [26][70/288]\tlr: 5.486e-06, eta: 0:51:07, time: 1.011, data_time: 0.017, memory: 7613, loss_cls: 0.3776, loss_bbox: 0.1855, loss_bbox_rf: 0.2367, loss: 0.7998, grad_norm: 6.9048\n",
      "2021-05-19 08:13:34,755 - mmdet - INFO - Epoch [26][80/288]\tlr: 5.470e-06, eta: 0:50:57, time: 1.011, data_time: 0.017, memory: 7613, loss_cls: 0.3587, loss_bbox: 0.1589, loss_bbox_rf: 0.2024, loss: 0.7199, grad_norm: 7.2941\n",
      "2021-05-19 08:13:44,856 - mmdet - INFO - Epoch [26][90/288]\tlr: 5.454e-06, eta: 0:50:48, time: 1.010, data_time: 0.018, memory: 7613, loss_cls: 0.3521, loss_bbox: 0.1343, loss_bbox_rf: 0.1700, loss: 0.6564, grad_norm: 6.3415\n",
      "2021-05-19 08:13:54,970 - mmdet - INFO - Epoch [26][100/288]\tlr: 5.438e-06, eta: 0:50:38, time: 1.011, data_time: 0.018, memory: 7613, loss_cls: 0.3541, loss_bbox: 0.1498, loss_bbox_rf: 0.1895, loss: 0.6934, grad_norm: 6.1535\n",
      "2021-05-19 08:14:05,105 - mmdet - INFO - Epoch [26][110/288]\tlr: 5.423e-06, eta: 0:50:28, time: 1.014, data_time: 0.019, memory: 7613, loss_cls: 0.3543, loss_bbox: 0.1590, loss_bbox_rf: 0.2029, loss: 0.7161, grad_norm: 5.1516\n",
      "2021-05-19 08:14:15,214 - mmdet - INFO - Epoch [26][120/288]\tlr: 5.408e-06, eta: 0:50:18, time: 1.011, data_time: 0.019, memory: 7613, loss_cls: 0.3501, loss_bbox: 0.1412, loss_bbox_rf: 0.1813, loss: 0.6727, grad_norm: 5.3824\n",
      "2021-05-19 08:14:25,325 - mmdet - INFO - Epoch [26][130/288]\tlr: 5.393e-06, eta: 0:50:08, time: 1.011, data_time: 0.018, memory: 7613, loss_cls: 0.3671, loss_bbox: 0.1574, loss_bbox_rf: 0.2004, loss: 0.7249, grad_norm: 6.2692\n",
      "2021-05-19 08:14:35,432 - mmdet - INFO - Epoch [26][140/288]\tlr: 5.378e-06, eta: 0:49:59, time: 1.011, data_time: 0.019, memory: 7613, loss_cls: 0.3381, loss_bbox: 0.1311, loss_bbox_rf: 0.1652, loss: 0.6345, grad_norm: 6.2589\n",
      "2021-05-19 08:14:45,495 - mmdet - INFO - Epoch [26][150/288]\tlr: 5.364e-06, eta: 0:49:49, time: 1.006, data_time: 0.017, memory: 7613, loss_cls: 0.3521, loss_bbox: 0.1504, loss_bbox_rf: 0.1901, loss: 0.6926, grad_norm: 6.6013\n",
      "2021-05-19 08:14:55,591 - mmdet - INFO - Epoch [26][160/288]\tlr: 5.350e-06, eta: 0:49:39, time: 1.010, data_time: 0.018, memory: 7613, loss_cls: 0.3541, loss_bbox: 0.1490, loss_bbox_rf: 0.1883, loss: 0.6913, grad_norm: 6.8749\n",
      "2021-05-19 08:15:05,660 - mmdet - INFO - Epoch [26][170/288]\tlr: 5.336e-06, eta: 0:49:29, time: 1.007, data_time: 0.019, memory: 7613, loss_cls: 0.3517, loss_bbox: 0.1536, loss_bbox_rf: 0.1953, loss: 0.7006, grad_norm: 6.4977\n",
      "2021-05-19 08:15:15,698 - mmdet - INFO - Epoch [26][180/288]\tlr: 5.322e-06, eta: 0:49:19, time: 1.004, data_time: 0.018, memory: 7613, loss_cls: 0.3510, loss_bbox: 0.1535, loss_bbox_rf: 0.1942, loss: 0.6986, grad_norm: 7.1749\n",
      "2021-05-19 08:15:25,732 - mmdet - INFO - Epoch [26][190/288]\tlr: 5.309e-06, eta: 0:49:09, time: 1.003, data_time: 0.017, memory: 7613, loss_cls: 0.3537, loss_bbox: 0.1450, loss_bbox_rf: 0.1837, loss: 0.6825, grad_norm: 6.1476\n",
      "2021-05-19 08:15:35,752 - mmdet - INFO - Epoch [26][200/288]\tlr: 5.296e-06, eta: 0:48:59, time: 1.002, data_time: 0.018, memory: 7613, loss_cls: 0.3487, loss_bbox: 0.1472, loss_bbox_rf: 0.1866, loss: 0.6826, grad_norm: 5.7634\n",
      "2021-05-19 08:15:45,782 - mmdet - INFO - Epoch [26][210/288]\tlr: 5.284e-06, eta: 0:48:50, time: 1.003, data_time: 0.017, memory: 7613, loss_cls: 0.3592, loss_bbox: 0.1612, loss_bbox_rf: 0.2054, loss: 0.7258, grad_norm: 5.3539\n",
      "2021-05-19 08:15:55,820 - mmdet - INFO - Epoch [26][220/288]\tlr: 5.271e-06, eta: 0:48:40, time: 1.004, data_time: 0.018, memory: 7613, loss_cls: 0.3379, loss_bbox: 0.1350, loss_bbox_rf: 0.1709, loss: 0.6438, grad_norm: 6.4214\n",
      "2021-05-19 08:16:05,886 - mmdet - INFO - Epoch [26][230/288]\tlr: 5.259e-06, eta: 0:48:30, time: 1.007, data_time: 0.018, memory: 7613, loss_cls: 0.3567, loss_bbox: 0.1433, loss_bbox_rf: 0.1818, loss: 0.6818, grad_norm: 6.3212\n",
      "2021-05-19 08:16:15,937 - mmdet - INFO - Epoch [26][240/288]\tlr: 5.247e-06, eta: 0:48:20, time: 1.005, data_time: 0.018, memory: 7613, loss_cls: 0.3504, loss_bbox: 0.1474, loss_bbox_rf: 0.1875, loss: 0.6853, grad_norm: 4.8485\n",
      "2021-05-19 08:16:25,985 - mmdet - INFO - Epoch [26][250/288]\tlr: 5.236e-06, eta: 0:48:10, time: 1.005, data_time: 0.018, memory: 7613, loss_cls: 0.3641, loss_bbox: 0.1591, loss_bbox_rf: 0.2018, loss: 0.7250, grad_norm: 5.6125\n",
      "2021-05-19 08:16:35,988 - mmdet - INFO - Epoch [26][260/288]\tlr: 5.224e-06, eta: 0:48:00, time: 1.000, data_time: 0.017, memory: 7613, loss_cls: 0.3622, loss_bbox: 0.1491, loss_bbox_rf: 0.1891, loss: 0.7003, grad_norm: 5.4003\n",
      "2021-05-19 08:16:46,099 - mmdet - INFO - Epoch [26][270/288]\tlr: 5.213e-06, eta: 0:47:51, time: 1.011, data_time: 0.019, memory: 7613, loss_cls: 0.3431, loss_bbox: 0.1459, loss_bbox_rf: 0.1854, loss: 0.6744, grad_norm: 5.9700\n",
      "2021-05-19 08:16:56,120 - mmdet - INFO - Epoch [26][280/288]\tlr: 5.203e-06, eta: 0:47:41, time: 1.002, data_time: 0.019, memory: 7613, loss_cls: 0.3490, loss_bbox: 0.1603, loss_bbox_rf: 0.2058, loss: 0.7151, grad_norm: 6.5812\n",
      "2021-05-19 08:17:04,225 - mmdet - INFO - Saving checkpoint at 26 epochs\n"
     ]
    },
    {
     "name": "stdout",
     "output_type": "stream",
     "text": [
      "[>>>>>>>>>>>>>>>>>>>>>>>>>>>>>>] 655/655, 7.2 task/s, elapsed: 91s, ETA:     0s"
     ]
    },
    {
     "name": "stderr",
     "output_type": "stream",
     "text": [
      "2021-05-19 08:18:39,108 - mmdet - INFO - Evaluating bbox...\n"
     ]
    },
    {
     "name": "stdout",
     "output_type": "stream",
     "text": [
      "Loading and preparing results...\n",
      "DONE (t=2.38s)\n",
      "creating index...\n",
      "index created!\n",
      "Running per image evaluation...\n",
      "Evaluate annotation type *bbox*\n",
      "DONE (t=10.87s).\n",
      "Accumulating evaluation results...\n",
      "DONE (t=3.24s).\n",
      "Average Precision  (AP) @[ IoU=0.50:0.95 | area=   all | maxDets=100 ] = 0.209\n",
      "Average Precision  (AP) @[ IoU=0.50      | area=   all | maxDets=1000 ] = 0.349\n",
      "Average Precision  (AP) @[ IoU=0.75      | area=   all | maxDets=1000 ] = 0.216\n",
      "Average Precision  (AP) @[ IoU=0.50:0.95 | area= small | maxDets=1000 ] = 0.027\n",
      "Average Precision  (AP) @[ IoU=0.50:0.95 | area=medium | maxDets=1000 ] = 0.177\n",
      "Average Precision  (AP) @[ IoU=0.50:0.95 | area= large | maxDets=1000 ] = 0.430\n",
      "Average Recall     (AR) @[ IoU=0.50:0.95 | area=   all | maxDets=100 ] = 0.395\n",
      "Average Recall     (AR) @[ IoU=0.50:0.95 | area=   all | maxDets=300 ] = 0.395\n",
      "Average Recall     (AR) @[ IoU=0.50:0.95 | area=   all | maxDets=1000 ] = 0.395\n",
      "Average Recall     (AR) @[ IoU=0.50:0.95 | area= small | maxDets=1000 ] = 0.124\n",
      "Average Recall     (AR) @[ IoU=0.50:0.95 | area=medium | maxDets=1000 ] = 0.381\n",
      "Average Recall     (AR) @[ IoU=0.50:0.95 | area= large | maxDets=1000 ] = 0.664\n"
     ]
    },
    {
     "name": "stderr",
     "output_type": "stream",
     "text": [
      "2021-05-19 08:18:55,884 - mmdet - INFO - Epoch(val) [26][288]\tbbox_mAP: 0.2090, bbox_mAP_50: 0.3490, bbox_mAP_75: 0.2160, bbox_mAP_s: 0.0270, bbox_mAP_m: 0.1770, bbox_mAP_l: 0.4300, bbox_mAP_copypaste: 0.209 0.349 0.216 0.027 0.177 0.430\n",
      "2021-05-19 08:19:08,511 - mmdet - INFO - Epoch [27][10/288]\tlr: 5.184e-06, eta: 0:47:21, time: 1.261, data_time: 0.256, memory: 7613, loss_cls: 0.3396, loss_bbox: 0.1431, loss_bbox_rf: 0.1812, loss: 0.6639, grad_norm: 6.8423\n",
      "2021-05-19 08:19:18,677 - mmdet - INFO - Epoch [27][20/288]\tlr: 5.174e-06, eta: 0:47:11, time: 1.017, data_time: 0.018, memory: 7613, loss_cls: 0.3488, loss_bbox: 0.1444, loss_bbox_rf: 0.1825, loss: 0.6758, grad_norm: 5.6098\n",
      "2021-05-19 08:19:28,867 - mmdet - INFO - Epoch [27][30/288]\tlr: 5.164e-06, eta: 0:47:01, time: 1.019, data_time: 0.018, memory: 7613, loss_cls: 0.3398, loss_bbox: 0.1463, loss_bbox_rf: 0.1866, loss: 0.6728, grad_norm: 5.7163\n",
      "2021-05-19 08:19:39,197 - mmdet - INFO - Epoch [27][40/288]\tlr: 5.155e-06, eta: 0:46:51, time: 1.033, data_time: 0.020, memory: 7613, loss_cls: 0.3383, loss_bbox: 0.1455, loss_bbox_rf: 0.1839, loss: 0.6678, grad_norm: 5.0455\n",
      "2021-05-19 08:19:49,409 - mmdet - INFO - Epoch [27][50/288]\tlr: 5.146e-06, eta: 0:46:42, time: 1.021, data_time: 0.019, memory: 7613, loss_cls: 0.3502, loss_bbox: 0.1427, loss_bbox_rf: 0.1815, loss: 0.6745, grad_norm: 5.2194\n",
      "2021-05-19 08:19:59,575 - mmdet - INFO - Epoch [27][60/288]\tlr: 5.137e-06, eta: 0:46:32, time: 1.017, data_time: 0.018, memory: 7613, loss_cls: 0.3473, loss_bbox: 0.1542, loss_bbox_rf: 0.1955, loss: 0.6971, grad_norm: 5.3647\n",
      "2021-05-19 08:20:09,803 - mmdet - INFO - Epoch [27][70/288]\tlr: 5.128e-06, eta: 0:46:22, time: 1.023, data_time: 0.020, memory: 7613, loss_cls: 0.3419, loss_bbox: 0.1438, loss_bbox_rf: 0.1818, loss: 0.6675, grad_norm: 6.0090\n",
      "2021-05-19 08:20:19,949 - mmdet - INFO - Epoch [27][80/288]\tlr: 5.120e-06, eta: 0:46:12, time: 1.015, data_time: 0.018, memory: 7613, loss_cls: 0.3533, loss_bbox: 0.1572, loss_bbox_rf: 0.2008, loss: 0.7113, grad_norm: 5.3929\n",
      "2021-05-19 08:20:30,159 - mmdet - INFO - Epoch [27][90/288]\tlr: 5.112e-06, eta: 0:46:03, time: 1.021, data_time: 0.018, memory: 7613, loss_cls: 0.3410, loss_bbox: 0.1450, loss_bbox_rf: 0.1848, loss: 0.6708, grad_norm: 6.6611\n",
      "2021-05-19 08:20:40,354 - mmdet - INFO - Epoch [27][100/288]\tlr: 5.104e-06, eta: 0:45:53, time: 1.019, data_time: 0.020, memory: 7613, loss_cls: 0.3542, loss_bbox: 0.1578, loss_bbox_rf: 0.2017, loss: 0.7137, grad_norm: 5.9049\n",
      "2021-05-19 08:20:50,447 - mmdet - INFO - Epoch [27][110/288]\tlr: 5.097e-06, eta: 0:45:43, time: 1.009, data_time: 0.019, memory: 7613, loss_cls: 0.3383, loss_bbox: 0.1463, loss_bbox_rf: 0.1867, loss: 0.6713, grad_norm: 5.7765\n",
      "2021-05-19 08:21:00,739 - mmdet - INFO - Epoch [27][120/288]\tlr: 5.089e-06, eta: 0:45:33, time: 1.029, data_time: 0.019, memory: 7613, loss_cls: 0.3501, loss_bbox: 0.1559, loss_bbox_rf: 0.1980, loss: 0.7040, grad_norm: 4.4401\n",
      "2021-05-19 08:21:11,287 - mmdet - INFO - Epoch [27][130/288]\tlr: 5.082e-06, eta: 0:45:23, time: 1.055, data_time: 0.019, memory: 7613, loss_cls: 0.3418, loss_bbox: 0.1464, loss_bbox_rf: 0.1850, loss: 0.6732, grad_norm: 5.7557\n",
      "2021-05-19 08:21:21,798 - mmdet - INFO - Epoch [27][140/288]\tlr: 5.076e-06, eta: 0:45:14, time: 1.051, data_time: 0.019, memory: 7613, loss_cls: 0.3461, loss_bbox: 0.1523, loss_bbox_rf: 0.1941, loss: 0.6925, grad_norm: 5.0140\n",
      "2021-05-19 08:21:31,878 - mmdet - INFO - Epoch [27][150/288]\tlr: 5.069e-06, eta: 0:45:04, time: 1.008, data_time: 0.019, memory: 7613, loss_cls: 0.3347, loss_bbox: 0.1354, loss_bbox_rf: 0.1717, loss: 0.6418, grad_norm: 4.7119\n",
      "2021-05-19 08:21:41,984 - mmdet - INFO - Epoch [27][160/288]\tlr: 5.063e-06, eta: 0:44:54, time: 1.011, data_time: 0.018, memory: 7613, loss_cls: 0.3350, loss_bbox: 0.1383, loss_bbox_rf: 0.1748, loss: 0.6481, grad_norm: 5.4545\n",
      "2021-05-19 08:21:52,155 - mmdet - INFO - Epoch [27][170/288]\tlr: 5.058e-06, eta: 0:44:44, time: 1.017, data_time: 0.018, memory: 7613, loss_cls: 0.3508, loss_bbox: 0.1533, loss_bbox_rf: 0.1950, loss: 0.6991, grad_norm: 6.6503\n",
      "2021-05-19 08:22:02,430 - mmdet - INFO - Epoch [27][180/288]\tlr: 5.052e-06, eta: 0:44:34, time: 1.027, data_time: 0.019, memory: 7613, loss_cls: 0.3530, loss_bbox: 0.1541, loss_bbox_rf: 0.1958, loss: 0.7029, grad_norm: 6.3313\n",
      "2021-05-19 08:22:12,505 - mmdet - INFO - Epoch [27][190/288]\tlr: 5.047e-06, eta: 0:44:25, time: 1.007, data_time: 0.018, memory: 7613, loss_cls: 0.3531, loss_bbox: 0.1604, loss_bbox_rf: 0.2057, loss: 0.7193, grad_norm: 5.1060\n",
      "2021-05-19 08:22:22,619 - mmdet - INFO - Epoch [27][200/288]\tlr: 5.042e-06, eta: 0:44:15, time: 1.011, data_time: 0.018, memory: 7613, loss_cls: 0.3453, loss_bbox: 0.1524, loss_bbox_rf: 0.1942, loss: 0.6919, grad_norm: 6.1173\n",
      "2021-05-19 08:22:32,745 - mmdet - INFO - Epoch [27][210/288]\tlr: 5.037e-06, eta: 0:44:05, time: 1.012, data_time: 0.018, memory: 7613, loss_cls: 0.3422, loss_bbox: 0.1405, loss_bbox_rf: 0.1781, loss: 0.6609, grad_norm: 5.1569\n",
      "2021-05-19 08:22:42,895 - mmdet - INFO - Epoch [27][220/288]\tlr: 5.033e-06, eta: 0:43:55, time: 1.015, data_time: 0.021, memory: 7613, loss_cls: 0.3504, loss_bbox: 0.1509, loss_bbox_rf: 0.1918, loss: 0.6931, grad_norm: 4.6597\n",
      "2021-05-19 08:22:53,092 - mmdet - INFO - Epoch [27][230/288]\tlr: 5.029e-06, eta: 0:43:45, time: 1.020, data_time: 0.020, memory: 7613, loss_cls: 0.3547, loss_bbox: 0.1564, loss_bbox_rf: 0.2000, loss: 0.7111, grad_norm: 5.4327\n",
      "2021-05-19 08:23:03,271 - mmdet - INFO - Epoch [27][240/288]\tlr: 5.025e-06, eta: 0:43:36, time: 1.018, data_time: 0.019, memory: 7613, loss_cls: 0.3285, loss_bbox: 0.1370, loss_bbox_rf: 0.1725, loss: 0.6379, grad_norm: 5.4593\n",
      "2021-05-19 08:23:13,359 - mmdet - INFO - Epoch [27][250/288]\tlr: 5.021e-06, eta: 0:43:26, time: 1.009, data_time: 0.018, memory: 7613, loss_cls: 0.3484, loss_bbox: 0.1526, loss_bbox_rf: 0.1931, loss: 0.6941, grad_norm: 5.9929\n",
      "2021-05-19 08:23:23,426 - mmdet - INFO - Epoch [27][260/288]\tlr: 5.018e-06, eta: 0:43:16, time: 1.007, data_time: 0.017, memory: 7613, loss_cls: 0.3430, loss_bbox: 0.1401, loss_bbox_rf: 0.1774, loss: 0.6605, grad_norm: 6.3512\n",
      "2021-05-19 08:23:33,510 - mmdet - INFO - Epoch [27][270/288]\tlr: 5.015e-06, eta: 0:43:06, time: 1.008, data_time: 0.017, memory: 7613, loss_cls: 0.3396, loss_bbox: 0.1414, loss_bbox_rf: 0.1780, loss: 0.6590, grad_norm: 5.4180\n",
      "2021-05-19 08:23:43,582 - mmdet - INFO - Epoch [27][280/288]\tlr: 5.012e-06, eta: 0:42:56, time: 1.007, data_time: 0.017, memory: 7613, loss_cls: 0.3507, loss_bbox: 0.1531, loss_bbox_rf: 0.1945, loss: 0.6983, grad_norm: 5.4162\n",
      "2021-05-19 08:23:51,730 - mmdet - INFO - Saving checkpoint at 27 epochs\n"
     ]
    },
    {
     "name": "stdout",
     "output_type": "stream",
     "text": [
      "[>>>>>>>>>>>>>>>>>>>>>>>>>>>>>>] 655/655, 7.5 task/s, elapsed: 87s, ETA:     0s"
     ]
    },
    {
     "name": "stderr",
     "output_type": "stream",
     "text": [
      "2021-05-19 08:25:24,241 - mmdet - INFO - Evaluating bbox...\n"
     ]
    },
    {
     "name": "stdout",
     "output_type": "stream",
     "text": [
      "Loading and preparing results...\n",
      "DONE (t=1.77s)\n",
      "creating index...\n",
      "index created!\n",
      "Running per image evaluation...\n",
      "Evaluate annotation type *bbox*\n",
      "DONE (t=11.65s).\n",
      "Accumulating evaluation results...\n"
     ]
    },
    {
     "name": "stderr",
     "output_type": "stream",
     "text": [
      "2021-05-19 08:25:41,095 - mmdet - INFO - Epoch(val) [27][288]\tbbox_mAP: 0.2100, bbox_mAP_50: 0.3530, bbox_mAP_75: 0.2160, bbox_mAP_s: 0.0240, bbox_mAP_m: 0.1790, bbox_mAP_l: 0.4300, bbox_mAP_copypaste: 0.210 0.353 0.216 0.024 0.179 0.430\n"
     ]
    },
    {
     "name": "stdout",
     "output_type": "stream",
     "text": [
      "DONE (t=3.15s).\n",
      "Average Precision  (AP) @[ IoU=0.50:0.95 | area=   all | maxDets=100 ] = 0.210\n",
      "Average Precision  (AP) @[ IoU=0.50      | area=   all | maxDets=1000 ] = 0.353\n",
      "Average Precision  (AP) @[ IoU=0.75      | area=   all | maxDets=1000 ] = 0.216\n",
      "Average Precision  (AP) @[ IoU=0.50:0.95 | area= small | maxDets=1000 ] = 0.024\n",
      "Average Precision  (AP) @[ IoU=0.50:0.95 | area=medium | maxDets=1000 ] = 0.179\n",
      "Average Precision  (AP) @[ IoU=0.50:0.95 | area= large | maxDets=1000 ] = 0.430\n",
      "Average Recall     (AR) @[ IoU=0.50:0.95 | area=   all | maxDets=100 ] = 0.389\n",
      "Average Recall     (AR) @[ IoU=0.50:0.95 | area=   all | maxDets=300 ] = 0.390\n",
      "Average Recall     (AR) @[ IoU=0.50:0.95 | area=   all | maxDets=1000 ] = 0.390\n",
      "Average Recall     (AR) @[ IoU=0.50:0.95 | area= small | maxDets=1000 ] = 0.124\n",
      "Average Recall     (AR) @[ IoU=0.50:0.95 | area=medium | maxDets=1000 ] = 0.369\n",
      "Average Recall     (AR) @[ IoU=0.50:0.95 | area= large | maxDets=1000 ] = 0.660\n"
     ]
    },
    {
     "name": "stderr",
     "output_type": "stream",
     "text": [
      "2021-05-19 08:25:53,798 - mmdet - INFO - Epoch [28][10/288]\tlr: 5.008e-06, eta: 0:42:37, time: 1.269, data_time: 0.260, memory: 7613, loss_cls: 0.3313, loss_bbox: 0.1376, loss_bbox_rf: 0.1753, loss: 0.6443, grad_norm: 6.2646\n",
      "2021-05-19 08:26:04,179 - mmdet - INFO - Epoch [28][20/288]\tlr: 5.006e-06, eta: 0:42:27, time: 1.038, data_time: 0.020, memory: 7613, loss_cls: 0.3574, loss_bbox: 0.1541, loss_bbox_rf: 0.1968, loss: 0.7083, grad_norm: 6.2638\n",
      "2021-05-19 08:26:14,716 - mmdet - INFO - Epoch [28][30/288]\tlr: 5.004e-06, eta: 0:42:17, time: 1.054, data_time: 0.020, memory: 7613, loss_cls: 0.3556, loss_bbox: 0.1616, loss_bbox_rf: 0.2061, loss: 0.7233, grad_norm: 4.3971\n",
      "2021-05-19 08:26:25,202 - mmdet - INFO - Epoch [28][40/288]\tlr: 5.003e-06, eta: 0:42:07, time: 1.049, data_time: 0.020, memory: 7613, loss_cls: 0.3287, loss_bbox: 0.1345, loss_bbox_rf: 0.1699, loss: 0.6331, grad_norm: 5.7649\n",
      "2021-05-19 08:26:35,775 - mmdet - INFO - Epoch [28][50/288]\tlr: 5.002e-06, eta: 0:41:58, time: 1.057, data_time: 0.020, memory: 7613, loss_cls: 0.3482, loss_bbox: 0.1507, loss_bbox_rf: 0.1911, loss: 0.6900, grad_norm: 5.8420\n",
      "2021-05-19 08:26:46,236 - mmdet - INFO - Epoch [28][60/288]\tlr: 5.001e-06, eta: 0:41:48, time: 1.046, data_time: 0.020, memory: 7613, loss_cls: 0.3272, loss_bbox: 0.1396, loss_bbox_rf: 0.1773, loss: 0.6442, grad_norm: 6.8882\n",
      "2021-05-19 08:26:56,411 - mmdet - INFO - Epoch [28][70/288]\tlr: 5.000e-06, eta: 0:41:38, time: 1.018, data_time: 0.019, memory: 7613, loss_cls: 0.3423, loss_bbox: 0.1416, loss_bbox_rf: 0.1798, loss: 0.6637, grad_norm: 6.3254\n",
      "2021-05-19 08:27:06,511 - mmdet - INFO - Epoch [28][80/288]\tlr: 5.000e-06, eta: 0:41:28, time: 1.010, data_time: 0.018, memory: 7613, loss_cls: 0.3500, loss_bbox: 0.1467, loss_bbox_rf: 0.1858, loss: 0.6825, grad_norm: 5.3423\n",
      "2021-05-19 08:27:16,564 - mmdet - INFO - Epoch [28][90/288]\tlr: 2.950e-05, eta: 0:41:18, time: 1.005, data_time: 0.017, memory: 7613, loss_cls: 0.3674, loss_bbox: 0.1545, loss_bbox_rf: 0.1973, loss: 0.7191, grad_norm: 6.7389\n",
      "2021-05-19 08:27:26,694 - mmdet - INFO - Epoch [28][100/288]\tlr: 2.950e-05, eta: 0:41:09, time: 1.013, data_time: 0.017, memory: 7613, loss_cls: 0.3773, loss_bbox: 0.1582, loss_bbox_rf: 0.2000, loss: 0.7355, grad_norm: 11.2609\n",
      "2021-05-19 08:27:37,004 - mmdet - INFO - Epoch [28][110/288]\tlr: 2.950e-05, eta: 0:40:59, time: 1.031, data_time: 0.019, memory: 7613, loss_cls: 0.3978, loss_bbox: 0.1672, loss_bbox_rf: 0.2112, loss: 0.7761, grad_norm: 12.6000\n",
      "2021-05-19 08:27:47,235 - mmdet - INFO - Epoch [28][120/288]\tlr: 2.950e-05, eta: 0:40:49, time: 1.023, data_time: 0.018, memory: 7613, loss_cls: 0.4196, loss_bbox: 0.1797, loss_bbox_rf: 0.2264, loss: 0.8258, grad_norm: 11.1976\n",
      "2021-05-19 08:27:57,408 - mmdet - INFO - Epoch [28][130/288]\tlr: 2.950e-05, eta: 0:40:39, time: 1.017, data_time: 0.020, memory: 7613, loss_cls: 0.4103, loss_bbox: 0.1695, loss_bbox_rf: 0.2139, loss: 0.7937, grad_norm: 10.7329\n",
      "2021-05-19 08:28:07,789 - mmdet - INFO - Epoch [28][140/288]\tlr: 2.950e-05, eta: 0:40:29, time: 1.038, data_time: 0.021, memory: 7613, loss_cls: 0.4646, loss_bbox: 0.1958, loss_bbox_rf: 0.2491, loss: 0.9094, grad_norm: 10.7873\n",
      "2021-05-19 08:28:17,959 - mmdet - INFO - Epoch [28][150/288]\tlr: 2.950e-05, eta: 0:40:20, time: 1.017, data_time: 0.019, memory: 7613, loss_cls: 0.4845, loss_bbox: 0.1931, loss_bbox_rf: 0.2408, loss: 0.9184, grad_norm: 12.6481\n",
      "2021-05-19 08:28:28,141 - mmdet - INFO - Epoch [28][160/288]\tlr: 2.949e-05, eta: 0:40:10, time: 1.018, data_time: 0.017, memory: 7613, loss_cls: 0.4985, loss_bbox: 0.1919, loss_bbox_rf: 0.2417, loss: 0.9321, grad_norm: 13.1708\n",
      "2021-05-19 08:28:38,504 - mmdet - INFO - Epoch [28][170/288]\tlr: 2.949e-05, eta: 0:40:00, time: 1.036, data_time: 0.019, memory: 7613, loss_cls: 0.5002, loss_bbox: 0.1930, loss_bbox_rf: 0.2423, loss: 0.9356, grad_norm: 12.4367\n",
      "2021-05-19 08:28:48,720 - mmdet - INFO - Epoch [28][180/288]\tlr: 2.949e-05, eta: 0:39:50, time: 1.022, data_time: 0.019, memory: 7613, loss_cls: 0.5439, loss_bbox: 0.2060, loss_bbox_rf: 0.2586, loss: 1.0085, grad_norm: 14.3693\n",
      "2021-05-19 08:28:58,756 - mmdet - INFO - Epoch [28][190/288]\tlr: 2.949e-05, eta: 0:39:40, time: 1.004, data_time: 0.018, memory: 7613, loss_cls: 0.5613, loss_bbox: 0.2163, loss_bbox_rf: 0.2704, loss: 1.0480, grad_norm: 12.7714\n",
      "2021-05-19 08:29:08,897 - mmdet - INFO - Epoch [28][200/288]\tlr: 2.949e-05, eta: 0:39:30, time: 1.014, data_time: 0.018, memory: 7613, loss_cls: 0.5430, loss_bbox: 0.2074, loss_bbox_rf: 0.2613, loss: 1.0117, grad_norm: 13.5270\n",
      "2021-05-19 08:29:19,041 - mmdet - INFO - Epoch [28][210/288]\tlr: 2.948e-05, eta: 0:39:21, time: 1.014, data_time: 0.018, memory: 7613, loss_cls: 0.5533, loss_bbox: 0.2144, loss_bbox_rf: 0.2708, loss: 1.0385, grad_norm: 12.3394\n",
      "2021-05-19 08:29:29,156 - mmdet - INFO - Epoch [28][220/288]\tlr: 2.948e-05, eta: 0:39:11, time: 1.012, data_time: 0.018, memory: 7613, loss_cls: 0.5597, loss_bbox: 0.2264, loss_bbox_rf: 0.2856, loss: 1.0717, grad_norm: 10.1848\n",
      "2021-05-19 08:29:39,251 - mmdet - INFO - Epoch [28][230/288]\tlr: 2.948e-05, eta: 0:39:01, time: 1.009, data_time: 0.018, memory: 7613, loss_cls: 0.5218, loss_bbox: 0.2028, loss_bbox_rf: 0.2522, loss: 0.9768, grad_norm: 9.9342\n",
      "2021-05-19 08:29:49,421 - mmdet - INFO - Epoch [28][240/288]\tlr: 2.948e-05, eta: 0:38:51, time: 1.017, data_time: 0.019, memory: 7613, loss_cls: 0.5562, loss_bbox: 0.2372, loss_bbox_rf: 0.2985, loss: 1.0919, grad_norm: 11.5153\n",
      "2021-05-19 08:29:59,550 - mmdet - INFO - Epoch [28][250/288]\tlr: 2.947e-05, eta: 0:38:41, time: 1.013, data_time: 0.017, memory: 7613, loss_cls: 0.5353, loss_bbox: 0.2137, loss_bbox_rf: 0.2703, loss: 1.0193, grad_norm: 10.3739\n",
      "2021-05-19 08:30:09,751 - mmdet - INFO - Epoch [28][260/288]\tlr: 2.947e-05, eta: 0:38:31, time: 1.020, data_time: 0.018, memory: 7613, loss_cls: 0.5431, loss_bbox: 0.2144, loss_bbox_rf: 0.2704, loss: 1.0279, grad_norm: 11.6588\n",
      "2021-05-19 08:30:20,067 - mmdet - INFO - Epoch [28][270/288]\tlr: 2.947e-05, eta: 0:38:22, time: 1.032, data_time: 0.020, memory: 7613, loss_cls: 0.5238, loss_bbox: 0.2148, loss_bbox_rf: 0.2697, loss: 1.0082, grad_norm: 11.5220\n",
      "2021-05-19 08:30:30,561 - mmdet - INFO - Epoch [28][280/288]\tlr: 2.946e-05, eta: 0:38:12, time: 1.049, data_time: 0.019, memory: 7613, loss_cls: 0.5413, loss_bbox: 0.2014, loss_bbox_rf: 0.2524, loss: 0.9951, grad_norm: 11.4590\n",
      "2021-05-19 08:30:39,116 - mmdet - INFO - Saving checkpoint at 28 epochs\n"
     ]
    },
    {
     "name": "stdout",
     "output_type": "stream",
     "text": [
      "[>>>>>>>>>>>>>>>>>>>>>>>>>>>>>>] 655/655, 6.7 task/s, elapsed: 97s, ETA:     0s"
     ]
    },
    {
     "name": "stderr",
     "output_type": "stream",
     "text": [
      "2021-05-19 08:32:20,803 - mmdet - INFO - Evaluating bbox...\n"
     ]
    },
    {
     "name": "stdout",
     "output_type": "stream",
     "text": [
      "Loading and preparing results...\n",
      "DONE (t=1.75s)\n",
      "creating index...\n",
      "index created!\n",
      "Running per image evaluation...\n",
      "Evaluate annotation type *bbox*\n",
      "DONE (t=11.95s).\n",
      "Accumulating evaluation results...\n"
     ]
    },
    {
     "name": "stderr",
     "output_type": "stream",
     "text": [
      "2021-05-19 08:32:38,123 - mmdet - INFO - Epoch(val) [28][288]\tbbox_mAP: 0.1720, bbox_mAP_50: 0.2890, bbox_mAP_75: 0.1820, bbox_mAP_s: 0.0270, bbox_mAP_m: 0.1570, bbox_mAP_l: 0.3790, bbox_mAP_copypaste: 0.172 0.289 0.182 0.027 0.157 0.379\n"
     ]
    },
    {
     "name": "stdout",
     "output_type": "stream",
     "text": [
      "DONE (t=3.33s).\n",
      "Average Precision  (AP) @[ IoU=0.50:0.95 | area=   all | maxDets=100 ] = 0.172\n",
      "Average Precision  (AP) @[ IoU=0.50      | area=   all | maxDets=1000 ] = 0.289\n",
      "Average Precision  (AP) @[ IoU=0.75      | area=   all | maxDets=1000 ] = 0.182\n",
      "Average Precision  (AP) @[ IoU=0.50:0.95 | area= small | maxDets=1000 ] = 0.027\n",
      "Average Precision  (AP) @[ IoU=0.50:0.95 | area=medium | maxDets=1000 ] = 0.157\n",
      "Average Precision  (AP) @[ IoU=0.50:0.95 | area= large | maxDets=1000 ] = 0.379\n",
      "Average Recall     (AR) @[ IoU=0.50:0.95 | area=   all | maxDets=100 ] = 0.392\n",
      "Average Recall     (AR) @[ IoU=0.50:0.95 | area=   all | maxDets=300 ] = 0.392\n",
      "Average Recall     (AR) @[ IoU=0.50:0.95 | area=   all | maxDets=1000 ] = 0.392\n",
      "Average Recall     (AR) @[ IoU=0.50:0.95 | area= small | maxDets=1000 ] = 0.130\n",
      "Average Recall     (AR) @[ IoU=0.50:0.95 | area=medium | maxDets=1000 ] = 0.386\n",
      "Average Recall     (AR) @[ IoU=0.50:0.95 | area= large | maxDets=1000 ] = 0.631\n"
     ]
    },
    {
     "name": "stderr",
     "output_type": "stream",
     "text": [
      "2021-05-19 08:32:50,916 - mmdet - INFO - Epoch [29][10/288]\tlr: 2.946e-05, eta: 0:37:53, time: 1.277, data_time: 0.257, memory: 7613, loss_cls: 0.5321, loss_bbox: 0.2058, loss_bbox_rf: 0.2568, loss: 0.9947, grad_norm: 11.0417\n",
      "2021-05-19 08:33:01,484 - mmdet - INFO - Epoch [29][20/288]\tlr: 2.945e-05, eta: 0:37:43, time: 1.057, data_time: 0.019, memory: 7613, loss_cls: 0.5292, loss_bbox: 0.2154, loss_bbox_rf: 0.2703, loss: 1.0150, grad_norm: 11.1259\n",
      "2021-05-19 08:33:12,033 - mmdet - INFO - Epoch [29][30/288]\tlr: 2.945e-05, eta: 0:37:33, time: 1.055, data_time: 0.021, memory: 7613, loss_cls: 0.5224, loss_bbox: 0.2183, loss_bbox_rf: 0.2769, loss: 1.0176, grad_norm: 11.4177\n",
      "2021-05-19 08:33:22,345 - mmdet - INFO - Epoch [29][40/288]\tlr: 2.944e-05, eta: 0:37:23, time: 1.031, data_time: 0.019, memory: 7613, loss_cls: 0.5199, loss_bbox: 0.2070, loss_bbox_rf: 0.2605, loss: 0.9875, grad_norm: 11.0805\n",
      "2021-05-19 08:33:32,724 - mmdet - INFO - Epoch [29][50/288]\tlr: 2.944e-05, eta: 0:37:14, time: 1.038, data_time: 0.020, memory: 7613, loss_cls: 0.5347, loss_bbox: 0.2432, loss_bbox_rf: 0.3062, loss: 1.0841, grad_norm: 10.1659\n",
      "2021-05-19 08:33:43,344 - mmdet - INFO - Epoch [29][60/288]\tlr: 2.943e-05, eta: 0:37:04, time: 1.062, data_time: 0.019, memory: 7613, loss_cls: 0.5059, loss_bbox: 0.2119, loss_bbox_rf: 0.2682, loss: 0.9860, grad_norm: 11.5305\n",
      "2021-05-19 08:33:53,921 - mmdet - INFO - Epoch [29][70/288]\tlr: 2.943e-05, eta: 0:36:54, time: 1.058, data_time: 0.019, memory: 7613, loss_cls: 0.5310, loss_bbox: 0.2104, loss_bbox_rf: 0.2673, loss: 1.0087, grad_norm: 10.2083\n",
      "2021-05-19 08:34:04,449 - mmdet - INFO - Epoch [29][80/288]\tlr: 2.942e-05, eta: 0:36:44, time: 1.053, data_time: 0.019, memory: 7613, loss_cls: 0.5178, loss_bbox: 0.2056, loss_bbox_rf: 0.2596, loss: 0.9831, grad_norm: 9.5748\n",
      "2021-05-19 08:34:14,931 - mmdet - INFO - Epoch [29][90/288]\tlr: 2.942e-05, eta: 0:36:35, time: 1.048, data_time: 0.019, memory: 7613, loss_cls: 0.5098, loss_bbox: 0.2105, loss_bbox_rf: 0.2627, loss: 0.9830, grad_norm: 11.3136\n",
      "2021-05-19 08:34:25,200 - mmdet - INFO - Epoch [29][100/288]\tlr: 2.941e-05, eta: 0:36:25, time: 1.027, data_time: 0.019, memory: 7613, loss_cls: 0.5142, loss_bbox: 0.2216, loss_bbox_rf: 0.2820, loss: 1.0178, grad_norm: 10.4650\n",
      "2021-05-19 08:34:35,310 - mmdet - INFO - Epoch [29][110/288]\tlr: 2.940e-05, eta: 0:36:15, time: 1.011, data_time: 0.019, memory: 7613, loss_cls: 0.5237, loss_bbox: 0.2133, loss_bbox_rf: 0.2671, loss: 1.0040, grad_norm: 10.5996\n",
      "2021-05-19 08:34:45,484 - mmdet - INFO - Epoch [29][120/288]\tlr: 2.940e-05, eta: 0:36:05, time: 1.017, data_time: 0.019, memory: 7613, loss_cls: 0.5549, loss_bbox: 0.2142, loss_bbox_rf: 0.2665, loss: 1.0356, grad_norm: 12.5863\n",
      "2021-05-19 08:34:55,691 - mmdet - INFO - Epoch [29][130/288]\tlr: 2.939e-05, eta: 0:35:55, time: 1.021, data_time: 0.018, memory: 7613, loss_cls: 0.5442, loss_bbox: 0.2288, loss_bbox_rf: 0.2854, loss: 1.0583, grad_norm: 12.1730\n",
      "2021-05-19 08:35:05,803 - mmdet - INFO - Epoch [29][140/288]\tlr: 2.939e-05, eta: 0:35:45, time: 1.011, data_time: 0.018, memory: 7613, loss_cls: 0.5234, loss_bbox: 0.2203, loss_bbox_rf: 0.2763, loss: 1.0199, grad_norm: 11.8568\n",
      "2021-05-19 08:35:15,913 - mmdet - INFO - Epoch [29][150/288]\tlr: 2.938e-05, eta: 0:35:35, time: 1.011, data_time: 0.017, memory: 7613, loss_cls: 0.5217, loss_bbox: 0.2105, loss_bbox_rf: 0.2658, loss: 0.9981, grad_norm: 11.0200\n",
      "2021-05-19 08:35:26,019 - mmdet - INFO - Epoch [29][160/288]\tlr: 2.937e-05, eta: 0:35:26, time: 1.011, data_time: 0.017, memory: 7613, loss_cls: 0.5185, loss_bbox: 0.2184, loss_bbox_rf: 0.2773, loss: 1.0142, grad_norm: 9.4352\n",
      "2021-05-19 08:35:36,148 - mmdet - INFO - Epoch [29][170/288]\tlr: 2.936e-05, eta: 0:35:16, time: 1.013, data_time: 0.019, memory: 7613, loss_cls: 0.5222, loss_bbox: 0.2194, loss_bbox_rf: 0.2772, loss: 1.0188, grad_norm: 10.9427\n",
      "2021-05-19 08:35:46,227 - mmdet - INFO - Epoch [29][180/288]\tlr: 2.936e-05, eta: 0:35:06, time: 1.008, data_time: 0.018, memory: 7613, loss_cls: 0.5286, loss_bbox: 0.2251, loss_bbox_rf: 0.2872, loss: 1.0409, grad_norm: 10.7616\n",
      "2021-05-19 08:35:56,344 - mmdet - INFO - Epoch [29][190/288]\tlr: 2.935e-05, eta: 0:34:56, time: 1.012, data_time: 0.018, memory: 7613, loss_cls: 0.5139, loss_bbox: 0.2059, loss_bbox_rf: 0.2611, loss: 0.9809, grad_norm: 10.7769\n",
      "2021-05-19 08:36:06,475 - mmdet - INFO - Epoch [29][200/288]\tlr: 2.934e-05, eta: 0:34:46, time: 1.013, data_time: 0.019, memory: 7613, loss_cls: 0.5295, loss_bbox: 0.2082, loss_bbox_rf: 0.2639, loss: 1.0017, grad_norm: 11.6664\n",
      "2021-05-19 08:36:16,510 - mmdet - INFO - Epoch [29][210/288]\tlr: 2.933e-05, eta: 0:34:36, time: 1.004, data_time: 0.018, memory: 7613, loss_cls: 0.5403, loss_bbox: 0.1961, loss_bbox_rf: 0.2468, loss: 0.9832, grad_norm: 10.1321\n",
      "2021-05-19 08:36:26,545 - mmdet - INFO - Epoch [29][220/288]\tlr: 2.933e-05, eta: 0:34:26, time: 1.003, data_time: 0.018, memory: 7613, loss_cls: 0.5109, loss_bbox: 0.2235, loss_bbox_rf: 0.2799, loss: 1.0144, grad_norm: 9.9835\n",
      "2021-05-19 08:36:36,656 - mmdet - INFO - Epoch [29][230/288]\tlr: 2.932e-05, eta: 0:34:17, time: 1.011, data_time: 0.021, memory: 7613, loss_cls: 0.5087, loss_bbox: 0.2001, loss_bbox_rf: 0.2549, loss: 0.9636, grad_norm: 9.0790\n",
      "2021-05-19 08:36:46,698 - mmdet - INFO - Epoch [29][240/288]\tlr: 2.931e-05, eta: 0:34:07, time: 1.004, data_time: 0.018, memory: 7613, loss_cls: 0.5197, loss_bbox: 0.2298, loss_bbox_rf: 0.2890, loss: 1.0385, grad_norm: 10.4247\n",
      "2021-05-19 08:36:56,814 - mmdet - INFO - Epoch [29][250/288]\tlr: 2.930e-05, eta: 0:33:57, time: 1.012, data_time: 0.018, memory: 7613, loss_cls: 0.5237, loss_bbox: 0.2203, loss_bbox_rf: 0.2786, loss: 1.0227, grad_norm: 11.1987\n",
      "2021-05-19 08:37:06,890 - mmdet - INFO - Epoch [29][260/288]\tlr: 2.929e-05, eta: 0:33:47, time: 1.008, data_time: 0.018, memory: 7613, loss_cls: 0.5344, loss_bbox: 0.2030, loss_bbox_rf: 0.2553, loss: 0.9926, grad_norm: 9.7852\n",
      "2021-05-19 08:37:16,949 - mmdet - INFO - Epoch [29][270/288]\tlr: 2.928e-05, eta: 0:33:37, time: 1.006, data_time: 0.018, memory: 7613, loss_cls: 0.5268, loss_bbox: 0.2238, loss_bbox_rf: 0.2833, loss: 1.0338, grad_norm: 10.6283\n",
      "2021-05-19 08:37:27,059 - mmdet - INFO - Epoch [29][280/288]\tlr: 2.927e-05, eta: 0:33:27, time: 1.011, data_time: 0.018, memory: 7613, loss_cls: 0.5238, loss_bbox: 0.2168, loss_bbox_rf: 0.2710, loss: 1.0115, grad_norm: 11.5749\n",
      "2021-05-19 08:37:35,278 - mmdet - INFO - Saving checkpoint at 29 epochs\n"
     ]
    },
    {
     "name": "stdout",
     "output_type": "stream",
     "text": [
      "[>>>>>>>>>>>>>>>>>>>>>>>>>>>>>>] 655/655, 8.0 task/s, elapsed: 82s, ETA:     0s"
     ]
    },
    {
     "name": "stderr",
     "output_type": "stream",
     "text": [
      "2021-05-19 08:39:01,327 - mmdet - INFO - Evaluating bbox...\n"
     ]
    },
    {
     "name": "stdout",
     "output_type": "stream",
     "text": [
      "Loading and preparing results...\n",
      "DONE (t=2.34s)\n",
      "creating index...\n",
      "index created!\n",
      "Running per image evaluation...\n",
      "Evaluate annotation type *bbox*\n",
      "DONE (t=11.47s).\n",
      "Accumulating evaluation results...\n"
     ]
    },
    {
     "name": "stderr",
     "output_type": "stream",
     "text": [
      "2021-05-19 08:39:18,689 - mmdet - INFO - Epoch(val) [29][288]\tbbox_mAP: 0.1950, bbox_mAP_50: 0.3250, bbox_mAP_75: 0.2000, bbox_mAP_s: 0.0260, bbox_mAP_m: 0.1770, bbox_mAP_l: 0.3800, bbox_mAP_copypaste: 0.195 0.325 0.200 0.026 0.177 0.380\n"
     ]
    },
    {
     "name": "stdout",
     "output_type": "stream",
     "text": [
      "DONE (t=3.27s).\n",
      "Average Precision  (AP) @[ IoU=0.50:0.95 | area=   all | maxDets=100 ] = 0.195\n",
      "Average Precision  (AP) @[ IoU=0.50      | area=   all | maxDets=1000 ] = 0.325\n",
      "Average Precision  (AP) @[ IoU=0.75      | area=   all | maxDets=1000 ] = 0.200\n",
      "Average Precision  (AP) @[ IoU=0.50:0.95 | area= small | maxDets=1000 ] = 0.026\n",
      "Average Precision  (AP) @[ IoU=0.50:0.95 | area=medium | maxDets=1000 ] = 0.177\n",
      "Average Precision  (AP) @[ IoU=0.50:0.95 | area= large | maxDets=1000 ] = 0.380\n",
      "Average Recall     (AR) @[ IoU=0.50:0.95 | area=   all | maxDets=100 ] = 0.394\n",
      "Average Recall     (AR) @[ IoU=0.50:0.95 | area=   all | maxDets=300 ] = 0.394\n",
      "Average Recall     (AR) @[ IoU=0.50:0.95 | area=   all | maxDets=1000 ] = 0.394\n",
      "Average Recall     (AR) @[ IoU=0.50:0.95 | area= small | maxDets=1000 ] = 0.119\n",
      "Average Recall     (AR) @[ IoU=0.50:0.95 | area=medium | maxDets=1000 ] = 0.383\n",
      "Average Recall     (AR) @[ IoU=0.50:0.95 | area= large | maxDets=1000 ] = 0.650\n"
     ]
    },
    {
     "name": "stderr",
     "output_type": "stream",
     "text": [
      "2021-05-19 08:39:31,207 - mmdet - INFO - Epoch [30][10/288]\tlr: 2.926e-05, eta: 0:33:08, time: 1.250, data_time: 0.256, memory: 7613, loss_cls: 0.5092, loss_bbox: 0.2147, loss_bbox_rf: 0.2708, loss: 0.9947, grad_norm: 8.3376\n",
      "2021-05-19 08:39:41,449 - mmdet - INFO - Epoch [30][20/288]\tlr: 2.925e-05, eta: 0:32:58, time: 1.024, data_time: 0.020, memory: 7613, loss_cls: 0.4906, loss_bbox: 0.2026, loss_bbox_rf: 0.2530, loss: 0.9462, grad_norm: 9.6983\n",
      "2021-05-19 08:39:51,725 - mmdet - INFO - Epoch [30][30/288]\tlr: 2.924e-05, eta: 0:32:48, time: 1.028, data_time: 0.020, memory: 7613, loss_cls: 0.5020, loss_bbox: 0.2112, loss_bbox_rf: 0.2631, loss: 0.9764, grad_norm: 10.4529\n",
      "2021-05-19 08:40:01,840 - mmdet - INFO - Epoch [30][40/288]\tlr: 2.923e-05, eta: 0:32:38, time: 1.012, data_time: 0.018, memory: 7613, loss_cls: 0.4954, loss_bbox: 0.2206, loss_bbox_rf: 0.2787, loss: 0.9948, grad_norm: 10.9168\n",
      "2021-05-19 08:40:11,917 - mmdet - INFO - Epoch [30][50/288]\tlr: 2.921e-05, eta: 0:32:29, time: 1.008, data_time: 0.018, memory: 7613, loss_cls: 0.5060, loss_bbox: 0.2068, loss_bbox_rf: 0.2600, loss: 0.9728, grad_norm: 10.1971\n",
      "2021-05-19 08:40:22,081 - mmdet - INFO - Epoch [30][60/288]\tlr: 2.920e-05, eta: 0:32:19, time: 1.016, data_time: 0.019, memory: 7613, loss_cls: 0.5004, loss_bbox: 0.2247, loss_bbox_rf: 0.2876, loss: 1.0128, grad_norm: 8.0596\n",
      "2021-05-19 08:40:32,158 - mmdet - INFO - Epoch [30][70/288]\tlr: 2.919e-05, eta: 0:32:09, time: 1.008, data_time: 0.018, memory: 7613, loss_cls: 0.4943, loss_bbox: 0.2109, loss_bbox_rf: 0.2669, loss: 0.9721, grad_norm: 9.8578\n",
      "2021-05-19 08:40:42,349 - mmdet - INFO - Epoch [30][80/288]\tlr: 2.918e-05, eta: 0:31:59, time: 1.019, data_time: 0.018, memory: 7613, loss_cls: 0.4962, loss_bbox: 0.2106, loss_bbox_rf: 0.2646, loss: 0.9715, grad_norm: 9.5427\n",
      "2021-05-19 08:40:52,756 - mmdet - INFO - Epoch [30][90/288]\tlr: 2.917e-05, eta: 0:31:49, time: 1.041, data_time: 0.019, memory: 7613, loss_cls: 0.4973, loss_bbox: 0.2159, loss_bbox_rf: 0.2724, loss: 0.9856, grad_norm: 9.3419\n",
      "2021-05-19 08:41:03,373 - mmdet - INFO - Epoch [30][100/288]\tlr: 2.916e-05, eta: 0:31:39, time: 1.062, data_time: 0.019, memory: 7613, loss_cls: 0.4831, loss_bbox: 0.1910, loss_bbox_rf: 0.2406, loss: 0.9147, grad_norm: 8.6995\n",
      "2021-05-19 08:41:13,579 - mmdet - INFO - Epoch [30][110/288]\tlr: 2.915e-05, eta: 0:31:30, time: 1.021, data_time: 0.018, memory: 7613, loss_cls: 0.4866, loss_bbox: 0.2037, loss_bbox_rf: 0.2593, loss: 0.9496, grad_norm: 8.2236\n",
      "2021-05-19 08:41:23,874 - mmdet - INFO - Epoch [30][120/288]\tlr: 2.914e-05, eta: 0:31:20, time: 1.030, data_time: 0.019, memory: 7613, loss_cls: 0.5062, loss_bbox: 0.2264, loss_bbox_rf: 0.2871, loss: 1.0197, grad_norm: 9.3280\n",
      "2021-05-19 08:41:34,029 - mmdet - INFO - Epoch [30][130/288]\tlr: 2.912e-05, eta: 0:31:10, time: 1.015, data_time: 0.020, memory: 7613, loss_cls: 0.4878, loss_bbox: 0.2083, loss_bbox_rf: 0.2625, loss: 0.9586, grad_norm: 8.6814\n",
      "2021-05-19 08:41:44,185 - mmdet - INFO - Epoch [30][140/288]\tlr: 2.911e-05, eta: 0:31:00, time: 1.016, data_time: 0.018, memory: 7613, loss_cls: 0.4994, loss_bbox: 0.2033, loss_bbox_rf: 0.2565, loss: 0.9592, grad_norm: 9.9400\n",
      "2021-05-19 08:41:54,281 - mmdet - INFO - Epoch [30][150/288]\tlr: 2.910e-05, eta: 0:30:50, time: 1.010, data_time: 0.017, memory: 7613, loss_cls: 0.5036, loss_bbox: 0.2045, loss_bbox_rf: 0.2583, loss: 0.9663, grad_norm: 9.3058\n",
      "2021-05-19 08:42:04,443 - mmdet - INFO - Epoch [30][160/288]\tlr: 2.909e-05, eta: 0:30:40, time: 1.016, data_time: 0.018, memory: 7613, loss_cls: 0.5176, loss_bbox: 0.2085, loss_bbox_rf: 0.2645, loss: 0.9906, grad_norm: 8.8916\n",
      "2021-05-19 08:42:14,915 - mmdet - INFO - Epoch [30][170/288]\tlr: 2.907e-05, eta: 0:30:30, time: 1.047, data_time: 0.019, memory: 7613, loss_cls: 0.5047, loss_bbox: 0.2061, loss_bbox_rf: 0.2591, loss: 0.9699, grad_norm: 10.7122\n",
      "2021-05-19 08:42:25,103 - mmdet - INFO - Epoch [30][180/288]\tlr: 2.906e-05, eta: 0:30:21, time: 1.019, data_time: 0.019, memory: 7613, loss_cls: 0.4949, loss_bbox: 0.2197, loss_bbox_rf: 0.2787, loss: 0.9933, grad_norm: 9.1840\n",
      "2021-05-19 08:42:35,211 - mmdet - INFO - Epoch [30][190/288]\tlr: 2.905e-05, eta: 0:30:11, time: 1.011, data_time: 0.019, memory: 7613, loss_cls: 0.5052, loss_bbox: 0.2046, loss_bbox_rf: 0.2543, loss: 0.9641, grad_norm: 10.6056\n",
      "2021-05-19 08:42:45,267 - mmdet - INFO - Epoch [30][200/288]\tlr: 2.904e-05, eta: 0:30:01, time: 1.006, data_time: 0.019, memory: 7613, loss_cls: 0.5200, loss_bbox: 0.2136, loss_bbox_rf: 0.2667, loss: 1.0004, grad_norm: 11.2858\n",
      "2021-05-19 08:42:55,370 - mmdet - INFO - Epoch [30][210/288]\tlr: 2.902e-05, eta: 0:29:51, time: 1.010, data_time: 0.018, memory: 7613, loss_cls: 0.5140, loss_bbox: 0.2179, loss_bbox_rf: 0.2718, loss: 1.0036, grad_norm: 11.9238\n",
      "2021-05-19 08:43:05,548 - mmdet - INFO - Epoch [30][220/288]\tlr: 2.901e-05, eta: 0:29:41, time: 1.018, data_time: 0.019, memory: 7613, loss_cls: 0.5151, loss_bbox: 0.2243, loss_bbox_rf: 0.2802, loss: 1.0196, grad_norm: 12.3494\n",
      "2021-05-19 08:43:15,688 - mmdet - INFO - Epoch [30][230/288]\tlr: 2.899e-05, eta: 0:29:31, time: 1.014, data_time: 0.017, memory: 7613, loss_cls: 0.5001, loss_bbox: 0.2096, loss_bbox_rf: 0.2634, loss: 0.9731, grad_norm: 9.8195\n",
      "2021-05-19 08:43:25,779 - mmdet - INFO - Epoch [30][240/288]\tlr: 2.898e-05, eta: 0:29:21, time: 1.009, data_time: 0.018, memory: 7613, loss_cls: 0.4894, loss_bbox: 0.1994, loss_bbox_rf: 0.2484, loss: 0.9371, grad_norm: 10.7682\n",
      "2021-05-19 08:43:36,060 - mmdet - INFO - Epoch [30][250/288]\tlr: 2.897e-05, eta: 0:29:12, time: 1.028, data_time: 0.019, memory: 7613, loss_cls: 0.4902, loss_bbox: 0.2105, loss_bbox_rf: 0.2664, loss: 0.9671, grad_norm: 10.1594\n",
      "2021-05-19 08:43:46,101 - mmdet - INFO - Epoch [30][260/288]\tlr: 2.895e-05, eta: 0:29:02, time: 1.004, data_time: 0.019, memory: 7613, loss_cls: 0.5081, loss_bbox: 0.2062, loss_bbox_rf: 0.2563, loss: 0.9707, grad_norm: 11.5652\n",
      "2021-05-19 08:43:56,149 - mmdet - INFO - Epoch [30][270/288]\tlr: 2.894e-05, eta: 0:28:52, time: 1.005, data_time: 0.019, memory: 7613, loss_cls: 0.4986, loss_bbox: 0.2055, loss_bbox_rf: 0.2595, loss: 0.9636, grad_norm: 11.3304\n",
      "2021-05-19 08:44:06,281 - mmdet - INFO - Epoch [30][280/288]\tlr: 2.892e-05, eta: 0:28:42, time: 1.013, data_time: 0.019, memory: 7613, loss_cls: 0.4699, loss_bbox: 0.1941, loss_bbox_rf: 0.2438, loss: 0.9078, grad_norm: 11.2232\n",
      "2021-05-19 08:44:14,398 - mmdet - INFO - Saving checkpoint at 30 epochs\n"
     ]
    },
    {
     "name": "stdout",
     "output_type": "stream",
     "text": [
      "[>>>>>>>>>>>>>>>>>>>>>>>>>>>>>>] 655/655, 7.7 task/s, elapsed: 85s, ETA:     0s"
     ]
    },
    {
     "name": "stderr",
     "output_type": "stream",
     "text": [
      "2021-05-19 08:45:44,394 - mmdet - INFO - Evaluating bbox...\n"
     ]
    },
    {
     "name": "stdout",
     "output_type": "stream",
     "text": [
      "Loading and preparing results...\n",
      "DONE (t=1.81s)\n",
      "creating index...\n",
      "index created!\n",
      "Running per image evaluation...\n",
      "Evaluate annotation type *bbox*\n",
      "DONE (t=11.60s).\n",
      "Accumulating evaluation results...\n",
      "DONE (t=3.28s).\n",
      "Average Precision  (AP) @[ IoU=0.50:0.95 | area=   all | maxDets=100 ] = 0.205\n",
      "Average Precision  (AP) @[ IoU=0.50      | area=   all | maxDets=1000 ] = 0.344\n",
      "Average Precision  (AP) @[ IoU=0.75      | area=   all | maxDets=1000 ] = 0.220\n",
      "Average Precision  (AP) @[ IoU=0.50:0.95 | area= small | maxDets=1000 ] = 0.026\n",
      "Average Precision  (AP) @[ IoU=0.50:0.95 | area=medium | maxDets=1000 ] = 0.170\n",
      "Average Precision  (AP) @[ IoU=0.50:0.95 | area= large | maxDets=1000 ] = 0.430\n",
      "Average Recall     (AR) @[ IoU=0.50:0.95 | area=   all | maxDets=100 ] = 0.391\n",
      "Average Recall     (AR) @[ IoU=0.50:0.95 | area=   all | maxDets=300 ] = 0.391\n",
      "Average Recall     (AR) @[ IoU=0.50:0.95 | area=   all | maxDets=1000 ] = 0.391\n",
      "Average Recall     (AR) @[ IoU=0.50:0.95 | area= small | maxDets=1000 ] = 0.114\n",
      "Average Recall     (AR) @[ IoU=0.50:0.95 | area=medium | maxDets=1000 ] = 0.374\n",
      "Average Recall     (AR) @[ IoU=0.50:0.95 | area= large | maxDets=1000 ] = 0.638\n"
     ]
    },
    {
     "name": "stderr",
     "output_type": "stream",
     "text": [
      "2021-05-19 08:46:01,376 - mmdet - INFO - Epoch(val) [30][288]\tbbox_mAP: 0.2050, bbox_mAP_50: 0.3440, bbox_mAP_75: 0.2200, bbox_mAP_s: 0.0260, bbox_mAP_m: 0.1700, bbox_mAP_l: 0.4300, bbox_mAP_copypaste: 0.205 0.344 0.220 0.026 0.170 0.430\n",
      "2021-05-19 08:46:14,004 - mmdet - INFO - Epoch [31][10/288]\tlr: 2.890e-05, eta: 0:28:23, time: 1.261, data_time: 0.256, memory: 7613, loss_cls: 0.4898, loss_bbox: 0.2186, loss_bbox_rf: 0.2742, loss: 0.9825, grad_norm: 11.5344\n",
      "2021-05-19 08:46:24,301 - mmdet - INFO - Epoch [31][20/288]\tlr: 2.888e-05, eta: 0:28:13, time: 1.030, data_time: 0.019, memory: 7613, loss_cls: 0.4790, loss_bbox: 0.2131, loss_bbox_rf: 0.2667, loss: 0.9588, grad_norm: 10.9322\n",
      "2021-05-19 08:46:34,679 - mmdet - INFO - Epoch [31][30/288]\tlr: 2.887e-05, eta: 0:28:03, time: 1.038, data_time: 0.020, memory: 7613, loss_cls: 0.4691, loss_bbox: 0.2089, loss_bbox_rf: 0.2643, loss: 0.9422, grad_norm: 10.0920\n",
      "2021-05-19 08:46:44,868 - mmdet - INFO - Epoch [31][40/288]\tlr: 2.885e-05, eta: 0:27:53, time: 1.019, data_time: 0.019, memory: 7613, loss_cls: 0.4661, loss_bbox: 0.2008, loss_bbox_rf: 0.2497, loss: 0.9166, grad_norm: 10.4885\n",
      "2021-05-19 08:46:54,986 - mmdet - INFO - Epoch [31][50/288]\tlr: 2.883e-05, eta: 0:27:44, time: 1.012, data_time: 0.018, memory: 7613, loss_cls: 0.4335, loss_bbox: 0.1847, loss_bbox_rf: 0.2341, loss: 0.8523, grad_norm: 9.7215\n",
      "2021-05-19 08:47:05,040 - mmdet - INFO - Epoch [31][60/288]\tlr: 2.882e-05, eta: 0:27:34, time: 1.005, data_time: 0.019, memory: 7613, loss_cls: 0.4708, loss_bbox: 0.2043, loss_bbox_rf: 0.2584, loss: 0.9335, grad_norm: 9.7300\n",
      "2021-05-19 08:47:15,133 - mmdet - INFO - Epoch [31][70/288]\tlr: 2.880e-05, eta: 0:27:24, time: 1.009, data_time: 0.018, memory: 7613, loss_cls: 0.4553, loss_bbox: 0.2006, loss_bbox_rf: 0.2546, loss: 0.9105, grad_norm: 8.9123\n",
      "2021-05-19 08:47:25,324 - mmdet - INFO - Epoch [31][80/288]\tlr: 2.879e-05, eta: 0:27:14, time: 1.019, data_time: 0.019, memory: 7613, loss_cls: 0.4493, loss_bbox: 0.1906, loss_bbox_rf: 0.2401, loss: 0.8799, grad_norm: 9.1795\n",
      "2021-05-19 08:47:35,355 - mmdet - INFO - Epoch [31][90/288]\tlr: 2.877e-05, eta: 0:27:04, time: 1.003, data_time: 0.018, memory: 7613, loss_cls: 0.4457, loss_bbox: 0.1970, loss_bbox_rf: 0.2504, loss: 0.8931, grad_norm: 8.4904\n",
      "2021-05-19 08:47:45,383 - mmdet - INFO - Epoch [31][100/288]\tlr: 2.875e-05, eta: 0:26:54, time: 1.003, data_time: 0.018, memory: 7613, loss_cls: 0.4647, loss_bbox: 0.2044, loss_bbox_rf: 0.2562, loss: 0.9253, grad_norm: 9.8265\n",
      "2021-05-19 08:47:55,444 - mmdet - INFO - Epoch [31][110/288]\tlr: 2.873e-05, eta: 0:26:44, time: 1.006, data_time: 0.018, memory: 7613, loss_cls: 0.4626, loss_bbox: 0.2072, loss_bbox_rf: 0.2598, loss: 0.9295, grad_norm: 10.0474\n",
      "2021-05-19 08:48:05,519 - mmdet - INFO - Epoch [31][120/288]\tlr: 2.872e-05, eta: 0:26:34, time: 1.008, data_time: 0.018, memory: 7613, loss_cls: 0.4570, loss_bbox: 0.2060, loss_bbox_rf: 0.2616, loss: 0.9246, grad_norm: 7.7499\n",
      "2021-05-19 08:48:15,570 - mmdet - INFO - Epoch [31][130/288]\tlr: 2.870e-05, eta: 0:26:24, time: 1.005, data_time: 0.018, memory: 7613, loss_cls: 0.4573, loss_bbox: 0.1947, loss_bbox_rf: 0.2437, loss: 0.8957, grad_norm: 8.3172\n",
      "2021-05-19 08:48:25,673 - mmdet - INFO - Epoch [31][140/288]\tlr: 2.868e-05, eta: 0:26:15, time: 1.010, data_time: 0.018, memory: 7613, loss_cls: 0.4632, loss_bbox: 0.1859, loss_bbox_rf: 0.2328, loss: 0.8820, grad_norm: 9.2077\n",
      "2021-05-19 08:48:35,747 - mmdet - INFO - Epoch [31][150/288]\tlr: 2.867e-05, eta: 0:26:05, time: 1.007, data_time: 0.018, memory: 7613, loss_cls: 0.4725, loss_bbox: 0.2064, loss_bbox_rf: 0.2597, loss: 0.9385, grad_norm: 7.4300\n",
      "2021-05-19 08:48:45,826 - mmdet - INFO - Epoch [31][160/288]\tlr: 2.865e-05, eta: 0:25:55, time: 1.008, data_time: 0.018, memory: 7613, loss_cls: 0.4678, loss_bbox: 0.1946, loss_bbox_rf: 0.2435, loss: 0.9059, grad_norm: 10.5007\n",
      "2021-05-19 08:48:55,874 - mmdet - INFO - Epoch [31][170/288]\tlr: 2.863e-05, eta: 0:25:45, time: 1.005, data_time: 0.017, memory: 7613, loss_cls: 0.4693, loss_bbox: 0.2095, loss_bbox_rf: 0.2653, loss: 0.9441, grad_norm: 9.9825\n",
      "2021-05-19 08:49:05,899 - mmdet - INFO - Epoch [31][180/288]\tlr: 2.861e-05, eta: 0:25:35, time: 1.003, data_time: 0.018, memory: 7613, loss_cls: 0.4710, loss_bbox: 0.1995, loss_bbox_rf: 0.2541, loss: 0.9246, grad_norm: 7.8964\n",
      "2021-05-19 08:49:15,937 - mmdet - INFO - Epoch [31][190/288]\tlr: 2.859e-05, eta: 0:25:25, time: 1.004, data_time: 0.017, memory: 7613, loss_cls: 0.4683, loss_bbox: 0.1949, loss_bbox_rf: 0.2456, loss: 0.9089, grad_norm: 9.2333\n",
      "2021-05-19 08:49:26,006 - mmdet - INFO - Epoch [31][200/288]\tlr: 2.857e-05, eta: 0:25:15, time: 1.007, data_time: 0.019, memory: 7613, loss_cls: 0.4662, loss_bbox: 0.1975, loss_bbox_rf: 0.2486, loss: 0.9123, grad_norm: 8.9419\n",
      "2021-05-19 08:49:36,206 - mmdet - INFO - Epoch [31][210/288]\tlr: 2.856e-05, eta: 0:25:05, time: 1.020, data_time: 0.020, memory: 7613, loss_cls: 0.4545, loss_bbox: 0.1966, loss_bbox_rf: 0.2485, loss: 0.8996, grad_norm: 9.2400\n",
      "2021-05-19 08:49:46,259 - mmdet - INFO - Epoch [31][220/288]\tlr: 2.854e-05, eta: 0:24:55, time: 1.005, data_time: 0.017, memory: 7613, loss_cls: 0.4665, loss_bbox: 0.1946, loss_bbox_rf: 0.2469, loss: 0.9080, grad_norm: 10.3445\n",
      "2021-05-19 08:49:56,331 - mmdet - INFO - Epoch [31][230/288]\tlr: 2.852e-05, eta: 0:24:46, time: 1.007, data_time: 0.018, memory: 7613, loss_cls: 0.4691, loss_bbox: 0.2097, loss_bbox_rf: 0.2652, loss: 0.9440, grad_norm: 8.7981\n",
      "2021-05-19 08:50:06,447 - mmdet - INFO - Epoch [31][240/288]\tlr: 2.850e-05, eta: 0:24:36, time: 1.012, data_time: 0.019, memory: 7613, loss_cls: 0.4753, loss_bbox: 0.1959, loss_bbox_rf: 0.2502, loss: 0.9214, grad_norm: 9.8157\n",
      "2021-05-19 08:50:16,518 - mmdet - INFO - Epoch [31][250/288]\tlr: 2.848e-05, eta: 0:24:26, time: 1.007, data_time: 0.017, memory: 7613, loss_cls: 0.4785, loss_bbox: 0.2108, loss_bbox_rf: 0.2679, loss: 0.9572, grad_norm: 7.7012\n",
      "2021-05-19 08:50:26,645 - mmdet - INFO - Epoch [31][260/288]\tlr: 2.846e-05, eta: 0:24:16, time: 1.013, data_time: 0.018, memory: 7613, loss_cls: 0.4806, loss_bbox: 0.1988, loss_bbox_rf: 0.2500, loss: 0.9295, grad_norm: 10.1308\n",
      "2021-05-19 08:50:36,812 - mmdet - INFO - Epoch [31][270/288]\tlr: 2.844e-05, eta: 0:24:06, time: 1.017, data_time: 0.019, memory: 7613, loss_cls: 0.4857, loss_bbox: 0.2072, loss_bbox_rf: 0.2588, loss: 0.9517, grad_norm: 9.4232\n",
      "2021-05-19 08:50:46,857 - mmdet - INFO - Epoch [31][280/288]\tlr: 2.842e-05, eta: 0:23:56, time: 1.004, data_time: 0.019, memory: 7613, loss_cls: 0.4483, loss_bbox: 0.1864, loss_bbox_rf: 0.2334, loss: 0.8682, grad_norm: 8.7144\n",
      "2021-05-19 08:50:54,996 - mmdet - INFO - Saving checkpoint at 31 epochs\n"
     ]
    },
    {
     "name": "stdout",
     "output_type": "stream",
     "text": [
      "[>>>>>>>>>>>>>>>>>>>>>>>>>>>>>>] 655/655, 8.1 task/s, elapsed: 81s, ETA:     0s"
     ]
    },
    {
     "name": "stderr",
     "output_type": "stream",
     "text": [
      "2021-05-19 08:52:19,995 - mmdet - INFO - Evaluating bbox...\n"
     ]
    },
    {
     "name": "stdout",
     "output_type": "stream",
     "text": [
      "Loading and preparing results...\n",
      "DONE (t=2.44s)\n",
      "creating index...\n",
      "index created!\n",
      "Running per image evaluation...\n",
      "Evaluate annotation type *bbox*\n",
      "DONE (t=11.01s).\n",
      "Accumulating evaluation results...\n"
     ]
    },
    {
     "name": "stderr",
     "output_type": "stream",
     "text": [
      "2021-05-19 08:52:37,016 - mmdet - INFO - Epoch(val) [31][288]\tbbox_mAP: 0.2140, bbox_mAP_50: 0.3380, bbox_mAP_75: 0.2230, bbox_mAP_s: 0.0290, bbox_mAP_m: 0.1800, bbox_mAP_l: 0.4520, bbox_mAP_copypaste: 0.214 0.338 0.223 0.029 0.180 0.452\n"
     ]
    },
    {
     "name": "stdout",
     "output_type": "stream",
     "text": [
      "DONE (t=3.29s).\n",
      "Average Precision  (AP) @[ IoU=0.50:0.95 | area=   all | maxDets=100 ] = 0.214\n",
      "Average Precision  (AP) @[ IoU=0.50      | area=   all | maxDets=1000 ] = 0.338\n",
      "Average Precision  (AP) @[ IoU=0.75      | area=   all | maxDets=1000 ] = 0.223\n",
      "Average Precision  (AP) @[ IoU=0.50:0.95 | area= small | maxDets=1000 ] = 0.029\n",
      "Average Precision  (AP) @[ IoU=0.50:0.95 | area=medium | maxDets=1000 ] = 0.180\n",
      "Average Precision  (AP) @[ IoU=0.50:0.95 | area= large | maxDets=1000 ] = 0.452\n",
      "Average Recall     (AR) @[ IoU=0.50:0.95 | area=   all | maxDets=100 ] = 0.401\n",
      "Average Recall     (AR) @[ IoU=0.50:0.95 | area=   all | maxDets=300 ] = 0.401\n",
      "Average Recall     (AR) @[ IoU=0.50:0.95 | area=   all | maxDets=1000 ] = 0.401\n",
      "Average Recall     (AR) @[ IoU=0.50:0.95 | area= small | maxDets=1000 ] = 0.126\n",
      "Average Recall     (AR) @[ IoU=0.50:0.95 | area=medium | maxDets=1000 ] = 0.392\n",
      "Average Recall     (AR) @[ IoU=0.50:0.95 | area= large | maxDets=1000 ] = 0.661\n"
     ]
    },
    {
     "name": "stderr",
     "output_type": "stream",
     "text": [
      "2021-05-19 08:52:49,567 - mmdet - INFO - Epoch [32][10/288]\tlr: 2.838e-05, eta: 0:23:37, time: 1.253, data_time: 0.256, memory: 7613, loss_cls: 0.4410, loss_bbox: 0.1800, loss_bbox_rf: 0.2252, loss: 0.8462, grad_norm: 9.9790\n",
      "2021-05-19 08:52:59,666 - mmdet - INFO - Epoch [32][20/288]\tlr: 2.836e-05, eta: 0:23:27, time: 1.010, data_time: 0.018, memory: 7613, loss_cls: 0.4347, loss_bbox: 0.1790, loss_bbox_rf: 0.2248, loss: 0.8384, grad_norm: 9.4395\n",
      "2021-05-19 08:53:09,834 - mmdet - INFO - Epoch [32][30/288]\tlr: 2.834e-05, eta: 0:23:18, time: 1.017, data_time: 0.019, memory: 7613, loss_cls: 0.4422, loss_bbox: 0.1956, loss_bbox_rf: 0.2476, loss: 0.8854, grad_norm: 8.0200\n",
      "2021-05-19 08:53:19,938 - mmdet - INFO - Epoch [32][40/288]\tlr: 2.832e-05, eta: 0:23:08, time: 1.010, data_time: 0.017, memory: 7613, loss_cls: 0.4380, loss_bbox: 0.1885, loss_bbox_rf: 0.2376, loss: 0.8642, grad_norm: 10.8822\n",
      "2021-05-19 08:53:30,019 - mmdet - INFO - Epoch [32][50/288]\tlr: 2.830e-05, eta: 0:22:58, time: 1.008, data_time: 0.017, memory: 7613, loss_cls: 0.4382, loss_bbox: 0.1893, loss_bbox_rf: 0.2396, loss: 0.8671, grad_norm: 8.4945\n",
      "2021-05-19 08:53:40,101 - mmdet - INFO - Epoch [32][60/288]\tlr: 2.828e-05, eta: 0:22:48, time: 1.008, data_time: 0.017, memory: 7613, loss_cls: 0.4422, loss_bbox: 0.1985, loss_bbox_rf: 0.2519, loss: 0.8926, grad_norm: 8.1496\n",
      "2021-05-19 08:53:50,177 - mmdet - INFO - Epoch [32][70/288]\tlr: 2.826e-05, eta: 0:22:38, time: 1.008, data_time: 0.017, memory: 7613, loss_cls: 0.4118, loss_bbox: 0.1792, loss_bbox_rf: 0.2247, loss: 0.8157, grad_norm: 9.9846\n",
      "2021-05-19 08:54:00,268 - mmdet - INFO - Epoch [32][80/288]\tlr: 2.824e-05, eta: 0:22:28, time: 1.009, data_time: 0.017, memory: 7613, loss_cls: 0.4452, loss_bbox: 0.1876, loss_bbox_rf: 0.2348, loss: 0.8675, grad_norm: 9.4468\n",
      "2021-05-19 08:54:10,355 - mmdet - INFO - Epoch [32][90/288]\tlr: 2.821e-05, eta: 0:22:18, time: 1.009, data_time: 0.018, memory: 7613, loss_cls: 0.4340, loss_bbox: 0.1878, loss_bbox_rf: 0.2365, loss: 0.8583, grad_norm: 7.9901\n",
      "2021-05-19 08:54:20,658 - mmdet - INFO - Epoch [32][100/288]\tlr: 2.819e-05, eta: 0:22:08, time: 1.030, data_time: 0.020, memory: 7613, loss_cls: 0.4352, loss_bbox: 0.1839, loss_bbox_rf: 0.2333, loss: 0.8524, grad_norm: 8.1766\n",
      "2021-05-19 08:54:30,822 - mmdet - INFO - Epoch [32][110/288]\tlr: 2.817e-05, eta: 0:21:59, time: 1.016, data_time: 0.019, memory: 7613, loss_cls: 0.4387, loss_bbox: 0.1951, loss_bbox_rf: 0.2466, loss: 0.8803, grad_norm: 7.8082\n",
      "2021-05-19 08:54:41,072 - mmdet - INFO - Epoch [32][120/288]\tlr: 2.815e-05, eta: 0:21:49, time: 1.025, data_time: 0.019, memory: 7613, loss_cls: 0.4497, loss_bbox: 0.1979, loss_bbox_rf: 0.2509, loss: 0.8986, grad_norm: 7.4995\n",
      "2021-05-19 08:54:51,341 - mmdet - INFO - Epoch [32][130/288]\tlr: 2.812e-05, eta: 0:21:39, time: 1.027, data_time: 0.019, memory: 7613, loss_cls: 0.4481, loss_bbox: 0.1931, loss_bbox_rf: 0.2427, loss: 0.8839, grad_norm: 9.0480\n",
      "2021-05-19 08:55:01,687 - mmdet - INFO - Epoch [32][140/288]\tlr: 2.810e-05, eta: 0:21:29, time: 1.035, data_time: 0.020, memory: 7613, loss_cls: 0.4444, loss_bbox: 0.1908, loss_bbox_rf: 0.2392, loss: 0.8743, grad_norm: 10.0446\n",
      "2021-05-19 08:55:11,837 - mmdet - INFO - Epoch [32][150/288]\tlr: 2.808e-05, eta: 0:21:19, time: 1.015, data_time: 0.020, memory: 7613, loss_cls: 0.4533, loss_bbox: 0.1979, loss_bbox_rf: 0.2512, loss: 0.9024, grad_norm: 7.6939\n",
      "2021-05-19 08:55:22,102 - mmdet - INFO - Epoch [32][160/288]\tlr: 2.806e-05, eta: 0:21:09, time: 1.026, data_time: 0.019, memory: 7613, loss_cls: 0.4387, loss_bbox: 0.1823, loss_bbox_rf: 0.2287, loss: 0.8496, grad_norm: 7.6095\n",
      "2021-05-19 08:55:32,164 - mmdet - INFO - Epoch [32][170/288]\tlr: 2.803e-05, eta: 0:20:59, time: 1.006, data_time: 0.018, memory: 7613, loss_cls: 0.4396, loss_bbox: 0.1787, loss_bbox_rf: 0.2263, loss: 0.8446, grad_norm: 8.7429\n",
      "2021-05-19 08:55:42,369 - mmdet - INFO - Epoch [32][180/288]\tlr: 2.801e-05, eta: 0:20:49, time: 1.020, data_time: 0.018, memory: 7613, loss_cls: 0.4543, loss_bbox: 0.2004, loss_bbox_rf: 0.2540, loss: 0.9087, grad_norm: 7.9916\n",
      "2021-05-19 08:55:52,624 - mmdet - INFO - Epoch [32][190/288]\tlr: 2.799e-05, eta: 0:20:40, time: 1.025, data_time: 0.019, memory: 7613, loss_cls: 0.4405, loss_bbox: 0.1977, loss_bbox_rf: 0.2501, loss: 0.8883, grad_norm: 8.6263\n",
      "2021-05-19 08:56:02,738 - mmdet - INFO - Epoch [32][200/288]\tlr: 2.796e-05, eta: 0:20:30, time: 1.011, data_time: 0.018, memory: 7613, loss_cls: 0.4475, loss_bbox: 0.2045, loss_bbox_rf: 0.2575, loss: 0.9094, grad_norm: 7.9128\n",
      "2021-05-19 08:56:12,873 - mmdet - INFO - Epoch [32][210/288]\tlr: 2.794e-05, eta: 0:20:20, time: 1.013, data_time: 0.019, memory: 7613, loss_cls: 0.4442, loss_bbox: 0.1901, loss_bbox_rf: 0.2410, loss: 0.8752, grad_norm: 8.4937\n",
      "2021-05-19 08:56:22,932 - mmdet - INFO - Epoch [32][220/288]\tlr: 2.791e-05, eta: 0:20:10, time: 1.006, data_time: 0.017, memory: 7613, loss_cls: 0.4454, loss_bbox: 0.1927, loss_bbox_rf: 0.2439, loss: 0.8820, grad_norm: 8.6588\n",
      "2021-05-19 08:56:33,049 - mmdet - INFO - Epoch [32][230/288]\tlr: 2.789e-05, eta: 0:20:00, time: 1.012, data_time: 0.019, memory: 7613, loss_cls: 0.4304, loss_bbox: 0.1843, loss_bbox_rf: 0.2306, loss: 0.8453, grad_norm: 9.0846\n",
      "2021-05-19 08:56:43,205 - mmdet - INFO - Epoch [32][240/288]\tlr: 2.787e-05, eta: 0:19:50, time: 1.016, data_time: 0.018, memory: 7613, loss_cls: 0.4455, loss_bbox: 0.2070, loss_bbox_rf: 0.2606, loss: 0.9131, grad_norm: 7.4373\n",
      "2021-05-19 08:56:53,398 - mmdet - INFO - Epoch [32][250/288]\tlr: 2.784e-05, eta: 0:19:40, time: 1.019, data_time: 0.019, memory: 7613, loss_cls: 0.4586, loss_bbox: 0.1941, loss_bbox_rf: 0.2465, loss: 0.8993, grad_norm: 8.1374\n",
      "2021-05-19 08:57:03,558 - mmdet - INFO - Epoch [32][260/288]\tlr: 2.782e-05, eta: 0:19:30, time: 1.016, data_time: 0.018, memory: 7613, loss_cls: 0.4493, loss_bbox: 0.1993, loss_bbox_rf: 0.2514, loss: 0.8999, grad_norm: 8.6026\n",
      "2021-05-19 08:57:13,747 - mmdet - INFO - Epoch [32][270/288]\tlr: 2.779e-05, eta: 0:19:20, time: 1.019, data_time: 0.019, memory: 7613, loss_cls: 0.4415, loss_bbox: 0.2013, loss_bbox_rf: 0.2549, loss: 0.8976, grad_norm: 8.7341\n",
      "2021-05-19 08:57:23,995 - mmdet - INFO - Epoch [32][280/288]\tlr: 2.777e-05, eta: 0:19:10, time: 1.025, data_time: 0.019, memory: 7613, loss_cls: 0.4435, loss_bbox: 0.1884, loss_bbox_rf: 0.2390, loss: 0.8708, grad_norm: 8.9573\n",
      "2021-05-19 08:57:32,258 - mmdet - INFO - Saving checkpoint at 32 epochs\n"
     ]
    },
    {
     "name": "stdout",
     "output_type": "stream",
     "text": [
      "[>>>>>>>>>>>>>>>>>>>>>>>>>>>>>>] 655/655, 7.5 task/s, elapsed: 87s, ETA:     0s"
     ]
    },
    {
     "name": "stderr",
     "output_type": "stream",
     "text": [
      "2021-05-19 08:59:03,955 - mmdet - INFO - Evaluating bbox...\n"
     ]
    },
    {
     "name": "stdout",
     "output_type": "stream",
     "text": [
      "Loading and preparing results...\n",
      "DONE (t=2.38s)\n",
      "creating index...\n",
      "index created!\n",
      "Running per image evaluation...\n",
      "Evaluate annotation type *bbox*\n",
      "DONE (t=10.62s).\n",
      "Accumulating evaluation results...\n",
      "DONE (t=3.26s).\n",
      "Average Precision  (AP) @[ IoU=0.50:0.95 | area=   all | maxDets=100 ] = 0.209\n",
      "Average Precision  (AP) @[ IoU=0.50      | area=   all | maxDets=1000 ] = 0.340\n",
      "Average Precision  (AP) @[ IoU=0.75      | area=   all | maxDets=1000 ] = 0.217\n",
      "Average Precision  (AP) @[ IoU=0.50:0.95 | area= small | maxDets=1000 ] = 0.025\n",
      "Average Precision  (AP) @[ IoU=0.50:0.95 | area=medium | maxDets=1000 ] = 0.172\n",
      "Average Precision  (AP) @[ IoU=0.50:0.95 | area= large | maxDets=1000 ] = 0.434\n",
      "Average Recall     (AR) @[ IoU=0.50:0.95 | area=   all | maxDets=100 ] = 0.402\n",
      "Average Recall     (AR) @[ IoU=0.50:0.95 | area=   all | maxDets=300 ] = 0.402\n",
      "Average Recall     (AR) @[ IoU=0.50:0.95 | area=   all | maxDets=1000 ] = 0.402\n",
      "Average Recall     (AR) @[ IoU=0.50:0.95 | area= small | maxDets=1000 ] = 0.118\n",
      "Average Recall     (AR) @[ IoU=0.50:0.95 | area=medium | maxDets=1000 ] = 0.389\n",
      "Average Recall     (AR) @[ IoU=0.50:0.95 | area= large | maxDets=1000 ] = 0.657\n"
     ]
    },
    {
     "name": "stderr",
     "output_type": "stream",
     "text": [
      "2021-05-19 08:59:20,514 - mmdet - INFO - Epoch(val) [32][288]\tbbox_mAP: 0.2090, bbox_mAP_50: 0.3400, bbox_mAP_75: 0.2170, bbox_mAP_s: 0.0250, bbox_mAP_m: 0.1720, bbox_mAP_l: 0.4340, bbox_mAP_copypaste: 0.209 0.340 0.217 0.025 0.172 0.434\n",
      "2021-05-19 08:59:33,127 - mmdet - INFO - Epoch [33][10/288]\tlr: 2.772e-05, eta: 0:18:52, time: 1.260, data_time: 0.256, memory: 7613, loss_cls: 0.4156, loss_bbox: 0.1849, loss_bbox_rf: 0.2341, loss: 0.8345, grad_norm: 8.7067\n",
      "2021-05-19 08:59:43,423 - mmdet - INFO - Epoch [33][20/288]\tlr: 2.770e-05, eta: 0:18:42, time: 1.030, data_time: 0.019, memory: 7613, loss_cls: 0.4131, loss_bbox: 0.1798, loss_bbox_rf: 0.2229, loss: 0.8158, grad_norm: 10.6469\n",
      "2021-05-19 08:59:53,753 - mmdet - INFO - Epoch [33][30/288]\tlr: 2.767e-05, eta: 0:18:32, time: 1.033, data_time: 0.019, memory: 7613, loss_cls: 0.4317, loss_bbox: 0.1975, loss_bbox_rf: 0.2483, loss: 0.8775, grad_norm: 12.6463\n",
      "2021-05-19 09:00:04,009 - mmdet - INFO - Epoch [33][40/288]\tlr: 2.764e-05, eta: 0:18:22, time: 1.026, data_time: 0.019, memory: 7613, loss_cls: 0.4214, loss_bbox: 0.1842, loss_bbox_rf: 0.2331, loss: 0.8388, grad_norm: 11.3208\n",
      "2021-05-19 09:00:14,224 - mmdet - INFO - Epoch [33][50/288]\tlr: 2.762e-05, eta: 0:18:12, time: 1.021, data_time: 0.019, memory: 7613, loss_cls: 0.4163, loss_bbox: 0.1837, loss_bbox_rf: 0.2309, loss: 0.8309, grad_norm: 8.2398\n",
      "2021-05-19 09:00:24,422 - mmdet - INFO - Epoch [33][60/288]\tlr: 2.759e-05, eta: 0:18:03, time: 1.020, data_time: 0.019, memory: 7613, loss_cls: 0.4265, loss_bbox: 0.1879, loss_bbox_rf: 0.2380, loss: 0.8524, grad_norm: 9.2149\n",
      "2021-05-19 09:00:34,572 - mmdet - INFO - Epoch [33][70/288]\tlr: 2.757e-05, eta: 0:17:53, time: 1.015, data_time: 0.018, memory: 7613, loss_cls: 0.4305, loss_bbox: 0.1975, loss_bbox_rf: 0.2506, loss: 0.8786, grad_norm: 8.0000\n",
      "2021-05-19 09:00:44,739 - mmdet - INFO - Epoch [33][80/288]\tlr: 2.754e-05, eta: 0:17:43, time: 1.017, data_time: 0.018, memory: 7613, loss_cls: 0.4388, loss_bbox: 0.1898, loss_bbox_rf: 0.2380, loss: 0.8666, grad_norm: 8.6137\n",
      "2021-05-19 09:00:54,863 - mmdet - INFO - Epoch [33][90/288]\tlr: 2.751e-05, eta: 0:17:33, time: 1.012, data_time: 0.018, memory: 7613, loss_cls: 0.4236, loss_bbox: 0.1815, loss_bbox_rf: 0.2283, loss: 0.8334, grad_norm: 9.7043\n",
      "2021-05-19 09:01:05,041 - mmdet - INFO - Epoch [33][100/288]\tlr: 2.749e-05, eta: 0:17:23, time: 1.018, data_time: 0.019, memory: 7613, loss_cls: 0.4236, loss_bbox: 0.1811, loss_bbox_rf: 0.2292, loss: 0.8339, grad_norm: 9.0245\n",
      "2021-05-19 09:01:15,203 - mmdet - INFO - Epoch [33][110/288]\tlr: 2.746e-05, eta: 0:17:13, time: 1.016, data_time: 0.018, memory: 7613, loss_cls: 0.4490, loss_bbox: 0.1938, loss_bbox_rf: 0.2448, loss: 0.8876, grad_norm: 9.9615\n",
      "2021-05-19 09:01:25,336 - mmdet - INFO - Epoch [33][120/288]\tlr: 2.743e-05, eta: 0:17:03, time: 1.013, data_time: 0.018, memory: 7613, loss_cls: 0.4483, loss_bbox: 0.1900, loss_bbox_rf: 0.2372, loss: 0.8755, grad_norm: 10.0125\n",
      "2021-05-19 09:01:35,483 - mmdet - INFO - Epoch [33][130/288]\tlr: 2.740e-05, eta: 0:16:53, time: 1.015, data_time: 0.018, memory: 7613, loss_cls: 0.4537, loss_bbox: 0.1900, loss_bbox_rf: 0.2407, loss: 0.8844, grad_norm: 9.1136\n",
      "2021-05-19 09:01:45,631 - mmdet - INFO - Epoch [33][140/288]\tlr: 2.738e-05, eta: 0:16:43, time: 1.015, data_time: 0.018, memory: 7613, loss_cls: 0.4260, loss_bbox: 0.1904, loss_bbox_rf: 0.2396, loss: 0.8561, grad_norm: 9.5643\n",
      "2021-05-19 09:01:55,778 - mmdet - INFO - Epoch [33][150/288]\tlr: 2.735e-05, eta: 0:16:34, time: 1.015, data_time: 0.018, memory: 7613, loss_cls: 0.4352, loss_bbox: 0.1873, loss_bbox_rf: 0.2355, loss: 0.8581, grad_norm: 8.8296\n",
      "2021-05-19 09:02:05,929 - mmdet - INFO - Epoch [33][160/288]\tlr: 2.732e-05, eta: 0:16:24, time: 1.015, data_time: 0.018, memory: 7613, loss_cls: 0.4341, loss_bbox: 0.1890, loss_bbox_rf: 0.2378, loss: 0.8609, grad_norm: 10.8344\n",
      "2021-05-19 09:02:16,092 - mmdet - INFO - Epoch [33][170/288]\tlr: 2.729e-05, eta: 0:16:14, time: 1.016, data_time: 0.019, memory: 7613, loss_cls: 0.4291, loss_bbox: 0.1923, loss_bbox_rf: 0.2404, loss: 0.8619, grad_norm: 10.0890\n",
      "2021-05-19 09:02:26,353 - mmdet - INFO - Epoch [33][180/288]\tlr: 2.727e-05, eta: 0:16:04, time: 1.026, data_time: 0.020, memory: 7613, loss_cls: 0.4328, loss_bbox: 0.1960, loss_bbox_rf: 0.2459, loss: 0.8747, grad_norm: 9.5299\n",
      "2021-05-19 09:02:36,517 - mmdet - INFO - Epoch [33][190/288]\tlr: 2.724e-05, eta: 0:15:54, time: 1.016, data_time: 0.018, memory: 7613, loss_cls: 0.4399, loss_bbox: 0.1961, loss_bbox_rf: 0.2460, loss: 0.8820, grad_norm: 10.5013\n",
      "2021-05-19 09:02:46,690 - mmdet - INFO - Epoch [33][200/288]\tlr: 2.721e-05, eta: 0:15:44, time: 1.017, data_time: 0.018, memory: 7613, loss_cls: 0.4357, loss_bbox: 0.1854, loss_bbox_rf: 0.2340, loss: 0.8550, grad_norm: 10.1626\n",
      "2021-05-19 09:02:56,828 - mmdet - INFO - Epoch [33][210/288]\tlr: 2.718e-05, eta: 0:15:34, time: 1.014, data_time: 0.018, memory: 7613, loss_cls: 0.4153, loss_bbox: 0.1771, loss_bbox_rf: 0.2246, loss: 0.8171, grad_norm: 8.8602\n",
      "2021-05-19 09:03:06,956 - mmdet - INFO - Epoch [33][220/288]\tlr: 2.715e-05, eta: 0:15:24, time: 1.013, data_time: 0.018, memory: 7613, loss_cls: 0.4156, loss_bbox: 0.1807, loss_bbox_rf: 0.2266, loss: 0.8229, grad_norm: 7.5530\n",
      "2021-05-19 09:03:17,076 - mmdet - INFO - Epoch [33][230/288]\tlr: 2.712e-05, eta: 0:15:14, time: 1.012, data_time: 0.018, memory: 7613, loss_cls: 0.4153, loss_bbox: 0.1751, loss_bbox_rf: 0.2217, loss: 0.8121, grad_norm: 6.8268\n",
      "2021-05-19 09:03:27,188 - mmdet - INFO - Epoch [33][240/288]\tlr: 2.709e-05, eta: 0:15:04, time: 1.011, data_time: 0.018, memory: 7613, loss_cls: 0.4202, loss_bbox: 0.1919, loss_bbox_rf: 0.2436, loss: 0.8557, grad_norm: 6.9135\n",
      "2021-05-19 09:03:37,368 - mmdet - INFO - Epoch [33][250/288]\tlr: 2.706e-05, eta: 0:14:55, time: 1.018, data_time: 0.019, memory: 7613, loss_cls: 0.4350, loss_bbox: 0.1806, loss_bbox_rf: 0.2285, loss: 0.8441, grad_norm: 7.7253\n",
      "2021-05-19 09:03:47,511 - mmdet - INFO - Epoch [33][260/288]\tlr: 2.704e-05, eta: 0:14:45, time: 1.014, data_time: 0.018, memory: 7613, loss_cls: 0.4408, loss_bbox: 0.1847, loss_bbox_rf: 0.2328, loss: 0.8583, grad_norm: 9.0843\n",
      "2021-05-19 09:03:57,668 - mmdet - INFO - Epoch [33][270/288]\tlr: 2.701e-05, eta: 0:14:35, time: 1.016, data_time: 0.018, memory: 7613, loss_cls: 0.4229, loss_bbox: 0.1776, loss_bbox_rf: 0.2244, loss: 0.8248, grad_norm: 7.5226\n",
      "2021-05-19 09:04:07,831 - mmdet - INFO - Epoch [33][280/288]\tlr: 2.698e-05, eta: 0:14:25, time: 1.016, data_time: 0.018, memory: 7613, loss_cls: 0.4461, loss_bbox: 0.1970, loss_bbox_rf: 0.2501, loss: 0.8931, grad_norm: 7.3742\n",
      "2021-05-19 09:04:16,048 - mmdet - INFO - Saving checkpoint at 33 epochs\n"
     ]
    },
    {
     "name": "stdout",
     "output_type": "stream",
     "text": [
      "[>>>>>>>>>>>>>>>>>>>>>>>>>>>>>>] 655/655, 7.7 task/s, elapsed: 85s, ETA:     0s"
     ]
    },
    {
     "name": "stderr",
     "output_type": "stream",
     "text": [
      "2021-05-19 09:05:45,543 - mmdet - INFO - Evaluating bbox...\n"
     ]
    },
    {
     "name": "stdout",
     "output_type": "stream",
     "text": [
      "Loading and preparing results...\n",
      "DONE (t=2.40s)\n",
      "creating index...\n",
      "index created!\n",
      "Running per image evaluation...\n",
      "Evaluate annotation type *bbox*\n",
      "DONE (t=11.55s).\n",
      "Accumulating evaluation results...\n"
     ]
    },
    {
     "name": "stderr",
     "output_type": "stream",
     "text": [
      "2021-05-19 09:06:03,090 - mmdet - INFO - Epoch(val) [33][288]\tbbox_mAP: 0.2060, bbox_mAP_50: 0.3410, bbox_mAP_75: 0.2090, bbox_mAP_s: 0.0260, bbox_mAP_m: 0.1740, bbox_mAP_l: 0.4510, bbox_mAP_copypaste: 0.206 0.341 0.209 0.026 0.174 0.451\n"
     ]
    },
    {
     "name": "stdout",
     "output_type": "stream",
     "text": [
      "DONE (t=3.32s).\n",
      "Average Precision  (AP) @[ IoU=0.50:0.95 | area=   all | maxDets=100 ] = 0.206\n",
      "Average Precision  (AP) @[ IoU=0.50      | area=   all | maxDets=1000 ] = 0.341\n",
      "Average Precision  (AP) @[ IoU=0.75      | area=   all | maxDets=1000 ] = 0.209\n",
      "Average Precision  (AP) @[ IoU=0.50:0.95 | area= small | maxDets=1000 ] = 0.026\n",
      "Average Precision  (AP) @[ IoU=0.50:0.95 | area=medium | maxDets=1000 ] = 0.174\n",
      "Average Precision  (AP) @[ IoU=0.50:0.95 | area= large | maxDets=1000 ] = 0.451\n",
      "Average Recall     (AR) @[ IoU=0.50:0.95 | area=   all | maxDets=100 ] = 0.382\n",
      "Average Recall     (AR) @[ IoU=0.50:0.95 | area=   all | maxDets=300 ] = 0.382\n",
      "Average Recall     (AR) @[ IoU=0.50:0.95 | area=   all | maxDets=1000 ] = 0.382\n",
      "Average Recall     (AR) @[ IoU=0.50:0.95 | area= small | maxDets=1000 ] = 0.108\n",
      "Average Recall     (AR) @[ IoU=0.50:0.95 | area=medium | maxDets=1000 ] = 0.356\n",
      "Average Recall     (AR) @[ IoU=0.50:0.95 | area= large | maxDets=1000 ] = 0.649\n"
     ]
    },
    {
     "name": "stderr",
     "output_type": "stream",
     "text": [
      "2021-05-19 09:06:15,687 - mmdet - INFO - Epoch [34][10/288]\tlr: 2.692e-05, eta: 0:14:07, time: 1.258, data_time: 0.257, memory: 7613, loss_cls: 0.4149, loss_bbox: 0.1858, loss_bbox_rf: 0.2340, loss: 0.8346, grad_norm: 7.0122\n",
      "2021-05-19 09:06:25,882 - mmdet - INFO - Epoch [34][20/288]\tlr: 2.689e-05, eta: 0:13:57, time: 1.020, data_time: 0.020, memory: 7613, loss_cls: 0.4205, loss_bbox: 0.1813, loss_bbox_rf: 0.2293, loss: 0.8311, grad_norm: 8.0454\n",
      "2021-05-19 09:06:36,049 - mmdet - INFO - Epoch [34][30/288]\tlr: 2.686e-05, eta: 0:13:47, time: 1.017, data_time: 0.019, memory: 7613, loss_cls: 0.4168, loss_bbox: 0.1829, loss_bbox_rf: 0.2312, loss: 0.8309, grad_norm: 10.2775\n",
      "2021-05-19 09:06:46,188 - mmdet - INFO - Epoch [34][40/288]\tlr: 2.683e-05, eta: 0:13:37, time: 1.014, data_time: 0.019, memory: 7613, loss_cls: 0.4173, loss_bbox: 0.1880, loss_bbox_rf: 0.2380, loss: 0.8433, grad_norm: 7.5947\n",
      "2021-05-19 09:06:56,348 - mmdet - INFO - Epoch [34][50/288]\tlr: 2.680e-05, eta: 0:13:27, time: 1.016, data_time: 0.018, memory: 7613, loss_cls: 0.4089, loss_bbox: 0.1850, loss_bbox_rf: 0.2349, loss: 0.8288, grad_norm: 8.1478\n",
      "2021-05-19 09:07:06,542 - mmdet - INFO - Epoch [34][60/288]\tlr: 2.677e-05, eta: 0:13:17, time: 1.019, data_time: 0.019, memory: 7613, loss_cls: 0.4027, loss_bbox: 0.1737, loss_bbox_rf: 0.2184, loss: 0.7948, grad_norm: 8.2141\n",
      "2021-05-19 09:07:16,675 - mmdet - INFO - Epoch [34][70/288]\tlr: 2.674e-05, eta: 0:13:07, time: 1.013, data_time: 0.018, memory: 7613, loss_cls: 0.4021, loss_bbox: 0.1822, loss_bbox_rf: 0.2305, loss: 0.8148, grad_norm: 8.1409\n",
      "2021-05-19 09:07:26,775 - mmdet - INFO - Epoch [34][80/288]\tlr: 2.671e-05, eta: 0:12:57, time: 1.010, data_time: 0.018, memory: 7613, loss_cls: 0.4101, loss_bbox: 0.1896, loss_bbox_rf: 0.2391, loss: 0.8388, grad_norm: 8.4487\n",
      "2021-05-19 09:07:36,948 - mmdet - INFO - Epoch [34][90/288]\tlr: 2.668e-05, eta: 0:12:47, time: 1.017, data_time: 0.019, memory: 7613, loss_cls: 0.4139, loss_bbox: 0.1760, loss_bbox_rf: 0.2205, loss: 0.8104, grad_norm: 8.9862\n",
      "2021-05-19 09:07:47,153 - mmdet - INFO - Epoch [34][100/288]\tlr: 2.665e-05, eta: 0:12:37, time: 1.021, data_time: 0.019, memory: 7613, loss_cls: 0.4015, loss_bbox: 0.1724, loss_bbox_rf: 0.2177, loss: 0.7917, grad_norm: 8.2665\n",
      "2021-05-19 09:07:57,262 - mmdet - INFO - Epoch [34][110/288]\tlr: 2.661e-05, eta: 0:12:28, time: 1.011, data_time: 0.019, memory: 7613, loss_cls: 0.4057, loss_bbox: 0.1750, loss_bbox_rf: 0.2228, loss: 0.8035, grad_norm: 8.5913\n",
      "2021-05-19 09:08:07,427 - mmdet - INFO - Epoch [34][120/288]\tlr: 2.658e-05, eta: 0:12:18, time: 1.016, data_time: 0.019, memory: 7613, loss_cls: 0.4080, loss_bbox: 0.1852, loss_bbox_rf: 0.2334, loss: 0.8266, grad_norm: 8.8932\n",
      "2021-05-19 09:08:17,640 - mmdet - INFO - Epoch [34][130/288]\tlr: 2.655e-05, eta: 0:12:08, time: 1.021, data_time: 0.019, memory: 7613, loss_cls: 0.4105, loss_bbox: 0.1787, loss_bbox_rf: 0.2250, loss: 0.8142, grad_norm: 8.3904\n",
      "2021-05-19 09:08:27,762 - mmdet - INFO - Epoch [34][140/288]\tlr: 2.652e-05, eta: 0:11:58, time: 1.012, data_time: 0.018, memory: 7613, loss_cls: 0.4239, loss_bbox: 0.1845, loss_bbox_rf: 0.2330, loss: 0.8415, grad_norm: 9.4037\n",
      "2021-05-19 09:08:37,990 - mmdet - INFO - Epoch [34][150/288]\tlr: 2.649e-05, eta: 0:11:48, time: 1.023, data_time: 0.021, memory: 7613, loss_cls: 0.4114, loss_bbox: 0.1736, loss_bbox_rf: 0.2170, loss: 0.8020, grad_norm: 9.3976\n",
      "2021-05-19 09:08:48,230 - mmdet - INFO - Epoch [34][160/288]\tlr: 2.645e-05, eta: 0:11:38, time: 1.024, data_time: 0.019, memory: 7613, loss_cls: 0.4046, loss_bbox: 0.1645, loss_bbox_rf: 0.2058, loss: 0.7749, grad_norm: 10.8559\n",
      "2021-05-19 09:08:58,413 - mmdet - INFO - Epoch [34][170/288]\tlr: 2.642e-05, eta: 0:11:28, time: 1.018, data_time: 0.020, memory: 7613, loss_cls: 0.4172, loss_bbox: 0.1802, loss_bbox_rf: 0.2274, loss: 0.8248, grad_norm: 7.9985\n",
      "2021-05-19 09:09:08,517 - mmdet - INFO - Epoch [34][180/288]\tlr: 2.639e-05, eta: 0:11:18, time: 1.010, data_time: 0.020, memory: 7613, loss_cls: 0.4220, loss_bbox: 0.1898, loss_bbox_rf: 0.2402, loss: 0.8520, grad_norm: 7.6104\n",
      "2021-05-19 09:09:18,587 - mmdet - INFO - Epoch [34][190/288]\tlr: 2.636e-05, eta: 0:11:08, time: 1.007, data_time: 0.019, memory: 7613, loss_cls: 0.4273, loss_bbox: 0.1869, loss_bbox_rf: 0.2367, loss: 0.8508, grad_norm: 8.1172\n",
      "2021-05-19 09:09:28,666 - mmdet - INFO - Epoch [34][200/288]\tlr: 2.632e-05, eta: 0:10:58, time: 1.008, data_time: 0.018, memory: 7613, loss_cls: 0.4371, loss_bbox: 0.1912, loss_bbox_rf: 0.2423, loss: 0.8706, grad_norm: 8.7174\n",
      "2021-05-19 09:09:38,761 - mmdet - INFO - Epoch [34][210/288]\tlr: 2.629e-05, eta: 0:10:48, time: 1.010, data_time: 0.018, memory: 7613, loss_cls: 0.4219, loss_bbox: 0.1854, loss_bbox_rf: 0.2332, loss: 0.8405, grad_norm: 10.7023\n",
      "2021-05-19 09:09:48,881 - mmdet - INFO - Epoch [34][220/288]\tlr: 2.626e-05, eta: 0:10:39, time: 1.012, data_time: 0.019, memory: 7613, loss_cls: 0.4146, loss_bbox: 0.1728, loss_bbox_rf: 0.2175, loss: 0.8049, grad_norm: 8.5207\n",
      "2021-05-19 09:09:59,225 - mmdet - INFO - Epoch [34][230/288]\tlr: 2.622e-05, eta: 0:10:29, time: 1.034, data_time: 0.019, memory: 7613, loss_cls: 0.4026, loss_bbox: 0.1638, loss_bbox_rf: 0.2042, loss: 0.7705, grad_norm: 9.2544\n",
      "2021-05-19 09:10:09,675 - mmdet - INFO - Epoch [34][240/288]\tlr: 2.619e-05, eta: 0:10:19, time: 1.045, data_time: 0.019, memory: 7613, loss_cls: 0.4237, loss_bbox: 0.1840, loss_bbox_rf: 0.2313, loss: 0.8390, grad_norm: 8.9207\n",
      "2021-05-19 09:10:20,064 - mmdet - INFO - Epoch [34][250/288]\tlr: 2.616e-05, eta: 0:10:09, time: 1.039, data_time: 0.019, memory: 7613, loss_cls: 0.4204, loss_bbox: 0.1844, loss_bbox_rf: 0.2318, loss: 0.8366, grad_norm: 7.6843\n",
      "2021-05-19 09:10:30,240 - mmdet - INFO - Epoch [34][260/288]\tlr: 2.612e-05, eta: 0:09:59, time: 1.018, data_time: 0.019, memory: 7613, loss_cls: 0.4306, loss_bbox: 0.1893, loss_bbox_rf: 0.2410, loss: 0.8609, grad_norm: 7.2448\n",
      "2021-05-19 09:10:40,292 - mmdet - INFO - Epoch [34][270/288]\tlr: 2.609e-05, eta: 0:09:49, time: 1.005, data_time: 0.017, memory: 7613, loss_cls: 0.3917, loss_bbox: 0.1702, loss_bbox_rf: 0.2173, loss: 0.7791, grad_norm: 7.3471\n",
      "2021-05-19 09:10:50,369 - mmdet - INFO - Epoch [34][280/288]\tlr: 2.606e-05, eta: 0:09:39, time: 1.008, data_time: 0.019, memory: 7613, loss_cls: 0.4327, loss_bbox: 0.1867, loss_bbox_rf: 0.2375, loss: 0.8569, grad_norm: 6.6230\n",
      "2021-05-19 09:10:58,561 - mmdet - INFO - Saving checkpoint at 34 epochs\n"
     ]
    },
    {
     "name": "stdout",
     "output_type": "stream",
     "text": [
      "[>>>>>>>>>>>>>>>>>>>>>>>>>>>>>>] 655/655, 7.8 task/s, elapsed: 84s, ETA:     0s"
     ]
    },
    {
     "name": "stderr",
     "output_type": "stream",
     "text": [
      "2021-05-19 09:12:27,557 - mmdet - INFO - Evaluating bbox...\n"
     ]
    },
    {
     "name": "stdout",
     "output_type": "stream",
     "text": [
      "Loading and preparing results...\n",
      "DONE (t=2.43s)\n",
      "creating index...\n",
      "index created!\n",
      "Running per image evaluation...\n",
      "Evaluate annotation type *bbox*\n",
      "DONE (t=10.84s).\n",
      "Accumulating evaluation results...\n",
      "DONE (t=3.24s).\n",
      "Average Precision  (AP) @[ IoU=0.50:0.95 | area=   all | maxDets=100 ] = 0.212\n",
      "Average Precision  (AP) @[ IoU=0.50      | area=   all | maxDets=1000 ] = 0.343\n",
      "Average Precision  (AP) @[ IoU=0.75      | area=   all | maxDets=1000 ] = 0.226\n",
      "Average Precision  (AP) @[ IoU=0.50:0.95 | area= small | maxDets=1000 ] = 0.027\n",
      "Average Precision  (AP) @[ IoU=0.50:0.95 | area=medium | maxDets=1000 ] = 0.176\n",
      "Average Precision  (AP) @[ IoU=0.50:0.95 | area= large | maxDets=1000 ] = 0.459\n",
      "Average Recall     (AR) @[ IoU=0.50:0.95 | area=   all | maxDets=100 ] = 0.399\n",
      "Average Recall     (AR) @[ IoU=0.50:0.95 | area=   all | maxDets=300 ] = 0.399\n",
      "Average Recall     (AR) @[ IoU=0.50:0.95 | area=   all | maxDets=1000 ] = 0.399\n",
      "Average Recall     (AR) @[ IoU=0.50:0.95 | area= small | maxDets=1000 ] = 0.119\n",
      "Average Recall     (AR) @[ IoU=0.50:0.95 | area=medium | maxDets=1000 ] = 0.393\n",
      "Average Recall     (AR) @[ IoU=0.50:0.95 | area= large | maxDets=1000 ] = 0.657\n"
     ]
    },
    {
     "name": "stderr",
     "output_type": "stream",
     "text": [
      "2021-05-19 09:12:44,353 - mmdet - INFO - Epoch(val) [34][288]\tbbox_mAP: 0.2120, bbox_mAP_50: 0.3430, bbox_mAP_75: 0.2260, bbox_mAP_s: 0.0270, bbox_mAP_m: 0.1760, bbox_mAP_l: 0.4590, bbox_mAP_copypaste: 0.212 0.343 0.226 0.027 0.176 0.459\n",
      "2021-05-19 09:12:56,841 - mmdet - INFO - Epoch [35][10/288]\tlr: 2.599e-05, eta: 0:09:21, time: 1.247, data_time: 0.254, memory: 7613, loss_cls: 0.4239, loss_bbox: 0.1742, loss_bbox_rf: 0.2198, loss: 0.8180, grad_norm: 9.7101\n",
      "2021-05-19 09:13:06,967 - mmdet - INFO - Epoch [35][20/288]\tlr: 2.596e-05, eta: 0:09:11, time: 1.013, data_time: 0.021, memory: 7613, loss_cls: 0.4154, loss_bbox: 0.1772, loss_bbox_rf: 0.2222, loss: 0.8149, grad_norm: 10.1894\n",
      "2021-05-19 09:13:17,052 - mmdet - INFO - Epoch [35][30/288]\tlr: 2.593e-05, eta: 0:09:01, time: 1.008, data_time: 0.019, memory: 7613, loss_cls: 0.4139, loss_bbox: 0.1683, loss_bbox_rf: 0.2121, loss: 0.7943, grad_norm: 8.8816\n",
      "2021-05-19 09:13:27,145 - mmdet - INFO - Epoch [35][40/288]\tlr: 2.589e-05, eta: 0:08:51, time: 1.009, data_time: 0.018, memory: 7613, loss_cls: 0.4091, loss_bbox: 0.1813, loss_bbox_rf: 0.2286, loss: 0.8189, grad_norm: 8.1782\n",
      "2021-05-19 09:13:37,248 - mmdet - INFO - Epoch [35][50/288]\tlr: 2.586e-05, eta: 0:08:41, time: 1.010, data_time: 0.018, memory: 7613, loss_cls: 0.3998, loss_bbox: 0.1791, loss_bbox_rf: 0.2247, loss: 0.8036, grad_norm: 8.3374\n",
      "2021-05-19 09:13:47,365 - mmdet - INFO - Epoch [35][60/288]\tlr: 2.582e-05, eta: 0:08:31, time: 1.012, data_time: 0.020, memory: 7613, loss_cls: 0.3968, loss_bbox: 0.1726, loss_bbox_rf: 0.2199, loss: 0.7892, grad_norm: 7.3512\n",
      "2021-05-19 09:13:57,457 - mmdet - INFO - Epoch [35][70/288]\tlr: 2.579e-05, eta: 0:08:22, time: 1.009, data_time: 0.020, memory: 7613, loss_cls: 0.4033, loss_bbox: 0.1748, loss_bbox_rf: 0.2208, loss: 0.7989, grad_norm: 7.7502\n",
      "2021-05-19 09:14:07,587 - mmdet - INFO - Epoch [35][80/288]\tlr: 2.575e-05, eta: 0:08:12, time: 1.013, data_time: 0.020, memory: 7613, loss_cls: 0.3985, loss_bbox: 0.1648, loss_bbox_rf: 0.2083, loss: 0.7716, grad_norm: 9.1757\n",
      "2021-05-19 09:14:17,704 - mmdet - INFO - Epoch [35][90/288]\tlr: 2.572e-05, eta: 0:08:02, time: 1.012, data_time: 0.020, memory: 7613, loss_cls: 0.4069, loss_bbox: 0.1745, loss_bbox_rf: 0.2188, loss: 0.8002, grad_norm: 10.6473\n",
      "2021-05-19 09:14:27,824 - mmdet - INFO - Epoch [35][100/288]\tlr: 2.568e-05, eta: 0:07:52, time: 1.012, data_time: 0.020, memory: 7613, loss_cls: 0.4027, loss_bbox: 0.1706, loss_bbox_rf: 0.2137, loss: 0.7870, grad_norm: 10.2205\n",
      "2021-05-19 09:14:37,936 - mmdet - INFO - Epoch [35][110/288]\tlr: 2.564e-05, eta: 0:07:42, time: 1.011, data_time: 0.019, memory: 7613, loss_cls: 0.4028, loss_bbox: 0.1762, loss_bbox_rf: 0.2200, loss: 0.7989, grad_norm: 9.9319\n",
      "2021-05-19 09:14:48,034 - mmdet - INFO - Epoch [35][120/288]\tlr: 2.561e-05, eta: 0:07:32, time: 1.010, data_time: 0.019, memory: 7613, loss_cls: 0.3945, loss_bbox: 0.1717, loss_bbox_rf: 0.2184, loss: 0.7846, grad_norm: 9.3294\n",
      "2021-05-19 09:14:58,129 - mmdet - INFO - Epoch [35][130/288]\tlr: 2.557e-05, eta: 0:07:22, time: 1.010, data_time: 0.018, memory: 7613, loss_cls: 0.3866, loss_bbox: 0.1674, loss_bbox_rf: 0.2119, loss: 0.7659, grad_norm: 7.7419\n",
      "2021-05-19 09:15:08,272 - mmdet - INFO - Epoch [35][140/288]\tlr: 2.554e-05, eta: 0:07:12, time: 1.014, data_time: 0.020, memory: 7613, loss_cls: 0.3788, loss_bbox: 0.1593, loss_bbox_rf: 0.2000, loss: 0.7381, grad_norm: 9.3448\n",
      "2021-05-19 09:15:18,377 - mmdet - INFO - Epoch [35][150/288]\tlr: 2.550e-05, eta: 0:07:02, time: 1.011, data_time: 0.019, memory: 7613, loss_cls: 0.3939, loss_bbox: 0.1765, loss_bbox_rf: 0.2247, loss: 0.7950, grad_norm: 8.2155\n",
      "2021-05-19 09:15:28,475 - mmdet - INFO - Epoch [35][160/288]\tlr: 2.547e-05, eta: 0:06:52, time: 1.010, data_time: 0.018, memory: 7613, loss_cls: 0.4079, loss_bbox: 0.1885, loss_bbox_rf: 0.2367, loss: 0.8331, grad_norm: 8.1574\n",
      "2021-05-19 09:15:38,583 - mmdet - INFO - Epoch [35][170/288]\tlr: 2.543e-05, eta: 0:06:42, time: 1.011, data_time: 0.018, memory: 7613, loss_cls: 0.3936, loss_bbox: 0.1719, loss_bbox_rf: 0.2167, loss: 0.7822, grad_norm: 8.9838\n",
      "2021-05-19 09:15:48,711 - mmdet - INFO - Epoch [35][180/288]\tlr: 2.539e-05, eta: 0:06:32, time: 1.013, data_time: 0.018, memory: 7613, loss_cls: 0.4212, loss_bbox: 0.1776, loss_bbox_rf: 0.2243, loss: 0.8231, grad_norm: 8.7193\n",
      "2021-05-19 09:15:58,810 - mmdet - INFO - Epoch [35][190/288]\tlr: 2.536e-05, eta: 0:06:23, time: 1.010, data_time: 0.018, memory: 7613, loss_cls: 0.4049, loss_bbox: 0.1845, loss_bbox_rf: 0.2336, loss: 0.8230, grad_norm: 7.0314\n",
      "2021-05-19 09:16:08,903 - mmdet - INFO - Epoch [35][200/288]\tlr: 2.532e-05, eta: 0:06:13, time: 1.009, data_time: 0.018, memory: 7613, loss_cls: 0.3968, loss_bbox: 0.1763, loss_bbox_rf: 0.2235, loss: 0.7965, grad_norm: 6.6225\n",
      "2021-05-19 09:16:18,994 - mmdet - INFO - Epoch [35][210/288]\tlr: 2.528e-05, eta: 0:06:03, time: 1.009, data_time: 0.018, memory: 7613, loss_cls: 0.3930, loss_bbox: 0.1736, loss_bbox_rf: 0.2200, loss: 0.7867, grad_norm: 7.9528\n",
      "2021-05-19 09:16:29,083 - mmdet - INFO - Epoch [35][220/288]\tlr: 2.524e-05, eta: 0:05:53, time: 1.009, data_time: 0.018, memory: 7613, loss_cls: 0.3848, loss_bbox: 0.1631, loss_bbox_rf: 0.2032, loss: 0.7511, grad_norm: 8.7442\n",
      "2021-05-19 09:16:39,145 - mmdet - INFO - Epoch [35][230/288]\tlr: 2.521e-05, eta: 0:05:43, time: 1.006, data_time: 0.018, memory: 7613, loss_cls: 0.3957, loss_bbox: 0.1708, loss_bbox_rf: 0.2117, loss: 0.7782, grad_norm: 9.7565\n",
      "2021-05-19 09:16:49,235 - mmdet - INFO - Epoch [35][240/288]\tlr: 2.517e-05, eta: 0:05:33, time: 1.009, data_time: 0.019, memory: 7613, loss_cls: 0.4107, loss_bbox: 0.1730, loss_bbox_rf: 0.2201, loss: 0.8039, grad_norm: 8.3289\n",
      "2021-05-19 09:16:59,337 - mmdet - INFO - Epoch [35][250/288]\tlr: 2.513e-05, eta: 0:05:23, time: 1.010, data_time: 0.017, memory: 7613, loss_cls: 0.4137, loss_bbox: 0.1849, loss_bbox_rf: 0.2328, loss: 0.8315, grad_norm: 10.3533\n",
      "2021-05-19 09:17:09,427 - mmdet - INFO - Epoch [35][260/288]\tlr: 2.510e-05, eta: 0:05:13, time: 1.009, data_time: 0.017, memory: 7613, loss_cls: 0.4316, loss_bbox: 0.2075, loss_bbox_rf: 0.2635, loss: 0.9026, grad_norm: 8.8716\n",
      "2021-05-19 09:17:19,496 - mmdet - INFO - Epoch [35][270/288]\tlr: 2.506e-05, eta: 0:05:03, time: 1.007, data_time: 0.017, memory: 7613, loss_cls: 0.4051, loss_bbox: 0.1756, loss_bbox_rf: 0.2203, loss: 0.8010, grad_norm: 9.7407\n",
      "2021-05-19 09:17:29,574 - mmdet - INFO - Epoch [35][280/288]\tlr: 2.502e-05, eta: 0:04:53, time: 1.008, data_time: 0.017, memory: 7613, loss_cls: 0.3999, loss_bbox: 0.1782, loss_bbox_rf: 0.2267, loss: 0.8048, grad_norm: 8.5542\n",
      "2021-05-19 09:17:37,708 - mmdet - INFO - Saving checkpoint at 35 epochs\n"
     ]
    },
    {
     "name": "stdout",
     "output_type": "stream",
     "text": [
      "[>>>>>>>>>>>>>>>>>>>>>>>>>>>>>>] 655/655, 7.6 task/s, elapsed: 86s, ETA:     0s"
     ]
    },
    {
     "name": "stderr",
     "output_type": "stream",
     "text": [
      "2021-05-19 09:19:08,341 - mmdet - INFO - Evaluating bbox...\n"
     ]
    },
    {
     "name": "stdout",
     "output_type": "stream",
     "text": [
      "Loading and preparing results...\n",
      "DONE (t=2.40s)\n",
      "creating index...\n",
      "index created!\n",
      "Running per image evaluation...\n",
      "Evaluate annotation type *bbox*\n",
      "DONE (t=10.92s).\n",
      "Accumulating evaluation results...\n",
      "DONE (t=3.25s).\n",
      "Average Precision  (AP) @[ IoU=0.50:0.95 | area=   all | maxDets=100 ] = 0.211\n",
      "Average Precision  (AP) @[ IoU=0.50      | area=   all | maxDets=1000 ] = 0.347\n",
      "Average Precision  (AP) @[ IoU=0.75      | area=   all | maxDets=1000 ] = 0.219\n",
      "Average Precision  (AP) @[ IoU=0.50:0.95 | area= small | maxDets=1000 ] = 0.028\n",
      "Average Precision  (AP) @[ IoU=0.50:0.95 | area=medium | maxDets=1000 ] = 0.172\n",
      "Average Precision  (AP) @[ IoU=0.50:0.95 | area= large | maxDets=1000 ] = 0.445\n",
      "Average Recall     (AR) @[ IoU=0.50:0.95 | area=   all | maxDets=100 ] = 0.392\n",
      "Average Recall     (AR) @[ IoU=0.50:0.95 | area=   all | maxDets=300 ] = 0.392\n",
      "Average Recall     (AR) @[ IoU=0.50:0.95 | area=   all | maxDets=1000 ] = 0.392\n",
      "Average Recall     (AR) @[ IoU=0.50:0.95 | area= small | maxDets=1000 ] = 0.124\n",
      "Average Recall     (AR) @[ IoU=0.50:0.95 | area=medium | maxDets=1000 ] = 0.374\n",
      "Average Recall     (AR) @[ IoU=0.50:0.95 | area= large | maxDets=1000 ] = 0.643\n"
     ]
    },
    {
     "name": "stderr",
     "output_type": "stream",
     "text": [
      "2021-05-19 09:19:25,210 - mmdet - INFO - Epoch(val) [35][288]\tbbox_mAP: 0.2110, bbox_mAP_50: 0.3470, bbox_mAP_75: 0.2190, bbox_mAP_s: 0.0280, bbox_mAP_m: 0.1720, bbox_mAP_l: 0.4450, bbox_mAP_copypaste: 0.211 0.347 0.219 0.028 0.172 0.445\n",
      "2021-05-19 09:19:37,731 - mmdet - INFO - Epoch [36][10/288]\tlr: 2.495e-05, eta: 0:04:35, time: 1.250, data_time: 0.258, memory: 7613, loss_cls: 0.3913, loss_bbox: 0.1661, loss_bbox_rf: 0.2095, loss: 0.7669, grad_norm: 8.6153\n",
      "2021-05-19 09:19:47,852 - mmdet - INFO - Epoch [36][20/288]\tlr: 2.491e-05, eta: 0:04:25, time: 1.012, data_time: 0.020, memory: 7613, loss_cls: 0.3998, loss_bbox: 0.1695, loss_bbox_rf: 0.2161, loss: 0.7855, grad_norm: 7.5853\n",
      "2021-05-19 09:19:57,977 - mmdet - INFO - Epoch [36][30/288]\tlr: 2.488e-05, eta: 0:04:15, time: 1.013, data_time: 0.019, memory: 7613, loss_cls: 0.3921, loss_bbox: 0.1696, loss_bbox_rf: 0.2123, loss: 0.7740, grad_norm: 8.2034\n",
      "2021-05-19 09:20:08,081 - mmdet - INFO - Epoch [36][40/288]\tlr: 2.484e-05, eta: 0:04:06, time: 1.010, data_time: 0.018, memory: 7613, loss_cls: 0.3912, loss_bbox: 0.1667, loss_bbox_rf: 0.2107, loss: 0.7687, grad_norm: 7.0529\n",
      "2021-05-19 09:20:18,162 - mmdet - INFO - Epoch [36][50/288]\tlr: 2.480e-05, eta: 0:03:56, time: 1.008, data_time: 0.018, memory: 7613, loss_cls: 0.3933, loss_bbox: 0.1671, loss_bbox_rf: 0.2120, loss: 0.7724, grad_norm: 8.7271\n",
      "2021-05-19 09:20:28,252 - mmdet - INFO - Epoch [36][60/288]\tlr: 2.476e-05, eta: 0:03:46, time: 1.009, data_time: 0.018, memory: 7613, loss_cls: 0.4004, loss_bbox: 0.1704, loss_bbox_rf: 0.2126, loss: 0.7834, grad_norm: 8.6315\n",
      "2021-05-19 09:20:38,374 - mmdet - INFO - Epoch [36][70/288]\tlr: 2.472e-05, eta: 0:03:36, time: 1.012, data_time: 0.018, memory: 7613, loss_cls: 0.3937, loss_bbox: 0.1669, loss_bbox_rf: 0.2114, loss: 0.7720, grad_norm: 8.6325\n",
      "2021-05-19 09:20:48,476 - mmdet - INFO - Epoch [36][80/288]\tlr: 2.468e-05, eta: 0:03:26, time: 1.010, data_time: 0.017, memory: 7613, loss_cls: 0.4061, loss_bbox: 0.1669, loss_bbox_rf: 0.2121, loss: 0.7851, grad_norm: 9.0656\n",
      "2021-05-19 09:20:58,597 - mmdet - INFO - Epoch [36][90/288]\tlr: 2.464e-05, eta: 0:03:16, time: 1.012, data_time: 0.019, memory: 7613, loss_cls: 0.3999, loss_bbox: 0.1799, loss_bbox_rf: 0.2266, loss: 0.8065, grad_norm: 9.0357\n",
      "2021-05-19 09:21:08,750 - mmdet - INFO - Epoch [36][100/288]\tlr: 2.460e-05, eta: 0:03:06, time: 1.015, data_time: 0.019, memory: 7613, loss_cls: 0.3987, loss_bbox: 0.1647, loss_bbox_rf: 0.2077, loss: 0.7711, grad_norm: 8.4228\n",
      "2021-05-19 09:21:18,846 - mmdet - INFO - Epoch [36][110/288]\tlr: 2.456e-05, eta: 0:02:56, time: 1.010, data_time: 0.017, memory: 7613, loss_cls: 0.3921, loss_bbox: 0.1637, loss_bbox_rf: 0.2066, loss: 0.7624, grad_norm: 7.5510\n",
      "2021-05-19 09:21:28,953 - mmdet - INFO - Epoch [36][120/288]\tlr: 2.453e-05, eta: 0:02:46, time: 1.011, data_time: 0.019, memory: 7613, loss_cls: 0.3942, loss_bbox: 0.1619, loss_bbox_rf: 0.2048, loss: 0.7609, grad_norm: 8.2168\n",
      "2021-05-19 09:21:39,112 - mmdet - INFO - Epoch [36][130/288]\tlr: 2.449e-05, eta: 0:02:36, time: 1.016, data_time: 0.019, memory: 7613, loss_cls: 0.4147, loss_bbox: 0.2059, loss_bbox_rf: 0.2622, loss: 0.8828, grad_norm: 8.3467\n",
      "2021-05-19 09:21:49,185 - mmdet - INFO - Epoch [36][140/288]\tlr: 2.445e-05, eta: 0:02:26, time: 1.007, data_time: 0.017, memory: 7613, loss_cls: 0.3846, loss_bbox: 0.1655, loss_bbox_rf: 0.2083, loss: 0.7584, grad_norm: 7.9184\n",
      "2021-05-19 09:21:59,284 - mmdet - INFO - Epoch [36][150/288]\tlr: 2.441e-05, eta: 0:02:16, time: 1.010, data_time: 0.018, memory: 7613, loss_cls: 0.4019, loss_bbox: 0.1787, loss_bbox_rf: 0.2254, loss: 0.8060, grad_norm: 7.4759\n",
      "2021-05-19 09:22:09,381 - mmdet - INFO - Epoch [36][160/288]\tlr: 2.437e-05, eta: 0:02:07, time: 1.010, data_time: 0.018, memory: 7613, loss_cls: 0.3801, loss_bbox: 0.1616, loss_bbox_rf: 0.2033, loss: 0.7449, grad_norm: 6.5407\n",
      "2021-05-19 09:22:19,478 - mmdet - INFO - Epoch [36][170/288]\tlr: 2.433e-05, eta: 0:01:57, time: 1.010, data_time: 0.019, memory: 7613, loss_cls: 0.3849, loss_bbox: 0.1686, loss_bbox_rf: 0.2125, loss: 0.7660, grad_norm: 7.9884\n",
      "2021-05-19 09:22:29,562 - mmdet - INFO - Epoch [36][180/288]\tlr: 2.429e-05, eta: 0:01:47, time: 1.008, data_time: 0.019, memory: 7613, loss_cls: 0.4018, loss_bbox: 0.1747, loss_bbox_rf: 0.2206, loss: 0.7971, grad_norm: 8.0541\n",
      "2021-05-19 09:22:39,646 - mmdet - INFO - Epoch [36][190/288]\tlr: 2.425e-05, eta: 0:01:37, time: 1.008, data_time: 0.019, memory: 7613, loss_cls: 0.3860, loss_bbox: 0.1667, loss_bbox_rf: 0.2116, loss: 0.7643, grad_norm: 8.2087\n",
      "2021-05-19 09:22:49,730 - mmdet - INFO - Epoch [36][200/288]\tlr: 2.421e-05, eta: 0:01:27, time: 1.008, data_time: 0.019, memory: 7613, loss_cls: 0.3803, loss_bbox: 0.1645, loss_bbox_rf: 0.2069, loss: 0.7517, grad_norm: 8.1198\n",
      "2021-05-19 09:22:59,776 - mmdet - INFO - Epoch [36][210/288]\tlr: 2.417e-05, eta: 0:01:17, time: 1.005, data_time: 0.018, memory: 7613, loss_cls: 0.3856, loss_bbox: 0.1746, loss_bbox_rf: 0.2212, loss: 0.7814, grad_norm: 9.0681\n",
      "2021-05-19 09:23:09,893 - mmdet - INFO - Epoch [36][220/288]\tlr: 2.413e-05, eta: 0:01:07, time: 1.012, data_time: 0.020, memory: 7613, loss_cls: 0.3912, loss_bbox: 0.1694, loss_bbox_rf: 0.2148, loss: 0.7753, grad_norm: 9.0723\n",
      "2021-05-19 09:23:20,023 - mmdet - INFO - Epoch [36][230/288]\tlr: 2.409e-05, eta: 0:00:57, time: 1.013, data_time: 0.019, memory: 7613, loss_cls: 0.3898, loss_bbox: 0.1756, loss_bbox_rf: 0.2221, loss: 0.7875, grad_norm: 8.5518\n",
      "2021-05-19 09:23:30,131 - mmdet - INFO - Epoch [36][240/288]\tlr: 2.404e-05, eta: 0:00:47, time: 1.011, data_time: 0.018, memory: 7613, loss_cls: 0.4068, loss_bbox: 0.1676, loss_bbox_rf: 0.2118, loss: 0.7862, grad_norm: 9.8568\n",
      "2021-05-19 09:23:40,241 - mmdet - INFO - Epoch [36][250/288]\tlr: 2.400e-05, eta: 0:00:37, time: 1.011, data_time: 0.018, memory: 7613, loss_cls: 0.3974, loss_bbox: 0.1729, loss_bbox_rf: 0.2173, loss: 0.7876, grad_norm: 10.2689\n",
      "2021-05-19 09:23:50,355 - mmdet - INFO - Epoch [36][260/288]\tlr: 2.396e-05, eta: 0:00:27, time: 1.011, data_time: 0.018, memory: 7613, loss_cls: 0.3924, loss_bbox: 0.1718, loss_bbox_rf: 0.2149, loss: 0.7791, grad_norm: 10.4251\n",
      "2021-05-19 09:24:00,458 - mmdet - INFO - Epoch [36][270/288]\tlr: 2.392e-05, eta: 0:00:17, time: 1.010, data_time: 0.019, memory: 7613, loss_cls: 0.3778, loss_bbox: 0.1575, loss_bbox_rf: 0.1971, loss: 0.7324, grad_norm: 8.8981\n",
      "2021-05-19 09:24:10,576 - mmdet - INFO - Epoch [36][280/288]\tlr: 2.388e-05, eta: 0:00:07, time: 1.012, data_time: 0.018, memory: 7613, loss_cls: 0.4005, loss_bbox: 0.1906, loss_bbox_rf: 0.2423, loss: 0.8334, grad_norm: 7.6050\n",
      "2021-05-19 09:24:18,745 - mmdet - INFO - Saving checkpoint at 36 epochs\n"
     ]
    },
    {
     "name": "stdout",
     "output_type": "stream",
     "text": [
      "[>>>>>>>>>>>>>>>>>>>>>>>>>>>>>>] 655/655, 7.7 task/s, elapsed: 85s, ETA:     0s"
     ]
    },
    {
     "name": "stderr",
     "output_type": "stream",
     "text": [
      "2021-05-19 09:25:47,957 - mmdet - INFO - Evaluating bbox...\n"
     ]
    },
    {
     "name": "stdout",
     "output_type": "stream",
     "text": [
      "Loading and preparing results...\n",
      "DONE (t=2.40s)\n",
      "creating index...\n",
      "index created!\n",
      "Running per image evaluation...\n",
      "Evaluate annotation type *bbox*\n",
      "DONE (t=10.98s).\n",
      "Accumulating evaluation results...\n",
      "DONE (t=3.31s).\n",
      "Average Precision  (AP) @[ IoU=0.50:0.95 | area=   all | maxDets=100 ] = 0.213\n",
      "Average Precision  (AP) @[ IoU=0.50      | area=   all | maxDets=1000 ] = 0.360\n",
      "Average Precision  (AP) @[ IoU=0.75      | area=   all | maxDets=1000 ] = 0.212\n",
      "Average Precision  (AP) @[ IoU=0.50:0.95 | area= small | maxDets=1000 ] = 0.027\n",
      "Average Precision  (AP) @[ IoU=0.50:0.95 | area=medium | maxDets=1000 ] = 0.181\n",
      "Average Precision  (AP) @[ IoU=0.50:0.95 | area= large | maxDets=1000 ] = 0.421\n",
      "Average Recall     (AR) @[ IoU=0.50:0.95 | area=   all | maxDets=100 ] = 0.389\n",
      "Average Recall     (AR) @[ IoU=0.50:0.95 | area=   all | maxDets=300 ] = 0.389\n",
      "Average Recall     (AR) @[ IoU=0.50:0.95 | area=   all | maxDets=1000 ] = 0.389\n",
      "Average Recall     (AR) @[ IoU=0.50:0.95 | area= small | maxDets=1000 ] = 0.116\n",
      "Average Recall     (AR) @[ IoU=0.50:0.95 | area=medium | maxDets=1000 ] = 0.371\n",
      "Average Recall     (AR) @[ IoU=0.50:0.95 | area= large | maxDets=1000 ] = 0.618\n"
     ]
    },
    {
     "name": "stderr",
     "output_type": "stream",
     "text": [
      "2021-05-19 09:26:04,933 - mmdet - INFO - Epoch(val) [36][288]\tbbox_mAP: 0.2130, bbox_mAP_50: 0.3600, bbox_mAP_75: 0.2120, bbox_mAP_s: 0.0270, bbox_mAP_m: 0.1810, bbox_mAP_l: 0.4210, bbox_mAP_copypaste: 0.213 0.360 0.212 0.027 0.181 0.421\n"
     ]
    },
    {
     "data": {
      "text/html": [
       "<br/>Waiting for W&B process to finish, PID 23568<br/>Program ended successfully."
      ],
      "text/plain": [
       "<IPython.core.display.HTML object>"
      ]
     },
     "metadata": {},
     "output_type": "display_data"
    },
    {
     "data": {
      "application/vnd.jupyter.widget-view+json": {
       "model_id": "",
       "version_major": 2,
       "version_minor": 0
      },
      "text/plain": [
       "VBox(children=(Label(value=' 0.00MB of 0.00MB uploaded (0.00MB deduped)\\r'), FloatProgress(value=1.0, max=1.0)…"
      ]
     },
     "metadata": {},
     "output_type": "display_data"
    },
    {
     "data": {
      "text/html": [
       "Find user logs for this run at: <code>/opt/ml/code/mmdetection_trash/wandb/run-20210519_052400-3v8faybj/logs/debug.log</code>"
      ],
      "text/plain": [
       "<IPython.core.display.HTML object>"
      ]
     },
     "metadata": {},
     "output_type": "display_data"
    },
    {
     "data": {
      "text/html": [
       "Find internal logs for this run at: <code>/opt/ml/code/mmdetection_trash/wandb/run-20210519_052400-3v8faybj/logs/debug-internal.log</code>"
      ],
      "text/plain": [
       "<IPython.core.display.HTML object>"
      ]
     },
     "metadata": {},
     "output_type": "display_data"
    },
    {
     "data": {
      "text/html": [
       "<h3>Run summary:</h3><br/><style>\n",
       "    table.wandb td:nth-child(1) { padding: 0 10px; text-align: right }\n",
       "    </style><table class=\"wandb\">\n",
       "<tr><td>train/loss_cls</td><td>0.40046</td></tr><tr><td>train/loss_bbox</td><td>0.19064</td></tr><tr><td>train/loss_bbox_rf</td><td>0.24228</td></tr><tr><td>train/loss</td><td>0.83338</td></tr><tr><td>train/grad_norm</td><td>7.60503</td></tr><tr><td>learning_rate</td><td>2e-05</td></tr><tr><td>momentum</td><td>0.9</td></tr><tr><td>_runtime</td><td>14524</td></tr><tr><td>_timestamp</td><td>1621416364</td></tr><tr><td>_step</td><td>10369</td></tr><tr><td>val/bbox_mAP</td><td>0.213</td></tr><tr><td>val/bbox_mAP_50</td><td>0.36</td></tr><tr><td>val/bbox_mAP_75</td><td>0.212</td></tr><tr><td>val/bbox_mAP_s</td><td>0.027</td></tr><tr><td>val/bbox_mAP_m</td><td>0.181</td></tr><tr><td>val/bbox_mAP_l</td><td>0.421</td></tr></table>"
      ],
      "text/plain": [
       "<IPython.core.display.HTML object>"
      ]
     },
     "metadata": {},
     "output_type": "display_data"
    },
    {
     "data": {
      "text/html": [
       "<h3>Run history:</h3><br/><style>\n",
       "    table.wandb td:nth-child(1) { padding: 0 10px; text-align: right }\n",
       "    </style><table class=\"wandb\">\n",
       "<tr><td>train/loss_cls</td><td>██▇████▇▇▆▆▅▅▅▄▄▄▄▃▃▃▂▂▂▂▁▂▂▁▁▄▃▃▂▂▂▂▂▂▂</td></tr><tr><td>train/loss_bbox</td><td>█▆▅▅▅▄▄▃▃▃▃▃▂▃▃▃▂▂▂▂▂▂▂▁▁▁▁▁▁▁▂▂▂▂▂▂▂▂▁▂</td></tr><tr><td>train/loss_bbox_rf</td><td>█▆▅▅▄▄▄▃▃▃▃▃▂▃▃▂▂▂▂▂▂▂▁▁▁▁▁▁▁▁▂▂▂▂▂▂▂▂▁▂</td></tr><tr><td>train/loss</td><td>█▆▆▆▅▅▅▄▄▄▄▃▃▃▃▃▃▃▂▂▂▂▂▂▂▁▁▁▁▁▂▂▂▂▂▂▂▂▂▂</td></tr><tr><td>train/grad_norm</td><td>▄▅▅▅▄▄▄▄▄▃▃▂▃▃▃▄▃▃▂▂▂▂▃▃▂▂▂▂▁▁█▄▄▄▆▄▃▂▃▃</td></tr><tr><td>learning_rate</td><td>▂▃▆▇███▇▇▇▆▆▆▅▅▅▄▄▃▃▃▂▂▂▂▁▁▁▁▁▆▆▆▆▆▆▆▅▅▅</td></tr><tr><td>momentum</td><td>▁▁▁▁▁▁▁▁▁▁▁▁▁▁▁▁▁▁▁▁▁▁▁▁▁▁▁▁▁▁▁▁▁▁▁▁▁▁▁▁</td></tr><tr><td>_runtime</td><td>▁▁▁▁▂▂▂▂▂▃▃▃▃▃▃▄▄▄▄▄▅▅▅▅▅▆▆▆▆▆▆▇▇▇▇▇▇███</td></tr><tr><td>_timestamp</td><td>▁▁▁▁▂▂▂▂▂▃▃▃▃▃▃▄▄▄▄▄▅▅▅▅▅▆▆▆▆▆▆▇▇▇▇▇▇███</td></tr><tr><td>_step</td><td>▁▁▁▁▂▂▂▂▂▃▃▃▃▃▃▄▄▄▄▄▄▅▅▅▅▅▆▆▆▆▆▆▇▇▇▇▇███</td></tr><tr><td>val/bbox_mAP</td><td>▁▂▃▄▅▅▆▆▇▇█▇████████▇████▇▇▆▇▇█▇▇███</td></tr><tr><td>val/bbox_mAP_50</td><td>▁▃▃▄▅▆▅▆▆▇█▇▇██████████████▆▇▇▇▇▇▇██</td></tr><tr><td>val/bbox_mAP_75</td><td>▁▂▃▄▅▅▅▆▆▇▇▇▇███████▇█▇██▇▇▆▇▇█▇▇█▇▇</td></tr><tr><td>val/bbox_mAP_s</td><td>▁▃▄▄▆▇█▆▆▇▆▅▆▅▆▆▅▅▅▆▆▅▅▅▅▅▄▅▄▄▅▄▄▅▅▅</td></tr><tr><td>val/bbox_mAP_m</td><td>▁▃▅▆▅▇▆▇█▇█▇▇█▇▇█▇▇█▇▇▇▇▇▇▇▆▇▇▇▇▇▇▇▇</td></tr><tr><td>val/bbox_mAP_l</td><td>▁▂▃▄▄▅▅▆▆▆▇▇▇▇█████▇▇▇▇█▇▇▇▇▇▇█▇███▇</td></tr></table><br/>"
      ],
      "text/plain": [
       "<IPython.core.display.HTML object>"
      ]
     },
     "metadata": {},
     "output_type": "display_data"
    },
    {
     "data": {
      "text/html": [
       "Synced 5 W&B file(s), 0 media file(s), 0 artifact file(s) and 0 other file(s)"
      ],
      "text/plain": [
       "<IPython.core.display.HTML object>"
      ]
     },
     "metadata": {},
     "output_type": "display_data"
    },
    {
     "data": {
      "text/html": [
       "\n",
       "                    <br/>Synced <strong style=\"color:#cdcd00\">resnen101_vfnet</strong>: <a href=\"https://wandb.ai/seong0905/P-stage3-detection/runs/3v8faybj\" target=\"_blank\">https://wandb.ai/seong0905/P-stage3-detection/runs/3v8faybj</a><br/>\n",
       "                "
      ],
      "text/plain": [
       "<IPython.core.display.HTML object>"
      ]
     },
     "metadata": {},
     "output_type": "display_data"
    }
   ],
   "source": [
    "train_detector(model, datasets[0], cfg, distributed=False, validate=True)"
   ]
  },
  {
   "cell_type": "code",
   "execution_count": null,
   "metadata": {},
   "outputs": [],
   "source": []
  },
  {
   "cell_type": "code",
   "execution_count": null,
   "metadata": {},
   "outputs": [],
   "source": []
  },
  {
   "cell_type": "code",
   "execution_count": null,
   "metadata": {},
   "outputs": [],
   "source": []
  },
  {
   "cell_type": "code",
   "execution_count": null,
   "metadata": {},
   "outputs": [],
   "source": []
  }
 ],
 "metadata": {
  "kernelspec": {
   "display_name": "Python 3",
   "language": "python",
   "name": "python3"
  },
  "language_info": {
   "codemirror_mode": {
    "name": "ipython",
    "version": 3
   },
   "file_extension": ".py",
   "mimetype": "text/x-python",
   "name": "python",
   "nbconvert_exporter": "python",
   "pygments_lexer": "ipython3",
   "version": "3.7.7"
  },
  "pycharm": {
   "stem_cell": {
    "cell_type": "raw",
    "metadata": {
     "collapsed": false
    },
    "source": []
   }
  }
 },
 "nbformat": 4,
 "nbformat_minor": 4
}
